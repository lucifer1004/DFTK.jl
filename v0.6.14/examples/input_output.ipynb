{
 "cells": [
  {
   "cell_type": "markdown",
   "source": [
    "# Input and output formats"
   ],
   "metadata": {}
  },
  {
   "cell_type": "markdown",
   "source": [
    "This section provides an overview of the input and output formats\n",
    "supported by DFTK, usually via integration with a third-party library.\n",
    "\n",
    "## Reading / writing files supported by AtomsIO\n",
    "[AtomsIO](https://github.com/mfherbst/AtomsIO.jl) is a Julia package which supports\n",
    "reading / writing atomistic structures from / to a large range of file formats.\n",
    "Supported formats include Crystallographic Information Framework (CIF),\n",
    "XYZ and extxyz files, ASE / Gromacs / LAMMPS / Amber trajectory files\n",
    "or input files of various other codes (e.g. Quantum Espresso, VASP, ABINIT, CASTEP, …).\n",
    "The full list of formats is is available in the\n",
    "[AtomsIO documentation](https://mfherbst.github.io/AtomsIO.jl/stable).\n",
    "\n",
    "The AtomsIO functionality is split into two packages. The main package, `AtomsIO` itself,\n",
    "only depends on packages, which are registered in the Julia General package registry.\n",
    "In contrast `AtomsIOPython` extends `AtomsIO` by parsers depending on python packages,\n",
    "which are automatically managed via `PythonCall`. While it thus provides the full set of\n",
    "supported IO formats, this also adds additional practical complications, so some users\n",
    "may choose not to use `AtomsIOPython`.\n",
    "\n",
    "As an example we start the calculation of a simple antiferromagnetic iron crystal\n",
    "using a Quantum-Espresso input file, [Fe_afm.pwi](Fe_afm.pwi).\n",
    "For more details about calculations on magnetic systems\n",
    "using collinear spin, see Collinear spin and magnetic systems.\n",
    "\n",
    "First we parse the Quantum Espresso input file using AtomsIO,\n",
    "which reads the lattice, atomic positions and initial magnetisation\n",
    "from the input file and returns it as an\n",
    "[AtomsBase](https://github.com/JuliaMolSim/AtomsBase.jl) `AbstractSystem`,\n",
    "the JuliaMolSim community standard for representing atomic systems."
   ],
   "metadata": {}
  },
  {
   "outputs": [
    {
     "output_type": "execute_result",
     "data": {
      "text/plain": "FlexibleSystem(Fe₂, periodic = TTT):\n    bounding_box      : [ 2.86814        0        0;\n                                0  2.86814        0;\n                                0        0  2.86814]u\"Å\"\n\n    Atom(Fe, [       0,        0,        0]u\"Å\")\n    Atom(Fe, [ 1.43407,  1.43407,        0]u\"Å\")\n\n      .------.  \n     /|      |  \n    * |      |  \n    | |      |  \n    | .------.  \n    |/  Fe  /   \n    Fe-----*    \n"
     },
     "metadata": {},
     "execution_count": 1
    }
   ],
   "cell_type": "code",
   "source": [
    "using AtomsIO        # Use Julia-only IO parsers\n",
    "using AtomsIOPython  # Use python-based IO parsers (e.g. ASE)\n",
    "system = load_system(\"Fe_afm.pwi\")"
   ],
   "metadata": {},
   "execution_count": 1
  },
  {
   "cell_type": "markdown",
   "source": [
    "Next we attach pseudopotential information, since currently the parser is not\n",
    "yet capable to read this information from the file."
   ],
   "metadata": {}
  },
  {
   "outputs": [
    {
     "output_type": "execute_result",
     "data": {
      "text/plain": "FlexibleSystem(Fe₂, periodic = TTT):\n    bounding_box      : [ 2.86814        0        0;\n                                0  2.86814        0;\n                                0        0  2.86814]u\"Å\"\n\n    Atom(Fe, [       0,        0,        0]u\"Å\")\n    Atom(Fe, [ 1.43407,  1.43407,        0]u\"Å\")\n\n      .------.  \n     /|      |  \n    * |      |  \n    | |      |  \n    | .------.  \n    |/  Fe  /   \n    Fe-----*    \n"
     },
     "metadata": {},
     "execution_count": 2
    }
   ],
   "cell_type": "code",
   "source": [
    "using DFTK\n",
    "system = attach_psp(system, Fe=\"hgh/pbe/fe-q16.hgh\")"
   ],
   "metadata": {},
   "execution_count": 2
  },
  {
   "cell_type": "markdown",
   "source": [
    "Finally we make use of DFTK's AtomsBase integration to run the calculation."
   ],
   "metadata": {}
  },
  {
   "outputs": [
    {
     "name": "stdout",
     "output_type": "stream",
     "text": [
      "n     Energy            log10(ΔE)   log10(Δρ)   Magnet   Diag   Δtime\n",
      "---   ---------------   ---------   ---------   ------   ----   ------\n",
      "  1   -223.7492589522                    0.22   -6.321    5.4         \n",
      "  2   -224.1604482144       -0.39       -0.21   -3.326    1.7    188ms\n",
      "  3   -224.2175795803       -1.24       -1.05   -1.616    3.2    305ms\n",
      "  4   -224.2198729712       -2.64       -1.46   -1.193    1.2    180ms\n",
      "  5   -224.2207937207       -3.04       -1.72   -0.823    1.0    172ms\n",
      "  6   -224.2212131738       -3.38       -2.00   -0.485    1.5    177ms\n",
      "  7   -224.2213738572       -3.79       -2.35   -0.228    1.2    172ms\n",
      "  8   -224.2214154982       -4.38       -2.88   -0.076    1.9    190ms\n",
      "  9   -224.2214205566       -5.30       -3.55   -0.007    2.8    258ms\n",
      " 10   -224.2214206893       -6.88       -3.81    0.001    3.6    281ms\n",
      " 11   -224.2214207094       -7.70       -4.03   -0.001    2.2    204ms\n",
      " 12   -224.2214207176       -8.09       -4.38   -0.000    1.5    188ms\n",
      " 13   -224.2214207186       -8.98       -4.89    0.000    2.2    218ms\n",
      " 14   -224.2214207187      -10.08       -5.35    0.000    2.2    211ms\n",
      " 15   -224.2214207187      -10.90       -5.81   -0.000    2.3    231ms\n",
      " 16   -224.2214207187      -12.47       -6.11   -0.000    2.2    238ms\n"
     ]
    }
   ],
   "cell_type": "code",
   "source": [
    "model = model_LDA(system; temperature=0.01)\n",
    "basis = PlaneWaveBasis(model; Ecut=10, kgrid=(2, 2, 2))\n",
    "ρ0 = guess_density(basis, system)\n",
    "scfres = self_consistent_field(basis, ρ=ρ0);"
   ],
   "metadata": {},
   "execution_count": 3
  },
  {
   "cell_type": "markdown",
   "source": [
    "## Writing VTK files for visualization\n",
    "For visualizing the density or the Kohn-Sham orbitals DFTK supports storing\n",
    "the result of an SCF calculations in the form of VTK files.\n",
    "These can afterwards be visualized using tools such\n",
    "as [paraview](https://www.paraview.org/).\n",
    "Using this feature requires\n",
    "the [WriteVTK.jl](https://github.com/jipolanco/WriteVTK.jl/) Julia package."
   ],
   "metadata": {}
  },
  {
   "outputs": [],
   "cell_type": "code",
   "source": [
    "using WriteVTK\n",
    "save_scfres(\"iron_afm.vts\", scfres; save_ψ=true);"
   ],
   "metadata": {},
   "execution_count": 4
  },
  {
   "cell_type": "markdown",
   "source": [
    "This will save the iron calculation above into the file `iron_afm.vts`,\n",
    "using `save_ψ=true` to also include the KS orbitals."
   ],
   "metadata": {}
  },
  {
   "cell_type": "markdown",
   "source": [
    "## Parsable data-export using json\n",
    "Many structures in DFTK support the (unexported) `todict` function,\n",
    "which returns a simplified dictionary representation of the data."
   ],
   "metadata": {}
  },
  {
   "outputs": [
    {
     "output_type": "execute_result",
     "data": {
      "text/plain": "Dict{String, Float64} with 9 entries:\n  \"AtomicNonlocal\" => -4.34593\n  \"PspCorrection\"  => 7.03001\n  \"Ewald\"          => -161.527\n  \"total\"          => -224.221\n  \"Entropy\"        => -0.0306478\n  \"Kinetic\"        => 75.6631\n  \"AtomicLocal\"    => -161.128\n  \"Hartree\"        => 41.397\n  \"Xc\"             => -21.2803"
     },
     "metadata": {},
     "execution_count": 5
    }
   ],
   "cell_type": "code",
   "source": [
    "DFTK.todict(scfres.energies)"
   ],
   "metadata": {},
   "execution_count": 5
  },
  {
   "cell_type": "markdown",
   "source": [
    "This in turn can be easily written to disk using a JSON library.\n",
    "Currently we integrate most closely with `JSON3`,\n",
    "which is thus recommended."
   ],
   "metadata": {}
  },
  {
   "outputs": [
    {
     "name": "stdout",
     "output_type": "stream",
     "text": [
      "{\n",
      "    \"AtomicNonlocal\": -4.345930972804384,\n",
      "    \"PspCorrection\": 7.03000636467455,\n",
      "    \"Ewald\": -161.52650757200072,\n",
      "    \"total\": -224.2214207187346,\n",
      "    \"Entropy\": -0.03064782040043061,\n",
      "    \"Kinetic\": 75.6630509925363,\n",
      "    \"AtomicLocal\": -161.12811101126374,\n",
      "    \"Hartree\": 41.3970079440229,\n",
      "    \"Xc\": -21.280288643499098\n",
      "}\n"
     ]
    }
   ],
   "cell_type": "code",
   "source": [
    "using JSON3\n",
    "open(\"iron_afm_energies.json\", \"w\") do io\n",
    "    JSON3.pretty(io, DFTK.todict(scfres.energies))\n",
    "end\n",
    "println(read(\"iron_afm_energies.json\", String))"
   ],
   "metadata": {},
   "execution_count": 6
  },
  {
   "cell_type": "markdown",
   "source": [
    "Once JSON3 is loaded, additionally a convenience function for saving\n",
    "a parsable summary of `scfres` objects using `save_scfres` is available:"
   ],
   "metadata": {}
  },
  {
   "outputs": [],
   "cell_type": "code",
   "source": [
    "using JSON3\n",
    "save_scfres(\"iron_afm.json\", scfres)"
   ],
   "metadata": {},
   "execution_count": 7
  },
  {
   "cell_type": "markdown",
   "source": [
    "## Writing and reading JLD2 files\n",
    "The full state of a DFTK self-consistent field calculation can be\n",
    "stored on disk in form of an [JLD2.jl](https://github.com/JuliaIO/JLD2.jl) file.\n",
    "This file can be read from other Julia scripts\n",
    "as well as other external codes supporting the HDF5 file format\n",
    "(since the JLD2 format is based on HDF5)."
   ],
   "metadata": {}
  },
  {
   "outputs": [],
   "cell_type": "code",
   "source": [
    "using JLD2\n",
    "save_scfres(\"iron_afm.jld2\", scfres);"
   ],
   "metadata": {},
   "execution_count": 8
  },
  {
   "cell_type": "markdown",
   "source": [
    "Since such JLD2 can also be read by DFTK to start or continue a calculation,\n",
    "these can also be used for checkpointing or for transferring results\n",
    "to a different computer.\n",
    "See Saving SCF results on disk and SCF checkpoints for details."
   ],
   "metadata": {}
  },
  {
   "cell_type": "markdown",
   "source": [
    "(Cleanup files generated by this notebook.)"
   ],
   "metadata": {}
  },
  {
   "outputs": [],
   "cell_type": "code",
   "source": [
    "rm(\"iron_afm.vts\")\n",
    "rm(\"iron_afm.jld2\")\n",
    "rm(\"iron_afm_energies.json\")"
   ],
   "metadata": {},
   "execution_count": 9
  }
 ],
 "nbformat_minor": 3,
 "metadata": {
  "language_info": {
   "file_extension": ".jl",
   "mimetype": "application/julia",
   "name": "julia",
   "version": "1.9.4"
  },
  "kernelspec": {
   "name": "julia-1.9",
   "display_name": "Julia 1.9.4",
   "language": "julia"
  }
 },
 "nbformat": 4
}
