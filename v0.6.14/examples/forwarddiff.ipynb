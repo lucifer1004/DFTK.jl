{
 "cells": [
  {
   "cell_type": "markdown",
   "source": [
    "# Polarizability using automatic differentiation\n",
    "\n",
    "Simple example for computing properties using (forward-mode)\n",
    "automatic differentiation.\n",
    "For a more classical approach and more details about computing polarizabilities,\n",
    "see Polarizability by linear response."
   ],
   "metadata": {}
  },
  {
   "outputs": [],
   "cell_type": "code",
   "source": [
    "using DFTK\n",
    "using LinearAlgebra\n",
    "using ForwardDiff\n",
    "\n",
    "# Construct PlaneWaveBasis given a particular electric field strength\n",
    "# Again we take the example of a Helium atom.\n",
    "function make_basis(ε::T; a=10., Ecut=30) where {T}\n",
    "    lattice=T(a) * I(3)  # lattice is a cube of $a$ Bohrs\n",
    "    # Helium at the center of the box\n",
    "    atoms     = [ElementPsp(:He; psp=load_psp(\"hgh/lda/He-q2\"))]\n",
    "    positions = [[1/2, 1/2, 1/2]]\n",
    "\n",
    "    model = model_DFT(lattice, atoms, positions, [:lda_x, :lda_c_vwn];\n",
    "                      extra_terms=[ExternalFromReal(r -> -ε * (r[1] - a/2))],\n",
    "                      symmetries=false)\n",
    "    PlaneWaveBasis(model; Ecut, kgrid=[1, 1, 1])  # No k-point sampling on isolated system\n",
    "end\n",
    "\n",
    "# dipole moment of a given density (assuming the current geometry)\n",
    "function dipole(basis, ρ)\n",
    "    @assert isdiag(basis.model.lattice)\n",
    "    a  = basis.model.lattice[1, 1]\n",
    "    rr = [a * (r[1] - 1/2) for r in r_vectors(basis)]\n",
    "    sum(rr .* ρ) * basis.dvol\n",
    "end\n",
    "\n",
    "# Function to compute the dipole for a given field strength\n",
    "function compute_dipole(ε; tol=1e-8, kwargs...)\n",
    "    scfres = self_consistent_field(make_basis(ε; kwargs...); tol)\n",
    "    dipole(scfres.basis, scfres.ρ)\n",
    "end;"
   ],
   "metadata": {},
   "execution_count": 1
  },
  {
   "cell_type": "markdown",
   "source": [
    "With this in place we can compute the polarizability from finite differences\n",
    "(just like in the previous example):"
   ],
   "metadata": {}
  },
  {
   "outputs": [
    {
     "name": "stdout",
     "output_type": "stream",
     "text": [
      "n     Energy            log10(ΔE)   log10(Δρ)   Diag   Δtime\n",
      "---   ---------------   ---------   ---------   ----   ------\n",
      "  1   -2.770780502491                   -0.53    8.0         \n",
      "  2   -2.772128630957       -2.87       -1.30    1.0    127ms\n",
      "  3   -2.772168970720       -4.39       -2.72    1.0    105ms\n",
      "  4   -2.772170706299       -5.76       -3.48    2.0    139ms\n",
      "  5   -2.772170719944       -7.87       -3.78    1.0    109ms\n",
      "  6   -2.772170722720       -8.56       -4.56    1.0    110ms\n",
      "  7   -2.772170722987       -9.57       -4.80    2.0    140ms\n",
      "  8   -2.772170723014      -10.57       -5.89    1.0    114ms\n",
      "  9   -2.772170723015      -12.23       -6.21    2.0    145ms\n",
      " 10   -2.772170723015   +    -Inf       -6.20    1.0    122ms\n",
      " 11   -2.772170723015      -13.39       -6.39    1.0    122ms\n",
      " 12   -2.772170723015   +  -12.78       -5.94    2.0    147ms\n",
      " 13   -2.772170723015      -12.91       -6.20    1.0    123ms\n",
      " 14   -2.772170723015      -13.34       -7.25    1.0    126ms\n",
      " 15   -2.772170723015      -14.40       -7.62    1.0    127ms\n",
      " 16   -2.772170723015      -14.75       -8.33    2.0    134ms\n",
      "n     Energy            log10(ΔE)   log10(Δρ)   Diag   Δtime\n",
      "---   ---------------   ---------   ---------   ----   ------\n",
      "  1   -2.770659606228                   -0.53    8.0         \n",
      "  2   -2.772048787566       -2.86       -1.30    1.0    104ms\n",
      "  3   -2.772082468762       -4.47       -2.69    1.0    105ms\n",
      "  4   -2.772083412610       -6.03       -3.75    2.0    134ms\n",
      "  5   -2.772083417075       -8.35       -4.12    2.0    122ms\n",
      "  6   -2.772083417790       -9.15       -5.35    1.0    122ms\n",
      "  7   -2.772083417810      -10.70       -5.64    2.0    125ms\n",
      "  8   -2.772083417811      -12.17       -6.37    1.0    127ms\n",
      "  9   -2.772083417811      -13.52       -7.09    2.0    130ms\n",
      " 10   -2.772083417811      -14.40       -7.43    1.0    123ms\n",
      " 11   -2.772083417811      -15.35       -8.67    1.0    113ms\n"
     ]
    },
    {
     "output_type": "execute_result",
     "data": {
      "text/plain": "1.7735581157003615"
     },
     "metadata": {},
     "execution_count": 2
    }
   ],
   "cell_type": "code",
   "source": [
    "polarizability_fd = let\n",
    "    ε = 0.01\n",
    "    (compute_dipole(ε) - compute_dipole(0.0)) / ε\n",
    "end"
   ],
   "metadata": {},
   "execution_count": 2
  },
  {
   "cell_type": "markdown",
   "source": [
    "We do the same thing using automatic differentiation. Under the hood this uses\n",
    "custom rules to implicitly differentiate through the self-consistent\n",
    "field fixed-point problem."
   ],
   "metadata": {}
  },
  {
   "outputs": [
    {
     "name": "stdout",
     "output_type": "stream",
     "text": [
      "n     Energy            log10(ΔE)   log10(Δρ)   Diag   Δtime\n",
      "---   ---------------   ---------   ---------   ----   ------\n",
      "  1   -2.770786330760                   -0.52    8.0         \n",
      "  2   -2.772055701052       -2.90       -1.32    1.0    104ms\n",
      "  3   -2.772082914057       -4.57       -2.51    1.0    135ms\n",
      "  4   -2.772083346739       -6.36       -3.31    1.0    106ms\n",
      "  5   -2.772083415349       -7.16       -3.82    2.0    123ms\n",
      "  6   -2.772083417727       -8.62       -4.96    1.0    132ms\n",
      "  7   -2.772083417807      -10.10       -5.24    2.0    125ms\n",
      "  8   -2.772083417810      -11.47       -6.35    1.0    116ms\n",
      "  9   -2.772083417811      -12.86       -6.74    2.0    135ms\n",
      " 10   -2.772083417811      -14.57       -7.71    1.0    132ms\n",
      " 11   -2.772083417811      -14.31       -8.17    2.0    132ms\n",
      "\n",
      "Polarizability via ForwardDiff:       1.772534968445816\n",
      "Polarizability via finite difference: 1.7735581157003615\n"
     ]
    }
   ],
   "cell_type": "code",
   "source": [
    "polarizability = ForwardDiff.derivative(compute_dipole, 0.0)\n",
    "println()\n",
    "println(\"Polarizability via ForwardDiff:       $polarizability\")\n",
    "println(\"Polarizability via finite difference: $polarizability_fd\")"
   ],
   "metadata": {},
   "execution_count": 3
  }
 ],
 "nbformat_minor": 3,
 "metadata": {
  "language_info": {
   "file_extension": ".jl",
   "mimetype": "application/julia",
   "name": "julia",
   "version": "1.9.4"
  },
  "kernelspec": {
   "name": "julia-1.9",
   "display_name": "Julia 1.9.4",
   "language": "julia"
  }
 },
 "nbformat": 4
}
