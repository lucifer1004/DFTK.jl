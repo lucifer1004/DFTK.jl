{
 "cells": [
  {
   "cell_type": "markdown",
   "source": [
    "# Eigenvalues of the dielectric matrix\n",
    "\n",
    "We compute a few eigenvalues of the dielectric matrix ($q=0$, $ω=0$) iteratively."
   ],
   "metadata": {}
  },
  {
   "outputs": [
    {
     "name": "stdout",
     "output_type": "stream",
     "text": [
      "n     Energy            log10(ΔE)   log10(Δρ)   Diag   Δtime\n",
      "---   ---------------   ---------   ---------   ----   ------\n",
      "  1   -7.234306444037                   -0.50    8.0         \n",
      "  2   -7.250285428365       -1.80       -1.40    1.0   5.22ms\n",
      "  3   -7.250981314898       -3.16       -1.94    1.0   5.26ms\n",
      "  4   -7.250909365897   +   -4.14       -1.85    2.0   6.51ms\n",
      "  5   -7.251335126878       -3.37       -2.75    1.0   5.36ms\n",
      "  6   -7.251337889569       -5.56       -3.12    2.0   6.29ms\n",
      "  7   -7.251338723075       -6.08       -3.53    2.0   6.60ms\n",
      "  8   -7.251338783710       -7.22       -3.96    1.0   5.56ms\n",
      "  9   -7.251338797170       -7.87       -4.52    1.0   5.65ms\n",
      " 10   -7.251338798474       -8.88       -4.85    2.0   6.78ms\n",
      " 11   -7.251338798683       -9.68       -5.50    1.0   5.59ms\n",
      " 12   -7.251338798692      -11.02       -5.45    3.0   7.97ms\n",
      " 13   -7.251338798703      -10.95       -6.12    1.0   5.56ms\n",
      " 14   -7.251338798704      -11.94       -6.43    3.0   7.86ms\n",
      " 15   -7.251338798705      -13.12       -6.73    1.0   5.47ms\n",
      " 16   -7.251338798705      -13.50       -7.30    2.0   6.76ms\n",
      " 17   -7.251338798705      -14.21       -7.87    2.0   6.51ms\n",
      " 18   -7.251338798705   +  -14.57       -8.31    2.0   44.3ms\n"
     ]
    }
   ],
   "cell_type": "code",
   "source": [
    "using DFTK\n",
    "using Plots\n",
    "using KrylovKit\n",
    "using Printf\n",
    "\n",
    "# Calculation parameters\n",
    "kgrid = [1, 1, 1]\n",
    "Ecut = 5\n",
    "\n",
    "# Silicon lattice\n",
    "a = 10.26\n",
    "lattice = a / 2 .* [[0 1 1.]; [1 0 1.]; [1 1 0.]]\n",
    "Si = ElementPsp(:Si; psp=load_psp(\"hgh/lda/Si-q4\"))\n",
    "atoms     = [Si, Si]\n",
    "positions = [ones(3)/8, -ones(3)/8]\n",
    "\n",
    "# Compute the dielectric operator without symmetries\n",
    "model  = model_LDA(lattice, atoms, positions, symmetries=false)\n",
    "basis  = PlaneWaveBasis(model; Ecut, kgrid)\n",
    "scfres = self_consistent_field(basis, tol=1e-8);"
   ],
   "metadata": {},
   "execution_count": 1
  },
  {
   "cell_type": "markdown",
   "source": [
    "Applying $ε^† ≔ (1- χ_0 K)$ …"
   ],
   "metadata": {}
  },
  {
   "outputs": [],
   "cell_type": "code",
   "source": [
    "function eps_fun(δρ)\n",
    "    δV = apply_kernel(basis, δρ; ρ=scfres.ρ)\n",
    "    χ0δV = apply_χ0(scfres, δV)\n",
    "    δρ - χ0δV\n",
    "end;"
   ],
   "metadata": {},
   "execution_count": 2
  },
  {
   "cell_type": "markdown",
   "source": [
    "… eagerly diagonalizes the subspace matrix at each iteration"
   ],
   "metadata": {}
  },
  {
   "outputs": [
    {
     "name": "stdout",
     "output_type": "stream",
     "text": [
      "[ Info: Arnoldi iteration step 1: normres = 0.06437802744917334\n",
      "[ Info: Arnoldi iteration step 2: normres = 0.502556300046487\n",
      "[ Info: Arnoldi iteration step 3: normres = 0.9247267521698954\n",
      "[ Info: Arnoldi iteration step 4: normres = 0.2520127946991819\n",
      "[ Info: Arnoldi iteration step 5: normres = 0.4725000003114789\n",
      "[ Info: Arnoldi schursolve in iter 1, krylovdim = 5: 0 values converged, normres = (2.78e-02, 5.28e-02, 3.94e-01, 2.53e-01, 2.02e-02)\n",
      "[ Info: Arnoldi iteration step 6: normres = 0.3257270154858286\n",
      "[ Info: Arnoldi schursolve in iter 1, krylovdim = 6: 0 values converged, normres = (8.22e-03, 2.53e-01, 1.51e-01, 1.08e-01, 5.85e-02)\n",
      "[ Info: Arnoldi iteration step 7: normres = 0.07854270611236563\n",
      "[ Info: Arnoldi schursolve in iter 1, krylovdim = 7: 0 values converged, normres = (3.19e-04, 1.75e-02, 7.55e-03, 3.93e-02, 5.89e-02)\n",
      "[ Info: Arnoldi iteration step 8: normres = 0.11118080897767185\n",
      "[ Info: Arnoldi schursolve in iter 1, krylovdim = 8: 0 values converged, normres = (1.54e-05, 1.40e-03, 6.61e-04, 1.48e-02, 4.63e-02)\n",
      "[ Info: Arnoldi iteration step 9: normres = 0.0843124175853463\n",
      "[ Info: Arnoldi schursolve in iter 1, krylovdim = 9: 0 values converged, normres = (5.68e-07, 8.57e-05, 4.51e-05, 4.86e-03, 4.06e-02)\n",
      "[ Info: Arnoldi iteration step 10: normres = 0.08422451969988792\n",
      "[ Info: Arnoldi schursolve in iter 1, krylovdim = 10: 0 values converged, normres = (2.08e-08, 5.18e-06, 3.03e-06, 1.41e-03, 2.60e-02)\n",
      "[ Info: Arnoldi iteration step 11: normres = 0.0762833610256652\n",
      "[ Info: Arnoldi schursolve in iter 1, krylovdim = 11: 0 values converged, normres = (6.87e-10, 2.83e-07, 1.84e-07, 3.75e-04, 1.61e-02)\n",
      "[ Info: Arnoldi iteration step 12: normres = 0.07855293603116144\n",
      "[ Info: Arnoldi schursolve in iter 1, krylovdim = 12: 0 values converged, normres = (2.29e-11, 1.53e-08, 1.10e-08, 8.53e-05, 6.90e-03)\n",
      "[ Info: Arnoldi iteration step 13: normres = 0.09038859364981303\n",
      "[ Info: Arnoldi schursolve in iter 1, krylovdim = 13: 1 values converged, normres = (8.83e-13, 9.66e-10, 7.70e-10, 2.31e-05, 3.62e-03)\n",
      "[ Info: Arnoldi iteration step 14: normres = 0.46072803983103444\n",
      "[ Info: Arnoldi schursolve in iter 1, krylovdim = 14: 1 values converged, normres = (3.40e-13, 1.54e-09, 2.40e-09, 4.58e-01, 3.35e-04)\n",
      "[ Info: Arnoldi iteration step 15: normres = 0.09000584345253236\n",
      "[ Info: Arnoldi schursolve in iter 1, krylovdim = 15: 1 values converged, normres = (1.45e-14, 1.97e-10, 3.14e-02, 3.95e-04, 5.01e-06)\n",
      "[ Info: Arnoldi iteration step 16: normres = 0.430847786385902\n",
      "[ Info: Arnoldi schursolve in iter 1, krylovdim = 16: 1 values converged, normres = (5.84e-15, 5.55e-10, 2.05e-01, 9.77e-03, 3.79e-01)\n",
      "[ Info: Arnoldi iteration step 17: normres = 0.030845576567805982\n",
      "[ Info: Arnoldi schursolve in iter 1, krylovdim = 17: 1 values converged, normres = (8.79e-17, 4.49e-03, 8.06e-03, 2.08e-03, 7.66e-04)\n",
      "[ Info: Arnoldi iteration step 18: normres = 0.020669870035070363\n",
      "[ Info: Arnoldi schursolve in iter 1, krylovdim = 18: 1 values converged, normres = (7.49e-19, 5.11e-05, 1.15e-04, 1.93e-06, 3.38e-05)\n",
      "[ Info: Arnoldi iteration step 19: normres = 0.12311448899543843\n",
      "[ Info: Arnoldi schursolve in iter 1, krylovdim = 19: 1 values converged, normres = (3.88e-20, 1.56e-08, 1.05e-05, 8.44e-08, 3.13e-06)\n",
      "[ Info: Arnoldi iteration step 20: normres = 0.11594766580382937\n",
      "[ Info: Arnoldi schursolve in iter 1, krylovdim = 20: 1 values converged, normres = (2.19e-21, 6.39e-07, 8.53e-07, 5.65e-08, 3.58e-07)\n",
      "[ Info: Arnoldi iteration step 21: normres = 0.021215638982048646\n",
      "[ Info: Arnoldi schursolve in iter 1, krylovdim = 21: 1 values converged, normres = (1.95e-23, 5.29e-09, 1.44e-08, 2.39e-09, 5.25e-09)\n",
      "[ Info: Arnoldi iteration step 22: normres = 0.024601349826722227\n",
      "[ Info: Arnoldi schursolve in iter 1, krylovdim = 22: 1 values converged, normres = (1.97e-25, 1.37e-10, 2.05e-10, 3.75e-11, 9.46e-11)\n",
      "[ Info: Arnoldi iteration step 23: normres = 0.6617726658113392\n",
      "[ Info: Arnoldi schursolve in iter 1, krylovdim = 23: 1 values converged, normres = (7.76e-26, 1.19e-10, 1.75e-10, 3.93e-11, 9.92e-11)\n",
      "[ Info: Arnoldi iteration step 24: normres = 0.020331268517843806\n",
      "[ Info: Arnoldi schursolve in iter 1, krylovdim = 24: 1 values converged, normres = (1.03e-27, 8.57e-12, 1.27e-11, 2.93e-10, 7.20e-10)\n",
      "[ Info: Arnoldi iteration step 25: normres = 0.07861056301870442\n",
      "[ Info: Arnoldi schursolve in iter 1, krylovdim = 25: 3 values converged, normres = (3.36e-29, 4.48e-13, 6.64e-13, 1.12e-04, 1.29e-05)\n",
      "[ Info: Arnoldi iteration step 26: normres = 0.04237573669572658\n",
      "[ Info: Arnoldi schursolve in iter 1, krylovdim = 26: 3 values converged, normres = (6.41e-31, 1.45e-14, 2.14e-14, 1.92e-05, 1.23e-05)\n",
      "[ Info: Arnoldi iteration step 27: normres = 0.04139580504235806\n",
      "[ Info: Arnoldi schursolve in iter 1, krylovdim = 27: 3 values converged, normres = (1.09e-32, 3.94e-16, 5.83e-16, 5.96e-07, 2.19e-07)\n",
      "[ Info: Arnoldi iteration step 28: normres = 0.07196220652717311\n",
      "[ Info: Arnoldi schursolve in iter 1, krylovdim = 28: 3 values converged, normres = (3.46e-34, 2.07e-17, 3.07e-17, 4.52e-08, 9.41e-09)\n",
      "[ Info: Arnoldi iteration step 29: normres = 0.016334079757306604\n",
      "[ Info: Arnoldi schursolve in iter 1, krylovdim = 29: 3 values converged, normres = (2.35e-36, 2.26e-19, 3.35e-19, 9.52e-12, 5.04e-10)\n",
      "[ Info: Arnoldi iteration step 30: normres = 0.18471472074894973\n",
      "[ Info: Arnoldi schursolve in iter 1, krylovdim = 30: 3 values converged, normres = (1.87e-37, 2.95e-20, 4.37e-20, 1.36e-12, 7.39e-11)\n",
      "[ Info: Arnoldi schursolve in iter 2, krylovdim = 19: 3 values converged, normres = (1.87e-37, 2.95e-20, 4.37e-20, 1.36e-12, 7.39e-11)\n",
      "[ Info: Arnoldi iteration step 20: normres = 0.09378785696209757\n",
      "[ Info: Arnoldi schursolve in iter 2, krylovdim = 20: 4 values converged, normres = (8.31e-39, 2.32e-21, 3.43e-21, 1.21e-13, 6.59e-12)\n",
      "[ Info: Arnoldi iteration step 21: normres = 0.059349010919535095\n",
      "┌ Info: Arnoldi eigsolve finished after 2 iterations:\n",
      "│ *  6 eigenvalues converged\n",
      "│ *  norm of residuals = (2.1508016544644147e-40, 9.962058544968329e-23, 1.670794796918243e-22, 5.8030456062594286e-15, 3.1486205122262546e-13, 4.825251402440774e-14)\n",
      "└ *  number of operations = 32\n"
     ]
    }
   ],
   "cell_type": "code",
   "source": [
    "eigsolve(eps_fun, randn(size(scfres.ρ)), 5, :LM; eager=true, verbosity=3);"
   ],
   "metadata": {},
   "execution_count": 3
  }
 ],
 "nbformat_minor": 3,
 "metadata": {
  "language_info": {
   "file_extension": ".jl",
   "mimetype": "application/julia",
   "name": "julia",
   "version": "1.9.4"
  },
  "kernelspec": {
   "name": "julia-1.9",
   "display_name": "Julia 1.9.4",
   "language": "julia"
  }
 },
 "nbformat": 4
}
