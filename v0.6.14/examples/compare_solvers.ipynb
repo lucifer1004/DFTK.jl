{
 "cells": [
  {
   "cell_type": "markdown",
   "source": [
    "# Comparison of DFT solvers"
   ],
   "metadata": {}
  },
  {
   "cell_type": "markdown",
   "source": [
    "We compare four different approaches for solving the DFT minimisation problem,\n",
    "namely a density-based SCF, a potential-based SCF, direct minimisation and Newton."
   ],
   "metadata": {}
  },
  {
   "cell_type": "markdown",
   "source": [
    "First we setup our problem"
   ],
   "metadata": {}
  },
  {
   "outputs": [
    {
     "output_type": "execute_result",
     "data": {
      "text/plain": "1.0e-6"
     },
     "metadata": {},
     "execution_count": 1
    }
   ],
   "cell_type": "code",
   "source": [
    "using DFTK\n",
    "using LinearAlgebra\n",
    "\n",
    "a = 10.26  # Silicon lattice constant in Bohr\n",
    "lattice = a / 2 * [[0 1 1.];\n",
    "                   [1 0 1.];\n",
    "                   [1 1 0.]]\n",
    "Si = ElementPsp(:Si; psp=load_psp(\"hgh/lda/Si-q4\"))\n",
    "atoms     = [Si, Si]\n",
    "positions = [ones(3)/8, -ones(3)/8]\n",
    "\n",
    "model = model_LDA(lattice, atoms, positions)\n",
    "basis = PlaneWaveBasis(model; Ecut=5, kgrid=[3, 3, 3])\n",
    "\n",
    "# Convergence we desire in the density\n",
    "tol = 1e-6"
   ],
   "metadata": {},
   "execution_count": 1
  },
  {
   "cell_type": "markdown",
   "source": [
    "## Density-based self-consistent field"
   ],
   "metadata": {}
  },
  {
   "outputs": [
    {
     "name": "stdout",
     "output_type": "stream",
     "text": [
      "n     Energy            log10(ΔE)   log10(Δρ)   Diag   Δtime\n",
      "---   ---------------   ---------   ---------   ----   ------\n",
      "  1   -7.846861271543                   -0.70    4.5         \n",
      "  2   -7.852319760086       -2.26       -1.53    1.0   17.0ms\n",
      "  3   -7.852615245090       -3.53       -2.56    1.5   18.5ms\n",
      "  4   -7.852646007991       -4.51       -2.88    2.5   71.3ms\n",
      "  5   -7.852646508230       -6.30       -3.18    1.0   16.7ms\n",
      "  6   -7.852646680876       -6.76       -4.13    1.0   17.1ms\n",
      "  7   -7.852646686652       -8.24       -5.15    1.8   20.9ms\n",
      "  8   -7.852646686725      -10.13       -5.50    1.8   20.2ms\n",
      "  9   -7.852646686728      -11.53       -5.68    1.0   17.5ms\n",
      " 10   -7.852646686730      -11.80       -6.76    1.0   17.8ms\n"
     ]
    }
   ],
   "cell_type": "code",
   "source": [
    "scfres_scf = self_consistent_field(basis; tol);"
   ],
   "metadata": {},
   "execution_count": 2
  },
  {
   "cell_type": "markdown",
   "source": [
    "## Potential-based SCF"
   ],
   "metadata": {}
  },
  {
   "outputs": [
    {
     "name": "stdout",
     "output_type": "stream",
     "text": [
      "n     Energy            log10(ΔE)   log10(Δρ)   α      Diag   Δtime\n",
      "---   ---------------   ---------   ---------   ----   ----   ------\n",
      "  1   -7.846937106877                   -0.70           4.5         \n",
      "  2   -7.852555930781       -2.25       -1.64   0.80    2.2    195ms\n",
      "  3   -7.852639517983       -4.08       -2.74   0.80    1.0   16.0ms\n",
      "  4   -7.852646442035       -5.16       -3.35   0.80    1.8   18.6ms\n",
      "  5   -7.852646679870       -6.62       -4.24   0.80    2.2   20.1ms\n",
      "  6   -7.852646686503       -8.18       -4.78   0.80    2.0   18.8ms\n",
      "  7   -7.852646686724       -9.66       -5.63   0.80    1.5   59.0ms\n",
      "  8   -7.852646686730      -11.23       -6.76   0.80    2.0   19.0ms\n"
     ]
    }
   ],
   "cell_type": "code",
   "source": [
    "scfres_scfv = DFTK.scf_potential_mixing(basis; tol);"
   ],
   "metadata": {},
   "execution_count": 3
  },
  {
   "cell_type": "markdown",
   "source": [
    "## Direct minimization\n",
    "Note: Unlike the other algorithms, tolerance for this one is in the energy,\n",
    "thus we square the density tolerance value to be roughly equivalent."
   ],
   "metadata": {}
  },
  {
   "outputs": [
    {
     "name": "stdout",
     "output_type": "stream",
     "text": [
      "Iter     Function value   Gradient norm \n",
      "     0     1.442963e+01     3.744036e+00\n",
      " * time: 0.10014796257019043\n",
      "     1     1.386925e+00     1.843700e+00\n",
      " * time: 0.2678661346435547\n",
      "     2    -1.644264e+00     1.890967e+00\n",
      " * time: 0.28575897216796875\n",
      "     3    -3.793762e+00     1.669979e+00\n",
      " * time: 0.31145501136779785\n",
      "     4    -5.293099e+00     1.391467e+00\n",
      " * time: 0.33708715438842773\n",
      "     5    -6.891610e+00     8.160903e-01\n",
      " * time: 0.3617730140686035\n",
      "     6    -7.070990e+00     1.003226e+00\n",
      " * time: 0.37882018089294434\n",
      "     7    -7.594802e+00     6.581835e-01\n",
      " * time: 0.39580512046813965\n",
      "     8    -7.692329e+00     5.628682e-01\n",
      " * time: 0.4133939743041992\n",
      "     9    -7.788861e+00     2.160253e-01\n",
      " * time: 0.4311549663543701\n",
      "    10    -7.822861e+00     8.019360e-02\n",
      " * time: 0.44838809967041016\n",
      "    11    -7.838386e+00     1.057584e-01\n",
      " * time: 0.46537208557128906\n",
      "    12    -7.847317e+00     5.566513e-02\n",
      " * time: 0.4823460578918457\n",
      "    13    -7.850747e+00     2.883442e-02\n",
      " * time: 0.5002040863037109\n",
      "    14    -7.851737e+00     1.837191e-02\n",
      " * time: 0.5178530216217041\n",
      "    15    -7.852167e+00     1.126057e-02\n",
      " * time: 0.5354411602020264\n",
      "    16    -7.852433e+00     7.104984e-03\n",
      " * time: 0.552947998046875\n",
      "    17    -7.852582e+00     3.912792e-03\n",
      " * time: 0.5708091259002686\n",
      "    18    -7.852628e+00     2.929962e-03\n",
      " * time: 0.5886600017547607\n",
      "    19    -7.852640e+00     1.292238e-03\n",
      " * time: 0.6064920425415039\n",
      "    20    -7.852644e+00     1.092995e-03\n",
      " * time: 0.6243801116943359\n",
      "    21    -7.852646e+00     5.751552e-04\n",
      " * time: 0.6422359943389893\n",
      "    22    -7.852646e+00     2.497660e-04\n",
      " * time: 0.6600761413574219\n",
      "    23    -7.852647e+00     1.644817e-04\n",
      " * time: 0.6779141426086426\n",
      "    24    -7.852647e+00     8.847110e-05\n",
      " * time: 0.6958611011505127\n",
      "    25    -7.852647e+00     6.344826e-05\n",
      " * time: 0.7137401103973389\n",
      "    26    -7.852647e+00     4.637925e-05\n",
      " * time: 0.7315709590911865\n",
      "    27    -7.852647e+00     1.661379e-05\n",
      " * time: 0.7494380474090576\n",
      "    28    -7.852647e+00     1.050974e-05\n",
      " * time: 0.7673070430755615\n",
      "    29    -7.852647e+00     7.328402e-06\n",
      " * time: 0.7851669788360596\n",
      "    30    -7.852647e+00     2.965375e-06\n",
      " * time: 0.8028621673583984\n",
      "    31    -7.852647e+00     2.032772e-06\n",
      " * time: 0.8201241493225098\n",
      "    32    -7.852647e+00     1.233715e-06\n",
      " * time: 0.8372280597686768\n",
      "    33    -7.852647e+00     9.003280e-07\n",
      " * time: 0.8546180725097656\n",
      "    34    -7.852647e+00     5.572385e-07\n",
      " * time: 0.8715200424194336\n",
      "    35    -7.852647e+00     3.295369e-07\n",
      " * time: 0.8886971473693848\n",
      "    36    -7.852647e+00     1.578307e-07\n",
      " * time: 0.9054441452026367\n",
      "    37    -7.852647e+00     9.673498e-08\n",
      " * time: 0.9223330020904541\n",
      "    38    -7.852647e+00     7.777650e-08\n",
      " * time: 0.9391641616821289\n",
      "    39    -7.852647e+00     5.745263e-08\n",
      " * time: 0.9560291767120361\n",
      "    40    -7.852647e+00     2.545708e-08\n",
      " * time: 0.9728760719299316\n",
      "    41    -7.852647e+00     1.227225e-08\n",
      " * time: 0.9897880554199219\n",
      "    42    -7.852647e+00     7.962479e-09\n",
      " * time: 1.007162094116211\n",
      "    43    -7.852647e+00     5.143634e-09\n",
      " * time: 1.0250580310821533\n"
     ]
    }
   ],
   "cell_type": "code",
   "source": [
    "scfres_dm = direct_minimization(basis; tol=tol^2);"
   ],
   "metadata": {},
   "execution_count": 4
  },
  {
   "cell_type": "markdown",
   "source": [
    "## Newton algorithm"
   ],
   "metadata": {}
  },
  {
   "cell_type": "markdown",
   "source": [
    "Start not too far from the solution to ensure convergence:\n",
    "We run first a very crude SCF to get close and then switch to Newton."
   ],
   "metadata": {}
  },
  {
   "outputs": [
    {
     "name": "stdout",
     "output_type": "stream",
     "text": [
      "n     Energy            log10(ΔE)   log10(Δρ)   Diag   Δtime\n",
      "---   ---------------   ---------   ---------   ----   ------\n",
      "  1   -7.846863056849                   -0.70    4.5         \n"
     ]
    }
   ],
   "cell_type": "code",
   "source": [
    "scfres_start = self_consistent_field(basis; tol=0.5);"
   ],
   "metadata": {},
   "execution_count": 5
  },
  {
   "cell_type": "markdown",
   "source": [
    "Remove the virtual orbitals (which Newton cannot treat yet)"
   ],
   "metadata": {}
  },
  {
   "outputs": [
    {
     "name": "stdout",
     "output_type": "stream",
     "text": [
      "n     Energy            log10(ΔE)   log10(Δρ)   Δtime\n",
      "---   ---------------   ---------   ---------   ------\n",
      "  1   -7.852645897102                   -1.64         \n",
      "  2   -7.852646686730       -6.10       -3.71    1.50s\n",
      "  3   -7.852646686730      -13.27       -7.23    121ms\n"
     ]
    }
   ],
   "cell_type": "code",
   "source": [
    "ψ = DFTK.select_occupied_orbitals(basis, scfres_start.ψ, scfres_start.occupation).ψ\n",
    "scfres_newton = newton(basis, ψ; tol);"
   ],
   "metadata": {},
   "execution_count": 6
  },
  {
   "cell_type": "markdown",
   "source": [
    "## Comparison of results"
   ],
   "metadata": {}
  },
  {
   "outputs": [
    {
     "name": "stdout",
     "output_type": "stream",
     "text": [
      "|ρ_newton - ρ_scf|  = 2.1829138156774227e-7\n",
      "|ρ_newton - ρ_scfv| = 2.2928493120437697e-7\n",
      "|ρ_newton - ρ_dm|   = 1.3805075314868522e-9\n"
     ]
    }
   ],
   "cell_type": "code",
   "source": [
    "println(\"|ρ_newton - ρ_scf|  = \", norm(scfres_newton.ρ - scfres_scf.ρ))\n",
    "println(\"|ρ_newton - ρ_scfv| = \", norm(scfres_newton.ρ - scfres_scfv.ρ))\n",
    "println(\"|ρ_newton - ρ_dm|   = \", norm(scfres_newton.ρ - scfres_dm.ρ))"
   ],
   "metadata": {},
   "execution_count": 7
  }
 ],
 "nbformat_minor": 3,
 "metadata": {
  "language_info": {
   "file_extension": ".jl",
   "mimetype": "application/julia",
   "name": "julia",
   "version": "1.9.4"
  },
  "kernelspec": {
   "name": "julia-1.9",
   "display_name": "Julia 1.9.4",
   "language": "julia"
  }
 },
 "nbformat": 4
}
