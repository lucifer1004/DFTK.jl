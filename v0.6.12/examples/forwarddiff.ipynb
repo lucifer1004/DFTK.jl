{
 "cells": [
  {
   "cell_type": "markdown",
   "source": [
    "# Polarizability using automatic differentiation\n",
    "\n",
    "Simple example for computing properties using (forward-mode)\n",
    "automatic differentiation.\n",
    "For a more classical approach and more details about computing polarizabilities,\n",
    "see Polarizability by linear response."
   ],
   "metadata": {}
  },
  {
   "outputs": [],
   "cell_type": "code",
   "source": [
    "using DFTK\n",
    "using LinearAlgebra\n",
    "using ForwardDiff\n",
    "\n",
    "# Construct PlaneWaveBasis given a particular electric field strength\n",
    "# Again we take the example of a Helium atom.\n",
    "function make_basis(ε::T; a=10., Ecut=30) where {T}\n",
    "    lattice=T(a) * I(3)  # lattice is a cube of $a$ Bohrs\n",
    "    # Helium at the center of the box\n",
    "    atoms     = [ElementPsp(:He, psp=load_psp(\"hgh/lda/He-q2\"))]\n",
    "    positions = [[1/2, 1/2, 1/2]]\n",
    "\n",
    "    model = model_DFT(lattice, atoms, positions, [:lda_x, :lda_c_vwn];\n",
    "                      extra_terms=[ExternalFromReal(r -> -ε * (r[1] - a/2))],\n",
    "                      symmetries=false)\n",
    "    PlaneWaveBasis(model; Ecut, kgrid=[1, 1, 1])  # No k-point sampling on isolated system\n",
    "end\n",
    "\n",
    "# dipole moment of a given density (assuming the current geometry)\n",
    "function dipole(basis, ρ)\n",
    "    @assert isdiag(basis.model.lattice)\n",
    "    a  = basis.model.lattice[1, 1]\n",
    "    rr = [a * (r[1] - 1/2) for r in r_vectors(basis)]\n",
    "    sum(rr .* ρ) * basis.dvol\n",
    "end\n",
    "\n",
    "# Function to compute the dipole for a given field strength\n",
    "function compute_dipole(ε; tol=1e-8, kwargs...)\n",
    "    scfres = self_consistent_field(make_basis(ε; kwargs...); tol)\n",
    "    dipole(scfres.basis, scfres.ρ)\n",
    "end;"
   ],
   "metadata": {},
   "execution_count": 1
  },
  {
   "cell_type": "markdown",
   "source": [
    "With this in place we can compute the polarizability from finite differences\n",
    "(just like in the previous example):"
   ],
   "metadata": {}
  },
  {
   "outputs": [
    {
     "name": "stdout",
     "output_type": "stream",
     "text": [
      "n     Energy            log10(ΔE)   log10(Δρ)   Diag   Δtime\n",
      "---   ---------------   ---------   ---------   ----   ------\n",
      "  1   -2.770597830847                   -0.53    9.0         \n",
      "  2   -2.772136554620       -2.81       -1.29    1.0    155ms\n",
      "  3   -2.772169763800       -4.48       -2.71    1.0    184ms\n",
      "  4   -2.772170719398       -6.02       -3.79    2.0    180ms\n",
      "  5   -2.772170722787       -8.47       -4.34    2.0    205ms\n",
      "  6   -2.772170723011       -9.65       -5.50    1.0    164ms\n",
      "  7   -2.772170723015      -11.35       -6.10    2.0    193ms\n",
      "  8   -2.772170723015      -13.35       -6.67    1.0    169ms\n",
      "  9   -2.772170723015      -13.83       -7.43    1.0    193ms\n",
      " 10   -2.772170723015   +    -Inf       -8.13    2.0    205ms\n",
      "n     Energy            log10(ΔE)   log10(Δρ)   Diag   Δtime\n",
      "---   ---------------   ---------   ---------   ----   ------\n",
      "  1   -2.770718026057                   -0.53    8.0         \n",
      "  2   -2.772053607575       -2.87       -1.30    1.0    197ms\n",
      "  3   -2.772082920002       -4.53       -2.63    1.0    159ms\n",
      "  4   -2.772083414160       -6.31       -3.92    2.0    224ms\n",
      "  5   -2.772083417369       -8.49       -4.23    2.0    184ms\n",
      "  6   -2.772083417796       -9.37       -5.24    1.0    183ms\n",
      "  7   -2.772083417810      -10.84       -5.82    2.0    188ms\n",
      "  8   -2.772083417811      -12.66       -6.56    1.0    178ms\n",
      "  9   -2.772083417811      -13.55       -7.33    2.0    201ms\n",
      " 10   -2.772083417811      -14.21       -7.59    1.0    194ms\n",
      " 11   -2.772083417811   +  -14.27       -9.25    2.0    196ms\n"
     ]
    },
    {
     "output_type": "execute_result",
     "data": {
      "text/plain": "1.7735580977411138"
     },
     "metadata": {},
     "execution_count": 2
    }
   ],
   "cell_type": "code",
   "source": [
    "polarizability_fd = let\n",
    "    ε = 0.01\n",
    "    (compute_dipole(ε) - compute_dipole(0.0)) / ε\n",
    "end"
   ],
   "metadata": {},
   "execution_count": 2
  },
  {
   "cell_type": "markdown",
   "source": [
    "We do the same thing using automatic differentiation. Under the hood this uses\n",
    "custom rules to implicitly differentiate through the self-consistent\n",
    "field fixed-point problem."
   ],
   "metadata": {}
  },
  {
   "outputs": [
    {
     "name": "stdout",
     "output_type": "stream",
     "text": [
      "n     Energy            log10(ΔE)   log10(Δρ)   Diag   Δtime\n",
      "---   ---------------   ---------   ---------   ----   ------\n",
      "  1   -2.770754175823                   -0.52    9.0         \n",
      "  2   -2.772059744076       -2.88       -1.32    1.0    156ms\n",
      "  3   -2.772082946381       -4.63       -2.42    1.0    208ms\n",
      "  4   -2.772083331350       -6.41       -3.11    1.0    159ms\n",
      "  5   -2.772083417641       -7.06       -4.35    2.0    236ms\n",
      "  6   -2.772083417747       -9.97       -4.58    1.0    164ms\n",
      "  7   -2.772083417809      -10.21       -5.72    1.0    180ms\n",
      "  8   -2.772083417811      -11.71       -6.08    2.0    190ms\n",
      "  9   -2.772083417811      -13.73       -6.46    1.0    175ms\n",
      " 10   -2.772083417811      -13.92       -7.38    1.0    196ms\n",
      " 11   -2.772083417811      -13.72       -7.47    2.0    217ms\n",
      " 12   -2.772083417811   +  -14.12       -7.87    1.0    175ms\n",
      " 13   -2.772083417811      -14.12       -8.34    1.0    215ms\n",
      "\n",
      "Polarizability via ForwardDiff:       1.7725349799623096\n",
      "Polarizability via finite difference: 1.7735580977411138\n"
     ]
    }
   ],
   "cell_type": "code",
   "source": [
    "polarizability = ForwardDiff.derivative(compute_dipole, 0.0)\n",
    "println()\n",
    "println(\"Polarizability via ForwardDiff:       $polarizability\")\n",
    "println(\"Polarizability via finite difference: $polarizability_fd\")"
   ],
   "metadata": {},
   "execution_count": 3
  }
 ],
 "nbformat_minor": 3,
 "metadata": {
  "language_info": {
   "file_extension": ".jl",
   "mimetype": "application/julia",
   "name": "julia",
   "version": "1.9.3"
  },
  "kernelspec": {
   "name": "julia-1.9",
   "display_name": "Julia 1.9.3",
   "language": "julia"
  }
 },
 "nbformat": 4
}
