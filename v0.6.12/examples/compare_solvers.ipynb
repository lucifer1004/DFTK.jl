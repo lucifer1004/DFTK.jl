{
 "cells": [
  {
   "cell_type": "markdown",
   "source": [
    "# Comparison of DFT solvers"
   ],
   "metadata": {}
  },
  {
   "cell_type": "markdown",
   "source": [
    "We compare four different approaches for solving the DFT minimisation problem,\n",
    "namely a density-based SCF, a potential-based SCF, direct minimisation and Newton."
   ],
   "metadata": {}
  },
  {
   "cell_type": "markdown",
   "source": [
    "First we setup our problem"
   ],
   "metadata": {}
  },
  {
   "outputs": [
    {
     "output_type": "execute_result",
     "data": {
      "text/plain": "1.0e-6"
     },
     "metadata": {},
     "execution_count": 1
    }
   ],
   "cell_type": "code",
   "source": [
    "using DFTK\n",
    "using LinearAlgebra\n",
    "\n",
    "a = 10.26  # Silicon lattice constant in Bohr\n",
    "lattice = a / 2 * [[0 1 1.];\n",
    "                   [1 0 1.];\n",
    "                   [1 1 0.]]\n",
    "Si = ElementPsp(:Si, psp=load_psp(\"hgh/lda/Si-q4\"))\n",
    "atoms     = [Si, Si]\n",
    "positions = [ones(3)/8, -ones(3)/8]\n",
    "\n",
    "model = model_LDA(lattice, atoms, positions)\n",
    "basis = PlaneWaveBasis(model; Ecut=5, kgrid=[3, 3, 3])\n",
    "\n",
    "# Convergence we desire in the density\n",
    "tol = 1e-6"
   ],
   "metadata": {},
   "execution_count": 1
  },
  {
   "cell_type": "markdown",
   "source": [
    "## Density-based self-consistent field"
   ],
   "metadata": {}
  },
  {
   "outputs": [
    {
     "name": "stdout",
     "output_type": "stream",
     "text": [
      "n     Energy            log10(ΔE)   log10(Δρ)   Diag   Δtime\n",
      "---   ---------------   ---------   ---------   ----   ------\n",
      "  1   -7.846906810772                   -0.70    4.5         \n",
      "  2   -7.852323403294       -2.27       -1.53    1.0   25.0ms\n",
      "  3   -7.852614496990       -3.54       -2.57    1.5   27.9ms\n",
      "  4   -7.852646033210       -4.50       -2.89    2.5   35.9ms\n",
      "  5   -7.852646494741       -6.34       -3.15    1.0   26.3ms\n",
      "  6   -7.852646678279       -6.74       -4.00    1.0   26.2ms\n",
      "  7   -7.852646686306       -8.10       -5.21    1.8   31.2ms\n",
      "  8   -7.852646686722       -9.38       -5.37    2.5   35.9ms\n",
      "  9   -7.852646686729      -11.10       -6.12    1.2   28.6ms\n"
     ]
    }
   ],
   "cell_type": "code",
   "source": [
    "scfres_scf = self_consistent_field(basis; tol);"
   ],
   "metadata": {},
   "execution_count": 2
  },
  {
   "cell_type": "markdown",
   "source": [
    "## Potential-based SCF"
   ],
   "metadata": {}
  },
  {
   "outputs": [
    {
     "name": "stdout",
     "output_type": "stream",
     "text": [
      "n     Energy            log10(ΔE)   log10(Δρ)   α      Diag   Δtime\n",
      "---   ---------------   ---------   ---------   ----   ----   ------\n",
      "  1   -7.846844953947                   -0.70           4.5         \n",
      "  2   -7.852538690683       -2.24       -1.64   0.80    2.2    288ms\n",
      "  3   -7.852635486537       -4.01       -2.76   0.80    1.0   24.5ms\n",
      "  4   -7.852646525757       -4.96       -3.26   0.80    2.0   31.1ms\n",
      "  5   -7.852646674339       -6.83       -4.09   0.80    1.5    111ms\n",
      "  6   -7.852646686376       -7.92       -4.69   0.80    2.0   30.1ms\n",
      "  7   -7.852646686718       -9.47       -5.51   0.80    1.8   30.2ms\n",
      "  8   -7.852646686730      -10.94       -6.56   0.80    2.0   31.8ms\n"
     ]
    }
   ],
   "cell_type": "code",
   "source": [
    "scfres_scfv = DFTK.scf_potential_mixing(basis; tol);"
   ],
   "metadata": {},
   "execution_count": 3
  },
  {
   "cell_type": "markdown",
   "source": [
    "## Direct minimization\n",
    "Note: Unlike the other algorithms, tolerance for this one is in the energy,\n",
    "thus we square the density tolerance value to be roughly equivalent."
   ],
   "metadata": {}
  },
  {
   "outputs": [
    {
     "name": "stdout",
     "output_type": "stream",
     "text": [
      "Iter     Function value   Gradient norm \n",
      "     0     1.402532e+01     3.436404e+00\n",
      " * time: 0.06357383728027344\n",
      "     1     1.210786e+00     2.042389e+00\n",
      " * time: 0.30402398109436035\n",
      "     2    -1.373130e+00     2.495529e+00\n",
      " * time: 0.32953381538391113\n",
      "     3    -3.719376e+00     2.008643e+00\n",
      " * time: 0.3656017780303955\n",
      "     4    -4.988254e+00     1.620923e+00\n",
      " * time: 0.4019958972930908\n",
      "     5    -6.607869e+00     1.107377e+00\n",
      " * time: 0.43811798095703125\n",
      "     6    -7.274695e+00     4.095604e-01\n",
      " * time: 0.47429895401000977\n",
      "     7    -7.593414e+00     1.726975e-01\n",
      " * time: 0.49985790252685547\n",
      "     8    -7.745537e+00     1.632310e-01\n",
      " * time: 0.5249300003051758\n",
      "     9    -7.808661e+00     7.446592e-02\n",
      " * time: 0.5504608154296875\n",
      "    10    -7.833580e+00     5.176060e-02\n",
      " * time: 0.5757138729095459\n",
      "    11    -7.844207e+00     4.133822e-02\n",
      " * time: 0.6010069847106934\n",
      "    12    -7.849063e+00     2.653339e-02\n",
      " * time: 0.6267538070678711\n",
      "    13    -7.851433e+00     1.715927e-02\n",
      " * time: 0.6522018909454346\n",
      "    14    -7.852124e+00     1.043870e-02\n",
      " * time: 0.677299976348877\n",
      "    15    -7.852434e+00     4.600144e-03\n",
      " * time: 0.7020049095153809\n",
      "    16    -7.852572e+00     3.804079e-03\n",
      " * time: 0.7274398803710938\n",
      "    17    -7.852621e+00     2.585435e-03\n",
      " * time: 0.7522788047790527\n",
      "    18    -7.852639e+00     1.068567e-03\n",
      " * time: 0.7773528099060059\n",
      "    19    -7.852645e+00     6.145533e-04\n",
      " * time: 0.8019888401031494\n",
      "    20    -7.852646e+00     3.393754e-04\n",
      " * time: 0.826873779296875\n",
      "    21    -7.852646e+00     2.187341e-04\n",
      " * time: 0.8516597747802734\n",
      "    22    -7.852647e+00     1.405217e-04\n",
      " * time: 0.87664794921875\n",
      "    23    -7.852647e+00     8.211734e-05\n",
      " * time: 0.901486873626709\n",
      "    24    -7.852647e+00     4.705480e-05\n",
      " * time: 0.9266729354858398\n",
      "    25    -7.852647e+00     3.039896e-05\n",
      " * time: 0.9515957832336426\n",
      "    26    -7.852647e+00     1.929969e-05\n",
      " * time: 0.976585865020752\n",
      "    27    -7.852647e+00     1.326834e-05\n",
      " * time: 1.0015678405761719\n",
      "    28    -7.852647e+00     6.515762e-06\n",
      " * time: 1.0267930030822754\n",
      "    29    -7.852647e+00     3.277668e-06\n",
      " * time: 1.0521178245544434\n",
      "    30    -7.852647e+00     1.696488e-06\n",
      " * time: 1.0770437717437744\n",
      "    31    -7.852647e+00     8.451834e-07\n",
      " * time: 1.1023449897766113\n",
      "    32    -7.852647e+00     4.584273e-07\n",
      " * time: 1.1272928714752197\n",
      "    33    -7.852647e+00     3.075110e-07\n",
      " * time: 1.1521217823028564\n",
      "    34    -7.852647e+00     1.621533e-07\n",
      " * time: 1.1771049499511719\n",
      "    35    -7.852647e+00     1.014833e-07\n",
      " * time: 1.2023890018463135\n",
      "    36    -7.852647e+00     5.742654e-08\n",
      " * time: 1.2275969982147217\n",
      "    37    -7.852647e+00     3.657324e-08\n",
      " * time: 1.2523729801177979\n",
      "    38    -7.852647e+00     1.954571e-08\n",
      " * time: 1.2774109840393066\n",
      "    39    -7.852647e+00     1.175061e-08\n",
      " * time: 1.302797794342041\n",
      "    40    -7.852647e+00     1.165880e-08\n",
      " * time: 1.361879825592041\n",
      "    41    -7.852647e+00     3.223475e-09\n",
      " * time: 1.4603488445281982\n"
     ]
    }
   ],
   "cell_type": "code",
   "source": [
    "scfres_dm = direct_minimization(basis; tol=tol^2);"
   ],
   "metadata": {},
   "execution_count": 4
  },
  {
   "cell_type": "markdown",
   "source": [
    "## Newton algorithm"
   ],
   "metadata": {}
  },
  {
   "cell_type": "markdown",
   "source": [
    "Start not too far from the solution to ensure convergence:\n",
    "We run first a very crude SCF to get close and then switch to Newton."
   ],
   "metadata": {}
  },
  {
   "outputs": [
    {
     "name": "stdout",
     "output_type": "stream",
     "text": [
      "n     Energy            log10(ΔE)   log10(Δρ)   Diag   Δtime\n",
      "---   ---------------   ---------   ---------   ----   ------\n",
      "  1   -7.846931763061                   -0.70    4.5         \n"
     ]
    }
   ],
   "cell_type": "code",
   "source": [
    "scfres_start = self_consistent_field(basis; tol=0.5);"
   ],
   "metadata": {},
   "execution_count": 5
  },
  {
   "cell_type": "markdown",
   "source": [
    "Remove the virtual orbitals (which Newton cannot treat yet)"
   ],
   "metadata": {}
  },
  {
   "outputs": [
    {
     "name": "stdout",
     "output_type": "stream",
     "text": [
      "n     Energy            log10(ΔE)   log10(Δρ)   Δtime\n",
      "---   ---------------   ---------   ---------   ------\n",
      "  1   -7.852645937968                   -1.64         \n",
      "  2   -7.852646686730       -6.13       -3.72    2.10s\n",
      "  3   -7.852646686730      -13.35       -7.26    160ms\n"
     ]
    }
   ],
   "cell_type": "code",
   "source": [
    "ψ = DFTK.select_occupied_orbitals(basis, scfres_start.ψ, scfres_start.occupation).ψ\n",
    "scfres_newton = newton(basis, ψ; tol);"
   ],
   "metadata": {},
   "execution_count": 6
  },
  {
   "cell_type": "markdown",
   "source": [
    "## Comparison of results"
   ],
   "metadata": {}
  },
  {
   "outputs": [
    {
     "name": "stdout",
     "output_type": "stream",
     "text": [
      "|ρ_newton - ρ_scf|  = 5.228281510472884e-7\n",
      "|ρ_newton - ρ_scfv| = 1.704790605815461e-7\n",
      "|ρ_newton - ρ_dm|   = 1.590016362455079e-9\n"
     ]
    }
   ],
   "cell_type": "code",
   "source": [
    "println(\"|ρ_newton - ρ_scf|  = \", norm(scfres_newton.ρ - scfres_scf.ρ))\n",
    "println(\"|ρ_newton - ρ_scfv| = \", norm(scfres_newton.ρ - scfres_scfv.ρ))\n",
    "println(\"|ρ_newton - ρ_dm|   = \", norm(scfres_newton.ρ - scfres_dm.ρ))"
   ],
   "metadata": {},
   "execution_count": 7
  }
 ],
 "nbformat_minor": 3,
 "metadata": {
  "language_info": {
   "file_extension": ".jl",
   "mimetype": "application/julia",
   "name": "julia",
   "version": "1.9.3"
  },
  "kernelspec": {
   "name": "julia-1.9",
   "display_name": "Julia 1.9.3",
   "language": "julia"
  }
 },
 "nbformat": 4
}
