{
 "cells": [
  {
   "cell_type": "markdown",
   "source": [
    "# Eigenvalues of the dielectric matrix\n",
    "\n",
    "We compute a few eigenvalues of the dielectric matrix ($q=0$, $ω=0$) iteratively."
   ],
   "metadata": {}
  },
  {
   "outputs": [
    {
     "name": "stdout",
     "output_type": "stream",
     "text": [
      "n     Energy            log10(ΔE)   log10(Δρ)   Diag   Δtime\n",
      "---   ---------------   ---------   ---------   ----   ------\n",
      "  1   -7.234691619029                   -0.50    7.0         \n",
      "  2   -7.250195969086       -1.81       -1.40    1.0   8.10ms\n",
      "  3   -7.251141098885       -3.02       -2.02    2.0   9.38ms\n",
      "  4   -7.251134460698   +   -5.18       -1.98    2.0   10.1ms\n",
      "  5   -7.251328803411       -3.71       -2.62    1.0   7.88ms\n",
      "  6   -7.251338277453       -5.02       -3.20    1.0   8.30ms\n",
      "  7   -7.251338728863       -6.35       -3.64    2.0   9.55ms\n",
      "  8   -7.251338791050       -7.21       -4.11    2.0   10.2ms\n",
      "  9   -7.251338798136       -8.15       -4.89    1.0   8.29ms\n",
      " 10   -7.251338798634       -9.30       -5.08    3.0   11.7ms\n",
      " 11   -7.251338798696      -10.20       -5.66    1.0   8.40ms\n",
      " 12   -7.251338798703      -11.21       -5.95    3.0   11.8ms\n",
      " 13   -7.251338798704      -11.76       -6.57    2.0   10.1ms\n",
      " 14   -7.251338798705      -13.35       -6.94    1.0   8.64ms\n",
      " 15   -7.251338798705      -14.05       -7.32    2.0   10.0ms\n",
      " 16   -7.251338798705      -14.10       -7.81    2.0   10.4ms\n",
      " 17   -7.251338798705   +    -Inf       -8.19    2.0   9.81ms\n"
     ]
    }
   ],
   "cell_type": "code",
   "source": [
    "using DFTK\n",
    "using Plots\n",
    "using KrylovKit\n",
    "using Printf\n",
    "\n",
    "# Calculation parameters\n",
    "kgrid = [1, 1, 1]\n",
    "Ecut = 5\n",
    "\n",
    "# Silicon lattice\n",
    "a = 10.26\n",
    "lattice = a / 2 .* [[0 1 1.]; [1 0 1.]; [1 1 0.]]\n",
    "Si = ElementPsp(:Si, psp=load_psp(\"hgh/lda/Si-q4\"))\n",
    "atoms     = [Si, Si]\n",
    "positions = [ones(3)/8, -ones(3)/8]\n",
    "\n",
    "# Compute the dielectric operator without symmetries\n",
    "model  = model_LDA(lattice, atoms, positions, symmetries=false)\n",
    "basis  = PlaneWaveBasis(model; Ecut, kgrid)\n",
    "scfres = self_consistent_field(basis, tol=1e-8);"
   ],
   "metadata": {},
   "execution_count": 1
  },
  {
   "cell_type": "markdown",
   "source": [
    "Applying $ε^† ≔ (1- χ_0 K)$ …"
   ],
   "metadata": {}
  },
  {
   "outputs": [],
   "cell_type": "code",
   "source": [
    "function eps_fun(δρ)\n",
    "    δV = apply_kernel(basis, δρ; ρ=scfres.ρ)\n",
    "    χ0δV = apply_χ0(scfres, δV)\n",
    "    δρ - χ0δV\n",
    "end;"
   ],
   "metadata": {},
   "execution_count": 2
  },
  {
   "cell_type": "markdown",
   "source": [
    "… eagerly diagonalizes the subspace matrix at each iteration"
   ],
   "metadata": {}
  },
  {
   "outputs": [
    {
     "name": "stdout",
     "output_type": "stream",
     "text": [
      "[ Info: Arnoldi iteration step 1: normres = 0.04890906455687379\n",
      "[ Info: Arnoldi iteration step 2: normres = 0.6751745203226955\n",
      "[ Info: Arnoldi iteration step 3: normres = 0.8277639929120804\n",
      "[ Info: Arnoldi iteration step 4: normres = 0.3521866698687679\n",
      "[ Info: Arnoldi iteration step 5: normres = 0.4089757863559144\n",
      "[ Info: Arnoldi schursolve in iter 1, krylovdim = 5: 0 values converged, normres = (3.69e-02, 7.88e-02, 2.89e-01, 2.72e-01, 4.81e-02)\n",
      "[ Info: Arnoldi iteration step 6: normres = 0.36355612628528766\n",
      "[ Info: Arnoldi schursolve in iter 1, krylovdim = 6: 0 values converged, normres = (1.15e-02, 1.41e-01, 3.13e-01, 9.34e-02, 4.37e-02)\n",
      "[ Info: Arnoldi iteration step 7: normres = 0.08537043732432295\n",
      "[ Info: Arnoldi schursolve in iter 1, krylovdim = 7: 0 values converged, normres = (5.09e-04, 1.75e-02, 1.95e-02, 3.93e-02, 6.34e-02)\n",
      "[ Info: Arnoldi iteration step 8: normres = 0.11799402273177732\n",
      "[ Info: Arnoldi schursolve in iter 1, krylovdim = 8: 0 values converged, normres = (2.62e-05, 1.49e-03, 1.86e-03, 1.65e-02, 5.32e-02)\n",
      "[ Info: Arnoldi iteration step 9: normres = 0.0747671910476239\n",
      "[ Info: Arnoldi schursolve in iter 1, krylovdim = 9: 0 values converged, normres = (8.44e-07, 7.86e-05, 1.09e-04, 4.25e-03, 2.78e-02)\n",
      "[ Info: Arnoldi iteration step 10: normres = 0.07468512104009734\n",
      "[ Info: Arnoldi schursolve in iter 1, krylovdim = 10: 0 values converged, normres = (2.78e-08, 4.31e-06, 6.66e-06, 1.21e-03, 1.90e-02)\n",
      "[ Info: Arnoldi iteration step 11: normres = 0.08437773327406219\n",
      "[ Info: Arnoldi schursolve in iter 1, krylovdim = 11: 0 values converged, normres = (9.97e-10, 2.52e-07, 4.31e-07, 3.03e-04, 9.55e-03)\n",
      "[ Info: Arnoldi iteration step 12: normres = 0.07164557001280103\n",
      "[ Info: Arnoldi schursolve in iter 1, krylovdim = 12: 0 values converged, normres = (3.08e-11, 1.28e-08, 2.43e-08, 7.04e-05, 4.62e-03)\n",
      "[ Info: Arnoldi iteration step 13: normres = 0.034593551738740576\n",
      "[ Info: Arnoldi schursolve in iter 1, krylovdim = 13: 1 values converged, normres = (4.52e-13, 3.06e-10, 6.44e-10, 7.02e-06, 8.82e-04)\n",
      "[ Info: Arnoldi iteration step 14: normres = 0.6584440697814539\n",
      "[ Info: Arnoldi schursolve in iter 1, krylovdim = 14: 1 values converged, normres = (1.57e-13, 2.02e-10, 4.95e-10, 6.48e-01, 5.75e-02)\n",
      "[ Info: Arnoldi iteration step 15: normres = 0.06558734290940443\n",
      "[ Info: Arnoldi schursolve in iter 1, krylovdim = 15: 1 values converged, normres = (7.81e-15, 7.04e-11, 5.10e-02, 1.10e-03, 1.55e-05)\n",
      "[ Info: Arnoldi iteration step 16: normres = 0.7081150968073247\n",
      "[ Info: Arnoldi schursolve in iter 1, krylovdim = 16: 1 values converged, normres = (4.31e-15, 1.44e-10, 1.31e-01, 5.05e-03, 6.86e-01)\n",
      "[ Info: Arnoldi iteration step 17: normres = 0.03317648149399764\n",
      "[ Info: Arnoldi schursolve in iter 1, krylovdim = 17: 1 values converged, normres = (8.24e-17, 7.49e-10, 1.62e-02, 5.32e-06, 6.70e-03)\n",
      "[ Info: Arnoldi iteration step 18: normres = 0.02254014382457824\n",
      "[ Info: Arnoldi schursolve in iter 1, krylovdim = 18: 1 values converged, normres = (7.72e-19, 5.25e-09, 2.43e-04, 5.94e-05, 9.35e-05)\n",
      "[ Info: Arnoldi iteration step 19: normres = 0.1669603208798901\n",
      "[ Info: Arnoldi schursolve in iter 1, krylovdim = 19: 1 values converged, normres = (5.54e-20, 2.01e-05, 2.03e-05, 1.48e-08, 1.45e-05)\n",
      "[ Info: Arnoldi iteration step 20: normres = 0.06311571702955862\n",
      "[ Info: Arnoldi schursolve in iter 1, krylovdim = 20: 1 values converged, normres = (1.67e-21, 1.01e-09, 1.53e-06, 5.67e-07, 6.72e-07)\n",
      "[ Info: Arnoldi iteration step 21: normres = 0.025831498880854706\n",
      "[ Info: Arnoldi schursolve in iter 1, krylovdim = 21: 1 values converged, normres = (1.80e-23, 2.53e-08, 8.13e-09, 4.37e-09, 1.63e-08)\n",
      "[ Info: Arnoldi iteration step 22: normres = 0.02307251238221663\n",
      "[ Info: Arnoldi schursolve in iter 1, krylovdim = 22: 1 values converged, normres = (1.71e-25, 7.38e-11, 3.96e-10, 1.15e-10, 2.57e-10)\n",
      "[ Info: Arnoldi iteration step 23: normres = 0.6519525080597892\n",
      "[ Info: Arnoldi schursolve in iter 1, krylovdim = 23: 1 values converged, normres = (6.76e-26, 3.52e-10, 3.73e-11, 1.24e-10, 2.78e-10)\n",
      "[ Info: Arnoldi iteration step 24: normres = 0.018785977411496752\n",
      "[ Info: Arnoldi schursolve in iter 1, krylovdim = 24: 1 values converged, normres = (8.19e-28, 3.86e-12, 2.26e-11, 3.75e-09, 4.72e-09)\n",
      "[ Info: Arnoldi iteration step 25: normres = 0.04406083523413518\n",
      "[ Info: Arnoldi schursolve in iter 1, krylovdim = 25: 3 values converged, normres = (1.48e-29, 1.06e-13, 6.57e-13, 1.37e-04, 5.50e-05)\n",
      "[ Info: Arnoldi iteration step 26: normres = 0.07737860355719035\n",
      "[ Info: Arnoldi schursolve in iter 1, krylovdim = 26: 3 values converged, normres = (5.13e-31, 6.17e-15, 3.81e-14, 2.83e-09, 7.41e-09)\n",
      "[ Info: Arnoldi iteration step 27: normres = 0.05906619830165674\n",
      "[ Info: Arnoldi schursolve in iter 1, krylovdim = 27: 3 values converged, normres = (1.27e-32, 2.45e-16, 1.52e-15, 2.08e-08, 3.61e-10)\n",
      "[ Info: Arnoldi iteration step 28: normres = 0.05562548462084507\n",
      "[ Info: Arnoldi schursolve in iter 1, krylovdim = 28: 3 values converged, normres = (3.12e-34, 6.25e-17, 1.01e-17, 3.44e-08, 3.51e-08)\n",
      "[ Info: Arnoldi iteration step 29: normres = 0.12773531506453253\n",
      "[ Info: Arnoldi schursolve in iter 1, krylovdim = 29: 3 values converged, normres = (1.67e-35, 5.42e-18, 8.78e-19, 2.15e-09, 4.08e-09)\n",
      "[ Info: Arnoldi iteration step 30: normres = 0.05739787530450769\n",
      "[ Info: Arnoldi schursolve in iter 1, krylovdim = 30: 3 values converged, normres = (4.71e-37, 4.44e-20, 2.74e-19, 8.63e-11, 2.54e-10)\n",
      "[ Info: Arnoldi schursolve in iter 2, krylovdim = 19: 3 values converged, normres = (4.87e-37, 4.44e-20, 2.74e-19, 8.63e-11, 2.54e-10)\n",
      "[ Info: Arnoldi iteration step 20: normres = 0.04402679048793022\n",
      "[ Info: Arnoldi schursolve in iter 2, krylovdim = 20: 3 values converged, normres = (8.56e-39, 1.29e-21, 7.97e-21, 8.27e-12, 2.41e-12)\n",
      "[ Info: Arnoldi iteration step 21: normres = 0.05748799317468833\n",
      "┌ Info: Arnoldi eigsolve finished after 2 iterations:\n",
      "│ *  6 eigenvalues converged\n",
      "│ *  norm of residuals = (2.1179046279703818e-40, 1.9326979551851012e-22, 1.9326979551851012e-22, 3.5201752954445126e-13, 3.5201752954445126e-13, 9.324015522380104e-14)\n",
      "└ *  number of operations = 32\n"
     ]
    }
   ],
   "cell_type": "code",
   "source": [
    "eigsolve(eps_fun, randn(size(scfres.ρ)), 5, :LM; eager=true, verbosity=3);"
   ],
   "metadata": {},
   "execution_count": 3
  }
 ],
 "nbformat_minor": 3,
 "metadata": {
  "language_info": {
   "file_extension": ".jl",
   "mimetype": "application/julia",
   "name": "julia",
   "version": "1.9.3"
  },
  "kernelspec": {
   "name": "julia-1.9",
   "display_name": "Julia 1.9.3",
   "language": "julia"
  }
 },
 "nbformat": 4
}
