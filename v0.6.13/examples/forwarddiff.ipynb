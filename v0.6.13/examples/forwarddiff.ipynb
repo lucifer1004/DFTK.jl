{
 "cells": [
  {
   "cell_type": "markdown",
   "source": [
    "# Polarizability using automatic differentiation\n",
    "\n",
    "Simple example for computing properties using (forward-mode)\n",
    "automatic differentiation.\n",
    "For a more classical approach and more details about computing polarizabilities,\n",
    "see Polarizability by linear response."
   ],
   "metadata": {}
  },
  {
   "outputs": [],
   "cell_type": "code",
   "source": [
    "using DFTK\n",
    "using LinearAlgebra\n",
    "using ForwardDiff\n",
    "\n",
    "# Construct PlaneWaveBasis given a particular electric field strength\n",
    "# Again we take the example of a Helium atom.\n",
    "function make_basis(ε::T; a=10., Ecut=30) where {T}\n",
    "    lattice=T(a) * I(3)  # lattice is a cube of $a$ Bohrs\n",
    "    # Helium at the center of the box\n",
    "    atoms     = [ElementPsp(:He, psp=load_psp(\"hgh/lda/He-q2\"))]\n",
    "    positions = [[1/2, 1/2, 1/2]]\n",
    "\n",
    "    model = model_DFT(lattice, atoms, positions, [:lda_x, :lda_c_vwn];\n",
    "                      extra_terms=[ExternalFromReal(r -> -ε * (r[1] - a/2))],\n",
    "                      symmetries=false)\n",
    "    PlaneWaveBasis(model; Ecut, kgrid=[1, 1, 1])  # No k-point sampling on isolated system\n",
    "end\n",
    "\n",
    "# dipole moment of a given density (assuming the current geometry)\n",
    "function dipole(basis, ρ)\n",
    "    @assert isdiag(basis.model.lattice)\n",
    "    a  = basis.model.lattice[1, 1]\n",
    "    rr = [a * (r[1] - 1/2) for r in r_vectors(basis)]\n",
    "    sum(rr .* ρ) * basis.dvol\n",
    "end\n",
    "\n",
    "# Function to compute the dipole for a given field strength\n",
    "function compute_dipole(ε; tol=1e-8, kwargs...)\n",
    "    scfres = self_consistent_field(make_basis(ε; kwargs...); tol)\n",
    "    dipole(scfres.basis, scfres.ρ)\n",
    "end;"
   ],
   "metadata": {},
   "execution_count": 1
  },
  {
   "cell_type": "markdown",
   "source": [
    "With this in place we can compute the polarizability from finite differences\n",
    "(just like in the previous example):"
   ],
   "metadata": {}
  },
  {
   "outputs": [
    {
     "name": "stdout",
     "output_type": "stream",
     "text": [
      "n     Energy            log10(ΔE)   log10(Δρ)   Diag   Δtime\n",
      "---   ---------------   ---------   ---------   ----   ------\n",
      "  1   -2.770870744849                   -0.52    9.0         \n",
      "  2   -2.772146813269       -2.89       -1.33    1.0    104ms\n",
      "  3   -2.772170127573       -4.63       -2.41    1.0    120ms\n",
      "  4   -2.772170635988       -6.29       -3.10    1.0    126ms\n",
      "  5   -2.772170722824       -7.06       -4.62    2.0    122ms\n",
      "  6   -2.772170723001       -9.75       -4.78    2.0    148ms\n",
      "  7   -2.772170723014      -10.89       -5.78    1.0    112ms\n",
      "  8   -2.772170723015      -11.95       -6.54    2.0    128ms\n",
      "  9   -2.772170723015      -13.78       -7.01    1.0    133ms\n",
      " 10   -2.772170723015      -13.99       -8.10    2.0    137ms\n",
      "n     Energy            log10(ΔE)   log10(Δρ)   Diag   Δtime\n",
      "---   ---------------   ---------   ---------   ----   ------\n",
      "  1   -2.770701419822                   -0.53    9.0         \n",
      "  2   -2.772055725421       -2.87       -1.31    1.0    132ms\n",
      "  3   -2.772083150233       -4.56       -2.56    1.0    106ms\n",
      "  4   -2.772083391814       -6.62       -3.57    1.0    106ms\n",
      "  5   -2.772083417401       -7.59       -4.20    2.0    147ms\n",
      "  6   -2.772083417792       -9.41       -4.83    2.0    124ms\n",
      "  7   -2.772083417810      -10.73       -6.37    1.0    112ms\n",
      "  8   -2.772083417811      -12.64       -7.00    2.0    139ms\n",
      "  9   -2.772083417811      -13.94       -7.23    2.0    138ms\n",
      " 10   -2.772083417811   +  -14.31       -8.65    1.0    129ms\n"
     ]
    },
    {
     "output_type": "execute_result",
     "data": {
      "text/plain": "1.7735580782557074"
     },
     "metadata": {},
     "execution_count": 2
    }
   ],
   "cell_type": "code",
   "source": [
    "polarizability_fd = let\n",
    "    ε = 0.01\n",
    "    (compute_dipole(ε) - compute_dipole(0.0)) / ε\n",
    "end"
   ],
   "metadata": {},
   "execution_count": 2
  },
  {
   "cell_type": "markdown",
   "source": [
    "We do the same thing using automatic differentiation. Under the hood this uses\n",
    "custom rules to implicitly differentiate through the self-consistent\n",
    "field fixed-point problem."
   ],
   "metadata": {}
  },
  {
   "outputs": [
    {
     "name": "stdout",
     "output_type": "stream",
     "text": [
      "n     Energy            log10(ΔE)   log10(Δρ)   Diag   Δtime\n",
      "---   ---------------   ---------   ---------   ----   ------\n",
      "  1   -2.770821345226                   -0.53    9.0         \n",
      "  2   -2.772059691366       -2.91       -1.31    1.0    105ms\n",
      "  3   -2.772083089993       -4.63       -2.57    1.0    107ms\n",
      "  4   -2.772083388200       -6.53       -3.56    1.0    157ms\n",
      "  5   -2.772083416202       -7.55       -3.91    2.0    124ms\n",
      "  6   -2.772083417764       -8.81       -5.12    1.0    112ms\n",
      "  7   -2.772083417809      -10.35       -5.45    2.0    150ms\n",
      "  8   -2.772083417810      -11.90       -6.11    1.0    116ms\n",
      "  9   -2.772083417811      -12.64       -6.64    2.0    145ms\n",
      " 10   -2.772083417811   +  -14.45       -7.41    1.0    125ms\n",
      " 11   -2.772083417811      -13.85       -7.95    1.0    119ms\n",
      " 12   -2.772083417811   +  -13.82       -8.29    1.0    136ms\n",
      "\n",
      "Polarizability via ForwardDiff:       1.7725349707912879\n",
      "Polarizability via finite difference: 1.7735580782557074\n"
     ]
    }
   ],
   "cell_type": "code",
   "source": [
    "polarizability = ForwardDiff.derivative(compute_dipole, 0.0)\n",
    "println()\n",
    "println(\"Polarizability via ForwardDiff:       $polarizability\")\n",
    "println(\"Polarizability via finite difference: $polarizability_fd\")"
   ],
   "metadata": {},
   "execution_count": 3
  }
 ],
 "nbformat_minor": 3,
 "metadata": {
  "language_info": {
   "file_extension": ".jl",
   "mimetype": "application/julia",
   "name": "julia",
   "version": "1.9.4"
  },
  "kernelspec": {
   "name": "julia-1.9",
   "display_name": "Julia 1.9.4",
   "language": "julia"
  }
 },
 "nbformat": 4
}
