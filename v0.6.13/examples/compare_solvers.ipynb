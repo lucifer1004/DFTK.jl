{
 "cells": [
  {
   "cell_type": "markdown",
   "source": [
    "# Comparison of DFT solvers"
   ],
   "metadata": {}
  },
  {
   "cell_type": "markdown",
   "source": [
    "We compare four different approaches for solving the DFT minimisation problem,\n",
    "namely a density-based SCF, a potential-based SCF, direct minimisation and Newton."
   ],
   "metadata": {}
  },
  {
   "cell_type": "markdown",
   "source": [
    "First we setup our problem"
   ],
   "metadata": {}
  },
  {
   "outputs": [
    {
     "output_type": "execute_result",
     "data": {
      "text/plain": "1.0e-6"
     },
     "metadata": {},
     "execution_count": 1
    }
   ],
   "cell_type": "code",
   "source": [
    "using DFTK\n",
    "using LinearAlgebra\n",
    "\n",
    "a = 10.26  # Silicon lattice constant in Bohr\n",
    "lattice = a / 2 * [[0 1 1.];\n",
    "                   [1 0 1.];\n",
    "                   [1 1 0.]]\n",
    "Si = ElementPsp(:Si, psp=load_psp(\"hgh/lda/Si-q4\"))\n",
    "atoms     = [Si, Si]\n",
    "positions = [ones(3)/8, -ones(3)/8]\n",
    "\n",
    "model = model_LDA(lattice, atoms, positions)\n",
    "basis = PlaneWaveBasis(model; Ecut=5, kgrid=[3, 3, 3])\n",
    "\n",
    "# Convergence we desire in the density\n",
    "tol = 1e-6"
   ],
   "metadata": {},
   "execution_count": 1
  },
  {
   "cell_type": "markdown",
   "source": [
    "## Density-based self-consistent field"
   ],
   "metadata": {}
  },
  {
   "outputs": [
    {
     "name": "stdout",
     "output_type": "stream",
     "text": [
      "n     Energy            log10(ΔE)   log10(Δρ)   Diag   Δtime\n",
      "---   ---------------   ---------   ---------   ----   ------\n",
      "  1   -7.846909947467                   -0.70    4.8         \n",
      "  2   -7.852329966916       -2.27       -1.53    1.0   17.3ms\n",
      "  3   -7.852617845450       -3.54       -2.56    1.5   19.0ms\n",
      "  4   -7.852646062216       -4.55       -2.92    2.5   22.5ms\n",
      "  5   -7.852646545907       -6.32       -3.25    1.0   17.2ms\n",
      "  6   -7.852646680978       -6.87       -4.22    1.2   18.0ms\n",
      "  7   -7.852646686697       -8.24       -5.36    2.2   22.7ms\n",
      "  8   -7.852646686727      -10.52       -5.63    1.8   20.4ms\n",
      "  9   -7.852646686728      -12.01       -5.67    1.5   19.5ms\n",
      " 10   -7.852646686730      -11.84       -6.85    1.0   17.9ms\n"
     ]
    }
   ],
   "cell_type": "code",
   "source": [
    "scfres_scf = self_consistent_field(basis; tol);"
   ],
   "metadata": {},
   "execution_count": 2
  },
  {
   "cell_type": "markdown",
   "source": [
    "## Potential-based SCF"
   ],
   "metadata": {}
  },
  {
   "outputs": [
    {
     "name": "stdout",
     "output_type": "stream",
     "text": [
      "n     Energy            log10(ΔE)   log10(Δρ)   α      Diag   Δtime\n",
      "---   ---------------   ---------   ---------   ----   ----   ------\n",
      "  1   -7.846864483179                   -0.70           4.8         \n",
      "  2   -7.852553599665       -2.24       -1.63   0.80    2.0    212ms\n",
      "  3   -7.852638951769       -4.07       -2.75   0.80    1.0   16.4ms\n",
      "  4   -7.852646506449       -5.12       -3.32   0.80    1.8   19.4ms\n",
      "  5   -7.852646677317       -6.77       -4.22   0.80    1.2   17.6ms\n",
      "  6   -7.852646686601       -8.03       -4.76   0.80    2.2   21.1ms\n",
      "  7   -7.852646686721       -9.92       -5.65   0.80    1.2   17.4ms\n",
      "  8   -7.852646686730      -11.06       -6.51   0.80    2.0   19.8ms\n"
     ]
    }
   ],
   "cell_type": "code",
   "source": [
    "scfres_scfv = DFTK.scf_potential_mixing(basis; tol);"
   ],
   "metadata": {},
   "execution_count": 3
  },
  {
   "cell_type": "markdown",
   "source": [
    "## Direct minimization\n",
    "Note: Unlike the other algorithms, tolerance for this one is in the energy,\n",
    "thus we square the density tolerance value to be roughly equivalent."
   ],
   "metadata": {}
  },
  {
   "outputs": [
    {
     "name": "stdout",
     "output_type": "stream",
     "text": [
      "Iter     Function value   Gradient norm \n",
      "     0     1.380777e+01     3.580388e+00\n",
      " * time: 0.04623007774353027\n",
      "     1     1.334017e+00     2.064945e+00\n",
      " * time: 0.22191905975341797\n",
      "     2    -1.654318e+00     1.982039e+00\n",
      " * time: 0.2399120330810547\n",
      "     3    -3.746801e+00     1.936985e+00\n",
      " * time: 0.26590704917907715\n",
      "     4    -5.210869e+00     1.583788e+00\n",
      " * time: 0.2918729782104492\n",
      "     5    -6.786747e+00     9.181488e-01\n",
      " * time: 0.3178119659423828\n",
      "     6    -7.462761e+00     3.393644e-01\n",
      " * time: 0.3436310291290283\n",
      "     7    -7.692958e+00     1.563139e-01\n",
      " * time: 0.36150217056274414\n",
      "     8    -7.775823e+00     1.382081e-01\n",
      " * time: 0.37938499450683594\n",
      "     9    -7.816763e+00     6.199076e-02\n",
      " * time: 0.3973960876464844\n",
      "    10    -7.839437e+00     5.428677e-02\n",
      " * time: 0.41533398628234863\n",
      "    11    -7.846859e+00     4.457109e-02\n",
      " * time: 0.4332301616668701\n",
      "    12    -7.849840e+00     3.077597e-02\n",
      " * time: 0.451185941696167\n",
      "    13    -7.851468e+00     2.070325e-02\n",
      " * time: 0.46936893463134766\n",
      "    14    -7.852178e+00     1.282128e-02\n",
      " * time: 0.48737215995788574\n",
      "    15    -7.852464e+00     5.799281e-03\n",
      " * time: 0.5053350925445557\n",
      "    16    -7.852583e+00     3.691682e-03\n",
      " * time: 0.523313045501709\n",
      "    17    -7.852628e+00     1.834242e-03\n",
      " * time: 0.5411889553070068\n",
      "    18    -7.852641e+00     1.483190e-03\n",
      " * time: 0.5590980052947998\n",
      "    19    -7.852645e+00     5.528031e-04\n",
      " * time: 0.5770440101623535\n",
      "    20    -7.852646e+00     3.562514e-04\n",
      " * time: 0.5949461460113525\n",
      "    21    -7.852646e+00     2.076544e-04\n",
      " * time: 0.6128830909729004\n",
      "    22    -7.852647e+00     1.209098e-04\n",
      " * time: 0.6308841705322266\n",
      "    23    -7.852647e+00     7.266194e-05\n",
      " * time: 0.6488940715789795\n",
      "    24    -7.852647e+00     5.122937e-05\n",
      " * time: 0.6669790744781494\n",
      "    25    -7.852647e+00     3.248724e-05\n",
      " * time: 0.6849441528320312\n",
      "    26    -7.852647e+00     1.496523e-05\n",
      " * time: 0.7030889987945557\n",
      "    27    -7.852647e+00     7.686639e-06\n",
      " * time: 0.7211799621582031\n",
      "    28    -7.852647e+00     4.171517e-06\n",
      " * time: 0.7391600608825684\n",
      "    29    -7.852647e+00     2.558789e-06\n",
      " * time: 0.8091311454772949\n",
      "    30    -7.852647e+00     1.648093e-06\n",
      " * time: 0.826897144317627\n",
      "    31    -7.852647e+00     9.705254e-07\n",
      " * time: 0.844567060470581\n",
      "    32    -7.852647e+00     6.255283e-07\n",
      " * time: 0.8623709678649902\n",
      "    33    -7.852647e+00     3.247965e-07\n",
      " * time: 0.8800301551818848\n",
      "    34    -7.852647e+00     1.893688e-07\n",
      " * time: 0.8977999687194824\n",
      "    35    -7.852647e+00     1.143889e-07\n",
      " * time: 0.9155831336975098\n",
      "    36    -7.852647e+00     7.532113e-08\n",
      " * time: 0.9333610534667969\n",
      "    37    -7.852647e+00     4.538358e-08\n",
      " * time: 0.9514470100402832\n",
      "    38    -7.852647e+00     2.747347e-08\n",
      " * time: 0.9694509506225586\n",
      "    39    -7.852647e+00     1.744286e-08\n",
      " * time: 0.987462043762207\n",
      "    40    -7.852647e+00     1.055691e-08\n",
      " * time: 1.0055420398712158\n",
      "    41    -7.852647e+00     6.669747e-09\n",
      " * time: 1.0234060287475586\n",
      "    42    -7.852647e+00     4.197488e-09\n",
      " * time: 1.0412650108337402\n"
     ]
    }
   ],
   "cell_type": "code",
   "source": [
    "scfres_dm = direct_minimization(basis; tol=tol^2);"
   ],
   "metadata": {},
   "execution_count": 4
  },
  {
   "cell_type": "markdown",
   "source": [
    "## Newton algorithm"
   ],
   "metadata": {}
  },
  {
   "cell_type": "markdown",
   "source": [
    "Start not too far from the solution to ensure convergence:\n",
    "We run first a very crude SCF to get close and then switch to Newton."
   ],
   "metadata": {}
  },
  {
   "outputs": [
    {
     "name": "stdout",
     "output_type": "stream",
     "text": [
      "n     Energy            log10(ΔE)   log10(Δρ)   Diag   Δtime\n",
      "---   ---------------   ---------   ---------   ----   ------\n",
      "  1   -7.846751792369                   -0.70    4.5         \n"
     ]
    }
   ],
   "cell_type": "code",
   "source": [
    "scfres_start = self_consistent_field(basis; tol=0.5);"
   ],
   "metadata": {},
   "execution_count": 5
  },
  {
   "cell_type": "markdown",
   "source": [
    "Remove the virtual orbitals (which Newton cannot treat yet)"
   ],
   "metadata": {}
  },
  {
   "outputs": [
    {
     "name": "stdout",
     "output_type": "stream",
     "text": [
      "n     Energy            log10(ΔE)   log10(Δρ)   Δtime\n",
      "---   ---------------   ---------   ---------   ------\n",
      "  1   -7.852645860234                   -1.64         \n",
      "  2   -7.852646686730       -6.08       -3.71    1.52s\n",
      "  3   -7.852646686730      -13.15       -7.20    121ms\n"
     ]
    }
   ],
   "cell_type": "code",
   "source": [
    "ψ = DFTK.select_occupied_orbitals(basis, scfres_start.ψ, scfres_start.occupation).ψ\n",
    "scfres_newton = newton(basis, ψ; tol);"
   ],
   "metadata": {},
   "execution_count": 6
  },
  {
   "cell_type": "markdown",
   "source": [
    "## Comparison of results"
   ],
   "metadata": {}
  },
  {
   "outputs": [
    {
     "name": "stdout",
     "output_type": "stream",
     "text": [
      "|ρ_newton - ρ_scf|  = 1.971271634438422e-7\n",
      "|ρ_newton - ρ_scfv| = 8.260844754891872e-8\n",
      "|ρ_newton - ρ_dm|   = 7.234545879182552e-10\n"
     ]
    }
   ],
   "cell_type": "code",
   "source": [
    "println(\"|ρ_newton - ρ_scf|  = \", norm(scfres_newton.ρ - scfres_scf.ρ))\n",
    "println(\"|ρ_newton - ρ_scfv| = \", norm(scfres_newton.ρ - scfres_scfv.ρ))\n",
    "println(\"|ρ_newton - ρ_dm|   = \", norm(scfres_newton.ρ - scfres_dm.ρ))"
   ],
   "metadata": {},
   "execution_count": 7
  }
 ],
 "nbformat_minor": 3,
 "metadata": {
  "language_info": {
   "file_extension": ".jl",
   "mimetype": "application/julia",
   "name": "julia",
   "version": "1.9.4"
  },
  "kernelspec": {
   "name": "julia-1.9",
   "display_name": "Julia 1.9.4",
   "language": "julia"
  }
 },
 "nbformat": 4
}
