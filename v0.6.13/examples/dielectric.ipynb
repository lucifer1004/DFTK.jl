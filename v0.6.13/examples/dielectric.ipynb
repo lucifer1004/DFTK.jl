{
 "cells": [
  {
   "cell_type": "markdown",
   "source": [
    "# Eigenvalues of the dielectric matrix\n",
    "\n",
    "We compute a few eigenvalues of the dielectric matrix ($q=0$, $ω=0$) iteratively."
   ],
   "metadata": {}
  },
  {
   "outputs": [
    {
     "name": "stdout",
     "output_type": "stream",
     "text": [
      "n     Energy            log10(ΔE)   log10(Δρ)   Diag   Δtime\n",
      "---   ---------------   ---------   ---------   ----   ------\n",
      "  1   -7.233535785100                   -0.50    7.0         \n",
      "  2   -7.249521040562       -1.80       -1.40    1.0   5.13ms\n",
      "  3   -7.251205873273       -2.77       -1.83    2.0   6.07ms\n",
      "  4   -7.251291203985       -4.07       -2.28    1.0   5.08ms\n",
      "  5   -7.251278382732   +   -4.89       -2.27    2.0   6.13ms\n",
      "  6   -7.251335991221       -4.24       -2.89    1.0   5.25ms\n",
      "  7   -7.251338693352       -5.57       -3.53    1.0   5.32ms\n",
      "  8   -7.251338757467       -7.19       -3.73    2.0   6.65ms\n",
      "  9   -7.251338795314       -7.42       -4.40    1.0   5.50ms\n",
      " 10   -7.251338798008       -8.57       -4.58    3.0   7.62ms\n",
      " 11   -7.251338798631       -9.21       -5.28    1.0   5.65ms\n",
      " 12   -7.251338798689      -10.24       -5.35    3.0   7.78ms\n",
      " 13   -7.251338798699      -10.99       -5.65    1.0   5.81ms\n",
      " 14   -7.251338798704      -11.30       -6.49    2.0   6.83ms\n",
      " 15   -7.251338798705      -12.68       -6.76    3.0   7.49ms\n",
      " 16   -7.251338798705      -13.75       -6.96    1.0   5.84ms\n",
      " 17   -7.251338798705      -14.45       -7.54    1.0   5.79ms\n",
      " 18   -7.251338798705      -15.05       -7.94    3.0   7.96ms\n",
      " 19   -7.251338798705      -14.57       -8.46    1.0   5.83ms\n"
     ]
    }
   ],
   "cell_type": "code",
   "source": [
    "using DFTK\n",
    "using Plots\n",
    "using KrylovKit\n",
    "using Printf\n",
    "\n",
    "# Calculation parameters\n",
    "kgrid = [1, 1, 1]\n",
    "Ecut = 5\n",
    "\n",
    "# Silicon lattice\n",
    "a = 10.26\n",
    "lattice = a / 2 .* [[0 1 1.]; [1 0 1.]; [1 1 0.]]\n",
    "Si = ElementPsp(:Si, psp=load_psp(\"hgh/lda/Si-q4\"))\n",
    "atoms     = [Si, Si]\n",
    "positions = [ones(3)/8, -ones(3)/8]\n",
    "\n",
    "# Compute the dielectric operator without symmetries\n",
    "model  = model_LDA(lattice, atoms, positions, symmetries=false)\n",
    "basis  = PlaneWaveBasis(model; Ecut, kgrid)\n",
    "scfres = self_consistent_field(basis, tol=1e-8);"
   ],
   "metadata": {},
   "execution_count": 1
  },
  {
   "cell_type": "markdown",
   "source": [
    "Applying $ε^† ≔ (1- χ_0 K)$ …"
   ],
   "metadata": {}
  },
  {
   "outputs": [],
   "cell_type": "code",
   "source": [
    "function eps_fun(δρ)\n",
    "    δV = apply_kernel(basis, δρ; ρ=scfres.ρ)\n",
    "    χ0δV = apply_χ0(scfres, δV)\n",
    "    δρ - χ0δV\n",
    "end;"
   ],
   "metadata": {},
   "execution_count": 2
  },
  {
   "cell_type": "markdown",
   "source": [
    "… eagerly diagonalizes the subspace matrix at each iteration"
   ],
   "metadata": {}
  },
  {
   "outputs": [
    {
     "name": "stdout",
     "output_type": "stream",
     "text": [
      "[ Info: Arnoldi iteration step 1: normres = 0.1112294440833354\n",
      "[ Info: Arnoldi iteration step 2: normres = 0.538288866895305\n",
      "[ Info: Arnoldi iteration step 3: normres = 0.5497281062773849\n",
      "[ Info: Arnoldi iteration step 4: normres = 0.23151664748630876\n",
      "[ Info: Arnoldi iteration step 5: normres = 0.5196235621273637\n",
      "[ Info: Arnoldi schursolve in iter 1, krylovdim = 5: 0 values converged, normres = (9.95e-03, 5.78e-02, 4.68e-01, 2.18e-01, 1.79e-02)\n",
      "[ Info: Arnoldi iteration step 6: normres = 0.2806705900503025\n",
      "[ Info: Arnoldi schursolve in iter 1, krylovdim = 6: 0 values converged, normres = (2.49e-03, 2.13e-01, 1.17e-01, 1.21e-01, 4.26e-02)\n",
      "[ Info: Arnoldi iteration step 7: normres = 0.06604900991618669\n",
      "[ Info: Arnoldi schursolve in iter 1, krylovdim = 7: 0 values converged, normres = (7.79e-05, 1.16e-02, 5.26e-03, 3.16e-02, 4.98e-02)\n",
      "[ Info: Arnoldi iteration step 8: normres = 0.09925193372426334\n",
      "[ Info: Arnoldi schursolve in iter 1, krylovdim = 8: 0 values converged, normres = (3.29e-06, 8.02e-04, 4.02e-04, 9.06e-03, 3.85e-02)\n",
      "[ Info: Arnoldi iteration step 9: normres = 0.08568498234844969\n",
      "[ Info: Arnoldi schursolve in iter 1, krylovdim = 9: 0 values converged, normres = (1.23e-07, 4.99e-05, 2.79e-05, 2.89e-03, 5.03e-02)\n",
      "[ Info: Arnoldi iteration step 10: normres = 0.09470756102135593\n",
      "[ Info: Arnoldi schursolve in iter 1, krylovdim = 10: 0 values converged, normres = (5.07e-09, 3.38e-06, 2.10e-06, 9.41e-04, 4.24e-02)\n",
      "[ Info: Arnoldi iteration step 11: normres = 0.08811225537321125\n",
      "[ Info: Arnoldi schursolve in iter 1, krylovdim = 11: 0 values converged, normres = (1.95e-10, 2.15e-07, 1.49e-07, 3.06e-04, 3.39e-02)\n",
      "[ Info: Arnoldi iteration step 12: normres = 0.09868525694842391\n",
      "[ Info: Arnoldi schursolve in iter 1, krylovdim = 12: 0 values converged, normres = (8.37e-12, 1.53e-08, 1.18e-08, 1.08e-04, 2.79e-02)\n",
      "[ Info: Arnoldi iteration step 13: normres = 0.09234186710919784\n",
      "[ Info: Arnoldi schursolve in iter 1, krylovdim = 13: 1 values converged, normres = (3.31e-13, 9.91e-10, 8.45e-10, 3.24e-05, 1.94e-02)\n",
      "[ Info: Arnoldi iteration step 14: normres = 0.4233091184648719\n",
      "[ Info: Arnoldi schursolve in iter 1, krylovdim = 14: 1 values converged, normres = (1.17e-13, 1.44e-09, 2.36e-09, 4.21e-01, 8.78e-03)\n",
      "[ Info: Arnoldi iteration step 15: normres = 0.08597251156499007\n",
      "[ Info: Arnoldi schursolve in iter 1, krylovdim = 15: 1 values converged, normres = (4.77e-15, 1.76e-10, 2.77e-02, 3.44e-03, 2.93e-06)\n",
      "[ Info: Arnoldi iteration step 16: normres = 0.5368110925437262\n",
      "[ Info: Arnoldi schursolve in iter 1, krylovdim = 16: 1 values converged, normres = (2.17e-15, 3.56e-10, 9.68e-02, 3.08e-02, 5.25e-01)\n",
      "[ Info: Arnoldi iteration step 17: normres = 0.024068009956239592\n",
      "[ Info: Arnoldi schursolve in iter 1, krylovdim = 17: 1 values converged, normres = (2.81e-17, 9.18e-03, 2.19e-03, 5.24e-04, 1.85e-03)\n",
      "[ Info: Arnoldi iteration step 18: normres = 0.021302113057068608\n",
      "[ Info: Arnoldi schursolve in iter 1, krylovdim = 18: 1 values converged, normres = (2.46e-19, 9.29e-05, 9.32e-05, 2.90e-05, 6.50e-06)\n",
      "[ Info: Arnoldi iteration step 19: normres = 0.2126345072011881\n",
      "[ Info: Arnoldi schursolve in iter 1, krylovdim = 19: 1 values converged, normres = (2.32e-20, 6.30e-09, 2.07e-05, 1.26e-08, 5.20e-06)\n",
      "[ Info: Arnoldi iteration step 20: normres = 0.05609194911032749\n",
      "[ Info: Arnoldi schursolve in iter 1, krylovdim = 20: 1 values converged, normres = (6.05e-22, 8.68e-07, 3.72e-07, 2.69e-07, 9.34e-10)\n",
      "[ Info: Arnoldi iteration step 21: normres = 0.02359764314427883\n",
      "[ Info: Arnoldi schursolve in iter 1, krylovdim = 21: 1 values converged, normres = (5.95e-24, 1.25e-08, 8.20e-09, 1.24e-09, 4.53e-09)\n",
      "[ Info: Arnoldi iteration step 22: normres = 0.10273769842317497\n",
      "[ Info: Arnoldi schursolve in iter 1, krylovdim = 22: 1 values converged, normres = (2.51e-25, 5.61e-10, 8.37e-10, 8.93e-11, 3.37e-10)\n",
      "[ Info: Arnoldi iteration step 23: normres = 0.20529701810850806\n",
      "[ Info: Arnoldi schursolve in iter 1, krylovdim = 23: 1 values converged, normres = (4.84e-26, 7.58e-10, 9.80e-10, 7.38e-10, 2.58e-09)\n",
      "[ Info: Arnoldi iteration step 24: normres = 0.014494493771834272\n",
      "[ Info: Arnoldi schursolve in iter 1, krylovdim = 24: 1 values converged, normres = (2.92e-28, 7.86e-12, 1.15e-11, 9.22e-07, 1.77e-06)\n",
      "[ Info: Arnoldi iteration step 25: normres = 0.027029352549238213\n",
      "[ Info: Arnoldi schursolve in iter 1, krylovdim = 25: 3 values converged, normres = (3.23e-30, 1.38e-13, 2.02e-13, 1.15e-09, 4.27e-09)\n",
      "[ Info: Arnoldi iteration step 26: normres = 0.10318911899045592\n",
      "[ Info: Arnoldi schursolve in iter 1, krylovdim = 26: 3 values converged, normres = (1.47e-31, 1.53e-14, 1.05e-14, 3.42e-06, 5.24e-08)\n",
      "[ Info: Arnoldi iteration step 27: normres = 0.04456718326204879\n",
      "[ Info: Arnoldi schursolve in iter 1, krylovdim = 27: 3 values converged, normres = (2.76e-33, 4.67e-16, 3.20e-16, 1.05e-07, 4.33e-08)\n",
      "[ Info: Arnoldi iteration step 28: normres = 0.07985506462225964\n",
      "[ Info: Arnoldi schursolve in iter 1, krylovdim = 28: 3 values converged, normres = (9.75e-35, 2.75e-17, 1.88e-17, 4.51e-10, 7.65e-09)\n",
      "[ Info: Arnoldi iteration step 29: normres = 0.01892547004667773\n",
      "[ Info: Arnoldi schursolve in iter 1, krylovdim = 29: 3 values converged, normres = (7.67e-37, 3.48e-19, 2.38e-19, 5.37e-12, 1.06e-10)\n",
      "[ Info: Arnoldi iteration step 30: normres = 0.12380974527389815\n",
      "[ Info: Arnoldi schursolve in iter 1, krylovdim = 30: 4 values converged, normres = (4.07e-38, 2.06e-20, 3.02e-20, 5.16e-13, 1.02e-11)\n",
      "[ Info: Arnoldi schursolve in iter 2, krylovdim = 19: 4 values converged, normres = (4.07e-38, 2.06e-20, 3.02e-20, 5.16e-13, 1.02e-11)\n",
      "[ Info: Arnoldi iteration step 20: normres = 0.17895101524110504\n",
      "[ Info: Arnoldi schursolve in iter 2, krylovdim = 20: 4 values converged, normres = (3.37e-39, 2.95e-21, 4.32e-21, 8.33e-14, 1.65e-12)\n",
      "[ Info: Arnoldi iteration step 21: normres = 0.0374896130461436\n",
      "┌ Info: Arnoldi eigsolve finished after 2 iterations:\n",
      "│ *  6 eigenvalues converged\n",
      "│ *  norm of residuals = (5.70996219168326e-41, 1.1912785409889946e-22, 1.1912785409889946e-22, 2.7058841820198008e-15, 5.372372356046517e-14, 1.4521777573114323e-14)\n",
      "└ *  number of operations = 32\n"
     ]
    }
   ],
   "cell_type": "code",
   "source": [
    "eigsolve(eps_fun, randn(size(scfres.ρ)), 5, :LM; eager=true, verbosity=3);"
   ],
   "metadata": {},
   "execution_count": 3
  }
 ],
 "nbformat_minor": 3,
 "metadata": {
  "language_info": {
   "file_extension": ".jl",
   "mimetype": "application/julia",
   "name": "julia",
   "version": "1.9.4"
  },
  "kernelspec": {
   "name": "julia-1.9",
   "display_name": "Julia 1.9.4",
   "language": "julia"
  }
 },
 "nbformat": 4
}
