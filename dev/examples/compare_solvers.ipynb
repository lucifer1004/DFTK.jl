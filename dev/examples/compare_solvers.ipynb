{
 "cells": [
  {
   "cell_type": "markdown",
   "source": [
    "# Comparison of DFT solvers"
   ],
   "metadata": {}
  },
  {
   "cell_type": "markdown",
   "source": [
    "We compare four different approaches for solving the DFT minimisation problem,\n",
    "namely a density-based SCF, a potential-based SCF, direct minimisation and Newton."
   ],
   "metadata": {}
  },
  {
   "cell_type": "markdown",
   "source": [
    "First we setup our problem"
   ],
   "metadata": {}
  },
  {
   "outputs": [
    {
     "output_type": "execute_result",
     "data": {
      "text/plain": "1.0e-6"
     },
     "metadata": {},
     "execution_count": 1
    }
   ],
   "cell_type": "code",
   "source": [
    "using DFTK\n",
    "using LinearAlgebra\n",
    "\n",
    "a = 10.26  # Silicon lattice constant in Bohr\n",
    "lattice = a / 2 * [[0 1 1.];\n",
    "                   [1 0 1.];\n",
    "                   [1 1 0.]]\n",
    "Si = ElementPsp(:Si, psp=load_psp(\"hgh/lda/Si-q4\"))\n",
    "atoms     = [Si, Si]\n",
    "positions = [ones(3)/8, -ones(3)/8]\n",
    "\n",
    "model = model_LDA(lattice, atoms, positions)\n",
    "basis = PlaneWaveBasis(model; Ecut=5, kgrid=[3, 3, 3])\n",
    "\n",
    "# Convergence we desire in the density\n",
    "tol = 1e-6"
   ],
   "metadata": {},
   "execution_count": 1
  },
  {
   "cell_type": "markdown",
   "source": [
    "## Density-based self-consistent field"
   ],
   "metadata": {}
  },
  {
   "outputs": [
    {
     "name": "stdout",
     "output_type": "stream",
     "text": [
      "n     Energy            log10(ΔE)   log10(Δρ)   Diag   Δtime\n",
      "---   ---------------   ---------   ---------   ----   ------\n",
      "  1   -7.846885642593                   -0.70    4.8         \n",
      "  2   -7.852318268849       -2.26       -1.53    1.0   24.9ms\n",
      "  3   -7.852613446162       -3.53       -2.56    1.5   27.4ms\n",
      "  4   -7.852645992697       -4.49       -2.89    2.5   34.6ms\n",
      "  5   -7.852646512368       -6.28       -3.19    1.0   25.4ms\n",
      "  6   -7.852646678965       -6.78       -4.03    1.0   25.6ms\n",
      "  7   -7.852646686579       -8.12       -5.28    2.0   32.0ms\n",
      "  8   -7.852646686725       -9.83       -5.49    2.0   31.0ms\n",
      "  9   -7.852646686729      -11.49       -5.78    1.0   26.0ms\n",
      " 10   -7.852646686730      -11.97       -6.70    1.0   26.4ms\n"
     ]
    }
   ],
   "cell_type": "code",
   "source": [
    "scfres_scf = self_consistent_field(basis; tol);"
   ],
   "metadata": {},
   "execution_count": 2
  },
  {
   "cell_type": "markdown",
   "source": [
    "## Potential-based SCF"
   ],
   "metadata": {}
  },
  {
   "outputs": [
    {
     "name": "stdout",
     "output_type": "stream",
     "text": [
      "n     Energy            log10(ΔE)   log10(Δρ)   α      Diag   Δtime\n",
      "---   ---------------   ---------   ---------   ----   ----   ------\n",
      "  1   -7.846817587579                   -0.70           4.5         \n",
      "  2   -7.852522503696       -2.24       -1.64   0.80    2.0    268ms\n",
      "  3   -7.852634551026       -3.95       -2.74   0.80    1.0   23.5ms\n",
      "  4   -7.852646499566       -4.92       -3.23   0.80    2.2   31.7ms\n",
      "  5   -7.852646672978       -6.76       -4.05   0.80    1.0   24.0ms\n",
      "  6   -7.852646686348       -7.87       -4.79   0.80    1.5   26.9ms\n",
      "  7   -7.852646686724       -9.42       -5.58   0.80    2.0   30.1ms\n",
      "  8   -7.852646686730      -11.26       -7.01   0.80    1.8   27.4ms\n"
     ]
    }
   ],
   "cell_type": "code",
   "source": [
    "scfres_scfv = DFTK.scf_potential_mixing(basis; tol);"
   ],
   "metadata": {},
   "execution_count": 3
  },
  {
   "cell_type": "markdown",
   "source": [
    "## Direct minimization\n",
    "Note: Unlike the other algorithms, tolerance for this one is in the energy,\n",
    "thus we square the density tolerance value to be roughly equivalent."
   ],
   "metadata": {}
  },
  {
   "outputs": [
    {
     "name": "stdout",
     "output_type": "stream",
     "text": [
      "Iter     Function value   Gradient norm \n",
      "     0     1.400071e+01     3.795105e+00\n",
      " * time: 0.07839298248291016\n",
      "     1     1.560965e+00     2.020678e+00\n",
      " * time: 0.326678991317749\n",
      "     2    -1.830851e+00     2.305360e+00\n",
      " * time: 0.3531157970428467\n",
      "     3    -3.768167e+00     2.137606e+00\n",
      " * time: 0.390211820602417\n",
      "     4    -5.381710e+00     1.741120e+00\n",
      " * time: 0.42684292793273926\n",
      "     5    -6.909084e+00     8.471153e-01\n",
      " * time: 0.46335792541503906\n",
      "     6    -7.139883e+00     1.760889e+00\n",
      " * time: 0.4888319969177246\n",
      "     7    -7.577181e+00     1.433182e+00\n",
      " * time: 0.5139379501342773\n",
      "     8    -7.634387e+00     2.408454e+00\n",
      " * time: 0.538985013961792\n",
      "     9    -7.684652e+00     9.908471e-01\n",
      " * time: 0.6826379299163818\n",
      "    10    -7.707944e+00     5.566868e-01\n",
      " * time: 0.7287688255310059\n",
      "    11    -7.770487e+00     1.367820e+00\n",
      " * time: 0.7533748149871826\n",
      "    12    -7.784955e+00     8.293000e-01\n",
      " * time: 0.7778849601745605\n",
      "    13    -7.816646e+00     9.276254e-02\n",
      " * time: 0.8237588405609131\n",
      "    14    -7.845532e+00     3.502205e-02\n",
      " * time: 0.8482890129089355\n",
      "    15    -7.851276e+00     2.617058e-02\n",
      " * time: 0.8737897872924805\n",
      "    16    -7.852132e+00     2.806312e-02\n",
      " * time: 0.8991827964782715\n",
      "    17    -7.852227e+00     2.955016e-02\n",
      " * time: 0.9247620105743408\n",
      "    18    -7.852542e+00     9.480175e-03\n",
      " * time: 0.9495518207550049\n",
      "    19    -7.852607e+00     5.486181e-03\n",
      " * time: 0.9747538566589355\n",
      "    20    -7.852629e+00     3.468995e-03\n",
      " * time: 1.0001089572906494\n",
      "    21    -7.852638e+00     1.342658e-03\n",
      " * time: 1.0255208015441895\n",
      "    22    -7.852644e+00     9.120073e-04\n",
      " * time: 1.0502448081970215\n",
      "    23    -7.852646e+00     4.561733e-04\n",
      " * time: 1.0753498077392578\n",
      "    24    -7.852646e+00     1.864845e-04\n",
      " * time: 1.1007049083709717\n",
      "    25    -7.852647e+00     1.686991e-04\n",
      " * time: 1.1262118816375732\n",
      "    26    -7.852647e+00     5.917977e-05\n",
      " * time: 1.1517229080200195\n",
      "    27    -7.852647e+00     1.764428e-05\n",
      " * time: 1.1770858764648438\n",
      "    28    -7.852647e+00     1.441441e-05\n",
      " * time: 1.2022128105163574\n",
      "    29    -7.852647e+00     6.167905e-06\n",
      " * time: 1.2277069091796875\n",
      "    30    -7.852647e+00     3.954174e-06\n",
      " * time: 1.2532110214233398\n",
      "    31    -7.852647e+00     2.398101e-06\n",
      " * time: 1.2788889408111572\n",
      "    32    -7.852647e+00     1.245248e-06\n",
      " * time: 1.3044400215148926\n",
      "    33    -7.852647e+00     7.040907e-07\n",
      " * time: 1.3297479152679443\n",
      "    34    -7.852647e+00     4.484508e-07\n",
      " * time: 1.3552818298339844\n",
      "    35    -7.852647e+00     2.093833e-07\n",
      " * time: 1.3811159133911133\n",
      "    36    -7.852647e+00     1.125298e-07\n",
      " * time: 1.4063889980316162\n",
      "    37    -7.852647e+00     6.984111e-08\n",
      " * time: 1.4317069053649902\n",
      "    38    -7.852647e+00     3.335961e-08\n",
      " * time: 1.456800937652588\n",
      "    39    -7.852647e+00     2.203463e-08\n",
      " * time: 1.482456922531128\n",
      "    40    -7.852647e+00     1.682422e-08\n",
      " * time: 1.507260799407959\n",
      "    41    -7.852647e+00     8.139092e-09\n",
      " * time: 1.5321409702301025\n",
      "    42    -7.852647e+00     3.841544e-09\n",
      " * time: 1.5569448471069336\n",
      "    43    -7.852647e+00     3.832372e-09\n",
      " * time: 1.6158909797668457\n",
      "    44    -7.852647e+00     1.167498e-09\n",
      " * time: 1.6408028602600098\n"
     ]
    }
   ],
   "cell_type": "code",
   "source": [
    "scfres_dm = direct_minimization(basis; tol=tol^2);"
   ],
   "metadata": {},
   "execution_count": 4
  },
  {
   "cell_type": "markdown",
   "source": [
    "## Newton algorithm"
   ],
   "metadata": {}
  },
  {
   "cell_type": "markdown",
   "source": [
    "Start not too far from the solution to ensure convergence:\n",
    "We run first a very crude SCF to get close and then switch to Newton."
   ],
   "metadata": {}
  },
  {
   "outputs": [
    {
     "name": "stdout",
     "output_type": "stream",
     "text": [
      "n     Energy            log10(ΔE)   log10(Δρ)   Diag   Δtime\n",
      "---   ---------------   ---------   ---------   ----   ------\n",
      "  1   -7.846801037395                   -0.70    4.5         \n"
     ]
    }
   ],
   "cell_type": "code",
   "source": [
    "scfres_start = self_consistent_field(basis; tol=0.5);"
   ],
   "metadata": {},
   "execution_count": 5
  },
  {
   "cell_type": "markdown",
   "source": [
    "Remove the virtual orbitals (which Newton cannot treat yet)"
   ],
   "metadata": {}
  },
  {
   "outputs": [
    {
     "name": "stdout",
     "output_type": "stream",
     "text": [
      "n     Energy            log10(ΔE)   log10(Δρ)   Δtime\n",
      "---   ---------------   ---------   ---------   ------\n",
      "  1   -7.852645892059                   -1.64         \n",
      "  2   -7.852646686730       -6.10       -3.70    2.12s\n",
      "  3   -7.852646686730      -13.27       -7.24    179ms\n"
     ]
    }
   ],
   "cell_type": "code",
   "source": [
    "ψ = DFTK.select_occupied_orbitals(basis, scfres_start.ψ, scfres_start.occupation).ψ\n",
    "scfres_newton = newton(basis, ψ; tol);"
   ],
   "metadata": {},
   "execution_count": 6
  },
  {
   "cell_type": "markdown",
   "source": [
    "## Comparison of results"
   ],
   "metadata": {}
  },
  {
   "outputs": [
    {
     "name": "stdout",
     "output_type": "stream",
     "text": [
      "|ρ_newton - ρ_scf|  = 2.0193618008631192e-7\n",
      "|ρ_newton - ρ_scfv| = 2.6049040122515025e-7\n",
      "|ρ_newton - ρ_dm|   = 7.234332400427705e-10\n"
     ]
    }
   ],
   "cell_type": "code",
   "source": [
    "println(\"|ρ_newton - ρ_scf|  = \", norm(scfres_newton.ρ - scfres_scf.ρ))\n",
    "println(\"|ρ_newton - ρ_scfv| = \", norm(scfres_newton.ρ - scfres_scfv.ρ))\n",
    "println(\"|ρ_newton - ρ_dm|   = \", norm(scfres_newton.ρ - scfres_dm.ρ))"
   ],
   "metadata": {},
   "execution_count": 7
  }
 ],
 "nbformat_minor": 3,
 "metadata": {
  "language_info": {
   "file_extension": ".jl",
   "mimetype": "application/julia",
   "name": "julia",
   "version": "1.9.3"
  },
  "kernelspec": {
   "name": "julia-1.9",
   "display_name": "Julia 1.9.3",
   "language": "julia"
  }
 },
 "nbformat": 4
}
