{
 "cells": [
  {
   "cell_type": "markdown",
   "source": [
    "# Comparison of DFT solvers"
   ],
   "metadata": {}
  },
  {
   "cell_type": "markdown",
   "source": [
    "We compare four different approaches for solving the DFT minimisation problem,\n",
    "namely a density-based SCF, a potential-based SCF, direct minimisation and Newton."
   ],
   "metadata": {}
  },
  {
   "cell_type": "markdown",
   "source": [
    "First we setup our problem"
   ],
   "metadata": {}
  },
  {
   "outputs": [
    {
     "output_type": "execute_result",
     "data": {
      "text/plain": "1.0e-6"
     },
     "metadata": {},
     "execution_count": 1
    }
   ],
   "cell_type": "code",
   "source": [
    "using DFTK\n",
    "using LinearAlgebra\n",
    "\n",
    "a = 10.26  # Silicon lattice constant in Bohr\n",
    "lattice = a / 2 * [[0 1 1.];\n",
    "                   [1 0 1.];\n",
    "                   [1 1 0.]]\n",
    "Si = ElementPsp(:Si, psp=load_psp(\"hgh/lda/Si-q4\"))\n",
    "atoms     = [Si, Si]\n",
    "positions = [ones(3)/8, -ones(3)/8]\n",
    "\n",
    "model = model_LDA(lattice, atoms, positions)\n",
    "basis = PlaneWaveBasis(model; Ecut=5, kgrid=[3, 3, 3])\n",
    "\n",
    "# Convergence we desire in the density\n",
    "tol = 1e-6"
   ],
   "metadata": {},
   "execution_count": 1
  },
  {
   "cell_type": "markdown",
   "source": [
    "## Density-based self-consistent field"
   ],
   "metadata": {}
  },
  {
   "outputs": [
    {
     "name": "stdout",
     "output_type": "stream",
     "text": [
      "n     Energy            log10(ΔE)   log10(Δρ)   Diag   Δtime\n",
      "---   ---------------   ---------   ---------   ----   ------\n",
      "  1   -7.846868117107                   -0.70    4.5         \n",
      "  2   -7.852318884429       -2.26       -1.53    1.0   17.5ms\n",
      "  3   -7.852615671771       -3.53       -2.56    1.5   18.6ms\n",
      "  4   -7.852646058815       -4.52       -2.90    2.5   23.2ms\n",
      "  5   -7.852646523801       -6.33       -3.19    1.2   18.1ms\n",
      "  6   -7.852646679805       -6.81       -4.00    1.0   17.5ms\n",
      "  7   -7.852646686361       -8.18       -5.28    1.5   19.6ms\n",
      "  8   -7.852646686723       -9.44       -5.44    2.2   23.4ms\n",
      "  9   -7.852646686730      -11.20       -6.34    1.0   17.7ms\n"
     ]
    }
   ],
   "cell_type": "code",
   "source": [
    "scfres_scf = self_consistent_field(basis; tol);"
   ],
   "metadata": {},
   "execution_count": 2
  },
  {
   "cell_type": "markdown",
   "source": [
    "## Potential-based SCF"
   ],
   "metadata": {}
  },
  {
   "outputs": [
    {
     "name": "stdout",
     "output_type": "stream",
     "text": [
      "n     Energy            log10(ΔE)   log10(Δρ)   α      Diag   Δtime\n",
      "---   ---------------   ---------   ---------   ----   ----   ------\n",
      "  1   -7.846961354659                   -0.70           4.5         \n",
      "  2   -7.852553767049       -2.25       -1.64   0.80    2.0    216ms\n",
      "  3   -7.852639097248       -4.07       -2.75   0.80    1.0   17.5ms\n",
      "  4   -7.852646505382       -5.13       -3.34   0.80    2.0   20.9ms\n",
      "  5   -7.852646679958       -6.76       -4.22   0.80    1.5   18.2ms\n",
      "  6   -7.852646686577       -8.18       -4.78   0.80    1.8   26.5ms\n",
      "  7   -7.852646686720       -9.84       -5.58   0.80    1.2   30.7ms\n",
      "  8   -7.852646686730      -11.03       -6.46   0.80    2.0   22.6ms\n"
     ]
    }
   ],
   "cell_type": "code",
   "source": [
    "scfres_scfv = DFTK.scf_potential_mixing(basis; tol);"
   ],
   "metadata": {},
   "execution_count": 3
  },
  {
   "cell_type": "markdown",
   "source": [
    "## Direct minimization\n",
    "Note: Unlike the other algorithms, tolerance for this one is in the energy,\n",
    "thus we square the density tolerance value to be roughly equivalent."
   ],
   "metadata": {}
  },
  {
   "outputs": [
    {
     "name": "stdout",
     "output_type": "stream",
     "text": [
      "Iter     Function value   Gradient norm \n",
      "     0     1.429371e+01     3.961312e+00\n",
      " * time: 0.047467947006225586\n",
      "     1     1.252168e+00     1.877055e+00\n",
      " * time: 0.22797393798828125\n",
      "     2    -1.740138e+00     2.193008e+00\n",
      " * time: 0.24622678756713867\n",
      "     3    -3.742473e+00     2.056474e+00\n",
      " * time: 0.2724928855895996\n",
      "     4    -4.998269e+00     1.778979e+00\n",
      " * time: 0.2986898422241211\n",
      "     5    -6.676719e+00     1.133724e+00\n",
      " * time: 0.3247859477996826\n",
      "     6    -7.413169e+00     4.294971e-01\n",
      " * time: 0.40535783767700195\n",
      "     7    -7.695244e+00     2.752075e-01\n",
      " * time: 0.4235858917236328\n",
      "     8    -7.792410e+00     9.546171e-02\n",
      " * time: 0.4416079521179199\n",
      "     9    -7.828205e+00     1.248922e-01\n",
      " * time: 0.4594919681549072\n",
      "    10    -7.839770e+00     4.840447e-02\n",
      " * time: 0.47742795944213867\n",
      "    11    -7.844274e+00     5.118664e-02\n",
      " * time: 0.49525880813598633\n",
      "    12    -7.845322e+00     5.278988e-02\n",
      " * time: 0.5130789279937744\n",
      "    13    -7.845370e+00     6.355834e-02\n",
      " * time: 0.5386338233947754\n",
      "    14    -7.845740e+00     6.843167e-02\n",
      " * time: 0.5722987651824951\n",
      "    15    -7.846564e+00     5.544188e-02\n",
      " * time: 0.5981459617614746\n",
      "    16    -7.848391e+00     3.251311e-02\n",
      " * time: 0.6159689426422119\n",
      "    17    -7.850494e+00     1.951936e-02\n",
      " * time: 0.6337549686431885\n",
      "    18    -7.851734e+00     3.551912e-02\n",
      " * time: 0.6516499519348145\n",
      "    19    -7.852348e+00     1.760413e-02\n",
      " * time: 0.669543981552124\n",
      "    20    -7.852575e+00     5.646651e-03\n",
      " * time: 0.6875598430633545\n",
      "    21    -7.852623e+00     4.825079e-03\n",
      " * time: 0.7055099010467529\n",
      "    22    -7.852636e+00     2.044338e-03\n",
      " * time: 0.7234508991241455\n",
      "    23    -7.852643e+00     1.292757e-03\n",
      " * time: 0.7414979934692383\n",
      "    24    -7.852646e+00     8.911487e-04\n",
      " * time: 0.7594959735870361\n",
      "    25    -7.852646e+00     3.002651e-04\n",
      " * time: 0.777385950088501\n",
      "    26    -7.852647e+00     2.512480e-04\n",
      " * time: 0.7954528331756592\n",
      "    27    -7.852647e+00     2.089346e-04\n",
      " * time: 0.8136498928070068\n",
      "    28    -7.852647e+00     5.424675e-05\n",
      " * time: 0.8316249847412109\n",
      "    29    -7.852647e+00     4.566456e-05\n",
      " * time: 0.8495697975158691\n",
      "    30    -7.852647e+00     3.098798e-05\n",
      " * time: 0.8674118518829346\n",
      "    31    -7.852647e+00     1.357165e-05\n",
      " * time: 0.8852617740631104\n",
      "    32    -7.852647e+00     1.032189e-05\n",
      " * time: 0.9031538963317871\n",
      "    33    -7.852647e+00     4.068598e-06\n",
      " * time: 0.9210219383239746\n",
      "    34    -7.852647e+00     4.626967e-06\n",
      " * time: 0.9389588832855225\n",
      "    35    -7.852647e+00     3.329237e-06\n",
      " * time: 0.9570798873901367\n",
      "    36    -7.852647e+00     9.184712e-07\n",
      " * time: 0.9754347801208496\n",
      "    37    -7.852647e+00     9.874677e-07\n",
      " * time: 0.9934828281402588\n",
      "    38    -7.852647e+00     6.300578e-07\n",
      " * time: 1.011570930480957\n",
      "    39    -7.852647e+00     2.215512e-07\n",
      " * time: 1.0295767784118652\n",
      "    40    -7.852647e+00     1.764099e-07\n",
      " * time: 1.0475218296051025\n",
      "    41    -7.852647e+00     5.816644e-08\n",
      " * time: 1.0654609203338623\n",
      "    42    -7.852647e+00     4.653921e-08\n",
      " * time: 1.0833778381347656\n",
      "    43    -7.852647e+00     2.773678e-08\n",
      " * time: 1.1014199256896973\n",
      "    44    -7.852647e+00     2.110663e-08\n",
      " * time: 1.1193509101867676\n",
      "    45    -7.852647e+00     9.624886e-09\n",
      " * time: 1.1453258991241455\n",
      "    46    -7.852647e+00     6.620747e-09\n",
      " * time: 1.1713309288024902\n",
      "    47    -7.852647e+00     6.564224e-09\n",
      " * time: 1.213364839553833\n",
      "    48    -7.852647e+00     6.564223e-09\n",
      " * time: 1.3234329223632812\n"
     ]
    }
   ],
   "cell_type": "code",
   "source": [
    "scfres_dm = direct_minimization(basis; tol=tol^2);"
   ],
   "metadata": {},
   "execution_count": 4
  },
  {
   "cell_type": "markdown",
   "source": [
    "## Newton algorithm"
   ],
   "metadata": {}
  },
  {
   "cell_type": "markdown",
   "source": [
    "Start not too far from the solution to ensure convergence:\n",
    "We run first a very crude SCF to get close and then switch to Newton."
   ],
   "metadata": {}
  },
  {
   "outputs": [
    {
     "name": "stdout",
     "output_type": "stream",
     "text": [
      "n     Energy            log10(ΔE)   log10(Δρ)   Diag   Δtime\n",
      "---   ---------------   ---------   ---------   ----   ------\n",
      "  1   -7.846896005646                   -0.70    4.5         \n"
     ]
    }
   ],
   "cell_type": "code",
   "source": [
    "scfres_start = self_consistent_field(basis; tol=0.5);"
   ],
   "metadata": {},
   "execution_count": 5
  },
  {
   "cell_type": "markdown",
   "source": [
    "Remove the virtual orbitals (which Newton cannot treat yet)"
   ],
   "metadata": {}
  },
  {
   "outputs": [
    {
     "name": "stdout",
     "output_type": "stream",
     "text": [
      "n     Energy            log10(ΔE)   log10(Δρ)   Δtime\n",
      "---   ---------------   ---------   ---------   ------\n",
      "  1   -7.852645922247                   -1.64         \n",
      "  2   -7.852646686730       -6.12       -3.72    1.52s\n",
      "  3   -7.852646686730      -13.32       -7.25    121ms\n"
     ]
    }
   ],
   "cell_type": "code",
   "source": [
    "ψ = DFTK.select_occupied_orbitals(basis, scfres_start.ψ, scfres_start.occupation).ψ\n",
    "scfres_newton = newton(basis, ψ; tol);"
   ],
   "metadata": {},
   "execution_count": 6
  },
  {
   "cell_type": "markdown",
   "source": [
    "## Comparison of results"
   ],
   "metadata": {}
  },
  {
   "outputs": [
    {
     "name": "stdout",
     "output_type": "stream",
     "text": [
      "|ρ_newton - ρ_scf|  = 6.875795218809306e-7\n",
      "|ρ_newton - ρ_scfv| = 9.109948393482596e-8\n",
      "|ρ_newton - ρ_dm|   = 9.90880265490772e-10\n"
     ]
    }
   ],
   "cell_type": "code",
   "source": [
    "println(\"|ρ_newton - ρ_scf|  = \", norm(scfres_newton.ρ - scfres_scf.ρ))\n",
    "println(\"|ρ_newton - ρ_scfv| = \", norm(scfres_newton.ρ - scfres_scfv.ρ))\n",
    "println(\"|ρ_newton - ρ_dm|   = \", norm(scfres_newton.ρ - scfres_dm.ρ))"
   ],
   "metadata": {},
   "execution_count": 7
  }
 ],
 "nbformat_minor": 3,
 "metadata": {
  "language_info": {
   "file_extension": ".jl",
   "mimetype": "application/julia",
   "name": "julia",
   "version": "1.9.4"
  },
  "kernelspec": {
   "name": "julia-1.9",
   "display_name": "Julia 1.9.4",
   "language": "julia"
  }
 },
 "nbformat": 4
}
