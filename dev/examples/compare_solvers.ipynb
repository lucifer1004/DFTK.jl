{
 "cells": [
  {
   "cell_type": "markdown",
   "source": [
    "# Comparison of DFT solvers"
   ],
   "metadata": {}
  },
  {
   "cell_type": "markdown",
   "source": [
    "We compare four different approaches for solving the DFT minimisation problem,\n",
    "namely a density-based SCF, a potential-based SCF, direct minimisation and Newton."
   ],
   "metadata": {}
  },
  {
   "cell_type": "markdown",
   "source": [
    "First we setup our problem"
   ],
   "metadata": {}
  },
  {
   "outputs": [
    {
     "output_type": "execute_result",
     "data": {
      "text/plain": "1.0e-6"
     },
     "metadata": {},
     "execution_count": 1
    }
   ],
   "cell_type": "code",
   "source": [
    "using DFTK\n",
    "using LinearAlgebra\n",
    "\n",
    "a = 10.26  # Silicon lattice constant in Bohr\n",
    "lattice = a / 2 * [[0 1 1.];\n",
    "                   [1 0 1.];\n",
    "                   [1 1 0.]]\n",
    "Si = ElementPsp(:Si; psp=load_psp(\"hgh/lda/Si-q4\"))\n",
    "atoms     = [Si, Si]\n",
    "positions = [ones(3)/8, -ones(3)/8]\n",
    "\n",
    "model = model_LDA(lattice, atoms, positions)\n",
    "basis = PlaneWaveBasis(model; Ecut=5, kgrid=[3, 3, 3])\n",
    "\n",
    "# Convergence we desire in the density\n",
    "tol = 1e-6"
   ],
   "metadata": {},
   "execution_count": 1
  },
  {
   "cell_type": "markdown",
   "source": [
    "## Density-based self-consistent field"
   ],
   "metadata": {}
  },
  {
   "outputs": [
    {
     "name": "stdout",
     "output_type": "stream",
     "text": [
      "n     Energy            log10(ΔE)   log10(Δρ)   Diag   Δtime\n",
      "---   ---------------   ---------   ---------   ----   ------\n",
      "  1   -7.846709088067                   -0.70    4.5         \n",
      "  2   -7.852299650873       -2.25       -1.53    1.0   16.8ms\n",
      "  3   -7.852612736496       -3.50       -2.55    1.5   18.5ms\n",
      "  4   -7.852645959018       -4.48       -2.87    2.8   23.4ms\n",
      "  5   -7.852646490607       -6.27       -3.16    1.0   17.0ms\n",
      "  6   -7.852646678361       -6.73       -3.98    1.0   17.1ms\n",
      "  7   -7.852646686268       -8.10       -5.24    1.5   19.1ms\n",
      "  8   -7.852646686725       -9.34       -5.55    2.5   23.4ms\n",
      "  9   -7.852646686730      -11.34       -6.64    1.0   17.4ms\n"
     ]
    }
   ],
   "cell_type": "code",
   "source": [
    "scfres_scf = self_consistent_field(basis; tol);"
   ],
   "metadata": {},
   "execution_count": 2
  },
  {
   "cell_type": "markdown",
   "source": [
    "## Potential-based SCF"
   ],
   "metadata": {}
  },
  {
   "outputs": [
    {
     "name": "stdout",
     "output_type": "stream",
     "text": [
      "n     Energy            log10(ΔE)   log10(Δρ)   α      Diag   Δtime\n",
      "---   ---------------   ---------   ---------   ----   ----   ------\n",
      "  1   -7.846846558982                   -0.70           4.8         \n",
      "  2   -7.852526297981       -2.25       -1.64   0.80    2.0    204ms\n",
      "  3   -7.852635474106       -3.96       -2.73   0.80    1.0   15.7ms\n",
      "  4   -7.852646461353       -4.96       -3.25   0.80    2.2   20.6ms\n",
      "  5   -7.852646668297       -6.68       -4.06   0.80    1.0   15.7ms\n",
      "  6   -7.852646686317       -7.74       -4.71   0.80    1.8   18.9ms\n",
      "  7   -7.852646686723       -9.39       -5.40   0.80    1.8   19.2ms\n",
      "  8   -7.852646686729      -11.24       -6.58   0.80    1.2   16.9ms\n"
     ]
    }
   ],
   "cell_type": "code",
   "source": [
    "scfres_scfv = DFTK.scf_potential_mixing(basis; tol);"
   ],
   "metadata": {},
   "execution_count": 3
  },
  {
   "cell_type": "markdown",
   "source": [
    "## Direct minimization\n",
    "Note: Unlike the other algorithms, tolerance for this one is in the energy,\n",
    "thus we square the density tolerance value to be roughly equivalent."
   ],
   "metadata": {}
  },
  {
   "outputs": [
    {
     "name": "stdout",
     "output_type": "stream",
     "text": [
      "Iter     Function value   Gradient norm \n",
      "     0     1.385061e+01     4.191001e+00\n",
      " * time: 0.045449018478393555\n",
      "     1     1.405128e+00     1.896529e+00\n",
      " * time: 0.21868896484375\n",
      "     2    -1.173156e+00     2.187357e+00\n",
      " * time: 0.23662400245666504\n",
      "     3    -3.582531e+00     1.746044e+00\n",
      " * time: 0.2623000144958496\n",
      "     4    -4.933845e+00     1.600797e+00\n",
      " * time: 0.28797292709350586\n",
      "     5    -6.660919e+00     1.214703e+00\n",
      " * time: 0.31387901306152344\n",
      "     6    -7.275316e+00     8.645262e-01\n",
      " * time: 0.3396749496459961\n",
      "     7    -7.531566e+00     5.931361e-01\n",
      " * time: 0.3575730323791504\n",
      "     8    -7.636056e+00     1.338154e-01\n",
      " * time: 0.37552595138549805\n",
      "     9    -7.697256e+00     2.478907e-01\n",
      " * time: 0.39334797859191895\n",
      "    10    -7.731793e+00     1.070115e-01\n",
      " * time: 0.41123199462890625\n",
      "    11    -7.758378e+00     1.262656e-01\n",
      " * time: 0.42917299270629883\n",
      "    12    -7.794975e+00     1.130548e-01\n",
      " * time: 0.44702601432800293\n",
      "    13    -7.827166e+00     5.827463e-02\n",
      " * time: 0.46488094329833984\n",
      "    14    -7.845228e+00     5.553283e-02\n",
      " * time: 0.482745885848999\n",
      "    15    -7.850640e+00     6.962607e-02\n",
      " * time: 0.5005648136138916\n",
      "    16    -7.851902e+00     3.287134e-02\n",
      " * time: 0.5184409618377686\n",
      "    17    -7.852438e+00     8.515016e-03\n",
      " * time: 0.5362818241119385\n",
      "    18    -7.852595e+00     4.904010e-03\n",
      " * time: 0.554210901260376\n",
      "    19    -7.852629e+00     3.355565e-03\n",
      " * time: 0.5720598697662354\n",
      "    20    -7.852642e+00     2.113790e-03\n",
      " * time: 0.589900016784668\n",
      "    21    -7.852645e+00     9.051258e-04\n",
      " * time: 0.6077468395233154\n",
      "    22    -7.852646e+00     7.336713e-04\n",
      " * time: 0.6255300045013428\n",
      "    23    -7.852647e+00     4.118367e-04\n",
      " * time: 0.6433579921722412\n",
      "    24    -7.852647e+00     1.718497e-04\n",
      " * time: 0.6611788272857666\n",
      "    25    -7.852647e+00     1.633790e-04\n",
      " * time: 0.6790459156036377\n",
      "    26    -7.852647e+00     5.688590e-05\n",
      " * time: 0.6968698501586914\n",
      "    27    -7.852647e+00     2.840978e-05\n",
      " * time: 0.7147829532623291\n",
      "    28    -7.852647e+00     2.228922e-05\n",
      " * time: 0.7325809001922607\n",
      "    29    -7.852647e+00     1.328283e-05\n",
      " * time: 0.7504169940948486\n",
      "    30    -7.852647e+00     4.848099e-06\n",
      " * time: 0.7682688236236572\n",
      "    31    -7.852647e+00     3.598471e-06\n",
      " * time: 0.7861049175262451\n",
      "    32    -7.852647e+00     1.798836e-06\n",
      " * time: 0.8039228916168213\n",
      "    33    -7.852647e+00     1.360665e-06\n",
      " * time: 0.8218019008636475\n",
      "    34    -7.852647e+00     7.927837e-07\n",
      " * time: 0.8402149677276611\n",
      "    35    -7.852647e+00     4.223533e-07\n",
      " * time: 0.9010958671569824\n",
      "    36    -7.852647e+00     3.393313e-07\n",
      " * time: 0.9188389778137207\n",
      "    37    -7.852647e+00     1.318379e-07\n",
      " * time: 0.936506986618042\n",
      "    38    -7.852647e+00     8.586469e-08\n",
      " * time: 0.9541490077972412\n",
      "    39    -7.852647e+00     7.273864e-08\n",
      " * time: 0.9717869758605957\n",
      "    40    -7.852647e+00     3.321039e-08\n",
      " * time: 0.9894089698791504\n",
      "    41    -7.852647e+00     1.838996e-08\n",
      " * time: 1.007105827331543\n",
      "    42    -7.852647e+00     1.718862e-08\n",
      " * time: 1.0406708717346191\n",
      "    43    -7.852647e+00     1.718862e-08\n",
      " * time: 1.129638910293579\n"
     ]
    }
   ],
   "cell_type": "code",
   "source": [
    "scfres_dm = direct_minimization(basis; tol=tol^2);"
   ],
   "metadata": {},
   "execution_count": 4
  },
  {
   "cell_type": "markdown",
   "source": [
    "## Newton algorithm"
   ],
   "metadata": {}
  },
  {
   "cell_type": "markdown",
   "source": [
    "Start not too far from the solution to ensure convergence:\n",
    "We run first a very crude SCF to get close and then switch to Newton."
   ],
   "metadata": {}
  },
  {
   "outputs": [
    {
     "name": "stdout",
     "output_type": "stream",
     "text": [
      "n     Energy            log10(ΔE)   log10(Δρ)   Diag   Δtime\n",
      "---   ---------------   ---------   ---------   ----   ------\n",
      "  1   -7.846739220598                   -0.70    4.5         \n"
     ]
    }
   ],
   "cell_type": "code",
   "source": [
    "scfres_start = self_consistent_field(basis; tol=0.5);"
   ],
   "metadata": {},
   "execution_count": 5
  },
  {
   "cell_type": "markdown",
   "source": [
    "Remove the virtual orbitals (which Newton cannot treat yet)"
   ],
   "metadata": {}
  },
  {
   "outputs": [
    {
     "name": "stdout",
     "output_type": "stream",
     "text": [
      "n     Energy            log10(ΔE)   log10(Δρ)   Δtime\n",
      "---   ---------------   ---------   ---------   ------\n",
      "  1   -7.852645860694                   -1.64         \n",
      "  2   -7.852646686730       -6.08       -3.70    1.49s\n",
      "  3   -7.852646686730      -13.22       -7.21    151ms\n"
     ]
    }
   ],
   "cell_type": "code",
   "source": [
    "ψ = DFTK.select_occupied_orbitals(basis, scfres_start.ψ, scfres_start.occupation).ψ\n",
    "scfres_newton = newton(basis, ψ; tol);"
   ],
   "metadata": {},
   "execution_count": 6
  },
  {
   "cell_type": "markdown",
   "source": [
    "## Comparison of results"
   ],
   "metadata": {}
  },
  {
   "outputs": [
    {
     "name": "stdout",
     "output_type": "stream",
     "text": [
      "|ρ_newton - ρ_scf|  = 2.601276412181086e-7\n",
      "|ρ_newton - ρ_scfv| = 4.948537675598166e-7\n",
      "|ρ_newton - ρ_dm|   = 1.9298545733695725e-9\n"
     ]
    }
   ],
   "cell_type": "code",
   "source": [
    "println(\"|ρ_newton - ρ_scf|  = \", norm(scfres_newton.ρ - scfres_scf.ρ))\n",
    "println(\"|ρ_newton - ρ_scfv| = \", norm(scfres_newton.ρ - scfres_scfv.ρ))\n",
    "println(\"|ρ_newton - ρ_dm|   = \", norm(scfres_newton.ρ - scfres_dm.ρ))"
   ],
   "metadata": {},
   "execution_count": 7
  }
 ],
 "nbformat_minor": 3,
 "metadata": {
  "language_info": {
   "file_extension": ".jl",
   "mimetype": "application/julia",
   "name": "julia",
   "version": "1.9.4"
  },
  "kernelspec": {
   "name": "julia-1.9",
   "display_name": "Julia 1.9.4",
   "language": "julia"
  }
 },
 "nbformat": 4
}
