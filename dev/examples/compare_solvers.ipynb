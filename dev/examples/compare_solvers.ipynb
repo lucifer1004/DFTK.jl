{
 "cells": [
  {
   "cell_type": "markdown",
   "source": [
    "# Comparison of DFT solvers"
   ],
   "metadata": {}
  },
  {
   "cell_type": "markdown",
   "source": [
    "We compare four different approaches for solving the DFT minimisation problem,\n",
    "namely a density-based SCF, a potential-based SCF, direct minimisation and Newton."
   ],
   "metadata": {}
  },
  {
   "cell_type": "markdown",
   "source": [
    "First we setup our problem"
   ],
   "metadata": {}
  },
  {
   "outputs": [
    {
     "output_type": "execute_result",
     "data": {
      "text/plain": "1.0e-6"
     },
     "metadata": {},
     "execution_count": 1
    }
   ],
   "cell_type": "code",
   "source": [
    "using DFTK\n",
    "using LinearAlgebra\n",
    "\n",
    "a = 10.26  # Silicon lattice constant in Bohr\n",
    "lattice = a / 2 * [[0 1 1.];\n",
    "                   [1 0 1.];\n",
    "                   [1 1 0.]]\n",
    "Si = ElementPsp(:Si, psp=load_psp(\"hgh/lda/Si-q4\"))\n",
    "atoms     = [Si, Si]\n",
    "positions = [ones(3)/8, -ones(3)/8]\n",
    "\n",
    "model = model_LDA(lattice, atoms, positions)\n",
    "basis = PlaneWaveBasis(model; Ecut=5, kgrid=[3, 3, 3])\n",
    "\n",
    "# Convergence we desire in the density\n",
    "tol = 1e-6"
   ],
   "metadata": {},
   "execution_count": 1
  },
  {
   "cell_type": "markdown",
   "source": [
    "## Density-based self-consistent field"
   ],
   "metadata": {}
  },
  {
   "outputs": [
    {
     "name": "stdout",
     "output_type": "stream",
     "text": [
      "n     Energy            log10(ΔE)   log10(Δρ)   Diag   Δtime\n",
      "---   ---------------   ---------   ---------   ----   ------\n",
      "  1   -7.846762731669                   -0.70    4.2         \n",
      "  2   -7.852301678891       -2.26       -1.53    1.0   23.0ms\n",
      "  3   -7.852613300301       -3.51       -2.55    1.5   25.9ms\n",
      "  4   -7.852645837523       -4.49       -2.88    2.8   32.2ms\n",
      "  5   -7.852646483600       -6.19       -3.18    1.0   23.1ms\n",
      "  6   -7.852646677971       -6.71       -4.04    1.0   23.1ms\n",
      "  7   -7.852646686541       -8.07       -5.15    1.8   28.4ms\n",
      "  8   -7.852646686721       -9.74       -5.35    2.2   29.7ms\n",
      "  9   -7.852646686729      -11.10       -6.14    1.0   83.4ms\n"
     ]
    }
   ],
   "cell_type": "code",
   "source": [
    "scfres_scf = self_consistent_field(basis; tol);"
   ],
   "metadata": {},
   "execution_count": 2
  },
  {
   "cell_type": "markdown",
   "source": [
    "## Potential-based SCF"
   ],
   "metadata": {}
  },
  {
   "outputs": [
    {
     "name": "stdout",
     "output_type": "stream",
     "text": [
      "n     Energy            log10(ΔE)   log10(Δρ)   α      Diag   Δtime\n",
      "---   ---------------   ---------   ---------   ----   ----   ------\n",
      "  1   -7.846788626083                   -0.70           4.5         \n",
      "  2   -7.852526668833       -2.24       -1.64   0.80    2.2    263ms\n",
      "  3   -7.852636566437       -3.96       -2.72   0.80    1.0   21.9ms\n",
      "  4   -7.852646441168       -5.01       -3.27   0.80    2.2   28.6ms\n",
      "  5   -7.852646672195       -6.64       -4.10   0.80    1.5   24.1ms\n",
      "  6   -7.852646686300       -7.85       -4.75   0.80    1.8   26.3ms\n",
      "  7   -7.852646686723       -9.37       -5.62   0.80    1.5   24.7ms\n",
      "  8   -7.852646686730      -11.20       -6.63   0.80    1.8   25.8ms\n"
     ]
    }
   ],
   "cell_type": "code",
   "source": [
    "scfres_scfv = DFTK.scf_potential_mixing(basis; tol);"
   ],
   "metadata": {},
   "execution_count": 3
  },
  {
   "cell_type": "markdown",
   "source": [
    "## Direct minimization\n",
    "Note: Unlike the other algorithms, tolerance for this one is in the energy,\n",
    "thus we square the density tolerance value to be roughly equivalent."
   ],
   "metadata": {}
  },
  {
   "outputs": [
    {
     "name": "stdout",
     "output_type": "stream",
     "text": [
      "Iter     Function value   Gradient norm \n",
      "     0     1.386589e+01     3.695087e+00\n",
      " * time: 0.05808520317077637\n",
      "     1     1.109922e+00     2.038859e+00\n",
      " * time: 0.283217191696167\n",
      "     2    -1.498724e+00     2.427578e+00\n",
      " * time: 0.306380033493042\n",
      "     3    -3.720102e+00     1.988739e+00\n",
      " * time: 0.3397030830383301\n",
      "     4    -4.955416e+00     1.638416e+00\n",
      " * time: 0.3725261688232422\n",
      "     5    -6.657182e+00     9.513314e-01\n",
      " * time: 0.40588808059692383\n",
      "     6    -7.297571e+00     4.401271e-01\n",
      " * time: 0.4389631748199463\n",
      "     7    -7.563065e+00     1.741518e-01\n",
      " * time: 0.4620211124420166\n",
      "     8    -7.695584e+00     1.541590e-01\n",
      " * time: 0.4850611686706543\n",
      "     9    -7.776845e+00     9.976182e-02\n",
      " * time: 0.5078170299530029\n",
      "    10    -7.816598e+00     5.327630e-02\n",
      " * time: 0.5308201313018799\n",
      "    11    -7.838248e+00     5.049022e-02\n",
      " * time: 0.5538370609283447\n",
      "    12    -7.844896e+00     4.989172e-02\n",
      " * time: 0.5768611431121826\n",
      "    13    -7.846990e+00     3.725981e-02\n",
      " * time: 0.5998971462249756\n",
      "    14    -7.849156e+00     2.946456e-02\n",
      " * time: 0.6235191822052002\n",
      "    15    -7.850987e+00     1.911213e-02\n",
      " * time: 0.648015022277832\n",
      "    16    -7.851998e+00     1.432309e-02\n",
      " * time: 0.6717071533203125\n",
      "    17    -7.852470e+00     6.301274e-03\n",
      " * time: 0.6951889991760254\n",
      "    18    -7.852591e+00     4.843610e-03\n",
      " * time: 0.7183701992034912\n",
      "    19    -7.852624e+00     1.668158e-03\n",
      " * time: 0.7413420677185059\n",
      "    20    -7.852639e+00     1.126958e-03\n",
      " * time: 0.7643320560455322\n",
      "    21    -7.852644e+00     9.781489e-04\n",
      " * time: 0.7871861457824707\n",
      "    22    -7.852646e+00     6.602764e-04\n",
      " * time: 0.8098599910736084\n",
      "    23    -7.852646e+00     3.696878e-04\n",
      " * time: 0.8327691555023193\n",
      "    24    -7.852647e+00     1.410627e-04\n",
      " * time: 0.8558320999145508\n",
      "    25    -7.852647e+00     1.033355e-04\n",
      " * time: 0.8792262077331543\n",
      "    26    -7.852647e+00     8.073077e-05\n",
      " * time: 0.967968225479126\n",
      "    27    -7.852647e+00     4.118040e-05\n",
      " * time: 0.9908981323242188\n",
      "    28    -7.852647e+00     2.269558e-05\n",
      " * time: 1.0135431289672852\n",
      "    29    -7.852647e+00     7.113481e-06\n",
      " * time: 1.0366241931915283\n",
      "    30    -7.852647e+00     6.768826e-06\n",
      " * time: 1.0605580806732178\n",
      "    31    -7.852647e+00     4.990773e-06\n",
      " * time: 1.0830211639404297\n",
      "    32    -7.852647e+00     2.557810e-06\n",
      " * time: 1.1060361862182617\n",
      "    33    -7.852647e+00     1.312948e-06\n",
      " * time: 1.1287381649017334\n",
      "    34    -7.852647e+00     8.214431e-07\n",
      " * time: 1.1518540382385254\n",
      "    35    -7.852647e+00     4.556307e-07\n",
      " * time: 1.1756641864776611\n",
      "    36    -7.852647e+00     2.770345e-07\n",
      " * time: 1.1991000175476074\n",
      "    37    -7.852647e+00     2.080599e-07\n",
      " * time: 1.222400188446045\n",
      "    38    -7.852647e+00     1.270569e-07\n",
      " * time: 1.2452011108398438\n",
      "    39    -7.852647e+00     7.811556e-08\n",
      " * time: 1.2681770324707031\n",
      "    40    -7.852647e+00     4.625631e-08\n",
      " * time: 1.2910890579223633\n",
      "    41    -7.852647e+00     2.300529e-08\n",
      " * time: 1.3142271041870117\n",
      "    42    -7.852647e+00     1.579385e-08\n",
      " * time: 1.3370800018310547\n",
      "    43    -7.852647e+00     9.736707e-09\n",
      " * time: 1.359551191329956\n",
      "    44    -7.852647e+00     4.602038e-09\n",
      " * time: 1.3821392059326172\n"
     ]
    }
   ],
   "cell_type": "code",
   "source": [
    "scfres_dm = direct_minimization(basis; tol=tol^2);"
   ],
   "metadata": {},
   "execution_count": 4
  },
  {
   "cell_type": "markdown",
   "source": [
    "## Newton algorithm"
   ],
   "metadata": {}
  },
  {
   "cell_type": "markdown",
   "source": [
    "Start not too far from the solution to ensure convergence:\n",
    "We run first a very crude SCF to get close and then switch to Newton."
   ],
   "metadata": {}
  },
  {
   "outputs": [
    {
     "name": "stdout",
     "output_type": "stream",
     "text": [
      "n     Energy            log10(ΔE)   log10(Δρ)   Diag   Δtime\n",
      "---   ---------------   ---------   ---------   ----   ------\n",
      "  1   -7.846907696350                   -0.70    4.8         \n"
     ]
    }
   ],
   "cell_type": "code",
   "source": [
    "scfres_start = self_consistent_field(basis; tol=0.5);"
   ],
   "metadata": {},
   "execution_count": 5
  },
  {
   "cell_type": "markdown",
   "source": [
    "Remove the virtual orbitals (which Newton cannot treat yet)"
   ],
   "metadata": {}
  },
  {
   "outputs": [
    {
     "name": "stdout",
     "output_type": "stream",
     "text": [
      "n     Energy            log10(ΔE)   log10(Δρ)   Δtime\n",
      "---   ---------------   ---------   ---------   ------\n",
      "  1   -7.852645943299                   -1.64         \n",
      "  2   -7.852646686730       -6.13       -3.72    1.93s\n",
      "  3   -7.852646686730      -13.36       -7.27    181ms\n"
     ]
    }
   ],
   "cell_type": "code",
   "source": [
    "ψ = DFTK.select_occupied_orbitals(basis, scfres_start.ψ, scfres_start.occupation).ψ\n",
    "scfres_newton = newton(basis, ψ; tol);"
   ],
   "metadata": {},
   "execution_count": 6
  },
  {
   "cell_type": "markdown",
   "source": [
    "## Comparison of results"
   ],
   "metadata": {}
  },
  {
   "outputs": [
    {
     "name": "stdout",
     "output_type": "stream",
     "text": [
      "|ρ_newton - ρ_scf|  = 5.684610343332681e-7\n",
      "|ρ_newton - ρ_scfv| = 2.0944093941458112e-7\n",
      "|ρ_newton - ρ_dm|   = 7.391852524326958e-10\n"
     ]
    }
   ],
   "cell_type": "code",
   "source": [
    "println(\"|ρ_newton - ρ_scf|  = \", norm(scfres_newton.ρ - scfres_scf.ρ))\n",
    "println(\"|ρ_newton - ρ_scfv| = \", norm(scfres_newton.ρ - scfres_scfv.ρ))\n",
    "println(\"|ρ_newton - ρ_dm|   = \", norm(scfres_newton.ρ - scfres_dm.ρ))"
   ],
   "metadata": {},
   "execution_count": 7
  }
 ],
 "nbformat_minor": 3,
 "metadata": {
  "language_info": {
   "file_extension": ".jl",
   "mimetype": "application/julia",
   "name": "julia",
   "version": "1.9.3"
  },
  "kernelspec": {
   "name": "julia-1.9",
   "display_name": "Julia 1.9.3",
   "language": "julia"
  }
 },
 "nbformat": 4
}
