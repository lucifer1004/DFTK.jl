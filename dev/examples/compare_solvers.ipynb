{
 "cells": [
  {
   "cell_type": "markdown",
   "source": [
    "# Comparison of DFT solvers"
   ],
   "metadata": {}
  },
  {
   "cell_type": "markdown",
   "source": [
    "We compare four different approaches for solving the DFT minimisation problem,\n",
    "namely a density-based SCF, a potential-based SCF, direct minimisation and Newton."
   ],
   "metadata": {}
  },
  {
   "cell_type": "markdown",
   "source": [
    "First we setup our problem"
   ],
   "metadata": {}
  },
  {
   "outputs": [
    {
     "output_type": "execute_result",
     "data": {
      "text/plain": "1.0e-6"
     },
     "metadata": {},
     "execution_count": 1
    }
   ],
   "cell_type": "code",
   "source": [
    "using DFTK\n",
    "using LinearAlgebra\n",
    "\n",
    "a = 10.26  # Silicon lattice constant in Bohr\n",
    "lattice = a / 2 * [[0 1 1.];\n",
    "                   [1 0 1.];\n",
    "                   [1 1 0.]]\n",
    "Si = ElementPsp(:Si, psp=load_psp(\"hgh/lda/Si-q4\"))\n",
    "atoms     = [Si, Si]\n",
    "positions = [ones(3)/8, -ones(3)/8]\n",
    "\n",
    "model = model_LDA(lattice, atoms, positions)\n",
    "basis = PlaneWaveBasis(model; Ecut=5, kgrid=[3, 3, 3])\n",
    "\n",
    "# Convergence we desire in the density\n",
    "tol = 1e-6"
   ],
   "metadata": {},
   "execution_count": 1
  },
  {
   "cell_type": "markdown",
   "source": [
    "## Density-based self-consistent field"
   ],
   "metadata": {}
  },
  {
   "outputs": [
    {
     "name": "stdout",
     "output_type": "stream",
     "text": [
      "n     Energy            log10(ΔE)   log10(Δρ)   Diag   Δtime\n",
      "---   ---------------   ---------   ---------   ----   ------\n",
      "  1   -7.846881870075                   -0.70    4.8         \n",
      "  2   -7.852321725331       -2.26       -1.53    1.0   18.0ms\n",
      "  3   -7.852615414331       -3.53       -2.56    1.5   19.7ms\n",
      "  4   -7.852646011307       -4.51       -2.91    2.8   93.4ms\n",
      "  5   -7.852646530304       -6.28       -3.24    1.0   17.7ms\n",
      "  6   -7.852646678016       -6.83       -4.00    1.0   17.6ms\n",
      "  7   -7.852646686537       -8.07       -5.14    1.8   21.3ms\n",
      "  8   -7.852646686727       -9.72       -5.57    2.2   23.1ms\n",
      "  9   -7.852646686728      -11.81       -5.67    1.2   18.8ms\n",
      " 10   -7.852646686730      -11.81       -6.75    1.0   18.7ms\n"
     ]
    }
   ],
   "cell_type": "code",
   "source": [
    "scfres_scf = self_consistent_field(basis; tol);"
   ],
   "metadata": {},
   "execution_count": 2
  },
  {
   "cell_type": "markdown",
   "source": [
    "## Potential-based SCF"
   ],
   "metadata": {}
  },
  {
   "outputs": [
    {
     "name": "stdout",
     "output_type": "stream",
     "text": [
      "n     Energy            log10(ΔE)   log10(Δρ)   α      Diag   Δtime\n",
      "---   ---------------   ---------   ---------   ----   ----   ------\n",
      "  1   -7.846862314257                   -0.70           4.5         \n",
      "  2   -7.852553072749       -2.24       -1.64   0.80    2.2    235ms\n",
      "  3   -7.852638496316       -4.07       -2.74   0.80    1.0   17.0ms\n",
      "  4   -7.852646434510       -5.10       -3.33   0.80    1.8   19.8ms\n",
      "  5   -7.852646679106       -6.61       -4.14   0.80    2.2   21.3ms\n",
      "  6   -7.852646686379       -8.14       -4.73   0.80    1.5   19.5ms\n",
      "  7   -7.852646686720       -9.47       -5.67   0.80    1.5   19.5ms\n",
      "  8   -7.852646686730      -11.03       -6.59   0.80    2.0   20.8ms\n"
     ]
    }
   ],
   "cell_type": "code",
   "source": [
    "scfres_scfv = DFTK.scf_potential_mixing(basis; tol);"
   ],
   "metadata": {},
   "execution_count": 3
  },
  {
   "cell_type": "markdown",
   "source": [
    "## Direct minimization\n",
    "Note: Unlike the other algorithms, tolerance for this one is in the energy,\n",
    "thus we square the density tolerance value to be roughly equivalent."
   ],
   "metadata": {}
  },
  {
   "outputs": [
    {
     "name": "stdout",
     "output_type": "stream",
     "text": [
      "Iter     Function value   Gradient norm \n",
      "     0     1.353870e+01     3.734368e+00\n",
      " * time: 0.0506281852722168\n",
      "     1     8.570129e-01     1.843102e+00\n",
      " * time: 0.24685215950012207\n",
      "     2    -2.011736e+00     1.881681e+00\n",
      " * time: 0.26590919494628906\n",
      "     3    -4.082721e+00     1.687418e+00\n",
      " * time: 0.29346513748168945\n",
      "     4    -5.480665e+00     1.444418e+00\n",
      " * time: 0.32109999656677246\n",
      "     5    -6.994651e+00     7.169183e-01\n",
      " * time: 0.3479950428009033\n",
      "     6    -7.058190e+00     1.185415e+00\n",
      " * time: 0.36683011054992676\n",
      "     7    -7.574520e+00     7.797221e-01\n",
      " * time: 0.38576698303222656\n",
      "     8    -7.637218e+00     1.388756e+00\n",
      " * time: 0.40471315383911133\n",
      "     9    -7.699479e+00     1.098589e+00\n",
      " * time: 0.4241042137145996\n",
      "    10    -7.702169e+00     2.079646e+00\n",
      " * time: 0.44298410415649414\n",
      "    11    -7.704987e+00     1.936835e+00\n",
      " * time: 0.46184301376342773\n",
      "    12    -7.764918e+00     2.654774e-01\n",
      " * time: 0.4973900318145752\n",
      "    13    -7.814602e+00     4.421393e-01\n",
      " * time: 0.5163071155548096\n",
      "    14    -7.815552e+00     1.612642e-01\n",
      " * time: 0.5897631645202637\n",
      "    15    -7.833289e+00     1.078858e-01\n",
      " * time: 0.6086671352386475\n",
      "    16    -7.842231e+00     5.874505e-02\n",
      " * time: 0.6272010803222656\n",
      "    17    -7.848318e+00     3.983894e-02\n",
      " * time: 0.6457500457763672\n",
      "    18    -7.849896e+00     4.748590e-02\n",
      " * time: 0.6639740467071533\n",
      "    19    -7.851246e+00     2.200564e-02\n",
      " * time: 0.6831560134887695\n",
      "    20    -7.852181e+00     1.961632e-02\n",
      " * time: 0.7019162178039551\n",
      "    21    -7.852411e+00     8.326197e-03\n",
      " * time: 0.7208170890808105\n",
      "    22    -7.852574e+00     3.403894e-03\n",
      " * time: 0.7400040626525879\n",
      "    23    -7.852621e+00     3.283798e-03\n",
      " * time: 0.758620023727417\n",
      "    24    -7.852640e+00     1.694225e-03\n",
      " * time: 0.777987003326416\n",
      "    25    -7.852644e+00     8.965300e-04\n",
      " * time: 0.7968661785125732\n",
      "    26    -7.852646e+00     6.465908e-04\n",
      " * time: 0.8156599998474121\n",
      "    27    -7.852646e+00     3.575925e-04\n",
      " * time: 0.8345091342926025\n",
      "    28    -7.852647e+00     2.501014e-04\n",
      " * time: 0.8530280590057373\n",
      "    29    -7.852647e+00     1.543943e-04\n",
      " * time: 0.8716201782226562\n",
      "    30    -7.852647e+00     6.969680e-05\n",
      " * time: 0.8907370567321777\n",
      "    31    -7.852647e+00     4.725540e-05\n",
      " * time: 0.9097330570220947\n",
      "    32    -7.852647e+00     2.858369e-05\n",
      " * time: 0.9283130168914795\n",
      "    33    -7.852647e+00     1.155416e-05\n",
      " * time: 0.94669508934021\n",
      "    34    -7.852647e+00     7.246229e-06\n",
      " * time: 0.9653420448303223\n",
      "    35    -7.852647e+00     3.285235e-06\n",
      " * time: 0.9839751720428467\n",
      "    36    -7.852647e+00     2.600309e-06\n",
      " * time: 1.0030081272125244\n",
      "    37    -7.852647e+00     1.904685e-06\n",
      " * time: 1.0222110748291016\n",
      "    38    -7.852647e+00     8.585802e-07\n",
      " * time: 1.0408751964569092\n",
      "    39    -7.852647e+00     6.134380e-07\n",
      " * time: 1.059347152709961\n",
      "    40    -7.852647e+00     3.775793e-07\n",
      " * time: 1.0783450603485107\n",
      "    41    -7.852647e+00     1.443396e-07\n",
      " * time: 1.0974171161651611\n",
      "    42    -7.852647e+00     8.793169e-08\n",
      " * time: 1.1166181564331055\n",
      "    43    -7.852647e+00     4.576434e-08\n",
      " * time: 1.1355831623077393\n",
      "    44    -7.852647e+00     3.346502e-08\n",
      " * time: 1.1545581817626953\n",
      "    45    -7.852647e+00     2.065884e-08\n",
      " * time: 1.1738791465759277\n",
      "    46    -7.852647e+00     9.282089e-09\n",
      " * time: 1.193282127380371\n"
     ]
    }
   ],
   "cell_type": "code",
   "source": [
    "scfres_dm = direct_minimization(basis; tol=tol^2);"
   ],
   "metadata": {},
   "execution_count": 4
  },
  {
   "cell_type": "markdown",
   "source": [
    "## Newton algorithm"
   ],
   "metadata": {}
  },
  {
   "cell_type": "markdown",
   "source": [
    "Start not too far from the solution to ensure convergence:\n",
    "We run first a very crude SCF to get close and then switch to Newton."
   ],
   "metadata": {}
  },
  {
   "outputs": [
    {
     "name": "stdout",
     "output_type": "stream",
     "text": [
      "n     Energy            log10(ΔE)   log10(Δρ)   Diag   Δtime\n",
      "---   ---------------   ---------   ---------   ----   ------\n",
      "  1   -7.846850387744                   -0.70    4.5         \n"
     ]
    }
   ],
   "cell_type": "code",
   "source": [
    "scfres_start = self_consistent_field(basis; tol=0.5);"
   ],
   "metadata": {},
   "execution_count": 5
  },
  {
   "cell_type": "markdown",
   "source": [
    "Remove the virtual orbitals (which Newton cannot treat yet)"
   ],
   "metadata": {}
  },
  {
   "outputs": [
    {
     "name": "stdout",
     "output_type": "stream",
     "text": [
      "n     Energy            log10(ΔE)   log10(Δρ)   Δtime\n",
      "---   ---------------   ---------   ---------   ------\n",
      "  1   -7.852645901473                   -1.64         \n",
      "  2   -7.852646686730       -6.10       -3.71    1.69s\n",
      "  3   -7.852646686730      -13.27       -7.24    124ms\n"
     ]
    }
   ],
   "cell_type": "code",
   "source": [
    "ψ = DFTK.select_occupied_orbitals(basis, scfres_start.ψ, scfres_start.occupation).ψ\n",
    "scfres_newton = newton(basis, ψ; tol);"
   ],
   "metadata": {},
   "execution_count": 6
  },
  {
   "cell_type": "markdown",
   "source": [
    "## Comparison of results"
   ],
   "metadata": {}
  },
  {
   "outputs": [
    {
     "name": "stdout",
     "output_type": "stream",
     "text": [
      "|ρ_newton - ρ_scf|  = 2.3619869992793995e-7\n",
      "|ρ_newton - ρ_scfv| = 2.2677734682340169e-7\n",
      "|ρ_newton - ρ_dm|   = 2.221724378060516e-9\n"
     ]
    }
   ],
   "cell_type": "code",
   "source": [
    "println(\"|ρ_newton - ρ_scf|  = \", norm(scfres_newton.ρ - scfres_scf.ρ))\n",
    "println(\"|ρ_newton - ρ_scfv| = \", norm(scfres_newton.ρ - scfres_scfv.ρ))\n",
    "println(\"|ρ_newton - ρ_dm|   = \", norm(scfres_newton.ρ - scfres_dm.ρ))"
   ],
   "metadata": {},
   "execution_count": 7
  }
 ],
 "nbformat_minor": 3,
 "metadata": {
  "language_info": {
   "file_extension": ".jl",
   "mimetype": "application/julia",
   "name": "julia",
   "version": "1.9.3"
  },
  "kernelspec": {
   "name": "julia-1.9",
   "display_name": "Julia 1.9.3",
   "language": "julia"
  }
 },
 "nbformat": 4
}
