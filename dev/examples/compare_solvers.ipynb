{
 "cells": [
  {
   "cell_type": "markdown",
   "source": [
    "# Comparison of DFT solvers"
   ],
   "metadata": {}
  },
  {
   "cell_type": "markdown",
   "source": [
    "We compare four different approaches for solving the DFT minimisation problem,\n",
    "namely a density-based SCF, a potential-based SCF, direct minimisation and Newton."
   ],
   "metadata": {}
  },
  {
   "cell_type": "markdown",
   "source": [
    "First we setup our problem"
   ],
   "metadata": {}
  },
  {
   "outputs": [
    {
     "output_type": "execute_result",
     "data": {
      "text/plain": "1.0e-6"
     },
     "metadata": {},
     "execution_count": 1
    }
   ],
   "cell_type": "code",
   "source": [
    "using DFTK\n",
    "using LinearAlgebra\n",
    "\n",
    "a = 10.26  # Silicon lattice constant in Bohr\n",
    "lattice = a / 2 * [[0 1 1.];\n",
    "                   [1 0 1.];\n",
    "                   [1 1 0.]]\n",
    "Si = ElementPsp(:Si; psp=load_psp(\"hgh/lda/Si-q4\"))\n",
    "atoms     = [Si, Si]\n",
    "positions = [ones(3)/8, -ones(3)/8]\n",
    "\n",
    "model = model_LDA(lattice, atoms, positions)\n",
    "basis = PlaneWaveBasis(model; Ecut=5, kgrid=[3, 3, 3])\n",
    "\n",
    "# Convergence we desire in the density\n",
    "tol = 1e-6"
   ],
   "metadata": {},
   "execution_count": 1
  },
  {
   "cell_type": "markdown",
   "source": [
    "## Density-based self-consistent field"
   ],
   "metadata": {}
  },
  {
   "outputs": [
    {
     "name": "stdout",
     "output_type": "stream",
     "text": [
      "n     Energy            log10(ΔE)   log10(Δρ)   Diag   Δtime\n",
      "---   ---------------   ---------   ---------   ----   ------\n",
      "  1   -7.846792703375                   -0.70    4.5         \n",
      "  2   -7.852309245713       -2.26       -1.53    1.0   16.5ms\n",
      "  3   -7.852616188595       -3.51       -2.56    1.5   18.5ms\n",
      "  4   -7.852646009648       -4.53       -2.89    2.5   22.2ms\n",
      "  5   -7.852646518176       -6.29       -3.19    1.2   17.5ms\n",
      "  6   -7.852646679836       -6.79       -4.13    1.0   16.8ms\n",
      "  7   -7.852646686598       -8.17       -5.18    2.2   21.7ms\n",
      "  8   -7.852646686726       -9.89       -5.57    1.8   20.4ms\n",
      "  9   -7.852646686725   +  -12.03       -5.50    1.5   19.4ms\n",
      " 10   -7.852646686730      -11.37       -6.23    1.0   17.1ms\n"
     ]
    }
   ],
   "cell_type": "code",
   "source": [
    "scfres_scf = self_consistent_field(basis; tol);"
   ],
   "metadata": {},
   "execution_count": 2
  },
  {
   "cell_type": "markdown",
   "source": [
    "## Potential-based SCF"
   ],
   "metadata": {}
  },
  {
   "outputs": [
    {
     "name": "stdout",
     "output_type": "stream",
     "text": [
      "n     Energy            log10(ΔE)   log10(Δρ)   α      Diag   Δtime\n",
      "---   ---------------   ---------   ---------   ----   ----   ------\n",
      "  1   -7.846878054357                   -0.70           4.8         \n",
      "  2   -7.852525959879       -2.25       -1.64   0.80    2.0    205ms\n",
      "  3   -7.852634993341       -3.96       -2.73   0.80    1.0   15.6ms\n",
      "  4   -7.852646448171       -4.94       -3.24   0.80    2.2   20.3ms\n",
      "  5   -7.852646664001       -6.67       -4.04   0.80    1.0   15.6ms\n",
      "  6   -7.852646686331       -7.65       -4.68   0.80    1.8   18.5ms\n",
      "  7   -7.852646686704       -9.43       -5.42   0.80    1.5   17.4ms\n",
      "  8   -7.852646686729      -10.61       -6.65   0.80    2.0   19.0ms\n"
     ]
    }
   ],
   "cell_type": "code",
   "source": [
    "scfres_scfv = DFTK.scf_potential_mixing(basis; tol);"
   ],
   "metadata": {},
   "execution_count": 3
  },
  {
   "cell_type": "markdown",
   "source": [
    "## Direct minimization\n",
    "Note: Unlike the other algorithms, tolerance for this one is in the energy,\n",
    "thus we square the density tolerance value to be roughly equivalent."
   ],
   "metadata": {}
  },
  {
   "outputs": [
    {
     "name": "stdout",
     "output_type": "stream",
     "text": [
      "Iter     Function value   Gradient norm \n",
      "     0     1.388680e+01     3.262586e+00\n",
      " * time: 0.04551386833190918\n",
      "     1     1.454994e+00     1.833208e+00\n",
      " * time: 0.21845698356628418\n",
      "     2    -1.680265e+00     1.929297e+00\n",
      " * time: 0.23627686500549316\n",
      "     3    -4.043369e+00     1.663724e+00\n",
      " * time: 0.26180577278137207\n",
      "     4    -5.419878e+00     1.606568e+00\n",
      " * time: 0.28751182556152344\n",
      "     5    -7.074710e+00     8.729292e-01\n",
      " * time: 0.3132328987121582\n",
      "     6    -7.246101e+00     1.026317e+00\n",
      " * time: 0.3310818672180176\n",
      "     7    -7.667265e+00     6.404834e-01\n",
      " * time: 0.34896183013916016\n",
      "     8    -7.746694e+00     4.700374e-01\n",
      " * time: 0.36675095558166504\n",
      "     9    -7.782394e+00     1.154751e-01\n",
      " * time: 0.3846099376678467\n",
      "    10    -7.811365e+00     1.061210e-01\n",
      " * time: 0.40245985984802246\n",
      "    11    -7.831738e+00     5.789616e-02\n",
      " * time: 0.4203369617462158\n",
      "    12    -7.840892e+00     5.156046e-02\n",
      " * time: 0.4381678104400635\n",
      "    13    -7.846042e+00     4.980181e-02\n",
      " * time: 0.45612192153930664\n",
      "    14    -7.846311e+00     4.695464e-02\n",
      " * time: 0.4818899631500244\n",
      "    15    -7.847092e+00     3.259614e-02\n",
      " * time: 0.5076379776000977\n",
      "    16    -7.849098e+00     2.211398e-02\n",
      " * time: 0.5254697799682617\n",
      "    17    -7.851124e+00     1.568645e-02\n",
      " * time: 0.5433428287506104\n",
      "    18    -7.852212e+00     1.285046e-02\n",
      " * time: 0.5612878799438477\n",
      "    19    -7.852471e+00     8.656629e-03\n",
      " * time: 0.5791308879852295\n",
      "    20    -7.852603e+00     4.387172e-03\n",
      " * time: 0.5969657897949219\n",
      "    21    -7.852633e+00     2.775427e-03\n",
      " * time: 0.614891767501831\n",
      "    22    -7.852641e+00     1.592067e-03\n",
      " * time: 0.6330158710479736\n",
      "    23    -7.852645e+00     8.250762e-04\n",
      " * time: 0.6509799957275391\n",
      "    24    -7.852646e+00     5.172852e-04\n",
      " * time: 0.6689178943634033\n",
      "    25    -7.852646e+00     2.410026e-04\n",
      " * time: 0.6868867874145508\n",
      "    26    -7.852647e+00     1.675806e-04\n",
      " * time: 0.7048518657684326\n",
      "    27    -7.852647e+00     1.178169e-04\n",
      " * time: 0.7227838039398193\n",
      "    28    -7.852647e+00     4.929834e-05\n",
      " * time: 0.7406327724456787\n",
      "    29    -7.852647e+00     4.228545e-05\n",
      " * time: 0.7584879398345947\n",
      "    30    -7.852647e+00     1.862846e-05\n",
      " * time: 0.7763078212738037\n",
      "    31    -7.852647e+00     8.005234e-06\n",
      " * time: 0.7942907810211182\n",
      "    32    -7.852647e+00     8.243394e-06\n",
      " * time: 0.8507568836212158\n",
      "    33    -7.852647e+00     2.776547e-06\n",
      " * time: 0.8690509796142578\n",
      "    34    -7.852647e+00     1.820608e-06\n",
      " * time: 0.8869738578796387\n",
      "    35    -7.852647e+00     7.932216e-07\n",
      " * time: 0.9048068523406982\n",
      "    36    -7.852647e+00     3.781362e-07\n",
      " * time: 0.9226469993591309\n",
      "    37    -7.852647e+00     2.951647e-07\n",
      " * time: 0.9404878616333008\n",
      "    38    -7.852647e+00     1.593398e-07\n",
      " * time: 0.9583899974822998\n",
      "    39    -7.852647e+00     8.921073e-08\n",
      " * time: 0.976219892501831\n",
      "    40    -7.852647e+00     4.764580e-08\n",
      " * time: 0.9941737651824951\n",
      "    41    -7.852647e+00     2.451323e-08\n",
      " * time: 1.0122089385986328\n",
      "    42    -7.852647e+00     1.779602e-08\n",
      " * time: 1.0300958156585693\n",
      "    43    -7.852647e+00     1.318094e-08\n",
      " * time: 1.0479099750518799\n",
      "    44    -7.852647e+00     1.068656e-08\n",
      " * time: 1.0735588073730469\n",
      "    45    -7.852647e+00     9.433978e-09\n",
      " * time: 1.099308967590332\n",
      "    46    -7.852647e+00     9.433979e-09\n",
      " * time: 1.1800248622894287\n"
     ]
    }
   ],
   "cell_type": "code",
   "source": [
    "scfres_dm = direct_minimization(basis; tol=tol^2);"
   ],
   "metadata": {},
   "execution_count": 4
  },
  {
   "cell_type": "markdown",
   "source": [
    "## Newton algorithm"
   ],
   "metadata": {}
  },
  {
   "cell_type": "markdown",
   "source": [
    "Start not too far from the solution to ensure convergence:\n",
    "We run first a very crude SCF to get close and then switch to Newton."
   ],
   "metadata": {}
  },
  {
   "outputs": [
    {
     "name": "stdout",
     "output_type": "stream",
     "text": [
      "n     Energy            log10(ΔE)   log10(Δρ)   Diag   Δtime\n",
      "---   ---------------   ---------   ---------   ----   ------\n",
      "  1   -7.846904062777                   -0.70    4.8         \n"
     ]
    }
   ],
   "cell_type": "code",
   "source": [
    "scfres_start = self_consistent_field(basis; tol=0.5);"
   ],
   "metadata": {},
   "execution_count": 5
  },
  {
   "cell_type": "markdown",
   "source": [
    "Remove the virtual orbitals (which Newton cannot treat yet)"
   ],
   "metadata": {}
  },
  {
   "outputs": [
    {
     "name": "stdout",
     "output_type": "stream",
     "text": [
      "n     Energy            log10(ΔE)   log10(Δρ)   Δtime\n",
      "---   ---------------   ---------   ---------   ------\n",
      "  1   -7.852645933826                   -1.64         \n",
      "  2   -7.852646686730       -6.12       -3.71    1.46s\n",
      "  3   -7.852646686730      -13.35       -7.26    116ms\n"
     ]
    }
   ],
   "cell_type": "code",
   "source": [
    "ψ = DFTK.select_occupied_orbitals(basis, scfres_start.ψ, scfres_start.occupation).ψ\n",
    "scfres_newton = newton(basis, ψ; tol);"
   ],
   "metadata": {},
   "execution_count": 6
  },
  {
   "cell_type": "markdown",
   "source": [
    "## Comparison of results"
   ],
   "metadata": {}
  },
  {
   "outputs": [
    {
     "name": "stdout",
     "output_type": "stream",
     "text": [
      "|ρ_newton - ρ_scf|  = 7.090826344524038e-7\n",
      "|ρ_newton - ρ_scfv| = 5.965486631022442e-7\n",
      "|ρ_newton - ρ_dm|   = 1.6640504564903207e-9\n"
     ]
    }
   ],
   "cell_type": "code",
   "source": [
    "println(\"|ρ_newton - ρ_scf|  = \", norm(scfres_newton.ρ - scfres_scf.ρ))\n",
    "println(\"|ρ_newton - ρ_scfv| = \", norm(scfres_newton.ρ - scfres_scfv.ρ))\n",
    "println(\"|ρ_newton - ρ_dm|   = \", norm(scfres_newton.ρ - scfres_dm.ρ))"
   ],
   "metadata": {},
   "execution_count": 7
  }
 ],
 "nbformat_minor": 3,
 "metadata": {
  "language_info": {
   "file_extension": ".jl",
   "mimetype": "application/julia",
   "name": "julia",
   "version": "1.9.4"
  },
  "kernelspec": {
   "name": "julia-1.9",
   "display_name": "Julia 1.9.4",
   "language": "julia"
  }
 },
 "nbformat": 4
}
