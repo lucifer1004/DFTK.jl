{
 "cells": [
  {
   "cell_type": "markdown",
   "source": [
    "# Comparison of DFT solvers"
   ],
   "metadata": {}
  },
  {
   "cell_type": "markdown",
   "source": [
    "We compare four different approaches for solving the DFT minimisation problem,\n",
    "namely a density-based SCF, a potential-based SCF, direct minimisation and Newton."
   ],
   "metadata": {}
  },
  {
   "cell_type": "markdown",
   "source": [
    "First we setup our problem"
   ],
   "metadata": {}
  },
  {
   "outputs": [
    {
     "output_type": "execute_result",
     "data": {
      "text/plain": "1.0e-6"
     },
     "metadata": {},
     "execution_count": 1
    }
   ],
   "cell_type": "code",
   "source": [
    "using DFTK\n",
    "using LinearAlgebra\n",
    "\n",
    "a = 10.26  # Silicon lattice constant in Bohr\n",
    "lattice = a / 2 * [[0 1 1.];\n",
    "                   [1 0 1.];\n",
    "                   [1 1 0.]]\n",
    "Si = ElementPsp(:Si, psp=load_psp(\"hgh/lda/Si-q4\"))\n",
    "atoms     = [Si, Si]\n",
    "positions = [ones(3)/8, -ones(3)/8]\n",
    "\n",
    "model = model_LDA(lattice, atoms, positions)\n",
    "basis = PlaneWaveBasis(model; Ecut=5, kgrid=[3, 3, 3])\n",
    "\n",
    "# Convergence we desire in the density\n",
    "tol = 1e-6"
   ],
   "metadata": {},
   "execution_count": 1
  },
  {
   "cell_type": "markdown",
   "source": [
    "## Density-based self-consistent field"
   ],
   "metadata": {}
  },
  {
   "outputs": [
    {
     "name": "stdout",
     "output_type": "stream",
     "text": [
      "n     Energy            log10(ΔE)   log10(Δρ)   Diag   Δtime\n",
      "---   ---------------   ---------   ---------   ----   ------\n",
      "  1   -7.846852527609                   -0.70    4.8         \n",
      "  2   -7.852320803220       -2.26       -1.53    1.0   17.2ms\n",
      "  3   -7.852614765971       -3.53       -2.56    1.5   18.4ms\n",
      "  4   -7.852645995622       -4.51       -2.87    2.5   22.8ms\n",
      "  5   -7.852646485584       -6.31       -3.14    1.0   17.1ms\n",
      "  6   -7.852646679057       -6.71       -3.97    1.0   17.1ms\n",
      "  7   -7.852646686291       -8.14       -5.21    1.2   18.4ms\n",
      "  8   -7.852646686721       -9.37       -5.37    2.5   23.4ms\n",
      "  9   -7.852646686729      -11.10       -5.93    1.0   17.2ms\n",
      " 10   -7.852646686730      -12.27       -6.14    1.8   20.3ms\n"
     ]
    }
   ],
   "cell_type": "code",
   "source": [
    "scfres_scf = self_consistent_field(basis; tol);"
   ],
   "metadata": {},
   "execution_count": 2
  },
  {
   "cell_type": "markdown",
   "source": [
    "## Potential-based SCF"
   ],
   "metadata": {}
  },
  {
   "outputs": [
    {
     "name": "stdout",
     "output_type": "stream",
     "text": [
      "n     Energy            log10(ΔE)   log10(Δρ)   α      Diag   Δtime\n",
      "---   ---------------   ---------   ---------   ----   ----   ------\n",
      "  1   -7.846889245995                   -0.70           4.8         \n",
      "  2   -7.852554106681       -2.25       -1.64   0.80    2.2    205ms\n",
      "  3   -7.852638471741       -4.07       -2.76   0.80    1.0   16.2ms\n",
      "  4   -7.852646430805       -5.10       -3.33   0.80    2.0   20.9ms\n",
      "  5   -7.852646678626       -6.61       -4.18   0.80    2.0   19.9ms\n",
      "  6   -7.852646686434       -8.11       -4.76   0.80    2.0   19.7ms\n",
      "  7   -7.852646686716       -9.55       -5.66   0.80    1.5   18.4ms\n",
      "  8   -7.852646686730      -10.87       -6.50   0.80    2.2   21.0ms\n"
     ]
    }
   ],
   "cell_type": "code",
   "source": [
    "scfres_scfv = DFTK.scf_potential_mixing(basis; tol);"
   ],
   "metadata": {},
   "execution_count": 3
  },
  {
   "cell_type": "markdown",
   "source": [
    "## Direct minimization\n",
    "Note: Unlike the other algorithms, tolerance for this one is in the energy,\n",
    "thus we square the density tolerance value to be roughly equivalent."
   ],
   "metadata": {}
  },
  {
   "outputs": [
    {
     "name": "stdout",
     "output_type": "stream",
     "text": [
      "Iter     Function value   Gradient norm \n",
      "     0     1.428773e+01     3.560382e+00\n",
      " * time: 0.04464101791381836\n",
      "     1     1.330746e+00     1.859564e+00\n",
      " * time: 0.21596598625183105\n",
      "     2    -1.993969e+00     2.062790e+00\n",
      " * time: 0.23376202583312988\n",
      "     3    -3.839732e+00     1.626343e+00\n",
      " * time: 0.25940895080566406\n",
      "     4    -5.356170e+00     1.293101e+00\n",
      " * time: 0.2856941223144531\n",
      "     5    -6.828882e+00     9.804964e-01\n",
      " * time: 0.3115251064300537\n",
      "     6    -7.478695e+00     4.293986e-01\n",
      " * time: 0.33736395835876465\n",
      "     7    -7.682212e+00     1.660531e-01\n",
      " * time: 0.3552210330963135\n",
      "     8    -7.753392e+00     1.361277e-01\n",
      " * time: 0.3730480670928955\n",
      "     9    -7.797310e+00     8.085739e-02\n",
      " * time: 0.39098095893859863\n",
      "    10    -7.822311e+00     7.311244e-02\n",
      " * time: 0.40884995460510254\n",
      "    11    -7.839630e+00     5.705225e-02\n",
      " * time: 0.42667603492736816\n",
      "    12    -7.847676e+00     3.783725e-02\n",
      " * time: 0.4445509910583496\n",
      "    13    -7.851033e+00     3.138471e-02\n",
      " * time: 0.4623990058898926\n",
      "    14    -7.851916e+00     2.134662e-02\n",
      " * time: 0.480334997177124\n",
      "    15    -7.852372e+00     1.000287e-02\n",
      " * time: 0.49820399284362793\n",
      "    16    -7.852557e+00     8.872643e-03\n",
      " * time: 0.5159850120544434\n",
      "    17    -7.852614e+00     2.819778e-03\n",
      " * time: 0.5337741374969482\n",
      "    18    -7.852636e+00     1.458660e-03\n",
      " * time: 0.5516960620880127\n",
      "    19    -7.852642e+00     1.334174e-03\n",
      " * time: 0.5695509910583496\n",
      "    20    -7.852645e+00     7.049770e-04\n",
      " * time: 0.5874960422515869\n",
      "    21    -7.852646e+00     4.604158e-04\n",
      " * time: 0.6053709983825684\n",
      "    22    -7.852646e+00     2.127225e-04\n",
      " * time: 0.6231870651245117\n",
      "    23    -7.852647e+00     1.463575e-04\n",
      " * time: 0.6410210132598877\n",
      "    24    -7.852647e+00     9.181091e-05\n",
      " * time: 0.6588351726531982\n",
      "    25    -7.852647e+00     4.128499e-05\n",
      " * time: 0.676746129989624\n",
      "    26    -7.852647e+00     2.909111e-05\n",
      " * time: 0.6945791244506836\n",
      "    27    -7.852647e+00     1.723856e-05\n",
      " * time: 0.712367057800293\n",
      "    28    -7.852647e+00     9.671369e-06\n",
      " * time: 0.7302570343017578\n",
      "    29    -7.852647e+00     8.393240e-06\n",
      " * time: 0.748056173324585\n",
      "    30    -7.852647e+00     4.023298e-06\n",
      " * time: 0.7659599781036377\n",
      "    31    -7.852647e+00     1.623934e-06\n",
      " * time: 0.7838051319122314\n",
      "    32    -7.852647e+00     1.506625e-06\n",
      " * time: 0.8017921447753906\n",
      "    33    -7.852647e+00     1.161705e-06\n",
      " * time: 0.8196070194244385\n",
      "    34    -7.852647e+00     4.983076e-07\n",
      " * time: 0.837421178817749\n",
      "    35    -7.852647e+00     2.628350e-07\n",
      " * time: 0.8552520275115967\n",
      "    36    -7.852647e+00     1.690124e-07\n",
      " * time: 0.8731570243835449\n",
      "    37    -7.852647e+00     1.065192e-07\n",
      " * time: 0.8910269737243652\n",
      "    38    -7.852647e+00     6.936494e-08\n",
      " * time: 0.9089009761810303\n",
      "    39    -7.852647e+00     4.122640e-08\n",
      " * time: 0.9267210960388184\n",
      "    40    -7.852647e+00     2.735771e-08\n",
      " * time: 0.9445431232452393\n",
      "    41    -7.852647e+00     1.465960e-08\n",
      " * time: 0.9623720645904541\n",
      "    42    -7.852647e+00     8.167475e-09\n",
      " * time: 0.9801671504974365\n",
      "    43    -7.852647e+00     7.985002e-09\n",
      " * time: 1.0138540267944336\n",
      "    44    -7.852647e+00     7.985002e-09\n",
      " * time: 1.1333069801330566\n"
     ]
    }
   ],
   "cell_type": "code",
   "source": [
    "scfres_dm = direct_minimization(basis; tol=tol^2);"
   ],
   "metadata": {},
   "execution_count": 4
  },
  {
   "cell_type": "markdown",
   "source": [
    "## Newton algorithm"
   ],
   "metadata": {}
  },
  {
   "cell_type": "markdown",
   "source": [
    "Start not too far from the solution to ensure convergence:\n",
    "We run first a very crude SCF to get close and then switch to Newton."
   ],
   "metadata": {}
  },
  {
   "outputs": [
    {
     "name": "stdout",
     "output_type": "stream",
     "text": [
      "n     Energy            log10(ΔE)   log10(Δρ)   Diag   Δtime\n",
      "---   ---------------   ---------   ---------   ----   ------\n",
      "  1   -7.846770874233                   -0.70    4.2         \n"
     ]
    }
   ],
   "cell_type": "code",
   "source": [
    "scfres_start = self_consistent_field(basis; tol=0.5);"
   ],
   "metadata": {},
   "execution_count": 5
  },
  {
   "cell_type": "markdown",
   "source": [
    "Remove the virtual orbitals (which Newton cannot treat yet)"
   ],
   "metadata": {}
  },
  {
   "outputs": [
    {
     "name": "stdout",
     "output_type": "stream",
     "text": [
      "n     Energy            log10(ΔE)   log10(Δρ)   Δtime\n",
      "---   ---------------   ---------   ---------   ------\n",
      "  1   -7.852645647136                   -1.64         \n",
      "  2   -7.852646686730       -5.98       -3.70    1.48s\n",
      "  3   -7.852646686730      -12.84       -7.05    153ms\n"
     ]
    }
   ],
   "cell_type": "code",
   "source": [
    "ψ = DFTK.select_occupied_orbitals(basis, scfres_start.ψ, scfres_start.occupation).ψ\n",
    "scfres_newton = newton(basis, ψ; tol);"
   ],
   "metadata": {},
   "execution_count": 6
  },
  {
   "cell_type": "markdown",
   "source": [
    "## Comparison of results"
   ],
   "metadata": {}
  },
  {
   "outputs": [
    {
     "name": "stdout",
     "output_type": "stream",
     "text": [
      "|ρ_newton - ρ_scf|  = 7.002158443812267e-7\n",
      "|ρ_newton - ρ_scfv| = 1.3454665855594433e-7\n",
      "|ρ_newton - ρ_dm|   = 1.2499678276302845e-9\n"
     ]
    }
   ],
   "cell_type": "code",
   "source": [
    "println(\"|ρ_newton - ρ_scf|  = \", norm(scfres_newton.ρ - scfres_scf.ρ))\n",
    "println(\"|ρ_newton - ρ_scfv| = \", norm(scfres_newton.ρ - scfres_scfv.ρ))\n",
    "println(\"|ρ_newton - ρ_dm|   = \", norm(scfres_newton.ρ - scfres_dm.ρ))"
   ],
   "metadata": {},
   "execution_count": 7
  }
 ],
 "nbformat_minor": 3,
 "metadata": {
  "language_info": {
   "file_extension": ".jl",
   "mimetype": "application/julia",
   "name": "julia",
   "version": "1.9.3"
  },
  "kernelspec": {
   "name": "julia-1.9",
   "display_name": "Julia 1.9.3",
   "language": "julia"
  }
 },
 "nbformat": 4
}
