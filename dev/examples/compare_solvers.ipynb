{
 "cells": [
  {
   "cell_type": "markdown",
   "source": [
    "# Comparison of DFT solvers"
   ],
   "metadata": {}
  },
  {
   "cell_type": "markdown",
   "source": [
    "We compare four different approaches for solving the DFT minimisation problem,\n",
    "namely a density-based SCF, a potential-based SCF, direct minimisation and Newton."
   ],
   "metadata": {}
  },
  {
   "cell_type": "markdown",
   "source": [
    "First we setup our problem"
   ],
   "metadata": {}
  },
  {
   "outputs": [
    {
     "output_type": "execute_result",
     "data": {
      "text/plain": "1.0e-6"
     },
     "metadata": {},
     "execution_count": 1
    }
   ],
   "cell_type": "code",
   "source": [
    "using DFTK\n",
    "using LinearAlgebra\n",
    "\n",
    "a = 10.26  # Silicon lattice constant in Bohr\n",
    "lattice = a / 2 * [[0 1 1.];\n",
    "                   [1 0 1.];\n",
    "                   [1 1 0.]]\n",
    "Si = ElementPsp(:Si, psp=load_psp(\"hgh/lda/Si-q4\"))\n",
    "atoms     = [Si, Si]\n",
    "positions = [ones(3)/8, -ones(3)/8]\n",
    "\n",
    "model = model_LDA(lattice, atoms, positions)\n",
    "basis = PlaneWaveBasis(model; Ecut=5, kgrid=[3, 3, 3])\n",
    "\n",
    "# Convergence we desire in the density\n",
    "tol = 1e-6"
   ],
   "metadata": {},
   "execution_count": 1
  },
  {
   "cell_type": "markdown",
   "source": [
    "## Density-based self-consistent field"
   ],
   "metadata": {}
  },
  {
   "outputs": [
    {
     "name": "stdout",
     "output_type": "stream",
     "text": [
      "n     Energy            log10(ΔE)   log10(Δρ)   Diag   Δtime\n",
      "---   ---------------   ---------   ---------   ----   ------\n",
      "  1   -7.846827040944                   -0.70    4.8         \n",
      "  2   -7.852316497232       -2.26       -1.53    1.0   17.0ms\n",
      "  3   -7.852615740511       -3.52       -2.56    1.5   18.5ms\n",
      "  4   -7.852645984696       -4.52       -2.90    2.5   22.6ms\n",
      "  5   -7.852646522839       -6.27       -3.22    1.2   64.7ms\n",
      "  6   -7.852646677756       -6.81       -4.00    1.0   16.9ms\n",
      "  7   -7.852646686330       -8.07       -5.30    1.8   19.8ms\n",
      "  8   -7.852646686726       -9.40       -5.53    2.2   22.4ms\n",
      "  9   -7.852646686730      -11.38       -6.42    1.0   17.2ms\n"
     ]
    }
   ],
   "cell_type": "code",
   "source": [
    "scfres_scf = self_consistent_field(basis; tol);"
   ],
   "metadata": {},
   "execution_count": 2
  },
  {
   "cell_type": "markdown",
   "source": [
    "## Potential-based SCF"
   ],
   "metadata": {}
  },
  {
   "outputs": [
    {
     "name": "stdout",
     "output_type": "stream",
     "text": [
      "n     Energy            log10(ΔE)   log10(Δρ)   α      Diag   Δtime\n",
      "---   ---------------   ---------   ---------   ----   ----   ------\n",
      "  1   -7.846810393123                   -0.70           4.5         \n",
      "  2   -7.852540066243       -2.24       -1.64   0.80    2.2    214ms\n",
      "  3   -7.852638209418       -4.01       -2.72   0.80    1.0   16.0ms\n",
      "  4   -7.852646455246       -5.08       -3.33   0.80    2.2   20.9ms\n",
      "  5   -7.852646682742       -6.64       -4.24   0.80    1.8   18.7ms\n",
      "  6   -7.852646686534       -8.42       -4.91   0.80    2.0   19.2ms\n",
      "  7   -7.852646686726       -9.72       -5.94   0.80    1.8   18.8ms\n",
      "  8   -7.852646686730      -11.37       -7.10   0.80    2.2   20.9ms\n"
     ]
    }
   ],
   "cell_type": "code",
   "source": [
    "scfres_scfv = DFTK.scf_potential_mixing(basis; tol);"
   ],
   "metadata": {},
   "execution_count": 3
  },
  {
   "cell_type": "markdown",
   "source": [
    "## Direct minimization\n",
    "Note: Unlike the other algorithms, tolerance for this one is in the energy,\n",
    "thus we square the density tolerance value to be roughly equivalent."
   ],
   "metadata": {}
  },
  {
   "outputs": [
    {
     "name": "stdout",
     "output_type": "stream",
     "text": [
      "Iter     Function value   Gradient norm \n",
      "     0     1.385451e+01     3.763659e+00\n",
      " * time: 0.05268502235412598\n",
      "     1     1.390855e+00     1.919916e+00\n",
      " * time: 0.22977685928344727\n",
      "     2    -1.077664e+00     2.276322e+00\n",
      " * time: 0.2984459400177002\n",
      "     3    -3.650115e+00     1.688990e+00\n",
      " * time: 0.3246159553527832\n",
      "     4    -4.934106e+00     1.564010e+00\n",
      " * time: 0.3502950668334961\n",
      "     5    -6.728707e+00     8.606188e-01\n",
      " * time: 0.37589287757873535\n",
      "     6    -6.889741e+00     1.047871e+00\n",
      " * time: 0.393481969833374\n",
      "     7    -7.503203e+00     4.196000e-01\n",
      " * time: 0.41112589836120605\n",
      "     8    -7.643687e+00     2.265243e-01\n",
      " * time: 0.42868995666503906\n",
      "     9    -7.715178e+00     1.603354e-01\n",
      " * time: 0.44629693031311035\n",
      "    10    -7.788244e+00     1.281685e-01\n",
      " * time: 0.4640200138092041\n",
      "    11    -7.819880e+00     7.959108e-02\n",
      " * time: 0.48162293434143066\n",
      "    12    -7.843166e+00     3.268635e-02\n",
      " * time: 0.49927806854248047\n",
      "    13    -7.849918e+00     3.670153e-02\n",
      " * time: 0.516916036605835\n",
      "    14    -7.851856e+00     1.118554e-02\n",
      " * time: 0.5345489978790283\n",
      "    15    -7.852443e+00     8.590403e-03\n",
      " * time: 0.5521738529205322\n",
      "    16    -7.852578e+00     6.132372e-03\n",
      " * time: 0.5697460174560547\n",
      "    17    -7.852622e+00     2.608393e-03\n",
      " * time: 0.5874199867248535\n",
      "    18    -7.852638e+00     1.386516e-03\n",
      " * time: 0.6051590442657471\n",
      "    19    -7.852643e+00     9.173523e-04\n",
      " * time: 0.6230440139770508\n",
      "    20    -7.852645e+00     7.345661e-04\n",
      " * time: 0.6406679153442383\n",
      "    21    -7.852646e+00     4.895654e-04\n",
      " * time: 0.6587140560150146\n",
      "    22    -7.852647e+00     2.130394e-04\n",
      " * time: 0.6763758659362793\n",
      "    23    -7.852647e+00     1.502875e-04\n",
      " * time: 0.6940419673919678\n",
      "    24    -7.852647e+00     8.977274e-05\n",
      " * time: 0.7118020057678223\n",
      "    25    -7.852647e+00     3.968491e-05\n",
      " * time: 0.7294280529022217\n",
      "    26    -7.852647e+00     2.198479e-05\n",
      " * time: 0.7472438812255859\n",
      "    27    -7.852647e+00     1.411591e-05\n",
      " * time: 0.7648968696594238\n",
      "    28    -7.852647e+00     8.787209e-06\n",
      " * time: 0.7826240062713623\n",
      "    29    -7.852647e+00     4.794252e-06\n",
      " * time: 0.8003630638122559\n",
      "    30    -7.852647e+00     2.535449e-06\n",
      " * time: 0.8180348873138428\n",
      "    31    -7.852647e+00     1.624936e-06\n",
      " * time: 0.8357758522033691\n",
      "    32    -7.852647e+00     1.200841e-06\n",
      " * time: 0.8534450531005859\n",
      "    33    -7.852647e+00     5.696494e-07\n",
      " * time: 0.8713419437408447\n",
      "    34    -7.852647e+00     3.424780e-07\n",
      " * time: 0.8890759944915771\n",
      "    35    -7.852647e+00     2.170854e-07\n",
      " * time: 0.9067668914794922\n",
      "    36    -7.852647e+00     1.349949e-07\n",
      " * time: 0.9244060516357422\n",
      "    37    -7.852647e+00     1.111352e-07\n",
      " * time: 0.942051887512207\n",
      "    38    -7.852647e+00     5.016998e-08\n",
      " * time: 0.95973801612854\n",
      "    39    -7.852647e+00     2.126853e-08\n",
      " * time: 0.9774129390716553\n",
      "    40    -7.852647e+00     1.722007e-08\n",
      " * time: 0.9950790405273438\n",
      "    41    -7.852647e+00     9.823546e-09\n",
      " * time: 1.0127170085906982\n",
      "    42    -7.852647e+00     7.886685e-09\n",
      " * time: 1.0382509231567383\n",
      "    43    -7.852647e+00     6.318518e-09\n",
      " * time: 1.063951015472412\n",
      "    44    -7.852647e+00     6.306682e-09\n",
      " * time: 1.1055328845977783\n",
      "    45    -7.852647e+00     5.295491e-09\n",
      " * time: 1.1312429904937744\n"
     ]
    }
   ],
   "cell_type": "code",
   "source": [
    "scfres_dm = direct_minimization(basis; tol=tol^2);"
   ],
   "metadata": {},
   "execution_count": 4
  },
  {
   "cell_type": "markdown",
   "source": [
    "## Newton algorithm"
   ],
   "metadata": {}
  },
  {
   "cell_type": "markdown",
   "source": [
    "Start not too far from the solution to ensure convergence:\n",
    "We run first a very crude SCF to get close and then switch to Newton."
   ],
   "metadata": {}
  },
  {
   "outputs": [
    {
     "name": "stdout",
     "output_type": "stream",
     "text": [
      "n     Energy            log10(ΔE)   log10(Δρ)   Diag   Δtime\n",
      "---   ---------------   ---------   ---------   ----   ------\n",
      "  1   -7.846849132635                   -0.70    4.5         \n"
     ]
    }
   ],
   "cell_type": "code",
   "source": [
    "scfres_start = self_consistent_field(basis; tol=0.5);"
   ],
   "metadata": {},
   "execution_count": 5
  },
  {
   "cell_type": "markdown",
   "source": [
    "Remove the virtual orbitals (which Newton cannot treat yet)"
   ],
   "metadata": {}
  },
  {
   "outputs": [
    {
     "name": "stdout",
     "output_type": "stream",
     "text": [
      "n     Energy            log10(ΔE)   log10(Δρ)   Δtime\n",
      "---   ---------------   ---------   ---------   ------\n",
      "  1   -7.852645916162                   -1.64         \n",
      "  2   -7.852646686730       -6.11       -3.71    1.47s\n",
      "  3   -7.852646686730      -13.32       -7.25    108ms\n"
     ]
    }
   ],
   "cell_type": "code",
   "source": [
    "ψ = DFTK.select_occupied_orbitals(basis, scfres_start.ψ, scfres_start.occupation).ψ\n",
    "scfres_newton = newton(basis, ψ; tol);"
   ],
   "metadata": {},
   "execution_count": 6
  },
  {
   "cell_type": "markdown",
   "source": [
    "## Comparison of results"
   ],
   "metadata": {}
  },
  {
   "outputs": [
    {
     "name": "stdout",
     "output_type": "stream",
     "text": [
      "|ρ_newton - ρ_scf|  = 5.55910130551548e-7\n",
      "|ρ_newton - ρ_scfv| = 6.457720386247791e-8\n",
      "|ρ_newton - ρ_dm|   = 6.3895769560949e-10\n"
     ]
    }
   ],
   "cell_type": "code",
   "source": [
    "println(\"|ρ_newton - ρ_scf|  = \", norm(scfres_newton.ρ - scfres_scf.ρ))\n",
    "println(\"|ρ_newton - ρ_scfv| = \", norm(scfres_newton.ρ - scfres_scfv.ρ))\n",
    "println(\"|ρ_newton - ρ_dm|   = \", norm(scfres_newton.ρ - scfres_dm.ρ))"
   ],
   "metadata": {},
   "execution_count": 7
  }
 ],
 "nbformat_minor": 3,
 "metadata": {
  "language_info": {
   "file_extension": ".jl",
   "mimetype": "application/julia",
   "name": "julia",
   "version": "1.9.3"
  },
  "kernelspec": {
   "name": "julia-1.9",
   "display_name": "Julia 1.9.3",
   "language": "julia"
  }
 },
 "nbformat": 4
}
