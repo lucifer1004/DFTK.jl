{
 "cells": [
  {
   "cell_type": "markdown",
   "source": [
    "# Comparison of DFT solvers"
   ],
   "metadata": {}
  },
  {
   "cell_type": "markdown",
   "source": [
    "We compare four different approaches for solving the DFT minimisation problem,\n",
    "namely a density-based SCF, a potential-based SCF, direct minimisation and Newton."
   ],
   "metadata": {}
  },
  {
   "cell_type": "markdown",
   "source": [
    "First we setup our problem"
   ],
   "metadata": {}
  },
  {
   "outputs": [
    {
     "output_type": "execute_result",
     "data": {
      "text/plain": "1.0e-6"
     },
     "metadata": {},
     "execution_count": 1
    }
   ],
   "cell_type": "code",
   "source": [
    "using DFTK\n",
    "using LinearAlgebra\n",
    "\n",
    "a = 10.26  # Silicon lattice constant in Bohr\n",
    "lattice = a / 2 * [[0 1 1.];\n",
    "                   [1 0 1.];\n",
    "                   [1 1 0.]]\n",
    "Si = ElementPsp(:Si, psp=load_psp(\"hgh/lda/Si-q4\"))\n",
    "atoms     = [Si, Si]\n",
    "positions = [ones(3)/8, -ones(3)/8]\n",
    "\n",
    "model = model_LDA(lattice, atoms, positions)\n",
    "basis = PlaneWaveBasis(model; Ecut=5, kgrid=[3, 3, 3])\n",
    "\n",
    "# Convergence we desire in the density\n",
    "tol = 1e-6"
   ],
   "metadata": {},
   "execution_count": 1
  },
  {
   "cell_type": "markdown",
   "source": [
    "## Density-based self-consistent field"
   ],
   "metadata": {}
  },
  {
   "outputs": [
    {
     "name": "stdout",
     "output_type": "stream",
     "text": [
      "n     Energy            log10(ΔE)   log10(Δρ)   Diag   Δtime\n",
      "---   ---------------   ---------   ---------   ----   ------\n",
      "  1   -7.846877480532                   -0.70    4.5         \n",
      "  2   -7.852325331859       -2.26       -1.53    1.0   16.8ms\n",
      "  3   -7.852615087541       -3.54       -2.56    1.5   18.5ms\n",
      "  4   -7.852645996189       -4.51       -2.88    2.2   22.2ms\n",
      "  5   -7.852646494101       -6.30       -3.16    1.2   17.7ms\n",
      "  6   -7.852646679542       -6.73       -4.03    1.0   17.1ms\n",
      "  7   -7.852646686379       -8.17       -5.24    1.8   20.3ms\n",
      "  8   -7.852646686725       -9.46       -5.52    2.0   21.5ms\n",
      "  9   -7.852646686729      -11.35       -6.03    1.0   17.4ms\n"
     ]
    }
   ],
   "cell_type": "code",
   "source": [
    "scfres_scf = self_consistent_field(basis; tol);"
   ],
   "metadata": {},
   "execution_count": 2
  },
  {
   "cell_type": "markdown",
   "source": [
    "## Potential-based SCF"
   ],
   "metadata": {}
  },
  {
   "outputs": [
    {
     "name": "stdout",
     "output_type": "stream",
     "text": [
      "n     Energy            log10(ΔE)   log10(Δρ)   α      Diag   Δtime\n",
      "---   ---------------   ---------   ---------   ----   ----   ------\n",
      "  1   -7.846892306702                   -0.70           4.8         \n",
      "  2   -7.852526077119       -2.25       -1.64   0.80    2.0    215ms\n",
      "  3   -7.852635604632       -3.96       -2.73   0.80    1.0   16.4ms\n",
      "  4   -7.852646589993       -4.96       -3.24   0.80    2.2   21.5ms\n",
      "  5   -7.852646681909       -7.04       -4.09   0.80    1.0   16.1ms\n",
      "  6   -7.852646686272       -8.36       -4.89   0.80    1.2   17.4ms\n",
      "  7   -7.852646686726       -9.34       -5.61   0.80    2.2   22.3ms\n",
      "  8   -7.852646686729      -11.42       -6.63   0.80    1.2   17.6ms\n"
     ]
    }
   ],
   "cell_type": "code",
   "source": [
    "scfres_scfv = DFTK.scf_potential_mixing(basis; tol);"
   ],
   "metadata": {},
   "execution_count": 3
  },
  {
   "cell_type": "markdown",
   "source": [
    "## Direct minimization\n",
    "Note: Unlike the other algorithms, tolerance for this one is in the energy,\n",
    "thus we square the density tolerance value to be roughly equivalent."
   ],
   "metadata": {}
  },
  {
   "outputs": [
    {
     "name": "stdout",
     "output_type": "stream",
     "text": [
      "Iter     Function value   Gradient norm \n",
      "     0     1.347349e+01     3.682284e+00\n",
      " * time: 0.046631813049316406\n",
      "     1     1.321976e+00     1.912984e+00\n",
      " * time: 0.21985101699829102\n",
      "     2    -1.380205e+00     2.117997e+00\n",
      " * time: 0.23807883262634277\n",
      "     3    -3.417269e+00     1.914781e+00\n",
      " * time: 0.2639789581298828\n",
      "     4    -4.561229e+00     1.841901e+00\n",
      " * time: 0.28960204124450684\n",
      "     5    -6.273164e+00     1.364865e+00\n",
      " * time: 0.31516385078430176\n",
      "     6    -7.098037e+00     6.954454e-01\n",
      " * time: 0.34082603454589844\n",
      "     7    -7.434242e+00     6.056245e-01\n",
      " * time: 0.35866785049438477\n",
      "     8    -7.662328e+00     2.303405e-01\n",
      " * time: 0.37654995918273926\n",
      "     9    -7.755361e+00     1.265019e-01\n",
      " * time: 0.39444899559020996\n",
      "    10    -7.808950e+00     7.795294e-02\n",
      " * time: 0.4123709201812744\n",
      "    11    -7.828093e+00     5.290081e-02\n",
      " * time: 0.4303770065307617\n",
      "    12    -7.840397e+00     3.037965e-02\n",
      " * time: 0.4482388496398926\n",
      "    13    -7.844348e+00     1.929027e-02\n",
      " * time: 0.4660458564758301\n",
      "    14    -7.845216e+00     1.656534e-02\n",
      " * time: 0.4838278293609619\n",
      "    15    -7.845478e+00     1.854831e-02\n",
      " * time: 0.5016138553619385\n",
      "    16    -7.845510e+00     2.007253e-02\n",
      " * time: 0.527249813079834\n",
      "    17    -7.845511e+00     2.048789e-02\n",
      " * time: 0.5765888690948486\n",
      "    18    -7.845511e+00     2.055511e-02\n",
      " * time: 0.6577839851379395\n",
      "    19    -7.845511e+00     2.055511e-02\n",
      " * time: 0.990257978439331\n"
     ]
    }
   ],
   "cell_type": "code",
   "source": [
    "scfres_dm = direct_minimization(basis; tol=tol^2);"
   ],
   "metadata": {},
   "execution_count": 4
  },
  {
   "cell_type": "markdown",
   "source": [
    "## Newton algorithm"
   ],
   "metadata": {}
  },
  {
   "cell_type": "markdown",
   "source": [
    "Start not too far from the solution to ensure convergence:\n",
    "We run first a very crude SCF to get close and then switch to Newton."
   ],
   "metadata": {}
  },
  {
   "outputs": [
    {
     "name": "stdout",
     "output_type": "stream",
     "text": [
      "n     Energy            log10(ΔE)   log10(Δρ)   Diag   Δtime\n",
      "---   ---------------   ---------   ---------   ----   ------\n",
      "  1   -7.846853555469                   -0.70    4.5         \n"
     ]
    }
   ],
   "cell_type": "code",
   "source": [
    "scfres_start = self_consistent_field(basis; tol=0.5);"
   ],
   "metadata": {},
   "execution_count": 5
  },
  {
   "cell_type": "markdown",
   "source": [
    "Remove the virtual orbitals (which Newton cannot treat yet)"
   ],
   "metadata": {}
  },
  {
   "outputs": [
    {
     "name": "stdout",
     "output_type": "stream",
     "text": [
      "n     Energy            log10(ΔE)   log10(Δρ)   Δtime\n",
      "---   ---------------   ---------   ---------   ------\n",
      "  1   -7.852645920843                   -1.64         \n",
      "  2   -7.852646686730       -6.12       -3.71    1.51s\n",
      "  3   -7.852646686730      -13.30       -7.25    151ms\n"
     ]
    }
   ],
   "cell_type": "code",
   "source": [
    "ψ = DFTK.select_occupied_orbitals(basis, scfres_start.ψ, scfres_start.occupation).ψ\n",
    "scfres_newton = newton(basis, ψ; tol);"
   ],
   "metadata": {},
   "execution_count": 6
  },
  {
   "cell_type": "markdown",
   "source": [
    "## Comparison of results"
   ],
   "metadata": {}
  },
  {
   "outputs": [
    {
     "name": "stdout",
     "output_type": "stream",
     "text": [
      "|ρ_newton - ρ_scf|  = 6.07445843437428e-7\n",
      "|ρ_newton - ρ_scfv| = 4.4641731259312676e-7\n",
      "|ρ_newton - ρ_dm|   = 0.0197758376321207\n"
     ]
    }
   ],
   "cell_type": "code",
   "source": [
    "println(\"|ρ_newton - ρ_scf|  = \", norm(scfres_newton.ρ - scfres_scf.ρ))\n",
    "println(\"|ρ_newton - ρ_scfv| = \", norm(scfres_newton.ρ - scfres_scfv.ρ))\n",
    "println(\"|ρ_newton - ρ_dm|   = \", norm(scfres_newton.ρ - scfres_dm.ρ))"
   ],
   "metadata": {},
   "execution_count": 7
  }
 ],
 "nbformat_minor": 3,
 "metadata": {
  "language_info": {
   "file_extension": ".jl",
   "mimetype": "application/julia",
   "name": "julia",
   "version": "1.9.4"
  },
  "kernelspec": {
   "name": "julia-1.9",
   "display_name": "Julia 1.9.4",
   "language": "julia"
  }
 },
 "nbformat": 4
}
