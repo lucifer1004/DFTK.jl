{
 "cells": [
  {
   "cell_type": "markdown",
   "source": [
    "# Comparison of DFT solvers"
   ],
   "metadata": {}
  },
  {
   "cell_type": "markdown",
   "source": [
    "We compare four different approaches for solving the DFT minimisation problem,\n",
    "namely a density-based SCF, a potential-based SCF, direct minimisation and Newton."
   ],
   "metadata": {}
  },
  {
   "cell_type": "markdown",
   "source": [
    "First we setup our problem"
   ],
   "metadata": {}
  },
  {
   "outputs": [
    {
     "output_type": "execute_result",
     "data": {
      "text/plain": "1.0e-6"
     },
     "metadata": {},
     "execution_count": 1
    }
   ],
   "cell_type": "code",
   "source": [
    "using DFTK\n",
    "using LinearAlgebra\n",
    "\n",
    "a = 10.26  # Silicon lattice constant in Bohr\n",
    "lattice = a / 2 * [[0 1 1.];\n",
    "                   [1 0 1.];\n",
    "                   [1 1 0.]]\n",
    "Si = ElementPsp(:Si, psp=load_psp(\"hgh/lda/Si-q4\"))\n",
    "atoms     = [Si, Si]\n",
    "positions = [ones(3)/8, -ones(3)/8]\n",
    "\n",
    "model = model_LDA(lattice, atoms, positions)\n",
    "basis = PlaneWaveBasis(model; Ecut=5, kgrid=[3, 3, 3])\n",
    "\n",
    "# Convergence we desire in the density\n",
    "tol = 1e-6"
   ],
   "metadata": {},
   "execution_count": 1
  },
  {
   "cell_type": "markdown",
   "source": [
    "## Density-based self-consistent field"
   ],
   "metadata": {}
  },
  {
   "outputs": [
    {
     "name": "stdout",
     "output_type": "stream",
     "text": [
      "n     Energy            log10(ΔE)   log10(Δρ)   Diag   Δtime\n",
      "---   ---------------   ---------   ---------   ----   ------\n",
      "  1   -7.846760218771                   -0.70    4.5         \n",
      "  2   -7.852314705153       -2.26       -1.53    1.0   29.0ms\n",
      "  3   -7.852616182827       -3.52       -2.55    1.5   32.4ms\n",
      "  4   -7.852645999704       -4.53       -2.89    2.5   39.9ms\n",
      "  5   -7.852646516508       -6.29       -3.19    1.0   29.9ms\n",
      "  6   -7.852646679904       -6.79       -4.08    1.0   30.7ms\n",
      "  7   -7.852646686418       -8.19       -5.18    1.8   36.3ms\n",
      "  8   -7.852646686724       -9.51       -5.52    1.8   38.0ms\n",
      "  9   -7.852646686730      -11.28       -6.25    1.0   30.2ms\n"
     ]
    }
   ],
   "cell_type": "code",
   "source": [
    "scfres_scf = self_consistent_field(basis; tol);"
   ],
   "metadata": {},
   "execution_count": 2
  },
  {
   "cell_type": "markdown",
   "source": [
    "## Potential-based SCF"
   ],
   "metadata": {}
  },
  {
   "outputs": [
    {
     "name": "stdout",
     "output_type": "stream",
     "text": [
      "n     Energy            log10(ΔE)   log10(Δρ)   α      Diag   Δtime\n",
      "---   ---------------   ---------   ---------   ----   ----   ------\n",
      "  1   -7.846938643063                   -0.70           4.8         \n",
      "  2   -7.852552571681       -2.25       -1.64   0.80    2.0    323ms\n",
      "  3   -7.852637916108       -4.07       -2.76   0.80    1.0   95.5ms\n",
      "  4   -7.852646459256       -5.07       -3.29   0.80    1.8   32.2ms\n",
      "  5   -7.852646663625       -6.69       -4.13   0.80    1.0   27.0ms\n",
      "  6   -7.852646686404       -7.64       -4.72   0.80    2.2   37.2ms\n",
      "  7   -7.852646686723       -9.50       -5.50   0.80    1.5   30.3ms\n",
      "  8   -7.852646686729      -11.21       -6.83   0.80    1.8   32.5ms\n"
     ]
    }
   ],
   "cell_type": "code",
   "source": [
    "scfres_scfv = DFTK.scf_potential_mixing(basis; tol);"
   ],
   "metadata": {},
   "execution_count": 3
  },
  {
   "cell_type": "markdown",
   "source": [
    "## Direct minimization\n",
    "Note: Unlike the other algorithms, tolerance for this one is in the energy,\n",
    "thus we square the density tolerance value to be roughly equivalent."
   ],
   "metadata": {}
  },
  {
   "outputs": [
    {
     "name": "stdout",
     "output_type": "stream",
     "text": [
      "Iter     Function value   Gradient norm \n",
      "     0     1.397087e+01     4.083326e+00\n",
      " * time: 0.0709841251373291\n",
      "     1     1.488623e+00     2.244917e+00\n",
      " * time: 0.3407731056213379\n",
      "     2    -1.393294e+00     2.664176e+00\n",
      " * time: 0.3707890510559082\n",
      "     3    -3.899744e+00     2.423689e+00\n",
      " * time: 0.4134190082550049\n",
      "     4    -5.358031e+00     2.220588e+00\n",
      " * time: 0.455808162689209\n",
      "     5    -6.932213e+00     1.142576e+00\n",
      " * time: 0.4988851547241211\n",
      "     6    -7.124413e+00     1.308915e+00\n",
      " * time: 0.5287120342254639\n",
      "     7    -7.578899e+00     7.803574e-01\n",
      " * time: 0.5582411289215088\n",
      "     8    -7.677829e+00     1.023438e+00\n",
      " * time: 0.58833909034729\n",
      "     9    -7.750469e+00     7.625851e-01\n",
      " * time: 0.6177921295166016\n",
      "    10    -7.780377e+00     9.816255e-01\n",
      " * time: 0.6469810009002686\n",
      "    11    -7.804420e+00     7.158544e-01\n",
      " * time: 0.6763291358947754\n",
      "    12    -7.828035e+00     2.858986e-01\n",
      " * time: 0.7183871269226074\n",
      "    13    -7.843172e+00     1.842606e-01\n",
      " * time: 0.747157096862793\n",
      "    14    -7.847856e+00     5.001721e-02\n",
      " * time: 0.7758581638336182\n",
      "    15    -7.851531e+00     5.486484e-02\n",
      " * time: 0.8045229911804199\n",
      "    16    -7.852069e+00     3.374948e-02\n",
      " * time: 0.833125114440918\n",
      "    17    -7.852307e+00     9.337374e-03\n",
      " * time: 0.8624610900878906\n",
      "    18    -7.852516e+00     1.148836e-02\n",
      " * time: 0.8913769721984863\n",
      "    19    -7.852615e+00     8.534484e-03\n",
      " * time: 0.921248197555542\n",
      "    20    -7.852636e+00     2.689931e-03\n",
      " * time: 0.9509131908416748\n",
      "    21    -7.852643e+00     1.284472e-03\n",
      " * time: 0.9805591106414795\n",
      "    22    -7.852646e+00     8.991648e-04\n",
      " * time: 1.0097692012786865\n",
      "    23    -7.852646e+00     2.591046e-04\n",
      " * time: 1.0396599769592285\n",
      "    24    -7.852647e+00     2.827785e-04\n",
      " * time: 1.070214033126831\n",
      "    25    -7.852647e+00     1.131887e-04\n",
      " * time: 1.1006669998168945\n",
      "    26    -7.852647e+00     4.938368e-05\n",
      " * time: 1.130669116973877\n",
      "    27    -7.852647e+00     3.350914e-05\n",
      " * time: 1.1608011722564697\n",
      "    28    -7.852647e+00     2.399542e-05\n",
      " * time: 1.1912171840667725\n",
      "    29    -7.852647e+00     1.629532e-05\n",
      " * time: 1.2208781242370605\n",
      "    30    -7.852647e+00     7.475656e-06\n",
      " * time: 1.2509710788726807\n",
      "    31    -7.852647e+00     4.334060e-06\n",
      " * time: 1.2804160118103027\n",
      "    32    -7.852647e+00     2.336930e-06\n",
      " * time: 1.3087821006774902\n",
      "    33    -7.852647e+00     1.196145e-06\n",
      " * time: 1.3375589847564697\n",
      "    34    -7.852647e+00     6.723208e-07\n",
      " * time: 1.3667211532592773\n",
      "    35    -7.852647e+00     4.911599e-07\n",
      " * time: 1.3959369659423828\n",
      "    36    -7.852647e+00     2.932437e-07\n",
      " * time: 1.4250280857086182\n",
      "    37    -7.852647e+00     1.461117e-07\n",
      " * time: 1.4543960094451904\n",
      "    38    -7.852647e+00     8.165102e-08\n",
      " * time: 1.483814001083374\n",
      "    39    -7.852647e+00     6.033963e-08\n",
      " * time: 1.5136051177978516\n",
      "    40    -7.852647e+00     3.817373e-08\n",
      " * time: 1.542781114578247\n",
      "    41    -7.852647e+00     1.992150e-08\n",
      " * time: 1.572493076324463\n",
      "    42    -7.852647e+00     9.797351e-09\n",
      " * time: 1.6657819747924805\n"
     ]
    }
   ],
   "cell_type": "code",
   "source": [
    "scfres_dm = direct_minimization(basis; tol=tol^2);"
   ],
   "metadata": {},
   "execution_count": 4
  },
  {
   "cell_type": "markdown",
   "source": [
    "## Newton algorithm"
   ],
   "metadata": {}
  },
  {
   "cell_type": "markdown",
   "source": [
    "Start not too far from the solution to ensure convergence:\n",
    "We run first a very crude SCF to get close and then switch to Newton."
   ],
   "metadata": {}
  },
  {
   "outputs": [
    {
     "name": "stdout",
     "output_type": "stream",
     "text": [
      "n     Energy            log10(ΔE)   log10(Δρ)   Diag   Δtime\n",
      "---   ---------------   ---------   ---------   ----   ------\n",
      "  1   -7.846783662574                   -0.70    4.2         \n"
     ]
    }
   ],
   "cell_type": "code",
   "source": [
    "scfres_start = self_consistent_field(basis; tol=0.5);"
   ],
   "metadata": {},
   "execution_count": 5
  },
  {
   "cell_type": "markdown",
   "source": [
    "Remove the virtual orbitals (which Newton cannot treat yet)"
   ],
   "metadata": {}
  },
  {
   "outputs": [
    {
     "name": "stdout",
     "output_type": "stream",
     "text": [
      "n     Energy            log10(ΔE)   log10(Δρ)   Δtime\n",
      "---   ---------------   ---------   ---------   ------\n",
      "  1   -7.852645865933                   -1.64         \n",
      "  2   -7.852646686730       -6.09       -3.71    2.46s\n",
      "  3   -7.852646686730      -13.18       -7.21    207ms\n"
     ]
    }
   ],
   "cell_type": "code",
   "source": [
    "ψ = DFTK.select_occupied_orbitals(basis, scfres_start.ψ, scfres_start.occupation).ψ\n",
    "scfres_newton = newton(basis, ψ; tol);"
   ],
   "metadata": {},
   "execution_count": 6
  },
  {
   "cell_type": "markdown",
   "source": [
    "## Comparison of results"
   ],
   "metadata": {}
  },
  {
   "outputs": [
    {
     "name": "stdout",
     "output_type": "stream",
     "text": [
      "|ρ_newton - ρ_scf|  = 4.013500126227422e-7\n",
      "|ρ_newton - ρ_scfv| = 1.6446929409080616e-7\n",
      "|ρ_newton - ρ_dm|   = 2.04461250253369e-9\n"
     ]
    }
   ],
   "cell_type": "code",
   "source": [
    "println(\"|ρ_newton - ρ_scf|  = \", norm(scfres_newton.ρ - scfres_scf.ρ))\n",
    "println(\"|ρ_newton - ρ_scfv| = \", norm(scfres_newton.ρ - scfres_scfv.ρ))\n",
    "println(\"|ρ_newton - ρ_dm|   = \", norm(scfres_newton.ρ - scfres_dm.ρ))"
   ],
   "metadata": {},
   "execution_count": 7
  }
 ],
 "nbformat_minor": 3,
 "metadata": {
  "language_info": {
   "file_extension": ".jl",
   "mimetype": "application/julia",
   "name": "julia",
   "version": "1.9.3"
  },
  "kernelspec": {
   "name": "julia-1.9",
   "display_name": "Julia 1.9.3",
   "language": "julia"
  }
 },
 "nbformat": 4
}
