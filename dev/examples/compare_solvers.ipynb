{
 "cells": [
  {
   "cell_type": "markdown",
   "source": [
    "# Comparison of DFT solvers"
   ],
   "metadata": {}
  },
  {
   "cell_type": "markdown",
   "source": [
    "We compare four different approaches for solving the DFT minimisation problem,\n",
    "namely a density-based SCF, a potential-based SCF, direct minimisation and Newton."
   ],
   "metadata": {}
  },
  {
   "cell_type": "markdown",
   "source": [
    "First we setup our problem"
   ],
   "metadata": {}
  },
  {
   "outputs": [
    {
     "output_type": "execute_result",
     "data": {
      "text/plain": "1.0e-6"
     },
     "metadata": {},
     "execution_count": 1
    }
   ],
   "cell_type": "code",
   "source": [
    "using DFTK\n",
    "using LinearAlgebra\n",
    "\n",
    "a = 10.26  # Silicon lattice constant in Bohr\n",
    "lattice = a / 2 * [[0 1 1.];\n",
    "                   [1 0 1.];\n",
    "                   [1 1 0.]]\n",
    "Si = ElementPsp(:Si, psp=load_psp(\"hgh/lda/Si-q4\"))\n",
    "atoms     = [Si, Si]\n",
    "positions = [ones(3)/8, -ones(3)/8]\n",
    "\n",
    "model = model_LDA(lattice, atoms, positions)\n",
    "basis = PlaneWaveBasis(model; Ecut=5, kgrid=[3, 3, 3])\n",
    "\n",
    "# Convergence we desire in the density\n",
    "tol = 1e-6"
   ],
   "metadata": {},
   "execution_count": 1
  },
  {
   "cell_type": "markdown",
   "source": [
    "## Density-based self-consistent field"
   ],
   "metadata": {}
  },
  {
   "outputs": [
    {
     "name": "stdout",
     "output_type": "stream",
     "text": [
      "n     Energy            log10(ΔE)   log10(Δρ)   Diag   Δtime\n",
      "---   ---------------   ---------   ---------   ----   ------\n",
      "  1   -7.846864154879                   -0.70    5.0         \n",
      "  2   -7.852321021414       -2.26       -1.53    1.0   33.4ms\n",
      "  3   -7.852614986598       -3.53       -2.56    1.5   37.5ms\n",
      "  4   -7.852646027121       -4.51       -2.90    2.5   46.5ms\n",
      "  5   -7.852646525509       -6.30       -3.21    1.0   34.7ms\n",
      "  6   -7.852646679051       -6.81       -4.01    1.0   34.0ms\n",
      "  7   -7.852646686225       -8.14       -5.34    1.2   38.7ms\n",
      "  8   -7.852646686725       -9.30       -5.50    3.0   51.2ms\n",
      "  9   -7.852646686730      -11.31       -6.21    1.0   34.7ms\n"
     ]
    }
   ],
   "cell_type": "code",
   "source": [
    "scfres_scf = self_consistent_field(basis; tol);"
   ],
   "metadata": {},
   "execution_count": 2
  },
  {
   "cell_type": "markdown",
   "source": [
    "## Potential-based SCF"
   ],
   "metadata": {}
  },
  {
   "outputs": [
    {
     "name": "stdout",
     "output_type": "stream",
     "text": [
      "n     Energy            log10(ΔE)   log10(Δρ)   α      Diag   Δtime\n",
      "---   ---------------   ---------   ---------   ----   ----   ------\n",
      "  1   -7.846811416770                   -0.70           4.5         \n",
      "  2   -7.852523999294       -2.24       -1.64   0.80    2.2    425ms\n",
      "  3   -7.852635667477       -3.95       -2.74   0.80    1.0   32.3ms\n",
      "  4   -7.852646496876       -4.97       -3.25   0.80    2.2   43.2ms\n",
      "  5   -7.852646673484       -6.75       -4.06   0.80    1.2   34.8ms\n",
      "  6   -7.852646686365       -7.89       -4.79   0.80    1.8   39.5ms\n",
      "  7   -7.852646686724       -9.44       -5.63   0.80    1.8   42.8ms\n",
      "  8   -7.852646686730      -11.24       -6.96   0.80    2.2   43.5ms\n"
     ]
    }
   ],
   "cell_type": "code",
   "source": [
    "scfres_scfv = DFTK.scf_potential_mixing(basis; tol);"
   ],
   "metadata": {},
   "execution_count": 3
  },
  {
   "cell_type": "markdown",
   "source": [
    "## Direct minimization\n",
    "Note: Unlike the other algorithms, tolerance for this one is in the energy,\n",
    "thus we square the density tolerance value to be roughly equivalent."
   ],
   "metadata": {}
  },
  {
   "outputs": [
    {
     "name": "stdout",
     "output_type": "stream",
     "text": [
      "Iter     Function value   Gradient norm \n",
      "     0     1.400390e+01     3.442336e+00\n",
      " * time: 0.07780098915100098\n",
      "     1     1.232377e+00     1.849758e+00\n",
      " * time: 0.38660287857055664\n",
      "     2    -1.308605e+00     2.251410e+00\n",
      " * time: 0.421875\n",
      "     3    -3.614169e+00     1.812183e+00\n",
      " * time: 0.4751889705657959\n",
      "     4    -4.899624e+00     1.750819e+00\n",
      " * time: 0.5276849269866943\n",
      "     5    -6.595659e+00     1.370181e+00\n",
      " * time: 0.5798280239105225\n",
      "     6    -7.331069e+00     6.429945e-01\n",
      " * time: 0.6312530040740967\n",
      "     7    -7.638945e+00     2.968303e-01\n",
      " * time: 0.667639970779419\n",
      "     8    -7.740198e+00     1.753960e-01\n",
      " * time: 0.7030079364776611\n",
      "     9    -7.792563e+00     1.590980e-01\n",
      " * time: 0.7385590076446533\n",
      "    10    -7.819281e+00     7.705658e-02\n",
      " * time: 0.7745740413665771\n",
      "    11    -7.836094e+00     6.813393e-02\n",
      " * time: 0.8106980323791504\n",
      "    12    -7.842581e+00     5.806714e-02\n",
      " * time: 0.8463790416717529\n",
      "    13    -7.845567e+00     3.909951e-02\n",
      " * time: 0.8818018436431885\n",
      "    14    -7.848593e+00     2.444701e-02\n",
      " * time: 0.9173948764801025\n",
      "    15    -7.851000e+00     2.113052e-02\n",
      " * time: 0.9525468349456787\n",
      "    16    -7.852108e+00     1.300558e-02\n",
      " * time: 0.9883480072021484\n",
      "    17    -7.852481e+00     6.110859e-03\n",
      " * time: 1.0259950160980225\n",
      "    18    -7.852592e+00     3.484142e-03\n",
      " * time: 1.0618610382080078\n",
      "    19    -7.852626e+00     1.963860e-03\n",
      " * time: 1.097808837890625\n",
      "    20    -7.852639e+00     1.286281e-03\n",
      " * time: 1.1391949653625488\n",
      "    21    -7.852645e+00     8.798988e-04\n",
      " * time: 1.1751940250396729\n",
      "    22    -7.852646e+00     5.880733e-04\n",
      " * time: 1.2110099792480469\n",
      "    23    -7.852647e+00     2.451330e-04\n",
      " * time: 1.2560539245605469\n",
      "    24    -7.852647e+00     1.357082e-04\n",
      " * time: 1.296069860458374\n",
      "    25    -7.852647e+00     9.123171e-05\n",
      " * time: 1.3344659805297852\n",
      "    26    -7.852647e+00     5.438304e-05\n",
      " * time: 1.371377944946289\n",
      "    27    -7.852647e+00     4.063436e-05\n",
      " * time: 1.407071828842163\n",
      "    28    -7.852647e+00     1.531698e-05\n",
      " * time: 1.4419429302215576\n",
      "    29    -7.852647e+00     1.094714e-05\n",
      " * time: 1.47810697555542\n",
      "    30    -7.852647e+00     6.719529e-06\n",
      " * time: 1.5137250423431396\n",
      "    31    -7.852647e+00     3.679616e-06\n",
      " * time: 1.5479819774627686\n",
      "    32    -7.852647e+00     2.283354e-06\n",
      " * time: 1.5831868648529053\n",
      "    33    -7.852647e+00     8.580341e-07\n",
      " * time: 1.6187598705291748\n",
      "    34    -7.852647e+00     5.652431e-07\n",
      " * time: 1.653777837753296\n",
      "    35    -7.852647e+00     2.969388e-07\n",
      " * time: 1.6890718936920166\n",
      "    36    -7.852647e+00     1.908662e-07\n",
      " * time: 1.7244069576263428\n",
      "    37    -7.852647e+00     1.686733e-07\n",
      " * time: 1.7593519687652588\n",
      "    38    -7.852647e+00     7.213846e-08\n",
      " * time: 1.867616891860962\n",
      "    39    -7.852647e+00     3.937412e-08\n",
      " * time: 1.9029550552368164\n",
      "    40    -7.852647e+00     2.145227e-08\n",
      " * time: 1.9372270107269287\n",
      "    41    -7.852647e+00     1.292835e-08\n",
      " * time: 1.9717509746551514\n",
      "    42    -7.852647e+00     6.337447e-09\n",
      " * time: 2.0059549808502197\n"
     ]
    }
   ],
   "cell_type": "code",
   "source": [
    "scfres_dm = direct_minimization(basis; tol=tol^2);"
   ],
   "metadata": {},
   "execution_count": 4
  },
  {
   "cell_type": "markdown",
   "source": [
    "## Newton algorithm"
   ],
   "metadata": {}
  },
  {
   "cell_type": "markdown",
   "source": [
    "Start not too far from the solution to ensure convergence:\n",
    "We run first a very crude SCF to get close and then switch to Newton."
   ],
   "metadata": {}
  },
  {
   "outputs": [
    {
     "name": "stdout",
     "output_type": "stream",
     "text": [
      "n     Energy            log10(ΔE)   log10(Δρ)   Diag   Δtime\n",
      "---   ---------------   ---------   ---------   ----   ------\n",
      "  1   -7.846699291812                   -0.70    4.5         \n"
     ]
    }
   ],
   "cell_type": "code",
   "source": [
    "scfres_start = self_consistent_field(basis; tol=0.5);"
   ],
   "metadata": {},
   "execution_count": 5
  },
  {
   "cell_type": "markdown",
   "source": [
    "Remove the virtual orbitals (which Newton cannot treat yet)"
   ],
   "metadata": {}
  },
  {
   "outputs": [
    {
     "name": "stdout",
     "output_type": "stream",
     "text": [
      "n     Energy            log10(ΔE)   log10(Δρ)   Δtime\n",
      "---   ---------------   ---------   ---------   ------\n",
      "  1   -7.852645739173                   -1.64         \n",
      "  2   -7.852646686730       -6.02       -3.70    2.67s\n",
      "  3   -7.852646686730      -12.95       -7.11    262ms\n"
     ]
    }
   ],
   "cell_type": "code",
   "source": [
    "ψ = DFTK.select_occupied_orbitals(basis, scfres_start.ψ, scfres_start.occupation).ψ\n",
    "scfres_newton = newton(basis, ψ; tol);"
   ],
   "metadata": {},
   "execution_count": 6
  },
  {
   "cell_type": "markdown",
   "source": [
    "## Comparison of results"
   ],
   "metadata": {}
  },
  {
   "outputs": [
    {
     "name": "stdout",
     "output_type": "stream",
     "text": [
      "|ρ_newton - ρ_scf|  = 8.032843069880328e-7\n",
      "|ρ_newton - ρ_scfv| = 1.21564928605517e-7\n",
      "|ρ_newton - ρ_dm|   = 2.4322996018631903e-9\n"
     ]
    }
   ],
   "cell_type": "code",
   "source": [
    "println(\"|ρ_newton - ρ_scf|  = \", norm(scfres_newton.ρ - scfres_scf.ρ))\n",
    "println(\"|ρ_newton - ρ_scfv| = \", norm(scfres_newton.ρ - scfres_scfv.ρ))\n",
    "println(\"|ρ_newton - ρ_dm|   = \", norm(scfres_newton.ρ - scfres_dm.ρ))"
   ],
   "metadata": {},
   "execution_count": 7
  }
 ],
 "nbformat_minor": 3,
 "metadata": {
  "language_info": {
   "file_extension": ".jl",
   "mimetype": "application/julia",
   "name": "julia",
   "version": "1.9.3"
  },
  "kernelspec": {
   "name": "julia-1.9",
   "display_name": "Julia 1.9.3",
   "language": "julia"
  }
 },
 "nbformat": 4
}
