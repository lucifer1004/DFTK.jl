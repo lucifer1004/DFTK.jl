{
 "cells": [
  {
   "cell_type": "markdown",
   "source": [
    "# Comparison of DFT solvers"
   ],
   "metadata": {}
  },
  {
   "cell_type": "markdown",
   "source": [
    "We compare four different approaches for solving the DFT minimisation problem,\n",
    "namely a density-based SCF, a potential-based SCF, direct minimisation and Newton."
   ],
   "metadata": {}
  },
  {
   "cell_type": "markdown",
   "source": [
    "First we setup our problem"
   ],
   "metadata": {}
  },
  {
   "outputs": [
    {
     "output_type": "execute_result",
     "data": {
      "text/plain": "1.0e-6"
     },
     "metadata": {},
     "execution_count": 1
    }
   ],
   "cell_type": "code",
   "source": [
    "using DFTK\n",
    "using LinearAlgebra\n",
    "\n",
    "a = 10.26  # Silicon lattice constant in Bohr\n",
    "lattice = a / 2 * [[0 1 1.];\n",
    "                   [1 0 1.];\n",
    "                   [1 1 0.]]\n",
    "Si = ElementPsp(:Si, psp=load_psp(\"hgh/lda/Si-q4\"))\n",
    "atoms     = [Si, Si]\n",
    "positions = [ones(3)/8, -ones(3)/8]\n",
    "\n",
    "model = model_LDA(lattice, atoms, positions)\n",
    "basis = PlaneWaveBasis(model; Ecut=5, kgrid=[3, 3, 3])\n",
    "\n",
    "# Convergence we desire in the density\n",
    "tol = 1e-6"
   ],
   "metadata": {},
   "execution_count": 1
  },
  {
   "cell_type": "markdown",
   "source": [
    "## Density-based self-consistent field"
   ],
   "metadata": {}
  },
  {
   "outputs": [
    {
     "name": "stdout",
     "output_type": "stream",
     "text": [
      "n     Energy            log10(ΔE)   log10(Δρ)   Diag   Δtime\n",
      "---   ---------------   ---------   ---------   ----   ------\n",
      "  1   -7.846901623799                   -0.70    4.8         \n",
      "  2   -7.852330301237       -2.27       -1.53    1.0   24.9ms\n",
      "  3   -7.852616321815       -3.54       -2.56    1.5   27.5ms\n",
      "  4   -7.852646040902       -4.53       -2.89    2.8   36.1ms\n",
      "  5   -7.852646519071       -6.32       -3.19    1.0   25.5ms\n",
      "  6   -7.852646678880       -6.80       -4.00    1.0   25.4ms\n",
      "  7   -7.852646686476       -8.12       -5.20    1.8   30.4ms\n",
      "  8   -7.852646686725       -9.60       -5.52    2.5   34.9ms\n",
      "  9   -7.852646686726      -12.08       -5.54    1.2   27.4ms\n",
      " 10   -7.852646686730      -11.42       -6.41    1.0   25.9ms\n"
     ]
    }
   ],
   "cell_type": "code",
   "source": [
    "scfres_scf = self_consistent_field(basis; tol);"
   ],
   "metadata": {},
   "execution_count": 2
  },
  {
   "cell_type": "markdown",
   "source": [
    "## Potential-based SCF"
   ],
   "metadata": {}
  },
  {
   "outputs": [
    {
     "name": "stdout",
     "output_type": "stream",
     "text": [
      "n     Energy            log10(ΔE)   log10(Δρ)   α      Diag   Δtime\n",
      "---   ---------------   ---------   ---------   ----   ----   ------\n",
      "  1   -7.846852144716                   -0.70           4.5         \n",
      "  2   -7.852551715056       -2.24       -1.63   0.80    2.0    265ms\n",
      "  3   -7.852639117674       -4.06       -2.73   0.80    1.0   23.6ms\n",
      "  4   -7.852646441549       -5.14       -3.35   0.80    2.0   29.5ms\n",
      "  5   -7.852646679503       -6.62       -4.22   0.80    1.8   27.8ms\n",
      "  6   -7.852646686604       -8.15       -4.73   0.80    1.8   28.5ms\n",
      "  7   -7.852646686723       -9.92       -5.63   0.80    1.2   25.4ms\n",
      "  8   -7.852646686730      -11.18       -6.46   0.80    2.2   30.3ms\n"
     ]
    }
   ],
   "cell_type": "code",
   "source": [
    "scfres_scfv = DFTK.scf_potential_mixing(basis; tol);"
   ],
   "metadata": {},
   "execution_count": 3
  },
  {
   "cell_type": "markdown",
   "source": [
    "## Direct minimization\n",
    "Note: Unlike the other algorithms, tolerance for this one is in the energy,\n",
    "thus we square the density tolerance value to be roughly equivalent."
   ],
   "metadata": {}
  },
  {
   "outputs": [
    {
     "name": "stdout",
     "output_type": "stream",
     "text": [
      "Iter     Function value   Gradient norm \n",
      "     0     1.386914e+01     3.332447e+00\n",
      " * time: 0.06284904479980469\n",
      "     1     1.651822e+00     1.738108e+00\n",
      " * time: 0.3018620014190674\n",
      "     2    -1.434580e+00     2.123755e+00\n",
      " * time: 0.3269619941711426\n",
      "     3    -3.703527e+00     1.795098e+00\n",
      " * time: 0.36247992515563965\n",
      "     4    -5.182449e+00     1.538131e+00\n",
      " * time: 0.39812397956848145\n",
      "     5    -6.857246e+00     9.379068e-01\n",
      " * time: 0.43375301361083984\n",
      "     6    -7.002092e+00     1.434045e+00\n",
      " * time: 0.45844388008117676\n",
      "     7    -7.437888e+00     1.181109e+00\n",
      " * time: 0.4830329418182373\n",
      "     8    -7.691849e+00     4.500031e-01\n",
      " * time: 0.5183999538421631\n",
      "     9    -7.755886e+00     4.329814e-01\n",
      " * time: 0.5430300235748291\n",
      "    10    -7.812780e+00     8.410993e-02\n",
      " * time: 0.5676958560943604\n",
      "    11    -7.830640e+00     1.599639e-01\n",
      " * time: 0.592555046081543\n",
      "    12    -7.842609e+00     7.713079e-02\n",
      " * time: 0.6176149845123291\n",
      "    13    -7.847863e+00     3.867004e-02\n",
      " * time: 0.6425309181213379\n",
      "    14    -7.850746e+00     2.729661e-02\n",
      " * time: 0.6677989959716797\n",
      "    15    -7.851847e+00     2.558187e-02\n",
      " * time: 0.6928298473358154\n",
      "    16    -7.852279e+00     1.850883e-02\n",
      " * time: 0.7176458835601807\n",
      "    17    -7.852518e+00     5.492959e-03\n",
      " * time: 0.7422358989715576\n",
      "    18    -7.852609e+00     4.439908e-03\n",
      " * time: 0.766934871673584\n",
      "    19    -7.852633e+00     3.415649e-03\n",
      " * time: 0.791611909866333\n",
      "    20    -7.852641e+00     1.331306e-03\n",
      " * time: 0.816425085067749\n",
      "    21    -7.852645e+00     6.013218e-04\n",
      " * time: 0.8410499095916748\n",
      "    22    -7.852646e+00     3.982607e-04\n",
      " * time: 0.8658778667449951\n",
      "    23    -7.852646e+00     3.182425e-04\n",
      " * time: 0.890531063079834\n",
      "    24    -7.852647e+00     2.439299e-04\n",
      " * time: 0.9151289463043213\n",
      "    25    -7.852647e+00     8.876107e-05\n",
      " * time: 0.939892053604126\n",
      "    26    -7.852647e+00     6.461137e-05\n",
      " * time: 0.9645750522613525\n",
      "    27    -7.852647e+00     5.501730e-05\n",
      " * time: 0.9891760349273682\n",
      "    28    -7.852647e+00     2.575834e-05\n",
      " * time: 1.0135948657989502\n",
      "    29    -7.852647e+00     7.535206e-06\n",
      " * time: 1.0380189418792725\n",
      "    30    -7.852647e+00     7.182652e-06\n",
      " * time: 1.0625078678131104\n",
      "    31    -7.852647e+00     3.671653e-06\n",
      " * time: 1.0872390270233154\n",
      "    32    -7.852647e+00     1.335104e-06\n",
      " * time: 1.1124420166015625\n",
      "    33    -7.852647e+00     1.127248e-06\n",
      " * time: 1.2184019088745117\n",
      "    34    -7.852647e+00     8.060532e-07\n",
      " * time: 1.2439379692077637\n",
      "    35    -7.852647e+00     5.001507e-07\n",
      " * time: 1.2687969207763672\n",
      "    36    -7.852647e+00     2.370886e-07\n",
      " * time: 1.293475866317749\n",
      "    37    -7.852647e+00     1.324846e-07\n",
      " * time: 1.318037986755371\n",
      "    38    -7.852647e+00     9.432054e-08\n",
      " * time: 1.3424530029296875\n",
      "    39    -7.852647e+00     9.566482e-08\n",
      " * time: 1.3670098781585693\n",
      "    40    -7.852647e+00     5.333401e-08\n",
      " * time: 1.3915698528289795\n",
      "    41    -7.852647e+00     1.843809e-08\n",
      " * time: 1.4163520336151123\n",
      "    42    -7.852647e+00     1.394342e-08\n",
      " * time: 1.441175937652588\n",
      "    43    -7.852647e+00     7.986975e-09\n",
      " * time: 1.4659268856048584\n",
      "    44    -7.852647e+00     5.715274e-09\n",
      " * time: 1.5014259815216064\n",
      "    45    -7.852647e+00     5.638799e-09\n",
      " * time: 1.54728102684021\n",
      "    46    -7.852647e+00     5.616770e-09\n",
      " * time: 1.6045598983764648\n"
     ]
    }
   ],
   "cell_type": "code",
   "source": [
    "scfres_dm = direct_minimization(basis; tol=tol^2);"
   ],
   "metadata": {},
   "execution_count": 4
  },
  {
   "cell_type": "markdown",
   "source": [
    "## Newton algorithm"
   ],
   "metadata": {}
  },
  {
   "cell_type": "markdown",
   "source": [
    "Start not too far from the solution to ensure convergence:\n",
    "We run first a very crude SCF to get close and then switch to Newton."
   ],
   "metadata": {}
  },
  {
   "outputs": [
    {
     "name": "stdout",
     "output_type": "stream",
     "text": [
      "n     Energy            log10(ΔE)   log10(Δρ)   Diag   Δtime\n",
      "---   ---------------   ---------   ---------   ----   ------\n",
      "  1   -7.846844717866                   -0.70    4.5         \n"
     ]
    }
   ],
   "cell_type": "code",
   "source": [
    "scfres_start = self_consistent_field(basis; tol=0.5);"
   ],
   "metadata": {},
   "execution_count": 5
  },
  {
   "cell_type": "markdown",
   "source": [
    "Remove the virtual orbitals (which Newton cannot treat yet)"
   ],
   "metadata": {}
  },
  {
   "outputs": [
    {
     "name": "stdout",
     "output_type": "stream",
     "text": [
      "n     Energy            log10(ΔE)   log10(Δρ)   Δtime\n",
      "---   ---------------   ---------   ---------   ------\n",
      "  1   -7.852645901684                   -1.64         \n",
      "  2   -7.852646686730       -6.11       -3.71    2.13s\n",
      "  3   -7.852646686730      -13.27       -7.24    177ms\n"
     ]
    }
   ],
   "cell_type": "code",
   "source": [
    "ψ = DFTK.select_occupied_orbitals(basis, scfres_start.ψ, scfres_start.occupation).ψ\n",
    "scfres_newton = newton(basis, ψ; tol);"
   ],
   "metadata": {},
   "execution_count": 6
  },
  {
   "cell_type": "markdown",
   "source": [
    "## Comparison of results"
   ],
   "metadata": {}
  },
  {
   "outputs": [
    {
     "name": "stdout",
     "output_type": "stream",
     "text": [
      "|ρ_newton - ρ_scf|  = 4.87710249636593e-7\n",
      "|ρ_newton - ρ_scfv| = 1.1016399318868204e-7\n",
      "|ρ_newton - ρ_dm|   = 7.401094716846793e-10\n"
     ]
    }
   ],
   "cell_type": "code",
   "source": [
    "println(\"|ρ_newton - ρ_scf|  = \", norm(scfres_newton.ρ - scfres_scf.ρ))\n",
    "println(\"|ρ_newton - ρ_scfv| = \", norm(scfres_newton.ρ - scfres_scfv.ρ))\n",
    "println(\"|ρ_newton - ρ_dm|   = \", norm(scfres_newton.ρ - scfres_dm.ρ))"
   ],
   "metadata": {},
   "execution_count": 7
  }
 ],
 "nbformat_minor": 3,
 "metadata": {
  "language_info": {
   "file_extension": ".jl",
   "mimetype": "application/julia",
   "name": "julia",
   "version": "1.9.3"
  },
  "kernelspec": {
   "name": "julia-1.9",
   "display_name": "Julia 1.9.3",
   "language": "julia"
  }
 },
 "nbformat": 4
}
