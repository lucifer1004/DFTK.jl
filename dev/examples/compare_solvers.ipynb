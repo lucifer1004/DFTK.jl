{
 "cells": [
  {
   "cell_type": "markdown",
   "source": [
    "# Comparison of DFT solvers"
   ],
   "metadata": {}
  },
  {
   "cell_type": "markdown",
   "source": [
    "We compare four different approaches for solving the DFT minimisation problem,\n",
    "namely a density-based SCF, a potential-based SCF, direct minimisation and Newton."
   ],
   "metadata": {}
  },
  {
   "cell_type": "markdown",
   "source": [
    "First we setup our problem"
   ],
   "metadata": {}
  },
  {
   "outputs": [
    {
     "output_type": "execute_result",
     "data": {
      "text/plain": "1.0e-6"
     },
     "metadata": {},
     "execution_count": 1
    }
   ],
   "cell_type": "code",
   "source": [
    "using DFTK\n",
    "using LinearAlgebra\n",
    "\n",
    "a = 10.26  # Silicon lattice constant in Bohr\n",
    "lattice = a / 2 * [[0 1 1.];\n",
    "                   [1 0 1.];\n",
    "                   [1 1 0.]]\n",
    "Si = ElementPsp(:Si; psp=load_psp(\"hgh/lda/Si-q4\"))\n",
    "atoms     = [Si, Si]\n",
    "positions = [ones(3)/8, -ones(3)/8]\n",
    "\n",
    "model = model_LDA(lattice, atoms, positions)\n",
    "basis = PlaneWaveBasis(model; Ecut=5, kgrid=[3, 3, 3])\n",
    "\n",
    "# Convergence we desire in the density\n",
    "tol = 1e-6"
   ],
   "metadata": {},
   "execution_count": 1
  },
  {
   "cell_type": "markdown",
   "source": [
    "## Density-based self-consistent field"
   ],
   "metadata": {}
  },
  {
   "outputs": [
    {
     "name": "stdout",
     "output_type": "stream",
     "text": [
      "n     Energy            log10(ΔE)   log10(Δρ)   Diag   Δtime\n",
      "---   ---------------   ---------   ---------   ----   ------\n",
      "  1   -7.846642905048                   -0.70    4.5         \n",
      "  2   -7.852302271753       -2.25       -1.53    1.0   17.8ms\n",
      "  3   -7.852608947795       -3.51       -2.56    1.5   19.2ms\n",
      "  4   -7.852646050042       -4.43       -2.88    2.8   25.6ms\n",
      "  5   -7.852646489518       -6.36       -3.14    1.0   17.7ms\n",
      "  6   -7.852646680360       -6.72       -4.13    1.0   18.1ms\n",
      "  7   -7.852646686684       -8.20       -5.00    2.0   22.7ms\n",
      "  8   -7.852646686724      -10.40       -5.46    1.5   19.9ms\n",
      "  9   -7.852646686727      -11.65       -5.48    1.5   20.6ms\n",
      " 10   -7.852646686730      -11.50       -6.74    1.0   18.4ms\n"
     ]
    }
   ],
   "cell_type": "code",
   "source": [
    "scfres_scf = self_consistent_field(basis; tol);"
   ],
   "metadata": {},
   "execution_count": 2
  },
  {
   "cell_type": "markdown",
   "source": [
    "## Potential-based SCF"
   ],
   "metadata": {}
  },
  {
   "outputs": [
    {
     "name": "stdout",
     "output_type": "stream",
     "text": [
      "n     Energy            log10(ΔE)   log10(Δρ)   α      Diag   Δtime\n",
      "---   ---------------   ---------   ---------   ----   ----   ------\n",
      "  1   -7.846937148608                   -0.70           4.8         \n",
      "  2   -7.852552439214       -2.25       -1.64   0.80    2.0    229ms\n",
      "  3   -7.852638760920       -4.06       -2.74   0.80    1.0   16.9ms\n",
      "  4   -7.852646454935       -5.11       -3.36   0.80    2.0   20.9ms\n",
      "  5   -7.852646679810       -6.65       -4.23   0.80    1.8   19.9ms\n",
      "  6   -7.852646686607       -8.17       -4.77   0.80    2.0   20.8ms\n",
      "  7   -7.852646686723       -9.94       -5.68   0.80    1.2   18.3ms\n",
      "  8   -7.852646686730      -11.16       -6.48   0.80    2.0   20.7ms\n"
     ]
    }
   ],
   "cell_type": "code",
   "source": [
    "scfres_scfv = DFTK.scf_potential_mixing(basis; tol);"
   ],
   "metadata": {},
   "execution_count": 3
  },
  {
   "cell_type": "markdown",
   "source": [
    "## Direct minimization\n",
    "Note: Unlike the other algorithms, tolerance for this one is in the energy,\n",
    "thus we square the density tolerance value to be roughly equivalent."
   ],
   "metadata": {}
  },
  {
   "outputs": [
    {
     "name": "stdout",
     "output_type": "stream",
     "text": [
      "Iter     Function value   Gradient norm \n",
      "     0     1.422031e+01     3.727097e+00\n",
      " * time: 0.047796010971069336\n",
      "     1     1.494242e+00     1.758524e+00\n",
      " * time: 0.23592901229858398\n",
      "     2    -1.372208e+00     2.020395e+00\n",
      " * time: 0.25429320335388184\n",
      "     3    -3.505721e+00     1.721853e+00\n",
      " * time: 0.28093719482421875\n",
      "     4    -4.554601e+00     1.753489e+00\n",
      " * time: 0.30747509002685547\n",
      "     5    -6.452153e+00     1.284538e+00\n",
      " * time: 0.3340442180633545\n",
      "     6    -7.311858e+00     8.396919e-01\n",
      " * time: 0.3609139919281006\n",
      "     7    -7.601559e+00     9.160972e-01\n",
      " * time: 0.3795762062072754\n",
      "     8    -7.698789e+00     7.048695e-01\n",
      " * time: 0.39809203147888184\n",
      "     9    -7.743235e+00     5.639370e-01\n",
      " * time: 0.4163811206817627\n",
      "    10    -7.771121e+00     1.813158e-01\n",
      " * time: 0.43457818031311035\n",
      "    11    -7.789817e+00     1.163395e-01\n",
      " * time: 0.45302414894104004\n",
      "    12    -7.817251e+00     1.298527e-01\n",
      " * time: 0.47123003005981445\n",
      "    13    -7.832569e+00     1.063942e-01\n",
      " * time: 0.4895172119140625\n",
      "    14    -7.844987e+00     4.846623e-02\n",
      " * time: 0.5078232288360596\n",
      "    15    -7.850316e+00     3.454456e-02\n",
      " * time: 0.5264320373535156\n",
      "    16    -7.851619e+00     2.124591e-02\n",
      " * time: 0.5452179908752441\n",
      "    17    -7.852299e+00     7.563182e-03\n",
      " * time: 0.5637671947479248\n",
      "    18    -7.852569e+00     5.530411e-03\n",
      " * time: 0.5821261405944824\n",
      "    19    -7.852624e+00     3.537460e-03\n",
      " * time: 0.6005492210388184\n",
      "    20    -7.852637e+00     1.484954e-03\n",
      " * time: 0.6190130710601807\n",
      "    21    -7.852643e+00     1.488362e-03\n",
      " * time: 0.6376721858978271\n",
      "    22    -7.852645e+00     8.366323e-04\n",
      " * time: 0.6559741497039795\n",
      "    23    -7.852646e+00     4.234138e-04\n",
      " * time: 0.6744880676269531\n",
      "    24    -7.852646e+00     3.399818e-04\n",
      " * time: 0.6927790641784668\n",
      "    25    -7.852647e+00     1.384576e-04\n",
      " * time: 0.7111551761627197\n",
      "    26    -7.852647e+00     7.502775e-05\n",
      " * time: 0.7295060157775879\n",
      "    27    -7.852647e+00     6.569477e-05\n",
      " * time: 0.7910821437835693\n",
      "    28    -7.852647e+00     2.703663e-05\n",
      " * time: 0.8095731735229492\n",
      "    29    -7.852647e+00     1.576541e-05\n",
      " * time: 0.827984094619751\n",
      "    30    -7.852647e+00     9.330324e-06\n",
      " * time: 0.8463470935821533\n",
      "    31    -7.852647e+00     5.211472e-06\n",
      " * time: 0.8650531768798828\n",
      "    32    -7.852647e+00     2.705781e-06\n",
      " * time: 0.8836309909820557\n",
      "    33    -7.852647e+00     2.569621e-06\n",
      " * time: 0.9023101329803467\n",
      "    34    -7.852647e+00     1.298582e-06\n",
      " * time: 0.9211201667785645\n",
      "    35    -7.852647e+00     5.341165e-07\n",
      " * time: 0.939716100692749\n",
      "    36    -7.852647e+00     3.149143e-07\n",
      " * time: 0.9585790634155273\n",
      "    37    -7.852647e+00     2.316849e-07\n",
      " * time: 0.9773390293121338\n",
      "    38    -7.852647e+00     1.381748e-07\n",
      " * time: 0.9956881999969482\n",
      "    39    -7.852647e+00     9.410757e-08\n",
      " * time: 1.0140900611877441\n",
      "    40    -7.852647e+00     5.756136e-08\n",
      " * time: 1.0326871871948242\n",
      "    41    -7.852647e+00     5.150213e-08\n",
      " * time: 1.0512502193450928\n",
      "    42    -7.852647e+00     2.722373e-08\n",
      " * time: 1.069526195526123\n",
      "    43    -7.852647e+00     1.766664e-08\n",
      " * time: 1.0877032279968262\n",
      "    44    -7.852647e+00     1.216140e-08\n",
      " * time: 1.1060612201690674\n",
      "    45    -7.852647e+00     1.216140e-08\n",
      " * time: 1.1978340148925781\n"
     ]
    }
   ],
   "cell_type": "code",
   "source": [
    "scfres_dm = direct_minimization(basis; tol=tol^2);"
   ],
   "metadata": {},
   "execution_count": 4
  },
  {
   "cell_type": "markdown",
   "source": [
    "## Newton algorithm"
   ],
   "metadata": {}
  },
  {
   "cell_type": "markdown",
   "source": [
    "Start not too far from the solution to ensure convergence:\n",
    "We run first a very crude SCF to get close and then switch to Newton."
   ],
   "metadata": {}
  },
  {
   "outputs": [
    {
     "name": "stdout",
     "output_type": "stream",
     "text": [
      "n     Energy            log10(ΔE)   log10(Δρ)   Diag   Δtime\n",
      "---   ---------------   ---------   ---------   ----   ------\n",
      "  1   -7.846958799816                   -0.70    4.8         \n"
     ]
    }
   ],
   "cell_type": "code",
   "source": [
    "scfres_start = self_consistent_field(basis; tol=0.5);"
   ],
   "metadata": {},
   "execution_count": 5
  },
  {
   "cell_type": "markdown",
   "source": [
    "Remove the virtual orbitals (which Newton cannot treat yet)"
   ],
   "metadata": {}
  },
  {
   "outputs": [
    {
     "name": "stdout",
     "output_type": "stream",
     "text": [
      "n     Energy            log10(ΔE)   log10(Δρ)   Δtime\n",
      "---   ---------------   ---------   ---------   ------\n",
      "  1   -7.852645941162                   -1.65         \n",
      "  2   -7.852646686730       -6.13       -3.72    1.68s\n",
      "  3   -7.852646686730      -13.36       -7.27    111ms\n"
     ]
    }
   ],
   "cell_type": "code",
   "source": [
    "ψ = DFTK.select_occupied_orbitals(basis, scfres_start.ψ, scfres_start.occupation).ψ\n",
    "scfres_newton = newton(basis, ψ; tol);"
   ],
   "metadata": {},
   "execution_count": 6
  },
  {
   "cell_type": "markdown",
   "source": [
    "## Comparison of results"
   ],
   "metadata": {}
  },
  {
   "outputs": [
    {
     "name": "stdout",
     "output_type": "stream",
     "text": [
      "|ρ_newton - ρ_scf|  = 3.189411279597638e-7\n",
      "|ρ_newton - ρ_scfv| = 9.185331926812569e-8\n",
      "|ρ_newton - ρ_dm|   = 8.565602914283476e-10\n"
     ]
    }
   ],
   "cell_type": "code",
   "source": [
    "println(\"|ρ_newton - ρ_scf|  = \", norm(scfres_newton.ρ - scfres_scf.ρ))\n",
    "println(\"|ρ_newton - ρ_scfv| = \", norm(scfres_newton.ρ - scfres_scfv.ρ))\n",
    "println(\"|ρ_newton - ρ_dm|   = \", norm(scfres_newton.ρ - scfres_dm.ρ))"
   ],
   "metadata": {},
   "execution_count": 7
  }
 ],
 "nbformat_minor": 3,
 "metadata": {
  "language_info": {
   "file_extension": ".jl",
   "mimetype": "application/julia",
   "name": "julia",
   "version": "1.9.4"
  },
  "kernelspec": {
   "name": "julia-1.9",
   "display_name": "Julia 1.9.4",
   "language": "julia"
  }
 },
 "nbformat": 4
}
