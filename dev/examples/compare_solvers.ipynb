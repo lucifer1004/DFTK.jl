{
 "cells": [
  {
   "cell_type": "markdown",
   "source": [
    "# Comparison of DFT solvers"
   ],
   "metadata": {}
  },
  {
   "cell_type": "markdown",
   "source": [
    "We compare four different approaches for solving the DFT minimisation problem,\n",
    "namely a density-based SCF, a potential-based SCF, direct minimisation and Newton."
   ],
   "metadata": {}
  },
  {
   "cell_type": "markdown",
   "source": [
    "First we setup our problem"
   ],
   "metadata": {}
  },
  {
   "outputs": [
    {
     "output_type": "execute_result",
     "data": {
      "text/plain": "1.0e-6"
     },
     "metadata": {},
     "execution_count": 1
    }
   ],
   "cell_type": "code",
   "source": [
    "using DFTK\n",
    "using LinearAlgebra\n",
    "\n",
    "a = 10.26  # Silicon lattice constant in Bohr\n",
    "lattice = a / 2 * [[0 1 1.];\n",
    "                   [1 0 1.];\n",
    "                   [1 1 0.]]\n",
    "Si = ElementPsp(:Si; psp=load_psp(\"hgh/lda/Si-q4\"))\n",
    "atoms     = [Si, Si]\n",
    "positions = [ones(3)/8, -ones(3)/8]\n",
    "\n",
    "model = model_LDA(lattice, atoms, positions)\n",
    "basis = PlaneWaveBasis(model; Ecut=5, kgrid=[3, 3, 3])\n",
    "\n",
    "# Convergence we desire in the density\n",
    "tol = 1e-6"
   ],
   "metadata": {},
   "execution_count": 1
  },
  {
   "cell_type": "markdown",
   "source": [
    "## Density-based self-consistent field"
   ],
   "metadata": {}
  },
  {
   "outputs": [
    {
     "name": "stdout",
     "output_type": "stream",
     "text": [
      "n     Energy            log10(ΔE)   log10(Δρ)   Diag   Δtime\n",
      "---   ---------------   ---------   ---------   ----   ------\n",
      "  1   -7.846828551529                   -0.70    4.5         \n",
      "  2   -7.852303652810       -2.26       -1.53    1.0   17.0ms\n",
      "  3   -7.852616345845       -3.50       -2.55    1.8   19.0ms\n",
      "  4   -7.852646000512       -4.53       -2.89    2.5   22.7ms\n",
      "  5   -7.852646513556       -6.29       -3.20    1.0   17.0ms\n",
      "  6   -7.852646678023       -6.78       -3.98    1.0   17.0ms\n",
      "  7   -7.852646686148       -8.09       -5.35    1.5   19.0ms\n",
      "  8   -7.852646686722       -9.24       -5.38    2.2   22.6ms\n",
      "  9   -7.852646686730      -11.10       -6.55    1.0   17.2ms\n"
     ]
    }
   ],
   "cell_type": "code",
   "source": [
    "scfres_scf = self_consistent_field(basis; tol);"
   ],
   "metadata": {},
   "execution_count": 2
  },
  {
   "cell_type": "markdown",
   "source": [
    "## Potential-based SCF"
   ],
   "metadata": {}
  },
  {
   "outputs": [
    {
     "name": "stdout",
     "output_type": "stream",
     "text": [
      "n     Energy            log10(ΔE)   log10(Δρ)   α      Diag   Δtime\n",
      "---   ---------------   ---------   ---------   ----   ----   ------\n",
      "  1   -7.846908136735                   -0.70           4.8         \n",
      "  2   -7.852526332064       -2.25       -1.64   0.80    2.0    201ms\n",
      "  3   -7.852635891437       -3.96       -2.73   0.80    1.0   15.9ms\n",
      "  4   -7.852646451741       -4.98       -3.23   0.80    2.2   20.8ms\n",
      "  5   -7.852646667051       -6.67       -4.04   0.80    1.0   15.8ms\n",
      "  6   -7.852646686340       -7.71       -4.71   0.80    1.8   19.3ms\n",
      "  7   -7.852646686723       -9.42       -5.40   0.80    1.8   18.8ms\n",
      "  8   -7.852646686729      -11.23       -6.87   0.80    1.5   17.6ms\n"
     ]
    }
   ],
   "cell_type": "code",
   "source": [
    "scfres_scfv = DFTK.scf_potential_mixing(basis; tol);"
   ],
   "metadata": {},
   "execution_count": 3
  },
  {
   "cell_type": "markdown",
   "source": [
    "## Direct minimization\n",
    "Note: Unlike the other algorithms, tolerance for this one is in the energy,\n",
    "thus we square the density tolerance value to be roughly equivalent."
   ],
   "metadata": {}
  },
  {
   "outputs": [
    {
     "name": "stdout",
     "output_type": "stream",
     "text": [
      "Iter     Function value   Gradient norm \n",
      "     0     1.369509e+01     3.529451e+00\n",
      " * time: 0.044946908950805664\n",
      "     1     9.288682e-01     1.822550e+00\n",
      " * time: 0.21744298934936523\n",
      "     2    -1.488919e+00     2.047684e+00\n",
      " * time: 0.23557686805725098\n",
      "     3    -3.726736e+00     1.482730e+00\n",
      " * time: 0.2614259719848633\n",
      "     4    -4.881989e+00     1.688693e+00\n",
      " * time: 0.33816099166870117\n",
      "     5    -6.526090e+00     1.016655e+00\n",
      " * time: 0.3641479015350342\n",
      "     6    -7.236181e+00     6.210393e-01\n",
      " * time: 0.3899669647216797\n",
      "     7    -7.585957e+00     3.349985e-01\n",
      " * time: 0.40774083137512207\n",
      "     8    -7.730784e+00     1.134542e-01\n",
      " * time: 0.4254019260406494\n",
      "     9    -7.787688e+00     1.650540e-01\n",
      " * time: 0.4431118965148926\n",
      "    10    -7.818084e+00     5.666852e-02\n",
      " * time: 0.4608299732208252\n",
      "    11    -7.836251e+00     7.119890e-02\n",
      " * time: 0.47864794731140137\n",
      "    12    -7.843966e+00     7.330045e-02\n",
      " * time: 0.4963228702545166\n",
      "    13    -7.845234e+00     6.054465e-02\n",
      " * time: 0.5140869617462158\n",
      "    14    -7.845954e+00     5.679123e-02\n",
      " * time: 0.5396230220794678\n",
      "    15    -7.846966e+00     2.829570e-02\n",
      " * time: 0.5573849678039551\n",
      "    16    -7.850152e+00     1.863153e-02\n",
      " * time: 0.5751290321350098\n",
      "    17    -7.852150e+00     1.585361e-02\n",
      " * time: 0.5930349826812744\n",
      "    18    -7.852414e+00     1.138250e-02\n",
      " * time: 0.6107749938964844\n",
      "    19    -7.852560e+00     5.006291e-03\n",
      " * time: 0.6285288333892822\n",
      "    20    -7.852622e+00     3.206629e-03\n",
      " * time: 0.6462249755859375\n",
      "    21    -7.852639e+00     1.548139e-03\n",
      " * time: 0.6639468669891357\n",
      "    22    -7.852645e+00     9.245241e-04\n",
      " * time: 0.6816768646240234\n",
      "    23    -7.852646e+00     5.181389e-04\n",
      " * time: 0.699444055557251\n",
      "    24    -7.852646e+00     2.432847e-04\n",
      " * time: 0.7171649932861328\n",
      "    25    -7.852647e+00     1.483956e-04\n",
      " * time: 0.7349040508270264\n",
      "    26    -7.852647e+00     1.006592e-04\n",
      " * time: 0.7526209354400635\n",
      "    27    -7.852647e+00     7.360748e-05\n",
      " * time: 0.7703859806060791\n",
      "    28    -7.852647e+00     3.690297e-05\n",
      " * time: 0.7882909774780273\n",
      "    29    -7.852647e+00     1.593127e-05\n",
      " * time: 0.8060269355773926\n",
      "    30    -7.852647e+00     9.170811e-06\n",
      " * time: 0.8237459659576416\n",
      "    31    -7.852647e+00     7.065947e-06\n",
      " * time: 0.8414478302001953\n",
      "    32    -7.852647e+00     2.651716e-06\n",
      " * time: 0.8591439723968506\n",
      "    33    -7.852647e+00     1.996391e-06\n",
      " * time: 0.8769450187683105\n",
      "    34    -7.852647e+00     1.478241e-06\n",
      " * time: 0.8947188854217529\n",
      "    35    -7.852647e+00     5.896097e-07\n",
      " * time: 0.9124789237976074\n",
      "    36    -7.852647e+00     3.850750e-07\n",
      " * time: 0.9302358627319336\n",
      "    37    -7.852647e+00     1.435003e-07\n",
      " * time: 0.9479930400848389\n",
      "    38    -7.852647e+00     1.046093e-07\n",
      " * time: 0.9657399654388428\n",
      "    39    -7.852647e+00     6.377254e-08\n",
      " * time: 0.9835050106048584\n",
      "    40    -7.852647e+00     2.856385e-08\n",
      " * time: 1.0013279914855957\n",
      "    41    -7.852647e+00     2.612202e-08\n",
      " * time: 1.0191190242767334\n",
      "    42    -7.852647e+00     1.087029e-08\n",
      " * time: 1.03688383102417\n",
      "    43    -7.852647e+00     6.143700e-09\n",
      " * time: 1.0546448230743408\n",
      "    44    -7.852647e+00     6.143383e-09\n",
      " * time: 1.1116559505462646\n"
     ]
    }
   ],
   "cell_type": "code",
   "source": [
    "scfres_dm = direct_minimization(basis; tol=tol^2);"
   ],
   "metadata": {},
   "execution_count": 4
  },
  {
   "cell_type": "markdown",
   "source": [
    "## Newton algorithm"
   ],
   "metadata": {}
  },
  {
   "cell_type": "markdown",
   "source": [
    "Start not too far from the solution to ensure convergence:\n",
    "We run first a very crude SCF to get close and then switch to Newton."
   ],
   "metadata": {}
  },
  {
   "outputs": [
    {
     "name": "stdout",
     "output_type": "stream",
     "text": [
      "n     Energy            log10(ΔE)   log10(Δρ)   Diag   Δtime\n",
      "---   ---------------   ---------   ---------   ----   ------\n",
      "  1   -7.846844736258                   -0.70    4.8         \n"
     ]
    }
   ],
   "cell_type": "code",
   "source": [
    "scfres_start = self_consistent_field(basis; tol=0.5);"
   ],
   "metadata": {},
   "execution_count": 5
  },
  {
   "cell_type": "markdown",
   "source": [
    "Remove the virtual orbitals (which Newton cannot treat yet)"
   ],
   "metadata": {}
  },
  {
   "outputs": [
    {
     "name": "stdout",
     "output_type": "stream",
     "text": [
      "n     Energy            log10(ΔE)   log10(Δρ)   Δtime\n",
      "---   ---------------   ---------   ---------   ------\n",
      "  1   -7.852645891766                   -1.64         \n",
      "  2   -7.852646686730       -6.10       -3.71    1.45s\n",
      "  3   -7.852646686730      -13.25       -7.23    141ms\n"
     ]
    }
   ],
   "cell_type": "code",
   "source": [
    "ψ = DFTK.select_occupied_orbitals(basis, scfres_start.ψ, scfres_start.occupation).ψ\n",
    "scfres_newton = newton(basis, ψ; tol);"
   ],
   "metadata": {},
   "execution_count": 6
  },
  {
   "cell_type": "markdown",
   "source": [
    "## Comparison of results"
   ],
   "metadata": {}
  },
  {
   "outputs": [
    {
     "name": "stdout",
     "output_type": "stream",
     "text": [
      "|ρ_newton - ρ_scf|  = 4.0501987771093666e-7\n",
      "|ρ_newton - ρ_scfv| = 5.656821295476821e-7\n",
      "|ρ_newton - ρ_dm|   = 1.0078171005778773e-9\n"
     ]
    }
   ],
   "cell_type": "code",
   "source": [
    "println(\"|ρ_newton - ρ_scf|  = \", norm(scfres_newton.ρ - scfres_scf.ρ))\n",
    "println(\"|ρ_newton - ρ_scfv| = \", norm(scfres_newton.ρ - scfres_scfv.ρ))\n",
    "println(\"|ρ_newton - ρ_dm|   = \", norm(scfres_newton.ρ - scfres_dm.ρ))"
   ],
   "metadata": {},
   "execution_count": 7
  }
 ],
 "nbformat_minor": 3,
 "metadata": {
  "language_info": {
   "file_extension": ".jl",
   "mimetype": "application/julia",
   "name": "julia",
   "version": "1.9.4"
  },
  "kernelspec": {
   "name": "julia-1.9",
   "display_name": "Julia 1.9.4",
   "language": "julia"
  }
 },
 "nbformat": 4
}
