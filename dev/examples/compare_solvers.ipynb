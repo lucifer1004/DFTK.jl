{
 "cells": [
  {
   "cell_type": "markdown",
   "source": [
    "# Comparison of DFT solvers"
   ],
   "metadata": {}
  },
  {
   "cell_type": "markdown",
   "source": [
    "We compare four different approaches for solving the DFT minimisation problem,\n",
    "namely a density-based SCF, a potential-based SCF, direct minimisation and Newton."
   ],
   "metadata": {}
  },
  {
   "cell_type": "markdown",
   "source": [
    "First we setup our problem"
   ],
   "metadata": {}
  },
  {
   "outputs": [
    {
     "output_type": "execute_result",
     "data": {
      "text/plain": "1.0e-6"
     },
     "metadata": {},
     "execution_count": 1
    }
   ],
   "cell_type": "code",
   "source": [
    "using DFTK\n",
    "using LinearAlgebra\n",
    "\n",
    "a = 10.26  # Silicon lattice constant in Bohr\n",
    "lattice = a / 2 * [[0 1 1.];\n",
    "                   [1 0 1.];\n",
    "                   [1 1 0.]]\n",
    "Si = ElementPsp(:Si, psp=load_psp(\"hgh/lda/Si-q4\"))\n",
    "atoms     = [Si, Si]\n",
    "positions = [ones(3)/8, -ones(3)/8]\n",
    "\n",
    "model = model_LDA(lattice, atoms, positions)\n",
    "basis = PlaneWaveBasis(model; Ecut=5, kgrid=[3, 3, 3])\n",
    "\n",
    "# Convergence we desire in the density\n",
    "tol = 1e-6"
   ],
   "metadata": {},
   "execution_count": 1
  },
  {
   "cell_type": "markdown",
   "source": [
    "## Density-based self-consistent field"
   ],
   "metadata": {}
  },
  {
   "outputs": [
    {
     "name": "stdout",
     "output_type": "stream",
     "text": [
      "n     Energy            log10(ΔE)   log10(Δρ)   Diag   Δtime\n",
      "---   ---------------   ---------   ---------   ----   ------\n",
      "  1   -7.846890086845                   -0.70    4.8         \n",
      "  2   -7.852323835819       -2.26       -1.53    1.0   25.0ms\n",
      "  3   -7.852614568775       -3.54       -2.56    1.2   25.5ms\n",
      "  4   -7.852646007980       -4.50       -2.90    2.8   34.2ms\n",
      "  5   -7.852646526505       -6.29       -3.21    1.0   24.4ms\n",
      "  6   -7.852646678906       -6.82       -3.99    1.0   24.6ms\n",
      "  7   -7.852646686181       -8.14       -5.17    1.2   26.7ms\n",
      "  8   -7.852646686726       -9.26       -5.57    2.8   34.6ms\n",
      "  9   -7.852646686730      -11.40       -6.57    1.2   26.6ms\n"
     ]
    }
   ],
   "cell_type": "code",
   "source": [
    "scfres_scf = self_consistent_field(basis; tol);"
   ],
   "metadata": {},
   "execution_count": 2
  },
  {
   "cell_type": "markdown",
   "source": [
    "## Potential-based SCF"
   ],
   "metadata": {}
  },
  {
   "outputs": [
    {
     "name": "stdout",
     "output_type": "stream",
     "text": [
      "n     Energy            log10(ΔE)   log10(Δρ)   α      Diag   Δtime\n",
      "---   ---------------   ---------   ---------   ----   ----   ------\n",
      "  1   -7.846918467134                   -0.70           4.5         \n",
      "  2   -7.852526948174       -2.25       -1.64   0.80    2.0    268ms\n",
      "  3   -7.852636693971       -3.96       -2.72   0.80    1.0   24.3ms\n",
      "  4   -7.852646416793       -5.01       -3.27   0.80    2.0   30.3ms\n",
      "  5   -7.852646678410       -6.58       -4.06   0.80    1.5   27.2ms\n",
      "  6   -7.852646686432       -8.10       -4.70   0.80    1.8   28.3ms\n",
      "  7   -7.852646686716       -9.55       -5.72   0.80    1.5   27.2ms\n",
      "  8   -7.852646686730      -10.87       -6.81   0.80    2.8   33.5ms\n"
     ]
    }
   ],
   "cell_type": "code",
   "source": [
    "scfres_scfv = DFTK.scf_potential_mixing(basis; tol);"
   ],
   "metadata": {},
   "execution_count": 3
  },
  {
   "cell_type": "markdown",
   "source": [
    "## Direct minimization\n",
    "Note: Unlike the other algorithms, tolerance for this one is in the energy,\n",
    "thus we square the density tolerance value to be roughly equivalent."
   ],
   "metadata": {}
  },
  {
   "outputs": [
    {
     "name": "stdout",
     "output_type": "stream",
     "text": [
      "Iter     Function value   Gradient norm \n",
      "     0     1.356008e+01     3.266151e+00\n",
      " * time: 0.0660090446472168\n",
      "     1     1.272009e+00     1.957520e+00\n",
      " * time: 0.2987558841705322\n",
      "     2    -1.447525e+00     2.260314e+00\n",
      " * time: 0.32352685928344727\n",
      "     3    -3.792538e+00     1.803430e+00\n",
      " * time: 0.3586289882659912\n",
      "     4    -5.260946e+00     1.625461e+00\n",
      " * time: 0.39374494552612305\n",
      "     5    -6.814942e+00     9.814497e-01\n",
      " * time: 0.42914485931396484\n",
      "     6    -6.996354e+00     1.163563e+00\n",
      " * time: 0.45377302169799805\n",
      "     7    -7.523362e+00     7.027120e-01\n",
      " * time: 0.4787428379058838\n",
      "     8    -7.612201e+00     6.877256e-01\n",
      " * time: 0.5036220550537109\n",
      "     9    -7.750380e+00     2.124198e-01\n",
      " * time: 0.5285630226135254\n",
      "    10    -7.789369e+00     1.133265e-01\n",
      " * time: 0.5533459186553955\n",
      "    11    -7.817178e+00     1.388878e-01\n",
      " * time: 0.5780429840087891\n",
      "    12    -7.835840e+00     8.337356e-02\n",
      " * time: 0.6023688316345215\n",
      "    13    -7.847210e+00     2.911606e-02\n",
      " * time: 0.6266460418701172\n",
      "    14    -7.850626e+00     2.395293e-02\n",
      " * time: 0.6508090496063232\n",
      "    15    -7.851950e+00     1.175087e-02\n",
      " * time: 0.674893856048584\n",
      "    16    -7.852399e+00     7.183525e-03\n",
      " * time: 0.6991539001464844\n",
      "    17    -7.852570e+00     5.214237e-03\n",
      " * time: 0.7238569259643555\n",
      "    18    -7.852622e+00     3.188848e-03\n",
      " * time: 0.7484939098358154\n",
      "    19    -7.852637e+00     1.545481e-03\n",
      " * time: 0.7727909088134766\n",
      "    20    -7.852642e+00     1.352016e-03\n",
      " * time: 0.7970738410949707\n",
      "    21    -7.852645e+00     5.535471e-04\n",
      " * time: 0.821354866027832\n",
      "    22    -7.852646e+00     3.936337e-04\n",
      " * time: 0.8456778526306152\n",
      "    23    -7.852646e+00     3.058775e-04\n",
      " * time: 0.8700089454650879\n",
      "    24    -7.852647e+00     1.757637e-04\n",
      " * time: 0.8942019939422607\n",
      "    25    -7.852647e+00     1.009790e-04\n",
      " * time: 1.0023739337921143\n",
      "    26    -7.852647e+00     4.053475e-05\n",
      " * time: 1.0271239280700684\n",
      "    27    -7.852647e+00     2.803568e-05\n",
      " * time: 1.0517048835754395\n",
      "    28    -7.852647e+00     1.674408e-05\n",
      " * time: 1.0762379169464111\n",
      "    29    -7.852647e+00     9.845387e-06\n",
      " * time: 1.1009459495544434\n",
      "    30    -7.852647e+00     5.116667e-06\n",
      " * time: 1.1253080368041992\n",
      "    31    -7.852647e+00     3.403648e-06\n",
      " * time: 1.14969801902771\n",
      "    32    -7.852647e+00     2.013177e-06\n",
      " * time: 1.17399001121521\n",
      "    33    -7.852647e+00     1.174943e-06\n",
      " * time: 1.1986429691314697\n",
      "    34    -7.852647e+00     7.253598e-07\n",
      " * time: 1.2233400344848633\n",
      "    35    -7.852647e+00     3.727450e-07\n",
      " * time: 1.2479820251464844\n",
      "    36    -7.852647e+00     2.194692e-07\n",
      " * time: 1.2726738452911377\n",
      "    37    -7.852647e+00     1.605439e-07\n",
      " * time: 1.2973599433898926\n",
      "    38    -7.852647e+00     1.007527e-07\n",
      " * time: 1.3220579624176025\n",
      "    39    -7.852647e+00     6.386284e-08\n",
      " * time: 1.346397876739502\n",
      "    40    -7.852647e+00     4.199137e-08\n",
      " * time: 1.3709158897399902\n",
      "    41    -7.852647e+00     2.508565e-08\n",
      " * time: 1.3951330184936523\n",
      "    42    -7.852647e+00     1.179164e-08\n",
      " * time: 1.4194738864898682\n",
      "    43    -7.852647e+00     7.506756e-09\n",
      " * time: 1.4436018466949463\n",
      "    44    -7.852647e+00     7.506753e-09\n",
      " * time: 1.5423760414123535\n"
     ]
    }
   ],
   "cell_type": "code",
   "source": [
    "scfres_dm = direct_minimization(basis; tol=tol^2);"
   ],
   "metadata": {},
   "execution_count": 4
  },
  {
   "cell_type": "markdown",
   "source": [
    "## Newton algorithm"
   ],
   "metadata": {}
  },
  {
   "cell_type": "markdown",
   "source": [
    "Start not too far from the solution to ensure convergence:\n",
    "We run first a very crude SCF to get close and then switch to Newton."
   ],
   "metadata": {}
  },
  {
   "outputs": [
    {
     "name": "stdout",
     "output_type": "stream",
     "text": [
      "n     Energy            log10(ΔE)   log10(Δρ)   Diag   Δtime\n",
      "---   ---------------   ---------   ---------   ----   ------\n",
      "  1   -7.846867102438                   -0.70    4.8         \n"
     ]
    }
   ],
   "cell_type": "code",
   "source": [
    "scfres_start = self_consistent_field(basis; tol=0.5);"
   ],
   "metadata": {},
   "execution_count": 5
  },
  {
   "cell_type": "markdown",
   "source": [
    "Remove the virtual orbitals (which Newton cannot treat yet)"
   ],
   "metadata": {}
  },
  {
   "outputs": [
    {
     "name": "stdout",
     "output_type": "stream",
     "text": [
      "n     Energy            log10(ΔE)   log10(Δρ)   Δtime\n",
      "---   ---------------   ---------   ---------   ------\n",
      "  1   -7.852645923181                   -1.64         \n",
      "  2   -7.852646686730       -6.12       -3.71    2.10s\n",
      "  3   -7.852646686730      -13.35       -7.26    156ms\n"
     ]
    }
   ],
   "cell_type": "code",
   "source": [
    "ψ = DFTK.select_occupied_orbitals(basis, scfres_start.ψ, scfres_start.occupation).ψ\n",
    "scfres_newton = newton(basis, ψ; tol);"
   ],
   "metadata": {},
   "execution_count": 6
  },
  {
   "cell_type": "markdown",
   "source": [
    "## Comparison of results"
   ],
   "metadata": {}
  },
  {
   "outputs": [
    {
     "name": "stdout",
     "output_type": "stream",
     "text": [
      "|ρ_newton - ρ_scf|  = 4.763049234080656e-7\n",
      "|ρ_newton - ρ_scfv| = 1.7775788586954235e-7\n",
      "|ρ_newton - ρ_dm|   = 1.5098492497461646e-9\n"
     ]
    }
   ],
   "cell_type": "code",
   "source": [
    "println(\"|ρ_newton - ρ_scf|  = \", norm(scfres_newton.ρ - scfres_scf.ρ))\n",
    "println(\"|ρ_newton - ρ_scfv| = \", norm(scfres_newton.ρ - scfres_scfv.ρ))\n",
    "println(\"|ρ_newton - ρ_dm|   = \", norm(scfres_newton.ρ - scfres_dm.ρ))"
   ],
   "metadata": {},
   "execution_count": 7
  }
 ],
 "nbformat_minor": 3,
 "metadata": {
  "language_info": {
   "file_extension": ".jl",
   "mimetype": "application/julia",
   "name": "julia",
   "version": "1.9.3"
  },
  "kernelspec": {
   "name": "julia-1.9",
   "display_name": "Julia 1.9.3",
   "language": "julia"
  }
 },
 "nbformat": 4
}
