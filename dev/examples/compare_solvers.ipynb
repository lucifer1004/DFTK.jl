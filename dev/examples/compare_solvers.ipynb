{
 "cells": [
  {
   "cell_type": "markdown",
   "source": [
    "# Comparison of DFT solvers"
   ],
   "metadata": {}
  },
  {
   "cell_type": "markdown",
   "source": [
    "We compare four different approaches for solving the DFT minimisation problem,\n",
    "namely a density-based SCF, a potential-based SCF, direct minimisation and Newton."
   ],
   "metadata": {}
  },
  {
   "cell_type": "markdown",
   "source": [
    "First we setup our problem"
   ],
   "metadata": {}
  },
  {
   "outputs": [
    {
     "output_type": "execute_result",
     "data": {
      "text/plain": "1.0e-6"
     },
     "metadata": {},
     "execution_count": 1
    }
   ],
   "cell_type": "code",
   "source": [
    "using DFTK\n",
    "using LinearAlgebra\n",
    "\n",
    "a = 10.26  # Silicon lattice constant in Bohr\n",
    "lattice = a / 2 * [[0 1 1.];\n",
    "                   [1 0 1.];\n",
    "                   [1 1 0.]]\n",
    "Si = ElementPsp(:Si; psp=load_psp(\"hgh/lda/Si-q4\"))\n",
    "atoms     = [Si, Si]\n",
    "positions = [ones(3)/8, -ones(3)/8]\n",
    "\n",
    "model = model_LDA(lattice, atoms, positions)\n",
    "basis = PlaneWaveBasis(model; Ecut=5, kgrid=[3, 3, 3])\n",
    "\n",
    "# Convergence we desire in the density\n",
    "tol = 1e-6"
   ],
   "metadata": {},
   "execution_count": 1
  },
  {
   "cell_type": "markdown",
   "source": [
    "## Density-based self-consistent field"
   ],
   "metadata": {}
  },
  {
   "outputs": [
    {
     "name": "stdout",
     "output_type": "stream",
     "text": [
      "n     Energy            log10(ΔE)   log10(Δρ)   Diag   Δtime\n",
      "---   ---------------   ---------   ---------   ----   ------\n",
      "  1   -7.846871265428                   -0.70    4.8         \n",
      "  2   -7.852325404565       -2.26       -1.53    1.0   18.4ms\n",
      "  3   -7.852615618138       -3.54       -2.56    1.5   19.6ms\n",
      "  4   -7.852646000023       -4.52       -2.89    2.8   26.5ms\n",
      "  5   -7.852646512727       -6.29       -3.20    1.0   18.7ms\n",
      "  6   -7.852646680061       -6.78       -4.10    1.0   17.8ms\n",
      "  7   -7.852646686647       -8.18       -5.27    2.0   22.2ms\n",
      "  8   -7.852646686726      -10.10       -5.57    1.8   21.2ms\n",
      "  9   -7.852646686728      -11.79       -5.66    1.5   19.5ms\n",
      " 10   -7.852646686730      -11.73       -6.81    1.0   18.1ms\n"
     ]
    }
   ],
   "cell_type": "code",
   "source": [
    "scfres_scf = self_consistent_field(basis; tol);"
   ],
   "metadata": {},
   "execution_count": 2
  },
  {
   "cell_type": "markdown",
   "source": [
    "## Potential-based SCF"
   ],
   "metadata": {}
  },
  {
   "outputs": [
    {
     "name": "stdout",
     "output_type": "stream",
     "text": [
      "n     Energy            log10(ΔE)   log10(Δρ)   α      Diag   Δtime\n",
      "---   ---------------   ---------   ---------   ----   ----   ------\n",
      "  1   -7.846883046273                   -0.70           4.8         \n",
      "  2   -7.852554095909       -2.25       -1.63   0.80    2.0    230ms\n",
      "  3   -7.852639827042       -4.07       -2.71   0.80    1.0   23.9ms\n",
      "  4   -7.852646445875       -5.18       -3.38   0.80    2.0   25.2ms\n",
      "  5   -7.852646683085       -6.62       -4.23   0.80    1.8   19.4ms\n",
      "  6   -7.852646686618       -8.45       -4.81   0.80    1.5   18.5ms\n",
      "  7   -7.852646686719       -9.99       -5.79   0.80    1.2   16.9ms\n",
      "  8   -7.852646686730      -10.98       -6.34   0.80    2.2   21.1ms\n"
     ]
    }
   ],
   "cell_type": "code",
   "source": [
    "scfres_scfv = DFTK.scf_potential_mixing(basis; tol);"
   ],
   "metadata": {},
   "execution_count": 3
  },
  {
   "cell_type": "markdown",
   "source": [
    "## Direct minimization\n",
    "Note: Unlike the other algorithms, tolerance for this one is in the energy,\n",
    "thus we square the density tolerance value to be roughly equivalent."
   ],
   "metadata": {}
  },
  {
   "outputs": [
    {
     "name": "stdout",
     "output_type": "stream",
     "text": [
      "Iter     Function value   Gradient norm \n",
      "     0     1.462226e+01     3.640882e+00\n",
      " * time: 0.04753398895263672\n",
      "     1     1.044508e+00     1.651805e+00\n",
      " * time: 0.22678899765014648\n",
      "     2    -1.648150e+00     2.072426e+00\n",
      " * time: 0.24460101127624512\n",
      "     3    -3.897467e+00     1.683857e+00\n",
      " * time: 0.2702138423919678\n",
      "     4    -5.197690e+00     1.501839e+00\n",
      " * time: 0.29592084884643555\n",
      "     5    -6.927071e+00     8.693853e-01\n",
      " * time: 0.32149386405944824\n",
      "     6    -7.012195e+00     1.152945e+00\n",
      " * time: 0.3392050266265869\n",
      "     7    -7.614714e+00     9.466935e-01\n",
      " * time: 0.3569619655609131\n",
      "     8    -7.679130e+00     1.548233e+00\n",
      " * time: 0.37477993965148926\n",
      "     9    -7.685399e+00     1.420199e+00\n",
      " * time: 0.3925440311431885\n",
      "    10    -7.715811e+00     9.548208e-01\n",
      " * time: 0.41834497451782227\n",
      "    11    -7.718399e+00     2.255766e+00\n",
      " * time: 0.4360690116882324\n",
      "    12    -7.736395e+00     1.660829e+00\n",
      " * time: 0.4538228511810303\n",
      "    13    -7.766771e+00     5.296769e-01\n",
      " * time: 0.48752403259277344\n",
      "    14    -7.790376e+00     6.567531e-01\n",
      " * time: 0.5132639408111572\n",
      "    15    -7.831854e+00     1.504701e-01\n",
      " * time: 0.5310928821563721\n",
      "    16    -7.845142e+00     4.103043e-02\n",
      " * time: 0.5488078594207764\n",
      "    17    -7.850759e+00     2.949050e-02\n",
      " * time: 0.5665669441223145\n",
      "    18    -7.851630e+00     2.404063e-02\n",
      " * time: 0.5843009948730469\n",
      "    19    -7.852268e+00     1.475966e-02\n",
      " * time: 0.6020209789276123\n",
      "    20    -7.852491e+00     5.147728e-03\n",
      " * time: 0.6199178695678711\n",
      "    21    -7.852584e+00     3.443432e-03\n",
      " * time: 0.6889448165893555\n",
      "    22    -7.852632e+00     1.711176e-03\n",
      " * time: 0.7074229717254639\n",
      "    23    -7.852642e+00     1.190289e-03\n",
      " * time: 0.7252368927001953\n",
      "    24    -7.852645e+00     8.015139e-04\n",
      " * time: 0.7428770065307617\n",
      "    25    -7.852646e+00     2.522260e-04\n",
      " * time: 0.7604739665985107\n",
      "    26    -7.852647e+00     2.430601e-04\n",
      " * time: 0.778080940246582\n",
      "    27    -7.852647e+00     9.823840e-05\n",
      " * time: 0.7957749366760254\n",
      "    28    -7.852647e+00     5.814095e-05\n",
      " * time: 0.8138778209686279\n",
      "    29    -7.852647e+00     4.720551e-05\n",
      " * time: 0.832230806350708\n",
      "    30    -7.852647e+00     2.277119e-05\n",
      " * time: 0.8503649234771729\n",
      "    31    -7.852647e+00     2.043756e-05\n",
      " * time: 0.8684039115905762\n",
      "    32    -7.852647e+00     7.346988e-06\n",
      " * time: 0.8865668773651123\n",
      "    33    -7.852647e+00     3.277741e-06\n",
      " * time: 0.9046399593353271\n",
      "    34    -7.852647e+00     2.674766e-06\n",
      " * time: 0.9289028644561768\n",
      "    35    -7.852647e+00     1.413107e-06\n",
      " * time: 0.9479029178619385\n",
      "    36    -7.852647e+00     5.995312e-07\n",
      " * time: 0.9667999744415283\n",
      "    37    -7.852647e+00     4.916145e-07\n",
      " * time: 0.9863309860229492\n",
      "    38    -7.852647e+00     1.908328e-07\n",
      " * time: 1.0058889389038086\n",
      "    39    -7.852647e+00     1.201778e-07\n",
      " * time: 1.024657964706421\n",
      "    40    -7.852647e+00     1.057744e-07\n",
      " * time: 1.0432698726654053\n",
      "    41    -7.852647e+00     3.715826e-08\n",
      " * time: 1.0617878437042236\n",
      "    42    -7.852647e+00     4.356791e-08\n",
      " * time: 1.080590009689331\n",
      "    43    -7.852647e+00     1.707709e-08\n",
      " * time: 1.0993130207061768\n",
      "    44    -7.852647e+00     1.707694e-08\n",
      " * time: 1.167686939239502\n"
     ]
    }
   ],
   "cell_type": "code",
   "source": [
    "scfres_dm = direct_minimization(basis; tol=tol^2);"
   ],
   "metadata": {},
   "execution_count": 4
  },
  {
   "cell_type": "markdown",
   "source": [
    "## Newton algorithm"
   ],
   "metadata": {}
  },
  {
   "cell_type": "markdown",
   "source": [
    "Start not too far from the solution to ensure convergence:\n",
    "We run first a very crude SCF to get close and then switch to Newton."
   ],
   "metadata": {}
  },
  {
   "outputs": [
    {
     "name": "stdout",
     "output_type": "stream",
     "text": [
      "n     Energy            log10(ΔE)   log10(Δρ)   Diag   Δtime\n",
      "---   ---------------   ---------   ---------   ----   ------\n",
      "  1   -7.846897029988                   -0.70    4.5         \n"
     ]
    }
   ],
   "cell_type": "code",
   "source": [
    "scfres_start = self_consistent_field(basis; tol=0.5);"
   ],
   "metadata": {},
   "execution_count": 5
  },
  {
   "cell_type": "markdown",
   "source": [
    "Remove the virtual orbitals (which Newton cannot treat yet)"
   ],
   "metadata": {}
  },
  {
   "outputs": [
    {
     "name": "stdout",
     "output_type": "stream",
     "text": [
      "n     Energy            log10(ΔE)   log10(Δρ)   Δtime\n",
      "---   ---------------   ---------   ---------   ------\n",
      "  1   -7.852645927950                   -1.64         \n",
      "  2   -7.852646686730       -6.12       -3.71    1.51s\n",
      "  3   -7.852646686730      -13.35       -7.26    119ms\n"
     ]
    }
   ],
   "cell_type": "code",
   "source": [
    "ψ = DFTK.select_occupied_orbitals(basis, scfres_start.ψ, scfres_start.occupation).ψ\n",
    "scfres_newton = newton(basis, ψ; tol);"
   ],
   "metadata": {},
   "execution_count": 6
  },
  {
   "cell_type": "markdown",
   "source": [
    "## Comparison of results"
   ],
   "metadata": {}
  },
  {
   "outputs": [
    {
     "name": "stdout",
     "output_type": "stream",
     "text": [
      "|ρ_newton - ρ_scf|  = 2.2797363088481584e-7\n",
      "|ρ_newton - ρ_scfv| = 1.9132727604232573e-7\n",
      "|ρ_newton - ρ_dm|   = 2.236311926614616e-9\n"
     ]
    }
   ],
   "cell_type": "code",
   "source": [
    "println(\"|ρ_newton - ρ_scf|  = \", norm(scfres_newton.ρ - scfres_scf.ρ))\n",
    "println(\"|ρ_newton - ρ_scfv| = \", norm(scfres_newton.ρ - scfres_scfv.ρ))\n",
    "println(\"|ρ_newton - ρ_dm|   = \", norm(scfres_newton.ρ - scfres_dm.ρ))"
   ],
   "metadata": {},
   "execution_count": 7
  }
 ],
 "nbformat_minor": 3,
 "metadata": {
  "language_info": {
   "file_extension": ".jl",
   "mimetype": "application/julia",
   "name": "julia",
   "version": "1.9.4"
  },
  "kernelspec": {
   "name": "julia-1.9",
   "display_name": "Julia 1.9.4",
   "language": "julia"
  }
 },
 "nbformat": 4
}
