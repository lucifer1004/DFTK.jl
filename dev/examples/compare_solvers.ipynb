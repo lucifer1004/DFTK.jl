{
 "cells": [
  {
   "cell_type": "markdown",
   "source": [
    "# Comparison of DFT solvers"
   ],
   "metadata": {}
  },
  {
   "cell_type": "markdown",
   "source": [
    "We compare four different approaches for solving the DFT minimisation problem,\n",
    "namely a density-based SCF, a potential-based SCF, direct minimisation and Newton."
   ],
   "metadata": {}
  },
  {
   "cell_type": "markdown",
   "source": [
    "First we setup our problem"
   ],
   "metadata": {}
  },
  {
   "outputs": [
    {
     "output_type": "execute_result",
     "data": {
      "text/plain": "1.0e-6"
     },
     "metadata": {},
     "execution_count": 1
    }
   ],
   "cell_type": "code",
   "source": [
    "using DFTK\n",
    "using LinearAlgebra\n",
    "\n",
    "a = 10.26  # Silicon lattice constant in Bohr\n",
    "lattice = a / 2 * [[0 1 1.];\n",
    "                   [1 0 1.];\n",
    "                   [1 1 0.]]\n",
    "Si = ElementPsp(:Si; psp=load_psp(\"hgh/lda/Si-q4\"))\n",
    "atoms     = [Si, Si]\n",
    "positions = [ones(3)/8, -ones(3)/8]\n",
    "\n",
    "model = model_LDA(lattice, atoms, positions)\n",
    "basis = PlaneWaveBasis(model; Ecut=5, kgrid=[3, 3, 3])\n",
    "\n",
    "# Convergence we desire in the density\n",
    "tol = 1e-6"
   ],
   "metadata": {},
   "execution_count": 1
  },
  {
   "cell_type": "markdown",
   "source": [
    "## Density-based self-consistent field"
   ],
   "metadata": {}
  },
  {
   "outputs": [
    {
     "name": "stdout",
     "output_type": "stream",
     "text": [
      "n     Energy            log10(ΔE)   log10(Δρ)   Diag   Δtime\n",
      "---   ---------------   ---------   ---------   ----   ------\n",
      "  1   -7.846847366850                   -0.70    4.5         \n",
      "  2   -7.852317325247       -2.26       -1.53    1.0   16.8ms\n",
      "  3   -7.852614631083       -3.53       -2.56    1.5   18.4ms\n",
      "  4   -7.852645997334       -4.50       -2.90    2.8   23.3ms\n",
      "  5   -7.852646522465       -6.28       -3.21    1.0   16.9ms\n",
      "  6   -7.852646679645       -6.80       -4.04    1.0   17.0ms\n",
      "  7   -7.852646686375       -8.17       -5.24    1.5   19.5ms\n",
      "  8   -7.852646686725       -9.46       -5.57    2.5   22.5ms\n",
      "  9   -7.852646686730      -11.39       -6.13    1.5   19.2ms\n"
     ]
    }
   ],
   "cell_type": "code",
   "source": [
    "scfres_scf = self_consistent_field(basis; tol);"
   ],
   "metadata": {},
   "execution_count": 2
  },
  {
   "cell_type": "markdown",
   "source": [
    "## Potential-based SCF"
   ],
   "metadata": {}
  },
  {
   "outputs": [
    {
     "name": "stdout",
     "output_type": "stream",
     "text": [
      "n     Energy            log10(ΔE)   log10(Δρ)   α      Diag   Δtime\n",
      "---   ---------------   ---------   ---------   ----   ----   ------\n",
      "  1   -7.846863236528                   -0.70           4.5         \n",
      "  2   -7.852551026559       -2.25       -1.63   0.80    2.0    213ms\n",
      "  3   -7.852638161915       -4.06       -2.74   0.80    1.0   16.0ms\n",
      "  4   -7.852646537797       -5.08       -3.31   0.80    2.0   19.7ms\n",
      "  5   -7.852646672114       -6.87       -4.21   0.80    1.0   15.8ms\n",
      "  6   -7.852646686477       -7.84       -4.73   0.80    1.8   19.4ms\n",
      "  7   -7.852646686714       -9.63       -5.54   0.80    1.8   18.1ms\n",
      "  8   -7.852646686730      -10.80       -6.76   0.80    2.0   20.0ms\n"
     ]
    }
   ],
   "cell_type": "code",
   "source": [
    "scfres_scfv = DFTK.scf_potential_mixing(basis; tol);"
   ],
   "metadata": {},
   "execution_count": 3
  },
  {
   "cell_type": "markdown",
   "source": [
    "## Direct minimization\n",
    "Note: Unlike the other algorithms, tolerance for this one is in the energy,\n",
    "thus we square the density tolerance value to be roughly equivalent."
   ],
   "metadata": {}
  },
  {
   "outputs": [
    {
     "name": "stdout",
     "output_type": "stream",
     "text": [
      "Iter     Function value   Gradient norm \n",
      "     0     1.376353e+01     3.284065e+00\n",
      " * time: 0.04589986801147461\n",
      "     1     1.637836e+00     1.747248e+00\n",
      " * time: 0.22224092483520508\n",
      "     2    -1.499738e+00     2.074339e+00\n",
      " * time: 0.24021482467651367\n",
      "     3    -3.945209e+00     1.792429e+00\n",
      " * time: 0.26591992378234863\n",
      "     4    -5.333824e+00     1.552890e+00\n",
      " * time: 0.2916560173034668\n",
      "     5    -6.997194e+00     1.101702e+00\n",
      " * time: 0.3182358741760254\n",
      "     6    -7.165407e+00     1.330151e+00\n",
      " * time: 0.3363230228424072\n",
      "     7    -7.649890e+00     1.147139e+00\n",
      " * time: 0.35437488555908203\n",
      "     8    -7.701094e+00     1.626469e+00\n",
      " * time: 0.3722670078277588\n",
      "     9    -7.730534e+00     1.420209e+00\n",
      " * time: 0.3901050090789795\n",
      "    10    -7.771774e+00     9.308762e-01\n",
      " * time: 0.41590285301208496\n",
      "    11    -7.802002e+00     5.451271e-01\n",
      " * time: 0.441756010055542\n",
      "    12    -7.830137e+00     2.492478e-01\n",
      " * time: 0.4596400260925293\n",
      "    13    -7.838693e+00     4.475729e-02\n",
      " * time: 0.4775419235229492\n",
      "    14    -7.844408e+00     4.638957e-02\n",
      " * time: 0.49603891372680664\n",
      "    15    -7.847629e+00     9.570358e-02\n",
      " * time: 0.5143249034881592\n",
      "    16    -7.847636e+00     9.299944e-02\n",
      " * time: 0.5483930110931396\n",
      "    17    -7.847857e+00     7.161137e-02\n",
      " * time: 0.5822780132293701\n",
      "    18    -7.848341e+00     3.175442e-02\n",
      " * time: 0.6081058979034424\n",
      "    19    -7.849745e+00     3.135341e-02\n",
      " * time: 0.6259119510650635\n",
      "    20    -7.851463e+00     3.839757e-02\n",
      " * time: 0.6437230110168457\n",
      "    21    -7.852452e+00     2.049703e-02\n",
      " * time: 0.6614868640899658\n",
      "    22    -7.852569e+00     8.646308e-03\n",
      " * time: 0.6801679134368896\n",
      "    23    -7.852617e+00     4.695940e-03\n",
      " * time: 0.6983668804168701\n",
      "    24    -7.852639e+00     3.530573e-03\n",
      " * time: 0.7579350471496582\n",
      "    25    -7.852644e+00     2.094458e-03\n",
      " * time: 0.7758669853210449\n",
      "    26    -7.852646e+00     7.669185e-04\n",
      " * time: 0.7936069965362549\n",
      "    27    -7.852646e+00     5.732387e-04\n",
      " * time: 0.8113009929656982\n",
      "    28    -7.852647e+00     2.402537e-04\n",
      " * time: 0.8289940357208252\n",
      "    29    -7.852647e+00     2.147612e-04\n",
      " * time: 0.8467159271240234\n",
      "    30    -7.852647e+00     1.361857e-04\n",
      " * time: 0.8652329444885254\n",
      "    31    -7.852647e+00     4.118079e-05\n",
      " * time: 0.8832659721374512\n",
      "    32    -7.852647e+00     4.403930e-05\n",
      " * time: 0.9012229442596436\n",
      "    33    -7.852647e+00     1.324106e-05\n",
      " * time: 0.9191110134124756\n",
      "    34    -7.852647e+00     8.264536e-06\n",
      " * time: 0.9370100498199463\n",
      "    35    -7.852647e+00     6.857790e-06\n",
      " * time: 0.9547510147094727\n",
      "    36    -7.852647e+00     2.741960e-06\n",
      " * time: 0.9724538326263428\n",
      "    37    -7.852647e+00     2.435142e-06\n",
      " * time: 0.9901089668273926\n",
      "    38    -7.852647e+00     1.589133e-06\n",
      " * time: 1.0079870223999023\n",
      "    39    -7.852647e+00     6.468798e-07\n",
      " * time: 1.0257668495178223\n",
      "    40    -7.852647e+00     5.215822e-07\n",
      " * time: 1.044325828552246\n",
      "    41    -7.852647e+00     4.286061e-07\n",
      " * time: 1.0623219013214111\n",
      "    42    -7.852647e+00     1.774046e-07\n",
      " * time: 1.0801239013671875\n",
      "    43    -7.852647e+00     1.163837e-07\n",
      " * time: 1.0978989601135254\n",
      "    44    -7.852647e+00     7.169982e-08\n",
      " * time: 1.1156549453735352\n",
      "    45    -7.852647e+00     3.062420e-08\n",
      " * time: 1.1333889961242676\n",
      "    46    -7.852647e+00     2.206945e-08\n",
      " * time: 1.1510798931121826\n",
      "    47    -7.852647e+00     1.245680e-08\n",
      " * time: 1.1687920093536377\n"
     ]
    }
   ],
   "cell_type": "code",
   "source": [
    "scfres_dm = direct_minimization(basis; tol=tol^2);"
   ],
   "metadata": {},
   "execution_count": 4
  },
  {
   "cell_type": "markdown",
   "source": [
    "## Newton algorithm"
   ],
   "metadata": {}
  },
  {
   "cell_type": "markdown",
   "source": [
    "Start not too far from the solution to ensure convergence:\n",
    "We run first a very crude SCF to get close and then switch to Newton."
   ],
   "metadata": {}
  },
  {
   "outputs": [
    {
     "name": "stdout",
     "output_type": "stream",
     "text": [
      "n     Energy            log10(ΔE)   log10(Δρ)   Diag   Δtime\n",
      "---   ---------------   ---------   ---------   ----   ------\n",
      "  1   -7.846905940231                   -0.70    4.5         \n"
     ]
    }
   ],
   "cell_type": "code",
   "source": [
    "scfres_start = self_consistent_field(basis; tol=0.5);"
   ],
   "metadata": {},
   "execution_count": 5
  },
  {
   "cell_type": "markdown",
   "source": [
    "Remove the virtual orbitals (which Newton cannot treat yet)"
   ],
   "metadata": {}
  },
  {
   "outputs": [
    {
     "name": "stdout",
     "output_type": "stream",
     "text": [
      "n     Energy            log10(ΔE)   log10(Δρ)   Δtime\n",
      "---   ---------------   ---------   ---------   ------\n",
      "  1   -7.852645918879                   -1.64         \n",
      "  2   -7.852646686730       -6.11       -3.71    1.54s\n",
      "  3   -7.852646686730      -13.32       -7.25    119ms\n"
     ]
    }
   ],
   "cell_type": "code",
   "source": [
    "ψ = DFTK.select_occupied_orbitals(basis, scfres_start.ψ, scfres_start.occupation).ψ\n",
    "scfres_newton = newton(basis, ψ; tol);"
   ],
   "metadata": {},
   "execution_count": 6
  },
  {
   "cell_type": "markdown",
   "source": [
    "## Comparison of results"
   ],
   "metadata": {}
  },
  {
   "outputs": [
    {
     "name": "stdout",
     "output_type": "stream",
     "text": [
      "|ρ_newton - ρ_scf|  = 5.386834283588283e-7\n",
      "|ρ_newton - ρ_scfv| = 3.1770256381208704e-7\n",
      "|ρ_newton - ρ_dm|   = 1.087710936559735e-9\n"
     ]
    }
   ],
   "cell_type": "code",
   "source": [
    "println(\"|ρ_newton - ρ_scf|  = \", norm(scfres_newton.ρ - scfres_scf.ρ))\n",
    "println(\"|ρ_newton - ρ_scfv| = \", norm(scfres_newton.ρ - scfres_scfv.ρ))\n",
    "println(\"|ρ_newton - ρ_dm|   = \", norm(scfres_newton.ρ - scfres_dm.ρ))"
   ],
   "metadata": {},
   "execution_count": 7
  }
 ],
 "nbformat_minor": 3,
 "metadata": {
  "language_info": {
   "file_extension": ".jl",
   "mimetype": "application/julia",
   "name": "julia",
   "version": "1.9.4"
  },
  "kernelspec": {
   "name": "julia-1.9",
   "display_name": "Julia 1.9.4",
   "language": "julia"
  }
 },
 "nbformat": 4
}
