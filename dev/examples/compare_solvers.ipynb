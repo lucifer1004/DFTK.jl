{
 "cells": [
  {
   "cell_type": "markdown",
   "source": [
    "# Comparison of DFT solvers"
   ],
   "metadata": {}
  },
  {
   "cell_type": "markdown",
   "source": [
    "We compare four different approaches for solving the DFT minimisation problem,\n",
    "namely a density-based SCF, a potential-based SCF, direct minimisation and Newton."
   ],
   "metadata": {}
  },
  {
   "cell_type": "markdown",
   "source": [
    "First we setup our problem"
   ],
   "metadata": {}
  },
  {
   "outputs": [
    {
     "output_type": "execute_result",
     "data": {
      "text/plain": "1.0e-6"
     },
     "metadata": {},
     "execution_count": 1
    }
   ],
   "cell_type": "code",
   "source": [
    "using DFTK\n",
    "using LinearAlgebra\n",
    "\n",
    "a = 10.26  # Silicon lattice constant in Bohr\n",
    "lattice = a / 2 * [[0 1 1.];\n",
    "                   [1 0 1.];\n",
    "                   [1 1 0.]]\n",
    "Si = ElementPsp(:Si, psp=load_psp(\"hgh/lda/Si-q4\"))\n",
    "atoms     = [Si, Si]\n",
    "positions = [ones(3)/8, -ones(3)/8]\n",
    "\n",
    "model = model_LDA(lattice, atoms, positions)\n",
    "basis = PlaneWaveBasis(model; Ecut=5, kgrid=[3, 3, 3])\n",
    "\n",
    "# Convergence we desire in the density\n",
    "tol = 1e-6"
   ],
   "metadata": {},
   "execution_count": 1
  },
  {
   "cell_type": "markdown",
   "source": [
    "## Density-based self-consistent field"
   ],
   "metadata": {}
  },
  {
   "outputs": [
    {
     "name": "stdout",
     "output_type": "stream",
     "text": [
      "n     Energy            log10(ΔE)   log10(Δρ)   Diag   Δtime\n",
      "---   ---------------   ---------   ---------   ----   ------\n",
      "  1   -7.846554684819                   -0.70    4.2         \n",
      "  2   -7.852283057969       -2.24       -1.53    1.0   23.1ms\n",
      "  3   -7.852612652512       -3.48       -2.56    1.5   25.7ms\n",
      "  4   -7.852645950629       -4.48       -2.90    2.5   30.5ms\n",
      "  5   -7.852646522670       -6.24       -3.21    1.2   24.0ms\n",
      "  6   -7.852646679896       -6.80       -4.36    1.0   70.3ms\n",
      "  7   -7.852646686689       -8.17       -4.98    2.5   32.4ms\n",
      "  8   -7.852646686726      -10.44       -5.50    1.2   24.4ms\n",
      "  9   -7.852646686729      -11.49       -5.74    1.2   25.0ms\n",
      " 10   -7.852646686730      -12.06       -6.79    1.0   23.3ms\n"
     ]
    }
   ],
   "cell_type": "code",
   "source": [
    "scfres_scf = self_consistent_field(basis; tol);"
   ],
   "metadata": {},
   "execution_count": 2
  },
  {
   "cell_type": "markdown",
   "source": [
    "## Potential-based SCF"
   ],
   "metadata": {}
  },
  {
   "outputs": [
    {
     "name": "stdout",
     "output_type": "stream",
     "text": [
      "n     Energy            log10(ΔE)   log10(Δρ)   α      Diag   Δtime\n",
      "---   ---------------   ---------   ---------   ----   ----   ------\n",
      "  1   -7.846897007893                   -0.70           4.5         \n",
      "  2   -7.852523480303       -2.25       -1.64   0.80    2.0    262ms\n",
      "  3   -7.852634954972       -3.95       -2.73   0.80    1.0   22.3ms\n",
      "  4   -7.852646440451       -4.94       -3.23   0.80    2.2   29.1ms\n",
      "  5   -7.852646666285       -6.65       -4.03   0.80    1.0   21.6ms\n",
      "  6   -7.852646686333       -7.70       -4.71   0.80    1.8   25.7ms\n",
      "  7   -7.852646686712       -9.42       -5.39   0.80    1.5   24.8ms\n",
      "  8   -7.852646686729      -10.77       -6.40   0.80    1.2   23.7ms\n"
     ]
    }
   ],
   "cell_type": "code",
   "source": [
    "scfres_scfv = DFTK.scf_potential_mixing(basis; tol);"
   ],
   "metadata": {},
   "execution_count": 3
  },
  {
   "cell_type": "markdown",
   "source": [
    "## Direct minimization\n",
    "Note: Unlike the other algorithms, tolerance for this one is in the energy,\n",
    "thus we square the density tolerance value to be roughly equivalent."
   ],
   "metadata": {}
  },
  {
   "outputs": [
    {
     "name": "stdout",
     "output_type": "stream",
     "text": [
      "Iter     Function value   Gradient norm \n",
      "     0     1.404689e+01     3.507982e+00\n",
      " * time: 0.061927080154418945\n",
      "     1     1.392624e+00     1.758909e+00\n",
      " * time: 0.29290318489074707\n",
      "     2    -1.390451e+00     1.987786e+00\n",
      " * time: 0.31646203994750977\n",
      "     3    -3.555758e+00     1.879709e+00\n",
      " * time: 0.41481804847717285\n",
      "     4    -4.900150e+00     1.623786e+00\n",
      " * time: 0.4485201835632324\n",
      "     5    -6.589335e+00     9.835665e-01\n",
      " * time: 0.4825620651245117\n",
      "     6    -7.252570e+00     4.661039e-01\n",
      " * time: 0.5157961845397949\n",
      "     7    -7.590098e+00     2.519361e-01\n",
      " * time: 0.5396950244903564\n",
      "     8    -7.739936e+00     1.302259e-01\n",
      " * time: 0.5629651546478271\n",
      "     9    -7.797157e+00     1.076335e-01\n",
      " * time: 0.586251974105835\n",
      "    10    -7.827288e+00     4.359180e-02\n",
      " * time: 0.6095561981201172\n",
      "    11    -7.840700e+00     3.890115e-02\n",
      " * time: 0.6330270767211914\n",
      "    12    -7.844538e+00     4.153870e-02\n",
      " * time: 0.6560690402984619\n",
      "    13    -7.845305e+00     4.634945e-02\n",
      " * time: 0.6891679763793945\n",
      "    14    -7.845575e+00     4.695016e-02\n",
      " * time: 0.7326550483703613\n",
      "    15    -7.845628e+00     4.502075e-02\n",
      " * time: 0.7856590747833252\n",
      "    16    -7.845698e+00     4.613376e-02\n",
      " * time: 0.8389711380004883\n",
      "    17    -7.845830e+00     4.687175e-02\n",
      " * time: 0.8922150135040283\n",
      "    18    -7.846159e+00     4.398358e-02\n",
      " * time: 0.9359869956970215\n",
      "    19    -7.846666e+00     3.162623e-02\n",
      " * time: 0.9693729877471924\n",
      "    20    -7.848106e+00     2.797472e-02\n",
      " * time: 0.9930970668792725\n",
      "    21    -7.850311e+00     2.034559e-02\n",
      " * time: 1.016793966293335\n",
      "    22    -7.852177e+00     9.889952e-03\n",
      " * time: 1.039980173110962\n",
      "    23    -7.852470e+00     1.153235e-02\n",
      " * time: 1.0629961490631104\n",
      "    24    -7.852580e+00     3.653259e-03\n",
      " * time: 1.0861921310424805\n",
      "    25    -7.852626e+00     2.814112e-03\n",
      " * time: 1.1094419956207275\n",
      "    26    -7.852640e+00     1.769340e-03\n",
      " * time: 1.1323800086975098\n",
      "    27    -7.852644e+00     1.361805e-03\n",
      " * time: 1.1555471420288086\n",
      "    28    -7.852646e+00     4.711805e-04\n",
      " * time: 1.1788291931152344\n",
      "    29    -7.852646e+00     3.652918e-04\n",
      " * time: 1.202308177947998\n",
      "    30    -7.852647e+00     2.948557e-04\n",
      " * time: 1.225783109664917\n",
      "    31    -7.852647e+00     1.714041e-04\n",
      " * time: 1.249277114868164\n",
      "    32    -7.852647e+00     7.273044e-05\n",
      " * time: 1.2729310989379883\n",
      "    33    -7.852647e+00     4.735843e-05\n",
      " * time: 1.2965021133422852\n",
      "    34    -7.852647e+00     3.346064e-05\n",
      " * time: 1.3197510242462158\n",
      "    35    -7.852647e+00     1.791560e-05\n",
      " * time: 1.3428690433502197\n",
      "    36    -7.852647e+00     9.098342e-06\n",
      " * time: 1.366072177886963\n",
      "    37    -7.852647e+00     7.730887e-06\n",
      " * time: 1.3893680572509766\n",
      "    38    -7.852647e+00     3.288183e-06\n",
      " * time: 1.4125261306762695\n",
      "    39    -7.852647e+00     1.780685e-06\n",
      " * time: 1.435486078262329\n",
      "    40    -7.852647e+00     1.536276e-06\n",
      " * time: 1.4586591720581055\n",
      "    41    -7.852647e+00     5.042036e-07\n",
      " * time: 1.5254981517791748\n",
      "    42    -7.852647e+00     3.210527e-07\n",
      " * time: 1.5490570068359375\n",
      "    43    -7.852647e+00     2.577848e-07\n",
      " * time: 1.5725820064544678\n",
      "    44    -7.852647e+00     1.144452e-07\n",
      " * time: 1.5968031883239746\n",
      "    45    -7.852647e+00     7.431633e-08\n",
      " * time: 1.6199390888214111\n",
      "    46    -7.852647e+00     3.936799e-08\n",
      " * time: 1.6433451175689697\n",
      "    47    -7.852647e+00     2.315989e-08\n",
      " * time: 1.666236162185669\n",
      "    48    -7.852647e+00     1.965701e-08\n",
      " * time: 1.689532995223999\n",
      "    49    -7.852647e+00     7.954663e-09\n",
      " * time: 1.712918996810913\n",
      "    50    -7.852647e+00     6.400186e-09\n",
      " * time: 1.73598313331604\n"
     ]
    }
   ],
   "cell_type": "code",
   "source": [
    "scfres_dm = direct_minimization(basis; tol=tol^2);"
   ],
   "metadata": {},
   "execution_count": 4
  },
  {
   "cell_type": "markdown",
   "source": [
    "## Newton algorithm"
   ],
   "metadata": {}
  },
  {
   "cell_type": "markdown",
   "source": [
    "Start not too far from the solution to ensure convergence:\n",
    "We run first a very crude SCF to get close and then switch to Newton."
   ],
   "metadata": {}
  },
  {
   "outputs": [
    {
     "name": "stdout",
     "output_type": "stream",
     "text": [
      "n     Energy            log10(ΔE)   log10(Δρ)   Diag   Δtime\n",
      "---   ---------------   ---------   ---------   ----   ------\n",
      "  1   -7.846806972012                   -0.70    4.5         \n"
     ]
    }
   ],
   "cell_type": "code",
   "source": [
    "scfres_start = self_consistent_field(basis; tol=0.5);"
   ],
   "metadata": {},
   "execution_count": 5
  },
  {
   "cell_type": "markdown",
   "source": [
    "Remove the virtual orbitals (which Newton cannot treat yet)"
   ],
   "metadata": {}
  },
  {
   "outputs": [
    {
     "name": "stdout",
     "output_type": "stream",
     "text": [
      "n     Energy            log10(ΔE)   log10(Δρ)   Δtime\n",
      "---   ---------------   ---------   ---------   ------\n",
      "  1   -7.852645892305                   -1.64         \n",
      "  2   -7.852646686730       -6.10       -3.71    1.94s\n",
      "  3   -7.852646686730      -13.27       -7.23    189ms\n"
     ]
    }
   ],
   "cell_type": "code",
   "source": [
    "ψ = DFTK.select_occupied_orbitals(basis, scfres_start.ψ, scfres_start.occupation).ψ\n",
    "scfres_newton = newton(basis, ψ; tol);"
   ],
   "metadata": {},
   "execution_count": 6
  },
  {
   "cell_type": "markdown",
   "source": [
    "## Comparison of results"
   ],
   "metadata": {}
  },
  {
   "outputs": [
    {
     "name": "stdout",
     "output_type": "stream",
     "text": [
      "|ρ_newton - ρ_scf|  = 2.5686321297433786e-7\n",
      "|ρ_newton - ρ_scfv| = 6.09608828673496e-7\n",
      "|ρ_newton - ρ_dm|   = 6.333462738272936e-10\n"
     ]
    }
   ],
   "cell_type": "code",
   "source": [
    "println(\"|ρ_newton - ρ_scf|  = \", norm(scfres_newton.ρ - scfres_scf.ρ))\n",
    "println(\"|ρ_newton - ρ_scfv| = \", norm(scfres_newton.ρ - scfres_scfv.ρ))\n",
    "println(\"|ρ_newton - ρ_dm|   = \", norm(scfres_newton.ρ - scfres_dm.ρ))"
   ],
   "metadata": {},
   "execution_count": 7
  }
 ],
 "nbformat_minor": 3,
 "metadata": {
  "language_info": {
   "file_extension": ".jl",
   "mimetype": "application/julia",
   "name": "julia",
   "version": "1.9.3"
  },
  "kernelspec": {
   "name": "julia-1.9",
   "display_name": "Julia 1.9.3",
   "language": "julia"
  }
 },
 "nbformat": 4
}
