{
 "cells": [
  {
   "cell_type": "markdown",
   "source": [
    "# Comparison of DFT solvers"
   ],
   "metadata": {}
  },
  {
   "cell_type": "markdown",
   "source": [
    "We compare four different approaches for solving the DFT minimisation problem,\n",
    "namely a density-based SCF, a potential-based SCF, direct minimisation and Newton."
   ],
   "metadata": {}
  },
  {
   "cell_type": "markdown",
   "source": [
    "First we setup our problem"
   ],
   "metadata": {}
  },
  {
   "outputs": [
    {
     "output_type": "execute_result",
     "data": {
      "text/plain": "1.0e-6"
     },
     "metadata": {},
     "execution_count": 1
    }
   ],
   "cell_type": "code",
   "source": [
    "using DFTK\n",
    "using LinearAlgebra\n",
    "\n",
    "a = 10.26  # Silicon lattice constant in Bohr\n",
    "lattice = a / 2 * [[0 1 1.];\n",
    "                   [1 0 1.];\n",
    "                   [1 1 0.]]\n",
    "Si = ElementPsp(:Si, psp=load_psp(\"hgh/lda/Si-q4\"))\n",
    "atoms     = [Si, Si]\n",
    "positions = [ones(3)/8, -ones(3)/8]\n",
    "\n",
    "model = model_LDA(lattice, atoms, positions)\n",
    "basis = PlaneWaveBasis(model; Ecut=5, kgrid=[3, 3, 3])\n",
    "\n",
    "# Convergence we desire in the density\n",
    "tol = 1e-6"
   ],
   "metadata": {},
   "execution_count": 1
  },
  {
   "cell_type": "markdown",
   "source": [
    "## Density-based self-consistent field"
   ],
   "metadata": {}
  },
  {
   "outputs": [
    {
     "name": "stdout",
     "output_type": "stream",
     "text": [
      "n     Energy            log10(ΔE)   log10(Δρ)   Diag   Δtime\n",
      "---   ---------------   ---------   ---------   ----   ------\n",
      "  1   -7.846900852341                   -0.70    4.8         \n",
      "  2   -7.852323778996       -2.27       -1.53    1.0   16.9ms\n",
      "  3   -7.852616283927       -3.53       -2.57    1.5   18.8ms\n",
      "  4   -7.852646045540       -4.53       -2.91    2.5   22.8ms\n",
      "  5   -7.852646534165       -6.31       -3.23    1.2   17.7ms\n",
      "  6   -7.852646679580       -6.84       -4.13    1.0   17.1ms\n",
      "  7   -7.852646686692       -8.15       -5.14    2.2   22.6ms\n",
      "  8   -7.852646686728      -10.45       -5.68    1.8   20.2ms\n",
      "  9   -7.852646686729      -12.07       -5.70    1.5   19.3ms\n",
      " 10   -7.852646686730      -11.91       -6.93    1.0   17.7ms\n"
     ]
    }
   ],
   "cell_type": "code",
   "source": [
    "scfres_scf = self_consistent_field(basis; tol);"
   ],
   "metadata": {},
   "execution_count": 2
  },
  {
   "cell_type": "markdown",
   "source": [
    "## Potential-based SCF"
   ],
   "metadata": {}
  },
  {
   "outputs": [
    {
     "name": "stdout",
     "output_type": "stream",
     "text": [
      "n     Energy            log10(ΔE)   log10(Δρ)   α      Diag   Δtime\n",
      "---   ---------------   ---------   ---------   ----   ----   ------\n",
      "  1   -7.846908970987                   -0.70           4.8         \n",
      "  2   -7.852528066161       -2.25       -1.64   0.80    2.0    204ms\n",
      "  3   -7.852635518608       -3.97       -2.74   0.80    1.0   15.9ms\n",
      "  4   -7.852646588783       -4.96       -3.23   0.80    2.2   21.2ms\n",
      "  5   -7.852646681301       -7.03       -4.09   0.80    1.0   16.1ms\n",
      "  6   -7.852646686282       -8.30       -4.87   0.80    1.2   17.3ms\n",
      "  7   -7.852646686723       -9.36       -5.66   0.80    2.2   20.6ms\n",
      "  8   -7.852646686729      -11.18       -6.92   0.80    1.8   19.2ms\n"
     ]
    }
   ],
   "cell_type": "code",
   "source": [
    "scfres_scfv = DFTK.scf_potential_mixing(basis; tol);"
   ],
   "metadata": {},
   "execution_count": 3
  },
  {
   "cell_type": "markdown",
   "source": [
    "## Direct minimization\n",
    "Note: Unlike the other algorithms, tolerance for this one is in the energy,\n",
    "thus we square the density tolerance value to be roughly equivalent."
   ],
   "metadata": {}
  },
  {
   "outputs": [
    {
     "name": "stdout",
     "output_type": "stream",
     "text": [
      "Iter     Function value   Gradient norm \n",
      "     0     1.373574e+01     3.320109e+00\n",
      " * time: 0.045697927474975586\n",
      "     1     1.017169e+00     1.674061e+00\n",
      " * time: 0.21391010284423828\n",
      "     2    -1.304440e+00     1.948903e+00\n",
      " * time: 0.2317650318145752\n",
      "     3    -3.616123e+00     1.581499e+00\n",
      " * time: 0.2573230266571045\n",
      "     4    -4.871243e+00     1.497208e+00\n",
      " * time: 0.2827339172363281\n",
      "     5    -6.651794e+00     9.256138e-01\n",
      " * time: 0.3081989288330078\n",
      "     6    -7.298210e+00     5.081583e-01\n",
      " * time: 0.33371400833129883\n",
      "     7    -7.594213e+00     4.037623e-01\n",
      " * time: 0.35148191452026367\n",
      "     8    -7.711240e+00     1.279673e-01\n",
      " * time: 0.36914706230163574\n",
      "     9    -7.758979e+00     1.347486e-01\n",
      " * time: 0.38686609268188477\n",
      "    10    -7.780144e+00     7.444585e-02\n",
      " * time: 0.4046039581298828\n",
      "    11    -7.794406e+00     8.630902e-02\n",
      " * time: 0.42233800888061523\n",
      "    12    -7.809602e+00     8.446130e-02\n",
      " * time: 0.4401741027832031\n",
      "    13    -7.821611e+00     5.777870e-02\n",
      " * time: 0.45792102813720703\n",
      "    14    -7.836976e+00     4.055605e-02\n",
      " * time: 0.475722074508667\n",
      "    15    -7.849455e+00     6.351473e-02\n",
      " * time: 0.4935181140899658\n",
      "    16    -7.851467e+00     3.880874e-02\n",
      " * time: 0.5113480091094971\n",
      "    17    -7.852365e+00     1.360235e-02\n",
      " * time: 0.5291609764099121\n",
      "    18    -7.852565e+00     7.220686e-03\n",
      " * time: 0.5469560623168945\n",
      "    19    -7.852611e+00     5.541213e-03\n",
      " * time: 0.5649158954620361\n",
      "    20    -7.852636e+00     1.847054e-03\n",
      " * time: 0.582798957824707\n",
      "    21    -7.852643e+00     1.064716e-03\n",
      " * time: 0.6006340980529785\n",
      "    22    -7.852645e+00     6.424492e-04\n",
      " * time: 0.6184101104736328\n",
      "    23    -7.852646e+00     4.625337e-04\n",
      " * time: 0.6361579895019531\n",
      "    24    -7.852647e+00     3.338794e-04\n",
      " * time: 0.6538839340209961\n",
      "    25    -7.852647e+00     1.573513e-04\n",
      " * time: 0.6716969013214111\n",
      "    26    -7.852647e+00     1.132478e-04\n",
      " * time: 0.6896779537200928\n",
      "    27    -7.852647e+00     6.448592e-05\n",
      " * time: 0.707542896270752\n",
      "    28    -7.852647e+00     2.588227e-05\n",
      " * time: 0.7259600162506104\n",
      "    29    -7.852647e+00     1.490820e-05\n",
      " * time: 0.7441771030426025\n",
      "    30    -7.852647e+00     1.263470e-05\n",
      " * time: 0.7620930671691895\n",
      "    31    -7.852647e+00     7.154733e-06\n",
      " * time: 0.7798600196838379\n",
      "    32    -7.852647e+00     3.852270e-06\n",
      " * time: 0.7976830005645752\n",
      "    33    -7.852647e+00     2.613496e-06\n",
      " * time: 0.8154189586639404\n",
      "    34    -7.852647e+00     1.326176e-06\n",
      " * time: 0.8333089351654053\n",
      "    35    -7.852647e+00     5.887330e-07\n",
      " * time: 0.8510949611663818\n",
      "    36    -7.852647e+00     3.789495e-07\n",
      " * time: 0.8688409328460693\n",
      "    37    -7.852647e+00     2.012546e-07\n",
      " * time: 0.8866479396820068\n",
      "    38    -7.852647e+00     1.217331e-07\n",
      " * time: 0.9043810367584229\n",
      "    39    -7.852647e+00     9.105601e-08\n",
      " * time: 0.9221420288085938\n",
      "    40    -7.852647e+00     5.679595e-08\n",
      " * time: 0.939845085144043\n",
      "    41    -7.852647e+00     2.895330e-08\n",
      " * time: 0.9576020240783691\n",
      "    42    -7.852647e+00     1.420850e-08\n",
      " * time: 0.9753289222717285\n",
      "    43    -7.852647e+00     8.456820e-09\n",
      " * time: 0.9931631088256836\n",
      "    44    -7.852647e+00     8.372453e-09\n",
      " * time: 1.0663189888000488\n",
      "    45    -7.852647e+00     6.646385e-09\n",
      " * time: 1.0920660495758057\n",
      "    46    -7.852647e+00     6.646385e-09\n",
      " * time: 1.1800119876861572\n"
     ]
    }
   ],
   "cell_type": "code",
   "source": [
    "scfres_dm = direct_minimization(basis; tol=tol^2);"
   ],
   "metadata": {},
   "execution_count": 4
  },
  {
   "cell_type": "markdown",
   "source": [
    "## Newton algorithm"
   ],
   "metadata": {}
  },
  {
   "cell_type": "markdown",
   "source": [
    "Start not too far from the solution to ensure convergence:\n",
    "We run first a very crude SCF to get close and then switch to Newton."
   ],
   "metadata": {}
  },
  {
   "outputs": [
    {
     "name": "stdout",
     "output_type": "stream",
     "text": [
      "n     Energy            log10(ΔE)   log10(Δρ)   Diag   Δtime\n",
      "---   ---------------   ---------   ---------   ----   ------\n",
      "  1   -7.846688456964                   -0.70    4.8         \n"
     ]
    }
   ],
   "cell_type": "code",
   "source": [
    "scfres_start = self_consistent_field(basis; tol=0.5);"
   ],
   "metadata": {},
   "execution_count": 5
  },
  {
   "cell_type": "markdown",
   "source": [
    "Remove the virtual orbitals (which Newton cannot treat yet)"
   ],
   "metadata": {}
  },
  {
   "outputs": [
    {
     "name": "stdout",
     "output_type": "stream",
     "text": [
      "n     Energy            log10(ΔE)   log10(Δρ)   Δtime\n",
      "---   ---------------   ---------   ---------   ------\n",
      "  1   -7.852645940340                   -1.64         \n",
      "  2   -7.852646686730       -6.13       -3.72    1.50s\n",
      "  3   -7.852646686730      -13.35       -7.27    150ms\n"
     ]
    }
   ],
   "cell_type": "code",
   "source": [
    "ψ = DFTK.select_occupied_orbitals(basis, scfres_start.ψ, scfres_start.occupation).ψ\n",
    "scfres_newton = newton(basis, ψ; tol);"
   ],
   "metadata": {},
   "execution_count": 6
  },
  {
   "cell_type": "markdown",
   "source": [
    "## Comparison of results"
   ],
   "metadata": {}
  },
  {
   "outputs": [
    {
     "name": "stdout",
     "output_type": "stream",
     "text": [
      "|ρ_newton - ρ_scf|  = 1.9446078980320816e-7\n",
      "|ρ_newton - ρ_scfv| = 4.2808761609462787e-7\n",
      "|ρ_newton - ρ_dm|   = 8.371919328577789e-10\n"
     ]
    }
   ],
   "cell_type": "code",
   "source": [
    "println(\"|ρ_newton - ρ_scf|  = \", norm(scfres_newton.ρ - scfres_scf.ρ))\n",
    "println(\"|ρ_newton - ρ_scfv| = \", norm(scfres_newton.ρ - scfres_scfv.ρ))\n",
    "println(\"|ρ_newton - ρ_dm|   = \", norm(scfres_newton.ρ - scfres_dm.ρ))"
   ],
   "metadata": {},
   "execution_count": 7
  }
 ],
 "nbformat_minor": 3,
 "metadata": {
  "language_info": {
   "file_extension": ".jl",
   "mimetype": "application/julia",
   "name": "julia",
   "version": "1.9.4"
  },
  "kernelspec": {
   "name": "julia-1.9",
   "display_name": "Julia 1.9.4",
   "language": "julia"
  }
 },
 "nbformat": 4
}
