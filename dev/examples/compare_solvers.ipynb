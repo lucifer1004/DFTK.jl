{
 "cells": [
  {
   "cell_type": "markdown",
   "source": [
    "# Comparison of DFT solvers"
   ],
   "metadata": {}
  },
  {
   "cell_type": "markdown",
   "source": [
    "We compare four different approaches for solving the DFT minimisation problem,\n",
    "namely a density-based SCF, a potential-based SCF, direct minimisation and Newton."
   ],
   "metadata": {}
  },
  {
   "cell_type": "markdown",
   "source": [
    "First we setup our problem"
   ],
   "metadata": {}
  },
  {
   "outputs": [
    {
     "output_type": "execute_result",
     "data": {
      "text/plain": "1.0e-6"
     },
     "metadata": {},
     "execution_count": 1
    }
   ],
   "cell_type": "code",
   "source": [
    "using DFTK\n",
    "using LinearAlgebra\n",
    "\n",
    "a = 10.26  # Silicon lattice constant in Bohr\n",
    "lattice = a / 2 * [[0 1 1.];\n",
    "                   [1 0 1.];\n",
    "                   [1 1 0.]]\n",
    "Si = ElementPsp(:Si, psp=load_psp(\"hgh/lda/Si-q4\"))\n",
    "atoms     = [Si, Si]\n",
    "positions = [ones(3)/8, -ones(3)/8]\n",
    "\n",
    "model = model_LDA(lattice, atoms, positions)\n",
    "basis = PlaneWaveBasis(model; Ecut=5, kgrid=[3, 3, 3])\n",
    "\n",
    "# Convergence we desire in the density\n",
    "tol = 1e-6"
   ],
   "metadata": {},
   "execution_count": 1
  },
  {
   "cell_type": "markdown",
   "source": [
    "## Density-based self-consistent field"
   ],
   "metadata": {}
  },
  {
   "outputs": [
    {
     "name": "stdout",
     "output_type": "stream",
     "text": [
      "n     Energy            log10(ΔE)   log10(Δρ)   Diag   Δtime\n",
      "---   ---------------   ---------   ---------   ----   ------\n",
      "  1   -7.846855428342                   -0.70    4.2         \n",
      "  2   -7.852295019513       -2.26       -1.53    1.0   17.4ms\n",
      "  3   -7.852614284290       -3.50       -2.56    1.8   22.5ms\n",
      "  4   -7.852645999064       -4.50       -2.90    2.5   34.8ms\n",
      "  5   -7.852646522140       -6.28       -3.21    1.0   19.4ms\n",
      "  6   -7.852646679691       -6.80       -4.11    1.0   17.6ms\n",
      "  7   -7.852646686570       -8.16       -5.29    1.8   21.2ms\n",
      "  8   -7.852646686724       -9.81       -5.42    1.8   20.9ms\n",
      "  9   -7.852646686728      -11.41       -5.64    1.2   18.4ms\n",
      " 10   -7.852646686730      -11.68       -6.58    1.0   18.2ms\n"
     ]
    }
   ],
   "cell_type": "code",
   "source": [
    "scfres_scf = self_consistent_field(basis; tol);"
   ],
   "metadata": {},
   "execution_count": 2
  },
  {
   "cell_type": "markdown",
   "source": [
    "## Potential-based SCF"
   ],
   "metadata": {}
  },
  {
   "outputs": [
    {
     "name": "stdout",
     "output_type": "stream",
     "text": [
      "n     Energy            log10(ΔE)   log10(Δρ)   α      Diag   Δtime\n",
      "---   ---------------   ---------   ---------   ----   ----   ------\n",
      "  1   -7.846871182472                   -0.70           4.8         \n",
      "  2   -7.852553401090       -2.25       -1.63   0.80    2.0    222ms\n",
      "  3   -7.852639206153       -4.07       -2.73   0.80    1.0   16.4ms\n",
      "  4   -7.852646582390       -5.13       -3.36   0.80    2.0   20.2ms\n",
      "  5   -7.852646679166       -7.01       -4.32   0.80    1.2   16.8ms\n",
      "  6   -7.852646686595       -8.13       -4.82   0.80    2.0   20.4ms\n",
      "  7   -7.852646686719       -9.91       -5.55   0.80    1.2   17.2ms\n",
      "  8   -7.852646686730      -10.97       -6.41   0.80    2.2   21.2ms\n"
     ]
    }
   ],
   "cell_type": "code",
   "source": [
    "scfres_scfv = DFTK.scf_potential_mixing(basis; tol);"
   ],
   "metadata": {},
   "execution_count": 3
  },
  {
   "cell_type": "markdown",
   "source": [
    "## Direct minimization\n",
    "Note: Unlike the other algorithms, tolerance for this one is in the energy,\n",
    "thus we square the density tolerance value to be roughly equivalent."
   ],
   "metadata": {}
  },
  {
   "outputs": [
    {
     "name": "stdout",
     "output_type": "stream",
     "text": [
      "Iter     Function value   Gradient norm \n",
      "     0     1.369147e+01     3.396804e+00\n",
      " * time: 0.04660916328430176\n",
      "     1     1.158552e+00     1.926141e+00\n",
      " * time: 0.22212600708007812\n",
      "     2    -1.510943e+00     2.308656e+00\n",
      " * time: 0.2401731014251709\n",
      "     3    -3.809331e+00     1.950597e+00\n",
      " * time: 0.2659890651702881\n",
      "     4    -4.959102e+00     1.843419e+00\n",
      " * time: 0.2917470932006836\n",
      "     5    -6.754448e+00     1.054595e+00\n",
      " * time: 0.3176090717315674\n",
      "     6    -7.402633e+00     6.594833e-01\n",
      " * time: 0.3432772159576416\n",
      "     7    -7.672100e+00     5.093120e-01\n",
      " * time: 0.36113715171813965\n",
      "     8    -7.760325e+00     1.641525e-01\n",
      " * time: 0.3789820671081543\n",
      "     9    -7.811002e+00     8.495859e-02\n",
      " * time: 0.3969550132751465\n",
      "    10    -7.834883e+00     8.032705e-02\n",
      " * time: 0.4744691848754883\n",
      "    11    -7.841936e+00     6.747633e-02\n",
      " * time: 0.49250316619873047\n",
      "    12    -7.845915e+00     3.531924e-02\n",
      " * time: 0.5103771686553955\n",
      "    13    -7.850068e+00     2.610939e-02\n",
      " * time: 0.528205156326294\n",
      "    14    -7.851708e+00     1.750772e-02\n",
      " * time: 0.5459761619567871\n",
      "    15    -7.852247e+00     1.134059e-02\n",
      " * time: 0.563697099685669\n",
      "    16    -7.852509e+00     7.868310e-03\n",
      " * time: 0.581428050994873\n",
      "    17    -7.852604e+00     6.497814e-03\n",
      " * time: 0.5991220474243164\n",
      "    18    -7.852632e+00     4.156133e-03\n",
      " * time: 0.6169722080230713\n",
      "    19    -7.852642e+00     1.233865e-03\n",
      " * time: 0.6347780227661133\n",
      "    20    -7.852645e+00     6.920639e-04\n",
      " * time: 0.6528050899505615\n",
      "    21    -7.852646e+00     5.098082e-04\n",
      " * time: 0.6711971759796143\n",
      "    22    -7.852647e+00     2.280875e-04\n",
      " * time: 0.6889960765838623\n",
      "    23    -7.852647e+00     1.331660e-04\n",
      " * time: 0.7068459987640381\n",
      "    24    -7.852647e+00     7.960506e-05\n",
      " * time: 0.7248950004577637\n",
      "    25    -7.852647e+00     6.216548e-05\n",
      " * time: 0.7427201271057129\n",
      "    26    -7.852647e+00     3.896591e-05\n",
      " * time: 0.7607331275939941\n",
      "    27    -7.852647e+00     1.929366e-05\n",
      " * time: 0.7786362171173096\n",
      "    28    -7.852647e+00     1.004750e-05\n",
      " * time: 0.7966141700744629\n",
      "    29    -7.852647e+00     4.648900e-06\n",
      " * time: 0.8145341873168945\n",
      "    30    -7.852647e+00     2.784603e-06\n",
      " * time: 0.8323841094970703\n",
      "    31    -7.852647e+00     1.519085e-06\n",
      " * time: 0.8503081798553467\n",
      "    32    -7.852647e+00     9.767333e-07\n",
      " * time: 0.8681850433349609\n",
      "    33    -7.852647e+00     7.518825e-07\n",
      " * time: 0.8860650062561035\n",
      "    34    -7.852647e+00     5.019369e-07\n",
      " * time: 0.9039151668548584\n",
      "    35    -7.852647e+00     3.028384e-07\n",
      " * time: 0.9217700958251953\n",
      "    36    -7.852647e+00     1.674703e-07\n",
      " * time: 0.9398541450500488\n",
      "    37    -7.852647e+00     8.029228e-08\n",
      " * time: 0.9577422142028809\n",
      "    38    -7.852647e+00     4.168666e-08\n",
      " * time: 0.9755620956420898\n",
      "    39    -7.852647e+00     2.311803e-08\n",
      " * time: 0.9934110641479492\n",
      "    40    -7.852647e+00     1.757029e-08\n",
      " * time: 1.0118331909179688\n",
      "    41    -7.852647e+00     1.757029e-08\n",
      " * time: 1.108443021774292\n"
     ]
    }
   ],
   "cell_type": "code",
   "source": [
    "scfres_dm = direct_minimization(basis; tol=tol^2);"
   ],
   "metadata": {},
   "execution_count": 4
  },
  {
   "cell_type": "markdown",
   "source": [
    "## Newton algorithm"
   ],
   "metadata": {}
  },
  {
   "cell_type": "markdown",
   "source": [
    "Start not too far from the solution to ensure convergence:\n",
    "We run first a very crude SCF to get close and then switch to Newton."
   ],
   "metadata": {}
  },
  {
   "outputs": [
    {
     "name": "stdout",
     "output_type": "stream",
     "text": [
      "n     Energy            log10(ΔE)   log10(Δρ)   Diag   Δtime\n",
      "---   ---------------   ---------   ---------   ----   ------\n",
      "  1   -7.846906936640                   -0.70    4.5         \n"
     ]
    }
   ],
   "cell_type": "code",
   "source": [
    "scfres_start = self_consistent_field(basis; tol=0.5);"
   ],
   "metadata": {},
   "execution_count": 5
  },
  {
   "cell_type": "markdown",
   "source": [
    "Remove the virtual orbitals (which Newton cannot treat yet)"
   ],
   "metadata": {}
  },
  {
   "outputs": [
    {
     "name": "stdout",
     "output_type": "stream",
     "text": [
      "n     Energy            log10(ΔE)   log10(Δρ)   Δtime\n",
      "---   ---------------   ---------   ---------   ------\n",
      "  1   -7.852645906804                   -1.65         \n",
      "  2   -7.852646686730       -6.11       -3.72    1.50s\n",
      "  3   -7.852646686730      -13.28       -7.23    119ms\n"
     ]
    }
   ],
   "cell_type": "code",
   "source": [
    "ψ = DFTK.select_occupied_orbitals(basis, scfres_start.ψ, scfres_start.occupation).ψ\n",
    "scfres_newton = newton(basis, ψ; tol);"
   ],
   "metadata": {},
   "execution_count": 6
  },
  {
   "cell_type": "markdown",
   "source": [
    "## Comparison of results"
   ],
   "metadata": {}
  },
  {
   "outputs": [
    {
     "name": "stdout",
     "output_type": "stream",
     "text": [
      "|ρ_newton - ρ_scf|  = 3.001457291571667e-7\n",
      "|ρ_newton - ρ_scfv| = 3.476973564724203e-8\n",
      "|ρ_newton - ρ_dm|   = 4.559957502746101e-10\n"
     ]
    }
   ],
   "cell_type": "code",
   "source": [
    "println(\"|ρ_newton - ρ_scf|  = \", norm(scfres_newton.ρ - scfres_scf.ρ))\n",
    "println(\"|ρ_newton - ρ_scfv| = \", norm(scfres_newton.ρ - scfres_scfv.ρ))\n",
    "println(\"|ρ_newton - ρ_dm|   = \", norm(scfres_newton.ρ - scfres_dm.ρ))"
   ],
   "metadata": {},
   "execution_count": 7
  }
 ],
 "nbformat_minor": 3,
 "metadata": {
  "language_info": {
   "file_extension": ".jl",
   "mimetype": "application/julia",
   "name": "julia",
   "version": "1.9.3"
  },
  "kernelspec": {
   "name": "julia-1.9",
   "display_name": "Julia 1.9.3",
   "language": "julia"
  }
 },
 "nbformat": 4
}
