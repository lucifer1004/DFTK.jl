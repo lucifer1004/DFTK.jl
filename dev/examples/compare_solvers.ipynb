{
 "cells": [
  {
   "cell_type": "markdown",
   "source": [
    "# Comparison of DFT solvers"
   ],
   "metadata": {}
  },
  {
   "cell_type": "markdown",
   "source": [
    "We compare four different approaches for solving the DFT minimisation problem,\n",
    "namely a density-based SCF, a potential-based SCF, direct minimisation and Newton."
   ],
   "metadata": {}
  },
  {
   "cell_type": "markdown",
   "source": [
    "First we setup our problem"
   ],
   "metadata": {}
  },
  {
   "outputs": [
    {
     "output_type": "execute_result",
     "data": {
      "text/plain": "1.0e-6"
     },
     "metadata": {},
     "execution_count": 1
    }
   ],
   "cell_type": "code",
   "source": [
    "using DFTK\n",
    "using LinearAlgebra\n",
    "\n",
    "a = 10.26  # Silicon lattice constant in Bohr\n",
    "lattice = a / 2 * [[0 1 1.];\n",
    "                   [1 0 1.];\n",
    "                   [1 1 0.]]\n",
    "Si = ElementPsp(:Si, psp=load_psp(\"hgh/lda/Si-q4\"))\n",
    "atoms     = [Si, Si]\n",
    "positions = [ones(3)/8, -ones(3)/8]\n",
    "\n",
    "model = model_LDA(lattice, atoms, positions)\n",
    "basis = PlaneWaveBasis(model; Ecut=5, kgrid=[3, 3, 3])\n",
    "\n",
    "# Convergence we desire in the density\n",
    "tol = 1e-6"
   ],
   "metadata": {},
   "execution_count": 1
  },
  {
   "cell_type": "markdown",
   "source": [
    "## Density-based self-consistent field"
   ],
   "metadata": {}
  },
  {
   "outputs": [
    {
     "name": "stdout",
     "output_type": "stream",
     "text": [
      "n     Energy            log10(ΔE)   log10(Δρ)   Diag   Δtime\n",
      "---   ---------------   ---------   ---------   ----   ------\n",
      "  1   -7.846911372487                   -0.70    4.8         \n",
      "  2   -7.852330905673       -2.27       -1.53    1.0   22.7ms\n",
      "  3   -7.852616196073       -3.54       -2.56    1.5   24.8ms\n",
      "  4   -7.852645980541       -4.53       -2.90    2.2   30.3ms\n",
      "  5   -7.852646506584       -6.28       -3.19    1.0   23.0ms\n",
      "  6   -7.852646677558       -6.77       -4.07    1.0   23.0ms\n",
      "  7   -7.852646686695       -8.04       -5.27    2.2   30.2ms\n",
      "  8   -7.852646686727      -10.50       -5.55    1.8   26.6ms\n",
      "  9   -7.852646686728      -12.20       -5.57    1.2   23.8ms\n",
      " 10   -7.852646686730      -11.65       -6.78    1.0   23.3ms\n"
     ]
    }
   ],
   "cell_type": "code",
   "source": [
    "scfres_scf = self_consistent_field(basis; tol);"
   ],
   "metadata": {},
   "execution_count": 2
  },
  {
   "cell_type": "markdown",
   "source": [
    "## Potential-based SCF"
   ],
   "metadata": {}
  },
  {
   "outputs": [
    {
     "name": "stdout",
     "output_type": "stream",
     "text": [
      "n     Energy            log10(ΔE)   log10(Δρ)   α      Diag   Δtime\n",
      "---   ---------------   ---------   ---------   ----   ----   ------\n",
      "  1   -7.846821367489                   -0.70           4.8         \n",
      "  2   -7.852527486481       -2.24       -1.63   0.80    2.0    251ms\n",
      "  3   -7.852636740785       -3.96       -2.72   0.80    1.0   21.1ms\n",
      "  4   -7.852646557270       -5.01       -3.27   0.80    2.2   28.3ms\n",
      "  5   -7.852646678280       -6.92       -4.14   0.80    1.0   21.5ms\n",
      "  6   -7.852646686345       -8.09       -4.83   0.80    1.5   24.6ms\n",
      "  7   -7.852646686721       -9.42       -5.90   0.80    2.0   26.8ms\n",
      "  8   -7.852646686730      -11.06       -6.67   0.80    2.2   28.6ms\n"
     ]
    }
   ],
   "cell_type": "code",
   "source": [
    "scfres_scfv = DFTK.scf_potential_mixing(basis; tol);"
   ],
   "metadata": {},
   "execution_count": 3
  },
  {
   "cell_type": "markdown",
   "source": [
    "## Direct minimization\n",
    "Note: Unlike the other algorithms, tolerance for this one is in the energy,\n",
    "thus we square the density tolerance value to be roughly equivalent."
   ],
   "metadata": {}
  },
  {
   "outputs": [
    {
     "name": "stdout",
     "output_type": "stream",
     "text": [
      "Iter     Function value   Gradient norm \n",
      "     0     1.364467e+01     2.949590e+00\n",
      " * time: 0.05624818801879883\n",
      "     1     1.223375e+00     2.484281e+00\n",
      " * time: 0.27179813385009766\n",
      "     2    -1.558582e+00     1.969897e+00\n",
      " * time: 0.29441118240356445\n",
      "     3    -3.734994e+00     1.977191e+00\n",
      " * time: 0.3270900249481201\n",
      "     4    -5.041772e+00     1.825586e+00\n",
      " * time: 0.36009907722473145\n",
      "     5    -6.840234e+00     1.365782e+00\n",
      " * time: 0.3931729793548584\n",
      "     6    -7.509285e+00     4.614332e-01\n",
      " * time: 0.42630910873413086\n",
      "     7    -7.711706e+00     1.322901e-01\n",
      " * time: 0.44995903968811035\n",
      "     8    -7.782526e+00     1.523861e-01\n",
      " * time: 0.4729330539703369\n",
      "     9    -7.819182e+00     7.849215e-02\n",
      " * time: 0.4957890510559082\n",
      "    10    -7.836291e+00     6.150202e-02\n",
      " * time: 0.5185849666595459\n",
      "    11    -7.845641e+00     4.152645e-02\n",
      " * time: 0.5413579940795898\n",
      "    12    -7.850329e+00     2.514169e-02\n",
      " * time: 0.564399003982544\n",
      "    13    -7.851939e+00     1.233377e-02\n",
      " * time: 0.5871751308441162\n",
      "    14    -7.852371e+00     8.009875e-03\n",
      " * time: 0.6101510524749756\n",
      "    15    -7.852553e+00     4.755882e-03\n",
      " * time: 0.6333460807800293\n",
      "    16    -7.852618e+00     2.937415e-03\n",
      " * time: 0.6562411785125732\n",
      "    17    -7.852637e+00     1.272230e-03\n",
      " * time: 0.6793019771575928\n",
      "    18    -7.852643e+00     8.519862e-04\n",
      " * time: 0.702423095703125\n",
      "    19    -7.852645e+00     5.067343e-04\n",
      " * time: 0.7255191802978516\n",
      "    20    -7.852646e+00     3.214244e-04\n",
      " * time: 0.7484781742095947\n",
      "    21    -7.852646e+00     2.280515e-04\n",
      " * time: 0.7714259624481201\n",
      "    22    -7.852647e+00     1.153816e-04\n",
      " * time: 0.794579029083252\n",
      "    23    -7.852647e+00     6.748358e-05\n",
      " * time: 0.8176710605621338\n",
      "    24    -7.852647e+00     4.832191e-05\n",
      " * time: 0.8404281139373779\n",
      "    25    -7.852647e+00     2.320386e-05\n",
      " * time: 0.8632590770721436\n",
      "    26    -7.852647e+00     1.112110e-05\n",
      " * time: 0.8862111568450928\n",
      "    27    -7.852647e+00     7.506659e-06\n",
      " * time: 0.9090871810913086\n",
      "    28    -7.852647e+00     4.091780e-06\n",
      " * time: 0.9322550296783447\n",
      "    29    -7.852647e+00     2.834453e-06\n",
      " * time: 0.9555630683898926\n",
      "    30    -7.852647e+00     1.410668e-06\n",
      " * time: 0.9784290790557861\n",
      "    31    -7.852647e+00     7.969493e-07\n",
      " * time: 1.0013539791107178\n",
      "    32    -7.852647e+00     4.376112e-07\n",
      " * time: 1.024388074874878\n",
      "    33    -7.852647e+00     2.644807e-07\n",
      " * time: 1.0474250316619873\n",
      "    34    -7.852647e+00     1.561803e-07\n",
      " * time: 1.0702550411224365\n",
      "    35    -7.852647e+00     1.082255e-07\n",
      " * time: 1.0929651260375977\n",
      "    36    -7.852647e+00     4.271978e-08\n",
      " * time: 1.115605115890503\n",
      "    37    -7.852647e+00     2.753857e-08\n",
      " * time: 1.1385791301727295\n",
      "    38    -7.852647e+00     1.985082e-08\n",
      " * time: 1.2112040519714355\n",
      "    39    -7.852647e+00     1.469692e-08\n",
      " * time: 1.2343690395355225\n",
      "    40    -7.852647e+00     7.515642e-09\n",
      " * time: 1.2570021152496338\n"
     ]
    }
   ],
   "cell_type": "code",
   "source": [
    "scfres_dm = direct_minimization(basis; tol=tol^2);"
   ],
   "metadata": {},
   "execution_count": 4
  },
  {
   "cell_type": "markdown",
   "source": [
    "## Newton algorithm"
   ],
   "metadata": {}
  },
  {
   "cell_type": "markdown",
   "source": [
    "Start not too far from the solution to ensure convergence:\n",
    "We run first a very crude SCF to get close and then switch to Newton."
   ],
   "metadata": {}
  },
  {
   "outputs": [
    {
     "name": "stdout",
     "output_type": "stream",
     "text": [
      "n     Energy            log10(ΔE)   log10(Δρ)   Diag   Δtime\n",
      "---   ---------------   ---------   ---------   ----   ------\n",
      "  1   -7.846832689320                   -0.70    4.8         \n"
     ]
    }
   ],
   "cell_type": "code",
   "source": [
    "scfres_start = self_consistent_field(basis; tol=0.5);"
   ],
   "metadata": {},
   "execution_count": 5
  },
  {
   "cell_type": "markdown",
   "source": [
    "Remove the virtual orbitals (which Newton cannot treat yet)"
   ],
   "metadata": {}
  },
  {
   "outputs": [
    {
     "name": "stdout",
     "output_type": "stream",
     "text": [
      "n     Energy            log10(ΔE)   log10(Δρ)   Δtime\n",
      "---   ---------------   ---------   ---------   ------\n",
      "  1   -7.852645896452                   -1.64         \n",
      "  2   -7.852646686730       -6.10       -3.71    1.87s\n",
      "  3   -7.852646686730      -13.25       -7.24    193ms\n"
     ]
    }
   ],
   "cell_type": "code",
   "source": [
    "ψ = DFTK.select_occupied_orbitals(basis, scfres_start.ψ, scfres_start.occupation).ψ\n",
    "scfres_newton = newton(basis, ψ; tol);"
   ],
   "metadata": {},
   "execution_count": 6
  },
  {
   "cell_type": "markdown",
   "source": [
    "## Comparison of results"
   ],
   "metadata": {}
  },
  {
   "outputs": [
    {
     "name": "stdout",
     "output_type": "stream",
     "text": [
      "|ρ_newton - ρ_scf|  = 2.6054621608872974e-7\n",
      "|ρ_newton - ρ_scfv| = 1.9907441795466904e-8\n",
      "|ρ_newton - ρ_dm|   = 8.251363941160852e-10\n"
     ]
    }
   ],
   "cell_type": "code",
   "source": [
    "println(\"|ρ_newton - ρ_scf|  = \", norm(scfres_newton.ρ - scfres_scf.ρ))\n",
    "println(\"|ρ_newton - ρ_scfv| = \", norm(scfres_newton.ρ - scfres_scfv.ρ))\n",
    "println(\"|ρ_newton - ρ_dm|   = \", norm(scfres_newton.ρ - scfres_dm.ρ))"
   ],
   "metadata": {},
   "execution_count": 7
  }
 ],
 "nbformat_minor": 3,
 "metadata": {
  "language_info": {
   "file_extension": ".jl",
   "mimetype": "application/julia",
   "name": "julia",
   "version": "1.9.3"
  },
  "kernelspec": {
   "name": "julia-1.9",
   "display_name": "Julia 1.9.3",
   "language": "julia"
  }
 },
 "nbformat": 4
}
