{
 "cells": [
  {
   "cell_type": "markdown",
   "source": [
    "# Creating and modelling metallic supercells\n",
    "\n",
    "In this section we will be concerned with modelling supercells of aluminium.\n",
    "When dealing with periodic problems there is no unique definition of the\n",
    "lattice: Clearly any duplication of the lattice along an axis is also a valid\n",
    "repetitive unit to describe exactly the same system.\n",
    "This is exactly what a **supercell** is: An $n$-fold repetition along one of the\n",
    "axes of the original lattice.\n",
    "\n",
    "The following code achieves this for aluminium:"
   ],
   "metadata": {}
  },
  {
   "outputs": [
    {
     "name": "stdout",
     "output_type": "stream",
     "text": [
      "\u001b[32m\u001b[1m    CondaPkg \u001b[22m\u001b[39m\u001b[0mFound dependencies: /home/runner/.julia/packages/ASEconvert/CNQ1A/CondaPkg.toml\n",
      "\u001b[32m\u001b[1m    CondaPkg \u001b[22m\u001b[39m\u001b[0mFound dependencies: /home/runner/.julia/packages/PythonCall/wXfah/CondaPkg.toml\n",
      "\u001b[32m\u001b[1m    CondaPkg \u001b[22m\u001b[39m\u001b[0mDependencies already up to date\n"
     ]
    }
   ],
   "cell_type": "code",
   "source": [
    "using DFTK\n",
    "using LinearAlgebra\n",
    "using ASEconvert\n",
    "\n",
    "function aluminium_setup(repeat=1; Ecut=7.0, kgrid=[2, 2, 2])\n",
    "    a = 7.65339\n",
    "    lattice = a * Matrix(I, 3, 3)\n",
    "    Al = ElementPsp(:Al; psp=load_psp(\"hgh/lda/al-q3\"))\n",
    "    atoms     = [Al, Al, Al, Al]\n",
    "    positions = [[0.0, 0.0, 0.0], [0.0, 0.5, 0.5], [0.5, 0.0, 0.5], [0.5, 0.5, 0.0]]\n",
    "    unit_cell = periodic_system(lattice, atoms, positions)\n",
    "\n",
    "    # Make supercell in ASE:\n",
    "    # We convert our lattice to the conventions used in ASE, make the supercell\n",
    "    # and then convert back ...\n",
    "    supercell_ase = convert_ase(unit_cell) * pytuple((repeat, 1, 1))\n",
    "    supercell     = pyconvert(AbstractSystem, supercell_ase)\n",
    "\n",
    "    # Unfortunately right now the conversion to ASE drops the pseudopotential information,\n",
    "    # so we need to reattach it:\n",
    "    supercell = attach_psp(supercell; Al=\"hgh/lda/al-q3\")\n",
    "\n",
    "    # Construct an LDA model and discretise\n",
    "    # Note: We disable symmetries explicitly here. Otherwise the problem sizes\n",
    "    #       we are able to run on the CI are too simple to observe the numerical\n",
    "    #       instabilities we want to trigger here.\n",
    "    model = model_LDA(supercell; temperature=1e-3, symmetries=false)\n",
    "    PlaneWaveBasis(model; Ecut, kgrid)\n",
    "end;"
   ],
   "metadata": {},
   "execution_count": 1
  },
  {
   "cell_type": "markdown",
   "source": [
    "As part of the code we are using a routine inside the ASE,\n",
    "the [atomistic simulation environment](https://wiki.fysik.dtu.dk/ase/index.html)\n",
    "for creating the supercell and make use of the two-way interoperability of\n",
    "DFTK and ASE. For more details on this aspect see the documentation\n",
    "on Input and output formats."
   ],
   "metadata": {}
  },
  {
   "cell_type": "markdown",
   "source": [
    "Write an example supercell structure to a file to plot it:"
   ],
   "metadata": {}
  },
  {
   "outputs": [
    {
     "name": "stdout",
     "output_type": "stream",
     "text": [
      "┌ Warning: Skipping atomic property pseudopotential, which is not supported in ASE.\n",
      "└ @ ASEconvert ~/.julia/packages/ASEconvert/CNQ1A/src/ASEconvert.jl:123\n",
      "┌ Warning: Skipping atomic property pseudopotential, which is not supported in ASE.\n",
      "└ @ ASEconvert ~/.julia/packages/ASEconvert/CNQ1A/src/ASEconvert.jl:123\n"
     ]
    },
    {
     "output_type": "execute_result",
     "data": {
      "text/plain": "Python: None"
     },
     "metadata": {},
     "execution_count": 2
    }
   ],
   "cell_type": "code",
   "source": [
    "setup = aluminium_setup(5)\n",
    "convert_ase(periodic_system(setup.model)).write(\"al_supercell.png\")"
   ],
   "metadata": {},
   "execution_count": 2
  },
  {
   "cell_type": "markdown",
   "source": [
    "<img src=\"https://docs.dftk.org/stable/examples/al_supercell.png\" width=500 height=500 />"
   ],
   "metadata": {}
  },
  {
   "cell_type": "markdown",
   "source": [
    "As we will see in this notebook the modelling of a system generally becomes\n",
    "harder if the system becomes larger.\n",
    "\n",
    "- This sounds like a trivial statement as *per se* the cost per SCF step increases\n",
    "  as the system (and thus $N$) gets larger.\n",
    "- But there is more to it:\n",
    "  If one is not careful also the *number of SCF iterations* increases\n",
    "  as the system gets larger.\n",
    "- The aim of a proper computational treatment of such supercells is therefore\n",
    "  to ensure that the **number of SCF iterations remains constant** when the\n",
    "  system size increases."
   ],
   "metadata": {}
  },
  {
   "cell_type": "markdown",
   "source": [
    "For achieving the latter DFTK by default employs the `LdosMixing`\n",
    "preconditioner [^HL2021] during the SCF iterations. This mixing approach is\n",
    "completely parameter free, but still automatically adapts to the treated\n",
    "system in order to efficiently prevent charge sloshing. As a result,\n",
    "modelling aluminium slabs indeed takes roughly the same number of SCF iterations\n",
    "irrespective of the supercell size:\n",
    "\n",
    "[^HL2021]:\n",
    "   M. F. Herbst and A. Levitt.\n",
    "   *Black-box inhomogeneous preconditioning for self-consistent field iterations in density functional theory.*\n",
    "   J. Phys. Cond. Matt *33* 085503 (2021). [ArXiv:2009.01665](https://arxiv.org/abs/2009.01665)"
   ],
   "metadata": {}
  },
  {
   "outputs": [
    {
     "name": "stdout",
     "output_type": "stream",
     "text": [
      "┌ Warning: Skipping atomic property pseudopotential, which is not supported in ASE.\n",
      "└ @ ASEconvert ~/.julia/packages/ASEconvert/CNQ1A/src/ASEconvert.jl:123\n",
      "n     Energy            log10(ΔE)   log10(Δρ)   Diag   Δtime\n",
      "---   ---------------   ---------   ---------   ----   ------\n",
      "  1   -8.298621972621                   -0.85    5.0         \n",
      "  2   -8.300231952805       -2.79       -1.25    1.0    177ms\n",
      "  3   -8.300440039160       -3.68       -1.89    2.0    204ms\n",
      "  4   -8.300461341401       -4.67       -2.75    3.0    417ms\n",
      "  5   -8.300463953155       -5.58       -3.07    2.8    233ms\n",
      "  6   -8.300464294706       -6.47       -3.26    9.2    351ms\n",
      "  7   -8.300464471968       -6.75       -3.41    1.8    203ms\n",
      "  8   -8.300464568651       -7.01       -3.56    2.1    230ms\n",
      "  9   -8.300464626612       -7.24       -3.77    1.5    253ms\n",
      " 10   -8.300464637281       -7.97       -3.93    1.4    178ms\n",
      " 11   -8.300464643726       -8.19       -4.28    1.9    194ms\n"
     ]
    }
   ],
   "cell_type": "code",
   "source": [
    "self_consistent_field(aluminium_setup(1); tol=1e-4);"
   ],
   "metadata": {},
   "execution_count": 3
  },
  {
   "outputs": [
    {
     "name": "stdout",
     "output_type": "stream",
     "text": [
      "┌ Warning: Skipping atomic property pseudopotential, which is not supported in ASE.\n",
      "└ @ ASEconvert ~/.julia/packages/ASEconvert/CNQ1A/src/ASEconvert.jl:123\n",
      "n     Energy            log10(ΔE)   log10(Δρ)   Diag   Δtime\n",
      "---   ---------------   ---------   ---------   ----   ------\n",
      "  1   -16.67394561144                   -0.70    6.2         \n",
      "  2   -16.67796519227       -2.40       -1.14    1.8    457ms\n",
      "  3   -16.67914304701       -2.93       -1.86    3.4    551ms\n",
      "  4   -16.67924735738       -3.98       -2.65    3.2    557ms\n",
      "  5   -16.67928460329       -4.43       -3.08    3.6    612ms\n",
      "  6   -16.67928619559       -5.80       -3.47    3.8    549ms\n",
      "  7   -16.67928621108       -7.81       -3.98    2.5    506ms\n",
      "  8   -16.67928622133       -7.99       -4.59    2.5    490ms\n"
     ]
    }
   ],
   "cell_type": "code",
   "source": [
    "self_consistent_field(aluminium_setup(2); tol=1e-4);"
   ],
   "metadata": {},
   "execution_count": 4
  },
  {
   "outputs": [
    {
     "name": "stdout",
     "output_type": "stream",
     "text": [
      "┌ Warning: Skipping atomic property pseudopotential, which is not supported in ASE.\n",
      "└ @ ASEconvert ~/.julia/packages/ASEconvert/CNQ1A/src/ASEconvert.jl:123\n",
      "n     Energy            log10(ΔE)   log10(Δρ)   Diag   Δtime\n",
      "---   ---------------   ---------   ---------   ----   ------\n",
      "  1   -33.32528650909                   -0.56    6.4         \n",
      "  2   -33.33256945523       -2.14       -1.00    1.0    1.52s\n",
      "  3   -33.33405669182       -2.83       -1.75    4.1    1.95s\n",
      "  4   -33.33426400863       -3.68       -2.64    4.2    1.88s\n",
      "  5   -33.33610791309       -2.73       -2.44    4.5    2.20s\n",
      "  6   -33.33694242377       -3.08       -2.52    7.9    2.17s\n",
      "  7   -33.33694232426   +   -7.00       -2.52    1.9    1.50s\n",
      "  8   -33.33676145360   +   -3.74       -2.21    2.8    2.06s\n",
      "  9   -33.33669696443   +   -4.19       -2.14    1.0    1.47s\n",
      " 10   -33.33670326362       -5.20       -2.15    1.0    1.48s\n",
      " 11   -33.33671699001       -4.86       -2.16    1.0    1.49s\n",
      " 12   -33.33674014325       -4.64       -2.18    1.1    1.51s\n",
      " 13   -33.33676020425       -4.70       -2.21    1.8    1.58s\n",
      " 14   -33.33677074018       -4.98       -2.22    1.0    1.41s\n",
      " 15   -33.33679011958       -4.71       -2.25    1.0    1.40s\n",
      " 16   -33.33679585711       -5.24       -2.26    1.0    1.44s\n",
      " 17   -33.33694326708       -3.83       -3.64    1.6    1.69s\n",
      " 18   -33.33694360072       -6.48       -3.63    4.8    2.52s\n",
      " 19   -33.33694364807       -7.32       -3.63    1.0    1.38s\n",
      " 20   -33.33694367732       -7.53       -3.68    1.0    1.36s\n",
      " 21   -33.33694372781       -7.30       -3.77    1.0    1.36s\n",
      " 22   -33.33694376340       -7.45       -3.99    1.0    1.37s\n",
      " 23   -33.33694374219   +   -7.67       -3.96    1.6    1.45s\n",
      " 24   -33.33694373292   +   -8.03       -3.97    1.0    1.36s\n",
      " 25   -33.33694373430       -8.86       -3.96    1.0    1.36s\n",
      " 26   -33.33694372927   +   -8.30       -3.93    1.0    1.40s\n",
      " 27   -33.33694373435       -8.29       -3.95    1.0    1.36s\n",
      " 28   -33.33694375051       -7.79       -4.03    1.0    1.38s\n"
     ]
    }
   ],
   "cell_type": "code",
   "source": [
    "self_consistent_field(aluminium_setup(4); tol=1e-4);"
   ],
   "metadata": {},
   "execution_count": 5
  },
  {
   "cell_type": "markdown",
   "source": [
    "When switching off explicitly the `LdosMixing`, by selecting `mixing=SimpleMixing()`,\n",
    "the performance of number of required SCF steps starts to increase as we increase\n",
    "the size of the modelled problem:"
   ],
   "metadata": {}
  },
  {
   "outputs": [
    {
     "name": "stdout",
     "output_type": "stream",
     "text": [
      "┌ Warning: Skipping atomic property pseudopotential, which is not supported in ASE.\n",
      "└ @ ASEconvert ~/.julia/packages/ASEconvert/CNQ1A/src/ASEconvert.jl:123\n",
      "n     Energy            log10(ΔE)   log10(Δρ)   Diag   Δtime\n",
      "---   ---------------   ---------   ---------   ----   ------\n",
      "  1   -8.298268771986                   -0.85    5.1         \n",
      "  2   -8.300238496191       -2.71       -1.59    1.0    164ms\n",
      "  3   -8.300422672664       -3.73       -2.57    3.2    202ms\n",
      "  4   -8.300383945124   +   -4.41       -2.30    3.8    242ms\n",
      "  5   -8.300464162874       -4.10       -3.39    1.0    140ms\n",
      "  6   -8.300464557823       -6.40       -3.74    4.0    254ms\n",
      "  7   -8.300464638778       -7.09       -4.24    3.9    253ms\n"
     ]
    }
   ],
   "cell_type": "code",
   "source": [
    "self_consistent_field(aluminium_setup(1); tol=1e-4, mixing=SimpleMixing());"
   ],
   "metadata": {},
   "execution_count": 6
  },
  {
   "outputs": [
    {
     "name": "stdout",
     "output_type": "stream",
     "text": [
      "┌ Warning: Skipping atomic property pseudopotential, which is not supported in ASE.\n",
      "└ @ ASEconvert ~/.julia/packages/ASEconvert/CNQ1A/src/ASEconvert.jl:123\n",
      "n     Energy            log10(ΔE)   log10(Δρ)   Diag   Δtime\n",
      "---   ---------------   ---------   ---------   ----   ------\n",
      "  1   -33.32653379053                   -0.56    7.0         \n",
      "  2   -33.31649073521   +   -2.00       -1.27    1.5    1.37s\n",
      "  3   -15.42070715287   +    1.25       -0.44    6.4    2.87s\n",
      "  4   -33.33032577719        1.25       -1.97    5.2    2.45s\n",
      "  5   -33.21569582581   +   -0.94       -1.35    4.1    2.43s\n",
      "  6   -32.94934970602   +   -0.57       -1.27    4.8    2.44s\n",
      "  7   -33.32251328838       -0.43       -1.92    4.8    2.21s\n",
      "  8   -33.33573190204       -1.88       -2.46    2.8    1.58s\n",
      "  9   -33.33661905843       -3.05       -2.50    3.8    2.03s\n",
      " 10   -33.33656045232   +   -4.23       -2.73    1.9    1.56s\n",
      " 11   -33.33688853926       -3.48       -3.10    2.2    1.51s\n",
      " 12   -33.33692295458       -4.46       -3.34    4.0    1.96s\n",
      " 13   -33.33694288654       -4.70       -3.80    2.8    1.60s\n",
      " 14   -33.33694361127       -6.14       -4.09    3.6    2.08s\n"
     ]
    }
   ],
   "cell_type": "code",
   "source": [
    "self_consistent_field(aluminium_setup(4); tol=1e-4, mixing=SimpleMixing());"
   ],
   "metadata": {},
   "execution_count": 7
  },
  {
   "cell_type": "markdown",
   "source": [
    "For completion let us note that the more traditional `mixing=KerkerMixing()`\n",
    "approach would also help in this particular setting to obtain a constant\n",
    "number of SCF iterations for an increasing system size (try it!). In contrast\n",
    "to `LdosMixing`, however, `KerkerMixing` is only suitable to model bulk metallic\n",
    "system (like the case we are considering here). When modelling metallic surfaces\n",
    "or mixtures of metals and insulators, `KerkerMixing` fails, while `LdosMixing`\n",
    "still works well. See the Modelling a gallium arsenide surface example\n",
    "or [^HL2021] for details. Due to the general applicability of `LdosMixing` this\n",
    "method is the default mixing approach in DFTK."
   ],
   "metadata": {}
  }
 ],
 "nbformat_minor": 3,
 "metadata": {
  "language_info": {
   "file_extension": ".jl",
   "mimetype": "application/julia",
   "name": "julia",
   "version": "1.9.3"
  },
  "kernelspec": {
   "name": "julia-1.9",
   "display_name": "Julia 1.9.3",
   "language": "julia"
  }
 },
 "nbformat": 4
}
