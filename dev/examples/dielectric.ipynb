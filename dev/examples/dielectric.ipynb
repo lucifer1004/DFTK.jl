{
 "cells": [
  {
   "cell_type": "markdown",
   "source": [
    "# Eigenvalues of the dielectric matrix\n",
    "\n",
    "We compute a few eigenvalues of the dielectric matrix ($q=0$, $ω=0$) iteratively."
   ],
   "metadata": {}
  },
  {
   "outputs": [
    {
     "name": "stdout",
     "output_type": "stream",
     "text": [
      "n     Energy            log10(ΔE)   log10(Δρ)   Diag   Δtime\n",
      "---   ---------------   ---------   ---------   ----   ------\n",
      "  1   -7.234112221115                   -0.50    7.0         \n",
      "  2   -7.250114946850       -1.80       -1.40    1.0   5.23ms\n",
      "  3   -7.251244188285       -2.95       -2.16    2.0   6.05ms\n",
      "  4   -7.251313953368       -4.16       -2.39    2.0   6.36ms\n",
      "  5   -7.251330433203       -4.78       -2.69    1.0   5.26ms\n",
      "  6   -7.251337843181       -5.13       -3.15    1.0   41.0ms\n",
      "  7   -7.251338712659       -6.06       -3.72    1.0   5.28ms\n",
      "  8   -7.251338786734       -7.13       -4.04    3.0   6.96ms\n",
      "  9   -7.251338797682       -7.96       -4.72    1.0   5.35ms\n",
      " 10   -7.251338798647       -9.02       -5.06    3.0   7.41ms\n",
      " 11   -7.251338798696      -10.31       -5.63    1.0   5.58ms\n",
      " 12   -7.251338798703      -11.16       -5.95    3.0   7.63ms\n",
      " 13   -7.251338798704      -11.86       -6.45    1.0   5.72ms\n",
      " 14   -7.251338798704      -12.97       -6.62    3.0   7.40ms\n",
      " 15   -7.251338798705      -13.44       -6.97    1.0   5.66ms\n",
      " 16   -7.251338798705      -13.82       -7.40    2.0   6.71ms\n",
      " 17   -7.251338798705      -14.75       -7.82    1.0   5.72ms\n",
      " 18   -7.251338798705      -14.75       -8.33    2.0   6.84ms\n"
     ]
    }
   ],
   "cell_type": "code",
   "source": [
    "using DFTK\n",
    "using Plots\n",
    "using KrylovKit\n",
    "using Printf\n",
    "\n",
    "# Calculation parameters\n",
    "kgrid = [1, 1, 1]\n",
    "Ecut = 5\n",
    "\n",
    "# Silicon lattice\n",
    "a = 10.26\n",
    "lattice = a / 2 .* [[0 1 1.]; [1 0 1.]; [1 1 0.]]\n",
    "Si = ElementPsp(:Si, psp=load_psp(\"hgh/lda/Si-q4\"))\n",
    "atoms     = [Si, Si]\n",
    "positions = [ones(3)/8, -ones(3)/8]\n",
    "\n",
    "# Compute the dielectric operator without symmetries\n",
    "model  = model_LDA(lattice, atoms, positions, symmetries=false)\n",
    "basis  = PlaneWaveBasis(model; Ecut, kgrid)\n",
    "scfres = self_consistent_field(basis, tol=1e-8);"
   ],
   "metadata": {},
   "execution_count": 1
  },
  {
   "cell_type": "markdown",
   "source": [
    "Applying $ε^† ≔ (1- χ_0 K)$ …"
   ],
   "metadata": {}
  },
  {
   "outputs": [],
   "cell_type": "code",
   "source": [
    "function eps_fun(δρ)\n",
    "    δV = apply_kernel(basis, δρ; ρ=scfres.ρ)\n",
    "    χ0δV = apply_χ0(scfres, δV)\n",
    "    δρ - χ0δV\n",
    "end;"
   ],
   "metadata": {},
   "execution_count": 2
  },
  {
   "cell_type": "markdown",
   "source": [
    "… eagerly diagonalizes the subspace matrix at each iteration"
   ],
   "metadata": {}
  },
  {
   "outputs": [
    {
     "name": "stdout",
     "output_type": "stream",
     "text": [
      "[ Info: Arnoldi iteration step 1: normres = 0.07294796116224415\n",
      "[ Info: Arnoldi iteration step 2: normres = 0.319517505540526\n",
      "[ Info: Arnoldi iteration step 3: normres = 1.033714932158315\n",
      "[ Info: Arnoldi iteration step 4: normres = 0.2939858478885413\n",
      "[ Info: Arnoldi iteration step 5: normres = 0.5988202821122616\n",
      "[ Info: Arnoldi schursolve in iter 1, krylovdim = 5: 0 values converged, normres = (6.62e-02, 5.76e-02, 5.52e-01, 2.16e-01, 4.61e-03)\n",
      "[ Info: Arnoldi iteration step 6: normres = 0.22504187332431128\n",
      "[ Info: Arnoldi schursolve in iter 1, krylovdim = 6: 0 values converged, normres = (1.29e-02, 1.64e-01, 8.82e-02, 8.99e-02, 4.45e-02)\n",
      "[ Info: Arnoldi iteration step 7: normres = 0.1098962723713693\n",
      "[ Info: Arnoldi schursolve in iter 1, krylovdim = 7: 0 values converged, normres = (6.96e-04, 1.61e-02, 6.93e-03, 8.07e-02, 6.38e-02)\n",
      "[ Info: Arnoldi iteration step 8: normres = 0.109173911894034\n",
      "[ Info: Arnoldi schursolve in iter 1, krylovdim = 8: 0 values converged, normres = (3.33e-05, 1.28e-03, 6.16e-04, 3.09e-02, 4.22e-02)\n",
      "[ Info: Arnoldi iteration step 9: normres = 0.0906444691391308\n",
      "[ Info: Arnoldi schursolve in iter 1, krylovdim = 9: 0 values converged, normres = (1.30e-06, 8.31e-05, 4.43e-05, 9.89e-03, 3.06e-02)\n",
      "[ Info: Arnoldi iteration step 10: normres = 0.06889859281352721\n",
      "[ Info: Arnoldi schursolve in iter 1, krylovdim = 10: 0 values converged, normres = (3.97e-08, 4.22e-06, 2.51e-06, 2.76e-03, 2.29e-02)\n",
      "[ Info: Arnoldi iteration step 11: normres = 0.06400969005966953\n",
      "[ Info: Arnoldi schursolve in iter 1, krylovdim = 11: 0 values converged, normres = (1.07e-09, 1.85e-07, 1.22e-07, 4.90e-04, 7.56e-03)\n",
      "[ Info: Arnoldi iteration step 12: normres = 0.080488142702825\n",
      "[ Info: Arnoldi schursolve in iter 1, krylovdim = 12: 0 values converged, normres = (3.69e-11, 1.04e-08, 7.56e-09, 1.16e-04, 3.20e-03)\n",
      "[ Info: Arnoldi iteration step 13: normres = 0.06881109335471441\n",
      "[ Info: Arnoldi schursolve in iter 1, krylovdim = 13: 0 values converged, normres = (1.09e-12, 5.01e-10, 4.05e-10, 2.49e-05, 1.43e-03)\n",
      "[ Info: Arnoldi iteration step 14: normres = 0.6400892094758712\n",
      "[ Info: Arnoldi schursolve in iter 1, krylovdim = 14: 1 values converged, normres = (5.15e-13, 7.24e-10, 8.56e-10, 6.38e-01, 1.04e-02)\n",
      "[ Info: Arnoldi iteration step 15: normres = 0.1371948810683728\n",
      "[ Info: Arnoldi schursolve in iter 1, krylovdim = 15: 1 values converged, normres = (4.10e-14, 5.36e-10, 7.02e-02, 5.21e-04, 6.67e-06)\n",
      "[ Info: Arnoldi iteration step 16: normres = 0.31557023057443206\n",
      "[ Info: Arnoldi schursolve in iter 1, krylovdim = 16: 1 values converged, normres = (1.21e-14, 2.06e-09, 1.40e-01, 2.16e-03, 2.82e-01)\n",
      "[ Info: Arnoldi iteration step 17: normres = 0.03174176968145613\n",
      "[ Info: Arnoldi schursolve in iter 1, krylovdim = 17: 1 values converged, normres = (1.72e-16, 2.55e-03, 3.43e-03, 3.76e-07, 5.92e-03)\n",
      "[ Info: Arnoldi iteration step 18: normres = 0.020530459523757545\n",
      "[ Info: Arnoldi schursolve in iter 1, krylovdim = 18: 1 values converged, normres = (1.46e-18, 3.10e-05, 4.87e-05, 7.58e-05, 4.45e-05)\n",
      "[ Info: Arnoldi iteration step 19: normres = 0.11655054326542438\n",
      "[ Info: Arnoldi schursolve in iter 1, krylovdim = 19: 1 values converged, normres = (7.11e-20, 2.47e-08, 4.55e-06, 4.90e-08, 7.64e-06)\n",
      "[ Info: Arnoldi iteration step 20: normres = 0.11587467688172959\n",
      "[ Info: Arnoldi schursolve in iter 1, krylovdim = 20: 1 values converged, normres = (4.02e-21, 4.49e-07, 1.13e-07, 3.42e-08, 8.87e-07)\n",
      "[ Info: Arnoldi iteration step 21: normres = 0.023649074515587454\n",
      "[ Info: Arnoldi schursolve in iter 1, krylovdim = 21: 1 values converged, normres = (4.00e-23, 2.78e-09, 6.91e-09, 5.07e-09, 1.50e-08)\n",
      "[ Info: Arnoldi iteration step 22: normres = 0.02197741455521141\n",
      "[ Info: Arnoldi schursolve in iter 1, krylovdim = 22: 1 values converged, normres = (3.61e-25, 7.27e-11, 7.85e-11, 6.83e-11, 2.40e-10)\n",
      "[ Info: Arnoldi iteration step 23: normres = 0.7126803357706325\n",
      "[ Info: Arnoldi schursolve in iter 1, krylovdim = 23: 1 values converged, normres = (1.59e-25, 7.37e-11, 7.84e-11, 8.76e-11, 3.00e-10)\n",
      "[ Info: Arnoldi iteration step 24: normres = 0.017601479743011933\n",
      "[ Info: Arnoldi schursolve in iter 1, krylovdim = 24: 1 values converged, normres = (1.77e-27, 4.26e-12, 4.57e-12, 1.60e-03, 1.28e-03)\n",
      "[ Info: Arnoldi iteration step 25: normres = 0.04148492305999263\n",
      "[ Info: Arnoldi schursolve in iter 1, krylovdim = 25: 3 values converged, normres = (3.01e-29, 1.15e-13, 1.24e-13, 9.23e-05, 5.37e-05)\n",
      "[ Info: Arnoldi iteration step 26: normres = 0.07682773990714953\n",
      "[ Info: Arnoldi schursolve in iter 1, krylovdim = 26: 3 values converged, normres = (1.04e-30, 6.75e-15, 7.24e-15, 1.21e-09, 5.06e-09)\n",
      "[ Info: Arnoldi iteration step 27: normres = 0.018217229209049723\n",
      "[ Info: Arnoldi schursolve in iter 1, krylovdim = 27: 3 values converged, normres = (7.85e-33, 8.16e-17, 8.75e-17, 1.65e-09, 7.73e-09)\n",
      "[ Info: Arnoldi iteration step 28: normres = 0.07154745524351838\n",
      "[ Info: Arnoldi schursolve in iter 1, krylovdim = 28: 3 values converged, normres = (2.34e-34, 3.90e-18, 4.18e-18, 1.05e-09, 8.70e-09)\n",
      "[ Info: Arnoldi iteration step 29: normres = 0.0440770480835766\n",
      "[ Info: Arnoldi schursolve in iter 1, krylovdim = 29: 3 values converged, normres = (4.50e-36, 1.24e-19, 1.33e-19, 5.14e-10, 1.76e-10)\n",
      "[ Info: Arnoldi iteration step 30: normres = 0.19363702006008843\n",
      "[ Info: Arnoldi schursolve in iter 1, krylovdim = 30: 3 values converged, normres = (3.91e-37, 1.82e-20, 1.95e-20, 2.81e-11, 8.48e-11)\n",
      "[ Info: Arnoldi schursolve in iter 2, krylovdim = 19: 3 values converged, normres = (3.91e-37, 1.82e-20, 1.95e-20, 8.48e-11, 2.81e-11)\n",
      "[ Info: Arnoldi iteration step 20: normres = 0.12201361864500682\n",
      "[ Info: Arnoldi schursolve in iter 2, krylovdim = 20: 3 values converged, normres = (2.20e-38, 1.77e-21, 1.90e-21, 3.07e-12, 9.32e-12)\n",
      "[ Info: Arnoldi iteration step 21: normres = 0.03964867280865047\n",
      "┌ Info: Arnoldi eigsolve finished after 2 iterations:\n",
      "│ *  6 eigenvalues converged\n",
      "│ *  norm of residuals = (3.805843644239245e-40, 5.097815348270243e-23, 5.741799160156468e-23, 1.1938364419771731e-13, 1.1938364419771731e-13, 7.930285525748642e-14)\n",
      "└ *  number of operations = 32\n"
     ]
    }
   ],
   "cell_type": "code",
   "source": [
    "eigsolve(eps_fun, randn(size(scfres.ρ)), 5, :LM; eager=true, verbosity=3);"
   ],
   "metadata": {},
   "execution_count": 3
  }
 ],
 "nbformat_minor": 3,
 "metadata": {
  "language_info": {
   "file_extension": ".jl",
   "mimetype": "application/julia",
   "name": "julia",
   "version": "1.9.3"
  },
  "kernelspec": {
   "name": "julia-1.9",
   "display_name": "Julia 1.9.3",
   "language": "julia"
  }
 },
 "nbformat": 4
}
