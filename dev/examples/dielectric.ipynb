{
 "cells": [
  {
   "cell_type": "markdown",
   "source": [
    "# Eigenvalues of the dielectric matrix\n",
    "\n",
    "We compute a few eigenvalues of the dielectric matrix ($q=0$, $ω=0$) iteratively."
   ],
   "metadata": {}
  },
  {
   "outputs": [
    {
     "name": "stdout",
     "output_type": "stream",
     "text": [
      "n     Energy            log10(ΔE)   log10(Δρ)   Diag   Δtime\n",
      "---   ---------------   ---------   ---------   ----   ------\n",
      "  1   -7.233166752156                   -0.50    7.0         \n",
      "  2   -7.249913618418       -1.78       -1.40    1.0   8.92ms\n",
      "  3   -7.251274113817       -2.87       -2.06    2.0   11.2ms\n",
      "  4   -7.251313613496       -4.40       -2.42    2.0   11.5ms\n",
      "  5   -7.251318016465       -5.36       -2.50    1.0   9.40ms\n",
      "  6   -7.251337715766       -4.71       -3.11    1.0   9.41ms\n",
      "  7   -7.251338741179       -5.99       -3.87    1.0   9.50ms\n",
      "  8   -7.251338785864       -7.35       -3.96    3.0   13.4ms\n",
      "  9   -7.251338795531       -8.01       -4.29    1.0   9.78ms\n",
      " 10   -7.251338797940       -8.62       -4.68    2.0   11.1ms\n",
      " 11   -7.251338798630       -9.16       -5.16    2.0   11.8ms\n",
      " 12   -7.251338798690      -10.22       -5.37    2.0   12.0ms\n",
      " 13   -7.251338798700      -11.01       -5.66    1.0   9.65ms\n",
      " 14   -7.251338798704      -11.31       -6.58    2.0   11.5ms\n",
      " 15   -7.251338798705      -12.96       -6.96    2.0   11.8ms\n",
      " 16   -7.251338798705      -13.85       -7.45    1.0   9.61ms\n",
      " 17   -7.251338798705   +  -14.75       -7.65    3.0   13.1ms\n",
      " 18   -7.251338798705   +    -Inf       -7.98    1.0   9.82ms\n",
      " 19   -7.251338798705      -15.05       -8.51    2.0   12.3ms\n"
     ]
    }
   ],
   "cell_type": "code",
   "source": [
    "using DFTK\n",
    "using Plots\n",
    "using KrylovKit\n",
    "using Printf\n",
    "\n",
    "# Calculation parameters\n",
    "kgrid = [1, 1, 1]\n",
    "Ecut = 5\n",
    "\n",
    "# Silicon lattice\n",
    "a = 10.26\n",
    "lattice = a / 2 .* [[0 1 1.]; [1 0 1.]; [1 1 0.]]\n",
    "Si = ElementPsp(:Si, psp=load_psp(\"hgh/lda/Si-q4\"))\n",
    "atoms     = [Si, Si]\n",
    "positions = [ones(3)/8, -ones(3)/8]\n",
    "\n",
    "# Compute the dielectric operator without symmetries\n",
    "model  = model_LDA(lattice, atoms, positions, symmetries=false)\n",
    "basis  = PlaneWaveBasis(model; Ecut, kgrid)\n",
    "scfres = self_consistent_field(basis, tol=1e-8);"
   ],
   "metadata": {},
   "execution_count": 1
  },
  {
   "cell_type": "markdown",
   "source": [
    "Applying $ε^† ≔ (1- χ_0 K)$ …"
   ],
   "metadata": {}
  },
  {
   "outputs": [],
   "cell_type": "code",
   "source": [
    "function eps_fun(δρ)\n",
    "    δV = apply_kernel(basis, δρ; ρ=scfres.ρ)\n",
    "    χ0δV = apply_χ0(scfres, δV)\n",
    "    δρ - χ0δV\n",
    "end;"
   ],
   "metadata": {},
   "execution_count": 2
  },
  {
   "cell_type": "markdown",
   "source": [
    "… eagerly diagonalizes the subspace matrix at each iteration"
   ],
   "metadata": {}
  },
  {
   "outputs": [
    {
     "name": "stdout",
     "output_type": "stream",
     "text": [
      "[ Info: Arnoldi iteration step 1: normres = 0.07355208407160295\n",
      "[ Info: Arnoldi iteration step 2: normres = 0.7218509837991405\n",
      "[ Info: Arnoldi iteration step 3: normres = 0.6569179871994588\n",
      "[ Info: Arnoldi iteration step 4: normres = 0.28831175510625545\n",
      "[ Info: Arnoldi iteration step 5: normres = 0.3560003951709746\n",
      "[ Info: Arnoldi schursolve in iter 1, krylovdim = 5: 0 values converged, normres = (1.52e-02, 6.53e-02, 2.16e-01, 2.75e-01, 1.46e-02)\n",
      "[ Info: Arnoldi iteration step 6: normres = 0.38098169006103466\n",
      "[ Info: Arnoldi schursolve in iter 1, krylovdim = 6: 0 values converged, normres = (4.84e-03, 1.01e-01, 3.40e-01, 7.22e-02, 1.05e-01)\n",
      "[ Info: Arnoldi iteration step 7: normres = 0.06085539944081118\n",
      "[ Info: Arnoldi schursolve in iter 1, krylovdim = 7: 0 values converged, normres = (1.48e-04, 8.50e-03, 1.69e-02, 1.74e-02, 4.75e-02)\n",
      "[ Info: Arnoldi iteration step 8: normres = 0.11112590823705876\n",
      "[ Info: Arnoldi schursolve in iter 1, krylovdim = 8: 0 values converged, normres = (6.93e-06, 6.44e-04, 1.42e-03, 5.24e-03, 3.06e-02)\n",
      "[ Info: Arnoldi iteration step 9: normres = 0.046243759169929524\n",
      "[ Info: Arnoldi schursolve in iter 1, krylovdim = 9: 0 values converged, normres = (1.38e-07, 2.12e-05, 5.18e-05, 8.10e-04, 1.58e-02)\n",
      "[ Info: Arnoldi iteration step 10: normres = 0.09415745286042744\n",
      "[ Info: Arnoldi schursolve in iter 1, krylovdim = 10: 0 values converged, normres = (5.59e-09, 1.40e-06, 3.80e-06, 2.32e-04, 1.30e-02)\n",
      "[ Info: Arnoldi iteration step 11: normres = 0.09738833096374042\n",
      "[ Info: Arnoldi schursolve in iter 1, krylovdim = 11: 0 values converged, normres = (2.35e-10, 9.69e-08, 2.92e-07, 7.48e-05, 1.65e-02)\n",
      "[ Info: Arnoldi iteration step 12: normres = 0.09029913854654553\n",
      "[ Info: Arnoldi schursolve in iter 1, krylovdim = 12: 0 values converged, normres = (9.44e-12, 6.54e-09, 2.20e-08, 2.98e-05, 5.74e-02)\n",
      "[ Info: Arnoldi iteration step 13: normres = 0.042443256327129815\n",
      "[ Info: Arnoldi schursolve in iter 1, krylovdim = 13: 1 values converged, normres = (1.71e-13, 1.94e-10, 7.23e-10, 4.05e-06, 1.36e-02)\n",
      "[ Info: Arnoldi iteration step 14: normres = 0.6330646141675127\n",
      "[ Info: Arnoldi schursolve in iter 1, krylovdim = 14: 1 values converged, normres = (5.32e-14, 1.09e-10, 4.62e-10, 6.33e-05, 6.02e-01)\n",
      "[ Info: Arnoldi iteration step 15: normres = 0.04758878341340289\n",
      "[ Info: Arnoldi schursolve in iter 1, krylovdim = 15: 1 values converged, normres = (2.03e-15, 2.74e-11, 1.75e-08, 4.04e-02, 5.59e-05)\n",
      "[ Info: Arnoldi iteration step 16: normres = 0.21923940811708417\n",
      "[ Info: Arnoldi schursolve in iter 1, krylovdim = 16: 1 values converged, normres = (1.88e-16, 4.15e-12, 6.70e-03, 1.33e-05, 4.72e-08)\n",
      "[ Info: Arnoldi iteration step 17: normres = 0.19910723939403616\n",
      "[ Info: Arnoldi schursolve in iter 1, krylovdim = 17: 1 values converged, normres = (3.98e-17, 3.67e-11, 1.96e-01, 4.19e-03, 1.13e-02)\n",
      "[ Info: Arnoldi iteration step 18: normres = 0.014374720341362014\n",
      "[ Info: Arnoldi schursolve in iter 1, krylovdim = 18: 1 values converged, normres = (2.41e-19, 9.96e-05, 1.86e-03, 8.94e-07, 9.86e-05)\n",
      "[ Info: Arnoldi iteration step 19: normres = 0.176059139529367\n",
      "[ Info: Arnoldi schursolve in iter 1, krylovdim = 19: 1 values converged, normres = (1.81e-20, 1.70e-09, 2.28e-04, 1.11e-05, 6.95e-06)\n",
      "[ Info: Arnoldi iteration step 20: normres = 0.03369557128001711\n",
      "[ Info: Arnoldi schursolve in iter 1, krylovdim = 20: 1 values converged, normres = (2.93e-22, 5.96e-06, 2.83e-06, 3.35e-08, 4.31e-07)\n",
      "[ Info: Arnoldi iteration step 21: normres = 0.01367424617445114\n",
      "[ Info: Arnoldi schursolve in iter 1, krylovdim = 21: 1 values converged, normres = (1.65e-24, 1.19e-10, 5.90e-08, 4.10e-09, 1.14e-09)\n",
      "[ Info: Arnoldi iteration step 22: normres = 0.17314439162117332\n",
      "[ Info: Arnoldi schursolve in iter 1, krylovdim = 22: 1 values converged, normres = (1.17e-25, 5.08e-11, 6.70e-09, 5.08e-10, 1.59e-10)\n",
      "[ Info: Arnoldi iteration step 23: normres = 0.16730374581860227\n",
      "[ Info: Arnoldi schursolve in iter 1, krylovdim = 23: 1 values converged, normres = (1.93e-26, 5.44e-11, 7.15e-09, 5.05e-09, 2.46e-09)\n",
      "[ Info: Arnoldi iteration step 24: normres = 0.035327120480451966\n",
      "[ Info: Arnoldi schursolve in iter 1, krylovdim = 24: 1 values converged, normres = (2.72e-28, 1.35e-12, 1.85e-10, 2.23e-08, 3.60e-09)\n",
      "[ Info: Arnoldi iteration step 25: normres = 0.07022393117263317\n",
      "[ Info: Arnoldi schursolve in iter 1, krylovdim = 25: 2 values converged, normres = (8.02e-30, 6.48e-14, 8.85e-12, 6.08e-06, 2.66e-06)\n",
      "[ Info: Arnoldi iteration step 26: normres = 0.07009685022089387\n",
      "[ Info: Arnoldi schursolve in iter 1, krylovdim = 26: 3 values converged, normres = (2.51e-31, 3.41e-15, 4.65e-13, 7.34e-06, 7.74e-07)\n",
      "[ Info: Arnoldi iteration step 27: normres = 0.042201970239206306\n",
      "[ Info: Arnoldi schursolve in iter 1, krylovdim = 27: 3 values converged, normres = (4.40e-33, 9.60e-17, 1.31e-14, 4.17e-09, 1.23e-08)\n",
      "[ Info: Arnoldi iteration step 28: normres = 0.09179341453962575\n",
      "[ Info: Arnoldi schursolve in iter 1, krylovdim = 28: 3 values converged, normres = (1.77e-34, 6.38e-18, 8.71e-16, 2.11e-08, 2.16e-08)\n",
      "[ Info: Arnoldi iteration step 29: normres = 0.14915776315565998\n",
      "[ Info: Arnoldi schursolve in iter 1, krylovdim = 29: 3 values converged, normres = (1.13e-35, 6.73e-19, 9.19e-17, 3.51e-09, 4.72e-10)\n",
      "[ Info: Arnoldi iteration step 30: normres = 0.036370915167628734\n",
      "[ Info: Arnoldi schursolve in iter 1, krylovdim = 30: 3 values converged, normres = (2.01e-37, 2.14e-20, 2.91e-18, 1.29e-10, 2.22e-12)\n",
      "[ Info: Arnoldi schursolve in iter 2, krylovdim = 19: 3 values converged, normres = (2.04e-37, 2.13e-20, 2.91e-18, 1.29e-10, 2.22e-12)\n",
      "[ Info: Arnoldi iteration step 20: normres = 0.04177940534060552\n",
      "[ Info: Arnoldi schursolve in iter 2, krylovdim = 20: 3 values converged, normres = (3.45e-39, 5.86e-22, 8.00e-20, 3.89e-12, 3.92e-14)\n",
      "[ Info: Arnoldi iteration step 21: normres = 0.06644963926627058\n",
      "┌ Info: Arnoldi eigsolve finished after 2 iterations:\n",
      "│ *  6 eigenvalues converged\n",
      "│ *  norm of residuals = (9.83663756393264e-41, 2.730600290353214e-23, 3.710870824762889e-21, 2.0075851381908713e-13, 1.165450568747806e-13, 5.218773976770302e-14)\n",
      "└ *  number of operations = 32\n"
     ]
    }
   ],
   "cell_type": "code",
   "source": [
    "eigsolve(eps_fun, randn(size(scfres.ρ)), 5, :LM; eager=true, verbosity=3);"
   ],
   "metadata": {},
   "execution_count": 3
  }
 ],
 "nbformat_minor": 3,
 "metadata": {
  "language_info": {
   "file_extension": ".jl",
   "mimetype": "application/julia",
   "name": "julia",
   "version": "1.9.3"
  },
  "kernelspec": {
   "name": "julia-1.9",
   "display_name": "Julia 1.9.3",
   "language": "julia"
  }
 },
 "nbformat": 4
}
