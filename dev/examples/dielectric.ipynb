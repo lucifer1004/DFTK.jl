{
 "cells": [
  {
   "cell_type": "markdown",
   "source": [
    "# Eigenvalues of the dielectric matrix\n",
    "\n",
    "We compute a few eigenvalues of the dielectric matrix ($q=0$, $ω=0$) iteratively."
   ],
   "metadata": {}
  },
  {
   "outputs": [
    {
     "name": "stdout",
     "output_type": "stream",
     "text": [
      "n     Energy            log10(ΔE)   log10(Δρ)   Diag   Δtime\n",
      "---   ---------------   ---------   ---------   ----   ------\n",
      "  1   -7.234801602849                   -0.50    8.0         \n",
      "  2   -7.250207418338       -1.81       -1.39    1.0   5.23ms\n",
      "  3   -7.251022936122       -3.09       -1.97    1.0   5.16ms\n",
      "  4   -7.251202187525       -3.75       -2.00    3.0   7.15ms\n",
      "  5   -7.251330877985       -3.89       -2.63    1.0   5.18ms\n",
      "  6   -7.251332639931       -5.75       -2.76    1.0   5.30ms\n",
      "  7   -7.251338661500       -5.22       -3.58    1.0   5.34ms\n",
      "  8   -7.251338785018       -6.91       -3.98    2.0   6.66ms\n",
      "  9   -7.251338797324       -7.91       -4.57    1.0   5.55ms\n",
      " 10   -7.251338798274       -9.02       -4.79    2.0   6.56ms\n",
      " 11   -7.251338798652       -9.42       -5.30    1.0   5.63ms\n",
      " 12   -7.251338798699      -10.33       -5.72    2.0   6.68ms\n",
      " 13   -7.251338798704      -11.30       -6.23    2.0   6.82ms\n",
      " 14   -7.251338798704      -12.40       -6.78    2.0   6.64ms\n",
      " 15   -7.251338798705      -13.27       -7.19    2.0   6.81ms\n",
      " 16   -7.251338798705      -14.35       -7.75    2.0   7.02ms\n",
      " 17   -7.251338798705      -15.05       -8.20    2.0   6.65ms\n"
     ]
    }
   ],
   "cell_type": "code",
   "source": [
    "using DFTK\n",
    "using Plots\n",
    "using KrylovKit\n",
    "using Printf\n",
    "\n",
    "# Calculation parameters\n",
    "kgrid = [1, 1, 1]\n",
    "Ecut = 5\n",
    "\n",
    "# Silicon lattice\n",
    "a = 10.26\n",
    "lattice = a / 2 .* [[0 1 1.]; [1 0 1.]; [1 1 0.]]\n",
    "Si = ElementPsp(:Si, psp=load_psp(\"hgh/lda/Si-q4\"))\n",
    "atoms     = [Si, Si]\n",
    "positions = [ones(3)/8, -ones(3)/8]\n",
    "\n",
    "# Compute the dielectric operator without symmetries\n",
    "model  = model_LDA(lattice, atoms, positions, symmetries=false)\n",
    "basis  = PlaneWaveBasis(model; Ecut, kgrid)\n",
    "scfres = self_consistent_field(basis, tol=1e-8);"
   ],
   "metadata": {},
   "execution_count": 1
  },
  {
   "cell_type": "markdown",
   "source": [
    "Applying $ε^† ≔ (1- χ_0 K)$ …"
   ],
   "metadata": {}
  },
  {
   "outputs": [],
   "cell_type": "code",
   "source": [
    "function eps_fun(δρ)\n",
    "    δV = apply_kernel(basis, δρ; ρ=scfres.ρ)\n",
    "    χ0δV = apply_χ0(scfres, δV)\n",
    "    δρ - χ0δV\n",
    "end;"
   ],
   "metadata": {},
   "execution_count": 2
  },
  {
   "cell_type": "markdown",
   "source": [
    "… eagerly diagonalizes the subspace matrix at each iteration"
   ],
   "metadata": {}
  },
  {
   "outputs": [
    {
     "name": "stdout",
     "output_type": "stream",
     "text": [
      "[ Info: Arnoldi iteration step 1: normres = 0.036230747305766864\n",
      "[ Info: Arnoldi iteration step 2: normres = 0.7386453982863651\n",
      "[ Info: Arnoldi iteration step 3: normres = 0.6362371474177683\n",
      "[ Info: Arnoldi iteration step 4: normres = 0.5968843015304178\n",
      "[ Info: Arnoldi iteration step 5: normres = 0.10966578788469114\n",
      "[ Info: Arnoldi schursolve in iter 1, krylovdim = 5: 0 values converged, normres = (2.07e-02, 3.45e-02, 5.12e-02, 7.96e-02, 3.82e-02)\n",
      "[ Info: Arnoldi iteration step 6: normres = 0.24874117102717158\n",
      "[ Info: Arnoldi schursolve in iter 1, krylovdim = 6: 0 values converged, normres = (2.33e-03, 6.61e-03, 6.26e-02, 2.16e-01, 2.52e-02)\n",
      "[ Info: Arnoldi iteration step 7: normres = 0.40323571148462\n",
      "[ Info: Arnoldi schursolve in iter 1, krylovdim = 7: 0 values converged, normres = (7.74e-04, 9.25e-03, 3.90e-01, 2.60e-02, 8.63e-02)\n",
      "[ Info: Arnoldi iteration step 8: normres = 0.111873477258059\n",
      "[ Info: Arnoldi schursolve in iter 1, krylovdim = 8: 0 values converged, normres = (4.27e-05, 1.46e-03, 3.72e-02, 8.46e-03, 6.03e-02)\n",
      "[ Info: Arnoldi iteration step 9: normres = 0.07771129866018749\n",
      "[ Info: Arnoldi schursolve in iter 1, krylovdim = 9: 0 values converged, normres = (1.43e-06, 8.09e-05, 2.27e-03, 2.19e-03, 3.00e-02)\n",
      "[ Info: Arnoldi iteration step 10: normres = 0.09715916850193358\n",
      "[ Info: Arnoldi schursolve in iter 1, krylovdim = 10: 0 values converged, normres = (6.10e-08, 5.76e-06, 1.80e-04, 8.23e-04, 2.70e-02)\n",
      "[ Info: Arnoldi iteration step 11: normres = 0.05069628143932212\n",
      "[ Info: Arnoldi schursolve in iter 1, krylovdim = 11: 0 values converged, normres = (1.33e-09, 2.05e-07, 7.12e-06, 1.34e-04, 1.04e-02)\n",
      "[ Info: Arnoldi iteration step 12: normres = 0.0822372227384275\n",
      "[ Info: Arnoldi schursolve in iter 1, krylovdim = 12: 0 values converged, normres = (4.60e-11, 1.15e-08, 4.42e-07, 2.99e-05, 3.93e-03)\n",
      "[ Info: Arnoldi iteration step 13: normres = 0.04059063590824546\n",
      "[ Info: Arnoldi schursolve in iter 1, krylovdim = 13: 1 values converged, normres = (8.15e-13, 3.38e-10, 1.44e-08, 4.29e-06, 1.28e-03)\n",
      "[ Info: Arnoldi iteration step 14: normres = 0.5026987757944742\n",
      "[ Info: Arnoldi schursolve in iter 1, krylovdim = 14: 1 values converged, normres = (1.84e-13, 1.29e-10, 6.13e-09, 9.35e-06, 8.20e-03)\n",
      "[ Info: Arnoldi iteration step 15: normres = 0.0791017075897542\n",
      "[ Info: Arnoldi schursolve in iter 1, krylovdim = 15: 1 values converged, normres = (1.47e-14, 3.60e-09, 7.36e-02, 1.83e-03, 3.23e-05)\n",
      "[ Info: Arnoldi iteration step 16: normres = 0.07749301244868145\n",
      "[ Info: Arnoldi schursolve in iter 1, krylovdim = 16: 1 values converged, normres = (4.75e-16, 4.01e-09, 3.81e-03, 2.93e-06, 5.87e-08)\n",
      "[ Info: Arnoldi iteration step 17: normres = 0.41504311967388463\n",
      "[ Info: Arnoldi schursolve in iter 1, krylovdim = 17: 1 values converged, normres = (1.66e-16, 1.03e-03, 5.61e-03, 1.11e-05, 4.11e-01)\n",
      "[ Info: Arnoldi iteration step 18: normres = 0.016456802339589648\n",
      "[ Info: Arnoldi schursolve in iter 1, krylovdim = 18: 1 values converged, normres = (1.27e-18, 1.22e-04, 9.02e-06, 7.03e-09, 5.16e-03)\n",
      "[ Info: Arnoldi iteration step 19: normres = 0.1876149623069565\n",
      "[ Info: Arnoldi schursolve in iter 1, krylovdim = 19: 1 values converged, normres = (1.03e-19, 9.35e-09, 1.62e-05, 7.26e-04, 2.20e-04)\n",
      "[ Info: Arnoldi iteration step 20: normres = 0.039923777808203095\n",
      "[ Info: Arnoldi schursolve in iter 1, krylovdim = 20: 1 values converged, normres = (1.96e-21, 2.84e-07, 4.68e-07, 6.24e-09, 2.92e-05)\n",
      "[ Info: Arnoldi iteration step 21: normres = 0.031918733762044536\n",
      "[ Info: Arnoldi schursolve in iter 1, krylovdim = 21: 1 values converged, normres = (2.59e-23, 6.33e-10, 1.16e-08, 3.27e-07, 5.98e-07)\n",
      "[ Info: Arnoldi iteration step 22: normres = 0.023171992919931026\n",
      "[ Info: Arnoldi schursolve in iter 1, krylovdim = 22: 1 values converged, normres = (2.49e-25, 1.03e-11, 1.79e-10, 1.04e-08, 5.17e-09)\n",
      "[ Info: Arnoldi iteration step 23: normres = 0.022340317529216613\n",
      "[ Info: Arnoldi schursolve in iter 1, krylovdim = 23: 2 values converged, normres = (2.28e-27, 1.50e-13, 2.61e-12, 1.85e-10, 1.06e-11)\n",
      "[ Info: Arnoldi iteration step 24: normres = 0.709626184068885\n",
      "[ Info: Arnoldi schursolve in iter 1, krylovdim = 24: 2 values converged, normres = (1.04e-27, 1.64e-13, 2.86e-12, 2.60e-10, 1.23e-11)\n",
      "[ Info: Arnoldi iteration step 25: normres = 0.023247937736465843\n",
      "[ Info: Arnoldi schursolve in iter 1, krylovdim = 25: 3 values converged, normres = (1.47e-29, 1.15e-14, 2.00e-13, 1.47e-08, 1.09e-08)\n",
      "[ Info: Arnoldi iteration step 26: normres = 0.04607112374851214\n",
      "[ Info: Arnoldi schursolve in iter 1, krylovdim = 26: 3 values converged, normres = (2.79e-31, 3.47e-16, 6.04e-15, 6.58e-09, 5.91e-10)\n",
      "[ Info: Arnoldi iteration step 27: normres = 0.07328185815961173\n",
      "[ Info: Arnoldi schursolve in iter 1, krylovdim = 27: 3 values converged, normres = (9.17e-33, 1.93e-17, 3.35e-16, 2.77e-05, 6.46e-06)\n",
      "[ Info: Arnoldi iteration step 28: normres = 0.056299124305979525\n",
      "[ Info: Arnoldi schursolve in iter 1, krylovdim = 28: 3 values converged, normres = (2.15e-34, 7.25e-19, 1.26e-17, 4.80e-07, 2.66e-07)\n",
      "[ Info: Arnoldi iteration step 29: normres = 0.12820255874496048\n",
      "[ Info: Arnoldi schursolve in iter 1, krylovdim = 29: 3 values converged, normres = (1.33e-35, 7.99e-20, 1.39e-18, 3.71e-09, 1.54e-09)\n",
      "[ Info: Arnoldi iteration step 30: normres = 0.11148710301829694\n",
      "[ Info: Arnoldi schursolve in iter 1, krylovdim = 30: 3 values converged, normres = (6.51e-37, 6.52e-21, 1.14e-19, 6.69e-09, 1.14e-08)\n",
      "[ Info: Arnoldi schursolve in iter 2, krylovdim = 19: 3 values converged, normres = (6.51e-37, 6.52e-21, 1.14e-19, 6.69e-09, 1.14e-08)\n",
      "[ Info: Arnoldi iteration step 20: normres = 0.037184829675497015\n",
      "[ Info: Arnoldi schursolve in iter 2, krylovdim = 20: 3 values converged, normres = (1.04e-38, 1.71e-22, 2.98e-21, 2.49e-10, 3.21e-10)\n",
      "[ Info: Arnoldi iteration step 21: normres = 0.07814459060338189\n",
      "[ Info: Arnoldi schursolve in iter 2, krylovdim = 21: 3 values converged, normres = (3.44e-40, 9.19e-24, 1.60e-22, 1.47e-11, 1.91e-11)\n",
      "[ Info: Arnoldi iteration step 22: normres = 0.022971319473838563\n",
      "┌ Info: Arnoldi eigsolve finished after 2 iterations:\n",
      "│ *  6 eigenvalues converged\n",
      "│ *  norm of residuals = (3.354605372455808e-42, 1.4579894414998555e-25, 2.53546710103602e-24, 2.5981735548144e-13, 4.196148846760569e-13, 1.85259493109628e-14)\n",
      "└ *  number of operations = 33\n"
     ]
    }
   ],
   "cell_type": "code",
   "source": [
    "eigsolve(eps_fun, randn(size(scfres.ρ)), 5, :LM; eager=true, verbosity=3);"
   ],
   "metadata": {},
   "execution_count": 3
  }
 ],
 "nbformat_minor": 3,
 "metadata": {
  "language_info": {
   "file_extension": ".jl",
   "mimetype": "application/julia",
   "name": "julia",
   "version": "1.9.4"
  },
  "kernelspec": {
   "name": "julia-1.9",
   "display_name": "Julia 1.9.4",
   "language": "julia"
  }
 },
 "nbformat": 4
}
