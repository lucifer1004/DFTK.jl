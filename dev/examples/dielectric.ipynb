{
 "cells": [
  {
   "cell_type": "markdown",
   "source": [
    "# Eigenvalues of the dielectric matrix\n",
    "\n",
    "We compute a few eigenvalues of the dielectric matrix ($q=0$, $ω=0$) iteratively."
   ],
   "metadata": {}
  },
  {
   "outputs": [
    {
     "name": "stdout",
     "output_type": "stream",
     "text": [
      "n     Energy            log10(ΔE)   log10(Δρ)   Diag   Δtime\n",
      "---   ---------------   ---------   ---------   ----   ------\n",
      "  1   -7.234287892525                   -0.50    8.0         \n",
      "  2   -7.250158332078       -1.80       -1.40    1.0   7.18ms\n",
      "  3   -7.250838124829       -3.17       -1.86    1.0   7.99ms\n",
      "  4   -7.250897939341       -4.22       -1.84    2.0   8.65ms\n",
      "  5   -7.251334934776       -3.36       -2.77    1.0   7.76ms\n",
      "  6   -7.251337994932       -5.51       -3.09    2.0   8.77ms\n",
      "  7   -7.251338738284       -6.13       -3.68    2.0   8.53ms\n",
      "  8   -7.251338781352       -7.37       -3.94    2.0   8.91ms\n",
      "  9   -7.251338797330       -7.80       -4.36    2.0   8.98ms\n",
      " 10   -7.251338798446       -8.95       -4.87    1.0   7.94ms\n",
      " 11   -7.251338798677       -9.64       -5.37    2.0   9.08ms\n",
      " 12   -7.251338798695      -10.72       -5.52    3.0   10.5ms\n",
      " 13   -7.251338798703      -11.11       -6.03    1.0   7.58ms\n",
      " 14   -7.251338798704      -11.99       -6.57    2.0   8.82ms\n",
      " 15   -7.251338798704      -12.95       -6.51    3.0   10.3ms\n",
      " 16   -7.251338798705      -13.16       -6.97    1.0   7.65ms\n",
      " 17   -7.251338798705      -13.71       -7.55    2.0   8.98ms\n",
      " 18   -7.251338798705      -14.57       -8.25    1.0   7.60ms\n"
     ]
    }
   ],
   "cell_type": "code",
   "source": [
    "using DFTK\n",
    "using Plots\n",
    "using KrylovKit\n",
    "using Printf\n",
    "\n",
    "# Calculation parameters\n",
    "kgrid = [1, 1, 1]\n",
    "Ecut = 5\n",
    "\n",
    "# Silicon lattice\n",
    "a = 10.26\n",
    "lattice = a / 2 .* [[0 1 1.]; [1 0 1.]; [1 1 0.]]\n",
    "Si = ElementPsp(:Si, psp=load_psp(\"hgh/lda/Si-q4\"))\n",
    "atoms     = [Si, Si]\n",
    "positions = [ones(3)/8, -ones(3)/8]\n",
    "\n",
    "# Compute the dielectric operator without symmetries\n",
    "model  = model_LDA(lattice, atoms, positions, symmetries=false)\n",
    "basis  = PlaneWaveBasis(model; Ecut, kgrid)\n",
    "scfres = self_consistent_field(basis, tol=1e-8);"
   ],
   "metadata": {},
   "execution_count": 1
  },
  {
   "cell_type": "markdown",
   "source": [
    "Applying $ε^† ≔ (1- χ_0 K)$ …"
   ],
   "metadata": {}
  },
  {
   "outputs": [],
   "cell_type": "code",
   "source": [
    "function eps_fun(δρ)\n",
    "    δV = apply_kernel(basis, δρ; ρ=scfres.ρ)\n",
    "    χ0δV = apply_χ0(scfres, δV)\n",
    "    δρ - χ0δV\n",
    "end;"
   ],
   "metadata": {},
   "execution_count": 2
  },
  {
   "cell_type": "markdown",
   "source": [
    "… eagerly diagonalizes the subspace matrix at each iteration"
   ],
   "metadata": {}
  },
  {
   "outputs": [
    {
     "name": "stdout",
     "output_type": "stream",
     "text": [
      "[ Info: Arnoldi iteration step 1: normres = 0.03822198370405575\n",
      "[ Info: Arnoldi iteration step 2: normres = 0.4788392730097802\n",
      "[ Info: Arnoldi iteration step 3: normres = 0.3585253271564609\n",
      "[ Info: Arnoldi iteration step 4: normres = 1.0098926774338726\n",
      "[ Info: Arnoldi iteration step 5: normres = 0.34069711513979084\n",
      "[ Info: Arnoldi schursolve in iter 1, krylovdim = 5: 0 values converged, normres = (1.91e-01, 5.26e-02, 2.01e-01, 1.89e-01, 2.05e-02)\n",
      "[ Info: Arnoldi iteration step 6: normres = 0.5364219513777895\n",
      "[ Info: Arnoldi schursolve in iter 1, krylovdim = 6: 0 values converged, normres = (8.62e-02, 1.51e-01, 4.82e-01, 1.13e-01, 9.26e-02)\n",
      "[ Info: Arnoldi iteration step 7: normres = 0.07893693999818666\n",
      "[ Info: Arnoldi schursolve in iter 1, krylovdim = 7: 0 values converged, normres = (3.92e-03, 3.24e-02, 1.33e-02, 3.17e-02, 5.54e-02)\n",
      "[ Info: Arnoldi iteration step 8: normres = 0.09934510001434946\n",
      "[ Info: Arnoldi schursolve in iter 1, krylovdim = 8: 0 values converged, normres = (1.70e-04, 2.31e-03, 1.05e-03, 1.06e-02, 4.57e-02)\n",
      "[ Info: Arnoldi iteration step 9: normres = 0.08321034629739305\n",
      "[ Info: Arnoldi schursolve in iter 1, krylovdim = 9: 0 values converged, normres = (6.02e-06, 1.34e-04, 6.74e-05, 2.75e-03, 2.86e-02)\n",
      "[ Info: Arnoldi iteration step 10: normres = 0.07419621247322537\n",
      "[ Info: Arnoldi schursolve in iter 1, krylovdim = 10: 0 values converged, normres = (2.01e-07, 7.57e-06, 4.26e-06, 9.69e-04, 4.55e-02)\n",
      "[ Info: Arnoldi iteration step 11: normres = 0.10684827462496292\n",
      "[ Info: Arnoldi schursolve in iter 1, krylovdim = 11: 0 values converged, normres = (9.09e-09, 5.57e-07, 3.47e-07, 3.02e-04, 2.54e-02)\n",
      "[ Info: Arnoldi iteration step 12: normres = 0.055985822375971536\n",
      "[ Info: Arnoldi schursolve in iter 1, krylovdim = 12: 0 values converged, normres = (2.21e-10, 2.23e-08, 1.54e-08, 5.76e-05, 1.03e-02)\n",
      "[ Info: Arnoldi iteration step 13: normres = 0.13772488695183552\n",
      "[ Info: Arnoldi schursolve in iter 1, krylovdim = 13: 0 values converged, normres = (1.29e-11, 2.11e-09, 1.62e-09, 2.26e-05, 7.57e-03)\n",
      "[ Info: Arnoldi iteration step 14: normres = 0.3714315301793112\n",
      "[ Info: Arnoldi schursolve in iter 1, krylovdim = 14: 0 values converged, normres = (4.14e-12, 3.24e-09, 5.93e-09, 3.67e-01, 9.88e-04)\n",
      "[ Info: Arnoldi iteration step 15: normres = 0.08080736506372574\n",
      "[ Info: Arnoldi schursolve in iter 1, krylovdim = 15: 1 values converged, normres = (1.52e-13, 3.04e-10, 2.23e-02, 1.61e-03, 3.93e-07)\n",
      "[ Info: Arnoldi iteration step 16: normres = 0.3886949170067493\n",
      "[ Info: Arnoldi schursolve in iter 1, krylovdim = 16: 1 values converged, normres = (5.91e-14, 1.33e-09, 3.58e-01, 7.34e-02, 1.28e-01)\n",
      "[ Info: Arnoldi iteration step 17: normres = 0.03136063010346149\n",
      "[ Info: Arnoldi schursolve in iter 1, krylovdim = 17: 1 values converged, normres = (8.42e-16, 6.60e-09, 8.14e-03, 8.03e-06, 1.45e-03)\n",
      "[ Info: Arnoldi iteration step 18: normres = 0.016800222056809522\n",
      "[ Info: Arnoldi schursolve in iter 1, krylovdim = 18: 1 values converged, normres = (5.86e-18, 4.25e-05, 8.01e-05, 1.14e-07, 1.77e-05)\n",
      "[ Info: Arnoldi iteration step 19: normres = 0.15231457789290548\n",
      "[ Info: Arnoldi schursolve in iter 1, krylovdim = 19: 1 values converged, normres = (3.76e-19, 2.59e-06, 9.06e-06, 6.30e-07, 1.93e-06)\n",
      "[ Info: Arnoldi iteration step 20: normres = 0.04706343491375424\n",
      "[ Info: Arnoldi schursolve in iter 1, krylovdim = 20: 1 values converged, normres = (8.60e-21, 8.97e-09, 3.87e-07, 3.35e-08, 8.93e-08)\n",
      "[ Info: Arnoldi iteration step 21: normres = 0.01825381916289165\n",
      "[ Info: Arnoldi schursolve in iter 1, krylovdim = 21: 1 values converged, normres = (6.44e-23, 1.81e-09, 4.26e-09, 9.63e-10, 8.02e-10)\n",
      "[ Info: Arnoldi iteration step 22: normres = 0.05368751972111718\n",
      "[ Info: Arnoldi schursolve in iter 1, krylovdim = 22: 1 values converged, normres = (1.43e-24, 5.64e-11, 1.53e-10, 3.80e-11, 3.06e-11)\n",
      "[ Info: Arnoldi iteration step 23: normres = 0.644172198299562\n",
      "[ Info: Arnoldi schursolve in iter 1, krylovdim = 23: 1 values converged, normres = (5.63e-25, 5.04e-11, 1.36e-10, 4.19e-11, 3.37e-11)\n",
      "[ Info: Arnoldi iteration step 24: normres = 0.037731471713250135\n",
      "[ Info: Arnoldi schursolve in iter 1, krylovdim = 24: 1 values converged, normres = (1.38e-26, 6.60e-12, 1.79e-11, 6.78e-03, 2.23e-03)\n",
      "[ Info: Arnoldi iteration step 25: normres = 0.08259930605877593\n",
      "[ Info: Arnoldi schursolve in iter 1, krylovdim = 25: 3 values converged, normres = (4.72e-28, 3.61e-13, 9.80e-13, 2.40e-09, 1.85e-09)\n",
      "[ Info: Arnoldi iteration step 26: normres = 0.038614041826885666\n",
      "[ Info: Arnoldi schursolve in iter 1, krylovdim = 26: 3 values converged, normres = (8.20e-30, 1.06e-14, 2.88e-14, 3.35e-05, 2.42e-05)\n",
      "[ Info: Arnoldi iteration step 27: normres = 0.03469292399769318\n",
      "[ Info: Arnoldi schursolve in iter 1, krylovdim = 27: 3 values converged, normres = (1.17e-31, 2.42e-16, 6.56e-16, 5.53e-10, 4.70e-10)\n",
      "[ Info: Arnoldi iteration step 28: normres = 0.08156637156639553\n",
      "[ Info: Arnoldi schursolve in iter 1, krylovdim = 28: 3 values converged, normres = (4.17e-33, 1.43e-17, 3.87e-17, 7.10e-10, 3.13e-09)\n",
      "[ Info: Arnoldi iteration step 29: normres = 0.02179469221641069\n",
      "[ Info: Arnoldi schursolve in iter 1, krylovdim = 29: 3 values converged, normres = (3.81e-35, 2.10e-19, 5.69e-19, 4.66e-11, 1.24e-09)\n",
      "[ Info: Arnoldi iteration step 30: normres = 0.189913208383666\n",
      "[ Info: Arnoldi schursolve in iter 1, krylovdim = 30: 3 values converged, normres = (3.28e-36, 3.07e-20, 8.32e-20, 7.51e-12, 2.04e-10)\n",
      "[ Info: Arnoldi schursolve in iter 2, krylovdim = 19: 3 values converged, normres = (3.28e-36, 3.07e-20, 8.32e-20, 7.51e-12, 2.04e-10)\n",
      "[ Info: Arnoldi iteration step 20: normres = 0.08985618390960932\n",
      "[ Info: Arnoldi schursolve in iter 2, krylovdim = 20: 4 values converged, normres = (1.34e-37, 2.15e-21, 5.83e-21, 5.96e-13, 1.61e-11)\n",
      "[ Info: Arnoldi iteration step 21: normres = 0.039376293205222505\n",
      "┌ Info: Arnoldi eigsolve finished after 2 iterations:\n",
      "│ *  6 eigenvalues converged\n",
      "│ *  norm of residuals = (2.2902312696420195e-39, 6.085524645146031e-23, 1.7535298155862793e-22, 1.876200247251852e-14, 4.885016726389794e-13, 6.077297816131268e-15)\n",
      "└ *  number of operations = 32\n"
     ]
    }
   ],
   "cell_type": "code",
   "source": [
    "eigsolve(eps_fun, randn(size(scfres.ρ)), 5, :LM; eager=true, verbosity=3);"
   ],
   "metadata": {},
   "execution_count": 3
  }
 ],
 "nbformat_minor": 3,
 "metadata": {
  "language_info": {
   "file_extension": ".jl",
   "mimetype": "application/julia",
   "name": "julia",
   "version": "1.9.3"
  },
  "kernelspec": {
   "name": "julia-1.9",
   "display_name": "Julia 1.9.3",
   "language": "julia"
  }
 },
 "nbformat": 4
}
