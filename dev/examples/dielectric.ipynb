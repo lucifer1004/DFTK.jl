{
 "cells": [
  {
   "cell_type": "markdown",
   "source": [
    "# Eigenvalues of the dielectric matrix\n",
    "\n",
    "We compute a few eigenvalues of the dielectric matrix ($q=0$, $ω=0$) iteratively."
   ],
   "metadata": {}
  },
  {
   "outputs": [
    {
     "name": "stdout",
     "output_type": "stream",
     "text": [
      "n     Energy            log10(ΔE)   log10(Δρ)   Diag   Δtime\n",
      "---   ---------------   ---------   ---------   ----   ------\n",
      "  1   -7.234082502138                   -0.50    7.0         \n",
      "  2   -7.250088899267       -1.80       -1.39    1.0   7.54ms\n",
      "  3   -7.251243211937       -2.94       -2.06    2.0   9.29ms\n",
      "  4   -7.251135417058   +   -3.97       -2.00    2.0   9.47ms\n",
      "  5   -7.251330469451       -3.71       -2.71    1.0   7.74ms\n",
      "  6   -7.251338084803       -5.12       -3.14    1.0   7.84ms\n",
      "  7   -7.251338758530       -6.17       -3.86    1.0   7.80ms\n",
      "  8   -7.251338796908       -7.42       -4.29    2.0   9.60ms\n",
      "  9   -7.251338798327       -8.85       -4.90    1.0   7.98ms\n",
      " 10   -7.251338798682       -9.45       -5.33    2.0   10.0ms\n",
      " 11   -7.251338798702      -10.68       -5.84    1.0   8.18ms\n",
      " 12   -7.251338798704      -11.92       -6.05    2.0   9.62ms\n",
      " 13   -7.251338798705      -12.04       -6.85    1.0   8.19ms\n",
      " 14   -7.251338798705      -13.48       -7.41    2.0   9.62ms\n",
      " 15   -7.251338798705      -14.45       -7.88    2.0   9.67ms\n",
      " 16   -7.251338798705   +  -15.05       -8.11    2.0   10.0ms\n"
     ]
    }
   ],
   "cell_type": "code",
   "source": [
    "using DFTK\n",
    "using Plots\n",
    "using KrylovKit\n",
    "using Printf\n",
    "\n",
    "# Calculation parameters\n",
    "kgrid = [1, 1, 1]\n",
    "Ecut = 5\n",
    "\n",
    "# Silicon lattice\n",
    "a = 10.26\n",
    "lattice = a / 2 .* [[0 1 1.]; [1 0 1.]; [1 1 0.]]\n",
    "Si = ElementPsp(:Si, psp=load_psp(\"hgh/lda/Si-q4\"))\n",
    "atoms     = [Si, Si]\n",
    "positions = [ones(3)/8, -ones(3)/8]\n",
    "\n",
    "# Compute the dielectric operator without symmetries\n",
    "model  = model_LDA(lattice, atoms, positions, symmetries=false)\n",
    "basis  = PlaneWaveBasis(model; Ecut, kgrid)\n",
    "scfres = self_consistent_field(basis, tol=1e-8);"
   ],
   "metadata": {},
   "execution_count": 1
  },
  {
   "cell_type": "markdown",
   "source": [
    "Applying $ε^† ≔ (1- χ_0 K)$ …"
   ],
   "metadata": {}
  },
  {
   "outputs": [],
   "cell_type": "code",
   "source": [
    "function eps_fun(δρ)\n",
    "    δV = apply_kernel(basis, δρ; ρ=scfres.ρ)\n",
    "    χ0δV = apply_χ0(scfres, δV)\n",
    "    δρ - χ0δV\n",
    "end;"
   ],
   "metadata": {},
   "execution_count": 2
  },
  {
   "cell_type": "markdown",
   "source": [
    "… eagerly diagonalizes the subspace matrix at each iteration"
   ],
   "metadata": {}
  },
  {
   "outputs": [
    {
     "name": "stdout",
     "output_type": "stream",
     "text": [
      "[ Info: Arnoldi iteration step 1: normres = 0.0764022566735025\n",
      "[ Info: Arnoldi iteration step 2: normres = 0.47338454155598697\n",
      "[ Info: Arnoldi iteration step 3: normres = 0.833142785392378\n",
      "[ Info: Arnoldi iteration step 4: normres = 0.23089473817528008\n",
      "[ Info: Arnoldi iteration step 5: normres = 0.42559030520338154\n",
      "[ Info: Arnoldi schursolve in iter 1, krylovdim = 5: 0 values converged, normres = (1.89e-02, 3.62e-02, 3.43e-01, 2.48e-01, 1.58e-02)\n",
      "[ Info: Arnoldi iteration step 6: normres = 0.3275798419226944\n",
      "[ Info: Arnoldi schursolve in iter 1, krylovdim = 6: 0 values converged, normres = (5.79e-03, 2.78e-01, 1.22e-01, 9.77e-02, 5.99e-02)\n",
      "[ Info: Arnoldi iteration step 7: normres = 0.06978768585396153\n",
      "[ Info: Arnoldi schursolve in iter 1, krylovdim = 7: 0 values converged, normres = (1.97e-04, 1.62e-02, 4.51e-03, 2.73e-02, 5.23e-02)\n",
      "[ Info: Arnoldi iteration step 8: normres = 0.1090464803824848\n",
      "[ Info: Arnoldi schursolve in iter 1, krylovdim = 8: 0 values converged, normres = (9.02e-06, 1.20e-03, 3.64e-04, 7.87e-03, 3.32e-02)\n",
      "[ Info: Arnoldi iteration step 9: normres = 0.04248324550380554\n",
      "[ Info: Arnoldi schursolve in iter 1, krylovdim = 9: 0 values converged, normres = (1.68e-07, 3.70e-05, 1.25e-05, 1.23e-03, 2.19e-02)\n",
      "[ Info: Arnoldi iteration step 10: normres = 0.09062270630382774\n",
      "[ Info: Arnoldi schursolve in iter 1, krylovdim = 10: 0 values converged, normres = (6.53e-09, 2.36e-06, 8.84e-07, 3.43e-04, 1.73e-02)\n",
      "[ Info: Arnoldi iteration step 11: normres = 0.039936028289328046\n",
      "[ Info: Arnoldi schursolve in iter 1, krylovdim = 11: 0 values converged, normres = (1.10e-10, 6.43e-08, 2.66e-08, 3.77e-05, 4.77e-03)\n",
      "[ Info: Arnoldi iteration step 12: normres = 0.13186528524970464\n",
      "[ Info: Arnoldi schursolve in iter 1, krylovdim = 12: 0 values converged, normres = (6.30e-12, 6.09e-09, 2.81e-09, 1.66e-05, 6.65e-03)\n",
      "[ Info: Arnoldi iteration step 13: normres = 0.2905852491105232\n",
      "[ Info: Arnoldi schursolve in iter 1, krylovdim = 13: 1 values converged, normres = (8.38e-13, 1.39e-09, 7.20e-10, 3.40e-05, 2.32e-01)\n",
      "[ Info: Arnoldi iteration step 14: normres = 0.28403156939049196\n",
      "[ Info: Arnoldi schursolve in iter 1, krylovdim = 14: 1 values converged, normres = (2.12e-13, 2.11e-09, 5.14e-09, 2.71e-01, 2.67e-04)\n",
      "[ Info: Arnoldi iteration step 15: normres = 0.2546567270270753\n",
      "[ Info: Arnoldi schursolve in iter 1, krylovdim = 15: 1 values converged, normres = (2.43e-14, 5.67e-10, 5.33e-02, 1.01e-04, 2.25e-06)\n",
      "[ Info: Arnoldi iteration step 16: normres = 0.12541711849828951\n",
      "[ Info: Arnoldi schursolve in iter 1, krylovdim = 16: 1 values converged, normres = (3.18e-15, 4.97e-09, 1.11e-01, 1.44e-03, 5.38e-02)\n",
      "[ Info: Arnoldi iteration step 17: normres = 0.030120704185881524\n",
      "[ Info: Arnoldi schursolve in iter 1, krylovdim = 17: 1 values converged, normres = (4.02e-17, 1.91e-03, 1.19e-03, 6.92e-04, 8.74e-04)\n",
      "[ Info: Arnoldi iteration step 18: normres = 0.02648272571537856\n",
      "[ Info: Arnoldi schursolve in iter 1, krylovdim = 18: 1 values converged, normres = (4.42e-19, 1.39e-08, 3.97e-05, 1.78e-08, 2.17e-05)\n",
      "[ Info: Arnoldi iteration step 19: normres = 0.21914640869477386\n",
      "[ Info: Arnoldi schursolve in iter 1, krylovdim = 19: 1 values converged, normres = (4.32e-20, 6.48e-06, 4.81e-07, 3.65e-06, 1.53e-06)\n",
      "[ Info: Arnoldi iteration step 20: normres = 0.024790365209623924\n",
      "[ Info: Arnoldi schursolve in iter 1, krylovdim = 20: 1 values converged, normres = (4.93e-22, 1.12e-07, 6.38e-08, 4.32e-08, 7.76e-08)\n",
      "[ Info: Arnoldi iteration step 21: normres = 0.015463138532772303\n",
      "[ Info: Arnoldi schursolve in iter 1, krylovdim = 21: 1 values converged, normres = (3.13e-24, 1.18e-09, 5.52e-10, 4.81e-10, 8.61e-10)\n",
      "[ Info: Arnoldi iteration step 22: normres = 0.35332220860729313\n",
      "[ Info: Arnoldi schursolve in iter 1, krylovdim = 22: 1 values converged, normres = (4.73e-25, 2.99e-10, 1.20e-10, 1.31e-10, 2.37e-10)\n",
      "[ Info: Arnoldi iteration step 23: normres = 0.10522764885675677\n",
      "[ Info: Arnoldi schursolve in iter 1, krylovdim = 23: 1 values converged, normres = (4.54e-26, 2.03e-10, 8.21e-11, 2.51e-09, 5.05e-09)\n",
      "[ Info: Arnoldi iteration step 24: normres = 0.034906553168840275\n",
      "[ Info: Arnoldi schursolve in iter 1, krylovdim = 24: 1 values converged, normres = (6.61e-28, 4.88e-12, 1.98e-12, 5.03e-09, 6.32e-09)\n",
      "[ Info: Arnoldi iteration step 25: normres = 0.05529269064141489\n",
      "[ Info: Arnoldi schursolve in iter 1, krylovdim = 25: 3 values converged, normres = (1.52e-29, 1.80e-13, 7.27e-14, 4.43e-05, 2.90e-05)\n",
      "[ Info: Arnoldi iteration step 26: normres = 0.06528235261841892\n",
      "[ Info: Arnoldi schursolve in iter 1, krylovdim = 26: 3 values converged, normres = (4.45e-31, 8.90e-15, 3.60e-15, 4.01e-09, 7.11e-09)\n",
      "[ Info: Arnoldi iteration step 27: normres = 0.027693865775085705\n",
      "[ Info: Arnoldi schursolve in iter 1, krylovdim = 27: 3 values converged, normres = (5.10e-33, 1.64e-16, 6.63e-17, 1.02e-07, 1.79e-08)\n",
      "[ Info: Arnoldi iteration step 28: normres = 0.10216507155446211\n",
      "[ Info: Arnoldi schursolve in iter 1, krylovdim = 28: 3 values converged, normres = (2.25e-34, 1.18e-17, 4.78e-18, 1.11e-09, 4.67e-09)\n",
      "[ Info: Arnoldi iteration step 29: normres = 0.08403161385826542\n",
      "[ Info: Arnoldi schursolve in iter 1, krylovdim = 29: 3 values converged, normres = (8.08e-36, 6.96e-19, 2.82e-19, 6.36e-11, 3.98e-10)\n",
      "[ Info: Arnoldi iteration step 30: normres = 0.08336303530553668\n",
      "[ Info: Arnoldi schursolve in iter 1, krylovdim = 30: 3 values converged, normres = (3.32e-37, 5.16e-20, 2.09e-20, 5.44e-12, 3.87e-11)\n",
      "[ Info: Arnoldi schursolve in iter 2, krylovdim = 19: 3 values converged, normres = (3.33e-37, 5.16e-20, 2.09e-20, 5.44e-12, 3.87e-11)\n",
      "[ Info: Arnoldi iteration step 20: normres = 0.04020713839674931\n",
      "[ Info: Arnoldi schursolve in iter 2, krylovdim = 20: 4 values converged, normres = (5.55e-39, 1.39e-21, 5.61e-22, 1.61e-13, 9.94e-13)\n",
      "[ Info: Arnoldi iteration step 21: normres = 0.06845478462688277\n",
      "┌ Info: Arnoldi eigsolve finished after 2 iterations:\n",
      "│ *  6 eigenvalues converged\n",
      "│ *  norm of residuals = (1.6256667862287011e-40, 6.635004087170168e-23, 3.9547353158019694e-23, 8.550109695235808e-15, 5.319409366867138e-14, 5.319409366867138e-14)\n",
      "└ *  number of operations = 32\n"
     ]
    }
   ],
   "cell_type": "code",
   "source": [
    "eigsolve(eps_fun, randn(size(scfres.ρ)), 5, :LM; eager=true, verbosity=3);"
   ],
   "metadata": {},
   "execution_count": 3
  }
 ],
 "nbformat_minor": 3,
 "metadata": {
  "language_info": {
   "file_extension": ".jl",
   "mimetype": "application/julia",
   "name": "julia",
   "version": "1.9.3"
  },
  "kernelspec": {
   "name": "julia-1.9",
   "display_name": "Julia 1.9.3",
   "language": "julia"
  }
 },
 "nbformat": 4
}
