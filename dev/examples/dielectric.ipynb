{
 "cells": [
  {
   "cell_type": "markdown",
   "source": [
    "# Eigenvalues of the dielectric matrix\n",
    "\n",
    "We compute a few eigenvalues of the dielectric matrix ($q=0$, $ω=0$) iteratively."
   ],
   "metadata": {}
  },
  {
   "outputs": [
    {
     "name": "stdout",
     "output_type": "stream",
     "text": [
      "n     Energy            log10(ΔE)   log10(Δρ)   Diag   Δtime\n",
      "---   ---------------   ---------   ---------   ----   ------\n",
      "  1   -7.235143065922                   -0.50    8.0         \n",
      "  2   -7.250325509980       -1.82       -1.40    1.0   5.10ms\n",
      "  3   -7.251160572555       -3.08       -2.18    1.0   5.13ms\n",
      "  4   -7.251244181606       -4.08       -2.14    2.0   6.28ms\n",
      "  5   -7.251333586641       -4.05       -2.71    1.0   5.17ms\n",
      "  6   -7.251338200893       -5.34       -3.20    1.0   5.31ms\n",
      "  7   -7.251338713929       -6.29       -3.56    2.0   6.17ms\n",
      "  8   -7.251338790028       -7.12       -4.06    1.0   5.41ms\n",
      "  9   -7.251338797387       -8.13       -4.45    2.0   6.43ms\n",
      " 10   -7.251338798508       -8.95       -5.00    1.0   5.50ms\n",
      " 11   -7.251338798681       -9.76       -5.31    3.0   7.63ms\n",
      " 12   -7.251338798700      -10.71       -5.75    1.0   5.80ms\n",
      " 13   -7.251338798703      -11.49       -6.04    2.0   6.75ms\n",
      " 14   -7.251338798704      -12.03       -6.44    1.0   5.72ms\n",
      " 15   -7.251338798705      -12.89       -7.10    2.0   6.64ms\n",
      " 16   -7.251338798705      -13.88       -7.41    3.0   7.44ms\n",
      " 17   -7.251338798705   +    -Inf       -7.78    1.0   5.76ms\n",
      " 18   -7.251338798705      -14.75       -8.06    2.0   6.64ms\n"
     ]
    }
   ],
   "cell_type": "code",
   "source": [
    "using DFTK\n",
    "using Plots\n",
    "using KrylovKit\n",
    "using Printf\n",
    "\n",
    "# Calculation parameters\n",
    "kgrid = [1, 1, 1]\n",
    "Ecut = 5\n",
    "\n",
    "# Silicon lattice\n",
    "a = 10.26\n",
    "lattice = a / 2 .* [[0 1 1.]; [1 0 1.]; [1 1 0.]]\n",
    "Si = ElementPsp(:Si; psp=load_psp(\"hgh/lda/Si-q4\"))\n",
    "atoms     = [Si, Si]\n",
    "positions = [ones(3)/8, -ones(3)/8]\n",
    "\n",
    "# Compute the dielectric operator without symmetries\n",
    "model  = model_LDA(lattice, atoms, positions, symmetries=false)\n",
    "basis  = PlaneWaveBasis(model; Ecut, kgrid)\n",
    "scfres = self_consistent_field(basis, tol=1e-8);"
   ],
   "metadata": {},
   "execution_count": 1
  },
  {
   "cell_type": "markdown",
   "source": [
    "Applying $ε^† ≔ (1- χ_0 K)$ …"
   ],
   "metadata": {}
  },
  {
   "outputs": [],
   "cell_type": "code",
   "source": [
    "function eps_fun(δρ)\n",
    "    δV = apply_kernel(basis, δρ; ρ=scfres.ρ)\n",
    "    χ0δV = apply_χ0(scfres, δV)\n",
    "    δρ - χ0δV\n",
    "end;"
   ],
   "metadata": {},
   "execution_count": 2
  },
  {
   "cell_type": "markdown",
   "source": [
    "… eagerly diagonalizes the subspace matrix at each iteration"
   ],
   "metadata": {}
  },
  {
   "outputs": [
    {
     "name": "stdout",
     "output_type": "stream",
     "text": [
      "[ Info: Arnoldi iteration step 1: normres = 0.08291925262594536\n",
      "[ Info: Arnoldi iteration step 2: normres = 0.6218991656235237\n",
      "[ Info: Arnoldi iteration step 3: normres = 0.6269751794678439\n",
      "[ Info: Arnoldi iteration step 4: normres = 0.25088822966847946\n",
      "[ Info: Arnoldi iteration step 5: normres = 0.4515680104144129\n",
      "[ Info: Arnoldi schursolve in iter 1, krylovdim = 5: 0 values converged, normres = (1.13e-02, 7.86e-02, 3.31e-01, 2.96e-01, 2.24e-02)\n",
      "[ Info: Arnoldi iteration step 6: normres = 0.3876558856742675\n",
      "[ Info: Arnoldi schursolve in iter 1, krylovdim = 6: 0 values converged, normres = (3.70e-03, 1.67e-01, 3.12e-01, 9.79e-02, 8.55e-02)\n",
      "[ Info: Arnoldi iteration step 7: normres = 0.09278249123010118\n",
      "[ Info: Arnoldi schursolve in iter 1, krylovdim = 7: 0 values converged, normres = (1.81e-04, 2.13e-02, 2.16e-02, 5.98e-02, 5.76e-02)\n",
      "[ Info: Arnoldi iteration step 8: normres = 0.12816270341811678\n",
      "[ Info: Arnoldi schursolve in iter 1, krylovdim = 8: 0 values converged, normres = (1.01e-05, 1.98e-03, 2.20e-03, 2.66e-02, 4.26e-02)\n",
      "[ Info: Arnoldi iteration step 9: normres = 0.057950361759982284\n",
      "[ Info: Arnoldi schursolve in iter 1, krylovdim = 9: 0 values converged, normres = (2.54e-07, 8.20e-05, 1.01e-04, 5.54e-03, 1.94e-02)\n",
      "[ Info: Arnoldi iteration step 10: normres = 0.08552899774408997\n",
      "[ Info: Arnoldi schursolve in iter 1, krylovdim = 10: 0 values converged, normres = (9.40e-09, 5.00e-06, 6.86e-06, 1.54e-03, 1.10e-02)\n",
      "[ Info: Arnoldi iteration step 11: normres = 0.060207724997397\n",
      "[ Info: Arnoldi schursolve in iter 1, krylovdim = 11: 0 values converged, normres = (2.46e-10, 2.17e-07, 3.31e-07, 3.35e-04, 6.22e-03)\n",
      "[ Info: Arnoldi iteration step 12: normres = 0.052099250175253825\n",
      "[ Info: Arnoldi schursolve in iter 1, krylovdim = 12: 0 values converged, normres = (5.34e-12, 7.57e-09, 1.27e-08, 4.36e-05, 1.34e-03)\n",
      "[ Info: Arnoldi iteration step 13: normres = 0.10060691541558213\n",
      "[ Info: Arnoldi schursolve in iter 1, krylovdim = 13: 1 values converged, normres = (2.31e-13, 5.38e-10, 1.00e-09, 1.36e-05, 7.84e-04)\n",
      "[ Info: Arnoldi iteration step 14: normres = 0.6769871089350089\n",
      "[ Info: Arnoldi schursolve in iter 1, krylovdim = 14: 1 values converged, normres = (1.16e-13, 8.31e-10, 2.28e-09, 6.70e-01, 9.93e-03)\n",
      "[ Info: Arnoldi iteration step 15: normres = 0.11068364790145421\n",
      "[ Info: Arnoldi schursolve in iter 1, krylovdim = 15: 1 values converged, normres = (7.66e-15, 9.63e-10, 5.89e-02, 1.65e-04, 2.27e-06)\n",
      "[ Info: Arnoldi iteration step 16: normres = 0.39538635166836894\n",
      "[ Info: Arnoldi schursolve in iter 1, krylovdim = 16: 1 values converged, normres = (2.64e-15, 2.44e-09, 1.00e-01, 1.70e-04, 3.81e-01)\n",
      "[ Info: Arnoldi iteration step 17: normres = 0.03586338864712247\n",
      "[ Info: Arnoldi schursolve in iter 1, krylovdim = 17: 1 values converged, normres = (4.43e-17, 4.21e-03, 1.40e-03, 8.10e-07, 9.73e-03)\n",
      "[ Info: Arnoldi iteration step 18: normres = 0.021829577154358897\n",
      "[ Info: Arnoldi schursolve in iter 1, krylovdim = 18: 1 values converged, normres = (3.99e-19, 3.57e-05, 5.30e-05, 2.04e-05, 1.53e-04)\n",
      "[ Info: Arnoldi iteration step 19: normres = 0.14199125783362762\n",
      "[ Info: Arnoldi schursolve in iter 1, krylovdim = 19: 1 values converged, normres = (2.38e-20, 3.37e-08, 6.14e-06, 8.44e-06, 1.40e-05)\n",
      "[ Info: Arnoldi iteration step 20: normres = 0.08920589027877951\n",
      "[ Info: Arnoldi schursolve in iter 1, krylovdim = 20: 1 values converged, normres = (1.04e-21, 4.40e-07, 1.97e-07, 2.26e-08, 1.47e-06)\n",
      "[ Info: Arnoldi iteration step 21: normres = 0.025226030496309327\n",
      "[ Info: Arnoldi schursolve in iter 1, krylovdim = 21: 1 values converged, normres = (1.09e-23, 2.32e-09, 7.89e-09, 2.74e-08, 3.25e-09)\n",
      "[ Info: Arnoldi iteration step 22: normres = 0.029644203669723757\n",
      "[ Info: Arnoldi schursolve in iter 1, krylovdim = 22: 1 values converged, normres = (1.33e-25, 6.86e-11, 1.45e-10, 2.48e-10, 5.37e-10)\n",
      "[ Info: Arnoldi iteration step 23: normres = 0.5421436105231194\n",
      "[ Info: Arnoldi schursolve in iter 1, krylovdim = 23: 1 values converged, normres = (5.08e-26, 7.15e-11, 1.51e-10, 3.62e-10, 7.62e-10)\n",
      "[ Info: Arnoldi iteration step 24: normres = 0.017565048246388174\n",
      "[ Info: Arnoldi schursolve in iter 1, krylovdim = 24: 1 values converged, normres = (4.99e-28, 3.06e-12, 6.45e-12, 2.93e-03, 2.06e-03)\n",
      "[ Info: Arnoldi iteration step 25: normres = 0.03525893274444358\n",
      "[ Info: Arnoldi schursolve in iter 1, krylovdim = 25: 3 values converged, normres = (7.21e-30, 7.04e-14, 1.48e-13, 5.09e-08, 1.39e-07)\n",
      "[ Info: Arnoldi iteration step 26: normres = 0.0935973922039402\n",
      "[ Info: Arnoldi schursolve in iter 1, krylovdim = 26: 3 values converged, normres = (3.01e-31, 4.94e-15, 1.04e-14, 1.14e-05, 3.77e-06)\n",
      "[ Info: Arnoldi iteration step 27: normres = 0.03520431488890744\n",
      "[ Info: Arnoldi schursolve in iter 1, krylovdim = 27: 3 values converged, normres = (4.44e-33, 1.17e-16, 2.48e-16, 5.32e-09, 6.65e-09)\n",
      "[ Info: Arnoldi iteration step 28: normres = 0.07605045207077009\n",
      "[ Info: Arnoldi schursolve in iter 1, krylovdim = 28: 3 values converged, normres = (1.48e-34, 6.51e-18, 1.37e-17, 2.50e-08, 7.97e-09)\n",
      "[ Info: Arnoldi iteration step 29: normres = 0.0491015349627767\n",
      "[ Info: Arnoldi schursolve in iter 1, krylovdim = 29: 3 values converged, normres = (3.04e-36, 2.15e-19, 4.53e-19, 4.88e-10, 5.74e-10)\n",
      "[ Info: Arnoldi iteration step 30: normres = 0.12588335122699237\n",
      "[ Info: Arnoldi schursolve in iter 1, krylovdim = 30: 3 values converged, normres = (1.89e-37, 2.41e-20, 5.08e-20, 6.33e-11, 7.18e-11)\n",
      "[ Info: Arnoldi schursolve in iter 2, krylovdim = 19: 3 values converged, normres = (1.89e-37, 2.41e-20, 5.08e-20, 6.33e-11, 7.18e-11)\n",
      "[ Info: Arnoldi iteration step 20: normres = 0.021339368988832385\n",
      "[ Info: Arnoldi schursolve in iter 2, krylovdim = 20: 3 values converged, normres = (1.68e-39, 3.45e-22, 7.28e-22, 1.00e-12, 1.14e-12)\n",
      "[ Info: Arnoldi iteration step 21: normres = 0.05112345093147105\n",
      "┌ Info: Arnoldi eigsolve finished after 2 iterations:\n",
      "│ *  6 eigenvalues converged\n",
      "│ *  norm of residuals = (3.534645130093568e-41, 1.164634629474411e-23, 2.702235442569495e-23, 4.21128632771035e-14, 4.21128632771035e-14, 4.171720284985711e-14)\n",
      "└ *  number of operations = 32\n"
     ]
    }
   ],
   "cell_type": "code",
   "source": [
    "eigsolve(eps_fun, randn(size(scfres.ρ)), 5, :LM; eager=true, verbosity=3);"
   ],
   "metadata": {},
   "execution_count": 3
  }
 ],
 "nbformat_minor": 3,
 "metadata": {
  "language_info": {
   "file_extension": ".jl",
   "mimetype": "application/julia",
   "name": "julia",
   "version": "1.9.4"
  },
  "kernelspec": {
   "name": "julia-1.9",
   "display_name": "Julia 1.9.4",
   "language": "julia"
  }
 },
 "nbformat": 4
}
