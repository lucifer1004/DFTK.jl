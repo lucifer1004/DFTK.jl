{
 "cells": [
  {
   "cell_type": "markdown",
   "source": [
    "# Eigenvalues of the dielectric matrix\n",
    "\n",
    "We compute a few eigenvalues of the dielectric matrix ($q=0$, $ω=0$) iteratively."
   ],
   "metadata": {}
  },
  {
   "outputs": [
    {
     "name": "stdout",
     "output_type": "stream",
     "text": [
      "n     Energy            log10(ΔE)   log10(Δρ)   Diag   Δtime\n",
      "---   ---------------   ---------   ---------   ----   ------\n",
      "  1   -7.232025800420                   -0.50    7.0         \n",
      "  2   -7.249288331021       -1.76       -1.39    1.0   5.14ms\n",
      "  3   -7.251144691282       -2.73       -1.90    2.0   6.14ms\n",
      "  4   -7.251081364345   +   -4.20       -1.95    2.0   6.25ms\n",
      "  5   -7.251304383384       -3.65       -2.40    1.0   5.16ms\n",
      "  6   -7.251337661150       -4.48       -3.03    1.0   5.22ms\n",
      "  7   -7.251338712061       -5.98       -3.64    1.0   5.29ms\n",
      "  8   -7.251338788636       -7.12       -4.03    2.0   6.43ms\n",
      "  9   -7.251338797952       -8.03       -4.71    1.0   5.47ms\n",
      " 10   -7.251338798621       -9.17       -5.15    2.0   6.52ms\n",
      " 11   -7.251338798698      -10.11       -5.60    2.0   6.91ms\n",
      " 12   -7.251338798704      -11.30       -6.07    1.0   5.77ms\n",
      " 13   -7.251338798704      -12.04       -6.62    2.0   6.78ms\n",
      " 14   -7.251338798705      -13.01       -7.01    2.0   6.79ms\n",
      " 15   -7.251338798705      -13.97       -7.45    1.0   5.73ms\n",
      " 16   -7.251338798705      -14.75       -7.89    2.0   6.75ms\n",
      " 17   -7.251338798705   +    -Inf       -8.35    1.0   5.72ms\n"
     ]
    }
   ],
   "cell_type": "code",
   "source": [
    "using DFTK\n",
    "using Plots\n",
    "using KrylovKit\n",
    "using Printf\n",
    "\n",
    "# Calculation parameters\n",
    "kgrid = [1, 1, 1]\n",
    "Ecut = 5\n",
    "\n",
    "# Silicon lattice\n",
    "a = 10.26\n",
    "lattice = a / 2 .* [[0 1 1.]; [1 0 1.]; [1 1 0.]]\n",
    "Si = ElementPsp(:Si; psp=load_psp(\"hgh/lda/Si-q4\"))\n",
    "atoms     = [Si, Si]\n",
    "positions = [ones(3)/8, -ones(3)/8]\n",
    "\n",
    "# Compute the dielectric operator without symmetries\n",
    "model  = model_LDA(lattice, atoms, positions, symmetries=false)\n",
    "basis  = PlaneWaveBasis(model; Ecut, kgrid)\n",
    "scfres = self_consistent_field(basis, tol=1e-8);"
   ],
   "metadata": {},
   "execution_count": 1
  },
  {
   "cell_type": "markdown",
   "source": [
    "Applying $ε^† ≔ (1- χ_0 K)$ …"
   ],
   "metadata": {}
  },
  {
   "outputs": [],
   "cell_type": "code",
   "source": [
    "function eps_fun(δρ)\n",
    "    δV = apply_kernel(basis, δρ; ρ=scfres.ρ)\n",
    "    χ0δV = apply_χ0(scfres, δV)\n",
    "    δρ - χ0δV\n",
    "end;"
   ],
   "metadata": {},
   "execution_count": 2
  },
  {
   "cell_type": "markdown",
   "source": [
    "… eagerly diagonalizes the subspace matrix at each iteration"
   ],
   "metadata": {}
  },
  {
   "outputs": [
    {
     "name": "stdout",
     "output_type": "stream",
     "text": [
      "[ Info: Arnoldi iteration step 1: normres = 0.047939192708114156\n",
      "[ Info: Arnoldi iteration step 2: normres = 0.32081128364218453\n",
      "[ Info: Arnoldi iteration step 3: normres = 0.7943953458977798\n",
      "[ Info: Arnoldi iteration step 4: normres = 0.531913109205625\n",
      "[ Info: Arnoldi iteration step 5: normres = 0.6003914819989754\n",
      "[ Info: Arnoldi schursolve in iter 1, krylovdim = 5: 0 values converged, normres = (1.68e-01, 7.88e-02, 5.31e-01, 2.09e-01, 2.92e-02)\n",
      "[ Info: Arnoldi iteration step 6: normres = 0.2154351618007409\n",
      "[ Info: Arnoldi schursolve in iter 1, krylovdim = 6: 0 values converged, normres = (2.89e-02, 8.49e-02, 1.47e-01, 1.12e-01, 1.35e-02)\n",
      "[ Info: Arnoldi iteration step 7: normres = 0.12403813082175659\n",
      "[ Info: Arnoldi schursolve in iter 1, krylovdim = 7: 0 values converged, normres = (1.71e-03, 9.50e-03, 1.62e-02, 7.88e-02, 9.13e-02)\n",
      "[ Info: Arnoldi iteration step 8: normres = 0.10691512021001262\n",
      "[ Info: Arnoldi schursolve in iter 1, krylovdim = 8: 0 values converged, normres = (7.96e-05, 7.36e-04, 1.39e-03, 3.01e-02, 5.37e-02)\n",
      "[ Info: Arnoldi iteration step 9: normres = 0.07945364949324338\n",
      "[ Info: Arnoldi schursolve in iter 1, krylovdim = 9: 0 values converged, normres = (2.78e-06, 4.28e-05, 9.02e-05, 9.64e-03, 3.67e-02)\n",
      "[ Info: Arnoldi iteration step 10: normres = 0.08347936728424474\n",
      "[ Info: Arnoldi schursolve in iter 1, krylovdim = 10: 0 values converged, normres = (1.01e-07, 2.56e-06, 6.00e-06, 2.71e-03, 2.20e-02)\n",
      "[ Info: Arnoldi iteration step 11: normres = 0.0726697663435202\n",
      "[ Info: Arnoldi schursolve in iter 1, krylovdim = 11: 0 values converged, normres = (3.16e-09, 1.33e-07, 3.45e-07, 6.66e-04, 1.20e-02)\n",
      "[ Info: Arnoldi iteration step 12: normres = 0.08905192464395242\n",
      "[ Info: Arnoldi schursolve in iter 1, krylovdim = 12: 0 values converged, normres = (1.21e-10, 8.26e-09, 2.38e-08, 1.82e-04, 6.52e-03)\n",
      "[ Info: Arnoldi iteration step 13: normres = 0.04259688842503772\n",
      "[ Info: Arnoldi schursolve in iter 1, krylovdim = 13: 0 values converged, normres = (2.21e-12, 2.48e-10, 7.94e-10, 2.48e-05, 1.94e-03)\n",
      "[ Info: Arnoldi iteration step 14: normres = 0.7210580481150698\n",
      "[ Info: Arnoldi schursolve in iter 1, krylovdim = 14: 1 values converged, normres = (9.80e-13, 2.50e-10, 9.93e-10, 7.18e-01, 2.59e-02)\n",
      "[ Info: Arnoldi iteration step 15: normres = 0.11198947236722344\n",
      "[ Info: Arnoldi schursolve in iter 1, krylovdim = 15: 1 values converged, normres = (7.53e-14, 1.95e-10, 7.45e-02, 1.08e-03, 2.31e-05)\n",
      "[ Info: Arnoldi iteration step 16: normres = 0.44777722124339814\n",
      "[ Info: Arnoldi schursolve in iter 1, krylovdim = 16: 1 values converged, normres = (2.95e-14, 5.55e-10, 1.55e-01, 8.55e-03, 4.18e-01)\n",
      "[ Info: Arnoldi iteration step 17: normres = 0.02919749419947786\n",
      "[ Info: Arnoldi schursolve in iter 1, krylovdim = 17: 1 values converged, normres = (4.21e-16, 1.44e-03, 6.30e-03, 3.41e-06, 7.41e-03)\n",
      "[ Info: Arnoldi iteration step 18: normres = 0.025965479663894293\n",
      "[ Info: Arnoldi schursolve in iter 1, krylovdim = 18: 1 values converged, normres = (4.50e-18, 5.14e-07, 1.10e-04, 9.92e-05, 9.75e-05)\n",
      "[ Info: Arnoldi iteration step 19: normres = 0.08267387445478891\n",
      "[ Info: Arnoldi schursolve in iter 1, krylovdim = 19: 1 values converged, normres = (1.55e-19, 2.88e-08, 6.10e-06, 6.34e-08, 8.48e-06)\n",
      "[ Info: Arnoldi iteration step 20: normres = 0.1547614659413222\n",
      "[ Info: Arnoldi schursolve in iter 1, krylovdim = 20: 1 values converged, normres = (1.15e-20, 7.95e-07, 1.26e-07, 1.27e-06, 7.00e-09)\n",
      "[ Info: Arnoldi iteration step 21: normres = 0.020163236772490413\n",
      "[ Info: Arnoldi schursolve in iter 1, krylovdim = 21: 1 values converged, normres = (9.96e-23, 3.94e-09, 1.08e-08, 1.84e-08, 8.26e-09)\n",
      "[ Info: Arnoldi iteration step 22: normres = 0.024277586285383863\n",
      "[ Info: Arnoldi schursolve in iter 1, krylovdim = 22: 1 values converged, normres = (9.93e-25, 1.52e-10, 1.01e-10, 1.80e-10, 3.03e-10)\n",
      "[ Info: Arnoldi iteration step 23: normres = 0.6420016880360938\n",
      "[ Info: Arnoldi schursolve in iter 1, krylovdim = 23: 1 values converged, normres = (4.00e-25, 1.43e-10, 9.32e-11, 2.13e-10, 3.54e-10)\n",
      "[ Info: Arnoldi iteration step 24: normres = 0.020508919729383193\n",
      "[ Info: Arnoldi schursolve in iter 1, krylovdim = 24: 1 values converged, normres = (5.12e-27, 9.38e-12, 6.20e-12, 7.82e-03, 6.27e-03)\n",
      "[ Info: Arnoldi iteration step 25: normres = 0.08035433887976048\n",
      "[ Info: Arnoldi schursolve in iter 1, krylovdim = 25: 3 values converged, normres = (1.70e-28, 4.95e-13, 3.26e-13, 4.19e-09, 7.40e-09)\n",
      "[ Info: Arnoldi iteration step 26: normres = 0.03878270914777795\n",
      "[ Info: Arnoldi schursolve in iter 1, krylovdim = 26: 3 values converged, normres = (2.96e-30, 1.46e-14, 9.65e-15, 2.76e-06, 1.91e-06)\n",
      "[ Info: Arnoldi iteration step 27: normres = 0.036209459608751195\n",
      "[ Info: Arnoldi schursolve in iter 1, krylovdim = 27: 3 values converged, normres = (4.42e-32, 3.49e-16, 2.30e-16, 4.26e-07, 4.04e-07)\n",
      "[ Info: Arnoldi iteration step 28: normres = 0.06484324839937435\n",
      "[ Info: Arnoldi schursolve in iter 1, krylovdim = 28: 3 values converged, normres = (1.27e-33, 1.66e-17, 1.10e-17, 3.64e-09, 2.90e-08)\n",
      "[ Info: Arnoldi iteration step 29: normres = 0.03425662404321865\n",
      "[ Info: Arnoldi schursolve in iter 1, krylovdim = 29: 3 values converged, normres = (1.80e-35, 3.79e-19, 2.50e-19, 9.01e-11, 7.10e-10)\n",
      "[ Info: Arnoldi iteration step 30: normres = 0.14561480273583494\n",
      "[ Info: Arnoldi schursolve in iter 1, krylovdim = 30: 3 values converged, normres = (1.28e-36, 4.82e-20, 3.18e-20, 1.32e-11, 5.63e-11)\n",
      "[ Info: Arnoldi schursolve in iter 2, krylovdim = 19: 3 values converged, normres = (1.28e-36, 4.82e-20, 3.18e-20, 1.32e-11, 1.05e-10)\n",
      "[ Info: Arnoldi iteration step 20: normres = 0.026323243031994265\n",
      "[ Info: Arnoldi schursolve in iter 2, krylovdim = 20: 4 values converged, normres = (1.42e-38, 8.70e-22, 5.74e-22, 2.63e-13, 2.08e-12)\n",
      "[ Info: Arnoldi iteration step 21: normres = 0.0830112601178592\n",
      "┌ Info: Arnoldi eigsolve finished after 2 iterations:\n",
      "│ *  6 eigenvalues converged\n",
      "│ *  norm of residuals = (4.9664335874626594e-40, 4.9485379733562163e-23, 1.1390570758076127e-23, 1.6548129173281176e-14, 1.2064986146317234e-13, 1.2064986146317234e-13)\n",
      "└ *  number of operations = 32\n"
     ]
    }
   ],
   "cell_type": "code",
   "source": [
    "eigsolve(eps_fun, randn(size(scfres.ρ)), 5, :LM; eager=true, verbosity=3);"
   ],
   "metadata": {},
   "execution_count": 3
  }
 ],
 "nbformat_minor": 3,
 "metadata": {
  "language_info": {
   "file_extension": ".jl",
   "mimetype": "application/julia",
   "name": "julia",
   "version": "1.9.4"
  },
  "kernelspec": {
   "name": "julia-1.9",
   "display_name": "Julia 1.9.4",
   "language": "julia"
  }
 },
 "nbformat": 4
}
