{
 "cells": [
  {
   "cell_type": "markdown",
   "source": [
    "# Eigenvalues of the dielectric matrix\n",
    "\n",
    "We compute a few eigenvalues of the dielectric matrix ($q=0$, $ω=0$) iteratively."
   ],
   "metadata": {}
  },
  {
   "outputs": [
    {
     "name": "stdout",
     "output_type": "stream",
     "text": [
      "n     Energy            log10(ΔE)   log10(Δρ)   Diag   Δtime\n",
      "---   ---------------   ---------   ---------   ----   ------\n",
      "  1   -7.233927088111                   -0.50    7.0         \n",
      "  2   -7.250049741360       -1.79       -1.41    1.0   5.01ms\n",
      "  3   -7.251284944803       -2.91       -2.05    2.0   6.07ms\n",
      "  4   -7.251331571487       -4.33       -2.58    2.0   6.30ms\n",
      "  5   -7.251333884790       -5.64       -2.71    1.0   5.14ms\n",
      "  6   -7.251338492632       -5.34       -3.42    1.0   5.17ms\n",
      "  7   -7.251338738842       -6.61       -3.74    2.0   6.29ms\n",
      "  8   -7.251338790835       -7.28       -4.16    1.0   5.41ms\n",
      "  9   -7.251338798178       -8.13       -4.95    1.0   5.45ms\n",
      " 10   -7.251338798675       -9.30       -5.35    3.0   7.19ms\n",
      " 11   -7.251338798703      -10.55       -5.89    2.0   6.81ms\n",
      " 12   -7.251338798704      -12.19       -6.22    2.0   6.73ms\n",
      " 13   -7.251338798705      -12.30       -6.97    1.0   5.71ms\n",
      " 14   -7.251338798705      -13.50       -7.15    3.0   7.45ms\n",
      " 15   -7.251338798705      -14.75       -7.46    1.0   5.74ms\n",
      " 16   -7.251338798705      -14.45       -8.07    2.0   6.56ms\n"
     ]
    }
   ],
   "cell_type": "code",
   "source": [
    "using DFTK\n",
    "using Plots\n",
    "using KrylovKit\n",
    "using Printf\n",
    "\n",
    "# Calculation parameters\n",
    "kgrid = [1, 1, 1]\n",
    "Ecut = 5\n",
    "\n",
    "# Silicon lattice\n",
    "a = 10.26\n",
    "lattice = a / 2 .* [[0 1 1.]; [1 0 1.]; [1 1 0.]]\n",
    "Si = ElementPsp(:Si, psp=load_psp(\"hgh/lda/Si-q4\"))\n",
    "atoms     = [Si, Si]\n",
    "positions = [ones(3)/8, -ones(3)/8]\n",
    "\n",
    "# Compute the dielectric operator without symmetries\n",
    "model  = model_LDA(lattice, atoms, positions, symmetries=false)\n",
    "basis  = PlaneWaveBasis(model; Ecut, kgrid)\n",
    "scfres = self_consistent_field(basis, tol=1e-8);"
   ],
   "metadata": {},
   "execution_count": 1
  },
  {
   "cell_type": "markdown",
   "source": [
    "Applying $ε^† ≔ (1- χ_0 K)$ …"
   ],
   "metadata": {}
  },
  {
   "outputs": [],
   "cell_type": "code",
   "source": [
    "function eps_fun(δρ)\n",
    "    δV = apply_kernel(basis, δρ; ρ=scfres.ρ)\n",
    "    χ0δV = apply_χ0(scfres, δV)\n",
    "    δρ - χ0δV\n",
    "end;"
   ],
   "metadata": {},
   "execution_count": 2
  },
  {
   "cell_type": "markdown",
   "source": [
    "… eagerly diagonalizes the subspace matrix at each iteration"
   ],
   "metadata": {}
  },
  {
   "outputs": [
    {
     "name": "stdout",
     "output_type": "stream",
     "text": [
      "[ Info: Arnoldi iteration step 1: normres = 0.06557659838271114\n",
      "[ Info: Arnoldi iteration step 2: normres = 0.585088414865014\n",
      "[ Info: Arnoldi iteration step 3: normres = 0.8800436357354839\n",
      "[ Info: Arnoldi iteration step 4: normres = 0.3358553282483788\n",
      "[ Info: Arnoldi iteration step 5: normres = 0.254340717073938\n",
      "[ Info: Arnoldi schursolve in iter 1, krylovdim = 5: 0 values converged, normres = (2.34e-02, 3.75e-02, 1.56e-01, 1.94e-01, 2.76e-02)\n",
      "[ Info: Arnoldi iteration step 6: normres = 0.4990060516803404\n",
      "[ Info: Arnoldi schursolve in iter 1, krylovdim = 6: 0 values converged, normres = (8.91e-03, 4.91e-02, 4.76e-01, 9.57e-02, 5.80e-02)\n",
      "[ Info: Arnoldi iteration step 7: normres = 0.08820194381401761\n",
      "[ Info: Arnoldi schursolve in iter 1, krylovdim = 7: 0 values converged, normres = (4.29e-04, 8.58e-03, 3.84e-02, 2.60e-02, 6.67e-02)\n",
      "[ Info: Arnoldi iteration step 8: normres = 0.10622925884494781\n",
      "[ Info: Arnoldi schursolve in iter 1, krylovdim = 8: 0 values converged, normres = (1.99e-05, 6.68e-04, 3.29e-03, 9.95e-03, 5.98e-02)\n",
      "[ Info: Arnoldi iteration step 9: normres = 0.08321035495572136\n",
      "[ Info: Arnoldi schursolve in iter 1, krylovdim = 9: 0 values converged, normres = (7.13e-07, 3.93e-05, 2.15e-04, 2.81e-03, 3.38e-02)\n",
      "[ Info: Arnoldi iteration step 10: normres = 0.08338055864083692\n",
      "[ Info: Arnoldi schursolve in iter 1, krylovdim = 10: 0 values converged, normres = (2.64e-08, 2.43e-06, 1.48e-05, 9.54e-04, 3.20e-02)\n",
      "[ Info: Arnoldi iteration step 11: normres = 0.06704872914593127\n",
      "[ Info: Arnoldi schursolve in iter 1, krylovdim = 11: 0 values converged, normres = (7.54e-10, 1.13e-07, 7.67e-07, 1.99e-04, 1.37e-02)\n",
      "[ Info: Arnoldi iteration step 12: normres = 0.0841293281007978\n",
      "[ Info: Arnoldi schursolve in iter 1, krylovdim = 12: 0 values converged, normres = (2.72e-11, 6.71e-09, 5.04e-08, 5.14e-05, 6.77e-03)\n",
      "[ Info: Arnoldi iteration step 13: normres = 0.030396492545777608\n",
      "[ Info: Arnoldi schursolve in iter 1, krylovdim = 13: 1 values converged, normres = (3.55e-13, 1.43e-10, 1.19e-09, 4.90e-06, 1.36e-03)\n",
      "[ Info: Arnoldi iteration step 14: normres = 0.5158385606783031\n",
      "[ Info: Arnoldi schursolve in iter 1, krylovdim = 14: 1 values converged, normres = (8.14e-14, 5.51e-11, 5.12e-10, 1.01e-05, 6.85e-03)\n",
      "[ Info: Arnoldi iteration step 15: normres = 0.08100657820844578\n",
      "[ Info: Arnoldi schursolve in iter 1, krylovdim = 15: 1 values converged, normres = (6.62e-15, 3.14e-10, 7.61e-02, 1.16e-04, 3.52e-05)\n",
      "[ Info: Arnoldi iteration step 16: normres = 0.5111877337097409\n",
      "[ Info: Arnoldi schursolve in iter 1, krylovdim = 16: 1 values converged, normres = (1.55e-15, 2.80e-10, 3.03e-02, 6.01e-07, 1.03e-06)\n",
      "[ Info: Arnoldi iteration step 17: normres = 0.07681363403715144\n",
      "[ Info: Arnoldi schursolve in iter 1, krylovdim = 17: 1 values converged, normres = (1.04e-16, 2.75e-09, 1.43e-02, 6.41e-05, 6.89e-02)\n",
      "[ Info: Arnoldi iteration step 18: normres = 0.019267652263630818\n",
      "[ Info: Arnoldi schursolve in iter 1, krylovdim = 18: 1 values converged, normres = (8.30e-19, 9.96e-10, 1.86e-04, 5.41e-09, 9.65e-04)\n",
      "[ Info: Arnoldi iteration step 19: normres = 0.06389860049935991\n",
      "[ Info: Arnoldi schursolve in iter 1, krylovdim = 19: 1 values converged, normres = (2.20e-20, 6.25e-06, 4.77e-06, 4.42e-05, 8.71e-06)\n",
      "[ Info: Arnoldi iteration step 20: normres = 0.17258504240490224\n",
      "[ Info: Arnoldi schursolve in iter 1, krylovdim = 20: 1 values converged, normres = (1.79e-21, 1.75e-09, 1.12e-06, 5.07e-09, 7.27e-06)\n",
      "[ Info: Arnoldi iteration step 21: normres = 0.030384484697722924\n",
      "[ Info: Arnoldi schursolve in iter 1, krylovdim = 21: 1 values converged, normres = (2.39e-23, 1.21e-09, 2.50e-08, 1.47e-07, 1.07e-07)\n",
      "[ Info: Arnoldi iteration step 22: normres = 0.015988880174258892\n",
      "[ Info: Arnoldi schursolve in iter 1, krylovdim = 22: 1 values converged, normres = (1.57e-25, 2.88e-11, 2.61e-10, 2.08e-09, 1.84e-10)\n",
      "[ Info: Arnoldi iteration step 23: normres = 0.012663668531212114\n",
      "[ Info: Arnoldi schursolve in iter 1, krylovdim = 23: 2 values converged, normres = (8.13e-28, 2.30e-13, 2.15e-12, 1.89e-11, 2.67e-13)\n",
      "[ Info: Arnoldi iteration step 24: normres = 0.5734724558033247\n",
      "[ Info: Arnoldi schursolve in iter 1, krylovdim = 24: 2 values converged, normres = (2.23e-28, 1.12e-13, 1.04e-12, 1.04e-11, 1.41e-13)\n",
      "[ Info: Arnoldi iteration step 25: normres = 0.07258804868270427\n",
      "[ Info: Arnoldi schursolve in iter 1, krylovdim = 25: 3 values converged, normres = (1.33e-29, 4.43e-14, 4.13e-13, 2.65e-10, 3.80e-12)\n",
      "[ Info: Arnoldi iteration step 26: normres = 0.09046666989002076\n",
      "[ Info: Arnoldi schursolve in iter 1, krylovdim = 26: 3 values converged, normres = (5.38e-31, 3.07e-15, 2.86e-14, 4.21e-10, 4.18e-12)\n",
      "[ Info: Arnoldi iteration step 27: normres = 0.022832202068136038\n",
      "[ Info: Arnoldi schursolve in iter 1, krylovdim = 27: 3 values converged, normres = (5.12e-33, 4.70e-17, 4.38e-16, 2.34e-10, 4.81e-12)\n",
      "[ Info: Arnoldi iteration step 28: normres = 0.10247978750366912\n",
      "[ Info: Arnoldi schursolve in iter 1, krylovdim = 28: 3 values converged, normres = (2.27e-34, 3.43e-18, 3.20e-17, 3.97e-06, 4.81e-07)\n",
      "[ Info: Arnoldi iteration step 29: normres = 0.020551570367735614\n",
      "[ Info: Arnoldi schursolve in iter 1, krylovdim = 29: 3 values converged, normres = (1.98e-36, 4.85e-20, 4.52e-19, 7.56e-08, 2.90e-08)\n",
      "[ Info: Arnoldi iteration step 30: normres = 0.19054368647\n",
      "[ Info: Arnoldi schursolve in iter 1, krylovdim = 30: 3 values converged, normres = (1.65e-37, 6.71e-21, 6.26e-20, 1.82e-10, 1.55e-08)\n",
      "[ Info: Arnoldi schursolve in iter 2, krylovdim = 19: 3 values converged, normres = (1.65e-37, 6.71e-21, 6.26e-20, 1.82e-10, 1.55e-08)\n",
      "[ Info: Arnoldi iteration step 20: normres = 0.09442729015211754\n",
      "[ Info: Arnoldi schursolve in iter 2, krylovdim = 20: 3 values converged, normres = (7.26e-39, 5.16e-22, 4.81e-21, 3.13e-11, 1.32e-09)\n",
      "[ Info: Arnoldi iteration step 21: normres = 0.049676695500784705\n",
      "[ Info: Arnoldi schursolve in iter 2, krylovdim = 21: 3 values converged, normres = (1.58e-40, 1.86e-23, 1.74e-22, 1.22e-12, 5.30e-11)\n",
      "[ Info: Arnoldi iteration step 22: normres = 0.013574830703063935\n",
      "┌ Info: Arnoldi eigsolve finished after 2 iterations:\n",
      "│ *  6 eigenvalues converged\n",
      "│ *  norm of residuals = (8.809237950280262e-43, 1.660832237759934e-25, 1.5067602869531906e-24, 1.1924866957425985e-14, 4.765521087158624e-13, 2.8925611444583493e-16)\n",
      "└ *  number of operations = 33\n"
     ]
    }
   ],
   "cell_type": "code",
   "source": [
    "eigsolve(eps_fun, randn(size(scfres.ρ)), 5, :LM; eager=true, verbosity=3);"
   ],
   "metadata": {},
   "execution_count": 3
  }
 ],
 "nbformat_minor": 3,
 "metadata": {
  "language_info": {
   "file_extension": ".jl",
   "mimetype": "application/julia",
   "name": "julia",
   "version": "1.9.3"
  },
  "kernelspec": {
   "name": "julia-1.9",
   "display_name": "Julia 1.9.3",
   "language": "julia"
  }
 },
 "nbformat": 4
}
