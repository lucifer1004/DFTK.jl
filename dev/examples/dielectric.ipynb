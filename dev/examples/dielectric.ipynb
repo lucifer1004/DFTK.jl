{
 "cells": [
  {
   "cell_type": "markdown",
   "source": [
    "# Eigenvalues of the dielectric matrix\n",
    "\n",
    "We compute a few eigenvalues of the dielectric matrix ($q=0$, $ω=0$) iteratively."
   ],
   "metadata": {}
  },
  {
   "outputs": [
    {
     "name": "stdout",
     "output_type": "stream",
     "text": [
      "n     Energy            log10(ΔE)   log10(Δρ)   Diag   Δtime\n",
      "---   ---------------   ---------   ---------   ----   ------\n",
      "  1   -7.234016950937                   -0.50    7.0         \n",
      "  2   -7.250084804072       -1.79       -1.40    1.0   5.10ms\n",
      "  3   -7.250925604869       -3.08       -1.87    2.0   5.79ms\n",
      "  4   -7.250927334332       -5.76       -1.85    2.0   6.25ms\n",
      "  5   -7.251332787838       -3.39       -2.67    1.0   5.17ms\n",
      "  6   -7.251337987820       -5.28       -3.15    1.0   5.27ms\n",
      "  7   -7.251338588644       -6.22       -3.38    2.0   6.34ms\n",
      "  8   -7.251338788855       -6.70       -4.05    1.0   5.39ms\n",
      "  9   -7.251338796384       -8.12       -4.33    3.0   7.29ms\n",
      " 10   -7.251338798543       -8.67       -5.11    1.0   5.46ms\n",
      " 11   -7.251338798685       -9.85       -5.49    3.0   7.04ms\n",
      " 12   -7.251338798702      -10.78       -5.73    3.0   7.74ms\n",
      " 13   -7.251338798704      -11.72       -6.02    1.0   5.72ms\n",
      " 14   -7.251338798704      -12.11       -6.61    2.0   6.60ms\n",
      " 15   -7.251338798705      -13.21       -6.97    2.0   6.62ms\n",
      " 16   -7.251338798705      -14.05       -7.38    2.0   6.65ms\n",
      " 17   -7.251338798705      -14.75       -7.77    2.0   6.64ms\n",
      " 18   -7.251338798705   +  -14.45       -8.21    2.0   6.75ms\n"
     ]
    }
   ],
   "cell_type": "code",
   "source": [
    "using DFTK\n",
    "using Plots\n",
    "using KrylovKit\n",
    "using Printf\n",
    "\n",
    "# Calculation parameters\n",
    "kgrid = [1, 1, 1]\n",
    "Ecut = 5\n",
    "\n",
    "# Silicon lattice\n",
    "a = 10.26\n",
    "lattice = a / 2 .* [[0 1 1.]; [1 0 1.]; [1 1 0.]]\n",
    "Si = ElementPsp(:Si; psp=load_psp(\"hgh/lda/Si-q4\"))\n",
    "atoms     = [Si, Si]\n",
    "positions = [ones(3)/8, -ones(3)/8]\n",
    "\n",
    "# Compute the dielectric operator without symmetries\n",
    "model  = model_LDA(lattice, atoms, positions, symmetries=false)\n",
    "basis  = PlaneWaveBasis(model; Ecut, kgrid)\n",
    "scfres = self_consistent_field(basis, tol=1e-8);"
   ],
   "metadata": {},
   "execution_count": 1
  },
  {
   "cell_type": "markdown",
   "source": [
    "Applying $ε^† ≔ (1- χ_0 K)$ …"
   ],
   "metadata": {}
  },
  {
   "outputs": [],
   "cell_type": "code",
   "source": [
    "function eps_fun(δρ)\n",
    "    δV = apply_kernel(basis, δρ; ρ=scfres.ρ)\n",
    "    χ0δV = apply_χ0(scfres, δV)\n",
    "    δρ - χ0δV\n",
    "end;"
   ],
   "metadata": {},
   "execution_count": 2
  },
  {
   "cell_type": "markdown",
   "source": [
    "… eagerly diagonalizes the subspace matrix at each iteration"
   ],
   "metadata": {}
  },
  {
   "outputs": [
    {
     "name": "stdout",
     "output_type": "stream",
     "text": [
      "[ Info: Arnoldi iteration step 1: normres = 0.060518860031454985\n",
      "[ Info: Arnoldi iteration step 2: normres = 0.592046761570299\n",
      "[ Info: Arnoldi iteration step 3: normres = 0.7728487434855612\n",
      "[ Info: Arnoldi iteration step 4: normres = 0.21296909153927399\n",
      "[ Info: Arnoldi iteration step 5: normres = 0.6113239084011638\n",
      "[ Info: Arnoldi schursolve in iter 1, krylovdim = 5: 0 values converged, normres = (2.16e-02, 7.22e-02, 5.49e-01, 2.55e-01, 3.46e-02)\n",
      "[ Info: Arnoldi iteration step 6: normres = 0.24109654781712395\n",
      "[ Info: Arnoldi schursolve in iter 1, krylovdim = 6: 0 values converged, normres = (4.46e-03, 1.63e-01, 1.23e-01, 1.01e-01, 3.74e-02)\n",
      "[ Info: Arnoldi iteration step 7: normres = 0.10377490265930715\n",
      "[ Info: Arnoldi schursolve in iter 1, krylovdim = 7: 0 values converged, normres = (2.28e-04, 1.58e-02, 9.65e-03, 7.21e-02, 6.82e-02)\n",
      "[ Info: Arnoldi iteration step 8: normres = 0.09523720655433511\n",
      "[ Info: Arnoldi schursolve in iter 1, krylovdim = 8: 0 values converged, normres = (9.55e-06, 1.10e-03, 7.49e-04, 2.50e-02, 4.59e-02)\n",
      "[ Info: Arnoldi iteration step 9: normres = 0.09409026999567349\n",
      "[ Info: Arnoldi schursolve in iter 1, krylovdim = 9: 0 values converged, normres = (3.85e-07, 7.26e-05, 5.48e-05, 7.40e-03, 3.19e-02)\n",
      "[ Info: Arnoldi iteration step 10: normres = 0.0889132972548799\n",
      "[ Info: Arnoldi schursolve in iter 1, krylovdim = 10: 0 values converged, normres = (1.52e-08, 4.83e-06, 4.07e-06, 2.85e-03, 4.40e-02)\n",
      "[ Info: Arnoldi iteration step 11: normres = 0.05515752043459715\n",
      "[ Info: Arnoldi schursolve in iter 1, krylovdim = 11: 0 values converged, normres = (3.59e-10, 1.86e-07, 1.74e-07, 5.04e-04, 1.59e-02)\n",
      "[ Info: Arnoldi iteration step 12: normres = 0.09559250149290831\n",
      "[ Info: Arnoldi schursolve in iter 1, krylovdim = 12: 0 values converged, normres = (1.47e-11, 1.24e-08, 1.29e-08, 1.43e-04, 8.14e-03)\n",
      "[ Info: Arnoldi iteration step 13: normres = 0.06550788101097081\n",
      "[ Info: Arnoldi schursolve in iter 1, krylovdim = 13: 1 values converged, normres = (4.13e-13, 5.74e-10, 6.59e-10, 3.00e-05, 3.61e-03)\n",
      "[ Info: Arnoldi iteration step 14: normres = 0.5469438288919486\n",
      "[ Info: Arnoldi schursolve in iter 1, krylovdim = 14: 1 values converged, normres = (1.72e-13, 7.82e-10, 1.38e-09, 5.40e-01, 7.25e-03)\n",
      "[ Info: Arnoldi iteration step 15: normres = 0.02514512763509571\n",
      "[ Info: Arnoldi schursolve in iter 1, krylovdim = 15: 1 values converged, normres = (2.22e-15, 3.68e-11, 9.96e-03, 4.15e-03, 2.97e-06)\n",
      "[ Info: Arnoldi iteration step 16: normres = 0.5160327469093546\n",
      "[ Info: Arnoldi schursolve in iter 1, krylovdim = 16: 1 values converged, normres = (5.12e-16, 1.42e-11, 1.55e-03, 4.43e-03, 1.91e-06)\n",
      "[ Info: Arnoldi iteration step 17: normres = 0.08225181420917851\n",
      "[ Info: Arnoldi schursolve in iter 1, krylovdim = 17: 1 values converged, normres = (4.23e-17, 2.04e-10, 7.64e-02, 4.14e-04, 4.24e-03)\n",
      "[ Info: Arnoldi iteration step 18: normres = 0.028196324921776542\n",
      "[ Info: Arnoldi schursolve in iter 1, krylovdim = 18: 1 values converged, normres = (4.98e-19, 1.43e-03, 1.10e-04, 5.22e-06, 4.86e-05)\n",
      "[ Info: Arnoldi iteration step 19: normres = 0.1615865099393683\n",
      "[ Info: Arnoldi schursolve in iter 1, krylovdim = 19: 1 values converged, normres = (3.40e-20, 1.61e-09, 1.59e-04, 3.66e-06, 4.74e-06)\n",
      "[ Info: Arnoldi iteration step 20: normres = 0.050340561596757726\n",
      "[ Info: Arnoldi schursolve in iter 1, krylovdim = 20: 1 values converged, normres = (8.30e-22, 9.41e-10, 6.98e-06, 2.86e-08, 2.98e-07)\n",
      "[ Info: Arnoldi iteration step 21: normres = 0.03431235831903659\n",
      "[ Info: Arnoldi schursolve in iter 1, krylovdim = 21: 1 values converged, normres = (1.18e-23, 1.53e-07, 4.39e-08, 1.63e-09, 7.34e-09)\n",
      "[ Info: Arnoldi iteration step 22: normres = 0.04686740374829064\n",
      "[ Info: Arnoldi schursolve in iter 1, krylovdim = 22: 1 values converged, normres = (2.30e-25, 9.45e-11, 4.97e-09, 5.76e-11, 2.53e-10)\n",
      "[ Info: Arnoldi iteration step 23: normres = 0.5945284555736855\n",
      "[ Info: Arnoldi schursolve in iter 1, krylovdim = 23: 1 values converged, normres = (1.05e-25, 1.93e-10, 7.40e-09, 1.31e-10, 5.79e-10)\n",
      "[ Info: Arnoldi iteration step 24: normres = 0.013146046002597243\n",
      "[ Info: Arnoldi schursolve in iter 1, krylovdim = 24: 1 values converged, normres = (7.05e-28, 3.80e-12, 1.82e-10, 4.66e-03, 3.41e-03)\n",
      "[ Info: Arnoldi iteration step 25: normres = 0.049031183780432884\n",
      "[ Info: Arnoldi schursolve in iter 1, krylovdim = 25: 2 values converged, normres = (1.42e-29, 1.21e-13, 5.85e-12, 4.03e-09, 1.69e-08)\n",
      "[ Info: Arnoldi iteration step 26: normres = 0.0738370556044789\n",
      "[ Info: Arnoldi schursolve in iter 1, krylovdim = 26: 3 values converged, normres = (4.73e-31, 6.83e-15, 3.29e-13, 1.76e-09, 8.07e-09)\n",
      "[ Info: Arnoldi iteration step 27: normres = 0.016495959272809276\n",
      "[ Info: Arnoldi schursolve in iter 1, krylovdim = 27: 3 values converged, normres = (3.22e-33, 7.43e-17, 3.58e-15, 1.56e-07, 4.40e-08)\n",
      "[ Info: Arnoldi iteration step 28: normres = 0.049530811082785425\n",
      "[ Info: Arnoldi schursolve in iter 1, krylovdim = 28: 3 values converged, normres = (6.59e-35, 2.43e-18, 1.17e-16, 1.31e-10, 5.66e-09)\n",
      "[ Info: Arnoldi iteration step 29: normres = 0.0788081132938077\n",
      "[ Info: Arnoldi schursolve in iter 1, krylovdim = 29: 3 values converged, normres = (2.26e-36, 1.38e-19, 6.64e-18, 8.71e-12, 3.65e-10)\n",
      "[ Info: Arnoldi iteration step 30: normres = 0.1696361712376178\n",
      "[ Info: Arnoldi schursolve in iter 1, krylovdim = 30: 3 values converged, normres = (1.85e-37, 2.01e-20, 9.72e-19, 1.45e-12, 6.08e-11)\n",
      "[ Info: Arnoldi schursolve in iter 2, krylovdim = 19: 3 values converged, normres = (1.85e-37, 2.01e-20, 9.72e-19, 1.45e-12, 6.08e-11)\n",
      "[ Info: Arnoldi iteration step 20: normres = 0.02518804829799383\n",
      "[ Info: Arnoldi schursolve in iter 2, krylovdim = 20: 4 values converged, normres = (1.98e-39, 3.52e-22, 1.70e-20, 2.81e-14, 1.18e-12)\n",
      "[ Info: Arnoldi iteration step 21: normres = 0.10350981346327104\n",
      "┌ Info: Arnoldi eigsolve finished after 2 iterations:\n",
      "│ *  6 eigenvalues converged\n",
      "│ *  norm of residuals = (8.721243611911573e-41, 2.5196459190369473e-23, 1.1659053466664574e-21, 2.229465332048596e-15, 9.325905447974349e-14, 3.8094329128262474e-14)\n",
      "└ *  number of operations = 32\n"
     ]
    }
   ],
   "cell_type": "code",
   "source": [
    "eigsolve(eps_fun, randn(size(scfres.ρ)), 5, :LM; eager=true, verbosity=3);"
   ],
   "metadata": {},
   "execution_count": 3
  }
 ],
 "nbformat_minor": 3,
 "metadata": {
  "language_info": {
   "file_extension": ".jl",
   "mimetype": "application/julia",
   "name": "julia",
   "version": "1.9.4"
  },
  "kernelspec": {
   "name": "julia-1.9",
   "display_name": "Julia 1.9.4",
   "language": "julia"
  }
 },
 "nbformat": 4
}
