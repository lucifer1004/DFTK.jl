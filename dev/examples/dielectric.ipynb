{
 "cells": [
  {
   "cell_type": "markdown",
   "source": [
    "# Eigenvalues of the dielectric matrix\n",
    "\n",
    "We compute a few eigenvalues of the dielectric matrix ($q=0$, $ω=0$) iteratively."
   ],
   "metadata": {}
  },
  {
   "outputs": [
    {
     "name": "stdout",
     "output_type": "stream",
     "text": [
      "n     Energy            log10(ΔE)   log10(Δρ)   Diag   Δtime\n",
      "---   ---------------   ---------   ---------   ----   ------\n",
      "  1   -7.234709570286                   -0.50    8.0         \n",
      "  2   -7.250200535703       -1.81       -1.40    1.0   5.01ms\n",
      "  3   -7.251239754851       -2.98       -2.08    2.0   6.08ms\n",
      "  4   -7.251224029957   +   -4.80       -2.11    2.0   6.35ms\n",
      "  5   -7.251324021740       -4.00       -2.58    1.0   5.16ms\n",
      "  6   -7.251338018207       -4.85       -3.18    1.0   5.29ms\n",
      "  7   -7.251338693130       -6.17       -3.55    2.0   6.55ms\n",
      "  8   -7.251338781646       -7.05       -3.98    1.0   5.81ms\n",
      "  9   -7.251338797547       -7.80       -4.56    2.0   6.77ms\n",
      " 10   -7.251338798580       -8.99       -5.09    1.0   5.78ms\n",
      " 11   -7.251338798686       -9.97       -5.43    2.0   7.11ms\n",
      " 12   -7.251338798702      -10.80       -5.94    1.0   6.01ms\n",
      " 13   -7.251338798704      -11.81       -6.16    2.0   7.16ms\n",
      " 14   -7.251338798704      -12.26       -6.67    1.0   6.13ms\n",
      " 15   -7.251338798705      -13.23       -7.18    2.0   7.10ms\n",
      " 16   -7.251338798705      -14.35       -7.48    2.0   7.32ms\n",
      " 17   -7.251338798705      -15.05       -7.92    1.0   6.07ms\n",
      " 18   -7.251338798705      -14.57       -8.24    3.0   8.11ms\n"
     ]
    }
   ],
   "cell_type": "code",
   "source": [
    "using DFTK\n",
    "using Plots\n",
    "using KrylovKit\n",
    "using Printf\n",
    "\n",
    "# Calculation parameters\n",
    "kgrid = [1, 1, 1]\n",
    "Ecut = 5\n",
    "\n",
    "# Silicon lattice\n",
    "a = 10.26\n",
    "lattice = a / 2 .* [[0 1 1.]; [1 0 1.]; [1 1 0.]]\n",
    "Si = ElementPsp(:Si, psp=load_psp(\"hgh/lda/Si-q4\"))\n",
    "atoms     = [Si, Si]\n",
    "positions = [ones(3)/8, -ones(3)/8]\n",
    "\n",
    "# Compute the dielectric operator without symmetries\n",
    "model  = model_LDA(lattice, atoms, positions, symmetries=false)\n",
    "basis  = PlaneWaveBasis(model; Ecut, kgrid)\n",
    "scfres = self_consistent_field(basis, tol=1e-8);"
   ],
   "metadata": {},
   "execution_count": 1
  },
  {
   "cell_type": "markdown",
   "source": [
    "Applying $ε^† ≔ (1- χ_0 K)$ …"
   ],
   "metadata": {}
  },
  {
   "outputs": [],
   "cell_type": "code",
   "source": [
    "function eps_fun(δρ)\n",
    "    δV = apply_kernel(basis, δρ; ρ=scfres.ρ)\n",
    "    χ0δV = apply_χ0(scfres, δV)\n",
    "    δρ - χ0δV\n",
    "end;"
   ],
   "metadata": {},
   "execution_count": 2
  },
  {
   "cell_type": "markdown",
   "source": [
    "… eagerly diagonalizes the subspace matrix at each iteration"
   ],
   "metadata": {}
  },
  {
   "outputs": [
    {
     "name": "stdout",
     "output_type": "stream",
     "text": [
      "[ Info: Arnoldi iteration step 1: normres = 0.05214909378950525\n",
      "[ Info: Arnoldi iteration step 2: normres = 0.6466395595562322\n",
      "[ Info: Arnoldi iteration step 3: normres = 0.8576247088236325\n",
      "[ Info: Arnoldi iteration step 4: normres = 0.3178521262913532\n",
      "[ Info: Arnoldi iteration step 5: normres = 0.4585354026504468\n",
      "[ Info: Arnoldi schursolve in iter 1, krylovdim = 5: 0 values converged, normres = (4.32e-02, 7.99e-02, 3.47e-01, 2.84e-01, 2.12e-02)\n",
      "[ Info: Arnoldi iteration step 6: normres = 0.3567936907679814\n",
      "[ Info: Arnoldi schursolve in iter 1, krylovdim = 6: 0 values converged, normres = (1.28e-02, 1.26e-01, 3.04e-01, 9.75e-02, 9.58e-02)\n",
      "[ Info: Arnoldi iteration step 7: normres = 0.08296660266298259\n",
      "[ Info: Arnoldi schursolve in iter 1, krylovdim = 7: 0 values converged, normres = (5.44e-04, 1.50e-02, 1.89e-02, 3.77e-02, 5.74e-02)\n",
      "[ Info: Arnoldi iteration step 8: normres = 0.11648449120042077\n",
      "[ Info: Arnoldi schursolve in iter 1, krylovdim = 8: 0 values converged, normres = (2.79e-05, 1.27e-03, 1.81e-03, 1.66e-02, 5.94e-02)\n",
      "[ Info: Arnoldi iteration step 9: normres = 0.08265942133211839\n",
      "[ Info: Arnoldi schursolve in iter 1, krylovdim = 9: 0 values converged, normres = (9.85e-07, 7.36e-05, 1.16e-04, 4.50e-03, 3.26e-02)\n",
      "[ Info: Arnoldi iteration step 10: normres = 0.07160148711709004\n",
      "[ Info: Arnoldi schursolve in iter 1, krylovdim = 10: 0 values converged, normres = (3.11e-08, 3.88e-06, 6.80e-06, 1.27e-03, 2.27e-02)\n",
      "[ Info: Arnoldi iteration step 11: normres = 0.08994574250677811\n",
      "[ Info: Arnoldi schursolve in iter 1, krylovdim = 11: 0 values converged, normres = (1.20e-09, 2.45e-07, 4.76e-07, 3.56e-04, 1.29e-02)\n",
      "[ Info: Arnoldi iteration step 12: normres = 0.06117825763907835\n",
      "[ Info: Arnoldi schursolve in iter 1, krylovdim = 12: 0 values converged, normres = (3.17e-11, 1.06e-08, 2.30e-08, 7.11e-05, 5.68e-03)\n",
      "[ Info: Arnoldi iteration step 13: normres = 0.04762843339173916\n",
      "[ Info: Arnoldi schursolve in iter 1, krylovdim = 13: 1 values converged, normres = (6.36e-13, 3.46e-10, 8.26e-10, 9.30e-06, 1.33e-03)\n",
      "[ Info: Arnoldi iteration step 14: normres = 0.6917716638724795\n",
      "[ Info: Arnoldi schursolve in iter 1, krylovdim = 14: 1 values converged, normres = (3.13e-13, 4.82e-10, 1.60e-09, 6.90e-01, 1.76e-02)\n",
      "[ Info: Arnoldi iteration step 15: normres = 0.12218100238490613\n",
      "[ Info: Arnoldi schursolve in iter 1, krylovdim = 15: 1 values converged, normres = (2.31e-14, 3.93e-10, 6.79e-02, 3.07e-05, 8.22e-07)\n",
      "[ Info: Arnoldi iteration step 16: normres = 0.2646153050870556\n",
      "[ Info: Arnoldi schursolve in iter 1, krylovdim = 16: 1 values converged, normres = (5.81e-15, 2.39e-09, 1.16e-01, 1.50e-03, 2.37e-01)\n",
      "[ Info: Arnoldi iteration step 17: normres = 0.029888461919175453\n",
      "[ Info: Arnoldi schursolve in iter 1, krylovdim = 17: 1 values converged, normres = (7.58e-17, 1.22e-08, 3.13e-03, 2.99e-03, 3.69e-03)\n",
      "[ Info: Arnoldi iteration step 18: normres = 0.027287784767795222\n",
      "[ Info: Arnoldi schursolve in iter 1, krylovdim = 18: 1 values converged, normres = (8.58e-19, 4.71e-05, 3.17e-05, 2.03e-05, 9.29e-05)\n",
      "[ Info: Arnoldi iteration step 19: normres = 0.23307869256592534\n",
      "[ Info: Arnoldi schursolve in iter 1, krylovdim = 19: 1 values converged, normres = (9.17e-20, 2.01e-08, 1.04e-05, 2.31e-08, 1.95e-05)\n",
      "[ Info: Arnoldi iteration step 20: normres = 0.028838795941633816\n",
      "[ Info: Arnoldi schursolve in iter 1, krylovdim = 20: 1 values converged, normres = (1.19e-21, 4.70e-08, 2.24e-07, 4.81e-07, 4.31e-08)\n",
      "[ Info: Arnoldi iteration step 21: normres = 0.03520584385849924\n",
      "[ Info: Arnoldi schursolve in iter 1, krylovdim = 21: 1 values converged, normres = (1.73e-23, 5.00e-09, 1.94e-09, 1.14e-08, 5.06e-09)\n",
      "[ Info: Arnoldi iteration step 22: normres = 0.023642392836825718\n",
      "[ Info: Arnoldi schursolve in iter 1, krylovdim = 22: 1 values converged, normres = (1.69e-25, 7.32e-11, 4.06e-11, 1.71e-10, 1.30e-10)\n",
      "[ Info: Arnoldi iteration step 23: normres = 0.5934678574729799\n",
      "[ Info: Arnoldi schursolve in iter 1, krylovdim = 23: 1 values converged, normres = (4.76e-26, 3.62e-11, 2.01e-11, 9.88e-11, 6.81e-11)\n",
      "[ Info: Arnoldi iteration step 24: normres = 0.028478089225796494\n",
      "[ Info: Arnoldi schursolve in iter 1, krylovdim = 24: 1 values converged, normres = (1.12e-27, 5.70e-12, 3.16e-12, 1.01e-09, 7.71e-10)\n",
      "[ Info: Arnoldi iteration step 25: normres = 0.0833577152062298\n",
      "[ Info: Arnoldi schursolve in iter 1, krylovdim = 25: 3 values converged, normres = (3.88e-29, 3.21e-13, 1.78e-13, 9.44e-04, 8.05e-04)\n",
      "[ Info: Arnoldi iteration step 26: normres = 0.04264093205390372\n",
      "[ Info: Arnoldi schursolve in iter 1, krylovdim = 26: 3 values converged, normres = (7.40e-31, 1.03e-14, 5.73e-15, 7.23e-09, 8.67e-09)\n",
      "[ Info: Arnoldi iteration step 27: normres = 0.07060108755087559\n",
      "[ Info: Arnoldi schursolve in iter 1, krylovdim = 27: 3 values converged, normres = (2.17e-32, 4.86e-16, 2.70e-16, 9.51e-10, 3.48e-09)\n",
      "[ Info: Arnoldi iteration step 28: normres = 0.03861332583484456\n",
      "[ Info: Arnoldi schursolve in iter 1, krylovdim = 28: 3 values converged, normres = (3.69e-34, 1.38e-17, 7.65e-18, 4.54e-08, 7.38e-08)\n",
      "[ Info: Arnoldi iteration step 29: normres = 0.014617813669113243\n",
      "[ Info: Arnoldi schursolve in iter 1, krylovdim = 29: 3 values converged, normres = (2.22e-36, 1.32e-19, 7.35e-20, 8.02e-10, 7.51e-11)\n",
      "[ Info: Arnoldi iteration step 30: normres = 0.08891889024016014\n",
      "[ Info: Arnoldi schursolve in iter 1, krylovdim = 30: 3 values converged, normres = (8.30e-38, 7.98e-21, 4.43e-21, 5.04e-11, 1.02e-12)\n",
      "[ Info: Arnoldi schursolve in iter 2, krylovdim = 19: 3 values converged, normres = (8.30e-38, 7.98e-21, 4.43e-21, 5.04e-11, 1.02e-12)\n",
      "[ Info: Arnoldi iteration step 20: normres = 0.1296396131297003\n",
      "[ Info: Arnoldi schursolve in iter 2, krylovdim = 20: 3 values converged, normres = (4.69e-39, 7.46e-22, 4.14e-22, 5.25e-12, 1.28e-13)\n",
      "[ Info: Arnoldi iteration step 21: normres = 0.08149333655910068\n",
      "┌ Info: Arnoldi eigsolve finished after 2 iterations:\n",
      "│ *  6 eigenvalues converged\n",
      "│ *  norm of residuals = (1.8643067604625464e-40, 5.288531163004266e-23, 4.15068693716773e-23, 2.0367089244320843e-13, 2.0367089244320843e-13, 1.2707622811792647e-13)\n",
      "└ *  number of operations = 32\n"
     ]
    }
   ],
   "cell_type": "code",
   "source": [
    "eigsolve(eps_fun, randn(size(scfres.ρ)), 5, :LM; eager=true, verbosity=3);"
   ],
   "metadata": {},
   "execution_count": 3
  }
 ],
 "nbformat_minor": 3,
 "metadata": {
  "language_info": {
   "file_extension": ".jl",
   "mimetype": "application/julia",
   "name": "julia",
   "version": "1.9.4"
  },
  "kernelspec": {
   "name": "julia-1.9",
   "display_name": "Julia 1.9.4",
   "language": "julia"
  }
 },
 "nbformat": 4
}
