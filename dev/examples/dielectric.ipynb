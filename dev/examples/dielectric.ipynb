{
 "cells": [
  {
   "cell_type": "markdown",
   "source": [
    "# Eigenvalues of the dielectric matrix\n",
    "\n",
    "We compute a few eigenvalues of the dielectric matrix ($q=0$, $ω=0$) iteratively."
   ],
   "metadata": {}
  },
  {
   "outputs": [
    {
     "name": "stdout",
     "output_type": "stream",
     "text": [
      "n     Energy            log10(ΔE)   log10(Δρ)   Diag   Δtime\n",
      "---   ---------------   ---------   ---------   ----   ------\n",
      "  1   -7.234830606926                   -0.50    7.0         \n",
      "  2   -7.250223203944       -1.81       -1.39    1.0   5.18ms\n",
      "  3   -7.250907784228       -3.16       -1.89    1.0   5.32ms\n",
      "  4   -7.250894189228   +   -4.87       -1.84    2.0   6.53ms\n",
      "  5   -7.251334660877       -3.36       -2.76    1.0   5.40ms\n",
      "  6   -7.251338148692       -5.46       -3.22    1.0   5.67ms\n",
      "  7   -7.251338640428       -6.31       -3.41    2.0   7.00ms\n",
      "  8   -7.251338785279       -6.84       -3.95    1.0   5.69ms\n",
      "  9   -7.251338796339       -7.96       -4.33    3.0   7.76ms\n",
      " 10   -7.251338798400       -8.69       -4.89    1.0   5.86ms\n",
      " 11   -7.251338798673       -9.56       -5.28    3.0   7.60ms\n",
      " 12   -7.251338798701      -10.55       -5.77    1.0   6.02ms\n",
      " 13   -7.251338798704      -11.55       -6.30    2.0   6.91ms\n",
      " 14   -7.251338798705      -12.38       -6.83    2.0   7.47ms\n",
      " 15   -7.251338798705      -13.94       -7.41    1.0   5.99ms\n",
      " 16   -7.251338798705      -14.45       -7.91    2.0   6.93ms\n",
      " 17   -7.251338798705      -14.75       -8.31    2.0   47.4ms\n"
     ]
    }
   ],
   "cell_type": "code",
   "source": [
    "using DFTK\n",
    "using Plots\n",
    "using KrylovKit\n",
    "using Printf\n",
    "\n",
    "# Calculation parameters\n",
    "kgrid = [1, 1, 1]\n",
    "Ecut = 5\n",
    "\n",
    "# Silicon lattice\n",
    "a = 10.26\n",
    "lattice = a / 2 .* [[0 1 1.]; [1 0 1.]; [1 1 0.]]\n",
    "Si = ElementPsp(:Si; psp=load_psp(\"hgh/lda/Si-q4\"))\n",
    "atoms     = [Si, Si]\n",
    "positions = [ones(3)/8, -ones(3)/8]\n",
    "\n",
    "# Compute the dielectric operator without symmetries\n",
    "model  = model_LDA(lattice, atoms, positions, symmetries=false)\n",
    "basis  = PlaneWaveBasis(model; Ecut, kgrid)\n",
    "scfres = self_consistent_field(basis, tol=1e-8);"
   ],
   "metadata": {},
   "execution_count": 1
  },
  {
   "cell_type": "markdown",
   "source": [
    "Applying $ε^† ≔ (1- χ_0 K)$ …"
   ],
   "metadata": {}
  },
  {
   "outputs": [],
   "cell_type": "code",
   "source": [
    "function eps_fun(δρ)\n",
    "    δV = apply_kernel(basis, δρ; ρ=scfres.ρ)\n",
    "    χ0δV = apply_χ0(scfres, δV)\n",
    "    δρ - χ0δV\n",
    "end;"
   ],
   "metadata": {},
   "execution_count": 2
  },
  {
   "cell_type": "markdown",
   "source": [
    "… eagerly diagonalizes the subspace matrix at each iteration"
   ],
   "metadata": {}
  },
  {
   "outputs": [
    {
     "name": "stdout",
     "output_type": "stream",
     "text": [
      "[ Info: Arnoldi iteration step 1: normres = 0.05741606623698882\n",
      "[ Info: Arnoldi iteration step 2: normres = 0.6121416047785694\n",
      "[ Info: Arnoldi iteration step 3: normres = 0.8381029034718417\n",
      "[ Info: Arnoldi iteration step 4: normres = 0.32372800423183584\n",
      "[ Info: Arnoldi iteration step 5: normres = 0.4261870717537284\n",
      "[ Info: Arnoldi schursolve in iter 1, krylovdim = 5: 0 values converged, normres = (3.61e-02, 6.89e-02, 2.83e-01, 3.08e-01, 2.02e-02)\n",
      "[ Info: Arnoldi iteration step 6: normres = 0.31186515583201846\n",
      "[ Info: Arnoldi schursolve in iter 1, krylovdim = 6: 0 values converged, normres = (9.75e-03, 1.12e-01, 2.64e-01, 7.86e-02, 5.20e-02)\n",
      "[ Info: Arnoldi iteration step 7: normres = 0.06505640786767604\n",
      "[ Info: Arnoldi schursolve in iter 1, krylovdim = 7: 0 values converged, normres = (3.02e-04, 7.76e-03, 1.37e-02, 1.94e-02, 5.48e-02)\n",
      "[ Info: Arnoldi iteration step 8: normres = 0.10302511701615821\n",
      "[ Info: Arnoldi schursolve in iter 1, krylovdim = 8: 0 values converged, normres = (1.33e-05, 5.57e-04, 1.09e-03, 5.96e-03, 3.68e-02)\n",
      "[ Info: Arnoldi iteration step 9: normres = 0.07721956974023104\n",
      "[ Info: Arnoldi schursolve in iter 1, krylovdim = 9: 0 values converged, normres = (4.47e-07, 3.11e-05, 6.75e-05, 1.68e-03, 3.77e-02)\n",
      "[ Info: Arnoldi iteration step 10: normres = 0.10046328815841311\n",
      "[ Info: Arnoldi schursolve in iter 1, krylovdim = 10: 0 values converged, normres = (1.96e-08, 2.26e-06, 5.47e-06, 6.13e-04, 3.70e-02)\n",
      "[ Info: Arnoldi iteration step 11: normres = 0.07735236850052882\n",
      "[ Info: Arnoldi schursolve in iter 1, krylovdim = 11: 0 values converged, normres = (6.66e-10, 1.28e-07, 3.44e-07, 1.87e-04, 3.36e-02)\n",
      "[ Info: Arnoldi iteration step 12: normres = 0.08049047890119798\n",
      "[ Info: Arnoldi schursolve in iter 1, krylovdim = 12: 0 values converged, normres = (2.29e-11, 7.18e-09, 2.14e-08, 4.63e-05, 1.58e-02)\n",
      "[ Info: Arnoldi iteration step 13: normres = 0.04384678942109861\n",
      "[ Info: Arnoldi schursolve in iter 1, krylovdim = 13: 1 values converged, normres = (4.29e-13, 2.19e-10, 7.24e-10, 6.04e-06, 3.90e-03)\n",
      "[ Info: Arnoldi iteration step 14: normres = 0.7194788612136475\n",
      "[ Info: Arnoldi schursolve in iter 1, krylovdim = 14: 1 values converged, normres = (1.74e-13, 1.82e-10, 7.17e-10, 7.15e-01, 9.03e-03)\n",
      "[ Info: Arnoldi iteration step 15: normres = 0.08573389867871309\n",
      "[ Info: Arnoldi schursolve in iter 1, krylovdim = 15: 1 values converged, normres = (1.16e-14, 2.95e-10, 6.32e-02, 6.71e-04, 1.23e-05)\n",
      "[ Info: Arnoldi iteration step 16: normres = 0.5350515964717805\n",
      "[ Info: Arnoldi schursolve in iter 1, krylovdim = 16: 1 values converged, normres = (4.88e-15, 6.93e-10, 9.43e-02, 2.28e-03, 5.21e-01)\n",
      "[ Info: Arnoldi iteration step 17: normres = 0.03290138403827631\n",
      "[ Info: Arnoldi schursolve in iter 1, krylovdim = 17: 1 values converged, normres = (8.35e-17, 9.93e-09, 5.94e-03, 5.38e-06, 1.26e-02)\n",
      "[ Info: Arnoldi iteration step 18: normres = 0.024125657918470038\n",
      "[ Info: Arnoldi schursolve in iter 1, krylovdim = 18: 1 values converged, normres = (8.32e-19, 5.77e-09, 9.48e-05, 1.93e-04, 1.09e-04)\n",
      "[ Info: Arnoldi iteration step 19: normres = 0.22299570168500046\n",
      "[ Info: Arnoldi schursolve in iter 1, krylovdim = 19: 1 values converged, normres = (8.56e-20, 6.37e-07, 1.67e-05, 2.46e-09, 4.39e-05)\n",
      "[ Info: Arnoldi iteration step 20: normres = 0.01718242680426636\n",
      "[ Info: Arnoldi schursolve in iter 1, krylovdim = 20: 1 values converged, normres = (6.54e-22, 2.60e-08, 2.16e-07, 7.74e-09, 6.39e-07)\n",
      "[ Info: Arnoldi iteration step 21: normres = 0.01870597316835527\n",
      "[ Info: Arnoldi schursolve in iter 1, krylovdim = 21: 1 values converged, normres = (5.01e-24, 1.02e-09, 2.44e-09, 3.15e-09, 7.95e-09)\n",
      "[ Info: Arnoldi iteration step 22: normres = 0.05351379141886408\n",
      "[ Info: Arnoldi schursolve in iter 1, krylovdim = 22: 1 values converged, normres = (1.10e-25, 3.50e-11, 8.54e-11, 6.03e-11, 3.23e-10)\n",
      "[ Info: Arnoldi iteration step 23: normres = 0.540174649565576\n",
      "[ Info: Arnoldi schursolve in iter 1, krylovdim = 23: 1 values converged, normres = (4.52e-26, 4.66e-11, 1.13e-10, 1.21e-10, 6.52e-10)\n",
      "[ Info: Arnoldi iteration step 24: normres = 0.03931346160286147\n",
      "[ Info: Arnoldi schursolve in iter 1, krylovdim = 24: 1 values converged, normres = (9.29e-28, 3.56e-12, 8.68e-12, 1.89e-06, 7.36e-07)\n",
      "[ Info: Arnoldi iteration step 25: normres = 0.0656350282321214\n",
      "[ Info: Arnoldi schursolve in iter 1, krylovdim = 25: 3 values converged, normres = (2.53e-29, 1.56e-13, 3.79e-13, 5.02e-09, 1.78e-08)\n",
      "[ Info: Arnoldi iteration step 26: normres = 0.05572411631030127\n",
      "[ Info: Arnoldi schursolve in iter 1, krylovdim = 26: 3 values converged, normres = (6.35e-31, 6.60e-15, 1.61e-14, 1.17e-05, 8.12e-06)\n",
      "[ Info: Arnoldi iteration step 27: normres = 0.02268258235812381\n",
      "[ Info: Arnoldi schursolve in iter 1, krylovdim = 27: 3 values converged, normres = (5.94e-33, 9.87e-17, 2.40e-16, 5.89e-08, 1.31e-07)\n",
      "[ Info: Arnoldi iteration step 28: normres = 0.16877600916344168\n",
      "[ Info: Arnoldi schursolve in iter 1, krylovdim = 28: 3 values converged, normres = (4.39e-34, 1.21e-17, 2.95e-17, 4.15e-09, 1.20e-08)\n",
      "[ Info: Arnoldi iteration step 29: normres = 0.13722161101740168\n",
      "[ Info: Arnoldi schursolve in iter 1, krylovdim = 29: 3 values converged, normres = (2.78e-35, 1.33e-18, 3.24e-18, 9.74e-09, 1.07e-09)\n",
      "[ Info: Arnoldi iteration step 30: normres = 0.031105664324864734\n",
      "[ Info: Arnoldi schursolve in iter 1, krylovdim = 30: 3 values converged, normres = (3.92e-37, 3.19e-20, 7.76e-20, 2.91e-10, 5.78e-11)\n",
      "[ Info: Arnoldi schursolve in iter 2, krylovdim = 19: 3 values converged, normres = (3.92e-37, 3.19e-20, 7.76e-20, 2.91e-10, 5.78e-11)\n",
      "[ Info: Arnoldi iteration step 20: normres = 0.02362652913699779\n",
      "[ Info: Arnoldi schursolve in iter 2, krylovdim = 20: 3 values converged, normres = (3.80e-39, 4.94e-22, 1.20e-21, 4.94e-12, 1.05e-12)\n",
      "[ Info: Arnoldi iteration step 21: normres = 0.07607451582988226\n",
      "┌ Info: Arnoldi eigsolve finished after 2 iterations:\n",
      "│ *  6 eigenvalues converged\n",
      "│ *  norm of residuals = (1.2218016915968243e-40, 2.5694352738915208e-23, 3.315239011341352e-23, 2.84326604461877e-13, 1.7115738698676e-14, 3.850924041528522e-14)\n",
      "└ *  number of operations = 32\n"
     ]
    }
   ],
   "cell_type": "code",
   "source": [
    "eigsolve(eps_fun, randn(size(scfres.ρ)), 5, :LM; eager=true, verbosity=3);"
   ],
   "metadata": {},
   "execution_count": 3
  }
 ],
 "nbformat_minor": 3,
 "metadata": {
  "language_info": {
   "file_extension": ".jl",
   "mimetype": "application/julia",
   "name": "julia",
   "version": "1.9.4"
  },
  "kernelspec": {
   "name": "julia-1.9",
   "display_name": "Julia 1.9.4",
   "language": "julia"
  }
 },
 "nbformat": 4
}
