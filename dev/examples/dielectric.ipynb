{
 "cells": [
  {
   "cell_type": "markdown",
   "source": [
    "# Eigenvalues of the dielectric matrix\n",
    "\n",
    "We compute a few eigenvalues of the dielectric matrix ($q=0$, $ω=0$) iteratively."
   ],
   "metadata": {}
  },
  {
   "outputs": [
    {
     "name": "stdout",
     "output_type": "stream",
     "text": [
      "n     Energy            log10(ΔE)   log10(Δρ)   Diag   Δtime\n",
      "---   ---------------   ---------   ---------   ----   ------\n",
      "  1   -7.234011773789                   -0.50    9.0         \n",
      "  2   -7.250263580936       -1.79       -1.40    1.0   5.36ms\n",
      "  3   -7.251178714544       -3.04       -2.19    1.0   5.40ms\n",
      "  4   -7.251307547350       -3.89       -2.27    2.0   6.81ms\n",
      "  5   -7.251335859566       -4.55       -2.83    1.0   5.42ms\n",
      "  6   -7.251336727083       -6.06       -2.97    2.0   6.43ms\n",
      "  7   -7.251338597670       -5.73       -3.46    1.0   5.55ms\n",
      "  8   -7.251338732180       -6.87       -3.68    2.0   7.51ms\n",
      "  9   -7.251338792743       -7.22       -4.18    1.0   6.69ms\n",
      " 10   -7.251338798612       -8.23       -4.95    3.0   8.52ms\n",
      " 11   -7.251338798691      -10.10       -5.44    1.0   7.32ms\n",
      " 12   -7.251338798698      -11.16       -5.68    1.0   8.84ms\n",
      " 13   -7.251338798704      -11.24       -6.41    1.0   8.76ms\n",
      " 14   -7.251338798704      -12.42       -6.48    3.0   63.7ms\n",
      " 15   -7.251338798705      -13.06       -6.83    1.0   6.05ms\n",
      " 16   -7.251338798705      -13.56       -7.16    2.0   6.83ms\n",
      " 17   -7.251338798705      -14.57       -7.40    1.0   5.78ms\n",
      " 18   -7.251338798705      -14.75       -8.17    2.0   6.49ms\n"
     ]
    }
   ],
   "cell_type": "code",
   "source": [
    "using DFTK\n",
    "using Plots\n",
    "using KrylovKit\n",
    "using Printf\n",
    "\n",
    "# Calculation parameters\n",
    "kgrid = [1, 1, 1]\n",
    "Ecut = 5\n",
    "\n",
    "# Silicon lattice\n",
    "a = 10.26\n",
    "lattice = a / 2 .* [[0 1 1.]; [1 0 1.]; [1 1 0.]]\n",
    "Si = ElementPsp(:Si; psp=load_psp(\"hgh/lda/Si-q4\"))\n",
    "atoms     = [Si, Si]\n",
    "positions = [ones(3)/8, -ones(3)/8]\n",
    "\n",
    "# Compute the dielectric operator without symmetries\n",
    "model  = model_LDA(lattice, atoms, positions, symmetries=false)\n",
    "basis  = PlaneWaveBasis(model; Ecut, kgrid)\n",
    "scfres = self_consistent_field(basis, tol=1e-8);"
   ],
   "metadata": {},
   "execution_count": 1
  },
  {
   "cell_type": "markdown",
   "source": [
    "Applying $ε^† ≔ (1- χ_0 K)$ …"
   ],
   "metadata": {}
  },
  {
   "outputs": [],
   "cell_type": "code",
   "source": [
    "function eps_fun(δρ)\n",
    "    δV = apply_kernel(basis, δρ; ρ=scfres.ρ)\n",
    "    χ0δV = apply_χ0(scfres, δV)\n",
    "    δρ - χ0δV\n",
    "end;"
   ],
   "metadata": {},
   "execution_count": 2
  },
  {
   "cell_type": "markdown",
   "source": [
    "… eagerly diagonalizes the subspace matrix at each iteration"
   ],
   "metadata": {}
  },
  {
   "outputs": [
    {
     "name": "stdout",
     "output_type": "stream",
     "text": [
      "[ Info: Arnoldi iteration step 1: normres = 0.037263369155274166\n",
      "[ Info: Arnoldi iteration step 2: normres = 0.5044378256234491\n",
      "[ Info: Arnoldi iteration step 3: normres = 0.7771165801489451\n",
      "[ Info: Arnoldi iteration step 4: normres = 0.4561941583474627\n",
      "[ Info: Arnoldi iteration step 5: normres = 0.4800884284542249\n",
      "[ Info: Arnoldi schursolve in iter 1, krylovdim = 5: 0 values converged, normres = (9.46e-02, 7.74e-02, 4.07e-01, 2.23e-01, 1.69e-02)\n",
      "[ Info: Arnoldi iteration step 6: normres = 0.38538812884099394\n",
      "[ Info: Arnoldi schursolve in iter 1, krylovdim = 6: 0 values converged, normres = (3.11e-02, 1.89e-01, 2.85e-01, 1.41e-01, 9.55e-02)\n",
      "[ Info: Arnoldi iteration step 7: normres = 0.0789089417364965\n",
      "[ Info: Arnoldi schursolve in iter 1, krylovdim = 7: 0 values converged, normres = (1.25e-03, 1.79e-02, 1.56e-02, 5.09e-02, 4.45e-02)\n",
      "[ Info: Arnoldi iteration step 8: normres = 0.11862330539505117\n",
      "[ Info: Arnoldi schursolve in iter 1, krylovdim = 8: 0 values converged, normres = (6.46e-05, 1.52e-03, 1.47e-03, 1.97e-02, 4.20e-02)\n",
      "[ Info: Arnoldi iteration step 9: normres = 0.08421329936908213\n",
      "[ Info: Arnoldi schursolve in iter 1, krylovdim = 9: 0 values converged, normres = (2.38e-06, 9.28e-05, 9.98e-05, 6.31e-03, 4.78e-02)\n",
      "[ Info: Arnoldi iteration step 10: normres = 0.09126167591991978\n",
      "[ Info: Arnoldi schursolve in iter 1, krylovdim = 10: 0 values converged, normres = (9.40e-08, 6.05e-06, 7.24e-06, 1.97e-03, 3.29e-02)\n",
      "[ Info: Arnoldi iteration step 11: normres = 0.07955631739939718\n",
      "[ Info: Arnoldi schursolve in iter 1, krylovdim = 11: 0 values converged, normres = (3.29e-09, 3.54e-07, 4.72e-07, 6.31e-04, 2.95e-02)\n",
      "[ Info: Arnoldi iteration step 12: normres = 0.07163916790820307\n",
      "[ Info: Arnoldi schursolve in iter 1, krylovdim = 12: 0 values converged, normres = (1.00e-10, 1.75e-08, 2.58e-08, 1.31e-04, 1.17e-02)\n",
      "[ Info: Arnoldi iteration step 13: normres = 0.033222359614558834\n",
      "[ Info: Arnoldi schursolve in iter 1, krylovdim = 13: 0 values converged, normres = (1.42e-12, 4.07e-10, 6.66e-10, 1.34e-05, 2.33e-03)\n",
      "[ Info: Arnoldi iteration step 14: normres = 0.749083763948654\n",
      "[ Info: Arnoldi schursolve in iter 1, krylovdim = 14: 1 values converged, normres = (5.98e-13, 3.48e-10, 6.76e-10, 7.37e-01, 4.88e-02)\n",
      "[ Info: Arnoldi iteration step 15: normres = 0.09296855064928852\n",
      "[ Info: Arnoldi schursolve in iter 1, krylovdim = 15: 1 values converged, normres = (4.08e-14, 1.99e-10, 7.00e-02, 1.93e-04, 2.59e-06)\n",
      "[ Info: Arnoldi iteration step 16: normres = 0.44324592117731826\n",
      "[ Info: Arnoldi schursolve in iter 1, krylovdim = 16: 1 values converged, normres = (1.64e-14, 6.88e-10, 1.84e-01, 4.38e-03, 4.02e-01)\n",
      "[ Info: Arnoldi iteration step 17: normres = 0.03462898941587579\n",
      "[ Info: Arnoldi schursolve in iter 1, krylovdim = 17: 1 values converged, normres = (2.73e-16, 1.31e-08, 8.70e-03, 2.46e-06, 6.90e-03)\n",
      "[ Info: Arnoldi iteration step 18: normres = 0.02130851141969624\n",
      "[ Info: Arnoldi schursolve in iter 1, krylovdim = 18: 1 values converged, normres = (2.41e-18, 4.64e-09, 1.24e-04, 1.08e-04, 9.05e-06)\n",
      "[ Info: Arnoldi iteration step 19: normres = 0.16553673984168651\n",
      "[ Info: Arnoldi schursolve in iter 1, krylovdim = 19: 1 values converged, normres = (1.69e-19, 1.15e-05, 8.08e-06, 6.11e-09, 1.36e-05)\n",
      "[ Info: Arnoldi iteration step 20: normres = 0.05449547397892868\n",
      "[ Info: Arnoldi schursolve in iter 1, krylovdim = 20: 1 values converged, normres = (4.47e-21, 5.69e-09, 6.68e-07, 7.35e-07, 3.00e-08)\n",
      "[ Info: Arnoldi iteration step 21: normres = 0.032101969952116616\n",
      "[ Info: Arnoldi schursolve in iter 1, krylovdim = 21: 1 values converged, normres = (5.97e-23, 1.29e-08, 6.23e-09, 3.94e-09, 1.70e-08)\n",
      "[ Info: Arnoldi iteration step 22: normres = 0.019138776730388423\n",
      "[ Info: Arnoldi schursolve in iter 1, krylovdim = 22: 1 values converged, normres = (4.70e-25, 1.69e-10, 6.12e-11, 5.04e-11, 2.36e-10)\n",
      "[ Info: Arnoldi iteration step 23: normres = 0.5298767857851564\n",
      "[ Info: Arnoldi schursolve in iter 1, krylovdim = 23: 1 values converged, normres = (1.14e-25, 6.97e-11, 2.51e-11, 2.36e-11, 1.09e-10)\n",
      "[ Info: Arnoldi iteration step 24: normres = 0.03526506739465057\n",
      "[ Info: Arnoldi schursolve in iter 1, krylovdim = 24: 1 values converged, normres = (3.43e-27, 1.45e-11, 5.21e-12, 2.75e-10, 1.27e-09)\n",
      "[ Info: Arnoldi iteration step 25: normres = 0.038242506378908185\n",
      "[ Info: Arnoldi schursolve in iter 1, krylovdim = 25: 3 values converged, normres = (5.40e-29, 3.69e-13, 1.33e-13, 7.10e-05, 2.53e-05)\n",
      "[ Info: Arnoldi iteration step 26: normres = 0.0795446589749022\n",
      "[ Info: Arnoldi schursolve in iter 1, krylovdim = 26: 3 values converged, normres = (1.92e-30, 2.21e-14, 7.93e-15, 6.65e-10, 3.08e-09)\n",
      "[ Info: Arnoldi iteration step 27: normres = 0.0637511263797767\n",
      "[ Info: Arnoldi schursolve in iter 1, krylovdim = 27: 3 values converged, normres = (5.10e-32, 9.43e-16, 3.39e-16, 5.57e-07, 6.03e-08)\n",
      "[ Info: Arnoldi iteration step 28: normres = 0.0604339025424069\n",
      "[ Info: Arnoldi schursolve in iter 1, krylovdim = 28: 3 values converged, normres = (1.37e-33, 4.23e-17, 1.52e-17, 6.85e-10, 8.20e-09)\n",
      "[ Info: Arnoldi iteration step 29: normres = 0.030947727180450333\n",
      "[ Info: Arnoldi schursolve in iter 1, krylovdim = 29: 3 values converged, normres = (1.75e-35, 8.65e-19, 3.11e-19, 1.47e-10, 3.09e-09)\n",
      "[ Info: Arnoldi iteration step 30: normres = 0.1421583526180072\n",
      "[ Info: Arnoldi schursolve in iter 1, krylovdim = 30: 3 values converged, normres = (1.21e-36, 1.07e-19, 3.85e-20, 1.82e-11, 4.34e-10)\n",
      "[ Info: Arnoldi schursolve in iter 2, krylovdim = 19: 3 values converged, normres = (1.21e-36, 1.07e-19, 3.85e-20, 1.82e-11, 4.34e-10)\n",
      "[ Info: Arnoldi iteration step 20: normres = 0.04679811913828115\n",
      "[ Info: Arnoldi schursolve in iter 2, krylovdim = 20: 4 values converged, normres = (2.39e-38, 3.46e-21, 1.25e-21, 6.66e-13, 1.56e-11)\n",
      "[ Info: Arnoldi iteration step 21: normres = 0.0657332255968053\n",
      "┌ Info: Arnoldi eigsolve finished after 2 iterations:\n",
      "│ *  6 eigenvalues converged\n",
      "│ *  norm of residuals = (6.746638380778339e-40, 1.5956514050987074e-22, 4.775750606681558e-23, 3.3987630999104996e-14, 7.505439773669149e-13, 5.5599409863300544e-14)\n",
      "└ *  number of operations = 32\n"
     ]
    }
   ],
   "cell_type": "code",
   "source": [
    "eigsolve(eps_fun, randn(size(scfres.ρ)), 5, :LM; eager=true, verbosity=3);"
   ],
   "metadata": {},
   "execution_count": 3
  }
 ],
 "nbformat_minor": 3,
 "metadata": {
  "language_info": {
   "file_extension": ".jl",
   "mimetype": "application/julia",
   "name": "julia",
   "version": "1.9.4"
  },
  "kernelspec": {
   "name": "julia-1.9",
   "display_name": "Julia 1.9.4",
   "language": "julia"
  }
 },
 "nbformat": 4
}
