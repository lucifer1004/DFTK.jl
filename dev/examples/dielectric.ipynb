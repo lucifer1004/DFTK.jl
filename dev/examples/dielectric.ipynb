{
 "cells": [
  {
   "cell_type": "markdown",
   "source": [
    "# Eigenvalues of the dielectric matrix\n",
    "\n",
    "We compute a few eigenvalues of the dielectric matrix ($q=0$, $ω=0$) iteratively."
   ],
   "metadata": {}
  },
  {
   "outputs": [
    {
     "name": "stdout",
     "output_type": "stream",
     "text": [
      "n     Energy            log10(ΔE)   log10(Δρ)   Diag   Δtime\n",
      "---   ---------------   ---------   ---------   ----   ------\n",
      "  1   -7.234346817972                   -0.50    8.0         \n",
      "  2   -7.249841381625       -1.81       -1.39    1.0   5.41ms\n",
      "  3   -7.251126637046       -2.89       -1.92    2.0   6.21ms\n",
      "  4   -7.251158462868       -4.50       -2.02    2.0   6.53ms\n",
      "  5   -7.251301797305       -3.84       -2.37    1.0   5.40ms\n",
      "  6   -7.251336915934       -4.45       -2.96    1.0   5.39ms\n",
      "  7   -7.251338637207       -5.76       -3.54    1.0   5.47ms\n",
      "  8   -7.251338772568       -6.87       -3.81    2.0   6.59ms\n",
      "  9   -7.251338796570       -7.62       -4.43    1.0   5.58ms\n",
      " 10   -7.251338798493       -8.72       -4.87    2.0   6.74ms\n",
      " 11   -7.251338798682       -9.72       -5.47    1.0   5.75ms\n",
      " 12   -7.251338798703      -10.70       -5.93    2.0   6.95ms\n",
      " 13   -7.251338798704      -11.80       -6.23    2.0   7.11ms\n",
      " 14   -7.251338798704      -12.61       -6.61    1.0   5.87ms\n",
      " 15   -7.251338798705      -13.33       -6.96    2.0   6.80ms\n",
      " 16   -7.251338798705      -13.91       -7.54    1.0   5.88ms\n",
      " 17   -7.251338798705      -14.35       -8.00    2.0   6.92ms\n",
      " 18   -7.251338798705   +    -Inf       -8.24    1.0   5.87ms\n"
     ]
    }
   ],
   "cell_type": "code",
   "source": [
    "using DFTK\n",
    "using Plots\n",
    "using KrylovKit\n",
    "using Printf\n",
    "\n",
    "# Calculation parameters\n",
    "kgrid = [1, 1, 1]\n",
    "Ecut = 5\n",
    "\n",
    "# Silicon lattice\n",
    "a = 10.26\n",
    "lattice = a / 2 .* [[0 1 1.]; [1 0 1.]; [1 1 0.]]\n",
    "Si = ElementPsp(:Si, psp=load_psp(\"hgh/lda/Si-q4\"))\n",
    "atoms     = [Si, Si]\n",
    "positions = [ones(3)/8, -ones(3)/8]\n",
    "\n",
    "# Compute the dielectric operator without symmetries\n",
    "model  = model_LDA(lattice, atoms, positions, symmetries=false)\n",
    "basis  = PlaneWaveBasis(model; Ecut, kgrid)\n",
    "scfres = self_consistent_field(basis, tol=1e-8);"
   ],
   "metadata": {},
   "execution_count": 1
  },
  {
   "cell_type": "markdown",
   "source": [
    "Applying $ε^† ≔ (1- χ_0 K)$ …"
   ],
   "metadata": {}
  },
  {
   "outputs": [],
   "cell_type": "code",
   "source": [
    "function eps_fun(δρ)\n",
    "    δV = apply_kernel(basis, δρ; ρ=scfres.ρ)\n",
    "    χ0δV = apply_χ0(scfres, δV)\n",
    "    δρ - χ0δV\n",
    "end;"
   ],
   "metadata": {},
   "execution_count": 2
  },
  {
   "cell_type": "markdown",
   "source": [
    "… eagerly diagonalizes the subspace matrix at each iteration"
   ],
   "metadata": {}
  },
  {
   "outputs": [
    {
     "name": "stdout",
     "output_type": "stream",
     "text": [
      "[ Info: Arnoldi iteration step 1: normres = 0.06153506915797236\n",
      "[ Info: Arnoldi iteration step 2: normres = 0.7221022335004316\n",
      "[ Info: Arnoldi iteration step 3: normres = 0.6902375081545293\n",
      "[ Info: Arnoldi iteration step 4: normres = 0.30233929520735714\n",
      "[ Info: Arnoldi iteration step 5: normres = 0.39144051205239644\n",
      "[ Info: Arnoldi schursolve in iter 1, krylovdim = 5: 0 values converged, normres = (1.89e-02, 7.43e-02, 2.51e-01, 2.89e-01, 2.92e-02)\n",
      "[ Info: Arnoldi iteration step 6: normres = 0.35914049507376167\n",
      "[ Info: Arnoldi schursolve in iter 1, krylovdim = 6: 0 values converged, normres = (6.08e-03, 1.84e-01, 2.86e-01, 7.87e-02, 7.89e-02)\n",
      "[ Info: Arnoldi iteration step 7: normres = 0.0655336043294616\n",
      "[ Info: Arnoldi schursolve in iter 1, krylovdim = 7: 0 values converged, normres = (1.96e-04, 1.38e-02, 1.19e-02, 1.96e-02, 5.17e-02)\n",
      "[ Info: Arnoldi iteration step 8: normres = 0.10351731500696151\n",
      "[ Info: Arnoldi schursolve in iter 1, krylovdim = 8: 0 values converged, normres = (8.70e-06, 1.00e-03, 9.53e-04, 6.12e-03, 3.89e-02)\n",
      "[ Info: Arnoldi iteration step 9: normres = 0.07183177930014753\n",
      "[ Info: Arnoldi schursolve in iter 1, krylovdim = 9: 0 values converged, normres = (2.69e-07, 5.08e-05, 5.37e-05, 1.44e-03, 2.71e-02)\n",
      "[ Info: Arnoldi iteration step 10: normres = 0.10601003581852052\n",
      "[ Info: Arnoldi schursolve in iter 1, krylovdim = 10: 0 values converged, normres = (1.25e-08, 3.93e-06, 4.63e-06, 5.70e-04, 3.89e-02)\n",
      "[ Info: Arnoldi iteration step 11: normres = 0.08427381593976123\n",
      "[ Info: Arnoldi schursolve in iter 1, krylovdim = 11: 0 values converged, normres = (4.60e-10, 2.40e-07, 3.14e-07, 1.81e-04, 4.03e-02)\n",
      "[ Info: Arnoldi iteration step 12: normres = 0.0862497930158884\n",
      "[ Info: Arnoldi schursolve in iter 1, krylovdim = 12: 0 values converged, normres = (1.72e-11, 1.48e-08, 2.15e-08, 5.36e-05, 2.40e-02)\n",
      "[ Info: Arnoldi iteration step 13: normres = 0.037303428238659\n",
      "[ Info: Arnoldi schursolve in iter 1, krylovdim = 13: 1 values converged, normres = (2.72e-13, 3.80e-10, 6.12e-10, 5.85e-06, 5.03e-03)\n",
      "[ Info: Arnoldi iteration step 14: normres = 0.6746571910428738\n",
      "[ Info: Arnoldi schursolve in iter 1, krylovdim = 14: 1 values converged, normres = (9.99e-14, 2.76e-10, 5.24e-10, 6.59e-01, 1.16e-01)\n",
      "[ Info: Arnoldi iteration step 15: normres = 0.09029811491184077\n",
      "[ Info: Arnoldi schursolve in iter 1, krylovdim = 15: 1 values converged, normres = (6.71e-15, 1.42e-10, 6.74e-02, 1.72e-03, 1.11e-05)\n",
      "[ Info: Arnoldi iteration step 16: normres = 0.6046720347283531\n",
      "[ Info: Arnoldi schursolve in iter 1, krylovdim = 16: 1 values converged, normres = (3.17e-15, 2.49e-10, 1.42e-01, 9.60e-03, 5.86e-01)\n",
      "[ Info: Arnoldi iteration step 17: normres = 0.03035163740825492\n",
      "[ Info: Arnoldi schursolve in iter 1, krylovdim = 17: 1 values converged, normres = (5.46e-17, 1.17e-02, 3.77e-03, 5.41e-04, 7.38e-03)\n",
      "[ Info: Arnoldi iteration step 18: normres = 0.03917388129396069\n",
      "[ Info: Arnoldi schursolve in iter 1, krylovdim = 18: 1 values converged, normres = (8.83e-19, 7.57e-06, 3.17e-04, 5.71e-05, 2.03e-04)\n",
      "[ Info: Arnoldi iteration step 19: normres = 0.14208643879563163\n",
      "[ Info: Arnoldi schursolve in iter 1, krylovdim = 19: 1 values converged, normres = (6.16e-20, 1.13e-08, 3.99e-05, 1.98e-07, 3.02e-05)\n",
      "[ Info: Arnoldi iteration step 20: normres = 0.017462240486526323\n",
      "[ Info: Arnoldi schursolve in iter 1, krylovdim = 20: 1 values converged, normres = (4.50e-22, 4.60e-07, 1.04e-07, 3.35e-08, 3.93e-07)\n",
      "[ Info: Arnoldi iteration step 21: normres = 0.03299231212170313\n",
      "[ Info: Arnoldi schursolve in iter 1, krylovdim = 21: 1 values converged, normres = (6.13e-24, 3.02e-09, 9.80e-09, 3.22e-09, 8.89e-09)\n",
      "[ Info: Arnoldi iteration step 22: normres = 0.028532908615704032\n",
      "[ Info: Arnoldi schursolve in iter 1, krylovdim = 22: 1 values converged, normres = (7.28e-26, 1.79e-10, 7.85e-11, 6.38e-11, 1.89e-10)\n",
      "[ Info: Arnoldi iteration step 23: normres = 0.6808176622727602\n",
      "[ Info: Arnoldi schursolve in iter 1, krylovdim = 23: 1 values converged, normres = (2.61e-26, 1.22e-10, 5.50e-11, 5.09e-11, 1.50e-10)\n",
      "[ Info: Arnoldi iteration step 24: normres = 0.029798344718466614\n",
      "[ Info: Arnoldi schursolve in iter 1, krylovdim = 24: 1 values converged, normres = (5.78e-28, 1.69e-11, 7.50e-12, 2.01e-09, 5.36e-09)\n",
      "[ Info: Arnoldi iteration step 25: normres = 0.07363406891143053\n",
      "[ Info: Arnoldi schursolve in iter 1, krylovdim = 25: 3 values converged, normres = (1.76e-29, 8.24e-13, 3.67e-13, 8.43e-05, 2.86e-04)\n",
      "[ Info: Arnoldi iteration step 26: normres = 0.04489739415026033\n",
      "[ Info: Arnoldi schursolve in iter 1, krylovdim = 26: 3 values converged, normres = (3.56e-31, 2.82e-14, 1.25e-14, 2.35e-09, 7.02e-09)\n",
      "[ Info: Arnoldi iteration step 27: normres = 0.02948828094134025\n",
      "[ Info: Arnoldi schursolve in iter 1, krylovdim = 27: 3 values converged, normres = (4.30e-33, 5.44e-16, 2.42e-16, 4.20e-07, 5.19e-07)\n",
      "[ Info: Arnoldi iteration step 28: normres = 0.10132282244967854\n",
      "[ Info: Arnoldi schursolve in iter 1, krylovdim = 28: 3 values converged, normres = (1.89e-34, 3.93e-17, 1.75e-17, 4.05e-09, 4.60e-08)\n",
      "[ Info: Arnoldi iteration step 29: normres = 0.11854797917395965\n",
      "[ Info: Arnoldi schursolve in iter 1, krylovdim = 29: 3 values converged, normres = (9.63e-36, 3.29e-18, 1.46e-18, 4.47e-10, 6.78e-09)\n",
      "[ Info: Arnoldi iteration step 30: normres = 0.04767749658015327\n",
      "[ Info: Arnoldi schursolve in iter 1, krylovdim = 30: 3 values converged, normres = (2.28e-37, 1.39e-19, 6.20e-20, 2.30e-11, 3.45e-10)\n",
      "[ Info: Arnoldi schursolve in iter 2, krylovdim = 19: 3 values converged, normres = (2.36e-37, 1.39e-19, 6.20e-20, 2.30e-11, 3.45e-10)\n",
      "[ Info: Arnoldi iteration step 20: normres = 0.04795462624305547\n",
      "[ Info: Arnoldi schursolve in iter 2, krylovdim = 20: 4 values converged, normres = (4.51e-39, 4.41e-21, 1.96e-21, 8.01e-13, 1.20e-11)\n",
      "[ Info: Arnoldi iteration step 21: normres = 0.05839021918228951\n",
      "┌ Info: Arnoldi eigsolve finished after 2 iterations:\n",
      "│ *  6 eigenvalues converged\n",
      "│ *  norm of residuals = (1.1317659341629274e-40, 1.813575938193226e-22, 6.022905907000378e-23, 3.6494242898703044e-14, 5.209115991009968e-13, 7.395064982816957e-14)\n",
      "└ *  number of operations = 32\n"
     ]
    }
   ],
   "cell_type": "code",
   "source": [
    "eigsolve(eps_fun, randn(size(scfres.ρ)), 5, :LM; eager=true, verbosity=3);"
   ],
   "metadata": {},
   "execution_count": 3
  }
 ],
 "nbformat_minor": 3,
 "metadata": {
  "language_info": {
   "file_extension": ".jl",
   "mimetype": "application/julia",
   "name": "julia",
   "version": "1.9.4"
  },
  "kernelspec": {
   "name": "julia-1.9",
   "display_name": "Julia 1.9.4",
   "language": "julia"
  }
 },
 "nbformat": 4
}
