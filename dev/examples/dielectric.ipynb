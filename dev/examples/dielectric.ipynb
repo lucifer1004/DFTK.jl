{
 "cells": [
  {
   "cell_type": "markdown",
   "source": [
    "# Eigenvalues of the dielectric matrix\n",
    "\n",
    "We compute a few eigenvalues of the dielectric matrix ($q=0$, $ω=0$) iteratively."
   ],
   "metadata": {}
  },
  {
   "outputs": [
    {
     "name": "stdout",
     "output_type": "stream",
     "text": [
      "n     Energy            log10(ΔE)   log10(Δρ)   Diag   Δtime\n",
      "---   ---------------   ---------   ---------   ----   ------\n",
      "  1   -7.233911435116                   -0.50    8.0         \n",
      "  2   -7.249835417358       -1.80       -1.38    1.0   12.0ms\n",
      "  3   -7.251061175072       -2.91       -1.87    2.0   14.3ms\n",
      "  4   -7.251035623181   +   -4.59       -1.91    1.0   11.6ms\n",
      "  5   -7.251324536804       -3.54       -2.59    1.0   11.5ms\n",
      "  6   -7.251337607301       -4.88       -3.15    1.0   14.1ms\n",
      "  7   -7.251338653455       -5.98       -3.52    2.0   17.8ms\n",
      "  8   -7.251338782571       -6.89       -4.06    1.0   13.8ms\n",
      "  9   -7.251338796818       -7.85       -4.35    3.0   18.9ms\n",
      " 10   -7.251338798348       -8.82       -4.80    1.0   14.2ms\n",
      " 11   -7.251338798668       -9.49       -5.44    3.0   17.7ms\n",
      " 12   -7.251338798697      -10.53       -5.60    2.0   16.0ms\n",
      " 13   -7.251338798703      -11.26       -5.98    1.0   13.2ms\n",
      " 14   -7.251338798704      -11.91       -6.33    2.0   16.0ms\n",
      " 15   -7.251338798705      -12.56       -6.93    2.0   15.4ms\n",
      " 16   -7.251338798705      -13.75       -7.54    2.0   16.3ms\n",
      " 17   -7.251338798705   +    -Inf       -7.88    2.0   15.7ms\n",
      " 18   -7.251338798705      -14.75       -8.47    1.0   13.3ms\n"
     ]
    }
   ],
   "cell_type": "code",
   "source": [
    "using DFTK\n",
    "using Plots\n",
    "using KrylovKit\n",
    "using Printf\n",
    "\n",
    "# Calculation parameters\n",
    "kgrid = [1, 1, 1]\n",
    "Ecut = 5\n",
    "\n",
    "# Silicon lattice\n",
    "a = 10.26\n",
    "lattice = a / 2 .* [[0 1 1.]; [1 0 1.]; [1 1 0.]]\n",
    "Si = ElementPsp(:Si, psp=load_psp(\"hgh/lda/Si-q4\"))\n",
    "atoms     = [Si, Si]\n",
    "positions = [ones(3)/8, -ones(3)/8]\n",
    "\n",
    "# Compute the dielectric operator without symmetries\n",
    "model  = model_LDA(lattice, atoms, positions, symmetries=false)\n",
    "basis  = PlaneWaveBasis(model; Ecut, kgrid)\n",
    "scfres = self_consistent_field(basis, tol=1e-8);"
   ],
   "metadata": {},
   "execution_count": 1
  },
  {
   "cell_type": "markdown",
   "source": [
    "Applying $ε^† ≔ (1- χ_0 K)$ …"
   ],
   "metadata": {}
  },
  {
   "outputs": [],
   "cell_type": "code",
   "source": [
    "function eps_fun(δρ)\n",
    "    δV = apply_kernel(basis, δρ; ρ=scfres.ρ)\n",
    "    χ0δV = apply_χ0(scfres, δV)\n",
    "    δρ - χ0δV\n",
    "end;"
   ],
   "metadata": {},
   "execution_count": 2
  },
  {
   "cell_type": "markdown",
   "source": [
    "… eagerly diagonalizes the subspace matrix at each iteration"
   ],
   "metadata": {}
  },
  {
   "outputs": [
    {
     "name": "stdout",
     "output_type": "stream",
     "text": [
      "[ Info: Arnoldi iteration step 1: normres = 0.054052209588599145\n",
      "[ Info: Arnoldi iteration step 2: normres = 0.33964339636786217\n",
      "[ Info: Arnoldi iteration step 3: normres = 0.3507620012651574\n",
      "[ Info: Arnoldi iteration step 4: normres = 0.961673847113989\n",
      "[ Info: Arnoldi iteration step 5: normres = 0.30980174396337945\n",
      "[ Info: Arnoldi schursolve in iter 1, krylovdim = 5: 0 values converged, normres = (1.57e-01, 2.85e-02, 1.93e-01, 1.80e-01, 2.62e-02)\n",
      "[ Info: Arnoldi iteration step 6: normres = 0.5982077185216905\n",
      "[ Info: Arnoldi schursolve in iter 1, krylovdim = 6: 0 values converged, normres = (7.20e-02, 6.44e-02, 5.64e-01, 1.29e-01, 1.03e-01)\n",
      "[ Info: Arnoldi iteration step 7: normres = 0.06851835883642277\n",
      "[ Info: Arnoldi schursolve in iter 1, krylovdim = 7: 0 values converged, normres = (3.17e-03, 3.59e-02, 6.95e-03, 3.06e-02, 4.15e-02)\n",
      "[ Info: Arnoldi iteration step 8: normres = 0.1184371868886506\n",
      "[ Info: Arnoldi schursolve in iter 1, krylovdim = 8: 0 values converged, normres = (1.62e-04, 3.01e-03, 6.31e-04, 1.12e-02, 3.80e-02)\n",
      "[ Info: Arnoldi iteration step 9: normres = 0.06801754859834616\n",
      "[ Info: Arnoldi schursolve in iter 1, krylovdim = 9: 0 values converged, normres = (4.76e-06, 1.46e-04, 3.41e-05, 2.67e-03, 3.22e-02)\n",
      "[ Info: Arnoldi iteration step 10: normres = 0.11455675468747246\n",
      "[ Info: Arnoldi schursolve in iter 1, krylovdim = 10: 0 values converged, normres = (2.40e-07, 1.22e-05, 3.19e-06, 1.16e-03, 4.22e-02)\n",
      "[ Info: Arnoldi iteration step 11: normres = 0.07587538547516845\n",
      "[ Info: Arnoldi schursolve in iter 1, krylovdim = 11: 0 values converged, normres = (7.90e-09, 6.67e-07, 1.93e-07, 3.26e-04, 3.32e-02)\n",
      "[ Info: Arnoldi iteration step 12: normres = 0.07227614448449163\n",
      "[ Info: Arnoldi schursolve in iter 1, krylovdim = 12: 0 values converged, normres = (2.43e-10, 3.35e-08, 1.08e-08, 7.08e-05, 1.31e-02)\n",
      "[ Info: Arnoldi iteration step 13: normres = 0.04457500803376656\n",
      "[ Info: Arnoldi schursolve in iter 1, krylovdim = 13: 0 values converged, normres = (4.63e-12, 1.04e-09, 3.70e-10, 9.35e-06, 3.23e-03)\n",
      "[ Info: Arnoldi iteration step 14: normres = 0.6954703006303573\n",
      "[ Info: Arnoldi schursolve in iter 1, krylovdim = 14: 0 values converged, normres = (1.86e-12, 8.76e-10, 3.74e-10, 6.76e-01, 8.04e-02)\n",
      "[ Info: Arnoldi iteration step 15: normres = 0.04607745707525615\n",
      "[ Info: Arnoldi schursolve in iter 1, krylovdim = 15: 1 values converged, normres = (5.85e-14, 1.60e-10, 3.20e-02, 4.31e-03, 1.76e-05)\n",
      "[ Info: Arnoldi iteration step 16: normres = 0.7392525326056035\n",
      "[ Info: Arnoldi schursolve in iter 1, krylovdim = 16: 1 values converged, normres = (2.47e-14, 1.42e-10, 3.35e-02, 3.78e-03, 7.30e-01)\n",
      "[ Info: Arnoldi iteration step 17: normres = 0.042124533611050334\n",
      "[ Info: Arnoldi schursolve in iter 1, krylovdim = 17: 1 values converged, normres = (8.32e-16, 5.13e-03, 3.05e-02, 7.90e-04, 5.27e-03)\n",
      "[ Info: Arnoldi iteration step 18: normres = 0.017997558886386534\n",
      "[ Info: Arnoldi schursolve in iter 1, krylovdim = 18: 1 values converged, normres = (6.17e-18, 2.56e-09, 3.66e-04, 1.36e-08, 6.98e-05)\n",
      "[ Info: Arnoldi iteration step 19: normres = 0.20942796382087553\n",
      "[ Info: Arnoldi schursolve in iter 1, krylovdim = 19: 1 values converged, normres = (5.53e-19, 5.17e-05, 1.50e-05, 1.12e-05, 1.62e-06)\n",
      "[ Info: Arnoldi iteration step 20: normres = 0.03191172580063678\n",
      "[ Info: Arnoldi schursolve in iter 1, krylovdim = 20: 1 values converged, normres = (8.44e-21, 9.04e-07, 1.15e-06, 3.50e-07, 2.36e-08)\n",
      "[ Info: Arnoldi iteration step 21: normres = 0.026504704752375086\n",
      "[ Info: Arnoldi schursolve in iter 1, krylovdim = 21: 1 values converged, normres = (9.19e-23, 1.28e-09, 2.53e-08, 3.32e-09, 5.81e-09)\n",
      "[ Info: Arnoldi iteration step 22: normres = 0.09660798354671142\n",
      "[ Info: Arnoldi schursolve in iter 1, krylovdim = 22: 1 values converged, normres = (3.71e-24, 1.98e-10, 1.64e-09, 2.92e-10, 3.83e-10)\n",
      "[ Info: Arnoldi iteration step 23: normres = 0.3934755324913308\n",
      "[ Info: Arnoldi schursolve in iter 1, krylovdim = 23: 1 values converged, normres = (1.23e-24, 2.47e-10, 2.32e-09, 8.49e-10, 1.08e-09)\n",
      "[ Info: Arnoldi iteration step 24: normres = 0.01690571822085645\n",
      "[ Info: Arnoldi schursolve in iter 1, krylovdim = 24: 1 values converged, normres = (9.68e-27, 5.98e-12, 5.11e-11, 3.33e-03, 3.50e-03)\n",
      "[ Info: Arnoldi iteration step 25: normres = 0.03659335292421494\n",
      "[ Info: Arnoldi schursolve in iter 1, krylovdim = 25: 2 values converged, normres = (1.45e-28, 1.43e-13, 1.22e-12, 3.37e-09, 6.94e-09)\n",
      "[ Info: Arnoldi iteration step 26: normres = 0.08793706955269852\n",
      "[ Info: Arnoldi schursolve in iter 1, krylovdim = 26: 3 values converged, normres = (5.66e-30, 9.28e-15, 7.92e-14, 2.32e-06, 2.01e-06)\n",
      "[ Info: Arnoldi iteration step 27: normres = 0.05484231483777693\n",
      "[ Info: Arnoldi schursolve in iter 1, krylovdim = 27: 3 values converged, normres = (1.30e-31, 3.46e-16, 2.95e-15, 2.20e-07, 2.79e-07)\n",
      "[ Info: Arnoldi iteration step 28: normres = 0.057547014562007226\n",
      "[ Info: Arnoldi schursolve in iter 1, krylovdim = 28: 3 values converged, normres = (3.34e-33, 1.49e-17, 1.27e-16, 1.84e-08, 1.78e-09)\n",
      "[ Info: Arnoldi iteration step 29: normres = 0.0635431308878074\n",
      "[ Info: Arnoldi schursolve in iter 1, krylovdim = 29: 3 values converged, normres = (8.79e-35, 6.27e-19, 5.35e-18, 8.74e-10, 2.08e-11)\n",
      "[ Info: Arnoldi iteration step 30: normres = 0.08287179407487535\n",
      "[ Info: Arnoldi schursolve in iter 1, krylovdim = 30: 3 values converged, normres = (3.60e-36, 4.65e-20, 3.96e-19, 7.40e-11, 2.10e-12)\n",
      "[ Info: Arnoldi schursolve in iter 2, krylovdim = 19: 3 values converged, normres = (3.60e-36, 4.65e-20, 3.96e-19, 7.40e-11, 2.10e-12)\n",
      "[ Info: Arnoldi iteration step 20: normres = 0.04518409812494398\n",
      "[ Info: Arnoldi schursolve in iter 2, krylovdim = 20: 3 values converged, normres = (6.77e-38, 1.41e-21, 1.20e-20, 2.47e-12, 6.65e-14)\n",
      "[ Info: Arnoldi iteration step 21: normres = 0.052552462269561555\n",
      "┌ Info: Arnoldi eigsolve finished after 2 iterations:\n",
      "│ *  6 eigenvalues converged\n",
      "│ *  norm of residuals = (1.5327946026801528e-39, 5.2308055800927114e-23, 4.48005303260869e-22, 1.0197657695842201e-13, 3.1364767640923344e-14, 3.0769636362672125e-14)\n",
      "└ *  number of operations = 32\n"
     ]
    }
   ],
   "cell_type": "code",
   "source": [
    "eigsolve(eps_fun, randn(size(scfres.ρ)), 5, :LM; eager=true, verbosity=3);"
   ],
   "metadata": {},
   "execution_count": 3
  }
 ],
 "nbformat_minor": 3,
 "metadata": {
  "language_info": {
   "file_extension": ".jl",
   "mimetype": "application/julia",
   "name": "julia",
   "version": "1.9.3"
  },
  "kernelspec": {
   "name": "julia-1.9",
   "display_name": "Julia 1.9.3",
   "language": "julia"
  }
 },
 "nbformat": 4
}
