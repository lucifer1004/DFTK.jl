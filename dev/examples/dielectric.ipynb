{
 "cells": [
  {
   "cell_type": "markdown",
   "source": [
    "# Eigenvalues of the dielectric matrix\n",
    "\n",
    "We compute a few eigenvalues of the dielectric matrix ($q=0$, $ω=0$) iteratively."
   ],
   "metadata": {}
  },
  {
   "outputs": [
    {
     "name": "stdout",
     "output_type": "stream",
     "text": [
      "n     Energy            log10(ΔE)   log10(Δρ)   Diag   Δtime\n",
      "---   ---------------   ---------   ---------   ----   ------\n",
      "  1   -7.233242743913                   -0.50    7.0         \n",
      "  2   -7.250006335755       -1.78       -1.40    1.0   5.04ms\n",
      "  3   -7.251249666858       -2.91       -2.05    2.0   6.12ms\n",
      "  4   -7.251230944064   +   -4.73       -2.12    1.0   5.15ms\n",
      "  5   -7.251325414348       -4.02       -2.61    1.0   5.18ms\n",
      "  6   -7.251337802279       -4.91       -3.17    1.0   5.24ms\n",
      "  7   -7.251338701477       -6.05       -3.56    2.0   6.38ms\n",
      "  8   -7.251338790244       -7.05       -4.09    1.0   69.2ms\n",
      "  9   -7.251338796535       -8.20       -4.33    3.0   7.22ms\n",
      " 10   -7.251338798309       -8.75       -4.77    1.0   5.48ms\n",
      " 11   -7.251338798664       -9.45       -5.41    2.0   6.49ms\n",
      " 12   -7.251338798696      -10.49       -5.54    3.0   7.56ms\n",
      " 13   -7.251338798704      -11.13       -6.20    1.0   5.92ms\n",
      " 14   -7.251338798704      -12.47       -6.20    3.0   7.93ms\n",
      " 15   -7.251338798704      -12.56       -6.77    1.0   5.78ms\n",
      " 16   -7.251338798705      -13.27       -7.58    3.0   7.81ms\n",
      " 17   -7.251338798705   +    -Inf       -7.93    1.0   5.79ms\n",
      " 18   -7.251338798705   +    -Inf       -8.43    1.0   5.85ms\n"
     ]
    }
   ],
   "cell_type": "code",
   "source": [
    "using DFTK\n",
    "using Plots\n",
    "using KrylovKit\n",
    "using Printf\n",
    "\n",
    "# Calculation parameters\n",
    "kgrid = [1, 1, 1]\n",
    "Ecut = 5\n",
    "\n",
    "# Silicon lattice\n",
    "a = 10.26\n",
    "lattice = a / 2 .* [[0 1 1.]; [1 0 1.]; [1 1 0.]]\n",
    "Si = ElementPsp(:Si, psp=load_psp(\"hgh/lda/Si-q4\"))\n",
    "atoms     = [Si, Si]\n",
    "positions = [ones(3)/8, -ones(3)/8]\n",
    "\n",
    "# Compute the dielectric operator without symmetries\n",
    "model  = model_LDA(lattice, atoms, positions, symmetries=false)\n",
    "basis  = PlaneWaveBasis(model; Ecut, kgrid)\n",
    "scfres = self_consistent_field(basis, tol=1e-8);"
   ],
   "metadata": {},
   "execution_count": 1
  },
  {
   "cell_type": "markdown",
   "source": [
    "Applying $ε^† ≔ (1- χ_0 K)$ …"
   ],
   "metadata": {}
  },
  {
   "outputs": [],
   "cell_type": "code",
   "source": [
    "function eps_fun(δρ)\n",
    "    δV = apply_kernel(basis, δρ; ρ=scfres.ρ)\n",
    "    χ0δV = apply_χ0(scfres, δV)\n",
    "    δρ - χ0δV\n",
    "end;"
   ],
   "metadata": {},
   "execution_count": 2
  },
  {
   "cell_type": "markdown",
   "source": [
    "… eagerly diagonalizes the subspace matrix at each iteration"
   ],
   "metadata": {}
  },
  {
   "outputs": [
    {
     "name": "stdout",
     "output_type": "stream",
     "text": [
      "[ Info: Arnoldi iteration step 1: normres = 0.037508054833337766\n",
      "[ Info: Arnoldi iteration step 2: normres = 0.7462827819007537\n",
      "[ Info: Arnoldi iteration step 3: normres = 0.751041321923003\n",
      "[ Info: Arnoldi iteration step 4: normres = 0.3663078444042354\n",
      "[ Info: Arnoldi iteration step 5: normres = 0.3355531560890057\n",
      "[ Info: Arnoldi schursolve in iter 1, krylovdim = 5: 0 values converged, normres = (3.74e-02, 6.62e-02, 2.39e-01, 2.21e-01, 2.35e-02)\n",
      "[ Info: Arnoldi iteration step 6: normres = 0.5047226017619406\n",
      "[ Info: Arnoldi schursolve in iter 1, krylovdim = 6: 0 values converged, normres = (1.41e-02, 8.63e-02, 4.64e-01, 1.27e-01, 1.25e-01)\n",
      "[ Info: Arnoldi iteration step 7: normres = 0.08251684342579076\n",
      "[ Info: Arnoldi schursolve in iter 1, krylovdim = 7: 0 values converged, normres = (6.73e-04, 1.60e-02, 3.57e-02, 4.56e-02, 4.51e-02)\n",
      "[ Info: Arnoldi iteration step 8: normres = 0.1275814926007949\n",
      "[ Info: Arnoldi schursolve in iter 1, krylovdim = 8: 0 values converged, normres = (3.77e-05, 1.50e-03, 3.69e-03, 2.08e-02, 5.03e-02)\n",
      "[ Info: Arnoldi iteration step 9: normres = 0.07882905670190238\n",
      "[ Info: Arnoldi schursolve in iter 1, krylovdim = 9: 0 values converged, normres = (1.28e-06, 8.38e-05, 2.30e-04, 5.74e-03, 3.44e-02)\n",
      "[ Info: Arnoldi iteration step 10: normres = 0.07960889943421436\n",
      "[ Info: Arnoldi schursolve in iter 1, krylovdim = 10: 0 values converged, normres = (4.49e-08, 4.89e-06, 1.49e-05, 1.78e-03, 2.71e-02)\n",
      "[ Info: Arnoldi iteration step 11: normres = 0.0726662728190637\n",
      "[ Info: Arnoldi schursolve in iter 1, krylovdim = 11: 0 values converged, normres = (1.40e-09, 2.51e-07, 8.50e-07, 4.20e-04, 1.39e-02)\n",
      "[ Info: Arnoldi iteration step 12: normres = 0.07364979854265345\n",
      "[ Info: Arnoldi schursolve in iter 1, krylovdim = 12: 0 values converged, normres = (4.41e-11, 1.29e-08, 4.83e-08, 9.12e-05, 5.54e-03)\n",
      "[ Info: Arnoldi iteration step 13: normres = 0.05819541580705942\n",
      "[ Info: Arnoldi schursolve in iter 1, krylovdim = 13: 0 values converged, normres = (1.08e-12, 5.12e-10, 2.13e-09, 1.47e-05, 1.63e-03)\n",
      "[ Info: Arnoldi iteration step 14: normres = 0.6793890501463962\n",
      "[ Info: Arnoldi schursolve in iter 1, krylovdim = 14: 1 values converged, normres = (5.54e-13, 8.29e-10, 5.16e-09, 6.78e-01, 6.05e-03)\n",
      "[ Info: Arnoldi iteration step 15: normres = 0.0674763047748022\n",
      "[ Info: Arnoldi schursolve in iter 1, krylovdim = 15: 1 values converged, normres = (2.23e-14, 2.04e-09, 3.54e-02, 9.01e-05, 4.78e-06)\n",
      "[ Info: Arnoldi iteration step 16: normres = 0.5786477783671746\n",
      "[ Info: Arnoldi schursolve in iter 1, krylovdim = 16: 1 values converged, normres = (9.38e-15, 4.66e-09, 4.35e-02, 1.26e-05, 5.73e-01)\n",
      "[ Info: Arnoldi iteration step 17: normres = 0.02873337671509281\n",
      "[ Info: Arnoldi schursolve in iter 1, krylovdim = 17: 1 values converged, normres = (1.49e-16, 1.90e-08, 2.89e-03, 2.52e-03, 1.35e-02)\n",
      "[ Info: Arnoldi iteration step 18: normres = 0.01826161456165471\n",
      "[ Info: Arnoldi schursolve in iter 1, krylovdim = 18: 1 values converged, normres = (1.12e-18, 3.42e-08, 3.45e-05, 7.11e-05, 1.67e-04)\n",
      "[ Info: Arnoldi iteration step 19: normres = 0.09008138577137025\n",
      "[ Info: Arnoldi schursolve in iter 1, krylovdim = 19: 1 values converged, normres = (4.15e-20, 1.51e-06, 1.39e-06, 9.03e-08, 1.19e-05)\n",
      "[ Info: Arnoldi iteration step 20: normres = 0.11965664676067592\n",
      "[ Info: Arnoldi schursolve in iter 1, krylovdim = 20: 1 values converged, normres = (2.44e-21, 1.85e-08, 2.16e-07, 3.56e-07, 1.39e-06)\n",
      "[ Info: Arnoldi iteration step 21: normres = 0.0352369648833201\n",
      "[ Info: Arnoldi schursolve in iter 1, krylovdim = 21: 1 values converged, normres = (3.61e-23, 1.35e-09, 5.04e-09, 3.81e-08, 1.57e-09)\n",
      "[ Info: Arnoldi iteration step 22: normres = 0.01713163884221353\n",
      "[ Info: Arnoldi schursolve in iter 1, krylovdim = 22: 1 values converged, normres = (2.56e-25, 1.51e-11, 5.73e-11, 1.26e-10, 4.60e-10)\n",
      "[ Info: Arnoldi iteration step 23: normres = 0.07703445520612631\n",
      "[ Info: Arnoldi schursolve in iter 1, krylovdim = 23: 2 values converged, normres = (8.09e-27, 7.57e-13, 2.88e-12, 7.92e-12, 2.52e-11)\n",
      "[ Info: Arnoldi iteration step 24: normres = 0.24284459412984416\n",
      "[ Info: Arnoldi schursolve in iter 1, krylovdim = 24: 1 values converged, normres = (1.82e-27, 1.04e-12, 3.96e-12, 4.87e-11, 1.68e-10)\n",
      "[ Info: Arnoldi iteration step 25: normres = 0.03328771884109643\n",
      "[ Info: Arnoldi schursolve in iter 1, krylovdim = 25: 3 values converged, normres = (2.57e-29, 2.86e-14, 1.09e-13, 7.53e-10, 2.56e-10)\n",
      "[ Info: Arnoldi iteration step 26: normres = 0.09442088821724384\n",
      "[ Info: Arnoldi schursolve in iter 1, krylovdim = 26: 3 values converged, normres = (1.08e-30, 2.04e-15, 7.76e-15, 4.57e-04, 3.54e-07)\n",
      "[ Info: Arnoldi iteration step 27: normres = 0.027690632010495562\n",
      "[ Info: Arnoldi schursolve in iter 1, krylovdim = 27: 3 values converged, normres = (1.25e-32, 3.78e-17, 1.44e-16, 6.87e-06, 4.50e-06)\n",
      "[ Info: Arnoldi iteration step 28: normres = 0.10310977180777949\n",
      "[ Info: Arnoldi schursolve in iter 1, krylovdim = 28: 3 values converged, normres = (5.61e-34, 2.80e-18, 1.07e-17, 3.03e-07, 2.26e-08)\n",
      "[ Info: Arnoldi iteration step 29: normres = 0.04155931612661706\n",
      "[ Info: Arnoldi schursolve in iter 1, krylovdim = 29: 3 values converged, normres = (9.84e-36, 7.96e-20, 3.03e-19, 3.51e-09, 1.17e-09)\n",
      "[ Info: Arnoldi iteration step 30: normres = 0.13365963718514495\n",
      "[ Info: Arnoldi schursolve in iter 1, krylovdim = 30: 3 values converged, normres = (6.39e-37, 9.25e-21, 3.52e-20, 8.01e-10, 1.18e-09)\n",
      "[ Info: Arnoldi schursolve in iter 2, krylovdim = 19: 3 values converged, normres = (6.39e-37, 9.25e-21, 3.52e-20, 8.01e-10, 1.18e-09)\n",
      "[ Info: Arnoldi iteration step 20: normres = 0.049281238327560935\n",
      "[ Info: Arnoldi schursolve in iter 2, krylovdim = 20: 3 values converged, normres = (1.34e-38, 3.16e-22, 1.20e-21, 7.11e-12, 4.25e-11)\n",
      "[ Info: Arnoldi iteration step 21: normres = 0.054966806087054614\n",
      "[ Info: Arnoldi schursolve in iter 2, krylovdim = 21: 3 values converged, normres = (3.17e-40, 1.23e-23, 4.68e-23, 3.16e-13, 1.83e-12)\n",
      "[ Info: Arnoldi iteration step 22: normres = 0.015792865672951344\n",
      "┌ Info: Arnoldi eigsolve finished after 2 iterations:\n",
      "│ *  6 eigenvalues converged\n",
      "│ *  norm of residuals = (2.0677498260999106e-42, 1.2859378559678257e-25, 5.060419132539683e-25, 8.059834994706023e-15, 8.059834994706023e-15, 1.3509370522931237e-14)\n",
      "└ *  number of operations = 33\n"
     ]
    }
   ],
   "cell_type": "code",
   "source": [
    "eigsolve(eps_fun, randn(size(scfres.ρ)), 5, :LM; eager=true, verbosity=3);"
   ],
   "metadata": {},
   "execution_count": 3
  }
 ],
 "nbformat_minor": 3,
 "metadata": {
  "language_info": {
   "file_extension": ".jl",
   "mimetype": "application/julia",
   "name": "julia",
   "version": "1.9.3"
  },
  "kernelspec": {
   "name": "julia-1.9",
   "display_name": "Julia 1.9.3",
   "language": "julia"
  }
 },
 "nbformat": 4
}
