{
 "cells": [
  {
   "cell_type": "markdown",
   "source": [
    "# Eigenvalues of the dielectric matrix\n",
    "\n",
    "We compute a few eigenvalues of the dielectric matrix ($q=0$, $ω=0$) iteratively."
   ],
   "metadata": {}
  },
  {
   "outputs": [
    {
     "name": "stdout",
     "output_type": "stream",
     "text": [
      "n     Energy            log10(ΔE)   log10(Δρ)   Diag   Δtime\n",
      "---   ---------------   ---------   ---------   ----   ------\n",
      "  1   -7.234650924991                   -0.50    7.0         \n",
      "  2   -7.250176193036       -1.81       -1.40    1.0   7.93ms\n",
      "  3   -7.251081084543       -3.04       -2.07    1.0   8.09ms\n",
      "  4   -7.251081084162   +   -9.42       -1.95    2.0   9.88ms\n",
      "  5   -7.251334602204       -3.60       -2.69    1.0   8.13ms\n",
      "  6   -7.251338332957       -5.43       -3.22    1.0   8.18ms\n",
      "  7   -7.251338656465       -6.49       -3.43    2.0   9.72ms\n",
      "  8   -7.251338789302       -6.88       -3.99    1.0   8.14ms\n",
      "  9   -7.251338797135       -8.11       -4.56    1.0   8.22ms\n",
      " 10   -7.251338798517       -8.86       -4.78    3.0   11.6ms\n",
      " 11   -7.251338798671       -9.81       -5.28    1.0   8.47ms\n",
      " 12   -7.251338798682      -10.97       -5.29    2.0   10.2ms\n",
      " 13   -7.251338798701      -10.73       -5.82    1.0   8.54ms\n",
      " 14   -7.251338798703      -11.60       -5.94    3.0   11.9ms\n",
      " 15   -7.251338798704      -11.90       -6.83    1.0   9.08ms\n",
      " 16   -7.251338798705      -12.84       -6.96    4.0   13.8ms\n",
      " 17   -7.251338798705      -14.05       -7.22    1.0   8.91ms\n",
      " 18   -7.251338798705   +    -Inf       -7.47    1.0   9.04ms\n",
      " 19   -7.251338798705      -14.45       -8.26    2.0   10.4ms\n"
     ]
    }
   ],
   "cell_type": "code",
   "source": [
    "using DFTK\n",
    "using Plots\n",
    "using KrylovKit\n",
    "using Printf\n",
    "\n",
    "# Calculation parameters\n",
    "kgrid = [1, 1, 1]\n",
    "Ecut = 5\n",
    "\n",
    "# Silicon lattice\n",
    "a = 10.26\n",
    "lattice = a / 2 .* [[0 1 1.]; [1 0 1.]; [1 1 0.]]\n",
    "Si = ElementPsp(:Si, psp=load_psp(\"hgh/lda/Si-q4\"))\n",
    "atoms     = [Si, Si]\n",
    "positions = [ones(3)/8, -ones(3)/8]\n",
    "\n",
    "# Compute the dielectric operator without symmetries\n",
    "model  = model_LDA(lattice, atoms, positions, symmetries=false)\n",
    "basis  = PlaneWaveBasis(model; Ecut, kgrid)\n",
    "scfres = self_consistent_field(basis, tol=1e-8);"
   ],
   "metadata": {},
   "execution_count": 1
  },
  {
   "cell_type": "markdown",
   "source": [
    "Applying $ε^† ≔ (1- χ_0 K)$ …"
   ],
   "metadata": {}
  },
  {
   "outputs": [],
   "cell_type": "code",
   "source": [
    "function eps_fun(δρ)\n",
    "    δV = apply_kernel(basis, δρ; ρ=scfres.ρ)\n",
    "    χ0δV = apply_χ0(scfres, δV)\n",
    "    δρ - χ0δV\n",
    "end;"
   ],
   "metadata": {},
   "execution_count": 2
  },
  {
   "cell_type": "markdown",
   "source": [
    "… eagerly diagonalizes the subspace matrix at each iteration"
   ],
   "metadata": {}
  },
  {
   "outputs": [
    {
     "name": "stdout",
     "output_type": "stream",
     "text": [
      "[ Info: Arnoldi iteration step 1: normres = 0.07375499677555152\n",
      "[ Info: Arnoldi iteration step 2: normres = 0.549908500030201\n",
      "[ Info: Arnoldi iteration step 3: normres = 0.846247482904393\n",
      "[ Info: Arnoldi iteration step 4: normres = 0.23257508343177521\n",
      "[ Info: Arnoldi iteration step 5: normres = 0.5011997917170732\n",
      "[ Info: Arnoldi schursolve in iter 1, krylovdim = 5: 0 values converged, normres = (2.46e-02, 5.23e-02, 4.15e-01, 2.74e-01, 1.63e-02)\n",
      "[ Info: Arnoldi iteration step 6: normres = 0.29962022542407957\n",
      "[ Info: Arnoldi schursolve in iter 1, krylovdim = 6: 0 values converged, normres = (5.96e-03, 6.45e-02, 2.58e-01, 1.02e-01, 9.12e-02)\n",
      "[ Info: Arnoldi iteration step 7: normres = 0.09783978978077605\n",
      "[ Info: Arnoldi schursolve in iter 1, krylovdim = 7: 0 values converged, normres = (2.90e-04, 7.62e-03, 2.29e-02, 6.08e-02, 6.07e-02)\n",
      "[ Info: Arnoldi iteration step 8: normres = 0.11296665251765914\n",
      "[ Info: Arnoldi schursolve in iter 1, krylovdim = 8: 0 values converged, normres = (1.44e-05, 6.33e-04, 2.12e-03, 2.59e-02, 4.46e-02)\n",
      "[ Info: Arnoldi iteration step 9: normres = 0.08367622822125885\n",
      "[ Info: Arnoldi schursolve in iter 1, krylovdim = 9: 0 values converged, normres = (5.18e-07, 3.74e-05, 1.39e-04, 7.22e-03, 2.43e-02)\n",
      "[ Info: Arnoldi iteration step 10: normres = 0.08797450578329219\n",
      "[ Info: Arnoldi schursolve in iter 1, krylovdim = 10: 0 values converged, normres = (1.98e-08, 2.36e-06, 9.75e-06, 2.18e-03, 1.63e-02)\n",
      "[ Info: Arnoldi iteration step 11: normres = 0.061369587395260765\n",
      "[ Info: Arnoldi schursolve in iter 1, krylovdim = 11: 0 values converged, normres = (5.22e-10, 1.02e-07, 4.67e-07, 4.26e-04, 6.88e-03)\n",
      "[ Info: Arnoldi iteration step 12: normres = 0.08675656499024074\n",
      "[ Info: Arnoldi schursolve in iter 1, krylovdim = 12: 0 values converged, normres = (1.94e-11, 6.18e-09, 3.14e-08, 1.11e-04, 3.43e-03)\n",
      "[ Info: Arnoldi iteration step 13: normres = 0.0955595543115831\n",
      "[ Info: Arnoldi schursolve in iter 1, krylovdim = 13: 1 values converged, normres = (7.94e-13, 4.16e-10, 2.34e-09, 3.36e-05, 2.21e-03)\n",
      "[ Info: Arnoldi iteration step 14: normres = 0.4192622805016948\n",
      "[ Info: Arnoldi schursolve in iter 1, krylovdim = 14: 1 values converged, normres = (3.23e-13, 1.44e-09, 3.41e-01, 2.38e-01, 2.28e-03)\n",
      "[ Info: Arnoldi iteration step 15: normres = 0.0360866016576713\n",
      "[ Info: Arnoldi schursolve in iter 1, krylovdim = 15: 1 values converged, normres = (5.43e-15, 2.33e-08, 1.02e-02, 1.58e-05, 7.52e-07)\n",
      "[ Info: Arnoldi iteration step 16: normres = 0.6598501462413376\n",
      "[ Info: Arnoldi schursolve in iter 1, krylovdim = 16: 1 values converged, normres = (1.83e-15, 8.88e-09, 6.42e-03, 2.70e-06, 6.28e-01)\n",
      "[ Info: Arnoldi iteration step 17: normres = 0.04365159186720784\n",
      "[ Info: Arnoldi schursolve in iter 1, krylovdim = 17: 1 values converged, normres = (6.19e-17, 1.24e-03, 6.48e-04, 1.88e-07, 3.58e-02)\n",
      "[ Info: Arnoldi iteration step 18: normres = 0.021454012028661987\n",
      "[ Info: Arnoldi schursolve in iter 1, krylovdim = 18: 1 values converged, normres = (5.46e-19, 1.10e-05, 1.64e-05, 6.31e-09, 5.53e-04)\n",
      "[ Info: Arnoldi iteration step 19: normres = 0.20468526728634473\n",
      "[ Info: Arnoldi schursolve in iter 1, krylovdim = 19: 1 values converged, normres = (4.81e-20, 2.11e-07, 2.85e-06, 4.45e-05, 7.68e-05)\n",
      "[ Info: Arnoldi iteration step 20: normres = 0.052416926205407506\n",
      "[ Info: Arnoldi schursolve in iter 1, krylovdim = 20: 1 values converged, normres = (1.20e-21, 8.23e-08, 9.65e-08, 1.35e-08, 4.48e-06)\n",
      "[ Info: Arnoldi iteration step 21: normres = 0.027834027010522667\n",
      "[ Info: Arnoldi schursolve in iter 1, krylovdim = 21: 1 values converged, normres = (1.40e-23, 5.33e-10, 2.31e-09, 3.90e-09, 9.23e-08)\n",
      "[ Info: Arnoldi iteration step 22: normres = 0.015314443743570052\n",
      "[ Info: Arnoldi schursolve in iter 1, krylovdim = 22: 1 values converged, normres = (8.82e-26, 5.44e-12, 2.33e-11, 6.52e-10, 7.91e-10)\n",
      "[ Info: Arnoldi iteration step 23: normres = 0.09510439455848674\n",
      "[ Info: Arnoldi schursolve in iter 1, krylovdim = 23: 2 values converged, normres = (3.46e-27, 3.41e-13, 1.46e-12, 4.95e-11, 5.06e-11)\n",
      "[ Info: Arnoldi iteration step 24: normres = 0.20766447251705192\n",
      "[ Info: Arnoldi schursolve in iter 1, krylovdim = 24: 2 values converged, normres = (6.90e-28, 4.38e-13, 1.88e-12, 5.02e-10, 5.16e-10)\n",
      "[ Info: Arnoldi iteration step 25: normres = 0.02507853747788125\n",
      "[ Info: Arnoldi schursolve in iter 1, krylovdim = 25: 3 values converged, normres = (7.02e-30, 8.22e-15, 3.51e-14, 1.21e-09, 1.21e-09)\n",
      "[ Info: Arnoldi iteration step 26: normres = 0.1132714422205885\n",
      "[ Info: Arnoldi schursolve in iter 1, krylovdim = 26: 3 values converged, normres = (3.51e-31, 6.86e-16, 2.93e-15, 1.38e-04, 3.05e-04)\n",
      "[ Info: Arnoldi iteration step 27: normres = 0.027327430415769977\n",
      "[ Info: Arnoldi schursolve in iter 1, krylovdim = 27: 3 values converged, normres = (4.06e-33, 1.29e-17, 5.51e-17, 3.63e-06, 9.08e-07)\n",
      "[ Info: Arnoldi iteration step 28: normres = 0.12090682951478639\n",
      "[ Info: Arnoldi schursolve in iter 1, krylovdim = 28: 3 values converged, normres = (2.11e-34, 1.10e-18, 4.70e-18, 6.08e-07, 7.98e-08)\n",
      "[ Info: Arnoldi iteration step 29: normres = 0.13146338839289165\n",
      "[ Info: Arnoldi schursolve in iter 1, krylovdim = 29: 3 values converged, normres = (1.22e-35, 1.05e-19, 4.51e-19, 7.72e-10, 7.14e-10)\n",
      "[ Info: Arnoldi iteration step 30: normres = 0.04517312189891783\n",
      "[ Info: Arnoldi schursolve in iter 1, krylovdim = 30: 3 values converged, normres = (2.66e-37, 4.11e-21, 1.76e-20, 1.71e-10, 2.66e-10)\n",
      "[ Info: Arnoldi schursolve in iter 2, krylovdim = 19: 3 values converged, normres = (2.66e-37, 4.11e-21, 1.76e-20, 1.71e-10, 2.66e-10)\n",
      "[ Info: Arnoldi iteration step 20: normres = 0.061355981436721566\n",
      "[ Info: Arnoldi schursolve in iter 2, krylovdim = 20: 3 values converged, normres = (6.81e-39, 1.70e-22, 7.26e-22, 7.59e-12, 1.17e-11)\n",
      "[ Info: Arnoldi iteration step 21: normres = 0.048347180398289946\n",
      "┌ Info: Arnoldi eigsolve finished after 2 iterations:\n",
      "│ *  5 eigenvalues converged\n",
      "│ *  norm of residuals = (1.4151152446207252e-40, 5.779876968980083e-24, 2.5244181234721974e-23, 2.880619643376076e-13, 3.993793261000216e-13)\n",
      "└ *  number of operations = 32\n"
     ]
    }
   ],
   "cell_type": "code",
   "source": [
    "eigsolve(eps_fun, randn(size(scfres.ρ)), 5, :LM; eager=true, verbosity=3);"
   ],
   "metadata": {},
   "execution_count": 3
  }
 ],
 "nbformat_minor": 3,
 "metadata": {
  "language_info": {
   "file_extension": ".jl",
   "mimetype": "application/julia",
   "name": "julia",
   "version": "1.9.3"
  },
  "kernelspec": {
   "name": "julia-1.9",
   "display_name": "Julia 1.9.3",
   "language": "julia"
  }
 },
 "nbformat": 4
}
