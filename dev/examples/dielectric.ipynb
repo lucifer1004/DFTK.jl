{
 "cells": [
  {
   "cell_type": "markdown",
   "source": [
    "# Eigenvalues of the dielectric matrix\n",
    "\n",
    "We compute a few eigenvalues of the dielectric matrix ($q=0$, $ω=0$) iteratively."
   ],
   "metadata": {}
  },
  {
   "outputs": [
    {
     "name": "stdout",
     "output_type": "stream",
     "text": [
      "n     Energy            log10(ΔE)   log10(Δρ)   Diag   Δtime\n",
      "---   ---------------   ---------   ---------   ----   ------\n",
      "  1   -7.235104628024                   -0.50    9.0         \n",
      "  2   -7.250458031463       -1.81       -1.40    1.0   5.13ms\n",
      "  3   -7.251195468465       -3.13       -2.18    1.0   5.06ms\n",
      "  4   -7.251192058559   +   -5.47       -2.07    2.0   6.26ms\n",
      "  5   -7.251336657333       -3.84       -2.76    1.0   5.15ms\n",
      "  6   -7.251338549983       -5.72       -3.42    1.0   5.15ms\n",
      "  7   -7.251338712119       -6.79       -3.56    2.0   6.34ms\n",
      "  8   -7.251338796153       -7.08       -4.26    1.0   5.37ms\n",
      "  9   -7.251338798349       -8.66       -5.03    1.0   5.45ms\n",
      " 10   -7.251338798692       -9.46       -5.29    2.0   6.68ms\n",
      " 11   -7.251338798703      -10.97       -5.80    1.0   5.63ms\n",
      " 12   -7.251338798704      -11.90       -6.02    2.0   6.75ms\n",
      " 13   -7.251338798704      -12.42       -6.50    1.0   5.75ms\n",
      " 14   -7.251338798705      -13.18       -6.98    3.0   7.26ms\n",
      " 15   -7.251338798705      -13.91       -7.45    1.0   42.5ms\n",
      " 16   -7.251338798705   +  -15.05       -7.88    3.0   7.97ms\n",
      " 17   -7.251338798705      -14.35       -7.95    2.0   6.74ms\n",
      " 18   -7.251338798705   +  -14.75       -8.30    1.0   5.70ms\n"
     ]
    }
   ],
   "cell_type": "code",
   "source": [
    "using DFTK\n",
    "using Plots\n",
    "using KrylovKit\n",
    "using Printf\n",
    "\n",
    "# Calculation parameters\n",
    "kgrid = [1, 1, 1]\n",
    "Ecut = 5\n",
    "\n",
    "# Silicon lattice\n",
    "a = 10.26\n",
    "lattice = a / 2 .* [[0 1 1.]; [1 0 1.]; [1 1 0.]]\n",
    "Si = ElementPsp(:Si, psp=load_psp(\"hgh/lda/Si-q4\"))\n",
    "atoms     = [Si, Si]\n",
    "positions = [ones(3)/8, -ones(3)/8]\n",
    "\n",
    "# Compute the dielectric operator without symmetries\n",
    "model  = model_LDA(lattice, atoms, positions, symmetries=false)\n",
    "basis  = PlaneWaveBasis(model; Ecut, kgrid)\n",
    "scfres = self_consistent_field(basis, tol=1e-8);"
   ],
   "metadata": {},
   "execution_count": 1
  },
  {
   "cell_type": "markdown",
   "source": [
    "Applying $ε^† ≔ (1- χ_0 K)$ …"
   ],
   "metadata": {}
  },
  {
   "outputs": [],
   "cell_type": "code",
   "source": [
    "function eps_fun(δρ)\n",
    "    δV = apply_kernel(basis, δρ; ρ=scfres.ρ)\n",
    "    χ0δV = apply_χ0(scfres, δV)\n",
    "    δρ - χ0δV\n",
    "end;"
   ],
   "metadata": {},
   "execution_count": 2
  },
  {
   "cell_type": "markdown",
   "source": [
    "… eagerly diagonalizes the subspace matrix at each iteration"
   ],
   "metadata": {}
  },
  {
   "outputs": [
    {
     "name": "stdout",
     "output_type": "stream",
     "text": [
      "[ Info: Arnoldi iteration step 1: normres = 0.055312219919247715\n",
      "[ Info: Arnoldi iteration step 2: normres = 0.6220609624568683\n",
      "[ Info: Arnoldi iteration step 3: normres = 0.6477624268987427\n",
      "[ Info: Arnoldi iteration step 4: normres = 0.3163735132009867\n",
      "[ Info: Arnoldi iteration step 5: normres = 0.3162829214345903\n",
      "[ Info: Arnoldi schursolve in iter 1, krylovdim = 5: 0 values converged, normres = (1.05e-02, 6.86e-02, 2.47e-01, 1.82e-01, 3.01e-02)\n",
      "[ Info: Arnoldi iteration step 6: normres = 0.4660566909140053\n",
      "[ Info: Arnoldi schursolve in iter 1, krylovdim = 6: 0 values converged, normres = (3.89e-03, 1.05e-01, 4.29e-01, 1.28e-01, 7.43e-02)\n",
      "[ Info: Arnoldi iteration step 7: normres = 0.09439006106637726\n",
      "[ Info: Arnoldi schursolve in iter 1, krylovdim = 7: 0 values converged, normres = (1.96e-04, 1.74e-02, 3.35e-02, 4.22e-02, 6.48e-02)\n",
      "[ Info: Arnoldi iteration step 8: normres = 0.11031257454416346\n",
      "[ Info: Arnoldi schursolve in iter 1, krylovdim = 8: 0 values converged, normres = (9.51e-06, 1.41e-03, 3.01e-03, 1.73e-02, 6.14e-02)\n",
      "[ Info: Arnoldi iteration step 9: normres = 0.08158305041764619\n",
      "[ Info: Arnoldi schursolve in iter 1, krylovdim = 9: 0 values converged, normres = (3.38e-07, 8.31e-05, 1.97e-04, 5.17e-03, 3.78e-02)\n",
      "[ Info: Arnoldi iteration step 10: normres = 0.09782840651695524\n",
      "[ Info: Arnoldi schursolve in iter 1, krylovdim = 10: 0 values converged, normres = (1.43e-08, 5.79e-06, 1.52e-05, 1.72e-03, 2.65e-02)\n",
      "[ Info: Arnoldi iteration step 11: normres = 0.06048879305850886\n",
      "[ Info: Arnoldi schursolve in iter 1, krylovdim = 11: 0 values converged, normres = (3.75e-10, 2.51e-07, 7.33e-07, 3.62e-04, 1.30e-02)\n",
      "[ Info: Arnoldi iteration step 12: normres = 0.09401846672110832\n",
      "[ Info: Arnoldi schursolve in iter 1, krylovdim = 12: 0 values converged, normres = (1.51e-11, 1.66e-08, 5.38e-08, 1.05e-04, 7.54e-03)\n",
      "[ Info: Arnoldi iteration step 13: normres = 0.026695283369481\n",
      "[ Info: Arnoldi schursolve in iter 1, krylovdim = 13: 1 values converged, normres = (1.72e-13, 3.08e-10, 1.11e-09, 8.66e-06, 1.33e-03)\n",
      "[ Info: Arnoldi iteration step 14: normres = 0.37643326966668283\n",
      "[ Info: Arnoldi schursolve in iter 1, krylovdim = 14: 1 values converged, normres = (2.77e-14, 8.08e-11, 3.21e-10, 9.36e-06, 2.49e-03)\n",
      "[ Info: Arnoldi iteration step 15: normres = 0.09738286324648876\n",
      "[ Info: Arnoldi schursolve in iter 1, krylovdim = 15: 1 values converged, normres = (2.46e-15, 5.05e-11, 4.11e-09, 9.44e-02, 5.44e-05)\n",
      "[ Info: Arnoldi iteration step 16: normres = 0.2320255120799087\n",
      "[ Info: Arnoldi schursolve in iter 1, krylovdim = 16: 1 values converged, normres = (2.43e-16, 8.54e-12, 1.65e-02, 1.56e-03, 4.15e-07)\n",
      "[ Info: Arnoldi iteration step 17: normres = 0.1707876203362799\n",
      "[ Info: Arnoldi schursolve in iter 1, krylovdim = 17: 1 values converged, normres = (4.41e-17, 7.63e-11, 1.66e-01, 2.65e-03, 2.52e-02)\n",
      "[ Info: Arnoldi iteration step 18: normres = 0.01933083909101613\n",
      "[ Info: Arnoldi schursolve in iter 1, krylovdim = 18: 1 values converged, normres = (3.58e-19, 1.89e-03, 9.93e-04, 2.76e-04, 1.72e-05)\n",
      "[ Info: Arnoldi iteration step 19: normres = 0.11749014564267883\n",
      "[ Info: Arnoldi schursolve in iter 1, krylovdim = 19: 1 values converged, normres = (1.76e-20, 7.00e-10, 1.69e-04, 1.41e-08, 2.42e-05)\n",
      "[ Info: Arnoldi iteration step 20: normres = 0.11477489173133563\n",
      "[ Info: Arnoldi schursolve in iter 1, krylovdim = 20: 1 values converged, normres = (9.85e-22, 1.06e-05, 1.32e-05, 2.53e-06, 1.16e-06)\n",
      "[ Info: Arnoldi iteration step 21: normres = 0.025697213786413778\n",
      "[ Info: Arnoldi schursolve in iter 1, krylovdim = 21: 1 values converged, normres = (1.07e-23, 2.97e-07, 3.36e-08, 2.59e-08, 4.76e-08)\n",
      "[ Info: Arnoldi iteration step 22: normres = 0.014598307041582723\n",
      "[ Info: Arnoldi schursolve in iter 1, krylovdim = 22: 1 values converged, normres = (6.38e-26, 2.42e-11, 2.84e-09, 5.18e-10, 2.32e-10)\n",
      "[ Info: Arnoldi iteration step 23: normres = 0.3244893813585307\n",
      "[ Info: Arnoldi schursolve in iter 1, krylovdim = 23: 1 values converged, normres = (8.80e-27, 6.07e-12, 6.38e-10, 1.33e-10, 4.72e-11)\n",
      "[ Info: Arnoldi iteration step 24: normres = 0.05732329914163686\n",
      "[ Info: Arnoldi schursolve in iter 1, krylovdim = 24: 1 values converged, normres = (4.64e-28, 2.33e-12, 2.44e-10, 3.99e-09, 4.64e-09)\n",
      "[ Info: Arnoldi iteration step 25: normres = 0.03649511097711554\n",
      "[ Info: Arnoldi schursolve in iter 1, krylovdim = 25: 2 values converged, normres = (6.95e-30, 5.56e-14, 5.87e-12, 3.45e-09, 3.25e-11)\n",
      "[ Info: Arnoldi iteration step 26: normres = 0.09427486177240832\n",
      "[ Info: Arnoldi schursolve in iter 1, krylovdim = 26: 3 values converged, normres = (2.93e-31, 3.94e-15, 4.16e-13, 7.63e-05, 1.19e-05)\n",
      "[ Info: Arnoldi iteration step 27: normres = 0.024979824970092938\n",
      "[ Info: Arnoldi schursolve in iter 1, krylovdim = 27: 3 values converged, normres = (3.05e-33, 6.61e-17, 6.97e-15, 1.04e-06, 7.52e-07)\n",
      "[ Info: Arnoldi iteration step 28: normres = 0.10593443225743111\n",
      "[ Info: Arnoldi schursolve in iter 1, krylovdim = 28: 3 values converged, normres = (1.40e-34, 5.01e-18, 5.29e-16, 9.34e-08, 3.83e-08)\n",
      "[ Info: Arnoldi iteration step 29: normres = 0.029251334899260385\n",
      "[ Info: Arnoldi schursolve in iter 1, krylovdim = 29: 3 values converged, normres = (1.73e-36, 1.00e-19, 1.06e-17, 1.79e-09, 1.88e-09)\n",
      "[ Info: Arnoldi iteration step 30: normres = 0.21718526992108503\n",
      "[ Info: Arnoldi schursolve in iter 1, krylovdim = 30: 3 values converged, normres = (1.74e-37, 1.75e-20, 1.84e-18, 3.00e-10, 5.30e-10)\n",
      "[ Info: Arnoldi schursolve in iter 2, krylovdim = 19: 3 values converged, normres = (1.74e-37, 1.75e-20, 1.84e-18, 3.00e-10, 5.30e-10)\n",
      "[ Info: Arnoldi iteration step 20: normres = 0.0790515987299459\n",
      "[ Info: Arnoldi schursolve in iter 2, krylovdim = 20: 3 values converged, normres = (6.17e-39, 1.05e-21, 1.11e-19, 2.10e-11, 3.25e-11)\n",
      "[ Info: Arnoldi iteration step 21: normres = 0.04119484576943037\n",
      "[ Info: Arnoldi schursolve in iter 2, krylovdim = 21: 4 values converged, normres = (1.09e-40, 3.05e-23, 3.22e-21, 6.80e-13, 1.05e-12)\n",
      "[ Info: Arnoldi iteration step 22: normres = 0.01818899401646549\n",
      "┌ Info: Arnoldi eigsolve finished after 2 iterations:\n",
      "│ *  6 eigenvalues converged\n",
      "│ *  norm of residuals = (8.181919428345824e-43, 3.642359317209742e-25, 3.843314134269544e-23, 8.922341263893555e-15, 1.6365905384309256e-14, 1.6459314140496273e-14)\n",
      "└ *  number of operations = 33\n"
     ]
    }
   ],
   "cell_type": "code",
   "source": [
    "eigsolve(eps_fun, randn(size(scfres.ρ)), 5, :LM; eager=true, verbosity=3);"
   ],
   "metadata": {},
   "execution_count": 3
  }
 ],
 "nbformat_minor": 3,
 "metadata": {
  "language_info": {
   "file_extension": ".jl",
   "mimetype": "application/julia",
   "name": "julia",
   "version": "1.9.3"
  },
  "kernelspec": {
   "name": "julia-1.9",
   "display_name": "Julia 1.9.3",
   "language": "julia"
  }
 },
 "nbformat": 4
}
