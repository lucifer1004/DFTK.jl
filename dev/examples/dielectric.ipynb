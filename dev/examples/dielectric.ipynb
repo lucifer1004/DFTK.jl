{
 "cells": [
  {
   "cell_type": "markdown",
   "source": [
    "# Eigenvalues of the dielectric matrix\n",
    "\n",
    "We compute a few eigenvalues of the dielectric matrix ($q=0$, $ω=0$) iteratively."
   ],
   "metadata": {}
  },
  {
   "outputs": [
    {
     "name": "stdout",
     "output_type": "stream",
     "text": [
      "n     Energy            log10(ΔE)   log10(Δρ)   Diag   Δtime\n",
      "---   ---------------   ---------   ---------   ----   ------\n",
      "  1   -7.234395064604                   -0.50    8.0         \n",
      "  2   -7.249962260648       -1.81       -1.39    1.0   5.14ms\n",
      "  3   -7.251209270528       -2.90       -1.98    2.0   6.26ms\n",
      "  4   -7.251272807033       -4.20       -2.16    2.0   6.36ms\n",
      "  5   -7.251324122994       -4.29       -2.57    1.0   5.29ms\n",
      "  6   -7.251336262495       -4.92       -2.95    1.0   5.32ms\n",
      "  7   -7.251338644646       -5.62       -3.58    1.0   5.35ms\n",
      "  8   -7.251338794063       -6.83       -4.17    2.0   6.55ms\n",
      "  9   -7.251338798146       -8.39       -4.70    2.0   6.61ms\n",
      " 10   -7.251338798585       -9.36       -5.01    2.0   6.84ms\n",
      " 11   -7.251338798697       -9.95       -5.67    2.0   6.60ms\n",
      " 12   -7.251338798703      -11.19       -5.97    2.0   6.90ms\n",
      " 13   -7.251338798704      -11.95       -6.40    1.0   5.84ms\n",
      " 14   -7.251338798705      -12.73       -6.85    2.0   6.91ms\n",
      " 15   -7.251338798705      -13.60       -7.25    2.0   6.88ms\n",
      " 16   -7.251338798705      -14.45       -8.08    1.0   5.86ms\n"
     ]
    }
   ],
   "cell_type": "code",
   "source": [
    "using DFTK\n",
    "using Plots\n",
    "using KrylovKit\n",
    "using Printf\n",
    "\n",
    "# Calculation parameters\n",
    "kgrid = [1, 1, 1]\n",
    "Ecut = 5\n",
    "\n",
    "# Silicon lattice\n",
    "a = 10.26\n",
    "lattice = a / 2 .* [[0 1 1.]; [1 0 1.]; [1 1 0.]]\n",
    "Si = ElementPsp(:Si; psp=load_psp(\"hgh/lda/Si-q4\"))\n",
    "atoms     = [Si, Si]\n",
    "positions = [ones(3)/8, -ones(3)/8]\n",
    "\n",
    "# Compute the dielectric operator without symmetries\n",
    "model  = model_LDA(lattice, atoms, positions, symmetries=false)\n",
    "basis  = PlaneWaveBasis(model; Ecut, kgrid)\n",
    "scfres = self_consistent_field(basis, tol=1e-8);"
   ],
   "metadata": {},
   "execution_count": 1
  },
  {
   "cell_type": "markdown",
   "source": [
    "Applying $ε^† ≔ (1- χ_0 K)$ …"
   ],
   "metadata": {}
  },
  {
   "outputs": [],
   "cell_type": "code",
   "source": [
    "function eps_fun(δρ)\n",
    "    δV = apply_kernel(basis, δρ; ρ=scfres.ρ)\n",
    "    χ0δV = apply_χ0(scfres, δV)\n",
    "    δρ - χ0δV\n",
    "end;"
   ],
   "metadata": {},
   "execution_count": 2
  },
  {
   "cell_type": "markdown",
   "source": [
    "… eagerly diagonalizes the subspace matrix at each iteration"
   ],
   "metadata": {}
  },
  {
   "outputs": [
    {
     "name": "stdout",
     "output_type": "stream",
     "text": [
      "[ Info: Arnoldi iteration step 1: normres = 0.04376728086640632\n",
      "[ Info: Arnoldi iteration step 2: normres = 0.42025536684038034\n",
      "[ Info: Arnoldi iteration step 3: normres = 0.8228270881445805\n",
      "[ Info: Arnoldi iteration step 4: normres = 0.41869027051783125\n",
      "[ Info: Arnoldi iteration step 5: normres = 0.5325774653022357\n",
      "[ Info: Arnoldi schursolve in iter 1, krylovdim = 5: 0 values converged, normres = (9.85e-02, 6.64e-02, 4.41e-01, 2.72e-01, 3.11e-02)\n",
      "[ Info: Arnoldi iteration step 6: normres = 0.30442514891072614\n",
      "[ Info: Arnoldi schursolve in iter 1, krylovdim = 6: 0 values converged, normres = (2.43e-02, 8.68e-02, 2.52e-01, 1.14e-01, 6.97e-02)\n",
      "[ Info: Arnoldi iteration step 7: normres = 0.08784759665633819\n",
      "[ Info: Arnoldi schursolve in iter 1, krylovdim = 7: 0 values converged, normres = (1.07e-03, 9.07e-03, 1.97e-02, 5.54e-02, 5.70e-02)\n",
      "[ Info: Arnoldi iteration step 8: normres = 0.09997860186168549\n",
      "[ Info: Arnoldi schursolve in iter 1, krylovdim = 8: 0 values converged, normres = (4.63e-05, 6.52e-04, 1.57e-03, 1.86e-02, 4.12e-02)\n",
      "[ Info: Arnoldi iteration step 9: normres = 0.09275275642986061\n",
      "[ Info: Arnoldi schursolve in iter 1, krylovdim = 9: 0 values converged, normres = (1.84e-06, 4.24e-05, 1.14e-04, 5.52e-03, 3.00e-02)\n",
      "[ Info: Arnoldi iteration step 10: normres = 0.06823547833646537\n",
      "[ Info: Arnoldi schursolve in iter 1, krylovdim = 10: 0 values converged, normres = (5.65e-08, 2.20e-06, 6.58e-06, 1.81e-03, 4.05e-02)\n",
      "[ Info: Arnoldi iteration step 11: normres = 0.07150021581570418\n",
      "[ Info: Arnoldi schursolve in iter 1, krylovdim = 11: 0 values converged, normres = (1.69e-09, 1.06e-07, 3.51e-07, 3.49e-04, 1.33e-02)\n",
      "[ Info: Arnoldi iteration step 12: normres = 0.06988750525686797\n",
      "[ Info: Arnoldi schursolve in iter 1, krylovdim = 12: 0 values converged, normres = (5.14e-11, 5.34e-09, 1.96e-08, 8.24e-05, 6.44e-03)\n",
      "[ Info: Arnoldi iteration step 13: normres = 0.04484425106460967\n",
      "[ Info: Arnoldi schursolve in iter 1, krylovdim = 13: 1 values converged, normres = (9.73e-13, 1.64e-10, 6.66e-10, 1.03e-05, 1.46e-03)\n",
      "[ Info: Arnoldi iteration step 14: normres = 0.7499680071883692\n",
      "[ Info: Arnoldi schursolve in iter 1, krylovdim = 14: 1 values converged, normres = (4.19e-13, 1.47e-10, 7.19e-10, 7.30e-01, 8.16e-02)\n",
      "[ Info: Arnoldi iteration step 15: normres = 0.08741351979892757\n",
      "[ Info: Arnoldi schursolve in iter 1, krylovdim = 15: 1 values converged, normres = (2.79e-14, 1.97e-10, 6.41e-02, 1.49e-04, 4.59e-05)\n",
      "[ Info: Arnoldi iteration step 16: normres = 0.5333954654705704\n",
      "[ Info: Arnoldi schursolve in iter 1, krylovdim = 16: 1 values converged, normres = (1.25e-14, 6.83e-10, 1.22e-01, 1.22e-04, 5.15e-01)\n",
      "[ Info: Arnoldi iteration step 17: normres = 0.035198721553138614\n",
      "[ Info: Arnoldi schursolve in iter 1, krylovdim = 17: 1 values converged, normres = (2.16e-16, 2.55e-09, 6.59e-03, 3.18e-06, 1.25e-02)\n",
      "[ Info: Arnoldi iteration step 18: normres = 0.015679989434300462\n",
      "[ Info: Arnoldi schursolve in iter 1, krylovdim = 18: 1 values converged, normres = (1.40e-18, 2.47e-09, 6.90e-05, 5.68e-05, 1.32e-04)\n",
      "[ Info: Arnoldi iteration step 19: normres = 0.1395465975393416\n",
      "[ Info: Arnoldi schursolve in iter 1, krylovdim = 19: 1 values converged, normres = (8.26e-20, 6.54e-06, 6.72e-07, 3.17e-08, 1.51e-05)\n",
      "[ Info: Arnoldi iteration step 20: normres = 0.06275115370708025\n",
      "[ Info: Arnoldi schursolve in iter 1, krylovdim = 20: 1 values converged, normres = (2.52e-21, 2.39e-09, 3.61e-07, 5.23e-07, 7.90e-07)\n",
      "[ Info: Arnoldi iteration step 21: normres = 0.032888872913187844\n",
      "[ Info: Arnoldi schursolve in iter 1, krylovdim = 21: 1 values converged, normres = (3.46e-23, 4.47e-09, 6.61e-09, 3.17e-09, 2.29e-08)\n",
      "[ Info: Arnoldi iteration step 22: normres = 0.02226218474947776\n",
      "[ Info: Arnoldi schursolve in iter 1, krylovdim = 22: 1 values converged, normres = (3.19e-25, 4.08e-11, 1.10e-10, 1.17e-10, 3.56e-10)\n",
      "[ Info: Arnoldi iteration step 23: normres = 0.5732016415178461\n",
      "[ Info: Arnoldi schursolve in iter 1, krylovdim = 23: 1 values converged, normres = (8.46e-26, 1.87e-11, 5.05e-11, 5.97e-11, 1.84e-10)\n",
      "[ Info: Arnoldi iteration step 24: normres = 0.040596423070380305\n",
      "[ Info: Arnoldi schursolve in iter 1, krylovdim = 24: 1 values converged, normres = (2.91e-27, 4.41e-12, 1.19e-11, 3.42e-09, 1.18e-08)\n",
      "[ Info: Arnoldi iteration step 25: normres = 0.12033049028737088\n",
      "[ Info: Arnoldi schursolve in iter 1, krylovdim = 25: 2 values converged, normres = (1.50e-28, 3.74e-13, 1.01e-12, 3.04e-09, 8.62e-09)\n",
      "[ Info: Arnoldi iteration step 26: normres = 0.02423437322803528\n",
      "[ Info: Arnoldi schursolve in iter 1, krylovdim = 26: 3 values converged, normres = (1.58e-30, 6.55e-15, 1.77e-14, 1.58e-09, 5.53e-09)\n",
      "[ Info: Arnoldi iteration step 27: normres = 0.018939170134649325\n",
      "[ Info: Arnoldi schursolve in iter 1, krylovdim = 27: 3 values converged, normres = (1.23e-32, 8.08e-17, 2.19e-16, 7.55e-07, 2.52e-08)\n",
      "[ Info: Arnoldi iteration step 28: normres = 0.10101874275974575\n",
      "[ Info: Arnoldi schursolve in iter 1, krylovdim = 28: 3 values converged, normres = (5.25e-34, 5.61e-18, 1.52e-17, 3.17e-08, 4.05e-08)\n",
      "[ Info: Arnoldi iteration step 29: normres = 0.048484148961326703\n",
      "[ Info: Arnoldi schursolve in iter 1, krylovdim = 29: 3 values converged, normres = (1.10e-35, 1.93e-19, 5.21e-19, 2.38e-09, 4.14e-10)\n",
      "[ Info: Arnoldi iteration step 30: normres = 0.20263529440877856\n",
      "[ Info: Arnoldi schursolve in iter 1, krylovdim = 30: 3 values converged, normres = (1.04e-36, 3.17e-20, 8.58e-20, 4.56e-10, 4.68e-11)\n",
      "[ Info: Arnoldi schursolve in iter 2, krylovdim = 19: 3 values converged, normres = (1.04e-36, 3.17e-20, 8.58e-20, 4.56e-10, 4.68e-11)\n",
      "[ Info: Arnoldi iteration step 20: normres = 0.06466086136748635\n",
      "[ Info: Arnoldi schursolve in iter 2, krylovdim = 20: 3 values converged, normres = (2.97e-38, 1.52e-21, 4.11e-21, 2.43e-11, 2.67e-12)\n",
      "[ Info: Arnoldi iteration step 21: normres = 0.04718107758178285\n",
      "┌ Info: Arnoldi eigsolve finished after 2 iterations:\n",
      "│ *  6 eigenvalues converged\n",
      "│ *  norm of residuals = (6.041813045319167e-40, 5.098936347749973e-23, 1.149968605728968e-22, 2.818142219522255e-13, 2.818142219522255e-13, 1.8319123861764703e-13)\n",
      "└ *  number of operations = 32\n"
     ]
    }
   ],
   "cell_type": "code",
   "source": [
    "eigsolve(eps_fun, randn(size(scfres.ρ)), 5, :LM; eager=true, verbosity=3);"
   ],
   "metadata": {},
   "execution_count": 3
  }
 ],
 "nbformat_minor": 3,
 "metadata": {
  "language_info": {
   "file_extension": ".jl",
   "mimetype": "application/julia",
   "name": "julia",
   "version": "1.9.4"
  },
  "kernelspec": {
   "name": "julia-1.9",
   "display_name": "Julia 1.9.4",
   "language": "julia"
  }
 },
 "nbformat": 4
}
