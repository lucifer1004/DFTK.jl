{
 "cells": [
  {
   "cell_type": "markdown",
   "source": [
    "# Eigenvalues of the dielectric matrix\n",
    "\n",
    "We compute a few eigenvalues of the dielectric matrix ($q=0$, $ω=0$) iteratively."
   ],
   "metadata": {}
  },
  {
   "outputs": [
    {
     "name": "stdout",
     "output_type": "stream",
     "text": [
      "n     Energy            log10(ΔE)   log10(Δρ)   Diag   Δtime\n",
      "---   ---------------   ---------   ---------   ----   ------\n",
      "  1   -7.234645225956                   -0.50    8.0         \n",
      "  2   -7.250407246490       -1.80       -1.40    1.0   7.20ms\n",
      "  3   -7.251091219392       -3.16       -2.01    1.0   7.36ms\n",
      "  4   -7.251025126363   +   -4.18       -1.91    2.0   9.30ms\n",
      "  5   -7.251333335787       -3.51       -2.69    1.0   7.56ms\n",
      "  6   -7.251338126290       -5.32       -3.15    1.0   7.46ms\n",
      "  7   -7.251338716376       -6.23       -3.57    2.0   8.56ms\n",
      "  8   -7.251338789895       -7.13       -4.09    2.0   8.96ms\n",
      "  9   -7.251338798221       -8.08       -4.64    2.0   8.44ms\n",
      " 10   -7.251338798655       -9.36       -5.32    1.0   7.67ms\n",
      " 11   -7.251338798702      -10.33       -5.86    2.0   9.00ms\n",
      " 12   -7.251338798704      -11.64       -6.17    2.0   9.59ms\n",
      " 13   -7.251338798704      -12.33       -6.75    1.0   7.93ms\n",
      " 14   -7.251338798705      -13.17       -7.20    2.0   56.2ms\n",
      " 15   -7.251338798705      -14.27       -7.57    2.0   8.77ms\n",
      " 16   -7.251338798705   +    -Inf       -7.97    2.0   8.84ms\n",
      " 17   -7.251338798705   +    -Inf       -8.31    2.0   8.77ms\n"
     ]
    }
   ],
   "cell_type": "code",
   "source": [
    "using DFTK\n",
    "using Plots\n",
    "using KrylovKit\n",
    "using Printf\n",
    "\n",
    "# Calculation parameters\n",
    "kgrid = [1, 1, 1]\n",
    "Ecut = 5\n",
    "\n",
    "# Silicon lattice\n",
    "a = 10.26\n",
    "lattice = a / 2 .* [[0 1 1.]; [1 0 1.]; [1 1 0.]]\n",
    "Si = ElementPsp(:Si, psp=load_psp(\"hgh/lda/Si-q4\"))\n",
    "atoms     = [Si, Si]\n",
    "positions = [ones(3)/8, -ones(3)/8]\n",
    "\n",
    "# Compute the dielectric operator without symmetries\n",
    "model  = model_LDA(lattice, atoms, positions, symmetries=false)\n",
    "basis  = PlaneWaveBasis(model; Ecut, kgrid)\n",
    "scfres = self_consistent_field(basis, tol=1e-8);"
   ],
   "metadata": {},
   "execution_count": 1
  },
  {
   "cell_type": "markdown",
   "source": [
    "Applying $ε^† ≔ (1- χ_0 K)$ …"
   ],
   "metadata": {}
  },
  {
   "outputs": [],
   "cell_type": "code",
   "source": [
    "function eps_fun(δρ)\n",
    "    δV = apply_kernel(basis, δρ; ρ=scfres.ρ)\n",
    "    χ0δV = apply_χ0(scfres, δV)\n",
    "    δρ - χ0δV\n",
    "end;"
   ],
   "metadata": {},
   "execution_count": 2
  },
  {
   "cell_type": "markdown",
   "source": [
    "… eagerly diagonalizes the subspace matrix at each iteration"
   ],
   "metadata": {}
  },
  {
   "outputs": [
    {
     "name": "stdout",
     "output_type": "stream",
     "text": [
      "[ Info: Arnoldi iteration step 1: normres = 0.06787679824548642\n",
      "[ Info: Arnoldi iteration step 2: normres = 0.567647419829514\n",
      "[ Info: Arnoldi iteration step 3: normres = 0.6561191695460539\n",
      "[ Info: Arnoldi iteration step 4: normres = 0.17289332581992634\n",
      "[ Info: Arnoldi iteration step 5: normres = 0.45897344603729606\n",
      "[ Info: Arnoldi schursolve in iter 1, krylovdim = 5: 0 values converged, normres = (7.94e-03, 3.17e-02, 4.10e-01, 1.66e-01, 1.17e-01)\n",
      "[ Info: Arnoldi iteration step 6: normres = 0.22851767891823854\n",
      "[ Info: Arnoldi schursolve in iter 1, krylovdim = 6: 0 values converged, normres = (1.75e-03, 2.01e-01, 7.03e-02, 7.28e-02, 9.94e-03)\n",
      "[ Info: Arnoldi iteration step 7: normres = 0.15414824608722374\n",
      "[ Info: Arnoldi schursolve in iter 1, krylovdim = 7: 0 values converged, normres = (1.34e-04, 2.72e-02, 6.45e-03, 1.22e-01, 8.66e-02)\n",
      "[ Info: Arnoldi iteration step 8: normres = 0.10668685945629146\n",
      "[ Info: Arnoldi schursolve in iter 1, krylovdim = 8: 0 values converged, normres = (6.29e-06, 2.13e-03, 5.77e-04, 4.76e-02, 3.76e-02)\n",
      "[ Info: Arnoldi iteration step 9: normres = 0.09227448274741441\n",
      "[ Info: Arnoldi schursolve in iter 1, krylovdim = 9: 0 values converged, normres = (2.54e-07, 1.44e-04, 4.33e-05, 1.66e-02, 3.55e-02)\n",
      "[ Info: Arnoldi iteration step 10: normres = 0.08567010294403998\n",
      "[ Info: Arnoldi schursolve in iter 1, krylovdim = 10: 0 values converged, normres = (9.65e-09, 9.12e-06, 3.06e-06, 5.89e-03, 3.82e-02)\n",
      "[ Info: Arnoldi iteration step 11: normres = 0.05703497344970959\n",
      "[ Info: Arnoldi schursolve in iter 1, krylovdim = 11: 0 values converged, normres = (2.33e-10, 3.59e-07, 1.33e-07, 1.00e-03, 1.22e-02)\n",
      "[ Info: Arnoldi iteration step 12: normres = 0.08494014069565897\n",
      "[ Info: Arnoldi schursolve in iter 1, krylovdim = 12: 0 values converged, normres = (8.40e-12, 2.10e-08, 8.64e-09, 2.38e-04, 5.12e-03)\n",
      "[ Info: Arnoldi iteration step 13: normres = 0.060562189646526786\n",
      "[ Info: Arnoldi schursolve in iter 1, krylovdim = 13: 1 values converged, normres = (2.20e-13, 9.07e-10, 4.15e-10, 4.77e-05, 2.14e-03)\n",
      "[ Info: Arnoldi iteration step 14: normres = 0.7437801164741257\n",
      "[ Info: Arnoldi schursolve in iter 1, krylovdim = 14: 1 values converged, normres = (9.68e-14, 8.59e-10, 4.78e-10, 7.35e-01, 7.54e-02)\n",
      "[ Info: Arnoldi iteration step 15: normres = 0.10235998635073486\n",
      "[ Info: Arnoldi schursolve in iter 1, krylovdim = 15: 1 values converged, normres = (7.16e-15, 7.53e-10, 7.31e-02, 8.86e-04, 3.98e-05)\n",
      "[ Info: Arnoldi iteration step 16: normres = 0.4295084163307756\n",
      "[ Info: Arnoldi schursolve in iter 1, krylovdim = 16: 1 values converged, normres = (2.72e-15, 2.46e-09, 1.47e-01, 4.33e-03, 4.01e-01)\n",
      "[ Info: Arnoldi iteration step 17: normres = 0.03476330174293867\n",
      "[ Info: Arnoldi schursolve in iter 1, krylovdim = 17: 1 values converged, normres = (4.50e-17, 3.10e-03, 6.06e-03, 8.30e-03, 2.51e-03)\n",
      "[ Info: Arnoldi iteration step 18: normres = 0.0194099877001663\n",
      "[ Info: Arnoldi schursolve in iter 1, krylovdim = 18: 1 values converged, normres = (3.62e-19, 1.10e-08, 8.77e-05, 1.14e-04, 4.56e-05)\n",
      "[ Info: Arnoldi iteration step 19: normres = 0.08872831916526232\n",
      "[ Info: Arnoldi schursolve in iter 1, krylovdim = 19: 1 values converged, normres = (1.32e-20, 2.28e-06, 4.58e-06, 1.71e-06, 7.72e-06)\n",
      "[ Info: Arnoldi iteration step 20: normres = 0.13551617051820072\n",
      "[ Info: Arnoldi schursolve in iter 1, krylovdim = 20: 1 values converged, normres = (8.75e-22, 2.85e-07, 5.37e-07, 1.40e-08, 1.07e-06)\n",
      "[ Info: Arnoldi iteration step 21: normres = 0.03314754854992519\n",
      "[ Info: Arnoldi schursolve in iter 1, krylovdim = 21: 1 values converged, normres = (1.23e-23, 7.81e-09, 1.15e-08, 2.18e-09, 2.71e-08)\n",
      "[ Info: Arnoldi iteration step 22: normres = 0.023865446299718544\n",
      "[ Info: Arnoldi schursolve in iter 1, krylovdim = 22: 1 values converged, normres = (1.21e-25, 1.56e-10, 1.55e-10, 2.78e-11, 4.72e-10)\n",
      "[ Info: Arnoldi iteration step 23: normres = 0.6682538380553963\n",
      "[ Info: Arnoldi schursolve in iter 1, krylovdim = 23: 1 values converged, normres = (5.09e-26, 1.51e-10, 1.53e-10, 3.43e-11, 5.80e-10)\n",
      "[ Info: Arnoldi iteration step 24: normres = 0.01841674545308179\n",
      "[ Info: Arnoldi schursolve in iter 1, krylovdim = 24: 1 values converged, normres = (5.84e-28, 8.97e-12, 8.95e-12, 1.07e-02, 3.44e-03)\n",
      "[ Info: Arnoldi iteration step 25: normres = 0.06836580990113053\n",
      "[ Info: Arnoldi schursolve in iter 1, krylovdim = 25: 3 values converged, normres = (1.65e-29, 4.04e-13, 4.03e-13, 1.12e-09, 1.87e-08)\n",
      "[ Info: Arnoldi iteration step 26: normres = 0.04884300279390761\n",
      "[ Info: Arnoldi schursolve in iter 1, krylovdim = 26: 3 values converged, normres = (3.63e-31, 1.50e-14, 1.50e-14, 7.06e-06, 1.55e-05)\n",
      "[ Info: Arnoldi iteration step 27: normres = 0.015498410198628682\n",
      "[ Info: Arnoldi schursolve in iter 1, krylovdim = 27: 3 values converged, normres = (2.31e-33, 1.53e-16, 1.53e-16, 1.67e-07, 1.76e-07)\n",
      "[ Info: Arnoldi iteration step 28: normres = 0.09013109020383141\n",
      "[ Info: Arnoldi schursolve in iter 1, krylovdim = 28: 3 values converged, normres = (8.70e-35, 9.24e-18, 9.23e-18, 1.90e-10, 1.56e-08)\n",
      "[ Info: Arnoldi iteration step 29: normres = 0.10171255710890321\n",
      "[ Info: Arnoldi schursolve in iter 1, krylovdim = 29: 3 values converged, normres = (3.95e-36, 7.06e-19, 7.06e-19, 1.11e-11, 1.22e-09)\n",
      "[ Info: Arnoldi iteration step 30: normres = 0.10086485053742687\n",
      "[ Info: Arnoldi schursolve in iter 1, krylovdim = 30: 3 values converged, normres = (1.94e-37, 6.20e-20, 6.19e-20, 1.12e-12, 1.33e-10)\n",
      "[ Info: Arnoldi schursolve in iter 2, krylovdim = 19: 3 values converged, normres = (1.95e-37, 6.20e-20, 6.19e-20, 1.12e-12, 1.33e-10)\n",
      "[ Info: Arnoldi iteration step 20: normres = 0.023423032899071508\n",
      "[ Info: Arnoldi schursolve in iter 2, krylovdim = 20: 4 values converged, normres = (1.89e-39, 9.71e-22, 9.70e-22, 1.94e-14, 2.28e-12)\n",
      "[ Info: Arnoldi iteration step 21: normres = 0.08072409749295369\n",
      "┌ Info: Arnoldi eigsolve finished after 2 iterations:\n",
      "│ *  6 eigenvalues converged\n",
      "│ *  norm of residuals = (6.409530092675988e-41, 5.308513806833121e-23, 3.9316009446139976e-23, 1.172991701935191e-15, 1.3715194412404882e-13, 9.916505495797459e-14)\n",
      "└ *  number of operations = 32\n"
     ]
    }
   ],
   "cell_type": "code",
   "source": [
    "eigsolve(eps_fun, randn(size(scfres.ρ)), 5, :LM; eager=true, verbosity=3);"
   ],
   "metadata": {},
   "execution_count": 3
  }
 ],
 "nbformat_minor": 3,
 "metadata": {
  "language_info": {
   "file_extension": ".jl",
   "mimetype": "application/julia",
   "name": "julia",
   "version": "1.9.3"
  },
  "kernelspec": {
   "name": "julia-1.9",
   "display_name": "Julia 1.9.3",
   "language": "julia"
  }
 },
 "nbformat": 4
}
