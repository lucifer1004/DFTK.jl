{
 "cells": [
  {
   "cell_type": "markdown",
   "source": [
    "# Eigenvalues of the dielectric matrix\n",
    "\n",
    "We compute a few eigenvalues of the dielectric matrix ($q=0$, $ω=0$) iteratively."
   ],
   "metadata": {}
  },
  {
   "outputs": [
    {
     "name": "stdout",
     "output_type": "stream",
     "text": [
      "n     Energy            log10(ΔE)   log10(Δρ)   Diag   Δtime\n",
      "---   ---------------   ---------   ---------   ----   ------\n",
      "  1   -7.234507284560                   -0.50    8.0         \n",
      "  2   -7.250227207983       -1.80       -1.40    1.0   7.80ms\n",
      "  3   -7.251230322894       -3.00       -2.12    2.0   9.25ms\n",
      "  4   -7.251296290621       -4.18       -2.22    2.0   9.72ms\n",
      "  5   -7.251336994617       -4.39       -2.98    1.0   7.85ms\n",
      "  6   -7.251337507266       -6.29       -3.09    2.0   9.26ms\n",
      "  7   -7.251338664877       -5.94       -3.59    1.0   8.08ms\n",
      "  8   -7.251338778200       -6.95       -3.96    2.0   9.60ms\n",
      "  9   -7.251338797397       -7.72       -4.60    1.0   8.21ms\n",
      " 10   -7.251338798634       -8.91       -5.05    2.0   10.0ms\n",
      " 11   -7.251338798690      -10.25       -5.52    1.0   8.31ms\n",
      " 12   -7.251338798703      -10.87       -6.05    2.0   10.0ms\n",
      " 13   -7.251338798704      -12.05       -6.36    2.0   9.91ms\n",
      " 14   -7.251338798705      -12.84       -6.88    1.0   8.35ms\n",
      " 15   -7.251338798705      -13.59       -7.15    2.0   9.90ms\n",
      " 16   -7.251338798705      -14.21       -7.48    1.0   8.14ms\n",
      " 17   -7.251338798705   +  -14.75       -8.34    1.0   8.21ms\n"
     ]
    }
   ],
   "cell_type": "code",
   "source": [
    "using DFTK\n",
    "using Plots\n",
    "using KrylovKit\n",
    "using Printf\n",
    "\n",
    "# Calculation parameters\n",
    "kgrid = [1, 1, 1]\n",
    "Ecut = 5\n",
    "\n",
    "# Silicon lattice\n",
    "a = 10.26\n",
    "lattice = a / 2 .* [[0 1 1.]; [1 0 1.]; [1 1 0.]]\n",
    "Si = ElementPsp(:Si, psp=load_psp(\"hgh/lda/Si-q4\"))\n",
    "atoms     = [Si, Si]\n",
    "positions = [ones(3)/8, -ones(3)/8]\n",
    "\n",
    "# Compute the dielectric operator without symmetries\n",
    "model  = model_LDA(lattice, atoms, positions, symmetries=false)\n",
    "basis  = PlaneWaveBasis(model; Ecut, kgrid)\n",
    "scfres = self_consistent_field(basis, tol=1e-8);"
   ],
   "metadata": {},
   "execution_count": 1
  },
  {
   "cell_type": "markdown",
   "source": [
    "Applying $ε^† ≔ (1- χ_0 K)$ …"
   ],
   "metadata": {}
  },
  {
   "outputs": [],
   "cell_type": "code",
   "source": [
    "function eps_fun(δρ)\n",
    "    δV = apply_kernel(basis, δρ; ρ=scfres.ρ)\n",
    "    χ0δV = apply_χ0(scfres, δV)\n",
    "    δρ - χ0δV\n",
    "end;"
   ],
   "metadata": {},
   "execution_count": 2
  },
  {
   "cell_type": "markdown",
   "source": [
    "… eagerly diagonalizes the subspace matrix at each iteration"
   ],
   "metadata": {}
  },
  {
   "outputs": [
    {
     "name": "stdout",
     "output_type": "stream",
     "text": [
      "[ Info: Arnoldi iteration step 1: normres = 0.038577109071114675\n",
      "[ Info: Arnoldi iteration step 2: normres = 0.5071738245665345\n",
      "[ Info: Arnoldi iteration step 3: normres = 0.901488342819773\n",
      "[ Info: Arnoldi iteration step 4: normres = 0.3499786669656136\n",
      "[ Info: Arnoldi iteration step 5: normres = 0.35492471295912315\n",
      "[ Info: Arnoldi schursolve in iter 1, krylovdim = 5: 0 values converged, normres = (4.68e-02, 4.90e-02, 2.70e-01, 2.19e-01, 1.62e-02)\n",
      "[ Info: Arnoldi iteration step 6: normres = 0.48044800423603573\n",
      "[ Info: Arnoldi schursolve in iter 1, krylovdim = 6: 0 values converged, normres = (1.91e-02, 1.86e-01, 4.08e-01, 1.19e-01, 9.79e-02)\n",
      "[ Info: Arnoldi iteration step 7: normres = 0.08966012072873142\n",
      "[ Info: Arnoldi schursolve in iter 1, krylovdim = 7: 0 values converged, normres = (9.50e-04, 3.29e-02, 1.28e-02, 4.58e-02, 5.82e-02)\n",
      "[ Info: Arnoldi iteration step 8: normres = 0.10148503267546882\n",
      "[ Info: Arnoldi schursolve in iter 1, krylovdim = 8: 0 values converged, normres = (4.09e-05, 2.31e-03, 9.85e-04, 1.31e-02, 3.30e-02)\n",
      "[ Info: Arnoldi iteration step 9: normres = 0.057152662667441484\n",
      "[ Info: Arnoldi schursolve in iter 1, krylovdim = 9: 0 values converged, normres = (1.01e-06, 9.38e-05, 4.45e-05, 2.51e-03, 2.00e-02)\n",
      "[ Info: Arnoldi iteration step 10: normres = 0.11576134733892991\n",
      "[ Info: Arnoldi schursolve in iter 1, krylovdim = 10: 0 values converged, normres = (5.19e-08, 8.06e-06, 4.27e-06, 1.18e-03, 4.39e-02)\n",
      "[ Info: Arnoldi iteration step 11: normres = 0.08875350869470837\n",
      "[ Info: Arnoldi schursolve in iter 1, krylovdim = 11: 0 values converged, normres = (1.99e-09, 5.08e-07, 2.99e-07, 3.64e-04, 4.25e-02)\n",
      "[ Info: Arnoldi iteration step 12: normres = 0.061766122016841514\n",
      "[ Info: Arnoldi schursolve in iter 1, krylovdim = 12: 0 values converged, normres = (5.35e-11, 2.26e-08, 1.48e-08, 8.02e-05, 1.91e-02)\n",
      "[ Info: Arnoldi iteration step 13: normres = 0.049589121221940466\n",
      "[ Info: Arnoldi schursolve in iter 1, krylovdim = 13: 0 values converged, normres = (1.12e-12, 7.73e-10, 5.60e-10, 1.15e-05, 4.99e-03)\n",
      "[ Info: Arnoldi iteration step 14: normres = 0.7033471459608333\n",
      "[ Info: Arnoldi schursolve in iter 1, krylovdim = 14: 1 values converged, normres = (4.84e-13, 7.47e-10, 6.70e-10, 6.85e-01, 5.86e-02)\n",
      "[ Info: Arnoldi iteration step 15: normres = 0.05996474247428995\n",
      "[ Info: Arnoldi schursolve in iter 1, krylovdim = 15: 1 values converged, normres = (1.88e-14, 1.64e-10, 3.93e-02, 1.80e-04, 7.43e-06)\n",
      "[ Info: Arnoldi iteration step 16: normres = 0.628570251566138\n",
      "[ Info: Arnoldi schursolve in iter 1, krylovdim = 16: 1 values converged, normres = (8.93e-15, 2.49e-10, 8.46e-02, 3.22e-03, 6.17e-01)\n",
      "[ Info: Arnoldi iteration step 17: normres = 0.041164394508768666\n",
      "[ Info: Arnoldi schursolve in iter 1, krylovdim = 17: 1 values converged, normres = (2.20e-16, 1.59e-02, 1.14e-02, 8.43e-06, 5.56e-03)\n",
      "[ Info: Arnoldi iteration step 18: normres = 0.02124044816565321\n",
      "[ Info: Arnoldi schursolve in iter 1, krylovdim = 18: 1 values converged, normres = (1.93e-18, 7.64e-05, 2.65e-04, 5.26e-07, 8.50e-05)\n",
      "[ Info: Arnoldi iteration step 19: normres = 0.15141428419891592\n",
      "[ Info: Arnoldi schursolve in iter 1, krylovdim = 19: 1 values converged, normres = (1.23e-19, 1.40e-08, 2.83e-05, 8.70e-06, 4.11e-06)\n",
      "[ Info: Arnoldi iteration step 20: normres = 0.07404834929097953\n",
      "[ Info: Arnoldi schursolve in iter 1, krylovdim = 20: 1 values converged, normres = (4.45e-21, 1.58e-06, 9.63e-07, 1.10e-08, 7.17e-07)\n",
      "[ Info: Arnoldi iteration step 21: normres = 0.03277039754383375\n",
      "[ Info: Arnoldi schursolve in iter 1, krylovdim = 21: 1 values converged, normres = (6.07e-23, 2.64e-09, 4.05e-08, 3.13e-09, 1.71e-08)\n",
      "[ Info: Arnoldi iteration step 22: normres = 0.020417538558736573\n",
      "[ Info: Arnoldi schursolve in iter 1, krylovdim = 22: 1 values converged, normres = (5.12e-25, 3.84e-10, 3.89e-10, 3.62e-11, 2.55e-10)\n",
      "[ Info: Arnoldi iteration step 23: normres = 0.7073115773475026\n",
      "[ Info: Arnoldi schursolve in iter 1, krylovdim = 23: 1 values converged, normres = (2.08e-25, 3.38e-10, 3.18e-10, 3.70e-11, 2.60e-10)\n",
      "[ Info: Arnoldi iteration step 24: normres = 0.019403841541246004\n",
      "[ Info: Arnoldi schursolve in iter 1, krylovdim = 24: 1 values converged, normres = (2.75e-27, 2.52e-11, 2.44e-11, 3.08e-03, 1.31e-04)\n",
      "[ Info: Arnoldi iteration step 25: normres = 0.06949937587184425\n",
      "[ Info: Arnoldi schursolve in iter 1, krylovdim = 25: 1 values converged, normres = (7.90e-29, 1.16e-12, 1.12e-12, 1.18e-09, 7.91e-09)\n",
      "[ Info: Arnoldi iteration step 26: normres = 0.04430879396769121\n",
      "[ Info: Arnoldi schursolve in iter 1, krylovdim = 26: 3 values converged, normres = (1.58e-30, 3.91e-14, 3.78e-14, 2.02e-05, 2.05e-06)\n",
      "[ Info: Arnoldi iteration step 27: normres = 0.033042826280179384\n",
      "[ Info: Arnoldi schursolve in iter 1, krylovdim = 27: 3 values converged, normres = (2.15e-32, 8.50e-16, 8.21e-16, 4.57e-08, 5.01e-08)\n",
      "[ Info: Arnoldi iteration step 28: normres = 0.08363077735438473\n",
      "[ Info: Arnoldi schursolve in iter 1, krylovdim = 28: 3 values converged, normres = (7.85e-34, 5.15e-17, 4.97e-17, 6.90e-10, 4.07e-08)\n",
      "[ Info: Arnoldi iteration step 29: normres = 0.016207140865769416\n",
      "[ Info: Arnoldi schursolve in iter 1, krylovdim = 29: 3 values converged, normres = (5.32e-36, 5.62e-19, 5.43e-19, 6.83e-12, 5.08e-10)\n",
      "[ Info: Arnoldi iteration step 30: normres = 0.12553173832674674\n",
      "[ Info: Arnoldi schursolve in iter 1, krylovdim = 30: 4 values converged, normres = (2.77e-37, 4.71e-20, 4.54e-20, 6.40e-13, 4.68e-11)\n",
      "[ Info: Arnoldi schursolve in iter 2, krylovdim = 19: 4 values converged, normres = (2.77e-37, 4.71e-20, 4.54e-20, 6.40e-13, 4.68e-11)\n",
      "[ Info: Arnoldi iteration step 20: normres = 0.10793003510960915\n",
      "[ Info: Arnoldi schursolve in iter 2, krylovdim = 20: 4 values converged, normres = (1.46e-38, 4.43e-21, 4.27e-21, 6.85e-14, 5.01e-12)\n",
      "[ Info: Arnoldi iteration step 21: normres = 0.08878561543114397\n",
      "┌ Info: Arnoldi eigsolve finished after 2 iterations:\n",
      "│ *  6 eigenvalues converged\n",
      "│ *  norm of residuals = (5.6024540915804655e-40, 2.8151772667070644e-22, 1.414594151196071e-22, 4.8494069026780745e-15, 3.512689133208448e-13, 6.026094472575179e-14)\n",
      "└ *  number of operations = 32\n"
     ]
    }
   ],
   "cell_type": "code",
   "source": [
    "eigsolve(eps_fun, randn(size(scfres.ρ)), 5, :LM; eager=true, verbosity=3);"
   ],
   "metadata": {},
   "execution_count": 3
  }
 ],
 "nbformat_minor": 3,
 "metadata": {
  "language_info": {
   "file_extension": ".jl",
   "mimetype": "application/julia",
   "name": "julia",
   "version": "1.9.3"
  },
  "kernelspec": {
   "name": "julia-1.9",
   "display_name": "Julia 1.9.3",
   "language": "julia"
  }
 },
 "nbformat": 4
}
