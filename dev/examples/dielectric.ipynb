{
 "cells": [
  {
   "cell_type": "markdown",
   "source": [
    "# Eigenvalues of the dielectric matrix\n",
    "\n",
    "We compute a few eigenvalues of the dielectric matrix ($q=0$, $ω=0$) iteratively."
   ],
   "metadata": {}
  },
  {
   "outputs": [
    {
     "name": "stdout",
     "output_type": "stream",
     "text": [
      "n     Energy            log10(ΔE)   log10(Δρ)   Diag   Δtime\n",
      "---   ---------------   ---------   ---------   ----   ------\n",
      "  1   -7.234279439029                   -0.50    7.0         \n",
      "  2   -7.249857121995       -1.81       -1.40    1.0   6.97ms\n",
      "  3   -7.251127084059       -2.90       -1.94    2.0   8.18ms\n",
      "  4   -7.251268808383       -3.85       -2.16    2.0   8.69ms\n",
      "  5   -7.251315944218       -4.33       -2.46    1.0   7.09ms\n",
      "  6   -7.251333441167       -4.76       -2.80    1.0   7.10ms\n",
      "  7   -7.251338396665       -5.30       -3.37    1.0   7.19ms\n",
      "  8   -7.251338752751       -6.45       -3.76    2.0   8.51ms\n",
      "  9   -7.251338795722       -7.37       -4.42    2.0   8.54ms\n",
      " 10   -7.251338798484       -8.56       -4.96    3.0   9.77ms\n",
      " 11   -7.251338798674       -9.72       -5.34    2.0   9.18ms\n",
      " 12   -7.251338798699      -10.60       -5.74    2.0   8.72ms\n",
      " 13   -7.251338798704      -11.34       -6.24    2.0   8.78ms\n",
      " 14   -7.251338798704      -12.19       -6.53    3.0   10.5ms\n",
      " 15   -7.251338798705      -13.17       -6.92    1.0   7.49ms\n",
      " 16   -7.251338798705      -13.80       -7.65    2.0   8.97ms\n",
      " 17   -7.251338798705      -14.57       -7.70    3.0   10.3ms\n",
      " 18   -7.251338798705   +    -Inf       -8.05    1.0   7.48ms\n"
     ]
    }
   ],
   "cell_type": "code",
   "source": [
    "using DFTK\n",
    "using Plots\n",
    "using KrylovKit\n",
    "using Printf\n",
    "\n",
    "# Calculation parameters\n",
    "kgrid = [1, 1, 1]\n",
    "Ecut = 5\n",
    "\n",
    "# Silicon lattice\n",
    "a = 10.26\n",
    "lattice = a / 2 .* [[0 1 1.]; [1 0 1.]; [1 1 0.]]\n",
    "Si = ElementPsp(:Si, psp=load_psp(\"hgh/lda/Si-q4\"))\n",
    "atoms     = [Si, Si]\n",
    "positions = [ones(3)/8, -ones(3)/8]\n",
    "\n",
    "# Compute the dielectric operator without symmetries\n",
    "model  = model_LDA(lattice, atoms, positions, symmetries=false)\n",
    "basis  = PlaneWaveBasis(model; Ecut, kgrid)\n",
    "scfres = self_consistent_field(basis, tol=1e-8);"
   ],
   "metadata": {},
   "execution_count": 1
  },
  {
   "cell_type": "markdown",
   "source": [
    "Applying $ε^† ≔ (1- χ_0 K)$ …"
   ],
   "metadata": {}
  },
  {
   "outputs": [],
   "cell_type": "code",
   "source": [
    "function eps_fun(δρ)\n",
    "    δV = apply_kernel(basis, δρ; ρ=scfres.ρ)\n",
    "    χ0δV = apply_χ0(scfres, δV)\n",
    "    δρ - χ0δV\n",
    "end;"
   ],
   "metadata": {},
   "execution_count": 2
  },
  {
   "cell_type": "markdown",
   "source": [
    "… eagerly diagonalizes the subspace matrix at each iteration"
   ],
   "metadata": {}
  },
  {
   "outputs": [
    {
     "name": "stdout",
     "output_type": "stream",
     "text": [
      "[ Info: Arnoldi iteration step 1: normres = 0.0787808194888326\n",
      "[ Info: Arnoldi iteration step 2: normres = 0.6385327821114197\n",
      "[ Info: Arnoldi iteration step 3: normres = 0.70457963707631\n",
      "[ Info: Arnoldi iteration step 4: normres = 0.27211796389115955\n",
      "[ Info: Arnoldi iteration step 5: normres = 0.4785777278058789\n",
      "[ Info: Arnoldi schursolve in iter 1, krylovdim = 5: 0 values converged, normres = (1.92e-02, 7.72e-02, 3.61e-01, 3.04e-01, 8.97e-03)\n",
      "[ Info: Arnoldi iteration step 6: normres = 0.2754205416183754\n",
      "[ Info: Arnoldi schursolve in iter 1, krylovdim = 6: 0 values converged, normres = (4.70e-03, 1.57e-01, 1.91e-01, 7.83e-02, 8.43e-02)\n",
      "[ Info: Arnoldi iteration step 7: normres = 0.0741549725232667\n",
      "[ Info: Arnoldi schursolve in iter 1, krylovdim = 7: 0 values converged, normres = (1.63e-04, 1.07e-02, 1.02e-02, 2.31e-02, 5.90e-02)\n",
      "[ Info: Arnoldi iteration step 8: normres = 0.11591967518002157\n",
      "[ Info: Arnoldi schursolve in iter 1, krylovdim = 8: 0 values converged, normres = (8.14e-06, 8.75e-04, 9.22e-04, 8.46e-03, 4.42e-02)\n",
      "[ Info: Arnoldi iteration step 9: normres = 0.08639575517792515\n",
      "[ Info: Arnoldi schursolve in iter 1, krylovdim = 9: 0 values converged, normres = (3.07e-07, 5.49e-05, 6.43e-05, 2.74e-03, 4.09e-02)\n",
      "[ Info: Arnoldi iteration step 10: normres = 0.08527156138158624\n",
      "[ Info: Arnoldi schursolve in iter 1, krylovdim = 10: 0 values converged, normres = (1.14e-08, 3.39e-06, 4.42e-06, 8.60e-04, 3.25e-02)\n",
      "[ Info: Arnoldi iteration step 11: normres = 0.07154712304015574\n",
      "[ Info: Arnoldi schursolve in iter 1, krylovdim = 11: 0 values converged, normres = (3.55e-10, 1.74e-07, 2.52e-07, 2.17e-04, 1.86e-02)\n",
      "[ Info: Arnoldi iteration step 12: normres = 0.07789863531836475\n",
      "[ Info: Arnoldi schursolve in iter 1, krylovdim = 12: 0 values converged, normres = (1.18e-11, 9.42e-09, 1.51e-08, 5.06e-05, 8.40e-03)\n",
      "[ Info: Arnoldi iteration step 13: normres = 0.07941986095585682\n",
      "[ Info: Arnoldi schursolve in iter 1, krylovdim = 13: 1 values converged, normres = (4.02e-13, 5.26e-10, 9.37e-10, 1.25e-05, 4.17e-03)\n",
      "[ Info: Arnoldi iteration step 14: normres = 0.49724483450216017\n",
      "[ Info: Arnoldi schursolve in iter 1, krylovdim = 14: 1 values converged, normres = (1.80e-13, 1.28e-09, 7.28e-09, 4.96e-01, 8.79e-03)\n",
      "[ Info: Arnoldi iteration step 15: normres = 0.09207025968221287\n",
      "[ Info: Arnoldi schursolve in iter 1, krylovdim = 15: 1 values converged, normres = (8.26e-15, 2.14e-09, 3.23e-02, 1.13e-05, 3.68e-06)\n",
      "[ Info: Arnoldi iteration step 16: normres = 0.3079647654480657\n",
      "[ Info: Arnoldi schursolve in iter 1, krylovdim = 16: 1 values converged, normres = (2.26e-15, 7.85e-09, 4.52e-02, 1.39e-04, 3.02e-01)\n",
      "[ Info: Arnoldi iteration step 17: normres = 0.036815512386312706\n",
      "[ Info: Arnoldi schursolve in iter 1, krylovdim = 17: 1 values converged, normres = (3.75e-17, 6.01e-05, 1.80e-03, 7.12e-03, 4.45e-03)\n",
      "[ Info: Arnoldi iteration step 18: normres = 0.01972319346849771\n",
      "[ Info: Arnoldi schursolve in iter 1, krylovdim = 18: 1 values converged, normres = (3.06e-19, 9.06e-06, 2.16e-05, 1.07e-04, 5.52e-05)\n",
      "[ Info: Arnoldi iteration step 19: normres = 0.08412741075148505\n",
      "[ Info: Arnoldi schursolve in iter 1, krylovdim = 19: 1 values converged, normres = (1.06e-20, 9.05e-08, 1.30e-06, 1.67e-08, 7.37e-06)\n",
      "[ Info: Arnoldi iteration step 20: normres = 0.10895214819713483\n",
      "[ Info: Arnoldi schursolve in iter 1, krylovdim = 20: 1 values converged, normres = (5.63e-22, 2.89e-08, 1.20e-07, 4.16e-07, 6.81e-07)\n",
      "[ Info: Arnoldi iteration step 21: normres = 0.031875066557994686\n",
      "[ Info: Arnoldi schursolve in iter 1, krylovdim = 21: 1 values converged, normres = (7.57e-24, 1.94e-09, 1.88e-09, 1.35e-08, 1.38e-08)\n",
      "[ Info: Arnoldi iteration step 22: normres = 0.026913489619367188\n",
      "[ Info: Arnoldi schursolve in iter 1, krylovdim = 22: 1 values converged, normres = (8.43e-26, 3.09e-11, 3.69e-11, 2.77e-10, 2.59e-10)\n",
      "[ Info: Arnoldi iteration step 23: normres = 0.6533178197068906\n",
      "[ Info: Arnoldi schursolve in iter 1, krylovdim = 23: 1 values converged, normres = (3.41e-26, 2.85e-11, 3.39e-11, 3.21e-10, 2.92e-10)\n",
      "[ Info: Arnoldi iteration step 24: normres = 0.01779693124968197\n",
      "[ Info: Arnoldi schursolve in iter 1, krylovdim = 24: 1 values converged, normres = (3.84e-28, 1.68e-12, 2.01e-12, 1.00e-08, 1.17e-08)\n",
      "[ Info: Arnoldi iteration step 25: normres = 0.07776842253189332\n",
      "[ Info: Arnoldi schursolve in iter 1, krylovdim = 25: 3 values converged, normres = (1.24e-29, 8.68e-14, 1.04e-13, 1.41e-04, 1.95e-04)\n",
      "[ Info: Arnoldi iteration step 26: normres = 0.03838181988270285\n",
      "[ Info: Arnoldi schursolve in iter 1, krylovdim = 26: 3 values converged, normres = (2.14e-31, 2.54e-15, 3.03e-15, 4.95e-06, 1.56e-05)\n",
      "[ Info: Arnoldi iteration step 27: normres = 0.01920640801996196\n",
      "[ Info: Arnoldi schursolve in iter 1, krylovdim = 27: 3 values converged, normres = (1.69e-33, 3.19e-17, 3.81e-17, 1.45e-09, 2.66e-09)\n",
      "[ Info: Arnoldi iteration step 28: normres = 0.10534499832439702\n",
      "[ Info: Arnoldi schursolve in iter 1, krylovdim = 28: 3 values converged, normres = (7.53e-35, 2.31e-18, 2.76e-18, 7.29e-09, 8.40e-09)\n",
      "[ Info: Arnoldi iteration step 29: normres = 0.1059238533833527\n",
      "[ Info: Arnoldi schursolve in iter 1, krylovdim = 29: 3 values converged, normres = (3.51e-36, 1.79e-19, 2.14e-19, 5.29e-10, 6.42e-10)\n",
      "[ Info: Arnoldi iteration step 30: normres = 0.07727185325958946\n",
      "[ Info: Arnoldi schursolve in iter 1, krylovdim = 30: 3 values converged, normres = (1.34e-37, 1.23e-20, 1.47e-20, 3.55e-11, 5.13e-11)\n",
      "[ Info: Arnoldi schursolve in iter 2, krylovdim = 19: 3 values converged, normres = (1.35e-37, 1.23e-20, 1.47e-20, 3.55e-11, 5.13e-11)\n",
      "[ Info: Arnoldi iteration step 20: normres = 0.045343373425580556\n",
      "[ Info: Arnoldi schursolve in iter 2, krylovdim = 20: 3 values converged, normres = (2.50e-39, 3.67e-22, 4.38e-22, 1.69e-12, 1.16e-12)\n",
      "[ Info: Arnoldi iteration step 21: normres = 0.06908483379229417\n",
      "┌ Info: Arnoldi eigsolve finished after 2 iterations:\n",
      "│ *  6 eigenvalues converged\n",
      "│ *  norm of residuals = (7.397011072535786e-41, 1.7762547745049708e-23, 2.5323033181116114e-23, 8.31753769080374e-14, 8.31753769080374e-14, 2.2484846313468686e-13)\n",
      "└ *  number of operations = 32\n"
     ]
    }
   ],
   "cell_type": "code",
   "source": [
    "eigsolve(eps_fun, randn(size(scfres.ρ)), 5, :LM; eager=true, verbosity=3);"
   ],
   "metadata": {},
   "execution_count": 3
  }
 ],
 "nbformat_minor": 3,
 "metadata": {
  "language_info": {
   "file_extension": ".jl",
   "mimetype": "application/julia",
   "name": "julia",
   "version": "1.9.3"
  },
  "kernelspec": {
   "name": "julia-1.9",
   "display_name": "Julia 1.9.3",
   "language": "julia"
  }
 },
 "nbformat": 4
}
