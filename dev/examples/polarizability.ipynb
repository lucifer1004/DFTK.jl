{
 "cells": [
  {
   "cell_type": "markdown",
   "source": [
    "# Polarizability by linear response\n",
    "\n",
    "We compute the polarizability of a Helium atom. The polarizability\n",
    "is defined as the change in dipole moment\n",
    "$$\n",
    "μ = ∫ r ρ(r) dr\n",
    "$$\n",
    "with respect to a small uniform electric field $E = -x$.\n",
    "\n",
    "We compute this in two ways: first by finite differences (applying a\n",
    "finite electric field), then by linear response. Note that DFTK is\n",
    "not really adapted to isolated atoms because it uses periodic\n",
    "boundary conditions. Nevertheless we can simply embed the Helium\n",
    "atom in a large enough box (although this is computationally wasteful).\n",
    "\n",
    "As in other tests, this is not fully converged, convergence\n",
    "parameters were simply selected for fast execution on CI,"
   ],
   "metadata": {}
  },
  {
   "outputs": [],
   "cell_type": "code",
   "source": [
    "using DFTK\n",
    "using LinearAlgebra\n",
    "\n",
    "a = 10.\n",
    "lattice = a * I(3)  # cube of $a$ bohrs\n",
    "# Helium at the center of the box\n",
    "atoms     = [ElementPsp(:He, psp=load_psp(\"hgh/lda/He-q2\"))]\n",
    "positions = [[1/2, 1/2, 1/2]]\n",
    "\n",
    "\n",
    "kgrid = [1, 1, 1]  # no k-point sampling for an isolated system\n",
    "Ecut = 30\n",
    "tol = 1e-8\n",
    "\n",
    "# dipole moment of a given density (assuming the current geometry)\n",
    "function dipole(basis, ρ)\n",
    "    rr = [(r[1] - a/2) for r in r_vectors_cart(basis)]\n",
    "    sum(rr .* ρ) * basis.dvol\n",
    "end;"
   ],
   "metadata": {},
   "execution_count": 1
  },
  {
   "cell_type": "markdown",
   "source": [
    "## Using finite differences\n",
    "We first compute the polarizability by finite differences.\n",
    "First compute the dipole moment at rest:"
   ],
   "metadata": {}
  },
  {
   "outputs": [
    {
     "name": "stdout",
     "output_type": "stream",
     "text": [
      "n     Energy            log10(ΔE)   log10(Δρ)   Diag   Δtime\n",
      "---   ---------------   ---------   ---------   ----   ------\n",
      "  1   -2.770324799816                   -0.53    9.0         \n",
      "  2   -2.771682536670       -2.87       -1.30    1.0    134ms\n",
      "  3   -2.771714132461       -4.50       -2.63    1.0    112ms\n",
      "  4   -2.771714713704       -6.24       -4.06    2.0    143ms\n",
      "  5   -2.771714715218       -8.82       -4.76    2.0    136ms\n",
      "  6   -2.771714715248      -10.52       -5.74    1.0   97.1ms\n",
      "  7   -2.771714715250      -11.82       -6.29    2.0    128ms\n",
      "  8   -2.771714715250      -13.89       -7.42    1.0    101ms\n",
      "  9   -2.771714715250      -14.75       -7.62    2.0    124ms\n",
      " 10   -2.771714715250   +  -14.35       -8.05    1.0    122ms\n"
     ]
    },
    {
     "output_type": "execute_result",
     "data": {
      "text/plain": "-0.00013457377961038485"
     },
     "metadata": {},
     "execution_count": 2
    }
   ],
   "cell_type": "code",
   "source": [
    "model = model_LDA(lattice, atoms, positions; symmetries=false)\n",
    "basis = PlaneWaveBasis(model; Ecut, kgrid)\n",
    "res   = self_consistent_field(basis; tol)\n",
    "μref  = dipole(basis, res.ρ)"
   ],
   "metadata": {},
   "execution_count": 2
  },
  {
   "cell_type": "markdown",
   "source": [
    "Then in a small uniform field:"
   ],
   "metadata": {}
  },
  {
   "outputs": [
    {
     "name": "stdout",
     "output_type": "stream",
     "text": [
      "n     Energy            log10(ΔE)   log10(Δρ)   Diag   Δtime\n",
      "---   ---------------   ---------   ---------   ----   ------\n",
      "  1   -2.770470676940                   -0.52    9.0         \n",
      "  2   -2.771777883610       -2.88       -1.33    1.0    119ms\n",
      "  3   -2.771801530201       -4.63       -2.42    1.0   93.3ms\n",
      "  4   -2.771801990974       -6.34       -3.10    1.0    120ms\n",
      "  5   -2.771802074299       -7.08       -4.46    2.0    156ms\n",
      "  6   -2.771802074430       -9.88       -4.70    1.0   99.2ms\n",
      "  7   -2.771802074472      -10.37       -5.34    2.0    113ms\n",
      "  8   -2.771802074475      -11.50       -5.80    1.0    125ms\n",
      "  9   -2.771802074476      -12.21       -6.51    2.0    119ms\n",
      " 10   -2.771802074476      -14.03       -6.82    1.0    119ms\n",
      " 11   -2.771802074476      -14.18       -8.43    1.0    113ms\n"
     ]
    },
    {
     "output_type": "execute_result",
     "data": {
      "text/plain": "0.0176122188987487"
     },
     "metadata": {},
     "execution_count": 3
    }
   ],
   "cell_type": "code",
   "source": [
    "ε = .01\n",
    "model_ε = model_LDA(lattice, atoms, positions;\n",
    "                    extra_terms=[ExternalFromReal(r -> -ε * (r[1] - a/2))],\n",
    "                    symmetries=false)\n",
    "basis_ε = PlaneWaveBasis(model_ε; Ecut, kgrid)\n",
    "res_ε   = self_consistent_field(basis_ε; tol)\n",
    "με = dipole(basis_ε, res_ε.ρ)"
   ],
   "metadata": {},
   "execution_count": 3
  },
  {
   "outputs": [
    {
     "name": "stdout",
     "output_type": "stream",
     "text": [
      "Reference dipole:  -0.00013457377961038485\n",
      "Displaced dipole:  0.0176122188987487\n",
      "Polarizability :   1.7746792678359085\n"
     ]
    }
   ],
   "cell_type": "code",
   "source": [
    "polarizability = (με - μref) / ε\n",
    "\n",
    "println(\"Reference dipole:  $μref\")\n",
    "println(\"Displaced dipole:  $με\")\n",
    "println(\"Polarizability :   $polarizability\")"
   ],
   "metadata": {},
   "execution_count": 4
  },
  {
   "cell_type": "markdown",
   "source": [
    "The result on more converged grids is very close to published results.\n",
    "For example [DOI 10.1039/C8CP03569E](https://doi.org/10.1039/C8CP03569E)\n",
    "quotes **1.65** with LSDA and **1.38** with CCSD(T)."
   ],
   "metadata": {}
  },
  {
   "cell_type": "markdown",
   "source": [
    "## Using linear response\n",
    "Now we use linear response to compute this analytically; we refer to standard\n",
    "textbooks for the formalism. In the following, $χ_0$ is the\n",
    "independent-particle polarizability, and $K$ the\n",
    "Hartree-exchange-correlation kernel. We denote with $δV_{\\rm ext}$ an external\n",
    "perturbing potential (like in this case the uniform electric field). Then:\n",
    "$$\n",
    "δρ = χ_0 δV = χ_0 (δV_{\\rm ext} + K δρ),\n",
    "$$\n",
    "which implies\n",
    "$$\n",
    "δρ = (1-χ_0 K)^{-1} χ_0 δV_{\\rm ext}.\n",
    "$$\n",
    "From this we identify the polarizability operator to be $χ = (1-χ_0 K)^{-1} χ_0$.\n",
    "Numerically, we apply $χ$ to $δV = -x$ by solving a linear equation\n",
    "(the Dyson equation) iteratively."
   ],
   "metadata": {}
  },
  {
   "outputs": [
    {
     "name": "stdout",
     "output_type": "stream",
     "text": [
      "WARNING: using KrylovKit.basis in module ##330 conflicts with an existing identifier.\n",
      "[ Info: GMRES linsolve in iter 1; step 1: normres = 2.493920760398e-01\n",
      "[ Info: GMRES linsolve in iter 1; step 2: normres = 3.766551378288e-03\n",
      "[ Info: GMRES linsolve in iter 1; step 3: normres = 2.852766285049e-04\n",
      "[ Info: GMRES linsolve in iter 1; step 4: normres = 4.694603318968e-06\n",
      "[ Info: GMRES linsolve in iter 1; step 5: normres = 1.088787880168e-08\n",
      "[ Info: GMRES linsolve in iter 1; step 6: normres = 6.286348992312e-11\n",
      "[ Info: GMRES linsolve in iter 1; step 7: normres = 1.081622794614e-12\n",
      "[ Info: GMRES linsolve in iter 1; finished at step 7: normres = 1.081622794614e-12\n",
      "[ Info: GMRES linsolve in iter 2; step 1: normres = 9.895479912383e-11\n",
      "[ Info: GMRES linsolve in iter 2; step 2: normres = 1.480081271280e-11\n",
      "[ Info: GMRES linsolve in iter 2; step 3: normres = 3.233814360249e-13\n",
      "[ Info: GMRES linsolve in iter 2; finished at step 3: normres = 3.233814360249e-13\n",
      "┌ Info: GMRES linsolve converged at iteration 2, step 3:\n",
      "│ *  norm of residual = 3.233728844677785e-13\n",
      "└ *  number of operations = 12\n",
      "Non-interacting polarizability: 1.9257125049791564\n",
      "Interacting polarizability:     1.7736548338153688\n"
     ]
    }
   ],
   "cell_type": "code",
   "source": [
    "using KrylovKit\n",
    "\n",
    "# Apply $(1- χ_0 K)$\n",
    "function dielectric_operator(δρ)\n",
    "    δV = apply_kernel(basis, δρ; res.ρ)\n",
    "    χ0δV = apply_χ0(res, δV)\n",
    "    δρ - χ0δV\n",
    "end\n",
    "\n",
    "# `δVext` is the potential from a uniform field interacting with the dielectric dipole\n",
    "# of the density.\n",
    "δVext = [-(r[1] - a/2) for r in r_vectors_cart(basis)]\n",
    "δVext = cat(δVext; dims=4)\n",
    "\n",
    "# Apply $χ_0$ once to get non-interacting dipole\n",
    "δρ_nointeract = apply_χ0(res, δVext)\n",
    "\n",
    "# Solve Dyson equation to get interacting dipole\n",
    "δρ = linsolve(dielectric_operator, δρ_nointeract, verbosity=3)[1]\n",
    "\n",
    "println(\"Non-interacting polarizability: $(dipole(basis, δρ_nointeract))\")\n",
    "println(\"Interacting polarizability:     $(dipole(basis, δρ))\")"
   ],
   "metadata": {},
   "execution_count": 5
  },
  {
   "cell_type": "markdown",
   "source": [
    "As expected, the interacting polarizability matches the finite difference\n",
    "result. The non-interacting polarizability is higher."
   ],
   "metadata": {}
  }
 ],
 "nbformat_minor": 3,
 "metadata": {
  "language_info": {
   "file_extension": ".jl",
   "mimetype": "application/julia",
   "name": "julia",
   "version": "1.9.3"
  },
  "kernelspec": {
   "name": "julia-1.9",
   "display_name": "Julia 1.9.3",
   "language": "julia"
  }
 },
 "nbformat": 4
}
