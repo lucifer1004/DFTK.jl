{
 "cells": [
  {
   "cell_type": "markdown",
   "source": [
    "# Polarizability by linear response\n",
    "\n",
    "We compute the polarizability of a Helium atom. The polarizability\n",
    "is defined as the change in dipole moment\n",
    "$$\n",
    "μ = ∫ r ρ(r) dr\n",
    "$$\n",
    "with respect to a small uniform electric field $E = -x$.\n",
    "\n",
    "We compute this in two ways: first by finite differences (applying a\n",
    "finite electric field), then by linear response. Note that DFTK is\n",
    "not really adapted to isolated atoms because it uses periodic\n",
    "boundary conditions. Nevertheless we can simply embed the Helium\n",
    "atom in a large enough box (although this is computationally wasteful).\n",
    "\n",
    "As in other tests, this is not fully converged, convergence\n",
    "parameters were simply selected for fast execution on CI,"
   ],
   "metadata": {}
  },
  {
   "outputs": [],
   "cell_type": "code",
   "source": [
    "using DFTK\n",
    "using LinearAlgebra\n",
    "\n",
    "a = 10.\n",
    "lattice = a * I(3)  # cube of $a$ bohrs\n",
    "# Helium at the center of the box\n",
    "atoms     = [ElementPsp(:He; psp=load_psp(\"hgh/lda/He-q2\"))]\n",
    "positions = [[1/2, 1/2, 1/2]]\n",
    "\n",
    "\n",
    "kgrid = [1, 1, 1]  # no k-point sampling for an isolated system\n",
    "Ecut = 30\n",
    "tol = 1e-8\n",
    "\n",
    "# dipole moment of a given density (assuming the current geometry)\n",
    "function dipole(basis, ρ)\n",
    "    rr = [(r[1] - a/2) for r in r_vectors_cart(basis)]\n",
    "    sum(rr .* ρ) * basis.dvol\n",
    "end;"
   ],
   "metadata": {},
   "execution_count": 1
  },
  {
   "cell_type": "markdown",
   "source": [
    "## Using finite differences\n",
    "We first compute the polarizability by finite differences.\n",
    "First compute the dipole moment at rest:"
   ],
   "metadata": {}
  },
  {
   "outputs": [
    {
     "name": "stdout",
     "output_type": "stream",
     "text": [
      "n     Energy            log10(ΔE)   log10(Δρ)   Diag   Δtime\n",
      "---   ---------------   ---------   ---------   ----   ------\n",
      "  1   -2.770372771699                   -0.52    9.0         \n",
      "  2   -2.771689391907       -2.88       -1.32    1.0    114ms\n",
      "  3   -2.771714422232       -4.60       -2.46    1.0    118ms\n",
      "  4   -2.771714631535       -6.68       -3.14    1.0    110ms\n",
      "  5   -2.771714712136       -7.09       -3.78    2.0    106ms\n",
      "  6   -2.771714715108       -8.53       -4.69    1.0    116ms\n",
      "  7   -2.771714715249       -9.85       -5.43    2.0    109ms\n",
      "  8   -2.771714715249      -12.74       -6.09    1.0    114ms\n",
      "  9   -2.771714715250      -12.69       -7.10    2.0    121ms\n",
      " 10   -2.771714715250   +  -14.10       -7.08    2.0    126ms\n",
      " 11   -2.771714715250   +  -14.35       -6.92    1.0    107ms\n",
      " 12   -2.771714715250      -15.35       -7.14    1.0    113ms\n",
      " 13   -2.771714715250      -14.40       -7.93    1.0    101ms\n",
      " 14   -2.771714715250   +  -14.45       -8.23    1.0    102ms\n"
     ]
    },
    {
     "output_type": "execute_result",
     "data": {
      "text/plain": "-0.00013457539725410746"
     },
     "metadata": {},
     "execution_count": 2
    }
   ],
   "cell_type": "code",
   "source": [
    "model = model_LDA(lattice, atoms, positions; symmetries=false)\n",
    "basis = PlaneWaveBasis(model; Ecut, kgrid)\n",
    "res   = self_consistent_field(basis; tol)\n",
    "μref  = dipole(basis, res.ρ)"
   ],
   "metadata": {},
   "execution_count": 2
  },
  {
   "cell_type": "markdown",
   "source": [
    "Then in a small uniform field:"
   ],
   "metadata": {}
  },
  {
   "outputs": [
    {
     "name": "stdout",
     "output_type": "stream",
     "text": [
      "n     Energy            log10(ΔE)   log10(Δρ)   Diag   Δtime\n",
      "---   ---------------   ---------   ---------   ----   ------\n",
      "  1   -2.770379977123                   -0.53    8.0         \n",
      "  2   -2.771771013293       -2.86       -1.31    1.0   88.0ms\n",
      "  3   -2.771801667708       -4.51       -2.59    1.0    114ms\n",
      "  4   -2.771802041337       -6.43       -3.70    1.0   91.4ms\n",
      "  5   -2.771802072721       -7.50       -3.93    2.0    144ms\n",
      "  6   -2.771802074385       -8.78       -4.82    1.0   94.6ms\n",
      "  7   -2.771802074475      -10.05       -5.56    2.0    132ms\n",
      "  8   -2.771802074476      -12.15       -6.03    2.0    113ms\n",
      "  9   -2.771802074476      -13.62       -6.57    1.0    105ms\n",
      " 10   -2.771802074476      -13.42       -7.14    2.0    124ms\n",
      " 11   -2.771802074476   +  -13.70       -7.88    1.0    117ms\n",
      " 12   -2.771802074476   +  -14.75       -9.33    2.0    124ms\n"
     ]
    },
    {
     "output_type": "execute_result",
     "data": {
      "text/plain": "0.01761222126908919"
     },
     "metadata": {},
     "execution_count": 3
    }
   ],
   "cell_type": "code",
   "source": [
    "ε = .01\n",
    "model_ε = model_LDA(lattice, atoms, positions;\n",
    "                    extra_terms=[ExternalFromReal(r -> -ε * (r[1] - a/2))],\n",
    "                    symmetries=false)\n",
    "basis_ε = PlaneWaveBasis(model_ε; Ecut, kgrid)\n",
    "res_ε   = self_consistent_field(basis_ε; tol)\n",
    "με = dipole(basis_ε, res_ε.ρ)"
   ],
   "metadata": {},
   "execution_count": 3
  },
  {
   "outputs": [
    {
     "name": "stdout",
     "output_type": "stream",
     "text": [
      "Reference dipole:  -0.00013457539725410746\n",
      "Displaced dipole:  0.01761222126908919\n",
      "Polarizability :   1.7746796666343294\n"
     ]
    }
   ],
   "cell_type": "code",
   "source": [
    "polarizability = (με - μref) / ε\n",
    "\n",
    "println(\"Reference dipole:  $μref\")\n",
    "println(\"Displaced dipole:  $με\")\n",
    "println(\"Polarizability :   $polarizability\")"
   ],
   "metadata": {},
   "execution_count": 4
  },
  {
   "cell_type": "markdown",
   "source": [
    "The result on more converged grids is very close to published results.\n",
    "For example [DOI 10.1039/C8CP03569E](https://doi.org/10.1039/C8CP03569E)\n",
    "quotes **1.65** with LSDA and **1.38** with CCSD(T)."
   ],
   "metadata": {}
  },
  {
   "cell_type": "markdown",
   "source": [
    "## Using linear response\n",
    "Now we use linear response to compute this analytically; we refer to standard\n",
    "textbooks for the formalism. In the following, $χ_0$ is the\n",
    "independent-particle polarizability, and $K$ the\n",
    "Hartree-exchange-correlation kernel. We denote with $δV_{\\rm ext}$ an external\n",
    "perturbing potential (like in this case the uniform electric field). Then:\n",
    "$$\n",
    "δρ = χ_0 δV = χ_0 (δV_{\\rm ext} + K δρ),\n",
    "$$\n",
    "which implies\n",
    "$$\n",
    "δρ = (1-χ_0 K)^{-1} χ_0 δV_{\\rm ext}.\n",
    "$$\n",
    "From this we identify the polarizability operator to be $χ = (1-χ_0 K)^{-1} χ_0$.\n",
    "Numerically, we apply $χ$ to $δV = -x$ by solving a linear equation\n",
    "(the Dyson equation) iteratively."
   ],
   "metadata": {}
  },
  {
   "outputs": [
    {
     "name": "stdout",
     "output_type": "stream",
     "text": [
      "WARNING: using KrylovKit.basis in module ##386 conflicts with an existing identifier.\n",
      "[ Info: GMRES linsolve in iter 1; step 1: normres = 2.493920877486e-01\n",
      "[ Info: GMRES linsolve in iter 1; step 2: normres = 3.766552024254e-03\n",
      "[ Info: GMRES linsolve in iter 1; step 3: normres = 2.852777078154e-04\n",
      "[ Info: GMRES linsolve in iter 1; step 4: normres = 4.694602811662e-06\n",
      "[ Info: GMRES linsolve in iter 1; step 5: normres = 1.088786968230e-08\n",
      "[ Info: GMRES linsolve in iter 1; step 6: normres = 6.279894692725e-11\n",
      "[ Info: GMRES linsolve in iter 1; step 7: normres = 8.938655191280e-13\n",
      "[ Info: GMRES linsolve in iter 1; finished at step 7: normres = 8.938655191280e-13\n",
      "[ Info: GMRES linsolve in iter 2; step 1: normres = 6.768116045284e-11\n",
      "[ Info: GMRES linsolve in iter 2; step 2: normres = 1.140406744600e-11\n",
      "[ Info: GMRES linsolve in iter 2; step 3: normres = 2.342156663865e-13\n",
      "[ Info: GMRES linsolve in iter 2; finished at step 3: normres = 2.342156663865e-13\n",
      "┌ Info: GMRES linsolve converged at iteration 2, step 3:\n",
      "│ *  norm of residual = 2.342143130246661e-13\n",
      "└ *  number of operations = 12\n",
      "Non-interacting polarizability: 1.9257125344540311\n",
      "Interacting polarizability:     1.773654864133316\n"
     ]
    }
   ],
   "cell_type": "code",
   "source": [
    "using KrylovKit\n",
    "\n",
    "# Apply $(1- χ_0 K)$\n",
    "function dielectric_operator(δρ)\n",
    "    δV = apply_kernel(basis, δρ; res.ρ)\n",
    "    χ0δV = apply_χ0(res, δV)\n",
    "    δρ - χ0δV\n",
    "end\n",
    "\n",
    "# `δVext` is the potential from a uniform field interacting with the dielectric dipole\n",
    "# of the density.\n",
    "δVext = [-(r[1] - a/2) for r in r_vectors_cart(basis)]\n",
    "δVext = cat(δVext; dims=4)\n",
    "\n",
    "# Apply $χ_0$ once to get non-interacting dipole\n",
    "δρ_nointeract = apply_χ0(res, δVext)\n",
    "\n",
    "# Solve Dyson equation to get interacting dipole\n",
    "δρ = linsolve(dielectric_operator, δρ_nointeract, verbosity=3)[1]\n",
    "\n",
    "println(\"Non-interacting polarizability: $(dipole(basis, δρ_nointeract))\")\n",
    "println(\"Interacting polarizability:     $(dipole(basis, δρ))\")"
   ],
   "metadata": {},
   "execution_count": 5
  },
  {
   "cell_type": "markdown",
   "source": [
    "As expected, the interacting polarizability matches the finite difference\n",
    "result. The non-interacting polarizability is higher."
   ],
   "metadata": {}
  }
 ],
 "nbformat_minor": 3,
 "metadata": {
  "language_info": {
   "file_extension": ".jl",
   "mimetype": "application/julia",
   "name": "julia",
   "version": "1.9.4"
  },
  "kernelspec": {
   "name": "julia-1.9",
   "display_name": "Julia 1.9.4",
   "language": "julia"
  }
 },
 "nbformat": 4
}
