{
 "cells": [
  {
   "cell_type": "markdown",
   "source": [
    "# Polarizability by linear response\n",
    "\n",
    "We compute the polarizability of a Helium atom. The polarizability\n",
    "is defined as the change in dipole moment\n",
    "$$\n",
    "μ = ∫ r ρ(r) dr\n",
    "$$\n",
    "with respect to a small uniform electric field $E = -x$.\n",
    "\n",
    "We compute this in two ways: first by finite differences (applying a\n",
    "finite electric field), then by linear response. Note that DFTK is\n",
    "not really adapted to isolated atoms because it uses periodic\n",
    "boundary conditions. Nevertheless we can simply embed the Helium\n",
    "atom in a large enough box (although this is computationally wasteful).\n",
    "\n",
    "As in other tests, this is not fully converged, convergence\n",
    "parameters were simply selected for fast execution on CI,"
   ],
   "metadata": {}
  },
  {
   "outputs": [],
   "cell_type": "code",
   "source": [
    "using DFTK\n",
    "using LinearAlgebra\n",
    "\n",
    "a = 10.\n",
    "lattice = a * I(3)  # cube of $a$ bohrs\n",
    "# Helium at the center of the box\n",
    "atoms     = [ElementPsp(:He, psp=load_psp(\"hgh/lda/He-q2\"))]\n",
    "positions = [[1/2, 1/2, 1/2]]\n",
    "\n",
    "\n",
    "kgrid = [1, 1, 1]  # no k-point sampling for an isolated system\n",
    "Ecut = 30\n",
    "tol = 1e-8\n",
    "\n",
    "# dipole moment of a given density (assuming the current geometry)\n",
    "function dipole(basis, ρ)\n",
    "    rr = [(r[1] - a/2) for r in r_vectors_cart(basis)]\n",
    "    sum(rr .* ρ) * basis.dvol\n",
    "end;"
   ],
   "metadata": {},
   "execution_count": 1
  },
  {
   "cell_type": "markdown",
   "source": [
    "## Using finite differences\n",
    "We first compute the polarizability by finite differences.\n",
    "First compute the dipole moment at rest:"
   ],
   "metadata": {}
  },
  {
   "outputs": [
    {
     "name": "stdout",
     "output_type": "stream",
     "text": [
      "n     Energy            log10(ΔE)   log10(Δρ)   Diag   Δtime\n",
      "---   ---------------   ---------   ---------   ----   ------\n",
      "  1   -2.770233714388                   -0.53    9.0         \n",
      "  2   -2.771677695329       -2.84       -1.30    1.0    111ms\n",
      "  3   -2.771713774679       -4.44       -2.68    1.0    121ms\n",
      "  4   -2.771714708629       -6.03       -3.66    2.0    128ms\n",
      "  5   -2.771714714473       -8.23       -4.09    2.0    106ms\n",
      "  6   -2.771714715224       -9.12       -4.95    1.0    110ms\n",
      "  7   -2.771714715249      -10.59       -5.91    2.0    109ms\n",
      "  8   -2.771714715250      -12.81       -6.25    2.0    124ms\n",
      "  9   -2.771714715250      -13.72       -6.98    1.0    107ms\n",
      " 10   -2.771714715250   +  -14.21       -7.56    1.0    114ms\n",
      " 11   -2.771714715250      -13.85       -8.71    2.0    116ms\n"
     ]
    },
    {
     "output_type": "execute_result",
     "data": {
      "text/plain": "-0.00013457359078061386"
     },
     "metadata": {},
     "execution_count": 2
    }
   ],
   "cell_type": "code",
   "source": [
    "model = model_LDA(lattice, atoms, positions; symmetries=false)\n",
    "basis = PlaneWaveBasis(model; Ecut, kgrid)\n",
    "res   = self_consistent_field(basis; tol)\n",
    "μref  = dipole(basis, res.ρ)"
   ],
   "metadata": {},
   "execution_count": 2
  },
  {
   "cell_type": "markdown",
   "source": [
    "Then in a small uniform field:"
   ],
   "metadata": {}
  },
  {
   "outputs": [
    {
     "name": "stdout",
     "output_type": "stream",
     "text": [
      "n     Energy            log10(ΔE)   log10(Δρ)   Diag   Δtime\n",
      "---   ---------------   ---------   ---------   ----   ------\n",
      "  1   -2.770489740978                   -0.52    9.0         \n",
      "  2   -2.771778570302       -2.89       -1.32    1.0    101ms\n",
      "  3   -2.771801677310       -4.64       -2.46    1.0    139ms\n",
      "  4   -2.771801998066       -6.49       -3.17    1.0   90.9ms\n",
      "  5   -2.771802073623       -7.12       -3.97    2.0    106ms\n",
      "  6   -2.771802074174       -9.26       -4.23    1.0    118ms\n",
      "  7   -2.771802074464       -9.54       -5.09    1.0   95.7ms\n",
      "  8   -2.771802074474      -11.00       -5.34    2.0    128ms\n",
      "  9   -2.771802074476      -11.78       -6.26    1.0    101ms\n",
      " 10   -2.771802074476      -13.43       -6.54    1.0    117ms\n",
      " 11   -2.771802074476      -14.75       -7.21    1.0    112ms\n",
      " 12   -2.771802074476      -13.74       -7.72    2.0    124ms\n",
      " 13   -2.771802074476   +  -13.94       -7.89    1.0    114ms\n",
      " 14   -2.771802074476      -14.45       -8.99    1.0    109ms\n"
     ]
    },
    {
     "output_type": "execute_result",
     "data": {
      "text/plain": "0.017612221490443992"
     },
     "metadata": {},
     "execution_count": 3
    }
   ],
   "cell_type": "code",
   "source": [
    "ε = .01\n",
    "model_ε = model_LDA(lattice, atoms, positions;\n",
    "                    extra_terms=[ExternalFromReal(r -> -ε * (r[1] - a/2))],\n",
    "                    symmetries=false)\n",
    "basis_ε = PlaneWaveBasis(model_ε; Ecut, kgrid)\n",
    "res_ε   = self_consistent_field(basis_ε; tol)\n",
    "με = dipole(basis_ε, res_ε.ρ)"
   ],
   "metadata": {},
   "execution_count": 3
  },
  {
   "outputs": [
    {
     "name": "stdout",
     "output_type": "stream",
     "text": [
      "Reference dipole:  -0.00013457359078061386\n",
      "Displaced dipole:  0.017612221490443992\n",
      "Polarizability :   1.7746795081224607\n"
     ]
    }
   ],
   "cell_type": "code",
   "source": [
    "polarizability = (με - μref) / ε\n",
    "\n",
    "println(\"Reference dipole:  $μref\")\n",
    "println(\"Displaced dipole:  $με\")\n",
    "println(\"Polarizability :   $polarizability\")"
   ],
   "metadata": {},
   "execution_count": 4
  },
  {
   "cell_type": "markdown",
   "source": [
    "The result on more converged grids is very close to published results.\n",
    "For example [DOI 10.1039/C8CP03569E](https://doi.org/10.1039/C8CP03569E)\n",
    "quotes **1.65** with LSDA and **1.38** with CCSD(T)."
   ],
   "metadata": {}
  },
  {
   "cell_type": "markdown",
   "source": [
    "## Using linear response\n",
    "Now we use linear response to compute this analytically; we refer to standard\n",
    "textbooks for the formalism. In the following, $χ_0$ is the\n",
    "independent-particle polarizability, and $K$ the\n",
    "Hartree-exchange-correlation kernel. We denote with $δV_{\\rm ext}$ an external\n",
    "perturbing potential (like in this case the uniform electric field). Then:\n",
    "$$\n",
    "δρ = χ_0 δV = χ_0 (δV_{\\rm ext} + K δρ),\n",
    "$$\n",
    "which implies\n",
    "$$\n",
    "δρ = (1-χ_0 K)^{-1} χ_0 δV_{\\rm ext}.\n",
    "$$\n",
    "From this we identify the polarizability operator to be $χ = (1-χ_0 K)^{-1} χ_0$.\n",
    "Numerically, we apply $χ$ to $δV = -x$ by solving a linear equation\n",
    "(the Dyson equation) iteratively."
   ],
   "metadata": {}
  },
  {
   "outputs": [
    {
     "name": "stdout",
     "output_type": "stream",
     "text": [
      "WARNING: using KrylovKit.basis in module ##330 conflicts with an existing identifier.\n",
      "[ Info: GMRES linsolve in iter 1; step 1: normres = 2.493920641259e-01\n",
      "[ Info: GMRES linsolve in iter 1; step 2: normres = 3.766551116091e-03\n",
      "[ Info: GMRES linsolve in iter 1; step 3: normres = 2.852764709669e-04\n",
      "[ Info: GMRES linsolve in iter 1; step 4: normres = 4.694593836267e-06\n",
      "[ Info: GMRES linsolve in iter 1; step 5: normres = 1.088787403407e-08\n",
      "[ Info: GMRES linsolve in iter 1; step 6: normres = 6.273304126544e-11\n",
      "[ Info: GMRES linsolve in iter 1; step 7: normres = 6.442697434628e-13\n",
      "[ Info: GMRES linsolve in iter 1; finished at step 7: normres = 6.442697434628e-13\n",
      "[ Info: GMRES linsolve in iter 2; step 1: normres = 1.091674287926e-09\n",
      "[ Info: GMRES linsolve in iter 2; step 2: normres = 3.162459972864e-11\n",
      "[ Info: GMRES linsolve in iter 2; step 3: normres = 4.672293423282e-12\n",
      "[ Info: GMRES linsolve in iter 2; step 4: normres = 5.947737247171e-14\n",
      "[ Info: GMRES linsolve in iter 2; finished at step 4: normres = 5.947737247171e-14\n",
      "┌ Info: GMRES linsolve converged at iteration 2, step 4:\n",
      "│ *  norm of residual = 5.936479243906755e-14\n",
      "└ *  number of operations = 13\n",
      "Non-interacting polarizability: 1.925712535509733\n",
      "Interacting polarizability:     1.7736548575322464\n"
     ]
    }
   ],
   "cell_type": "code",
   "source": [
    "using KrylovKit\n",
    "\n",
    "# Apply $(1- χ_0 K)$\n",
    "function dielectric_operator(δρ)\n",
    "    δV = apply_kernel(basis, δρ; res.ρ)\n",
    "    χ0δV = apply_χ0(res, δV)\n",
    "    δρ - χ0δV\n",
    "end\n",
    "\n",
    "# `δVext` is the potential from a uniform field interacting with the dielectric dipole\n",
    "# of the density.\n",
    "δVext = [-(r[1] - a/2) for r in r_vectors_cart(basis)]\n",
    "δVext = cat(δVext; dims=4)\n",
    "\n",
    "# Apply $χ_0$ once to get non-interacting dipole\n",
    "δρ_nointeract = apply_χ0(res, δVext)\n",
    "\n",
    "# Solve Dyson equation to get interacting dipole\n",
    "δρ = linsolve(dielectric_operator, δρ_nointeract, verbosity=3)[1]\n",
    "\n",
    "println(\"Non-interacting polarizability: $(dipole(basis, δρ_nointeract))\")\n",
    "println(\"Interacting polarizability:     $(dipole(basis, δρ))\")"
   ],
   "metadata": {},
   "execution_count": 5
  },
  {
   "cell_type": "markdown",
   "source": [
    "As expected, the interacting polarizability matches the finite difference\n",
    "result. The non-interacting polarizability is higher."
   ],
   "metadata": {}
  }
 ],
 "nbformat_minor": 3,
 "metadata": {
  "language_info": {
   "file_extension": ".jl",
   "mimetype": "application/julia",
   "name": "julia",
   "version": "1.9.3"
  },
  "kernelspec": {
   "name": "julia-1.9",
   "display_name": "Julia 1.9.3",
   "language": "julia"
  }
 },
 "nbformat": 4
}
