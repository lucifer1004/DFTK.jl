{
 "cells": [
  {
   "cell_type": "markdown",
   "source": [
    "# Polarizability by linear response\n",
    "\n",
    "We compute the polarizability of a Helium atom. The polarizability\n",
    "is defined as the change in dipole moment\n",
    "$$\n",
    "μ = ∫ r ρ(r) dr\n",
    "$$\n",
    "with respect to a small uniform electric field $E = -x$.\n",
    "\n",
    "We compute this in two ways: first by finite differences (applying a\n",
    "finite electric field), then by linear response. Note that DFTK is\n",
    "not really adapted to isolated atoms because it uses periodic\n",
    "boundary conditions. Nevertheless we can simply embed the Helium\n",
    "atom in a large enough box (although this is computationally wasteful).\n",
    "\n",
    "As in other tests, this is not fully converged, convergence\n",
    "parameters were simply selected for fast execution on CI,"
   ],
   "metadata": {}
  },
  {
   "outputs": [],
   "cell_type": "code",
   "source": [
    "using DFTK\n",
    "using LinearAlgebra\n",
    "\n",
    "a = 10.\n",
    "lattice = a * I(3)  # cube of $a$ bohrs\n",
    "# Helium at the center of the box\n",
    "atoms     = [ElementPsp(:He, psp=load_psp(\"hgh/lda/He-q2\"))]\n",
    "positions = [[1/2, 1/2, 1/2]]\n",
    "\n",
    "\n",
    "kgrid = [1, 1, 1]  # no k-point sampling for an isolated system\n",
    "Ecut = 30\n",
    "tol = 1e-8\n",
    "\n",
    "# dipole moment of a given density (assuming the current geometry)\n",
    "function dipole(basis, ρ)\n",
    "    rr = [(r[1] - a/2) for r in r_vectors_cart(basis)]\n",
    "    sum(rr .* ρ) * basis.dvol\n",
    "end;"
   ],
   "metadata": {},
   "execution_count": 1
  },
  {
   "cell_type": "markdown",
   "source": [
    "## Using finite differences\n",
    "We first compute the polarizability by finite differences.\n",
    "First compute the dipole moment at rest:"
   ],
   "metadata": {}
  },
  {
   "outputs": [
    {
     "name": "stdout",
     "output_type": "stream",
     "text": [
      "n     Energy            log10(ΔE)   log10(Δρ)   Diag   Δtime\n",
      "---   ---------------   ---------   ---------   ----   ------\n",
      "  1   -2.770337344083                   -0.53    9.0         \n",
      "  2   -2.771688508452       -2.87       -1.30    1.0    104ms\n",
      "  3   -2.771714462051       -4.59       -2.61    1.0    122ms\n",
      "  4   -2.771714696867       -6.63       -3.75    1.0    131ms\n",
      "  5   -2.771714714508       -7.75       -4.12    2.0    106ms\n",
      "  6   -2.771714715229       -9.14       -5.47    1.0   93.9ms\n",
      "  7   -2.771714715249      -10.70       -5.71    2.0    127ms\n",
      "  8   -2.771714715250      -12.43       -6.15    2.0    111ms\n",
      "  9   -2.771714715250      -14.88       -6.71    1.0    118ms\n",
      " 10   -2.771714715250      -15.35       -7.15    1.0    100ms\n",
      " 11   -2.771714715250      -15.05       -8.06    2.0    123ms\n"
     ]
    },
    {
     "output_type": "execute_result",
     "data": {
      "text/plain": "-0.0001345745033762076"
     },
     "metadata": {},
     "execution_count": 2
    }
   ],
   "cell_type": "code",
   "source": [
    "model = model_LDA(lattice, atoms, positions; symmetries=false)\n",
    "basis = PlaneWaveBasis(model; Ecut, kgrid)\n",
    "res   = self_consistent_field(basis; tol)\n",
    "μref  = dipole(basis, res.ρ)"
   ],
   "metadata": {},
   "execution_count": 2
  },
  {
   "cell_type": "markdown",
   "source": [
    "Then in a small uniform field:"
   ],
   "metadata": {}
  },
  {
   "outputs": [
    {
     "name": "stdout",
     "output_type": "stream",
     "text": [
      "n     Energy            log10(ΔE)   log10(Δρ)   Diag   Δtime\n",
      "---   ---------------   ---------   ---------   ----   ------\n",
      "  1   -2.770516431421                   -0.52    9.0         \n",
      "  2   -2.771779655160       -2.90       -1.32    1.0   88.4ms\n",
      "  3   -2.771801650751       -4.66       -2.45    1.0    121ms\n",
      "  4   -2.771801996949       -6.46       -3.15    1.0   91.2ms\n",
      "  5   -2.771802074109       -7.11       -4.12    2.0    106ms\n",
      "  6   -2.771802074257       -9.83       -4.27    1.0    128ms\n",
      "  7   -2.771802074465       -9.68       -4.99    1.0   96.2ms\n",
      "  8   -2.771802074473      -11.07       -5.26    1.0    100ms\n",
      "  9   -2.771802074476      -11.54       -6.23    1.0    114ms\n",
      " 10   -2.771802074476      -13.08       -6.33    2.0    124ms\n",
      " 11   -2.771802074476      -13.51       -6.90    1.0    112ms\n",
      " 12   -2.771802074476      -14.57       -7.90    2.0    130ms\n",
      " 13   -2.771802074476   +  -14.10       -7.79    2.0    127ms\n",
      " 14   -2.771802074476   +  -14.35       -8.46    1.0    131ms\n"
     ]
    },
    {
     "output_type": "execute_result",
     "data": {
      "text/plain": "0.01761222046123023"
     },
     "metadata": {},
     "execution_count": 3
    }
   ],
   "cell_type": "code",
   "source": [
    "ε = .01\n",
    "model_ε = model_LDA(lattice, atoms, positions;\n",
    "                    extra_terms=[ExternalFromReal(r -> -ε * (r[1] - a/2))],\n",
    "                    symmetries=false)\n",
    "basis_ε = PlaneWaveBasis(model_ε; Ecut, kgrid)\n",
    "res_ε   = self_consistent_field(basis_ε; tol)\n",
    "με = dipole(basis_ε, res_ε.ρ)"
   ],
   "metadata": {},
   "execution_count": 3
  },
  {
   "outputs": [
    {
     "name": "stdout",
     "output_type": "stream",
     "text": [
      "Reference dipole:  -0.0001345745033762076\n",
      "Displaced dipole:  0.01761222046123023\n",
      "Polarizability :   1.7746794964606436\n"
     ]
    }
   ],
   "cell_type": "code",
   "source": [
    "polarizability = (με - μref) / ε\n",
    "\n",
    "println(\"Reference dipole:  $μref\")\n",
    "println(\"Displaced dipole:  $με\")\n",
    "println(\"Polarizability :   $polarizability\")"
   ],
   "metadata": {},
   "execution_count": 4
  },
  {
   "cell_type": "markdown",
   "source": [
    "The result on more converged grids is very close to published results.\n",
    "For example [DOI 10.1039/C8CP03569E](https://doi.org/10.1039/C8CP03569E)\n",
    "quotes **1.65** with LSDA and **1.38** with CCSD(T)."
   ],
   "metadata": {}
  },
  {
   "cell_type": "markdown",
   "source": [
    "## Using linear response\n",
    "Now we use linear response to compute this analytically; we refer to standard\n",
    "textbooks for the formalism. In the following, $χ_0$ is the\n",
    "independent-particle polarizability, and $K$ the\n",
    "Hartree-exchange-correlation kernel. We denote with $δV_{\\rm ext}$ an external\n",
    "perturbing potential (like in this case the uniform electric field). Then:\n",
    "$$\n",
    "δρ = χ_0 δV = χ_0 (δV_{\\rm ext} + K δρ),\n",
    "$$\n",
    "which implies\n",
    "$$\n",
    "δρ = (1-χ_0 K)^{-1} χ_0 δV_{\\rm ext}.\n",
    "$$\n",
    "From this we identify the polarizability operator to be $χ = (1-χ_0 K)^{-1} χ_0$.\n",
    "Numerically, we apply $χ$ to $δV = -x$ by solving a linear equation\n",
    "(the Dyson equation) iteratively."
   ],
   "metadata": {}
  },
  {
   "outputs": [
    {
     "name": "stdout",
     "output_type": "stream",
     "text": [
      "WARNING: using KrylovKit.basis in module ##386 conflicts with an existing identifier.\n",
      "[ Info: GMRES linsolve in iter 1; step 1: normres = 2.493920627226e-01\n",
      "[ Info: GMRES linsolve in iter 1; step 2: normres = 3.766551350769e-03\n",
      "[ Info: GMRES linsolve in iter 1; step 3: normres = 2.852771286490e-04\n",
      "[ Info: GMRES linsolve in iter 1; step 4: normres = 4.694593787110e-06\n",
      "[ Info: GMRES linsolve in iter 1; step 5: normres = 1.088787529503e-08\n",
      "[ Info: GMRES linsolve in iter 1; step 6: normres = 6.274321799993e-11\n",
      "[ Info: GMRES linsolve in iter 1; step 7: normres = 6.885692088061e-13\n",
      "[ Info: GMRES linsolve in iter 1; finished at step 7: normres = 6.885692088061e-13\n",
      "[ Info: GMRES linsolve in iter 2; step 1: normres = 1.587139416407e-09\n",
      "[ Info: GMRES linsolve in iter 2; step 2: normres = 3.359238697591e-11\n",
      "[ Info: GMRES linsolve in iter 2; step 3: normres = 4.845752750244e-12\n",
      "[ Info: GMRES linsolve in iter 2; step 4: normres = 6.188675348030e-14\n",
      "[ Info: GMRES linsolve in iter 2; finished at step 4: normres = 6.188675348030e-14\n",
      "┌ Info: GMRES linsolve converged at iteration 2, step 4:\n",
      "│ *  norm of residual = 6.170323823657549e-14\n",
      "└ *  number of operations = 13\n",
      "Non-interacting polarizability: 1.9257125231076153\n",
      "Interacting polarizability:     1.7736548461910175\n"
     ]
    }
   ],
   "cell_type": "code",
   "source": [
    "using KrylovKit\n",
    "\n",
    "# Apply $(1- χ_0 K)$\n",
    "function dielectric_operator(δρ)\n",
    "    δV = apply_kernel(basis, δρ; res.ρ)\n",
    "    χ0δV = apply_χ0(res, δV)\n",
    "    δρ - χ0δV\n",
    "end\n",
    "\n",
    "# `δVext` is the potential from a uniform field interacting with the dielectric dipole\n",
    "# of the density.\n",
    "δVext = [-(r[1] - a/2) for r in r_vectors_cart(basis)]\n",
    "δVext = cat(δVext; dims=4)\n",
    "\n",
    "# Apply $χ_0$ once to get non-interacting dipole\n",
    "δρ_nointeract = apply_χ0(res, δVext)\n",
    "\n",
    "# Solve Dyson equation to get interacting dipole\n",
    "δρ = linsolve(dielectric_operator, δρ_nointeract, verbosity=3)[1]\n",
    "\n",
    "println(\"Non-interacting polarizability: $(dipole(basis, δρ_nointeract))\")\n",
    "println(\"Interacting polarizability:     $(dipole(basis, δρ))\")"
   ],
   "metadata": {},
   "execution_count": 5
  },
  {
   "cell_type": "markdown",
   "source": [
    "As expected, the interacting polarizability matches the finite difference\n",
    "result. The non-interacting polarizability is higher."
   ],
   "metadata": {}
  }
 ],
 "nbformat_minor": 3,
 "metadata": {
  "language_info": {
   "file_extension": ".jl",
   "mimetype": "application/julia",
   "name": "julia",
   "version": "1.9.4"
  },
  "kernelspec": {
   "name": "julia-1.9",
   "display_name": "Julia 1.9.4",
   "language": "julia"
  }
 },
 "nbformat": 4
}
