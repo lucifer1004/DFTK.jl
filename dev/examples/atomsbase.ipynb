{
 "cells": [
  {
   "cell_type": "markdown",
   "source": [
    "# AtomsBase integration"
   ],
   "metadata": {}
  },
  {
   "cell_type": "markdown",
   "source": [
    "[AtomsBase.jl](https://github.com/JuliaMolSim/AtomsBase.jl) is a common interface\n",
    "for representing atomic structures in Julia. DFTK directly supports using such\n",
    "structures to run a calculation as is demonstrated here."
   ],
   "metadata": {}
  },
  {
   "outputs": [],
   "cell_type": "code",
   "source": [
    "using DFTK"
   ],
   "metadata": {},
   "execution_count": 1
  },
  {
   "cell_type": "markdown",
   "source": [
    "## Feeding an AtomsBase AbstractSystem to DFTK\n",
    "In this example we construct a silicon system using the `ase.build.bulk` routine\n",
    "from the [atomistic simulation environment](https://wiki.fysik.dtu.dk/ase/index.html)\n",
    "(ASE), which is exposed by [ASEconvert](https://github.com/mfherbst/ASEconvert.jl)\n",
    "as an AtomsBase `AbstractSystem`."
   ],
   "metadata": {}
  },
  {
   "outputs": [
    {
     "output_type": "execute_result",
     "data": {
      "text/plain": "FlexibleSystem(Si₂, periodic = TTT):\n    bounding_box      : [       0    2.715    2.715;\n                            2.715        0    2.715;\n                            2.715    2.715        0]u\"Å\"\n\n    Atom(Si, [       0,        0,        0]u\"Å\")\n    Atom(Si, [  1.3575,   1.3575,   1.3575]u\"Å\")\n\n                       \n                       \n                       \n                       \n              Si       \n                       \n          Si           \n                       \n                       \n                       \n                       \n"
     },
     "metadata": {},
     "execution_count": 2
    }
   ],
   "cell_type": "code",
   "source": [
    "# Construct bulk system and convert to an AbstractSystem\n",
    "using ASEconvert\n",
    "system_ase = ase.build.bulk(\"Si\")\n",
    "system = pyconvert(AbstractSystem, system_ase)"
   ],
   "metadata": {},
   "execution_count": 2
  },
  {
   "cell_type": "markdown",
   "source": [
    "To use an AbstractSystem in DFTK, we attach pseudopotentials, construct a DFT model,\n",
    "discretise and solve:"
   ],
   "metadata": {}
  },
  {
   "outputs": [
    {
     "name": "stdout",
     "output_type": "stream",
     "text": [
      "n     Energy            log10(ΔE)   log10(Δρ)   Diag   Δtime\n",
      "---   ---------------   ---------   ---------   ----   ------\n",
      "  1   -7.921669979555                   -0.69    5.9         \n",
      "  2   -7.926161049307       -2.35       -1.22    1.0    211ms\n",
      "  3   -7.926836476315       -3.17       -2.37    1.8    234ms\n",
      "  4   -7.926861473484       -4.60       -3.01    2.5    247ms\n",
      "  5   -7.926861629651       -6.81       -3.35    1.8    270ms\n",
      "  6   -7.926861665920       -7.44       -3.71    1.6    213ms\n",
      "  7   -7.926861680479       -7.84       -4.36    1.5    208ms\n",
      "  8   -7.926861681761       -8.89       -4.81    2.4    235ms\n",
      "  9   -7.926861681863       -9.99       -5.33    1.4    250ms\n",
      " 10   -7.926861681872      -11.04       -6.10    2.0    225ms\n",
      " 11   -7.926861681872      -12.26       -6.36    2.2    241ms\n",
      " 12   -7.926861681873      -12.96       -7.02    1.4    208ms\n",
      " 13   -7.926861681873      -14.35       -7.85    2.2    249ms\n",
      " 14   -7.926861681873   +    -Inf       -8.20    2.5    253ms\n"
     ]
    }
   ],
   "cell_type": "code",
   "source": [
    "system = attach_psp(system; Si=\"hgh/lda/si-q4\")\n",
    "\n",
    "model  = model_LDA(system; temperature=1e-3)\n",
    "basis  = PlaneWaveBasis(model; Ecut=15, kgrid=[4, 4, 4])\n",
    "scfres = self_consistent_field(basis, tol=1e-8);"
   ],
   "metadata": {},
   "execution_count": 3
  },
  {
   "cell_type": "markdown",
   "source": [
    "If we did not want to use ASE we could of course use any other package\n",
    "which yields an AbstractSystem object. This includes:"
   ],
   "metadata": {}
  },
  {
   "cell_type": "markdown",
   "source": [
    "### Reading a system using AtomsIO"
   ],
   "metadata": {}
  },
  {
   "outputs": [
    {
     "name": "stdout",
     "output_type": "stream",
     "text": [
      "n     Energy            log10(ΔE)   log10(Δρ)   Diag   Δtime\n",
      "---   ---------------   ---------   ---------   ----   ------\n",
      "  1   -7.921688886830                   -0.69    5.8         \n",
      "  2   -7.926167379110       -2.35       -1.22    1.0    292ms\n",
      "  3   -7.926836520181       -3.17       -2.37    1.6    233ms\n",
      "  4   -7.926861481390       -4.60       -3.00    2.9    258ms\n",
      "  5   -7.926861631796       -6.82       -3.33    1.9    223ms\n",
      "  6   -7.926861665625       -7.47       -3.70    1.8    276ms\n",
      "  7   -7.926861680522       -7.83       -4.36    1.1    201ms\n",
      "  8   -7.926861681809       -8.89       -4.96    2.2    237ms\n",
      "  9   -7.926861681862      -10.28       -5.26    2.0    231ms\n",
      " 10   -7.926861681871      -11.02       -5.91    1.5    207ms\n",
      " 11   -7.926861681873      -11.96       -6.96    2.0    275ms\n",
      " 12   -7.926861681873      -13.57       -7.62    3.2    268ms\n",
      " 13   -7.926861681873   +  -15.05       -8.55    2.1    235ms\n"
     ]
    }
   ],
   "cell_type": "code",
   "source": [
    "using AtomsIO\n",
    "\n",
    "# Read a file using [AtomsIO](https://github.com/mfherbst/AtomsIO.jl),\n",
    "# which directly yields an AbstractSystem.\n",
    "system = load_system(\"Si.extxyz\")\n",
    "\n",
    "# Now run the LDA calculation:\n",
    "system = attach_psp(system; Si=\"hgh/lda/si-q4\")\n",
    "model  = model_LDA(system; temperature=1e-3)\n",
    "basis  = PlaneWaveBasis(model; Ecut=15, kgrid=[4, 4, 4])\n",
    "scfres = self_consistent_field(basis, tol=1e-8);"
   ],
   "metadata": {},
   "execution_count": 4
  },
  {
   "cell_type": "markdown",
   "source": [
    "The same could be achieved using [ExtXYZ](https://github.com/libAtoms/ExtXYZ.jl)\n",
    "by `system = Atoms(read_frame(\"Si.extxyz\"))`,\n",
    "since the `ExtXYZ.Atoms` object is directly AtomsBase-compatible."
   ],
   "metadata": {}
  },
  {
   "cell_type": "markdown",
   "source": [
    "### Directly setting up a system in AtomsBase"
   ],
   "metadata": {}
  },
  {
   "outputs": [
    {
     "name": "stdout",
     "output_type": "stream",
     "text": [
      "n     Energy            log10(ΔE)   log10(Δρ)   Diag   Δtime\n",
      "---   ---------------   ---------   ---------   ----   ------\n",
      "  1   -7.921694407825                   -0.69    5.9         \n",
      "  2   -7.926164014790       -2.35       -1.22    1.0    221ms\n",
      "  3   -7.926839656742       -3.17       -2.37    1.8    318ms\n",
      "  4   -7.926864892227       -4.60       -3.00    2.8    277ms\n",
      "  5   -7.926865037627       -6.84       -3.31    1.8    230ms\n",
      "  6   -7.926865076196       -7.41       -3.70    1.5    220ms\n",
      "  7   -7.926865091767       -7.81       -4.41    1.5    224ms\n"
     ]
    }
   ],
   "cell_type": "code",
   "source": [
    "using AtomsBase\n",
    "using Unitful\n",
    "using UnitfulAtomic\n",
    "\n",
    "# Construct a system in the AtomsBase world\n",
    "a = 10.26u\"bohr\"  # Silicon lattice constant\n",
    "lattice = a / 2 * [[0, 1, 1.],  # Lattice as vector of vectors\n",
    "                   [1, 0, 1.],\n",
    "                   [1, 1, 0.]]\n",
    "atoms  = [:Si => ones(3)/8, :Si => -ones(3)/8]\n",
    "system = periodic_system(atoms, lattice; fractional=true)\n",
    "\n",
    "# Now run the LDA calculation:\n",
    "system = attach_psp(system; Si=\"hgh/lda/si-q4\")\n",
    "model  = model_LDA(system; temperature=1e-3)\n",
    "basis  = PlaneWaveBasis(model; Ecut=15, kgrid=[4, 4, 4])\n",
    "scfres = self_consistent_field(basis, tol=1e-4);"
   ],
   "metadata": {},
   "execution_count": 5
  },
  {
   "cell_type": "markdown",
   "source": [
    "## Obtaining an AbstractSystem from DFTK data"
   ],
   "metadata": {}
  },
  {
   "cell_type": "markdown",
   "source": [
    "At any point we can also get back the DFTK model as an\n",
    "AtomsBase-compatible `AbstractSystem`:"
   ],
   "metadata": {}
  },
  {
   "outputs": [
    {
     "output_type": "execute_result",
     "data": {
      "text/plain": "FlexibleSystem(Si₂, periodic = TTT):\n    bounding_box      : [       0     5.13     5.13;\n                             5.13        0     5.13;\n                             5.13     5.13        0]u\"a₀\"\n\n    Atom(Si, [  1.2825,   1.2825,   1.2825]u\"a₀\")\n    Atom(Si, [ -1.2825,  -1.2825,  -1.2825]u\"a₀\")\n\n                       \n                       \n                       \n                       \n              Si       \n                       \n          Si           \n                       \n                       \n                       \n                       \n"
     },
     "metadata": {},
     "execution_count": 6
    }
   ],
   "cell_type": "code",
   "source": [
    "second_system = atomic_system(model)"
   ],
   "metadata": {},
   "execution_count": 6
  },
  {
   "cell_type": "markdown",
   "source": [
    "Similarly DFTK offers a method to the `atomic_system` and `periodic_system` functions\n",
    "(from AtomsBase), which enable a seamless conversion of the usual data structures for\n",
    "setting up DFTK calculations into an `AbstractSystem`:"
   ],
   "metadata": {}
  },
  {
   "outputs": [
    {
     "output_type": "execute_result",
     "data": {
      "text/plain": "FlexibleSystem(Si₂, periodic = TTT):\n    bounding_box      : [       0  5.13155  5.13155;\n                          5.13155        0  5.13155;\n                          5.13155  5.13155        0]u\"a₀\"\n\n    Atom(Si, [ 1.28289,  1.28289,  1.28289]u\"a₀\")\n    Atom(Si, [-1.28289, -1.28289, -1.28289]u\"a₀\")\n\n                       \n                       \n                       \n                       \n              Si       \n                       \n          Si           \n                       \n                       \n                       \n                       \n"
     },
     "metadata": {},
     "execution_count": 7
    }
   ],
   "cell_type": "code",
   "source": [
    "lattice = 5.431u\"Å\" / 2 * [[0 1 1.];\n",
    "                           [1 0 1.];\n",
    "                           [1 1 0.]];\n",
    "Si = ElementPsp(:Si, psp=load_psp(\"hgh/lda/Si-q4\"))\n",
    "atoms     = [Si, Si]\n",
    "positions = [ones(3)/8, -ones(3)/8]\n",
    "\n",
    "third_system = atomic_system(lattice, atoms, positions)"
   ],
   "metadata": {},
   "execution_count": 7
  }
 ],
 "nbformat_minor": 3,
 "metadata": {
  "language_info": {
   "file_extension": ".jl",
   "mimetype": "application/julia",
   "name": "julia",
   "version": "1.9.3"
  },
  "kernelspec": {
   "name": "julia-1.9",
   "display_name": "Julia 1.9.3",
   "language": "julia"
  }
 },
 "nbformat": 4
}
