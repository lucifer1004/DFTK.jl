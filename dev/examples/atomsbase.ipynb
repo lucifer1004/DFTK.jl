{
 "cells": [
  {
   "cell_type": "markdown",
   "source": [
    "# AtomsBase integration"
   ],
   "metadata": {}
  },
  {
   "cell_type": "markdown",
   "source": [
    "[AtomsBase.jl](https://github.com/JuliaMolSim/AtomsBase.jl) is a common interface\n",
    "for representing atomic structures in Julia. DFTK directly supports using such\n",
    "structures to run a calculation as is demonstrated here."
   ],
   "metadata": {}
  },
  {
   "outputs": [],
   "cell_type": "code",
   "source": [
    "using DFTK"
   ],
   "metadata": {},
   "execution_count": 1
  },
  {
   "cell_type": "markdown",
   "source": [
    "## Feeding an AtomsBase AbstractSystem to DFTK\n",
    "In this example we construct a silicon system using the `ase.build.bulk` routine\n",
    "from the [atomistic simulation environment](https://wiki.fysik.dtu.dk/ase/index.html)\n",
    "(ASE), which is exposed by [ASEconvert](https://github.com/mfherbst/ASEconvert.jl)\n",
    "as an AtomsBase `AbstractSystem`."
   ],
   "metadata": {}
  },
  {
   "outputs": [
    {
     "output_type": "execute_result",
     "data": {
      "text/plain": "FlexibleSystem(Si₂, periodic = TTT):\n    bounding_box      : [       0    2.715    2.715;\n                            2.715        0    2.715;\n                            2.715    2.715        0]u\"Å\"\n\n    Atom(Si, [       0,        0,        0]u\"Å\")\n    Atom(Si, [  1.3575,   1.3575,   1.3575]u\"Å\")\n\n                       \n                       \n                       \n                       \n              Si       \n                       \n          Si           \n                       \n                       \n                       \n                       \n"
     },
     "metadata": {},
     "execution_count": 2
    }
   ],
   "cell_type": "code",
   "source": [
    "# Construct bulk system and convert to an AbstractSystem\n",
    "using ASEconvert\n",
    "system_ase = ase.build.bulk(\"Si\")\n",
    "system = pyconvert(AbstractSystem, system_ase)"
   ],
   "metadata": {},
   "execution_count": 2
  },
  {
   "cell_type": "markdown",
   "source": [
    "To use an AbstractSystem in DFTK, we attach pseudopotentials, construct a DFT model,\n",
    "discretise and solve:"
   ],
   "metadata": {}
  },
  {
   "outputs": [
    {
     "name": "stdout",
     "output_type": "stream",
     "text": [
      "n     Energy            log10(ΔE)   log10(Δρ)   Diag   Δtime\n",
      "---   ---------------   ---------   ---------   ----   ------\n",
      "  1   -7.921679113286                   -0.69    5.9         \n",
      "  2   -7.926168193673       -2.35       -1.22    1.0    160ms\n",
      "  3   -7.926837488093       -3.17       -2.36    1.6    177ms\n",
      "  4   -7.926861477875       -4.62       -3.02    2.6    197ms\n",
      "  5   -7.926861632899       -6.81       -3.35    1.9    196ms\n",
      "  6   -7.926861666092       -7.48       -3.72    1.9    169ms\n",
      "  7   -7.926861680358       -7.85       -4.33    1.0    152ms\n",
      "  8   -7.926861681724       -8.86       -4.75    2.2    180ms\n",
      "  9   -7.926861681862       -9.86       -5.37    1.6    164ms\n",
      " 10   -7.926861681872      -11.02       -6.01    2.0    204ms\n",
      " 11   -7.926861681872      -12.25       -6.30    2.1    183ms\n",
      " 12   -7.926861681873      -12.86       -7.16    1.4    162ms\n",
      " 13   -7.926861681873      -14.75       -7.95    2.5    195ms\n",
      " 14   -7.926861681873      -14.27       -7.76    2.8    203ms\n",
      " 15   -7.926861681873   +  -14.45       -8.78    1.0    157ms\n"
     ]
    }
   ],
   "cell_type": "code",
   "source": [
    "system = attach_psp(system; Si=\"hgh/lda/si-q4\")\n",
    "\n",
    "model  = model_LDA(system; temperature=1e-3)\n",
    "basis  = PlaneWaveBasis(model; Ecut=15, kgrid=[4, 4, 4])\n",
    "scfres = self_consistent_field(basis, tol=1e-8);"
   ],
   "metadata": {},
   "execution_count": 3
  },
  {
   "cell_type": "markdown",
   "source": [
    "If we did not want to use ASE we could of course use any other package\n",
    "which yields an AbstractSystem object. This includes:"
   ],
   "metadata": {}
  },
  {
   "cell_type": "markdown",
   "source": [
    "### Reading a system using AtomsIO"
   ],
   "metadata": {}
  },
  {
   "outputs": [
    {
     "name": "stdout",
     "output_type": "stream",
     "text": [
      "n     Energy            log10(ΔE)   log10(Δρ)   Diag   Δtime\n",
      "---   ---------------   ---------   ---------   ----   ------\n",
      "  1   -7.921745307570                   -0.69    5.6         \n",
      "  2   -7.926168085018       -2.35       -1.22    1.0    178ms\n",
      "  3   -7.926835944747       -3.18       -2.37    1.6    203ms\n",
      "  4   -7.926861498611       -4.59       -2.99    2.9    243ms\n",
      "  5   -7.926861625844       -6.90       -3.30    2.0    194ms\n",
      "  6   -7.926861664578       -7.41       -3.68    1.5    207ms\n",
      "  7   -7.926861680747       -7.79       -4.43    1.5    180ms\n",
      "  8   -7.926861681845       -8.96       -5.18    2.2    217ms\n",
      "  9   -7.926861681862      -10.78       -5.24    2.2    222ms\n",
      " 10   -7.926861681872      -10.99       -5.95    1.0    194ms\n",
      " 11   -7.926861681873      -12.10       -6.97    2.1    193ms\n",
      " 12   -7.926861681873      -13.46       -7.42    2.9    249ms\n",
      " 13   -7.926861681873   +  -14.75       -7.54    2.2    212ms\n",
      " 14   -7.926861681873      -14.45       -8.65    1.2    181ms\n"
     ]
    }
   ],
   "cell_type": "code",
   "source": [
    "using AtomsIO\n",
    "\n",
    "# Read a file using [AtomsIO](https://github.com/mfherbst/AtomsIO.jl),\n",
    "# which directly yields an AbstractSystem.\n",
    "system = load_system(\"Si.extxyz\")\n",
    "\n",
    "# Now run the LDA calculation:\n",
    "system = attach_psp(system; Si=\"hgh/lda/si-q4\")\n",
    "model  = model_LDA(system; temperature=1e-3)\n",
    "basis  = PlaneWaveBasis(model; Ecut=15, kgrid=[4, 4, 4])\n",
    "scfres = self_consistent_field(basis, tol=1e-8);"
   ],
   "metadata": {},
   "execution_count": 4
  },
  {
   "cell_type": "markdown",
   "source": [
    "The same could be achieved using [ExtXYZ](https://github.com/libAtoms/ExtXYZ.jl)\n",
    "by `system = Atoms(read_frame(\"Si.extxyz\"))`,\n",
    "since the `ExtXYZ.Atoms` object is directly AtomsBase-compatible."
   ],
   "metadata": {}
  },
  {
   "cell_type": "markdown",
   "source": [
    "### Directly setting up a system in AtomsBase"
   ],
   "metadata": {}
  },
  {
   "outputs": [
    {
     "name": "stdout",
     "output_type": "stream",
     "text": [
      "n     Energy            log10(ΔE)   log10(Δρ)   Diag   Δtime\n",
      "---   ---------------   ---------   ---------   ----   ------\n",
      "  1   -7.921706776683                   -0.69    5.8         \n",
      "  2   -7.926174452282       -2.35       -1.22    1.0    212ms\n",
      "  3   -7.926840308768       -3.18       -2.37    1.6    198ms\n",
      "  4   -7.926864909933       -4.61       -3.02    2.9    250ms\n",
      "  5   -7.926865050929       -6.85       -3.36    2.0    195ms\n",
      "  6   -7.926865079180       -7.55       -3.75    1.5    178ms\n",
      "  7   -7.926865091600       -7.91       -4.34    1.2    192ms\n"
     ]
    }
   ],
   "cell_type": "code",
   "source": [
    "using AtomsBase\n",
    "using Unitful\n",
    "using UnitfulAtomic\n",
    "\n",
    "# Construct a system in the AtomsBase world\n",
    "a = 10.26u\"bohr\"  # Silicon lattice constant\n",
    "lattice = a / 2 * [[0, 1, 1.],  # Lattice as vector of vectors\n",
    "                   [1, 0, 1.],\n",
    "                   [1, 1, 0.]]\n",
    "atoms  = [:Si => ones(3)/8, :Si => -ones(3)/8]\n",
    "system = periodic_system(atoms, lattice; fractional=true)\n",
    "\n",
    "# Now run the LDA calculation:\n",
    "system = attach_psp(system; Si=\"hgh/lda/si-q4\")\n",
    "model  = model_LDA(system; temperature=1e-3)\n",
    "basis  = PlaneWaveBasis(model; Ecut=15, kgrid=[4, 4, 4])\n",
    "scfres = self_consistent_field(basis, tol=1e-4);"
   ],
   "metadata": {},
   "execution_count": 5
  },
  {
   "cell_type": "markdown",
   "source": [
    "## Obtaining an AbstractSystem from DFTK data"
   ],
   "metadata": {}
  },
  {
   "cell_type": "markdown",
   "source": [
    "At any point we can also get back the DFTK model as an\n",
    "AtomsBase-compatible `AbstractSystem`:"
   ],
   "metadata": {}
  },
  {
   "outputs": [
    {
     "output_type": "execute_result",
     "data": {
      "text/plain": "FlexibleSystem(Si₂, periodic = TTT):\n    bounding_box      : [       0     5.13     5.13;\n                             5.13        0     5.13;\n                             5.13     5.13        0]u\"a₀\"\n\n    Atom(Si, [  1.2825,   1.2825,   1.2825]u\"a₀\")\n    Atom(Si, [ -1.2825,  -1.2825,  -1.2825]u\"a₀\")\n\n                       \n                       \n                       \n                       \n              Si       \n                       \n          Si           \n                       \n                       \n                       \n                       \n"
     },
     "metadata": {},
     "execution_count": 6
    }
   ],
   "cell_type": "code",
   "source": [
    "second_system = atomic_system(model)"
   ],
   "metadata": {},
   "execution_count": 6
  },
  {
   "cell_type": "markdown",
   "source": [
    "Similarly DFTK offers a method to the `atomic_system` and `periodic_system` functions\n",
    "(from AtomsBase), which enable a seamless conversion of the usual data structures for\n",
    "setting up DFTK calculations into an `AbstractSystem`:"
   ],
   "metadata": {}
  },
  {
   "outputs": [
    {
     "output_type": "execute_result",
     "data": {
      "text/plain": "FlexibleSystem(Si₂, periodic = TTT):\n    bounding_box      : [       0  5.13155  5.13155;\n                          5.13155        0  5.13155;\n                          5.13155  5.13155        0]u\"a₀\"\n\n    Atom(Si, [ 1.28289,  1.28289,  1.28289]u\"a₀\")\n    Atom(Si, [-1.28289, -1.28289, -1.28289]u\"a₀\")\n\n                       \n                       \n                       \n                       \n              Si       \n                       \n          Si           \n                       \n                       \n                       \n                       \n"
     },
     "metadata": {},
     "execution_count": 7
    }
   ],
   "cell_type": "code",
   "source": [
    "lattice = 5.431u\"Å\" / 2 * [[0 1 1.];\n",
    "                           [1 0 1.];\n",
    "                           [1 1 0.]];\n",
    "Si = ElementPsp(:Si, psp=load_psp(\"hgh/lda/Si-q4\"))\n",
    "atoms     = [Si, Si]\n",
    "positions = [ones(3)/8, -ones(3)/8]\n",
    "\n",
    "third_system = atomic_system(lattice, atoms, positions)"
   ],
   "metadata": {},
   "execution_count": 7
  }
 ],
 "nbformat_minor": 3,
 "metadata": {
  "language_info": {
   "file_extension": ".jl",
   "mimetype": "application/julia",
   "name": "julia",
   "version": "1.9.4"
  },
  "kernelspec": {
   "name": "julia-1.9",
   "display_name": "Julia 1.9.4",
   "language": "julia"
  }
 },
 "nbformat": 4
}
