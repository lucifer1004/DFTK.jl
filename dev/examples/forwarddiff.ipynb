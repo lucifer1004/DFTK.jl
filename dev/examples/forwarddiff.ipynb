{
 "cells": [
  {
   "cell_type": "markdown",
   "source": [
    "# Polarizability using automatic differentiation\n",
    "\n",
    "Simple example for computing properties using (forward-mode)\n",
    "automatic differentiation.\n",
    "For a more classical approach and more details about computing polarizabilities,\n",
    "see Polarizability by linear response."
   ],
   "metadata": {}
  },
  {
   "outputs": [],
   "cell_type": "code",
   "source": [
    "using DFTK\n",
    "using LinearAlgebra\n",
    "using ForwardDiff\n",
    "\n",
    "# Construct PlaneWaveBasis given a particular electric field strength\n",
    "# Again we take the example of a Helium atom.\n",
    "function make_basis(ε::T; a=10., Ecut=30) where {T}\n",
    "    lattice=T(a) * I(3)  # lattice is a cube of $a$ Bohrs\n",
    "    # Helium at the center of the box\n",
    "    atoms     = [ElementPsp(:He, psp=load_psp(\"hgh/lda/He-q2\"))]\n",
    "    positions = [[1/2, 1/2, 1/2]]\n",
    "\n",
    "    model = model_DFT(lattice, atoms, positions, [:lda_x, :lda_c_vwn];\n",
    "                      extra_terms=[ExternalFromReal(r -> -ε * (r[1] - a/2))],\n",
    "                      symmetries=false)\n",
    "    PlaneWaveBasis(model; Ecut, kgrid=[1, 1, 1])  # No k-point sampling on isolated system\n",
    "end\n",
    "\n",
    "# dipole moment of a given density (assuming the current geometry)\n",
    "function dipole(basis, ρ)\n",
    "    @assert isdiag(basis.model.lattice)\n",
    "    a  = basis.model.lattice[1, 1]\n",
    "    rr = [a * (r[1] - 1/2) for r in r_vectors(basis)]\n",
    "    sum(rr .* ρ) * basis.dvol\n",
    "end\n",
    "\n",
    "# Function to compute the dipole for a given field strength\n",
    "function compute_dipole(ε; tol=1e-8, kwargs...)\n",
    "    scfres = self_consistent_field(make_basis(ε; kwargs...); tol)\n",
    "    dipole(scfres.basis, scfres.ρ)\n",
    "end;"
   ],
   "metadata": {},
   "execution_count": 1
  },
  {
   "cell_type": "markdown",
   "source": [
    "With this in place we can compute the polarizability from finite differences\n",
    "(just like in the previous example):"
   ],
   "metadata": {}
  },
  {
   "outputs": [
    {
     "name": "stdout",
     "output_type": "stream",
     "text": [
      "n     Energy            log10(ΔE)   log10(Δρ)   Diag   Δtime\n",
      "---   ---------------   ---------   ---------   ----   ------\n",
      "  1   -2.770839461338                   -0.52    9.0         \n",
      "  2   -2.772146254115       -2.88       -1.33    1.0    201ms\n",
      "  3   -2.772170093618       -4.62       -2.40    1.0    234ms\n",
      "  4   -2.772170637219       -6.26       -3.10    1.0    207ms\n",
      "  5   -2.772170722632       -7.07       -4.39    2.0    294ms\n",
      "  6   -2.772170722871       -9.62       -4.61    1.0    204ms\n",
      "  7   -2.772170723006       -9.87       -5.16    2.0    242ms\n",
      "  8   -2.772170723013      -11.14       -5.56    1.0    228ms\n",
      "  9   -2.772170723015      -11.77       -6.35    2.0    247ms\n",
      " 10   -2.772170723015      -13.75       -6.77    1.0    282ms\n",
      " 11   -2.772170723015      -13.94       -7.72    1.0    235ms\n",
      " 12   -2.772170723015      -14.88       -8.45    2.0    287ms\n",
      "n     Energy            log10(ΔE)   log10(Δρ)   Diag   Δtime\n",
      "---   ---------------   ---------   ---------   ----   ------\n",
      "  1   -2.770694186904                   -0.53    8.0         \n",
      "  2   -2.772051955175       -2.87       -1.31    1.0    219ms\n",
      "  3   -2.772082745661       -4.51       -2.55    1.0    189ms\n",
      "  4   -2.772083408311       -6.18       -3.66    2.0    242ms\n",
      "  5   -2.772083416625       -8.08       -3.97    2.0    261ms\n",
      "  6   -2.772083417774       -8.94       -4.93    1.0    205ms\n",
      "  7   -2.772083417810      -10.44       -5.87    2.0    248ms\n",
      "  8   -2.772083417811      -12.97       -6.43    1.0    231ms\n",
      "  9   -2.772083417811      -13.47       -7.12    2.0    268ms\n",
      " 10   -2.772083417811   +  -14.40       -7.75    1.0    230ms\n",
      " 11   -2.772083417811      -14.65       -8.59    2.0    256ms\n"
     ]
    },
    {
     "output_type": "execute_result",
     "data": {
      "text/plain": "1.7735581436821426"
     },
     "metadata": {},
     "execution_count": 2
    }
   ],
   "cell_type": "code",
   "source": [
    "polarizability_fd = let\n",
    "    ε = 0.01\n",
    "    (compute_dipole(ε) - compute_dipole(0.0)) / ε\n",
    "end"
   ],
   "metadata": {},
   "execution_count": 2
  },
  {
   "cell_type": "markdown",
   "source": [
    "We do the same thing using automatic differentiation. Under the hood this uses\n",
    "custom rules to implicitly differentiate through the self-consistent\n",
    "field fixed-point problem."
   ],
   "metadata": {}
  },
  {
   "outputs": [
    {
     "name": "stdout",
     "output_type": "stream",
     "text": [
      "n     Energy            log10(ΔE)   log10(Δρ)   Diag   Δtime\n",
      "---   ---------------   ---------   ---------   ----   ------\n",
      "  1   -2.770756389490                   -0.52    9.0         \n",
      "  2   -2.772060138740       -2.88       -1.32    1.0    189ms\n",
      "  3   -2.772082987809       -4.64       -2.43    1.0    272ms\n",
      "  4   -2.772083336006       -6.46       -3.12    1.0    197ms\n",
      "  5   -2.772083417615       -7.09       -4.32    2.0    232ms\n",
      "  6   -2.772083417743       -9.89       -4.67    1.0    267ms\n",
      "  7   -2.772083417809      -10.18       -5.74    1.0    211ms\n",
      "  8   -2.772083417811      -11.72       -6.73    2.0    285ms\n",
      "  9   -2.772083417811      -14.15       -6.67    1.0    229ms\n",
      " 10   -2.772083417811   +  -14.88       -7.91    1.0    248ms\n",
      " 11   -2.772083417811   +  -14.57       -8.34    2.0    283ms\n",
      "\n",
      "Polarizability via ForwardDiff:       1.7725349777181945\n",
      "Polarizability via finite difference: 1.7735581436821426\n"
     ]
    }
   ],
   "cell_type": "code",
   "source": [
    "polarizability = ForwardDiff.derivative(compute_dipole, 0.0)\n",
    "println()\n",
    "println(\"Polarizability via ForwardDiff:       $polarizability\")\n",
    "println(\"Polarizability via finite difference: $polarizability_fd\")"
   ],
   "metadata": {},
   "execution_count": 3
  }
 ],
 "nbformat_minor": 3,
 "metadata": {
  "language_info": {
   "file_extension": ".jl",
   "mimetype": "application/julia",
   "name": "julia",
   "version": "1.9.3"
  },
  "kernelspec": {
   "name": "julia-1.9",
   "display_name": "Julia 1.9.3",
   "language": "julia"
  }
 },
 "nbformat": 4
}
