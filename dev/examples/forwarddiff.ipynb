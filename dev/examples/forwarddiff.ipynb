{
 "cells": [
  {
   "cell_type": "markdown",
   "source": [
    "# Polarizability using automatic differentiation\n",
    "\n",
    "Simple example for computing properties using (forward-mode)\n",
    "automatic differentiation.\n",
    "For a more classical approach and more details about computing polarizabilities,\n",
    "see Polarizability by linear response."
   ],
   "metadata": {}
  },
  {
   "outputs": [],
   "cell_type": "code",
   "source": [
    "using DFTK\n",
    "using LinearAlgebra\n",
    "using ForwardDiff\n",
    "\n",
    "# Construct PlaneWaveBasis given a particular electric field strength\n",
    "# Again we take the example of a Helium atom.\n",
    "function make_basis(ε::T; a=10., Ecut=30) where {T}\n",
    "    lattice=T(a) * I(3)  # lattice is a cube of $a$ Bohrs\n",
    "    # Helium at the center of the box\n",
    "    atoms     = [ElementPsp(:He, psp=load_psp(\"hgh/lda/He-q2\"))]\n",
    "    positions = [[1/2, 1/2, 1/2]]\n",
    "\n",
    "    model = model_DFT(lattice, atoms, positions, [:lda_x, :lda_c_vwn];\n",
    "                      extra_terms=[ExternalFromReal(r -> -ε * (r[1] - a/2))],\n",
    "                      symmetries=false)\n",
    "    PlaneWaveBasis(model; Ecut, kgrid=[1, 1, 1])  # No k-point sampling on isolated system\n",
    "end\n",
    "\n",
    "# dipole moment of a given density (assuming the current geometry)\n",
    "function dipole(basis, ρ)\n",
    "    @assert isdiag(basis.model.lattice)\n",
    "    a  = basis.model.lattice[1, 1]\n",
    "    rr = [a * (r[1] - 1/2) for r in r_vectors(basis)]\n",
    "    sum(rr .* ρ) * basis.dvol\n",
    "end\n",
    "\n",
    "# Function to compute the dipole for a given field strength\n",
    "function compute_dipole(ε; tol=1e-8, kwargs...)\n",
    "    scfres = self_consistent_field(make_basis(ε; kwargs...); tol)\n",
    "    dipole(scfres.basis, scfres.ρ)\n",
    "end;"
   ],
   "metadata": {},
   "execution_count": 1
  },
  {
   "cell_type": "markdown",
   "source": [
    "With this in place we can compute the polarizability from finite differences\n",
    "(just like in the previous example):"
   ],
   "metadata": {}
  },
  {
   "outputs": [
    {
     "name": "stdout",
     "output_type": "stream",
     "text": [
      "n     Energy            log10(ΔE)   log10(Δρ)   Diag   Δtime\n",
      "---   ---------------   ---------   ---------   ----   ------\n",
      "  1   -2.770613442108                   -0.53    9.0         \n",
      "  2   -2.772133158111       -2.82       -1.29    1.0    169ms\n",
      "  3   -2.772169623712       -4.44       -2.71    1.0    141ms\n",
      "  4   -2.772170715394       -5.96       -3.66    2.0    190ms\n",
      "  5   -2.772170722153       -8.17       -4.06    2.0    163ms\n",
      "  6   -2.772170723005       -9.07       -5.11    1.0    173ms\n",
      "  7   -2.772170723015      -11.00       -5.75    1.0    147ms\n",
      "  8   -2.772170723015      -12.29       -6.55    2.0    173ms\n",
      "  9   -2.772170723015      -13.91       -7.00    1.0    161ms\n",
      " 10   -2.772170723015   +  -14.31       -7.62    1.0    168ms\n",
      " 11   -2.772170723015      -14.05       -8.10    1.0    155ms\n",
      "n     Energy            log10(ΔE)   log10(Δρ)   Diag   Δtime\n",
      "---   ---------------   ---------   ---------   ----   ------\n",
      "  1   -2.770753215264                   -0.53    9.0         \n",
      "  2   -2.772055114290       -2.89       -1.31    1.0    166ms\n",
      "  3   -2.772082912405       -4.56       -2.56    1.0    141ms\n",
      "  4   -2.772083408529       -6.30       -3.64    2.0    199ms\n",
      "  5   -2.772083417316       -8.06       -4.15    2.0    161ms\n",
      "  6   -2.772083417783       -9.33       -5.04    1.0    146ms\n",
      "  7   -2.772083417810      -10.57       -6.09    2.0    179ms\n",
      "  8   -2.772083417811      -13.08       -6.34    1.0    152ms\n",
      "  9   -2.772083417811      -13.14       -7.18    2.0    190ms\n",
      " 10   -2.772083417811   +  -14.57       -7.76    1.0    162ms\n",
      " 11   -2.772083417811   +    -Inf       -8.57    2.0    181ms\n"
     ]
    },
    {
     "output_type": "execute_result",
     "data": {
      "text/plain": "1.7735578254973319"
     },
     "metadata": {},
     "execution_count": 2
    }
   ],
   "cell_type": "code",
   "source": [
    "polarizability_fd = let\n",
    "    ε = 0.01\n",
    "    (compute_dipole(ε) - compute_dipole(0.0)) / ε\n",
    "end"
   ],
   "metadata": {},
   "execution_count": 2
  },
  {
   "cell_type": "markdown",
   "source": [
    "We do the same thing using automatic differentiation. Under the hood this uses\n",
    "custom rules to implicitly differentiate through the self-consistent\n",
    "field fixed-point problem."
   ],
   "metadata": {}
  },
  {
   "outputs": [
    {
     "name": "stdout",
     "output_type": "stream",
     "text": [
      "n     Energy            log10(ΔE)   log10(Δρ)   Diag   Δtime\n",
      "---   ---------------   ---------   ---------   ----   ------\n",
      "  1   -2.770796349546                   -0.52    9.0         \n",
      "  2   -2.772061672156       -2.90       -1.32    1.0    137ms\n",
      "  3   -2.772083047900       -4.67       -2.44    1.0    180ms\n",
      "  4   -2.772083342620       -6.53       -3.14    1.0    141ms\n",
      "  5   -2.772083417439       -7.13       -4.18    2.0    161ms\n",
      "  6   -2.772083417702       -9.58       -4.57    1.0    168ms\n",
      "  7   -2.772083417809       -9.97       -5.82    1.0    146ms\n",
      "  8   -2.772083417811      -11.90       -6.34    2.0    181ms\n",
      "  9   -2.772083417811      -13.47       -6.69    1.0    160ms\n",
      " 10   -2.772083417811      -14.01       -8.38    1.0    169ms\n",
      "\n",
      "Polarizability via ForwardDiff:       1.7725349645830872\n",
      "Polarizability via finite difference: 1.7735578254973319\n"
     ]
    }
   ],
   "cell_type": "code",
   "source": [
    "polarizability = ForwardDiff.derivative(compute_dipole, 0.0)\n",
    "println()\n",
    "println(\"Polarizability via ForwardDiff:       $polarizability\")\n",
    "println(\"Polarizability via finite difference: $polarizability_fd\")"
   ],
   "metadata": {},
   "execution_count": 3
  }
 ],
 "nbformat_minor": 3,
 "metadata": {
  "language_info": {
   "file_extension": ".jl",
   "mimetype": "application/julia",
   "name": "julia",
   "version": "1.9.3"
  },
  "kernelspec": {
   "name": "julia-1.9",
   "display_name": "Julia 1.9.3",
   "language": "julia"
  }
 },
 "nbformat": 4
}
