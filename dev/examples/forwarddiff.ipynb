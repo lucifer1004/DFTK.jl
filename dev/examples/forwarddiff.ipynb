{
 "cells": [
  {
   "cell_type": "markdown",
   "source": [
    "# Polarizability using automatic differentiation\n",
    "\n",
    "Simple example for computing properties using (forward-mode)\n",
    "automatic differentiation.\n",
    "For a more classical approach and more details about computing polarizabilities,\n",
    "see Polarizability by linear response."
   ],
   "metadata": {}
  },
  {
   "outputs": [],
   "cell_type": "code",
   "source": [
    "using DFTK\n",
    "using LinearAlgebra\n",
    "using ForwardDiff\n",
    "\n",
    "# Construct PlaneWaveBasis given a particular electric field strength\n",
    "# Again we take the example of a Helium atom.\n",
    "function make_basis(ε::T; a=10., Ecut=30) where {T}\n",
    "    lattice=T(a) * I(3)  # lattice is a cube of $a$ Bohrs\n",
    "    # Helium at the center of the box\n",
    "    atoms     = [ElementPsp(:He; psp=load_psp(\"hgh/lda/He-q2\"))]\n",
    "    positions = [[1/2, 1/2, 1/2]]\n",
    "\n",
    "    model = model_DFT(lattice, atoms, positions, [:lda_x, :lda_c_vwn];\n",
    "                      extra_terms=[ExternalFromReal(r -> -ε * (r[1] - a/2))],\n",
    "                      symmetries=false)\n",
    "    PlaneWaveBasis(model; Ecut, kgrid=[1, 1, 1])  # No k-point sampling on isolated system\n",
    "end\n",
    "\n",
    "# dipole moment of a given density (assuming the current geometry)\n",
    "function dipole(basis, ρ)\n",
    "    @assert isdiag(basis.model.lattice)\n",
    "    a  = basis.model.lattice[1, 1]\n",
    "    rr = [a * (r[1] - 1/2) for r in r_vectors(basis)]\n",
    "    sum(rr .* ρ) * basis.dvol\n",
    "end\n",
    "\n",
    "# Function to compute the dipole for a given field strength\n",
    "function compute_dipole(ε; tol=1e-8, kwargs...)\n",
    "    scfres = self_consistent_field(make_basis(ε; kwargs...); tol)\n",
    "    dipole(scfres.basis, scfres.ρ)\n",
    "end;"
   ],
   "metadata": {},
   "execution_count": 1
  },
  {
   "cell_type": "markdown",
   "source": [
    "With this in place we can compute the polarizability from finite differences\n",
    "(just like in the previous example):"
   ],
   "metadata": {}
  },
  {
   "outputs": [
    {
     "name": "stdout",
     "output_type": "stream",
     "text": [
      "n     Energy            log10(ΔE)   log10(Δρ)   Diag   Δtime\n",
      "---   ---------------   ---------   ---------   ----   ------\n",
      "  1   -2.770692683272                   -0.53    9.0         \n",
      "  2   -2.772142496602       -2.84       -1.30    1.0    105ms\n",
      "  3   -2.772170212978       -4.56       -2.65    1.0    132ms\n",
      "  4   -2.772170720381       -6.29       -4.01    2.0    128ms\n",
      "  5   -2.772170722836       -8.61       -4.43    2.0    153ms\n",
      "  6   -2.772170723011       -9.76       -5.62    1.0    111ms\n",
      "  7   -2.772170723015      -11.40       -6.30    2.0    128ms\n",
      "  8   -2.772170723015      -13.65       -6.89    1.0    128ms\n",
      "  9   -2.772170723015      -13.77       -7.16    2.0    128ms\n",
      " 10   -2.772170723015   +  -13.94       -7.68    1.0    133ms\n",
      " 11   -2.772170723015      -13.99       -8.98    2.0    130ms\n",
      "n     Energy            log10(ΔE)   log10(Δρ)   Diag   Δtime\n",
      "---   ---------------   ---------   ---------   ----   ------\n",
      "  1   -2.770838210556                   -0.52    9.0         \n",
      "  2   -2.772063049797       -2.91       -1.32    1.0    103ms\n",
      "  3   -2.772083115789       -4.70       -2.46    1.0    106ms\n",
      "  4   -2.772083348125       -6.63       -3.17    1.0    121ms\n",
      "  5   -2.772083417124       -7.16       -4.08    2.0    122ms\n",
      "  6   -2.772083417674       -9.26       -4.56    1.0    136ms\n",
      "  7   -2.772083417810       -9.87       -5.50    2.0    130ms\n",
      "  8   -2.772083417811      -12.72       -6.26    1.0    126ms\n",
      "  9   -2.772083417811      -13.19       -7.06    2.0    139ms\n",
      " 10   -2.772083417811      -14.15       -7.99    1.0    130ms\n",
      " 11   -2.772083417811   +  -14.45       -8.61    2.0    130ms\n"
     ]
    },
    {
     "output_type": "execute_result",
     "data": {
      "text/plain": "1.773557997670782"
     },
     "metadata": {},
     "execution_count": 2
    }
   ],
   "cell_type": "code",
   "source": [
    "polarizability_fd = let\n",
    "    ε = 0.01\n",
    "    (compute_dipole(ε) - compute_dipole(0.0)) / ε\n",
    "end"
   ],
   "metadata": {},
   "execution_count": 2
  },
  {
   "cell_type": "markdown",
   "source": [
    "We do the same thing using automatic differentiation. Under the hood this uses\n",
    "custom rules to implicitly differentiate through the self-consistent\n",
    "field fixed-point problem."
   ],
   "metadata": {}
  },
  {
   "outputs": [
    {
     "name": "stdout",
     "output_type": "stream",
     "text": [
      "n     Energy            log10(ΔE)   log10(Δρ)   Diag   Δtime\n",
      "---   ---------------   ---------   ---------   ----   ------\n",
      "  1   -2.770687934905                   -0.53    8.0         \n",
      "  2   -2.772052700174       -2.86       -1.30    1.0    108ms\n",
      "  3   -2.772082839735       -4.52       -2.72    1.0    138ms\n",
      "  4   -2.772083416853       -6.24       -4.12    2.0    124ms\n",
      "  5   -2.772083417805       -9.02       -5.09    2.0    168ms\n",
      "  6   -2.772083417810      -11.32       -6.02    1.0    113ms\n",
      "  7   -2.772083417811      -12.42       -6.81    2.0    130ms\n",
      "  8   -2.772083417811   +  -14.07       -7.57    1.0    132ms\n",
      "  9   -2.772083417811      -13.94       -8.43    2.0    134ms\n",
      "\n",
      "Polarizability via ForwardDiff:       1.7725349634943004\n",
      "Polarizability via finite difference: 1.773557997670782\n"
     ]
    }
   ],
   "cell_type": "code",
   "source": [
    "polarizability = ForwardDiff.derivative(compute_dipole, 0.0)\n",
    "println()\n",
    "println(\"Polarizability via ForwardDiff:       $polarizability\")\n",
    "println(\"Polarizability via finite difference: $polarizability_fd\")"
   ],
   "metadata": {},
   "execution_count": 3
  }
 ],
 "nbformat_minor": 3,
 "metadata": {
  "language_info": {
   "file_extension": ".jl",
   "mimetype": "application/julia",
   "name": "julia",
   "version": "1.9.4"
  },
  "kernelspec": {
   "name": "julia-1.9",
   "display_name": "Julia 1.9.4",
   "language": "julia"
  }
 },
 "nbformat": 4
}
