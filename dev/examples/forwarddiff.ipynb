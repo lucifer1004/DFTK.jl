{
 "cells": [
  {
   "cell_type": "markdown",
   "source": [
    "# Polarizability using automatic differentiation\n",
    "\n",
    "Simple example for computing properties using (forward-mode)\n",
    "automatic differentiation.\n",
    "For a more classical approach and more details about computing polarizabilities,\n",
    "see Polarizability by linear response."
   ],
   "metadata": {}
  },
  {
   "outputs": [],
   "cell_type": "code",
   "source": [
    "using DFTK\n",
    "using LinearAlgebra\n",
    "using ForwardDiff\n",
    "\n",
    "# Construct PlaneWaveBasis given a particular electric field strength\n",
    "# Again we take the example of a Helium atom.\n",
    "function make_basis(ε::T; a=10., Ecut=30) where {T}\n",
    "    lattice=T(a) * I(3)  # lattice is a cube of $a$ Bohrs\n",
    "    # Helium at the center of the box\n",
    "    atoms     = [ElementPsp(:He, psp=load_psp(\"hgh/lda/He-q2\"))]\n",
    "    positions = [[1/2, 1/2, 1/2]]\n",
    "\n",
    "    model = model_DFT(lattice, atoms, positions, [:lda_x, :lda_c_vwn];\n",
    "                      extra_terms=[ExternalFromReal(r -> -ε * (r[1] - a/2))],\n",
    "                      symmetries=false)\n",
    "    PlaneWaveBasis(model; Ecut, kgrid=[1, 1, 1])  # No k-point sampling on isolated system\n",
    "end\n",
    "\n",
    "# dipole moment of a given density (assuming the current geometry)\n",
    "function dipole(basis, ρ)\n",
    "    @assert isdiag(basis.model.lattice)\n",
    "    a  = basis.model.lattice[1, 1]\n",
    "    rr = [a * (r[1] - 1/2) for r in r_vectors(basis)]\n",
    "    sum(rr .* ρ) * basis.dvol\n",
    "end\n",
    "\n",
    "# Function to compute the dipole for a given field strength\n",
    "function compute_dipole(ε; tol=1e-8, kwargs...)\n",
    "    scfres = self_consistent_field(make_basis(ε; kwargs...); tol)\n",
    "    dipole(scfres.basis, scfres.ρ)\n",
    "end;"
   ],
   "metadata": {},
   "execution_count": 1
  },
  {
   "cell_type": "markdown",
   "source": [
    "With this in place we can compute the polarizability from finite differences\n",
    "(just like in the previous example):"
   ],
   "metadata": {}
  },
  {
   "outputs": [
    {
     "name": "stdout",
     "output_type": "stream",
     "text": [
      "n     Energy            log10(ΔE)   log10(Δρ)   Diag   Δtime\n",
      "---   ---------------   ---------   ---------   ----   ------\n",
      "  1   -2.770990016815                   -0.53    9.0         \n",
      "  2   -2.772150966751       -2.94       -1.32    1.0    105ms\n",
      "  3   -2.772170360745       -4.71       -2.51    1.0    112ms\n",
      "  4   -2.772170658209       -6.53       -3.27    1.0    129ms\n",
      "  5   -2.772170721955       -7.20       -3.95    2.0    123ms\n",
      "  6   -2.772170722623       -9.18       -4.22    1.0    131ms\n",
      "  7   -2.772170722998       -9.43       -4.94    1.0    113ms\n",
      "  8   -2.772170723015      -10.78       -5.73    2.0    131ms\n",
      "  9   -2.772170723015      -12.27       -6.42    1.0    127ms\n",
      " 10   -2.772170723015   +  -13.72       -6.44    2.0    142ms\n",
      " 11   -2.772170723015      -13.57       -7.14    1.0    138ms\n",
      " 12   -2.772170723015      -13.95       -7.45    1.0    119ms\n",
      " 13   -2.772170723015   +  -14.07       -8.27    2.0    156ms\n",
      "n     Energy            log10(ΔE)   log10(Δρ)   Diag   Δtime\n",
      "---   ---------------   ---------   ---------   ----   ------\n",
      "  1   -2.770777878453                   -0.52    9.0         \n",
      "  2   -2.772060000133       -2.89       -1.32    1.0    105ms\n",
      "  3   -2.772083122960       -4.64       -2.47    1.0    120ms\n",
      "  4   -2.772083340899       -6.66       -3.18    1.0    109ms\n",
      "  5   -2.772083414519       -7.13       -3.79    2.0    125ms\n",
      "  6   -2.772083417692       -8.50       -4.73    1.0    139ms\n",
      "  7   -2.772083417809       -9.93       -5.32    2.0    128ms\n",
      "  8   -2.772083417810      -12.01       -5.99    1.0    121ms\n",
      "  9   -2.772083417811      -12.49       -7.19    2.0    145ms\n",
      " 10   -2.772083417811      -13.97       -7.53    1.0    123ms\n",
      " 11   -2.772083417811   +  -14.01       -8.54    1.0    123ms\n"
     ]
    },
    {
     "output_type": "execute_result",
     "data": {
      "text/plain": "1.773558119098397"
     },
     "metadata": {},
     "execution_count": 2
    }
   ],
   "cell_type": "code",
   "source": [
    "polarizability_fd = let\n",
    "    ε = 0.01\n",
    "    (compute_dipole(ε) - compute_dipole(0.0)) / ε\n",
    "end"
   ],
   "metadata": {},
   "execution_count": 2
  },
  {
   "cell_type": "markdown",
   "source": [
    "We do the same thing using automatic differentiation. Under the hood this uses\n",
    "custom rules to implicitly differentiate through the self-consistent\n",
    "field fixed-point problem."
   ],
   "metadata": {}
  },
  {
   "outputs": [
    {
     "name": "stdout",
     "output_type": "stream",
     "text": [
      "n     Energy            log10(ΔE)   log10(Δρ)   Diag   Δtime\n",
      "---   ---------------   ---------   ---------   ----   ------\n",
      "  1   -2.770777785368                   -0.53    9.0         \n",
      "  2   -2.772058409558       -2.89       -1.32    1.0    105ms\n",
      "  3   -2.772083282849       -4.60       -2.52    1.0    109ms\n",
      "  4   -2.772083385093       -6.99       -3.38    1.0    144ms\n",
      "  5   -2.772083415034       -7.52       -3.83    2.0    123ms\n",
      "  6   -2.772083417737       -8.57       -4.97    1.0    137ms\n",
      "  7   -2.772083417804      -10.17       -5.13    2.0    127ms\n",
      "  8   -2.772083417811      -11.21       -6.22    1.0    116ms\n",
      "  9   -2.772083417811      -13.23       -7.01    1.0    133ms\n",
      " 10   -2.772083417811      -14.65       -7.54    2.0    138ms\n",
      " 11   -2.772083417811      -15.05       -7.48    1.0    132ms\n",
      " 12   -2.772083417811      -14.05       -7.74    1.0    116ms\n",
      " 13   -2.772083417811      -14.31       -8.10    1.0    139ms\n",
      "\n",
      "Polarizability via ForwardDiff:       1.7725349677310585\n",
      "Polarizability via finite difference: 1.773558119098397\n"
     ]
    }
   ],
   "cell_type": "code",
   "source": [
    "polarizability = ForwardDiff.derivative(compute_dipole, 0.0)\n",
    "println()\n",
    "println(\"Polarizability via ForwardDiff:       $polarizability\")\n",
    "println(\"Polarizability via finite difference: $polarizability_fd\")"
   ],
   "metadata": {},
   "execution_count": 3
  }
 ],
 "nbformat_minor": 3,
 "metadata": {
  "language_info": {
   "file_extension": ".jl",
   "mimetype": "application/julia",
   "name": "julia",
   "version": "1.9.4"
  },
  "kernelspec": {
   "name": "julia-1.9",
   "display_name": "Julia 1.9.4",
   "language": "julia"
  }
 },
 "nbformat": 4
}
