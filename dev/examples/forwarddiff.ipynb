{
 "cells": [
  {
   "cell_type": "markdown",
   "source": [
    "# Polarizability using automatic differentiation\n",
    "\n",
    "Simple example for computing properties using (forward-mode)\n",
    "automatic differentiation.\n",
    "For a more classical approach and more details about computing polarizabilities,\n",
    "see Polarizability by linear response."
   ],
   "metadata": {}
  },
  {
   "outputs": [],
   "cell_type": "code",
   "source": [
    "using DFTK\n",
    "using LinearAlgebra\n",
    "using ForwardDiff\n",
    "\n",
    "# Construct PlaneWaveBasis given a particular electric field strength\n",
    "# Again we take the example of a Helium atom.\n",
    "function make_basis(ε::T; a=10., Ecut=30) where {T}\n",
    "    lattice=T(a) * I(3)  # lattice is a cube of $a$ Bohrs\n",
    "    # Helium at the center of the box\n",
    "    atoms     = [ElementPsp(:He, psp=load_psp(\"hgh/lda/He-q2\"))]\n",
    "    positions = [[1/2, 1/2, 1/2]]\n",
    "\n",
    "    model = model_DFT(lattice, atoms, positions, [:lda_x, :lda_c_vwn];\n",
    "                      extra_terms=[ExternalFromReal(r -> -ε * (r[1] - a/2))],\n",
    "                      symmetries=false)\n",
    "    PlaneWaveBasis(model; Ecut, kgrid=[1, 1, 1])  # No k-point sampling on isolated system\n",
    "end\n",
    "\n",
    "# dipole moment of a given density (assuming the current geometry)\n",
    "function dipole(basis, ρ)\n",
    "    @assert isdiag(basis.model.lattice)\n",
    "    a  = basis.model.lattice[1, 1]\n",
    "    rr = [a * (r[1] - 1/2) for r in r_vectors(basis)]\n",
    "    sum(rr .* ρ) * basis.dvol\n",
    "end\n",
    "\n",
    "# Function to compute the dipole for a given field strength\n",
    "function compute_dipole(ε; tol=1e-8, kwargs...)\n",
    "    scfres = self_consistent_field(make_basis(ε; kwargs...); tol)\n",
    "    dipole(scfres.basis, scfres.ρ)\n",
    "end;"
   ],
   "metadata": {},
   "execution_count": 1
  },
  {
   "cell_type": "markdown",
   "source": [
    "With this in place we can compute the polarizability from finite differences\n",
    "(just like in the previous example):"
   ],
   "metadata": {}
  },
  {
   "outputs": [
    {
     "name": "stdout",
     "output_type": "stream",
     "text": [
      "n     Energy            log10(ΔE)   log10(Δρ)   Diag   Δtime\n",
      "---   ---------------   ---------   ---------   ----   ------\n",
      "  1   -2.770878960014                   -0.52    9.0         \n",
      "  2   -2.772147987870       -2.90       -1.32    1.0    139ms\n",
      "  3   -2.772170376554       -4.65       -2.47    1.0    141ms\n",
      "  4   -2.772170651376       -6.56       -3.17    1.0    158ms\n",
      "  5   -2.772170721577       -7.15       -3.90    2.0    163ms\n",
      "  6   -2.772170722689       -8.95       -4.30    1.0    164ms\n",
      "  7   -2.772170723011       -9.49       -5.47    1.0    148ms\n",
      "  8   -2.772170723015      -11.44       -6.27    2.0    171ms\n",
      "  9   -2.772170723015      -13.29       -6.55    1.0    170ms\n",
      " 10   -2.772170723015      -14.65       -7.25    1.0    164ms\n",
      " 11   -2.772170723015      -13.72       -7.96    2.0    203ms\n",
      " 12   -2.772170723015   +  -13.88       -8.35    1.0    155ms\n",
      "n     Energy            log10(ΔE)   log10(Δρ)   Diag   Δtime\n",
      "---   ---------------   ---------   ---------   ----   ------\n",
      "  1   -2.770765180432                   -0.53    8.0         \n",
      "  2   -2.772053364101       -2.89       -1.31    1.0    183ms\n",
      "  3   -2.772082795308       -4.53       -2.55    1.0    141ms\n",
      "  4   -2.772083397732       -6.22       -3.47    2.0    159ms\n",
      "  5   -2.772083416298       -7.73       -3.94    1.0    162ms\n",
      "  6   -2.772083417711       -8.85       -5.04    1.0    145ms\n",
      "  7   -2.772083417806      -10.02       -5.13    2.0    178ms\n",
      "  8   -2.772083417811      -11.38       -6.30    1.0    151ms\n",
      "  9   -2.772083417811      -12.92       -7.55    2.0    178ms\n",
      " 10   -2.772083417811   +  -14.10       -7.29    2.0    183ms\n",
      " 11   -2.772083417811      -14.45       -8.39    1.0    153ms\n"
     ]
    },
    {
     "output_type": "execute_result",
     "data": {
      "text/plain": "1.773558038778103"
     },
     "metadata": {},
     "execution_count": 2
    }
   ],
   "cell_type": "code",
   "source": [
    "polarizability_fd = let\n",
    "    ε = 0.01\n",
    "    (compute_dipole(ε) - compute_dipole(0.0)) / ε\n",
    "end"
   ],
   "metadata": {},
   "execution_count": 2
  },
  {
   "cell_type": "markdown",
   "source": [
    "We do the same thing using automatic differentiation. Under the hood this uses\n",
    "custom rules to implicitly differentiate through the self-consistent\n",
    "field fixed-point problem."
   ],
   "metadata": {}
  },
  {
   "outputs": [
    {
     "name": "stdout",
     "output_type": "stream",
     "text": [
      "n     Energy            log10(ΔE)   log10(Δρ)   Diag   Δtime\n",
      "---   ---------------   ---------   ---------   ----   ------\n",
      "  1   -2.770765952358                   -0.52    8.0         \n",
      "  2   -2.772056813709       -2.89       -1.32    1.0    184ms\n",
      "  3   -2.772083088837       -4.58       -2.50    1.0    142ms\n",
      "  4   -2.772083362218       -6.56       -3.27    1.0    141ms\n",
      "  5   -2.772083415303       -7.28       -3.83    2.0    186ms\n",
      "  6   -2.772083417754       -8.61       -5.18    1.0    146ms\n",
      "  7   -2.772083417808      -10.27       -5.27    2.0    181ms\n",
      "  8   -2.772083417811      -11.54       -6.58    1.0    152ms\n",
      "  9   -2.772083417811      -13.05       -7.08    2.0    179ms\n",
      " 10   -2.772083417811   +  -14.51       -7.05    1.0    160ms\n",
      " 11   -2.772083417811   +  -13.95       -8.68    1.0    163ms\n",
      "\n",
      "Polarizability via ForwardDiff:       1.7725349794882892\n",
      "Polarizability via finite difference: 1.773558038778103\n"
     ]
    }
   ],
   "cell_type": "code",
   "source": [
    "polarizability = ForwardDiff.derivative(compute_dipole, 0.0)\n",
    "println()\n",
    "println(\"Polarizability via ForwardDiff:       $polarizability\")\n",
    "println(\"Polarizability via finite difference: $polarizability_fd\")"
   ],
   "metadata": {},
   "execution_count": 3
  }
 ],
 "nbformat_minor": 3,
 "metadata": {
  "language_info": {
   "file_extension": ".jl",
   "mimetype": "application/julia",
   "name": "julia",
   "version": "1.9.3"
  },
  "kernelspec": {
   "name": "julia-1.9",
   "display_name": "Julia 1.9.3",
   "language": "julia"
  }
 },
 "nbformat": 4
}
