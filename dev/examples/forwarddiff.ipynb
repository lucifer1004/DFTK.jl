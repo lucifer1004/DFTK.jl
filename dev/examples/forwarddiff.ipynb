{
 "cells": [
  {
   "cell_type": "markdown",
   "source": [
    "# Polarizability using automatic differentiation\n",
    "\n",
    "Simple example for computing properties using (forward-mode)\n",
    "automatic differentiation.\n",
    "For a more classical approach and more details about computing polarizabilities,\n",
    "see Polarizability by linear response."
   ],
   "metadata": {}
  },
  {
   "outputs": [],
   "cell_type": "code",
   "source": [
    "using DFTK\n",
    "using LinearAlgebra\n",
    "using ForwardDiff\n",
    "\n",
    "# Construct PlaneWaveBasis given a particular electric field strength\n",
    "# Again we take the example of a Helium atom.\n",
    "function make_basis(ε::T; a=10., Ecut=30) where {T}\n",
    "    lattice=T(a) * I(3)  # lattice is a cube of $a$ Bohrs\n",
    "    # Helium at the center of the box\n",
    "    atoms     = [ElementPsp(:He; psp=load_psp(\"hgh/lda/He-q2\"))]\n",
    "    positions = [[1/2, 1/2, 1/2]]\n",
    "\n",
    "    model = model_DFT(lattice, atoms, positions, [:lda_x, :lda_c_vwn];\n",
    "                      extra_terms=[ExternalFromReal(r -> -ε * (r[1] - a/2))],\n",
    "                      symmetries=false)\n",
    "    PlaneWaveBasis(model; Ecut, kgrid=[1, 1, 1])  # No k-point sampling on isolated system\n",
    "end\n",
    "\n",
    "# dipole moment of a given density (assuming the current geometry)\n",
    "function dipole(basis, ρ)\n",
    "    @assert isdiag(basis.model.lattice)\n",
    "    a  = basis.model.lattice[1, 1]\n",
    "    rr = [a * (r[1] - 1/2) for r in r_vectors(basis)]\n",
    "    sum(rr .* ρ) * basis.dvol\n",
    "end\n",
    "\n",
    "# Function to compute the dipole for a given field strength\n",
    "function compute_dipole(ε; tol=1e-8, kwargs...)\n",
    "    scfres = self_consistent_field(make_basis(ε; kwargs...); tol)\n",
    "    dipole(scfres.basis, scfres.ρ)\n",
    "end;"
   ],
   "metadata": {},
   "execution_count": 1
  },
  {
   "cell_type": "markdown",
   "source": [
    "With this in place we can compute the polarizability from finite differences\n",
    "(just like in the previous example):"
   ],
   "metadata": {}
  },
  {
   "outputs": [
    {
     "name": "stdout",
     "output_type": "stream",
     "text": [
      "n     Energy            log10(ΔE)   log10(Δρ)   Diag   Δtime\n",
      "---   ---------------   ---------   ---------   ----   ------\n",
      "  1   -2.770630644916                   -0.53    9.0         \n",
      "  2   -2.772139553860       -2.82       -1.29    1.0    106ms\n",
      "  3   -2.772169965191       -4.52       -2.71    1.0    132ms\n",
      "  4   -2.772170721170       -6.12       -3.92    2.0    126ms\n",
      "  5   -2.772170722954       -8.75       -4.57    1.0    111ms\n",
      "  6   -2.772170723009      -10.26       -5.29    1.0    131ms\n",
      "  7   -2.772170723015      -11.24       -5.70    2.0    129ms\n",
      "  8   -2.772170723015      -12.36       -7.10    1.0    124ms\n",
      "  9   -2.772170723015   +  -14.57       -7.31    2.0    142ms\n",
      " 10   -2.772170723015      -13.88       -7.46    1.0    135ms\n",
      " 11   -2.772170723015      -14.75       -8.65    1.0    119ms\n",
      "n     Energy            log10(ΔE)   log10(Δρ)   Diag   Δtime\n",
      "---   ---------------   ---------   ---------   ----   ------\n",
      "  1   -2.770859817446                   -0.52    9.0         \n",
      "  2   -2.772063323356       -2.92       -1.32    1.0    106ms\n",
      "  3   -2.772083029275       -4.71       -2.44    1.0    124ms\n",
      "  4   -2.772083347545       -6.50       -3.15    1.0    110ms\n",
      "  5   -2.772083417659       -7.15       -4.35    2.0    126ms\n",
      "  6   -2.772083417763       -9.98       -4.68    1.0    130ms\n",
      "  7   -2.772083417809      -10.34       -5.84    1.0    115ms\n",
      "  8   -2.772083417811      -11.86       -6.40    2.0    149ms\n",
      "  9   -2.772083417811      -13.53       -6.83    2.0    131ms\n",
      " 10   -2.772083417811   +  -14.03       -8.12    1.0    134ms\n"
     ]
    },
    {
     "output_type": "execute_result",
     "data": {
      "text/plain": "1.7735581146963935"
     },
     "metadata": {},
     "execution_count": 2
    }
   ],
   "cell_type": "code",
   "source": [
    "polarizability_fd = let\n",
    "    ε = 0.01\n",
    "    (compute_dipole(ε) - compute_dipole(0.0)) / ε\n",
    "end"
   ],
   "metadata": {},
   "execution_count": 2
  },
  {
   "cell_type": "markdown",
   "source": [
    "We do the same thing using automatic differentiation. Under the hood this uses\n",
    "custom rules to implicitly differentiate through the self-consistent\n",
    "field fixed-point problem."
   ],
   "metadata": {}
  },
  {
   "outputs": [
    {
     "name": "stdout",
     "output_type": "stream",
     "text": [
      "n     Energy            log10(ΔE)   log10(Δρ)   Diag   Δtime\n",
      "---   ---------------   ---------   ---------   ----   ------\n",
      "  1   -2.770706878369                   -0.53    8.0         \n",
      "  2   -2.772045924487       -2.87       -1.30    1.0    151ms\n",
      "  3   -2.772081486643       -4.45       -2.65    1.0    138ms\n",
      "  4   -2.772083412748       -5.72       -3.83    2.0    154ms\n",
      "  5   -2.772083417471       -8.33       -4.28    2.0    126ms\n",
      "  6   -2.772083417800       -9.48       -5.35    1.0    133ms\n",
      "  7   -2.772083417810      -10.97       -6.07    2.0    129ms\n",
      "  8   -2.772083417811      -12.84       -6.88    2.0    147ms\n",
      "  9   -2.772083417811   +  -14.40       -7.61    1.0    128ms\n",
      " 10   -2.772083417811   +    -Inf       -8.44    2.0    150ms\n",
      "\n",
      "Polarizability via ForwardDiff:       1.7725349619169557\n",
      "Polarizability via finite difference: 1.7735581146963935\n"
     ]
    }
   ],
   "cell_type": "code",
   "source": [
    "polarizability = ForwardDiff.derivative(compute_dipole, 0.0)\n",
    "println()\n",
    "println(\"Polarizability via ForwardDiff:       $polarizability\")\n",
    "println(\"Polarizability via finite difference: $polarizability_fd\")"
   ],
   "metadata": {},
   "execution_count": 3
  }
 ],
 "nbformat_minor": 3,
 "metadata": {
  "language_info": {
   "file_extension": ".jl",
   "mimetype": "application/julia",
   "name": "julia",
   "version": "1.9.4"
  },
  "kernelspec": {
   "name": "julia-1.9",
   "display_name": "Julia 1.9.4",
   "language": "julia"
  }
 },
 "nbformat": 4
}
