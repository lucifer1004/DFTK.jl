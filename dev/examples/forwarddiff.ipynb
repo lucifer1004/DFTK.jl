{
 "cells": [
  {
   "cell_type": "markdown",
   "source": [
    "# Polarizability using automatic differentiation\n",
    "\n",
    "Simple example for computing properties using (forward-mode)\n",
    "automatic differentiation.\n",
    "For a more classical approach and more details about computing polarizabilities,\n",
    "see Polarizability by linear response."
   ],
   "metadata": {}
  },
  {
   "outputs": [],
   "cell_type": "code",
   "source": [
    "using DFTK\n",
    "using LinearAlgebra\n",
    "using ForwardDiff\n",
    "\n",
    "# Construct PlaneWaveBasis given a particular electric field strength\n",
    "# Again we take the example of a Helium atom.\n",
    "function make_basis(ε::T; a=10., Ecut=30) where {T}\n",
    "    lattice=T(a) * I(3)  # lattice is a cube of $a$ Bohrs\n",
    "    # Helium at the center of the box\n",
    "    atoms     = [ElementPsp(:He, psp=load_psp(\"hgh/lda/He-q2\"))]\n",
    "    positions = [[1/2, 1/2, 1/2]]\n",
    "\n",
    "    model = model_DFT(lattice, atoms, positions, [:lda_x, :lda_c_vwn];\n",
    "                      extra_terms=[ExternalFromReal(r -> -ε * (r[1] - a/2))],\n",
    "                      symmetries=false)\n",
    "    PlaneWaveBasis(model; Ecut, kgrid=[1, 1, 1])  # No k-point sampling on isolated system\n",
    "end\n",
    "\n",
    "# dipole moment of a given density (assuming the current geometry)\n",
    "function dipole(basis, ρ)\n",
    "    @assert isdiag(basis.model.lattice)\n",
    "    a  = basis.model.lattice[1, 1]\n",
    "    rr = [a * (r[1] - 1/2) for r in r_vectors(basis)]\n",
    "    sum(rr .* ρ) * basis.dvol\n",
    "end\n",
    "\n",
    "# Function to compute the dipole for a given field strength\n",
    "function compute_dipole(ε; tol=1e-8, kwargs...)\n",
    "    scfres = self_consistent_field(make_basis(ε; kwargs...); tol)\n",
    "    dipole(scfres.basis, scfres.ρ)\n",
    "end;"
   ],
   "metadata": {},
   "execution_count": 1
  },
  {
   "cell_type": "markdown",
   "source": [
    "With this in place we can compute the polarizability from finite differences\n",
    "(just like in the previous example):"
   ],
   "metadata": {}
  },
  {
   "outputs": [
    {
     "name": "stdout",
     "output_type": "stream",
     "text": [
      "n     Energy            log10(ΔE)   log10(Δρ)   Diag   Δtime\n",
      "---   ---------------   ---------   ---------   ----   ------\n",
      "  1   -2.770841942498                   -0.52    8.0         \n",
      "  2   -2.772144771788       -2.89       -1.32    1.0    151ms\n",
      "  3   -2.772170355564       -4.59       -2.48    1.0    189ms\n",
      "  4   -2.772170657627       -6.52       -3.21    1.0    157ms\n",
      "  5   -2.772170721880       -7.19       -3.95    2.0    180ms\n",
      "  6   -2.772170722921       -8.98       -4.61    1.0    205ms\n",
      "  7   -2.772170723011      -10.05       -5.17    2.0    183ms\n",
      "  8   -2.772170723015      -11.40       -6.49    1.0    176ms\n",
      "  9   -2.772170723015      -13.30       -6.38    2.0    197ms\n",
      " 10   -2.772170723015      -14.51       -7.08    1.0    182ms\n",
      " 11   -2.772170723015      -14.05       -8.11    2.0    211ms\n",
      "n     Energy            log10(ΔE)   log10(Δρ)   Diag   Δtime\n",
      "---   ---------------   ---------   ---------   ----   ------\n",
      "  1   -2.770735788973                   -0.53    9.0         \n",
      "  2   -2.772046172956       -2.88       -1.31    1.0    152ms\n",
      "  3   -2.772082287767       -4.44       -2.63    1.0    177ms\n",
      "  4   -2.772083415782       -5.95       -4.11    2.0    174ms\n",
      "  5   -2.772083417797       -8.70       -5.15    2.0    215ms\n",
      "  6   -2.772083417811      -10.88       -6.03    2.0    180ms\n",
      "  7   -2.772083417811      -12.99       -7.00    1.0    161ms\n",
      "  8   -2.772083417811      -13.97       -7.69    2.0    204ms\n",
      "  9   -2.772083417811   +  -13.72       -8.60    1.0    171ms\n"
     ]
    },
    {
     "output_type": "execute_result",
     "data": {
      "text/plain": "1.7735578875269047"
     },
     "metadata": {},
     "execution_count": 2
    }
   ],
   "cell_type": "code",
   "source": [
    "polarizability_fd = let\n",
    "    ε = 0.01\n",
    "    (compute_dipole(ε) - compute_dipole(0.0)) / ε\n",
    "end"
   ],
   "metadata": {},
   "execution_count": 2
  },
  {
   "cell_type": "markdown",
   "source": [
    "We do the same thing using automatic differentiation. Under the hood this uses\n",
    "custom rules to implicitly differentiate through the self-consistent\n",
    "field fixed-point problem."
   ],
   "metadata": {}
  },
  {
   "outputs": [
    {
     "name": "stdout",
     "output_type": "stream",
     "text": [
      "n     Energy            log10(ΔE)   log10(Δρ)   Diag   Δtime\n",
      "---   ---------------   ---------   ---------   ----   ------\n",
      "  1   -2.770705733740                   -0.53    8.0         \n",
      "  2   -2.772055019468       -2.87       -1.30    1.0    210ms\n",
      "  3   -2.772083004421       -4.55       -2.64    1.0    156ms\n",
      "  4   -2.772083414422       -6.39       -3.89    2.0    179ms\n",
      "  5   -2.772083417483       -8.51       -4.29    2.0    249ms\n",
      "  6   -2.772083417804       -9.49       -5.50    1.0    161ms\n",
      "  7   -2.772083417811      -11.16       -6.08    2.0    192ms\n",
      "  8   -2.772083417811      -13.10       -6.81    1.0    199ms\n",
      "  9   -2.772083417811      -13.85       -7.33    2.0    197ms\n",
      " 10   -2.772083417811   +  -14.24       -8.42    2.0    208ms\n",
      "\n",
      "Polarizability via ForwardDiff:       1.7725349565311803\n",
      "Polarizability via finite difference: 1.7735578875269047\n"
     ]
    }
   ],
   "cell_type": "code",
   "source": [
    "polarizability = ForwardDiff.derivative(compute_dipole, 0.0)\n",
    "println()\n",
    "println(\"Polarizability via ForwardDiff:       $polarizability\")\n",
    "println(\"Polarizability via finite difference: $polarizability_fd\")"
   ],
   "metadata": {},
   "execution_count": 3
  }
 ],
 "nbformat_minor": 3,
 "metadata": {
  "language_info": {
   "file_extension": ".jl",
   "mimetype": "application/julia",
   "name": "julia",
   "version": "1.9.3"
  },
  "kernelspec": {
   "name": "julia-1.9",
   "display_name": "Julia 1.9.3",
   "language": "julia"
  }
 },
 "nbformat": 4
}
