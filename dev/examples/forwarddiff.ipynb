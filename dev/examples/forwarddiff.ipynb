{
 "cells": [
  {
   "cell_type": "markdown",
   "source": [
    "# Polarizability using automatic differentiation\n",
    "\n",
    "Simple example for computing properties using (forward-mode)\n",
    "automatic differentiation.\n",
    "For a more classical approach and more details about computing polarizabilities,\n",
    "see Polarizability by linear response."
   ],
   "metadata": {}
  },
  {
   "outputs": [],
   "cell_type": "code",
   "source": [
    "using DFTK\n",
    "using LinearAlgebra\n",
    "using ForwardDiff\n",
    "\n",
    "# Construct PlaneWaveBasis given a particular electric field strength\n",
    "# Again we take the example of a Helium atom.\n",
    "function make_basis(ε::T; a=10., Ecut=30) where {T}\n",
    "    lattice=T(a) * I(3)  # lattice is a cube of $a$ Bohrs\n",
    "    # Helium at the center of the box\n",
    "    atoms     = [ElementPsp(:He, psp=load_psp(\"hgh/lda/He-q2\"))]\n",
    "    positions = [[1/2, 1/2, 1/2]]\n",
    "\n",
    "    model = model_DFT(lattice, atoms, positions, [:lda_x, :lda_c_vwn];\n",
    "                      extra_terms=[ExternalFromReal(r -> -ε * (r[1] - a/2))],\n",
    "                      symmetries=false)\n",
    "    PlaneWaveBasis(model; Ecut, kgrid=[1, 1, 1])  # No k-point sampling on isolated system\n",
    "end\n",
    "\n",
    "# dipole moment of a given density (assuming the current geometry)\n",
    "function dipole(basis, ρ)\n",
    "    @assert isdiag(basis.model.lattice)\n",
    "    a  = basis.model.lattice[1, 1]\n",
    "    rr = [a * (r[1] - 1/2) for r in r_vectors(basis)]\n",
    "    sum(rr .* ρ) * basis.dvol\n",
    "end\n",
    "\n",
    "# Function to compute the dipole for a given field strength\n",
    "function compute_dipole(ε; tol=1e-8, kwargs...)\n",
    "    scfres = self_consistent_field(make_basis(ε; kwargs...); tol)\n",
    "    dipole(scfres.basis, scfres.ρ)\n",
    "end;"
   ],
   "metadata": {},
   "execution_count": 1
  },
  {
   "cell_type": "markdown",
   "source": [
    "With this in place we can compute the polarizability from finite differences\n",
    "(just like in the previous example):"
   ],
   "metadata": {}
  },
  {
   "outputs": [
    {
     "name": "stdout",
     "output_type": "stream",
     "text": [
      "n     Energy            log10(ΔE)   log10(Δρ)   Diag   Δtime\n",
      "---   ---------------   ---------   ---------   ----   ------\n",
      "  1   -2.770826400025                   -0.52    9.0         \n",
      "  2   -2.772147158114       -2.88       -1.32    1.0    104ms\n",
      "  3   -2.772170258682       -4.64       -2.43    1.0    122ms\n",
      "  4   -2.772170646085       -6.41       -3.13    1.0    108ms\n",
      "  5   -2.772170722928       -7.11       -4.41    2.0    124ms\n",
      "  6   -2.772170722983      -10.26       -4.62    1.0    130ms\n",
      "  7   -2.772170723012      -10.53       -5.63    1.0    113ms\n",
      "  8   -2.772170723015      -11.56       -6.13    2.0    143ms\n",
      "  9   -2.772170723015      -12.96       -7.22    1.0    115ms\n",
      " 10   -2.772170723015      -14.35       -7.21    2.0    145ms\n",
      " 11   -2.772170723015   +  -13.94       -8.27    1.0    117ms\n",
      "n     Energy            log10(ΔE)   log10(Δρ)   Diag   Δtime\n",
      "---   ---------------   ---------   ---------   ----   ------\n",
      "  1   -2.770820929266                   -0.52    9.0         \n",
      "  2   -2.772056431534       -2.91       -1.32    1.0    104ms\n",
      "  3   -2.772083078889       -4.57       -2.51    1.0    106ms\n",
      "  4   -2.772083368199       -6.54       -3.32    1.0    130ms\n",
      "  5   -2.772083415654       -7.32       -3.84    2.0    122ms\n",
      "  6   -2.772083417743       -8.68       -5.05    1.0    123ms\n",
      "  7   -2.772083417810      -10.17       -5.68    2.0    127ms\n",
      "  8   -2.772083417811      -12.85       -5.83    2.0    134ms\n",
      "  9   -2.772083417811      -13.25       -6.94    1.0    123ms\n",
      " 10   -2.772083417811   +  -13.58       -7.25    1.0    135ms\n",
      " 11   -2.772083417811      -13.57       -8.38    1.0    116ms\n"
     ]
    },
    {
     "output_type": "execute_result",
     "data": {
      "text/plain": "1.773558011461611"
     },
     "metadata": {},
     "execution_count": 2
    }
   ],
   "cell_type": "code",
   "source": [
    "polarizability_fd = let\n",
    "    ε = 0.01\n",
    "    (compute_dipole(ε) - compute_dipole(0.0)) / ε\n",
    "end"
   ],
   "metadata": {},
   "execution_count": 2
  },
  {
   "cell_type": "markdown",
   "source": [
    "We do the same thing using automatic differentiation. Under the hood this uses\n",
    "custom rules to implicitly differentiate through the self-consistent\n",
    "field fixed-point problem."
   ],
   "metadata": {}
  },
  {
   "outputs": [
    {
     "name": "stdout",
     "output_type": "stream",
     "text": [
      "n     Energy            log10(ΔE)   log10(Δρ)   Diag   Δtime\n",
      "---   ---------------   ---------   ---------   ----   ------\n",
      "  1   -2.770837743608                   -0.52    9.0         \n",
      "  2   -2.772061961324       -2.91       -1.32    1.0    104ms\n",
      "  3   -2.772083093942       -4.68       -2.45    1.0    139ms\n",
      "  4   -2.772083343235       -6.60       -3.15    1.0    107ms\n",
      "  5   -2.772083416471       -7.14       -3.96    2.0    136ms\n",
      "  6   -2.772083417681       -8.92       -4.58    1.0    129ms\n",
      "  7   -2.772083417810       -9.89       -5.46    2.0    125ms\n",
      "  8   -2.772083417810      -12.56       -6.14    1.0    124ms\n",
      "  9   -2.772083417811      -12.83       -6.77    2.0    137ms\n",
      " 10   -2.772083417811   +  -13.89       -7.56    1.0    133ms\n",
      " 11   -2.772083417811      -13.82       -8.66    1.0    116ms\n",
      "\n",
      "Polarizability via ForwardDiff:       1.7725349681754452\n",
      "Polarizability via finite difference: 1.773558011461611\n"
     ]
    }
   ],
   "cell_type": "code",
   "source": [
    "polarizability = ForwardDiff.derivative(compute_dipole, 0.0)\n",
    "println()\n",
    "println(\"Polarizability via ForwardDiff:       $polarizability\")\n",
    "println(\"Polarizability via finite difference: $polarizability_fd\")"
   ],
   "metadata": {},
   "execution_count": 3
  }
 ],
 "nbformat_minor": 3,
 "metadata": {
  "language_info": {
   "file_extension": ".jl",
   "mimetype": "application/julia",
   "name": "julia",
   "version": "1.9.3"
  },
  "kernelspec": {
   "name": "julia-1.9",
   "display_name": "Julia 1.9.3",
   "language": "julia"
  }
 },
 "nbformat": 4
}
