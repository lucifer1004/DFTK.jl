{
 "cells": [
  {
   "cell_type": "markdown",
   "source": [
    "# Polarizability using automatic differentiation\n",
    "\n",
    "Simple example for computing properties using (forward-mode)\n",
    "automatic differentiation.\n",
    "For a more classical approach and more details about computing polarizabilities,\n",
    "see Polarizability by linear response."
   ],
   "metadata": {}
  },
  {
   "outputs": [],
   "cell_type": "code",
   "source": [
    "using DFTK\n",
    "using LinearAlgebra\n",
    "using ForwardDiff\n",
    "\n",
    "# Construct PlaneWaveBasis given a particular electric field strength\n",
    "# Again we take the example of a Helium atom.\n",
    "function make_basis(ε::T; a=10., Ecut=30) where {T}\n",
    "    lattice=T(a) * I(3)  # lattice is a cube of $a$ Bohrs\n",
    "    # Helium at the center of the box\n",
    "    atoms     = [ElementPsp(:He, psp=load_psp(\"hgh/lda/He-q2\"))]\n",
    "    positions = [[1/2, 1/2, 1/2]]\n",
    "\n",
    "    model = model_DFT(lattice, atoms, positions, [:lda_x, :lda_c_vwn];\n",
    "                      extra_terms=[ExternalFromReal(r -> -ε * (r[1] - a/2))],\n",
    "                      symmetries=false)\n",
    "    PlaneWaveBasis(model; Ecut, kgrid=[1, 1, 1])  # No k-point sampling on isolated system\n",
    "end\n",
    "\n",
    "# dipole moment of a given density (assuming the current geometry)\n",
    "function dipole(basis, ρ)\n",
    "    @assert isdiag(basis.model.lattice)\n",
    "    a  = basis.model.lattice[1, 1]\n",
    "    rr = [a * (r[1] - 1/2) for r in r_vectors(basis)]\n",
    "    sum(rr .* ρ) * basis.dvol\n",
    "end\n",
    "\n",
    "# Function to compute the dipole for a given field strength\n",
    "function compute_dipole(ε; tol=1e-8, kwargs...)\n",
    "    scfres = self_consistent_field(make_basis(ε; kwargs...); tol)\n",
    "    dipole(scfres.basis, scfres.ρ)\n",
    "end;"
   ],
   "metadata": {},
   "execution_count": 1
  },
  {
   "cell_type": "markdown",
   "source": [
    "With this in place we can compute the polarizability from finite differences\n",
    "(just like in the previous example):"
   ],
   "metadata": {}
  },
  {
   "outputs": [
    {
     "name": "stdout",
     "output_type": "stream",
     "text": [
      "n     Energy            log10(ΔE)   log10(Δρ)   Diag   Δtime\n",
      "---   ---------------   ---------   ---------   ----   ------\n",
      "  1   -2.770944328244                   -0.52    9.0         \n",
      "  2   -2.772148827956       -2.92       -1.32    1.0    154ms\n",
      "  3   -2.772170343038       -4.67       -2.46    1.0    194ms\n",
      "  4   -2.772170659401       -6.50       -3.17    1.0    160ms\n",
      "  5   -2.772170722502       -7.20       -4.07    2.0    180ms\n",
      "  6   -2.772170722745       -9.61       -4.27    1.0    197ms\n",
      "  7   -2.772170723012       -9.57       -5.85    1.0    166ms\n",
      "  8   -2.772170723015      -11.59       -6.43    2.0    206ms\n",
      "  9   -2.772170723015   +  -13.58       -6.19    2.0    193ms\n",
      " 10   -2.772170723015      -13.32       -6.98    1.0    203ms\n",
      " 11   -2.772170723015      -14.40       -7.40    1.0    174ms\n",
      " 12   -2.772170723015   +  -13.94       -8.43    1.0    185ms\n",
      "n     Energy            log10(ΔE)   log10(Δρ)   Diag   Δtime\n",
      "---   ---------------   ---------   ---------   ----   ------\n",
      "  1   -2.770683109538                   -0.53    9.0         \n",
      "  2   -2.772049127991       -2.86       -1.30    1.0    181ms\n",
      "  3   -2.772082595206       -4.48       -2.64    1.0    157ms\n",
      "  4   -2.772083415331       -6.09       -4.00    2.0    179ms\n",
      "  5   -2.772083417793       -8.61       -4.93    2.0    222ms\n",
      "  6   -2.772083417809      -10.79       -5.47    1.0    163ms\n",
      "  7   -2.772083417811      -11.74       -6.73    2.0    194ms\n",
      "  8   -2.772083417811      -13.70       -7.19    1.0    175ms\n",
      "  9   -2.772083417811   +    -Inf       -7.97    2.0    205ms\n",
      " 10   -2.772083417811   +  -14.05       -8.22    1.0    183ms\n"
     ]
    },
    {
     "output_type": "execute_result",
     "data": {
      "text/plain": "1.7735580538164621"
     },
     "metadata": {},
     "execution_count": 2
    }
   ],
   "cell_type": "code",
   "source": [
    "polarizability_fd = let\n",
    "    ε = 0.01\n",
    "    (compute_dipole(ε) - compute_dipole(0.0)) / ε\n",
    "end"
   ],
   "metadata": {},
   "execution_count": 2
  },
  {
   "cell_type": "markdown",
   "source": [
    "We do the same thing using automatic differentiation. Under the hood this uses\n",
    "custom rules to implicitly differentiate through the self-consistent\n",
    "field fixed-point problem."
   ],
   "metadata": {}
  },
  {
   "outputs": [
    {
     "name": "stdout",
     "output_type": "stream",
     "text": [
      "n     Energy            log10(ΔE)   log10(Δρ)   Diag   Δtime\n",
      "---   ---------------   ---------   ---------   ----   ------\n",
      "  1   -2.770883150621                   -0.53    9.0         \n",
      "  2   -2.772062331869       -2.93       -1.32    1.0    154ms\n",
      "  3   -2.772083170252       -4.68       -2.50    1.0    206ms\n",
      "  4   -2.772083363098       -6.71       -3.25    1.0    159ms\n",
      "  5   -2.772083415305       -7.28       -3.83    2.0    226ms\n",
      "  6   -2.772083417698       -8.62       -4.70    1.0    163ms\n",
      "  7   -2.772083417808       -9.96       -5.26    2.0    188ms\n",
      "  8   -2.772083417810      -11.58       -5.93    1.0    179ms\n",
      "  9   -2.772083417811      -12.51       -6.30    2.0    214ms\n",
      " 10   -2.772083417811      -13.51       -7.71    1.0    183ms\n",
      " 11   -2.772083417811   +  -14.45       -8.19    2.0    205ms\n",
      "\n",
      "Polarizability via ForwardDiff:       1.7725349719820247\n",
      "Polarizability via finite difference: 1.7735580538164621\n"
     ]
    }
   ],
   "cell_type": "code",
   "source": [
    "polarizability = ForwardDiff.derivative(compute_dipole, 0.0)\n",
    "println()\n",
    "println(\"Polarizability via ForwardDiff:       $polarizability\")\n",
    "println(\"Polarizability via finite difference: $polarizability_fd\")"
   ],
   "metadata": {},
   "execution_count": 3
  }
 ],
 "nbformat_minor": 3,
 "metadata": {
  "language_info": {
   "file_extension": ".jl",
   "mimetype": "application/julia",
   "name": "julia",
   "version": "1.9.3"
  },
  "kernelspec": {
   "name": "julia-1.9",
   "display_name": "Julia 1.9.3",
   "language": "julia"
  }
 },
 "nbformat": 4
}
