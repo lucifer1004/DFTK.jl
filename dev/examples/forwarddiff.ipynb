{
 "cells": [
  {
   "cell_type": "markdown",
   "source": [
    "# Polarizability using automatic differentiation\n",
    "\n",
    "Simple example for computing properties using (forward-mode)\n",
    "automatic differentiation.\n",
    "For a more classical approach and more details about computing polarizabilities,\n",
    "see Polarizability by linear response."
   ],
   "metadata": {}
  },
  {
   "outputs": [],
   "cell_type": "code",
   "source": [
    "using DFTK\n",
    "using LinearAlgebra\n",
    "using ForwardDiff\n",
    "\n",
    "# Construct PlaneWaveBasis given a particular electric field strength\n",
    "# Again we take the example of a Helium atom.\n",
    "function make_basis(ε::T; a=10., Ecut=30) where {T}\n",
    "    lattice=T(a) * I(3)  # lattice is a cube of $a$ Bohrs\n",
    "    # Helium at the center of the box\n",
    "    atoms     = [ElementPsp(:He; psp=load_psp(\"hgh/lda/He-q2\"))]\n",
    "    positions = [[1/2, 1/2, 1/2]]\n",
    "\n",
    "    model = model_DFT(lattice, atoms, positions, [:lda_x, :lda_c_vwn];\n",
    "                      extra_terms=[ExternalFromReal(r -> -ε * (r[1] - a/2))],\n",
    "                      symmetries=false)\n",
    "    PlaneWaveBasis(model; Ecut, kgrid=[1, 1, 1])  # No k-point sampling on isolated system\n",
    "end\n",
    "\n",
    "# dipole moment of a given density (assuming the current geometry)\n",
    "function dipole(basis, ρ)\n",
    "    @assert isdiag(basis.model.lattice)\n",
    "    a  = basis.model.lattice[1, 1]\n",
    "    rr = [a * (r[1] - 1/2) for r in r_vectors(basis)]\n",
    "    sum(rr .* ρ) * basis.dvol\n",
    "end\n",
    "\n",
    "# Function to compute the dipole for a given field strength\n",
    "function compute_dipole(ε; tol=1e-8, kwargs...)\n",
    "    scfres = self_consistent_field(make_basis(ε; kwargs...); tol)\n",
    "    dipole(scfres.basis, scfres.ρ)\n",
    "end;"
   ],
   "metadata": {},
   "execution_count": 1
  },
  {
   "cell_type": "markdown",
   "source": [
    "With this in place we can compute the polarizability from finite differences\n",
    "(just like in the previous example):"
   ],
   "metadata": {}
  },
  {
   "outputs": [
    {
     "name": "stdout",
     "output_type": "stream",
     "text": [
      "n     Energy            log10(ΔE)   log10(Δρ)   Diag   Δtime\n",
      "---   ---------------   ---------   ---------   ----   ------\n",
      "  1   -2.770852515273                   -0.52    9.0         \n",
      "  2   -2.772142324932       -2.89       -1.32    1.0    104ms\n",
      "  3   -2.772170371954       -4.55       -2.51    1.0    120ms\n",
      "  4   -2.772170672585       -6.52       -3.33    1.0    107ms\n",
      "  5   -2.772170721109       -7.31       -3.86    2.0    124ms\n",
      "  6   -2.772170722967       -8.73       -5.42    1.0    131ms\n",
      "  7   -2.772170723012      -10.35       -5.27    3.0    139ms\n",
      "  8   -2.772170723015      -11.48       -6.31    1.0    122ms\n",
      "  9   -2.772170723015      -13.46       -6.66    2.0    137ms\n",
      " 10   -2.772170723015      -14.21       -7.14    1.0    159ms\n",
      " 11   -2.772170723015      -14.18       -8.37    1.0    126ms\n",
      "n     Energy            log10(ΔE)   log10(Δρ)   Diag   Δtime\n",
      "---   ---------------   ---------   ---------   ----   ------\n",
      "  1   -2.770775076920                   -0.53    9.0         \n",
      "  2   -2.772051493965       -2.89       -1.31    1.0    105ms\n",
      "  3   -2.772082925756       -4.50       -2.56    1.0    107ms\n",
      "  4   -2.772083388408       -6.33       -3.73    1.0    132ms\n",
      "  5   -2.772083417685       -7.53       -4.42    2.0    125ms\n",
      "  6   -2.772083417805       -9.92       -5.57    1.0    126ms\n",
      "  7   -2.772083417810      -11.28       -5.93    2.0    127ms\n",
      "  8   -2.772083417810      -13.48       -5.98    2.0    138ms\n",
      "  9   -2.772083417811      -12.92       -8.16    1.0    125ms\n"
     ]
    },
    {
     "output_type": "execute_result",
     "data": {
      "text/plain": "1.7735577017380832"
     },
     "metadata": {},
     "execution_count": 2
    }
   ],
   "cell_type": "code",
   "source": [
    "polarizability_fd = let\n",
    "    ε = 0.01\n",
    "    (compute_dipole(ε) - compute_dipole(0.0)) / ε\n",
    "end"
   ],
   "metadata": {},
   "execution_count": 2
  },
  {
   "cell_type": "markdown",
   "source": [
    "We do the same thing using automatic differentiation. Under the hood this uses\n",
    "custom rules to implicitly differentiate through the self-consistent\n",
    "field fixed-point problem."
   ],
   "metadata": {}
  },
  {
   "outputs": [
    {
     "name": "stdout",
     "output_type": "stream",
     "text": [
      "n     Energy            log10(ΔE)   log10(Δρ)   Diag   Δtime\n",
      "---   ---------------   ---------   ---------   ----   ------\n",
      "  1   -2.770811592240                   -0.52    9.0         \n",
      "  2   -2.772061582445       -2.90       -1.32    1.0    105ms\n",
      "  3   -2.772083093485       -4.67       -2.45    1.0    124ms\n",
      "  4   -2.772083339309       -6.61       -3.14    1.0    141ms\n",
      "  5   -2.772083416538       -7.11       -3.97    2.0    123ms\n",
      "  6   -2.772083417693       -8.94       -4.65    1.0    139ms\n",
      "  7   -2.772083417810       -9.93       -5.40    2.0    127ms\n",
      "  8   -2.772083417810      -12.58       -5.92    1.0    124ms\n",
      "  9   -2.772083417811      -12.59       -6.84    2.0    139ms\n",
      " 10   -2.772083417811   +  -14.88       -7.67    1.0    139ms\n",
      " 11   -2.772083417811   +  -15.35       -8.32    1.0    118ms\n",
      "\n",
      "Polarizability via ForwardDiff:       1.7725349655339555\n",
      "Polarizability via finite difference: 1.7735577017380832\n"
     ]
    }
   ],
   "cell_type": "code",
   "source": [
    "polarizability = ForwardDiff.derivative(compute_dipole, 0.0)\n",
    "println()\n",
    "println(\"Polarizability via ForwardDiff:       $polarizability\")\n",
    "println(\"Polarizability via finite difference: $polarizability_fd\")"
   ],
   "metadata": {},
   "execution_count": 3
  }
 ],
 "nbformat_minor": 3,
 "metadata": {
  "language_info": {
   "file_extension": ".jl",
   "mimetype": "application/julia",
   "name": "julia",
   "version": "1.9.4"
  },
  "kernelspec": {
   "name": "julia-1.9",
   "display_name": "Julia 1.9.4",
   "language": "julia"
  }
 },
 "nbformat": 4
}
