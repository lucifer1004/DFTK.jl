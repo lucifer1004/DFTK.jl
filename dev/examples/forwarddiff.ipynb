{
 "cells": [
  {
   "cell_type": "markdown",
   "source": [
    "# Polarizability using automatic differentiation\n",
    "\n",
    "Simple example for computing properties using (forward-mode)\n",
    "automatic differentiation.\n",
    "For a more classical approach and more details about computing polarizabilities,\n",
    "see Polarizability by linear response."
   ],
   "metadata": {}
  },
  {
   "outputs": [],
   "cell_type": "code",
   "source": [
    "using DFTK\n",
    "using LinearAlgebra\n",
    "using ForwardDiff\n",
    "\n",
    "# Construct PlaneWaveBasis given a particular electric field strength\n",
    "# Again we take the example of a Helium atom.\n",
    "function make_basis(ε::T; a=10., Ecut=30) where {T}\n",
    "    lattice=T(a) * I(3)  # lattice is a cube of $a$ Bohrs\n",
    "    # Helium at the center of the box\n",
    "    atoms     = [ElementPsp(:He, psp=load_psp(\"hgh/lda/He-q2\"))]\n",
    "    positions = [[1/2, 1/2, 1/2]]\n",
    "\n",
    "    model = model_DFT(lattice, atoms, positions, [:lda_x, :lda_c_vwn];\n",
    "                      extra_terms=[ExternalFromReal(r -> -ε * (r[1] - a/2))],\n",
    "                      symmetries=false)\n",
    "    PlaneWaveBasis(model; Ecut, kgrid=[1, 1, 1])  # No k-point sampling on isolated system\n",
    "end\n",
    "\n",
    "# dipole moment of a given density (assuming the current geometry)\n",
    "function dipole(basis, ρ)\n",
    "    @assert isdiag(basis.model.lattice)\n",
    "    a  = basis.model.lattice[1, 1]\n",
    "    rr = [a * (r[1] - 1/2) for r in r_vectors(basis)]\n",
    "    sum(rr .* ρ) * basis.dvol\n",
    "end\n",
    "\n",
    "# Function to compute the dipole for a given field strength\n",
    "function compute_dipole(ε; tol=1e-8, kwargs...)\n",
    "    scfres = self_consistent_field(make_basis(ε; kwargs...); tol)\n",
    "    dipole(scfres.basis, scfres.ρ)\n",
    "end;"
   ],
   "metadata": {},
   "execution_count": 1
  },
  {
   "cell_type": "markdown",
   "source": [
    "With this in place we can compute the polarizability from finite differences\n",
    "(just like in the previous example):"
   ],
   "metadata": {}
  },
  {
   "outputs": [
    {
     "name": "stdout",
     "output_type": "stream",
     "text": [
      "n     Energy            log10(ΔE)   log10(Δρ)   Diag   Δtime\n",
      "---   ---------------   ---------   ---------   ----   ------\n",
      "  1   -2.770923774427                   -0.52    9.0         \n",
      "  2   -2.772147774115       -2.91       -1.32    1.0    105ms\n",
      "  3   -2.772170358956       -4.65       -2.50    1.0    119ms\n",
      "  4   -2.772170650575       -6.54       -3.22    1.0    106ms\n",
      "  5   -2.772170722152       -7.15       -3.97    2.0    123ms\n",
      "  6   -2.772170722664       -9.29       -4.24    1.0    124ms\n",
      "  7   -2.772170723004       -9.47       -5.07    1.0    112ms\n",
      "  8   -2.772170723010      -11.21       -5.12    1.0    125ms\n",
      "  9   -2.772170723014      -11.41       -5.64    1.0    116ms\n",
      " 10   -2.772170723015      -12.30       -5.83    2.0    147ms\n",
      " 11   -2.772170723015      -12.76       -6.04    1.0    126ms\n",
      " 12   -2.772170723015      -13.20       -6.32    1.0    125ms\n",
      " 13   -2.772170723015      -13.94       -6.64    1.0    133ms\n",
      " 14   -2.772170723015   +  -15.35       -7.98    1.0    125ms\n",
      " 15   -2.772170723015      -13.64       -7.21    2.0    159ms\n",
      " 16   -2.772170723015   +  -14.40       -8.20    2.0    140ms\n",
      "n     Energy            log10(ΔE)   log10(Δρ)   Diag   Δtime\n",
      "---   ---------------   ---------   ---------   ----   ------\n",
      "  1   -2.770706289832                   -0.53    9.0         \n",
      "  2   -2.772049816052       -2.87       -1.30    1.0    130ms\n",
      "  3   -2.772082415237       -4.49       -2.64    1.0    105ms\n",
      "  4   -2.772083416089       -6.00       -4.04    2.0    155ms\n",
      "  5   -2.772083417782       -8.77       -4.83    2.0    122ms\n",
      "  6   -2.772083417809      -10.57       -6.09    1.0    117ms\n",
      "  7   -2.772083417811      -11.90       -6.28    2.0    126ms\n",
      "  8   -2.772083417811      -13.56       -7.29    1.0    115ms\n",
      "  9   -2.772083417811   +    -Inf       -8.04    2.0    143ms\n"
     ]
    },
    {
     "output_type": "execute_result",
     "data": {
      "text/plain": "1.7735579492840987"
     },
     "metadata": {},
     "execution_count": 2
    }
   ],
   "cell_type": "code",
   "source": [
    "polarizability_fd = let\n",
    "    ε = 0.01\n",
    "    (compute_dipole(ε) - compute_dipole(0.0)) / ε\n",
    "end"
   ],
   "metadata": {},
   "execution_count": 2
  },
  {
   "cell_type": "markdown",
   "source": [
    "We do the same thing using automatic differentiation. Under the hood this uses\n",
    "custom rules to implicitly differentiate through the self-consistent\n",
    "field fixed-point problem."
   ],
   "metadata": {}
  },
  {
   "outputs": [
    {
     "name": "stdout",
     "output_type": "stream",
     "text": [
      "n     Energy            log10(ΔE)   log10(Δρ)   Diag   Δtime\n",
      "---   ---------------   ---------   ---------   ----   ------\n",
      "  1   -2.770740251334                   -0.52    9.0         \n",
      "  2   -2.772059740510       -2.88       -1.32    1.0    103ms\n",
      "  3   -2.772082965889       -4.63       -2.42    1.0    130ms\n",
      "  4   -2.772083328926       -6.44       -3.11    1.0    126ms\n",
      "  5   -2.772083417630       -7.05       -4.33    2.0    171ms\n",
      "  6   -2.772083417738       -9.97       -4.63    1.0    109ms\n",
      "  7   -2.772083417809      -10.15       -5.78    1.0    112ms\n",
      "  8   -2.772083417811      -11.81       -6.47    2.0    137ms\n",
      "  9   -2.772083417811   +  -13.97       -6.57    2.0    126ms\n",
      " 10   -2.772083417811      -13.85       -8.23    1.0    129ms\n",
      "\n",
      "Polarizability via ForwardDiff:       1.7725349591124775\n",
      "Polarizability via finite difference: 1.7735579492840987\n"
     ]
    }
   ],
   "cell_type": "code",
   "source": [
    "polarizability = ForwardDiff.derivative(compute_dipole, 0.0)\n",
    "println()\n",
    "println(\"Polarizability via ForwardDiff:       $polarizability\")\n",
    "println(\"Polarizability via finite difference: $polarizability_fd\")"
   ],
   "metadata": {},
   "execution_count": 3
  }
 ],
 "nbformat_minor": 3,
 "metadata": {
  "language_info": {
   "file_extension": ".jl",
   "mimetype": "application/julia",
   "name": "julia",
   "version": "1.9.3"
  },
  "kernelspec": {
   "name": "julia-1.9",
   "display_name": "Julia 1.9.3",
   "language": "julia"
  }
 },
 "nbformat": 4
}
