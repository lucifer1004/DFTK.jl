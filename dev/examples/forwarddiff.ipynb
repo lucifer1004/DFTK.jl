{
 "cells": [
  {
   "cell_type": "markdown",
   "source": [
    "# Polarizability using automatic differentiation\n",
    "\n",
    "Simple example for computing properties using (forward-mode)\n",
    "automatic differentiation.\n",
    "For a more classical approach and more details about computing polarizabilities,\n",
    "see Polarizability by linear response."
   ],
   "metadata": {}
  },
  {
   "outputs": [],
   "cell_type": "code",
   "source": [
    "using DFTK\n",
    "using LinearAlgebra\n",
    "using ForwardDiff\n",
    "\n",
    "# Construct PlaneWaveBasis given a particular electric field strength\n",
    "# Again we take the example of a Helium atom.\n",
    "function make_basis(ε::T; a=10., Ecut=30) where {T}\n",
    "    lattice=T(a) * I(3)  # lattice is a cube of $a$ Bohrs\n",
    "    # Helium at the center of the box\n",
    "    atoms     = [ElementPsp(:He, psp=load_psp(\"hgh/lda/He-q2\"))]\n",
    "    positions = [[1/2, 1/2, 1/2]]\n",
    "\n",
    "    model = model_DFT(lattice, atoms, positions, [:lda_x, :lda_c_vwn];\n",
    "                      extra_terms=[ExternalFromReal(r -> -ε * (r[1] - a/2))],\n",
    "                      symmetries=false)\n",
    "    PlaneWaveBasis(model; Ecut, kgrid=[1, 1, 1])  # No k-point sampling on isolated system\n",
    "end\n",
    "\n",
    "# dipole moment of a given density (assuming the current geometry)\n",
    "function dipole(basis, ρ)\n",
    "    @assert isdiag(basis.model.lattice)\n",
    "    a  = basis.model.lattice[1, 1]\n",
    "    rr = [a * (r[1] - 1/2) for r in r_vectors(basis)]\n",
    "    sum(rr .* ρ) * basis.dvol\n",
    "end\n",
    "\n",
    "# Function to compute the dipole for a given field strength\n",
    "function compute_dipole(ε; tol=1e-8, kwargs...)\n",
    "    scfres = self_consistent_field(make_basis(ε; kwargs...); tol)\n",
    "    dipole(scfres.basis, scfres.ρ)\n",
    "end;"
   ],
   "metadata": {},
   "execution_count": 1
  },
  {
   "cell_type": "markdown",
   "source": [
    "With this in place we can compute the polarizability from finite differences\n",
    "(just like in the previous example):"
   ],
   "metadata": {}
  },
  {
   "outputs": [
    {
     "name": "stdout",
     "output_type": "stream",
     "text": [
      "n     Energy            log10(ΔE)   log10(Δρ)   Diag   Δtime\n",
      "---   ---------------   ---------   ---------   ----   ------\n",
      "  1   -2.770811214424                   -0.53    8.0         \n",
      "  2   -2.772136817816       -2.88       -1.31    1.0    172ms\n",
      "  3   -2.772169752467       -4.48       -2.59    1.0    198ms\n",
      "  4   -2.772170713382       -6.02       -3.68    2.0    200ms\n",
      "  5   -2.772170721036       -8.12       -3.90    2.0    215ms\n",
      "  6   -2.772170722936       -8.72       -4.80    1.0    209ms\n",
      "  7   -2.772170723013      -10.11       -5.41    2.0    208ms\n",
      "  8   -2.772170723015      -11.89       -5.88    1.0    200ms\n",
      "  9   -2.772170723015      -12.43       -6.71    2.0    227ms\n",
      " 10   -2.772170723015   +  -14.10       -7.49    1.0    219ms\n",
      " 11   -2.772170723015      -14.27       -8.93    2.0    219ms\n",
      "n     Energy            log10(ΔE)   log10(Δρ)   Diag   Δtime\n",
      "---   ---------------   ---------   ---------   ----   ------\n",
      "  1   -2.770779798526                   -0.53    9.0         \n",
      "  2   -2.772052263981       -2.90       -1.31    1.0    174ms\n",
      "  3   -2.772082822756       -4.51       -2.60    1.0    178ms\n",
      "  4   -2.772083416616       -6.23       -4.19    2.0    228ms\n",
      "  5   -2.772083417806       -8.92       -5.02    2.0    201ms\n",
      "  6   -2.772083417810      -11.33       -6.14    1.0    202ms\n",
      "  7   -2.772083417811      -12.44       -6.63    2.0    207ms\n",
      "  8   -2.772083417811      -13.92       -6.84    1.0    215ms\n",
      "  9   -2.772083417811   +  -14.21       -7.90    1.0    193ms\n",
      " 10   -2.772083417811   +  -14.18       -8.20    2.0    220ms\n"
     ]
    },
    {
     "output_type": "execute_result",
     "data": {
      "text/plain": "1.7735580275324858"
     },
     "metadata": {},
     "execution_count": 2
    }
   ],
   "cell_type": "code",
   "source": [
    "polarizability_fd = let\n",
    "    ε = 0.01\n",
    "    (compute_dipole(ε) - compute_dipole(0.0)) / ε\n",
    "end"
   ],
   "metadata": {},
   "execution_count": 2
  },
  {
   "cell_type": "markdown",
   "source": [
    "We do the same thing using automatic differentiation. Under the hood this uses\n",
    "custom rules to implicitly differentiate through the self-consistent\n",
    "field fixed-point problem."
   ],
   "metadata": {}
  },
  {
   "outputs": [
    {
     "name": "stdout",
     "output_type": "stream",
     "text": [
      "n     Energy            log10(ΔE)   log10(Δρ)   Diag   Δtime\n",
      "---   ---------------   ---------   ---------   ----   ------\n",
      "  1   -2.770783780360                   -0.52    8.0         \n",
      "  2   -2.772058229842       -2.89       -1.32    1.0    175ms\n",
      "  3   -2.772083139888       -4.60       -2.49    1.0    175ms\n",
      "  4   -2.772083359686       -6.66       -3.24    1.0    254ms\n",
      "  5   -2.772083415177       -7.26       -3.83    2.0    202ms\n",
      "  6   -2.772083417764       -8.59       -5.41    1.0    227ms\n",
      "  7   -2.772083417807      -10.37       -5.23    3.0    230ms\n",
      "  8   -2.772083417811      -11.40       -6.47    1.0    200ms\n",
      "  9   -2.772083417811      -13.62       -6.47    2.0    225ms\n",
      " 10   -2.772083417811      -13.71       -7.25    1.0    203ms\n",
      " 11   -2.772083417811   +  -14.40       -7.86    1.0    203ms\n",
      " 12   -2.772083417811   +  -14.24       -8.96    2.0    246ms\n",
      "\n",
      "Polarizability via ForwardDiff:       1.7725349701317987\n",
      "Polarizability via finite difference: 1.7735580275324858\n"
     ]
    }
   ],
   "cell_type": "code",
   "source": [
    "polarizability = ForwardDiff.derivative(compute_dipole, 0.0)\n",
    "println()\n",
    "println(\"Polarizability via ForwardDiff:       $polarizability\")\n",
    "println(\"Polarizability via finite difference: $polarizability_fd\")"
   ],
   "metadata": {},
   "execution_count": 3
  }
 ],
 "nbformat_minor": 3,
 "metadata": {
  "language_info": {
   "file_extension": ".jl",
   "mimetype": "application/julia",
   "name": "julia",
   "version": "1.9.3"
  },
  "kernelspec": {
   "name": "julia-1.9",
   "display_name": "Julia 1.9.3",
   "language": "julia"
  }
 },
 "nbformat": 4
}
