{
 "cells": [
  {
   "cell_type": "markdown",
   "source": [
    "# Polarizability using automatic differentiation\n",
    "\n",
    "Simple example for computing properties using (forward-mode)\n",
    "automatic differentiation.\n",
    "For a more classical approach and more details about computing polarizabilities,\n",
    "see Polarizability by linear response."
   ],
   "metadata": {}
  },
  {
   "outputs": [],
   "cell_type": "code",
   "source": [
    "using DFTK\n",
    "using LinearAlgebra\n",
    "using ForwardDiff\n",
    "\n",
    "# Construct PlaneWaveBasis given a particular electric field strength\n",
    "# Again we take the example of a Helium atom.\n",
    "function make_basis(ε::T; a=10., Ecut=30) where {T}\n",
    "    lattice=T(a) * I(3)  # lattice is a cube of $a$ Bohrs\n",
    "    # Helium at the center of the box\n",
    "    atoms     = [ElementPsp(:He; psp=load_psp(\"hgh/lda/He-q2\"))]\n",
    "    positions = [[1/2, 1/2, 1/2]]\n",
    "\n",
    "    model = model_DFT(lattice, atoms, positions, [:lda_x, :lda_c_vwn];\n",
    "                      extra_terms=[ExternalFromReal(r -> -ε * (r[1] - a/2))],\n",
    "                      symmetries=false)\n",
    "    PlaneWaveBasis(model; Ecut, kgrid=[1, 1, 1])  # No k-point sampling on isolated system\n",
    "end\n",
    "\n",
    "# dipole moment of a given density (assuming the current geometry)\n",
    "function dipole(basis, ρ)\n",
    "    @assert isdiag(basis.model.lattice)\n",
    "    a  = basis.model.lattice[1, 1]\n",
    "    rr = [a * (r[1] - 1/2) for r in r_vectors(basis)]\n",
    "    sum(rr .* ρ) * basis.dvol\n",
    "end\n",
    "\n",
    "# Function to compute the dipole for a given field strength\n",
    "function compute_dipole(ε; tol=1e-8, kwargs...)\n",
    "    scfres = self_consistent_field(make_basis(ε; kwargs...); tol)\n",
    "    dipole(scfres.basis, scfres.ρ)\n",
    "end;"
   ],
   "metadata": {},
   "execution_count": 1
  },
  {
   "cell_type": "markdown",
   "source": [
    "With this in place we can compute the polarizability from finite differences\n",
    "(just like in the previous example):"
   ],
   "metadata": {}
  },
  {
   "outputs": [
    {
     "name": "stdout",
     "output_type": "stream",
     "text": [
      "n     Energy            log10(ΔE)   log10(Δρ)   Diag   Δtime\n",
      "---   ---------------   ---------   ---------   ----   ------\n",
      "  1   -2.770832340691                   -0.53    8.0         \n",
      "  2   -2.772134985771       -2.89       -1.31    1.0    106ms\n",
      "  3   -2.772169206523       -4.47       -2.61    1.0    121ms\n",
      "  4   -2.772170719994       -5.82       -4.11    2.0    122ms\n",
      "  5   -2.772170722996       -8.52       -4.86    2.0    144ms\n",
      "  6   -2.772170723014      -10.76       -5.72    1.0    111ms\n",
      "  7   -2.772170723015      -11.83       -6.45    2.0    140ms\n",
      "  8   -2.772170723015      -14.15       -7.36    1.0    119ms\n",
      "  9   -2.772170723015   +  -13.95       -7.74    2.0    135ms\n",
      " 10   -2.772170723015      -13.76       -8.17    1.0    124ms\n",
      "n     Energy            log10(ΔE)   log10(Δρ)   Diag   Δtime\n",
      "---   ---------------   ---------   ---------   ----   ------\n",
      "  1   -2.770755137959                   -0.52    9.0         \n",
      "  2   -2.772058552167       -2.88       -1.32    1.0    130ms\n",
      "  3   -2.772083035374       -4.61       -2.46    1.0    106ms\n",
      "  4   -2.772083330901       -6.53       -3.15    1.0    138ms\n",
      "  5   -2.772083415768       -7.07       -3.86    2.0    124ms\n",
      "  6   -2.772083417668       -8.72       -4.60    1.0    119ms\n",
      "  7   -2.772083417810       -9.85       -5.46    2.0    126ms\n",
      "  8   -2.772083417811      -12.78       -6.21    1.0    128ms\n",
      "  9   -2.772083417811      -13.02       -6.76    2.0    138ms\n",
      " 10   -2.772083417811      -14.12       -7.72    1.0    131ms\n",
      " 11   -2.772083417811      -14.65       -8.12    2.0    130ms\n"
     ]
    },
    {
     "output_type": "execute_result",
     "data": {
      "text/plain": "1.7735581570934424"
     },
     "metadata": {},
     "execution_count": 2
    }
   ],
   "cell_type": "code",
   "source": [
    "polarizability_fd = let\n",
    "    ε = 0.01\n",
    "    (compute_dipole(ε) - compute_dipole(0.0)) / ε\n",
    "end"
   ],
   "metadata": {},
   "execution_count": 2
  },
  {
   "cell_type": "markdown",
   "source": [
    "We do the same thing using automatic differentiation. Under the hood this uses\n",
    "custom rules to implicitly differentiate through the self-consistent\n",
    "field fixed-point problem."
   ],
   "metadata": {}
  },
  {
   "outputs": [
    {
     "name": "stdout",
     "output_type": "stream",
     "text": [
      "n     Energy            log10(ΔE)   log10(Δρ)   Diag   Δtime\n",
      "---   ---------------   ---------   ---------   ----   ------\n",
      "  1   -2.770597789766                   -0.53    9.0         \n",
      "  2   -2.772051096590       -2.84       -1.30    1.0    137ms\n",
      "  3   -2.772082837860       -4.50       -2.65    1.0    110ms\n",
      "  4   -2.772083415871       -6.24       -3.97    2.0    168ms\n",
      "  5   -2.772083417746       -8.73       -4.59    2.0    124ms\n",
      "  6   -2.772083417808      -10.21       -5.51    1.0    128ms\n",
      "  7   -2.772083417811      -11.52       -6.42    2.0    131ms\n",
      "  8   -2.772083417811      -13.80       -7.17    2.0    137ms\n",
      "  9   -2.772083417811   +    -Inf       -8.04    1.0    123ms\n",
      "\n",
      "Polarizability via ForwardDiff:       1.7725349751148816\n",
      "Polarizability via finite difference: 1.7735581570934424\n"
     ]
    }
   ],
   "cell_type": "code",
   "source": [
    "polarizability = ForwardDiff.derivative(compute_dipole, 0.0)\n",
    "println()\n",
    "println(\"Polarizability via ForwardDiff:       $polarizability\")\n",
    "println(\"Polarizability via finite difference: $polarizability_fd\")"
   ],
   "metadata": {},
   "execution_count": 3
  }
 ],
 "nbformat_minor": 3,
 "metadata": {
  "language_info": {
   "file_extension": ".jl",
   "mimetype": "application/julia",
   "name": "julia",
   "version": "1.9.4"
  },
  "kernelspec": {
   "name": "julia-1.9",
   "display_name": "Julia 1.9.4",
   "language": "julia"
  }
 },
 "nbformat": 4
}
