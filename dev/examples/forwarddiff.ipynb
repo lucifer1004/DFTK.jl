{
 "cells": [
  {
   "cell_type": "markdown",
   "source": [
    "# Polarizability using automatic differentiation\n",
    "\n",
    "Simple example for computing properties using (forward-mode)\n",
    "automatic differentiation.\n",
    "For a more classical approach and more details about computing polarizabilities,\n",
    "see Polarizability by linear response."
   ],
   "metadata": {}
  },
  {
   "outputs": [],
   "cell_type": "code",
   "source": [
    "using DFTK\n",
    "using LinearAlgebra\n",
    "using ForwardDiff\n",
    "\n",
    "# Construct PlaneWaveBasis given a particular electric field strength\n",
    "# Again we take the example of a Helium atom.\n",
    "function make_basis(ε::T; a=10., Ecut=30) where {T}\n",
    "    lattice=T(a) * I(3)  # lattice is a cube of $a$ Bohrs\n",
    "    # Helium at the center of the box\n",
    "    atoms     = [ElementPsp(:He, psp=load_psp(\"hgh/lda/He-q2\"))]\n",
    "    positions = [[1/2, 1/2, 1/2]]\n",
    "\n",
    "    model = model_DFT(lattice, atoms, positions, [:lda_x, :lda_c_vwn];\n",
    "                      extra_terms=[ExternalFromReal(r -> -ε * (r[1] - a/2))],\n",
    "                      symmetries=false)\n",
    "    PlaneWaveBasis(model; Ecut, kgrid=[1, 1, 1])  # No k-point sampling on isolated system\n",
    "end\n",
    "\n",
    "# dipole moment of a given density (assuming the current geometry)\n",
    "function dipole(basis, ρ)\n",
    "    @assert isdiag(basis.model.lattice)\n",
    "    a  = basis.model.lattice[1, 1]\n",
    "    rr = [a * (r[1] - 1/2) for r in r_vectors(basis)]\n",
    "    sum(rr .* ρ) * basis.dvol\n",
    "end\n",
    "\n",
    "# Function to compute the dipole for a given field strength\n",
    "function compute_dipole(ε; tol=1e-8, kwargs...)\n",
    "    scfres = self_consistent_field(make_basis(ε; kwargs...); tol)\n",
    "    dipole(scfres.basis, scfres.ρ)\n",
    "end;"
   ],
   "metadata": {},
   "execution_count": 1
  },
  {
   "cell_type": "markdown",
   "source": [
    "With this in place we can compute the polarizability from finite differences\n",
    "(just like in the previous example):"
   ],
   "metadata": {}
  },
  {
   "outputs": [
    {
     "name": "stdout",
     "output_type": "stream",
     "text": [
      "n     Energy            log10(ΔE)   log10(Δρ)   Diag   Δtime\n",
      "---   ---------------   ---------   ---------   ----   ------\n",
      "  1   -2.770795148750                   -0.53    8.0         \n",
      "  2   -2.772140240627       -2.87       -1.32    1.0    124ms\n",
      "  3   -2.772170009636       -4.53       -2.52    1.0    108ms\n",
      "  4   -2.772170687841       -6.17       -3.34    2.0    123ms\n",
      "  5   -2.772170720601       -7.48       -3.85    1.0    125ms\n",
      "  6   -2.772170722855       -8.65       -4.95    1.0    112ms\n",
      "  7   -2.772170723003       -9.83       -4.95    2.0    142ms\n",
      "  8   -2.772170723015      -10.95       -5.96    1.0    116ms\n",
      "  9   -2.772170723015      -12.55       -6.78    2.0    148ms\n",
      " 10   -2.772170723015      -14.05       -6.92    1.0    127ms\n",
      " 11   -2.772170723015   +  -14.31       -7.37    1.0    125ms\n",
      " 12   -2.772170723015   +  -13.94       -8.34    2.0    133ms\n",
      "n     Energy            log10(ΔE)   log10(Δρ)   Diag   Δtime\n",
      "---   ---------------   ---------   ---------   ----   ------\n",
      "  1   -2.770711279214                   -0.53    8.0         \n",
      "  2   -2.772051653187       -2.87       -1.31    1.0    105ms\n",
      "  3   -2.772082658142       -4.51       -2.58    1.0    107ms\n",
      "  4   -2.772083411096       -6.12       -3.73    2.0    136ms\n",
      "  5   -2.772083417208       -8.21       -4.11    2.0    125ms\n",
      "  6   -2.772083417800       -9.23       -5.48    1.0    125ms\n",
      "  7   -2.772083417811      -10.97       -6.20    2.0    128ms\n",
      "  8   -2.772083417811      -13.14       -6.50    2.0    137ms\n",
      "  9   -2.772083417811   +  -14.57       -7.45    1.0    125ms\n",
      " 10   -2.772083417811   +  -14.01       -8.18    1.0    136ms\n"
     ]
    },
    {
     "output_type": "execute_result",
     "data": {
      "text/plain": "1.7735581622128083"
     },
     "metadata": {},
     "execution_count": 2
    }
   ],
   "cell_type": "code",
   "source": [
    "polarizability_fd = let\n",
    "    ε = 0.01\n",
    "    (compute_dipole(ε) - compute_dipole(0.0)) / ε\n",
    "end"
   ],
   "metadata": {},
   "execution_count": 2
  },
  {
   "cell_type": "markdown",
   "source": [
    "We do the same thing using automatic differentiation. Under the hood this uses\n",
    "custom rules to implicitly differentiate through the self-consistent\n",
    "field fixed-point problem."
   ],
   "metadata": {}
  },
  {
   "outputs": [
    {
     "name": "stdout",
     "output_type": "stream",
     "text": [
      "n     Energy            log10(ΔE)   log10(Δρ)   Diag   Δtime\n",
      "---   ---------------   ---------   ---------   ----   ------\n",
      "  1   -2.770749962812                   -0.52    9.0         \n",
      "  2   -2.772059364926       -2.88       -1.32    1.0    105ms\n",
      "  3   -2.772082938165       -4.63       -2.43    1.0    118ms\n",
      "  4   -2.772083328513       -6.41       -3.11    1.0    142ms\n",
      "  5   -2.772083417616       -7.05       -4.30    2.0    123ms\n",
      "  6   -2.772083417724       -9.97       -4.54    1.0    129ms\n",
      "  7   -2.772083417809      -10.07       -5.79    1.0    113ms\n",
      "  8   -2.772083417811      -11.72       -6.23    2.0    142ms\n",
      "  9   -2.772083417811   +  -13.45       -6.45    1.0    116ms\n",
      " 10   -2.772083417811      -13.63       -7.52    2.0    158ms\n",
      " 11   -2.772083417811      -13.97       -7.72    1.0    117ms\n",
      " 12   -2.772083417811      -14.27       -8.89    2.0    150ms\n",
      "\n",
      "Polarizability via ForwardDiff:       1.7725349743197418\n",
      "Polarizability via finite difference: 1.7735581622128083\n"
     ]
    }
   ],
   "cell_type": "code",
   "source": [
    "polarizability = ForwardDiff.derivative(compute_dipole, 0.0)\n",
    "println()\n",
    "println(\"Polarizability via ForwardDiff:       $polarizability\")\n",
    "println(\"Polarizability via finite difference: $polarizability_fd\")"
   ],
   "metadata": {},
   "execution_count": 3
  }
 ],
 "nbformat_minor": 3,
 "metadata": {
  "language_info": {
   "file_extension": ".jl",
   "mimetype": "application/julia",
   "name": "julia",
   "version": "1.9.4"
  },
  "kernelspec": {
   "name": "julia-1.9",
   "display_name": "Julia 1.9.4",
   "language": "julia"
  }
 },
 "nbformat": 4
}
