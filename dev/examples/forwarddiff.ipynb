{
 "cells": [
  {
   "cell_type": "markdown",
   "source": [
    "# Polarizability using automatic differentiation\n",
    "\n",
    "Simple example for computing properties using (forward-mode)\n",
    "automatic differentiation.\n",
    "For a more classical approach and more details about computing polarizabilities,\n",
    "see Polarizability by linear response."
   ],
   "metadata": {}
  },
  {
   "outputs": [],
   "cell_type": "code",
   "source": [
    "using DFTK\n",
    "using LinearAlgebra\n",
    "using ForwardDiff\n",
    "\n",
    "# Construct PlaneWaveBasis given a particular electric field strength\n",
    "# Again we take the example of a Helium atom.\n",
    "function make_basis(ε::T; a=10., Ecut=30) where {T}\n",
    "    lattice=T(a) * I(3)  # lattice is a cube of $a$ Bohrs\n",
    "    # Helium at the center of the box\n",
    "    atoms     = [ElementPsp(:He; psp=load_psp(\"hgh/lda/He-q2\"))]\n",
    "    positions = [[1/2, 1/2, 1/2]]\n",
    "\n",
    "    model = model_DFT(lattice, atoms, positions, [:lda_x, :lda_c_vwn];\n",
    "                      extra_terms=[ExternalFromReal(r -> -ε * (r[1] - a/2))],\n",
    "                      symmetries=false)\n",
    "    PlaneWaveBasis(model; Ecut, kgrid=[1, 1, 1])  # No k-point sampling on isolated system\n",
    "end\n",
    "\n",
    "# dipole moment of a given density (assuming the current geometry)\n",
    "function dipole(basis, ρ)\n",
    "    @assert isdiag(basis.model.lattice)\n",
    "    a  = basis.model.lattice[1, 1]\n",
    "    rr = [a * (r[1] - 1/2) for r in r_vectors(basis)]\n",
    "    sum(rr .* ρ) * basis.dvol\n",
    "end\n",
    "\n",
    "# Function to compute the dipole for a given field strength\n",
    "function compute_dipole(ε; tol=1e-8, kwargs...)\n",
    "    scfres = self_consistent_field(make_basis(ε; kwargs...); tol)\n",
    "    dipole(scfres.basis, scfres.ρ)\n",
    "end;"
   ],
   "metadata": {},
   "execution_count": 1
  },
  {
   "cell_type": "markdown",
   "source": [
    "With this in place we can compute the polarizability from finite differences\n",
    "(just like in the previous example):"
   ],
   "metadata": {}
  },
  {
   "outputs": [
    {
     "name": "stdout",
     "output_type": "stream",
     "text": [
      "n     Energy            log10(ΔE)   log10(Δρ)   Diag   Δtime\n",
      "---   ---------------   ---------   ---------   ----   ------\n",
      "  1   -2.770865532786                   -0.52    9.0         \n",
      "  2   -2.772148341850       -2.89       -1.32    1.0    105ms\n",
      "  3   -2.772170282440       -4.66       -2.44    1.0    115ms\n",
      "  4   -2.772170650894       -6.43       -3.15    1.0    127ms\n",
      "  5   -2.772170722876       -7.14       -4.39    2.0    124ms\n",
      "  6   -2.772170722945      -10.16       -4.53    1.0    136ms\n",
      "  7   -2.772170723012      -10.17       -5.25    1.0    114ms\n",
      "  8   -2.772170723014      -11.86       -5.41    1.0    116ms\n",
      "  9   -2.772170723015      -11.92       -6.31    1.0    134ms\n",
      " 10   -2.772170723015      -13.11       -6.57    2.0    133ms\n",
      " 11   -2.772170723015      -14.88       -6.92    1.0    133ms\n",
      " 12   -2.772170723015      -14.15       -7.64    1.0    120ms\n",
      " 13   -2.772170723015   +  -14.07       -7.92    2.0    154ms\n",
      " 14   -2.772170723015      -14.21       -9.03    1.0    134ms\n",
      "n     Energy            log10(ΔE)   log10(Δρ)   Diag   Δtime\n",
      "---   ---------------   ---------   ---------   ----   ------\n",
      "  1   -2.770774236588                   -0.52    8.0         \n",
      "  2   -2.772058851118       -2.89       -1.32    1.0    104ms\n",
      "  3   -2.772082958096       -4.62       -2.44    1.0    123ms\n",
      "  4   -2.772083324978       -6.44       -3.13    1.0    108ms\n",
      "  5   -2.772083416727       -7.04       -3.98    2.0    139ms\n",
      "  6   -2.772083417690       -9.02       -4.66    1.0    124ms\n",
      "  7   -2.772083417809       -9.92       -5.28    2.0    125ms\n",
      "  8   -2.772083417810      -11.87       -5.87    1.0    120ms\n",
      "  9   -2.772083417811      -12.43       -7.02    2.0    138ms\n",
      " 10   -2.772083417811      -13.86       -6.84    2.0    142ms\n",
      " 11   -2.772083417811   +  -13.91       -8.28    1.0    127ms\n"
     ]
    },
    {
     "output_type": "execute_result",
     "data": {
      "text/plain": "1.7735580741994266"
     },
     "metadata": {},
     "execution_count": 2
    }
   ],
   "cell_type": "code",
   "source": [
    "polarizability_fd = let\n",
    "    ε = 0.01\n",
    "    (compute_dipole(ε) - compute_dipole(0.0)) / ε\n",
    "end"
   ],
   "metadata": {},
   "execution_count": 2
  },
  {
   "cell_type": "markdown",
   "source": [
    "We do the same thing using automatic differentiation. Under the hood this uses\n",
    "custom rules to implicitly differentiate through the self-consistent\n",
    "field fixed-point problem."
   ],
   "metadata": {}
  },
  {
   "outputs": [
    {
     "name": "stdout",
     "output_type": "stream",
     "text": [
      "n     Energy            log10(ΔE)   log10(Δρ)   Diag   Δtime\n",
      "---   ---------------   ---------   ---------   ----   ------\n",
      "  1   -2.770681892975                   -0.53    8.0         \n",
      "  2   -2.772050048792       -2.86       -1.30    1.0    105ms\n",
      "  3   -2.772082459433       -4.49       -2.63    1.0    111ms\n",
      "  4   -2.772083415250       -6.02       -4.00    2.0    160ms\n",
      "  5   -2.772083417713       -8.61       -4.56    2.0    125ms\n",
      "  6   -2.772083417806      -10.03       -5.39    1.0    139ms\n",
      "  7   -2.772083417810      -11.33       -5.97    2.0    128ms\n",
      "  8   -2.772083417811      -13.03       -6.94    1.0    116ms\n",
      "  9   -2.772083417811      -13.57       -7.57    2.0    151ms\n",
      " 10   -2.772083417811   +  -14.27       -8.25    1.0    126ms\n",
      "\n",
      "Polarizability via ForwardDiff:       1.772534957566956\n",
      "Polarizability via finite difference: 1.7735580741994266\n"
     ]
    }
   ],
   "cell_type": "code",
   "source": [
    "polarizability = ForwardDiff.derivative(compute_dipole, 0.0)\n",
    "println()\n",
    "println(\"Polarizability via ForwardDiff:       $polarizability\")\n",
    "println(\"Polarizability via finite difference: $polarizability_fd\")"
   ],
   "metadata": {},
   "execution_count": 3
  }
 ],
 "nbformat_minor": 3,
 "metadata": {
  "language_info": {
   "file_extension": ".jl",
   "mimetype": "application/julia",
   "name": "julia",
   "version": "1.9.4"
  },
  "kernelspec": {
   "name": "julia-1.9",
   "display_name": "Julia 1.9.4",
   "language": "julia"
  }
 },
 "nbformat": 4
}
