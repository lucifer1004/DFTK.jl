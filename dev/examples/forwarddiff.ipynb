{
 "cells": [
  {
   "cell_type": "markdown",
   "source": [
    "# Polarizability using automatic differentiation\n",
    "\n",
    "Simple example for computing properties using (forward-mode)\n",
    "automatic differentiation.\n",
    "For a more classical approach and more details about computing polarizabilities,\n",
    "see Polarizability by linear response."
   ],
   "metadata": {}
  },
  {
   "outputs": [],
   "cell_type": "code",
   "source": [
    "using DFTK\n",
    "using LinearAlgebra\n",
    "using ForwardDiff\n",
    "\n",
    "# Construct PlaneWaveBasis given a particular electric field strength\n",
    "# Again we take the example of a Helium atom.\n",
    "function make_basis(ε::T; a=10., Ecut=30) where {T}\n",
    "    lattice=T(a) * I(3)  # lattice is a cube of $a$ Bohrs\n",
    "    # Helium at the center of the box\n",
    "    atoms     = [ElementPsp(:He, psp=load_psp(\"hgh/lda/He-q2\"))]\n",
    "    positions = [[1/2, 1/2, 1/2]]\n",
    "\n",
    "    model = model_DFT(lattice, atoms, positions, [:lda_x, :lda_c_vwn];\n",
    "                      extra_terms=[ExternalFromReal(r -> -ε * (r[1] - a/2))],\n",
    "                      symmetries=false)\n",
    "    PlaneWaveBasis(model; Ecut, kgrid=[1, 1, 1])  # No k-point sampling on isolated system\n",
    "end\n",
    "\n",
    "# dipole moment of a given density (assuming the current geometry)\n",
    "function dipole(basis, ρ)\n",
    "    @assert isdiag(basis.model.lattice)\n",
    "    a  = basis.model.lattice[1, 1]\n",
    "    rr = [a * (r[1] - 1/2) for r in r_vectors(basis)]\n",
    "    sum(rr .* ρ) * basis.dvol\n",
    "end\n",
    "\n",
    "# Function to compute the dipole for a given field strength\n",
    "function compute_dipole(ε; tol=1e-8, kwargs...)\n",
    "    scfres = self_consistent_field(make_basis(ε; kwargs...); tol)\n",
    "    dipole(scfres.basis, scfres.ρ)\n",
    "end;"
   ],
   "metadata": {},
   "execution_count": 1
  },
  {
   "cell_type": "markdown",
   "source": [
    "With this in place we can compute the polarizability from finite differences\n",
    "(just like in the previous example):"
   ],
   "metadata": {}
  },
  {
   "outputs": [
    {
     "name": "stdout",
     "output_type": "stream",
     "text": [
      "n     Energy            log10(ΔE)   log10(Δρ)   Diag   Δtime\n",
      "---   ---------------   ---------   ---------   ----   ------\n",
      "  1   -2.770885094566                   -0.52    9.0         \n",
      "  2   -2.772148134110       -2.90       -1.32    1.0    105ms\n",
      "  3   -2.772170186930       -4.66       -2.43    1.0    106ms\n",
      "  4   -2.772170649240       -6.34       -3.15    1.0    122ms\n",
      "  5   -2.772170722798       -7.13       -4.40    2.0    122ms\n",
      "  6   -2.772170722927       -9.89       -4.63    1.0    133ms\n",
      "  7   -2.772170723013      -10.07       -5.50    1.0    113ms\n",
      "  8   -2.772170723014      -12.14       -5.57    2.0    130ms\n",
      "  9   -2.772170723015      -11.96       -6.90    1.0    126ms\n",
      " 10   -2.772170723015      -14.05       -6.83    2.0    140ms\n",
      " 11   -2.772170723015      -14.65       -7.40    1.0    134ms\n",
      " 12   -2.772170723015      -14.45       -8.00    2.0    132ms\n",
      "n     Energy            log10(ΔE)   log10(Δρ)   Diag   Δtime\n",
      "---   ---------------   ---------   ---------   ----   ------\n",
      "  1   -2.770756374408                   -0.52    9.0         \n",
      "  2   -2.772058933665       -2.89       -1.32    1.0    123ms\n",
      "  3   -2.772083021282       -4.62       -2.46    1.0    106ms\n",
      "  4   -2.772083333503       -6.51       -3.16    1.0    108ms\n",
      "  5   -2.772083417041       -7.08       -4.01    2.0    160ms\n",
      "  6   -2.772083417790       -9.13       -5.02    1.0    112ms\n",
      "  7   -2.772083417808      -10.73       -5.61    1.0    112ms\n",
      "  8   -2.772083417811      -11.64       -6.26    2.0    135ms\n",
      "  9   -2.772083417811      -13.34       -6.50    1.0    122ms\n",
      " 10   -2.772083417811      -14.12       -7.02    1.0    122ms\n",
      " 11   -2.772083417811      -14.10       -7.86    2.0    141ms\n",
      " 12   -2.772083417811   +  -13.94       -8.47    1.0    132ms\n"
     ]
    },
    {
     "output_type": "execute_result",
     "data": {
      "text/plain": "1.7735583557305457"
     },
     "metadata": {},
     "execution_count": 2
    }
   ],
   "cell_type": "code",
   "source": [
    "polarizability_fd = let\n",
    "    ε = 0.01\n",
    "    (compute_dipole(ε) - compute_dipole(0.0)) / ε\n",
    "end"
   ],
   "metadata": {},
   "execution_count": 2
  },
  {
   "cell_type": "markdown",
   "source": [
    "We do the same thing using automatic differentiation. Under the hood this uses\n",
    "custom rules to implicitly differentiate through the self-consistent\n",
    "field fixed-point problem."
   ],
   "metadata": {}
  },
  {
   "outputs": [
    {
     "name": "stdout",
     "output_type": "stream",
     "text": [
      "n     Energy            log10(ΔE)   log10(Δρ)   Diag   Δtime\n",
      "---   ---------------   ---------   ---------   ----   ------\n",
      "  1   -2.770730642013                   -0.53    9.0         \n",
      "  2   -2.772053325527       -2.88       -1.30    1.0    140ms\n",
      "  3   -2.772082912936       -4.53       -2.64    1.0    106ms\n",
      "  4   -2.772083416557       -6.30       -4.11    2.0    122ms\n",
      "  5   -2.772083417787       -8.91       -4.87    2.0    163ms\n",
      "  6   -2.772083417809      -10.65       -5.78    1.0    110ms\n",
      "  7   -2.772083417811      -11.92       -6.35    2.0    126ms\n",
      "  8   -2.772083417811      -13.65       -6.84    1.0    134ms\n",
      "  9   -2.772083417811      -14.88       -8.20    2.0    128ms\n",
      "\n",
      "Polarizability via ForwardDiff:       1.772534973943165\n",
      "Polarizability via finite difference: 1.7735583557305457\n"
     ]
    }
   ],
   "cell_type": "code",
   "source": [
    "polarizability = ForwardDiff.derivative(compute_dipole, 0.0)\n",
    "println()\n",
    "println(\"Polarizability via ForwardDiff:       $polarizability\")\n",
    "println(\"Polarizability via finite difference: $polarizability_fd\")"
   ],
   "metadata": {},
   "execution_count": 3
  }
 ],
 "nbformat_minor": 3,
 "metadata": {
  "language_info": {
   "file_extension": ".jl",
   "mimetype": "application/julia",
   "name": "julia",
   "version": "1.9.3"
  },
  "kernelspec": {
   "name": "julia-1.9",
   "display_name": "Julia 1.9.3",
   "language": "julia"
  }
 },
 "nbformat": 4
}
