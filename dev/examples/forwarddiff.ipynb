{
 "cells": [
  {
   "cell_type": "markdown",
   "source": [
    "# Polarizability using automatic differentiation\n",
    "\n",
    "Simple example for computing properties using (forward-mode)\n",
    "automatic differentiation.\n",
    "For a more classical approach and more details about computing polarizabilities,\n",
    "see Polarizability by linear response."
   ],
   "metadata": {}
  },
  {
   "outputs": [],
   "cell_type": "code",
   "source": [
    "using DFTK\n",
    "using LinearAlgebra\n",
    "using ForwardDiff\n",
    "\n",
    "# Construct PlaneWaveBasis given a particular electric field strength\n",
    "# Again we take the example of a Helium atom.\n",
    "function make_basis(ε::T; a=10., Ecut=30) where {T}\n",
    "    lattice=T(a) * I(3)  # lattice is a cube of $a$ Bohrs\n",
    "    # Helium at the center of the box\n",
    "    atoms     = [ElementPsp(:He, psp=load_psp(\"hgh/lda/He-q2\"))]\n",
    "    positions = [[1/2, 1/2, 1/2]]\n",
    "\n",
    "    model = model_DFT(lattice, atoms, positions, [:lda_x, :lda_c_vwn];\n",
    "                      extra_terms=[ExternalFromReal(r -> -ε * (r[1] - a/2))],\n",
    "                      symmetries=false)\n",
    "    PlaneWaveBasis(model; Ecut, kgrid=[1, 1, 1])  # No k-point sampling on isolated system\n",
    "end\n",
    "\n",
    "# dipole moment of a given density (assuming the current geometry)\n",
    "function dipole(basis, ρ)\n",
    "    @assert isdiag(basis.model.lattice)\n",
    "    a  = basis.model.lattice[1, 1]\n",
    "    rr = [a * (r[1] - 1/2) for r in r_vectors(basis)]\n",
    "    sum(rr .* ρ) * basis.dvol\n",
    "end\n",
    "\n",
    "# Function to compute the dipole for a given field strength\n",
    "function compute_dipole(ε; tol=1e-8, kwargs...)\n",
    "    scfres = self_consistent_field(make_basis(ε; kwargs...); tol)\n",
    "    dipole(scfres.basis, scfres.ρ)\n",
    "end;"
   ],
   "metadata": {},
   "execution_count": 1
  },
  {
   "cell_type": "markdown",
   "source": [
    "With this in place we can compute the polarizability from finite differences\n",
    "(just like in the previous example):"
   ],
   "metadata": {}
  },
  {
   "outputs": [
    {
     "name": "stdout",
     "output_type": "stream",
     "text": [
      "n     Energy            log10(ΔE)   log10(Δρ)   Diag   Δtime\n",
      "---   ---------------   ---------   ---------   ----   ------\n",
      "  1   -2.770866520021                   -0.53    8.0         \n",
      "  2   -2.772142170334       -2.89       -1.31    1.0    154ms\n",
      "  3   -2.772170188308       -4.55       -2.61    1.0    165ms\n",
      "  4   -2.772170718029       -6.28       -3.79    2.0    216ms\n",
      "  5   -2.772170722453       -8.35       -4.18    2.0    180ms\n",
      "  6   -2.772170723007       -9.26       -5.61    1.0    199ms\n",
      "  7   -2.772170723015      -11.10       -5.97    2.0    186ms\n",
      "  8   -2.772170723015      -12.90       -6.61    1.0    171ms\n",
      "  9   -2.772170723015      -13.45       -7.19    2.0    214ms\n",
      " 10   -2.772170723015   +  -14.12       -7.75    1.0    181ms\n",
      " 11   -2.772170723015      -14.03       -8.73    2.0    213ms\n",
      "n     Energy            log10(ΔE)   log10(Δρ)   Diag   Δtime\n",
      "---   ---------------   ---------   ---------   ----   ------\n",
      "  1   -2.770744352318                   -0.52    8.0         \n",
      "  2   -2.772054340441       -2.88       -1.32    1.0    154ms\n",
      "  3   -2.772082910251       -4.54       -2.51    1.0    181ms\n",
      "  4   -2.772083351453       -6.36       -3.34    1.0    157ms\n",
      "  5   -2.772083415939       -7.19       -3.88    2.0    179ms\n",
      "  6   -2.772083417759       -8.74       -5.35    1.0    202ms\n",
      "  7   -2.772083417805      -10.34       -5.17    3.0    204ms\n",
      "  8   -2.772083417811      -11.29       -5.90    1.0    180ms\n",
      "  9   -2.772083417811      -13.13       -7.13    1.0    197ms\n",
      " 10   -2.772083417811      -13.99       -7.12    2.0    201ms\n",
      " 11   -2.772083417811      -13.76       -7.41    1.0    184ms\n",
      " 12   -2.772083417811   +  -13.86       -8.40    1.0    183ms\n"
     ]
    },
    {
     "output_type": "execute_result",
     "data": {
      "text/plain": "1.7735580351577616"
     },
     "metadata": {},
     "execution_count": 2
    }
   ],
   "cell_type": "code",
   "source": [
    "polarizability_fd = let\n",
    "    ε = 0.01\n",
    "    (compute_dipole(ε) - compute_dipole(0.0)) / ε\n",
    "end"
   ],
   "metadata": {},
   "execution_count": 2
  },
  {
   "cell_type": "markdown",
   "source": [
    "We do the same thing using automatic differentiation. Under the hood this uses\n",
    "custom rules to implicitly differentiate through the self-consistent\n",
    "field fixed-point problem."
   ],
   "metadata": {}
  },
  {
   "outputs": [
    {
     "name": "stdout",
     "output_type": "stream",
     "text": [
      "n     Energy            log10(ΔE)   log10(Δρ)   Diag   Δtime\n",
      "---   ---------------   ---------   ---------   ----   ------\n",
      "  1   -2.770725173360                   -0.53    8.0         \n",
      "  2   -2.772043844119       -2.88       -1.30    1.0    153ms\n",
      "  3   -2.772081863915       -4.42       -2.65    1.0    214ms\n",
      "  4   -2.772083414576       -5.81       -3.98    2.0    177ms\n",
      "  5   -2.772083417747       -8.50       -4.65    2.0    243ms\n",
      "  6   -2.772083417807      -10.22       -5.67    1.0    162ms\n",
      "  7   -2.772083417811      -11.51       -6.26    2.0    184ms\n",
      "  8   -2.772083417811      -13.34       -7.27    2.0    220ms\n",
      "  9   -2.772083417811      -15.35       -8.02    2.0    201ms\n",
      "\n",
      "Polarizability via ForwardDiff:       1.772534975268487\n",
      "Polarizability via finite difference: 1.7735580351577616\n"
     ]
    }
   ],
   "cell_type": "code",
   "source": [
    "polarizability = ForwardDiff.derivative(compute_dipole, 0.0)\n",
    "println()\n",
    "println(\"Polarizability via ForwardDiff:       $polarizability\")\n",
    "println(\"Polarizability via finite difference: $polarizability_fd\")"
   ],
   "metadata": {},
   "execution_count": 3
  }
 ],
 "nbformat_minor": 3,
 "metadata": {
  "language_info": {
   "file_extension": ".jl",
   "mimetype": "application/julia",
   "name": "julia",
   "version": "1.9.3"
  },
  "kernelspec": {
   "name": "julia-1.9",
   "display_name": "Julia 1.9.3",
   "language": "julia"
  }
 },
 "nbformat": 4
}
