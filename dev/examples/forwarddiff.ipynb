{
 "cells": [
  {
   "cell_type": "markdown",
   "source": [
    "# Polarizability using automatic differentiation\n",
    "\n",
    "Simple example for computing properties using (forward-mode)\n",
    "automatic differentiation.\n",
    "For a more classical approach and more details about computing polarizabilities,\n",
    "see Polarizability by linear response."
   ],
   "metadata": {}
  },
  {
   "outputs": [],
   "cell_type": "code",
   "source": [
    "using DFTK\n",
    "using LinearAlgebra\n",
    "using ForwardDiff\n",
    "\n",
    "# Construct PlaneWaveBasis given a particular electric field strength\n",
    "# Again we take the example of a Helium atom.\n",
    "function make_basis(ε::T; a=10., Ecut=30) where {T}\n",
    "    lattice=T(a) * I(3)  # lattice is a cube of $a$ Bohrs\n",
    "    # Helium at the center of the box\n",
    "    atoms     = [ElementPsp(:He, psp=load_psp(\"hgh/lda/He-q2\"))]\n",
    "    positions = [[1/2, 1/2, 1/2]]\n",
    "\n",
    "    model = model_DFT(lattice, atoms, positions, [:lda_x, :lda_c_vwn];\n",
    "                      extra_terms=[ExternalFromReal(r -> -ε * (r[1] - a/2))],\n",
    "                      symmetries=false)\n",
    "    PlaneWaveBasis(model; Ecut, kgrid=[1, 1, 1])  # No k-point sampling on isolated system\n",
    "end\n",
    "\n",
    "# dipole moment of a given density (assuming the current geometry)\n",
    "function dipole(basis, ρ)\n",
    "    @assert isdiag(basis.model.lattice)\n",
    "    a  = basis.model.lattice[1, 1]\n",
    "    rr = [a * (r[1] - 1/2) for r in r_vectors(basis)]\n",
    "    sum(rr .* ρ) * basis.dvol\n",
    "end\n",
    "\n",
    "# Function to compute the dipole for a given field strength\n",
    "function compute_dipole(ε; tol=1e-8, kwargs...)\n",
    "    scfres = self_consistent_field(make_basis(ε; kwargs...); tol)\n",
    "    dipole(scfres.basis, scfres.ρ)\n",
    "end;"
   ],
   "metadata": {},
   "execution_count": 1
  },
  {
   "cell_type": "markdown",
   "source": [
    "With this in place we can compute the polarizability from finite differences\n",
    "(just like in the previous example):"
   ],
   "metadata": {}
  },
  {
   "outputs": [
    {
     "name": "stdout",
     "output_type": "stream",
     "text": [
      "n     Energy            log10(ΔE)   log10(Δρ)   Diag   Δtime\n",
      "---   ---------------   ---------   ---------   ----   ------\n",
      "  1   -2.770719044143                   -0.53    9.0         \n",
      "  2   -2.772137951101       -2.85       -1.29    1.0    107ms\n",
      "  3   -2.772169823260       -4.50       -2.70    1.0    137ms\n",
      "  4   -2.772170716032       -6.05       -3.66    2.0    126ms\n",
      "  5   -2.772170722016       -8.22       -4.04    2.0    129ms\n",
      "  6   -2.772170722991       -9.01       -5.33    1.0    145ms\n",
      "  7   -2.772170723014      -10.63       -5.58    2.0    132ms\n",
      "  8   -2.772170723015      -12.06       -6.35    2.0    142ms\n",
      "  9   -2.772170723015      -13.78       -6.79    1.0    129ms\n",
      " 10   -2.772170723015   +  -14.24       -8.07    1.0    133ms\n",
      "n     Energy            log10(ΔE)   log10(Δρ)   Diag   Δtime\n",
      "---   ---------------   ---------   ---------   ----   ------\n",
      "  1   -2.770679355104                   -0.53    9.0         \n",
      "  2   -2.772052507549       -2.86       -1.31    1.0    137ms\n",
      "  3   -2.772082934242       -4.52       -2.61    1.0    112ms\n",
      "  4   -2.772083415099       -6.32       -3.98    2.0    176ms\n",
      "  5   -2.772083417547       -8.61       -4.32    2.0    125ms\n",
      "  6   -2.772083417803       -9.59       -5.58    1.0    113ms\n",
      "  7   -2.772083417811      -11.15       -6.03    2.0    143ms\n",
      "  8   -2.772083417811      -13.17       -6.55    2.0    131ms\n",
      "  9   -2.772083417811      -14.45       -8.19    1.0    140ms\n"
     ]
    },
    {
     "output_type": "execute_result",
     "data": {
      "text/plain": "1.7735578306432633"
     },
     "metadata": {},
     "execution_count": 2
    }
   ],
   "cell_type": "code",
   "source": [
    "polarizability_fd = let\n",
    "    ε = 0.01\n",
    "    (compute_dipole(ε) - compute_dipole(0.0)) / ε\n",
    "end"
   ],
   "metadata": {},
   "execution_count": 2
  },
  {
   "cell_type": "markdown",
   "source": [
    "We do the same thing using automatic differentiation. Under the hood this uses\n",
    "custom rules to implicitly differentiate through the self-consistent\n",
    "field fixed-point problem."
   ],
   "metadata": {}
  },
  {
   "outputs": [
    {
     "name": "stdout",
     "output_type": "stream",
     "text": [
      "n     Energy            log10(ΔE)   log10(Δρ)   Diag   Δtime\n",
      "---   ---------------   ---------   ---------   ----   ------\n",
      "  1   -2.770794304900                   -0.52    9.0         \n",
      "  2   -2.772061539767       -2.90       -1.32    1.0    158ms\n",
      "  3   -2.772083052267       -4.67       -2.45    1.0    107ms\n",
      "  4   -2.772083345588       -6.53       -3.15    1.0    115ms\n",
      "  5   -2.772083417563       -7.14       -4.26    2.0    163ms\n",
      "  6   -2.772083417704       -9.85       -4.43    1.0    115ms\n",
      "  7   -2.772083417808       -9.98       -5.56    1.0    137ms\n",
      "  8   -2.772083417811      -11.57       -5.85    2.0    136ms\n",
      "  9   -2.772083417811   +  -14.40       -6.20    1.0    132ms\n",
      " 10   -2.772083417811      -13.55       -7.22    1.0    130ms\n",
      " 11   -2.772083417811   +  -14.40       -7.57    1.0    133ms\n",
      " 12   -2.772083417811   +  -15.35       -7.93    1.0    142ms\n",
      " 13   -2.772083417811   +  -14.65       -9.01    2.0    150ms\n",
      "\n",
      "Polarizability via ForwardDiff:       1.7725349691456143\n",
      "Polarizability via finite difference: 1.7735578306432633\n"
     ]
    }
   ],
   "cell_type": "code",
   "source": [
    "polarizability = ForwardDiff.derivative(compute_dipole, 0.0)\n",
    "println()\n",
    "println(\"Polarizability via ForwardDiff:       $polarizability\")\n",
    "println(\"Polarizability via finite difference: $polarizability_fd\")"
   ],
   "metadata": {},
   "execution_count": 3
  }
 ],
 "nbformat_minor": 3,
 "metadata": {
  "language_info": {
   "file_extension": ".jl",
   "mimetype": "application/julia",
   "name": "julia",
   "version": "1.9.3"
  },
  "kernelspec": {
   "name": "julia-1.9",
   "display_name": "Julia 1.9.3",
   "language": "julia"
  }
 },
 "nbformat": 4
}
