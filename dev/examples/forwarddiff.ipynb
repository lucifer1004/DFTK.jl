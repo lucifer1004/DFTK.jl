{
 "cells": [
  {
   "cell_type": "markdown",
   "source": [
    "# Polarizability using automatic differentiation\n",
    "\n",
    "Simple example for computing properties using (forward-mode)\n",
    "automatic differentiation.\n",
    "For a more classical approach and more details about computing polarizabilities,\n",
    "see Polarizability by linear response."
   ],
   "metadata": {}
  },
  {
   "outputs": [],
   "cell_type": "code",
   "source": [
    "using DFTK\n",
    "using LinearAlgebra\n",
    "using ForwardDiff\n",
    "\n",
    "# Construct PlaneWaveBasis given a particular electric field strength\n",
    "# Again we take the example of a Helium atom.\n",
    "function make_basis(ε::T; a=10., Ecut=30) where {T}\n",
    "    lattice=T(a) * I(3)  # lattice is a cube of $a$ Bohrs\n",
    "    # Helium at the center of the box\n",
    "    atoms     = [ElementPsp(:He, psp=load_psp(\"hgh/lda/He-q2\"))]\n",
    "    positions = [[1/2, 1/2, 1/2]]\n",
    "\n",
    "    model = model_DFT(lattice, atoms, positions, [:lda_x, :lda_c_vwn];\n",
    "                      extra_terms=[ExternalFromReal(r -> -ε * (r[1] - a/2))],\n",
    "                      symmetries=false)\n",
    "    PlaneWaveBasis(model; Ecut, kgrid=[1, 1, 1])  # No k-point sampling on isolated system\n",
    "end\n",
    "\n",
    "# dipole moment of a given density (assuming the current geometry)\n",
    "function dipole(basis, ρ)\n",
    "    @assert isdiag(basis.model.lattice)\n",
    "    a  = basis.model.lattice[1, 1]\n",
    "    rr = [a * (r[1] - 1/2) for r in r_vectors(basis)]\n",
    "    sum(rr .* ρ) * basis.dvol\n",
    "end\n",
    "\n",
    "# Function to compute the dipole for a given field strength\n",
    "function compute_dipole(ε; tol=1e-8, kwargs...)\n",
    "    scfres = self_consistent_field(make_basis(ε; kwargs...); tol)\n",
    "    dipole(scfres.basis, scfres.ρ)\n",
    "end;"
   ],
   "metadata": {},
   "execution_count": 1
  },
  {
   "cell_type": "markdown",
   "source": [
    "With this in place we can compute the polarizability from finite differences\n",
    "(just like in the previous example):"
   ],
   "metadata": {}
  },
  {
   "outputs": [
    {
     "name": "stdout",
     "output_type": "stream",
     "text": [
      "n     Energy            log10(ΔE)   log10(Δρ)   Diag   Δtime\n",
      "---   ---------------   ---------   ---------   ----   ------\n",
      "  1   -2.770847261155                   -0.52    9.0         \n",
      "  2   -2.772147418672       -2.89       -1.32    1.0    142ms\n",
      "  3   -2.772170246383       -4.64       -2.44    1.0    107ms\n",
      "  4   -2.772170642916       -6.40       -3.13    1.0    133ms\n",
      "  5   -2.772170722791       -7.10       -4.26    2.0    140ms\n",
      "  6   -2.772170722871      -10.10       -4.37    1.0    112ms\n",
      "  7   -2.772170723007       -9.87       -5.01    1.0    127ms\n",
      "  8   -2.772170723013      -11.24       -5.29    1.0    116ms\n",
      "  9   -2.772170723015      -11.64       -6.24    1.0    124ms\n",
      " 10   -2.772170723015      -12.95       -6.49    2.0    139ms\n",
      " 11   -2.772170723015      -14.03       -6.84    1.0    127ms\n",
      " 12   -2.772170723015      -13.97       -7.93    1.0    129ms\n",
      " 13   -2.772170723015   +  -14.40       -8.24    2.0    145ms\n",
      "n     Energy            log10(ΔE)   log10(Δρ)   Diag   Δtime\n",
      "---   ---------------   ---------   ---------   ----   ------\n",
      "  1   -2.770754716205                   -0.52    9.0         \n",
      "  2   -2.772059268360       -2.88       -1.32    1.0    131ms\n",
      "  3   -2.772083073512       -4.62       -2.45    1.0    106ms\n",
      "  4   -2.772083330237       -6.59       -3.13    1.0    119ms\n",
      "  5   -2.772083415489       -7.07       -3.85    2.0    146ms\n",
      "  6   -2.772083417722       -8.65       -4.84    1.0    111ms\n",
      "  7   -2.772083417810      -10.06       -5.68    2.0    142ms\n",
      "  8   -2.772083417810      -12.86       -5.79    2.0    130ms\n",
      "  9   -2.772083417811      -12.41       -7.30    1.0    124ms\n",
      " 10   -2.772083417811      -13.89       -7.58    2.0    148ms\n",
      " 11   -2.772083417811      -14.18       -8.53    2.0    132ms\n"
     ]
    },
    {
     "output_type": "execute_result",
     "data": {
      "text/plain": "1.7735581147246593"
     },
     "metadata": {},
     "execution_count": 2
    }
   ],
   "cell_type": "code",
   "source": [
    "polarizability_fd = let\n",
    "    ε = 0.01\n",
    "    (compute_dipole(ε) - compute_dipole(0.0)) / ε\n",
    "end"
   ],
   "metadata": {},
   "execution_count": 2
  },
  {
   "cell_type": "markdown",
   "source": [
    "We do the same thing using automatic differentiation. Under the hood this uses\n",
    "custom rules to implicitly differentiate through the self-consistent\n",
    "field fixed-point problem."
   ],
   "metadata": {}
  },
  {
   "outputs": [
    {
     "name": "stdout",
     "output_type": "stream",
     "text": [
      "n     Energy            log10(ΔE)   log10(Δρ)   Diag   Δtime\n",
      "---   ---------------   ---------   ---------   ----   ------\n",
      "  1   -2.770702033160                   -0.53    9.0         \n",
      "  2   -2.772057415916       -2.87       -1.29    1.0    105ms\n",
      "  3   -2.772082921536       -4.59       -2.70    1.0    140ms\n",
      "  4   -2.772083416887       -6.31       -4.18    2.0    123ms\n",
      "  5   -2.772083417788       -9.05       -4.86    2.0    167ms\n",
      "  6   -2.772083417810      -10.66       -5.87    1.0    112ms\n",
      "  7   -2.772083417811      -11.97       -6.40    2.0    128ms\n",
      "  8   -2.772083417811      -13.69       -6.89    1.0    144ms\n",
      "  9   -2.772083417811   +  -13.78       -8.05    1.0    116ms\n",
      "\n",
      "Polarizability via ForwardDiff:       1.7725349954551168\n",
      "Polarizability via finite difference: 1.7735581147246593\n"
     ]
    }
   ],
   "cell_type": "code",
   "source": [
    "polarizability = ForwardDiff.derivative(compute_dipole, 0.0)\n",
    "println()\n",
    "println(\"Polarizability via ForwardDiff:       $polarizability\")\n",
    "println(\"Polarizability via finite difference: $polarizability_fd\")"
   ],
   "metadata": {},
   "execution_count": 3
  }
 ],
 "nbformat_minor": 3,
 "metadata": {
  "language_info": {
   "file_extension": ".jl",
   "mimetype": "application/julia",
   "name": "julia",
   "version": "1.9.4"
  },
  "kernelspec": {
   "name": "julia-1.9",
   "display_name": "Julia 1.9.4",
   "language": "julia"
  }
 },
 "nbformat": 4
}
