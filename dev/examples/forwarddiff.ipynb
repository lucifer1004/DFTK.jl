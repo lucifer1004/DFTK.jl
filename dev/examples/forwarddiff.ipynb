{
 "cells": [
  {
   "cell_type": "markdown",
   "source": [
    "# Polarizability using automatic differentiation\n",
    "\n",
    "Simple example for computing properties using (forward-mode)\n",
    "automatic differentiation.\n",
    "For a more classical approach and more details about computing polarizabilities,\n",
    "see Polarizability by linear response."
   ],
   "metadata": {}
  },
  {
   "outputs": [],
   "cell_type": "code",
   "source": [
    "using DFTK\n",
    "using LinearAlgebra\n",
    "using ForwardDiff\n",
    "\n",
    "# Construct PlaneWaveBasis given a particular electric field strength\n",
    "# Again we take the example of a Helium atom.\n",
    "function make_basis(ε::T; a=10., Ecut=30) where {T}\n",
    "    lattice=T(a) * I(3)  # lattice is a cube of $a$ Bohrs\n",
    "    # Helium at the center of the box\n",
    "    atoms     = [ElementPsp(:He, psp=load_psp(\"hgh/lda/He-q2\"))]\n",
    "    positions = [[1/2, 1/2, 1/2]]\n",
    "\n",
    "    model = model_DFT(lattice, atoms, positions, [:lda_x, :lda_c_vwn];\n",
    "                      extra_terms=[ExternalFromReal(r -> -ε * (r[1] - a/2))],\n",
    "                      symmetries=false)\n",
    "    PlaneWaveBasis(model; Ecut, kgrid=[1, 1, 1])  # No k-point sampling on isolated system\n",
    "end\n",
    "\n",
    "# dipole moment of a given density (assuming the current geometry)\n",
    "function dipole(basis, ρ)\n",
    "    @assert isdiag(basis.model.lattice)\n",
    "    a  = basis.model.lattice[1, 1]\n",
    "    rr = [a * (r[1] - 1/2) for r in r_vectors(basis)]\n",
    "    sum(rr .* ρ) * basis.dvol\n",
    "end\n",
    "\n",
    "# Function to compute the dipole for a given field strength\n",
    "function compute_dipole(ε; tol=1e-8, kwargs...)\n",
    "    scfres = self_consistent_field(make_basis(ε; kwargs...); tol)\n",
    "    dipole(scfres.basis, scfres.ρ)\n",
    "end;"
   ],
   "metadata": {},
   "execution_count": 1
  },
  {
   "cell_type": "markdown",
   "source": [
    "With this in place we can compute the polarizability from finite differences\n",
    "(just like in the previous example):"
   ],
   "metadata": {}
  },
  {
   "outputs": [
    {
     "name": "stdout",
     "output_type": "stream",
     "text": [
      "n     Energy            log10(ΔE)   log10(Δρ)   Diag   Δtime\n",
      "---   ---------------   ---------   ---------   ----   ------\n",
      "  1   -2.770771369466                   -0.53    9.0         \n",
      "  2   -2.772138447247       -2.86       -1.31    1.0    138ms\n",
      "  3   -2.772169997423       -4.50       -2.61    1.0    158ms\n",
      "  4   -2.772170720890       -6.14       -4.07    2.0    159ms\n",
      "  5   -2.772170722941       -8.69       -4.56    2.0    176ms\n",
      "  6   -2.772170723013      -10.14       -5.44    1.0    171ms\n",
      "  7   -2.772170723015      -11.80       -6.54    1.0    147ms\n",
      "  8   -2.772170723015      -13.21       -7.00    2.0    185ms\n",
      "  9   -2.772170723015      -14.45       -7.54    1.0    150ms\n",
      " 10   -2.772170723015      -15.05       -8.70    1.0    160ms\n",
      "n     Energy            log10(ΔE)   log10(Δρ)   Diag   Δtime\n",
      "---   ---------------   ---------   ---------   ----   ------\n",
      "  1   -2.770517194744                   -0.53    8.0         \n",
      "  2   -2.772050811613       -2.81       -1.29    1.0    167ms\n",
      "  3   -2.772082346417       -4.50       -2.71    1.0    139ms\n",
      "  4   -2.772083414918       -5.97       -3.89    2.0    165ms\n",
      "  5   -2.772083417713       -8.55       -4.51    2.0    177ms\n",
      "  6   -2.772083417806      -10.03       -5.45    1.0    144ms\n",
      "  7   -2.772083417811      -11.35       -6.22    2.0    180ms\n",
      "  8   -2.772083417811      -13.20       -6.76    2.0    170ms\n",
      "  9   -2.772083417811   +  -14.51       -7.44    1.0    149ms\n",
      " 10   -2.772083417811      -14.05       -8.36    1.0    173ms\n"
     ]
    },
    {
     "output_type": "execute_result",
     "data": {
      "text/plain": "1.7735581754443182"
     },
     "metadata": {},
     "execution_count": 2
    }
   ],
   "cell_type": "code",
   "source": [
    "polarizability_fd = let\n",
    "    ε = 0.01\n",
    "    (compute_dipole(ε) - compute_dipole(0.0)) / ε\n",
    "end"
   ],
   "metadata": {},
   "execution_count": 2
  },
  {
   "cell_type": "markdown",
   "source": [
    "We do the same thing using automatic differentiation. Under the hood this uses\n",
    "custom rules to implicitly differentiate through the self-consistent\n",
    "field fixed-point problem."
   ],
   "metadata": {}
  },
  {
   "outputs": [
    {
     "name": "stdout",
     "output_type": "stream",
     "text": [
      "n     Energy            log10(ΔE)   log10(Δρ)   Diag   Δtime\n",
      "---   ---------------   ---------   ---------   ----   ------\n",
      "  1   -2.770752838613                   -0.52    9.0         \n",
      "  2   -2.772058655404       -2.88       -1.32    1.0    198ms\n",
      "  3   -2.772083115191       -4.61       -2.46    1.0    140ms\n",
      "  4   -2.772083338422       -6.65       -3.15    1.0    162ms\n",
      "  5   -2.772083414867       -7.12       -3.79    2.0    192ms\n",
      "  6   -2.772083417654       -8.55       -4.60    1.0    147ms\n",
      "  7   -2.772083417808       -9.81       -5.24    2.0    185ms\n",
      "  8   -2.772083417810      -11.80       -5.75    1.0    149ms\n",
      "  9   -2.772083417811      -12.29       -6.24    2.0    177ms\n",
      " 10   -2.772083417811      -13.50       -7.52    1.0    170ms\n",
      " 11   -2.772083417811      -14.35       -7.91    2.0    170ms\n",
      " 12   -2.772083417811   +  -13.99       -8.61    1.0    179ms\n",
      "\n",
      "Polarizability via ForwardDiff:       1.7725349655240454\n",
      "Polarizability via finite difference: 1.7735581754443182\n"
     ]
    }
   ],
   "cell_type": "code",
   "source": [
    "polarizability = ForwardDiff.derivative(compute_dipole, 0.0)\n",
    "println()\n",
    "println(\"Polarizability via ForwardDiff:       $polarizability\")\n",
    "println(\"Polarizability via finite difference: $polarizability_fd\")"
   ],
   "metadata": {},
   "execution_count": 3
  }
 ],
 "nbformat_minor": 3,
 "metadata": {
  "language_info": {
   "file_extension": ".jl",
   "mimetype": "application/julia",
   "name": "julia",
   "version": "1.9.3"
  },
  "kernelspec": {
   "name": "julia-1.9",
   "display_name": "Julia 1.9.3",
   "language": "julia"
  }
 },
 "nbformat": 4
}
